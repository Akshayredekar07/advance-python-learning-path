{
 "cells": [
  {
   "cell_type": "code",
   "execution_count": null,
   "id": "94f64208-ef11-471d-9e4d-f8689c7733bd",
   "metadata": {},
   "outputs": [],
   "source": [
    "## Relational operator"
   ]
  },
  {
   "cell_type": "code",
   "execution_count": 4,
   "id": "968d28a3-ab10-4ee7-a24b-e479c16d50f4",
   "metadata": {},
   "outputs": [
    {
     "name": "stdout",
     "output_type": "stream",
     "text": [
      "'<' not supported between instances of 'str' and 'int'\n",
      "'<' not supported between instances of 'str' and 'int'\n"
     ]
    }
   ],
   "source": [
    "try:\n",
    "    'durga'<10\n",
    "except Exception as e:\n",
    "    print(str(e))\n",
    "\n",
    "\n",
    "try:\n",
    "    'durga' < 10\n",
    "except TypeError as e:\n",
    "    print(str(e))\n",
    "\n"
   ]
  },
  {
   "cell_type": "code",
   "execution_count": 6,
   "id": "267338d7-22a2-4262-a8b9-c1ec8118af0d",
   "metadata": {},
   "outputs": [
    {
     "name": "stdout",
     "output_type": "stream",
     "text": [
      "97\n"
     ]
    }
   ],
   "source": [
    "try:\n",
    "    print(ord('a'))\n",
    "except TypeError as e:\n",
    "    print(str(e))\n"
   ]
  },
  {
   "cell_type": "code",
   "execution_count": 15,
   "id": "3eae1454-63b6-432f-ae6d-cd4f33679051",
   "metadata": {},
   "outputs": [
    {
     "name": "stdout",
     "output_type": "stream",
     "text": [
      "condition is true\n",
      "True\n"
     ]
    }
   ],
   "source": [
    "try:\n",
    "    if 'a' > '297':\n",
    "        print(\"condition is true\")\n",
    "except TypeError as e:\n",
    "    print(str(e))\n",
    "\n",
    "\n",
    "try:\n",
    "    print('roja' > 'ravi')\n",
    "except TypeError as e:\n",
    "    print(str(e))\n",
    "\n",
    "\n"
   ]
  },
  {
   "cell_type": "code",
   "execution_count": 19,
   "id": "7aaf3e44-a2be-4c4b-b923-9fad7bfe0614",
   "metadata": {},
   "outputs": [
    {
     "name": "stdout",
     "output_type": "stream",
     "text": [
      "False\n",
      "False\n"
     ]
    }
   ],
   "source": [
    "a=10\n",
    "b=20\n",
    "print(a>b)\n",
    "print('a=10'>'b=20')"
   ]
  },
  {
   "cell_type": "code",
   "execution_count": 20,
   "id": "d0e3e021-f835-4150-bd6e-cba9b4a935b2",
   "metadata": {},
   "outputs": [
    {
     "name": "stdout",
     "output_type": "stream",
     "text": [
      "False\n"
     ]
    }
   ],
   "source": [
    "print('aaa'>'aab')"
   ]
  },
  {
   "cell_type": "code",
   "execution_count": 23,
   "id": "b8e614c6-07ac-4236-98fa-678f574914a3",
   "metadata": {},
   "outputs": [
    {
     "name": "stdout",
     "output_type": "stream",
     "text": [
      "True\n",
      "True\n",
      "False\n"
     ]
    }
   ],
   "source": [
    "print(10<20)\n",
    "print(10<20<30)\n",
    "print(10<20<30<40>50)"
   ]
  },
  {
   "cell_type": "code",
   "execution_count": 25,
   "id": "24ce5c5a-4e13-4f47-b1f9-5eff08a218e7",
   "metadata": {},
   "outputs": [],
   "source": [
    "# Chaning of relational operators\n",
    "# If all comparisons return  the true then the result will be true\n",
    "# If atleast one comparison then returns flase then the reslut is flase"
   ]
  },
  {
   "cell_type": "code",
   "execution_count": 26,
   "id": "3e5f48c4-744f-4ae3-8099-d5c0ae2d03ce",
   "metadata": {},
   "outputs": [],
   "source": [
    "## Equality operators"
   ]
  },
  {
   "cell_type": "code",
   "execution_count": 27,
   "id": "19f5ec97-046a-4ace-b071-471642aa7650",
   "metadata": {},
   "outputs": [],
   "source": [
    "# == and !=\n",
    "# Always meant for content comparison"
   ]
  },
  {
   "cell_type": "code",
   "execution_count": 32,
   "id": "b2bd860b-6b41-4d8d-88f4-2176ce891b0f",
   "metadata": {},
   "outputs": [
    {
     "name": "stdout",
     "output_type": "stream",
     "text": [
      "False\n"
     ]
    }
   ],
   "source": [
    "print(10==20)"
   ]
  },
  {
   "cell_type": "code",
   "execution_count": 34,
   "id": "9236b0a9-7e25-4383-a3f1-7561be73358d",
   "metadata": {},
   "outputs": [
    {
     "name": "stdout",
     "output_type": "stream",
     "text": [
      "False\n"
     ]
    }
   ],
   "source": [
    "print('durga'==10)"
   ]
  },
  {
   "cell_type": "code",
   "execution_count": 35,
   "id": "1bb012d1-c3db-46b9-84a6-ceccacfb38f1",
   "metadata": {},
   "outputs": [
    {
     "name": "stdout",
     "output_type": "stream",
     "text": [
      "False\n",
      "True\n"
     ]
    }
   ],
   "source": [
    "print(10 == '10')  # False\n",
    "print(10 == 10.0)  # True"
   ]
  },
  {
   "cell_type": "code",
   "execution_count": 37,
   "id": "a9124303-42ce-4d4a-bd4a-92c1fc774bf3",
   "metadata": {},
   "outputs": [
    {
     "name": "stdout",
     "output_type": "stream",
     "text": [
      "False\n"
     ]
    }
   ],
   "source": [
    "print(0.1 + 0.2 == 0.3)  # False\n",
    "#Floating-point numbers can have precision issues, making equality comparisons tricky."
   ]
  },
  {
   "cell_type": "code",
   "execution_count": 38,
   "id": "5e5d80e5-e8f1-4b7e-8602-127736d6ec5c",
   "metadata": {},
   "outputs": [
    {
     "name": "stdout",
     "output_type": "stream",
     "text": [
      "True\n"
     ]
    }
   ],
   "source": [
    "# Objects of custom classes can override the __eq__ method to define what equality means.\n",
    "class MyClass:\n",
    "    def __init__(self, value):\n",
    "        self.value = value\n",
    "    def __eq__(self, other):\n",
    "        return self.value == other.value\n",
    "\n",
    "obj1 = MyClass(10)\n",
    "obj2 = MyClass(10)\n",
    "print(obj1 == obj2)  # True"
   ]
  },
  {
   "cell_type": "code",
   "execution_count": 39,
   "id": "4adabe13-4335-4804-8c5f-9bdaae1b81d4",
   "metadata": {},
   "outputs": [
    {
     "name": "stdout",
     "output_type": "stream",
     "text": [
      "True\n",
      "True\n",
      "False\n"
     ]
    }
   ],
   "source": [
    "# Lists are compared element-wise, and nested structures are compared recursively.\n",
    "print([1, 2, 3] == [1, 2, 3])  # True\n",
    "print([1, 2, [3, 4]] == [1, 2, [3, 4]])  # True\n",
    "print([1, 2, [3, 4]] == [1, 2, [4, 3]])  # False"
   ]
  },
  {
   "cell_type": "code",
   "execution_count": 40,
   "id": "0f03deb2-4fb3-4ef5-9dda-7911ccb38796",
   "metadata": {},
   "outputs": [
    {
     "name": "stdout",
     "output_type": "stream",
     "text": [
      "True\n"
     ]
    }
   ],
   "source": [
    "print(True == 1.0)"
   ]
  },
  {
   "cell_type": "code",
   "execution_count": 41,
   "id": "152521df-9f7d-4010-bd30-7e17bfa0f8ed",
   "metadata": {},
   "outputs": [
    {
     "name": "stdout",
     "output_type": "stream",
     "text": [
      "True\n",
      "False\n",
      "False\n"
     ]
    }
   ],
   "source": [
    "#The None object is only equal to None.\n",
    "print(None == None)  # True\n",
    "print(None == 0)     # False\n",
    "print(None == False) # False"
   ]
  },
  {
   "cell_type": "code",
   "execution_count": 42,
   "id": "0ece4a71-18a6-4e73-98a0-ea43abb154bf",
   "metadata": {},
   "outputs": [
    {
     "name": "stdout",
     "output_type": "stream",
     "text": [
      "True\n",
      "True\n",
      "True\n"
     ]
    }
   ],
   "source": [
    "# Tuples and Other Collections:\n",
    "# Like lists, tuples and other collections (e.g., sets, dictionaries) are compared element-wise.\n",
    "print((1, 2) == (1, 2))  # True\n",
    "print({1, 2} == {2, 1})  # True\n",
    "print({'a': 1, 'b': 2} == {'b': 2, 'a': 1})  # True"
   ]
  },
  {
   "cell_type": "code",
   "execution_count": 43,
   "id": "3ce5f16b-5b36-4dca-9500-a118d0e39844",
   "metadata": {},
   "outputs": [
    {
     "name": "stdout",
     "output_type": "stream",
     "text": [
      "False\n"
     ]
    }
   ],
   "source": [
    "# NaN is a special floating-point value which is not equal to anything, including itself.\n",
    "import math\n",
    "print(math.nan == math.nan)  # False"
   ]
  },
  {
   "cell_type": "code",
   "execution_count": 44,
   "id": "a806412c-8a24-4e46-bbe3-bdb721e088aa",
   "metadata": {},
   "outputs": [],
   "source": [
    "# The comparisons are evaluated from left to right.\n",
    "# Each comparison is evaluated individually, and the results are combined.\n",
    "# If all comparisons return True, the entire expression evaluates to True.\n",
    "# If any comparison returns False, the entire expression evaluates to False.\n"
   ]
  },
  {
   "cell_type": "code",
   "execution_count": 45,
   "id": "88409dba-2011-4438-920a-1579e386e47f",
   "metadata": {},
   "outputs": [
    {
     "name": "stdout",
     "output_type": "stream",
     "text": [
      "True\n",
      "False\n"
     ]
    }
   ],
   "source": [
    "x = 5\n",
    "y = 10\n",
    "z = 15\n",
    "print(x < y <= z)  # True because 5 < 10 and 10 <= 15\n",
    "print(x < y > z)   # False because 5 < 10 is True but 10 > 15 is False\n"
   ]
  },
  {
   "cell_type": "code",
   "execution_count": 46,
   "id": "c9e65d2a-6eb6-40d1-99d6-e91e266c7f29",
   "metadata": {},
   "outputs": [],
   "source": [
    "# == operator for the content comparison \n",
    "# is operator for reference comparison(address comparison)"
   ]
  },
  {
   "cell_type": "code",
   "execution_count": 55,
   "id": "e8688483-012c-45db-acf9-d20b000cef7a",
   "metadata": {},
   "outputs": [
    {
     "name": "stdout",
     "output_type": "stream",
     "text": [
      "2269144626432 2269144615360\n",
      "False\n",
      "True\n"
     ]
    }
   ],
   "source": [
    "l1 = [10,20,30,40]\n",
    "l2 = [10,20,30,40]  \n",
    "# in fandamental datatypes reusability present\n",
    "# Objects are different but content is same\n",
    "# Is operator returns true iff both the references pointing to the same object\n",
    "print(id(l1), id(l2))\n",
    "print(l1 is l2) # both object are diffrent\n",
    "print(l1 == l2) # content is same"
   ]
  },
  {
   "cell_type": "code",
   "execution_count": 56,
   "id": "9aaa0ae8-5f0f-48b8-8733-e0e2a5e06742",
   "metadata": {},
   "outputs": [
    {
     "name": "stdout",
     "output_type": "stream",
     "text": [
      "True\n",
      "True\n"
     ]
    }
   ],
   "source": [
    "l3 = l1\n",
    "print(l1 is l3)\n",
    "print(l1 == l3)"
   ]
  },
  {
   "cell_type": "code",
   "execution_count": 57,
   "id": "2174b8fd-85eb-40df-9eb6-5bcfc68ab4ad",
   "metadata": {},
   "outputs": [],
   "source": [
    "#logical Operators\n",
    "# and or not"
   ]
  },
  {
   "cell_type": "code",
   "execution_count": 58,
   "id": "fa623381-3f58-4a52-a1b1-256a5a7bf835",
   "metadata": {},
   "outputs": [
    {
     "name": "stdout",
     "output_type": "stream",
     "text": [
      "True\n",
      "False\n",
      "False\n",
      "False\n"
     ]
    }
   ],
   "source": [
    "# For boolean type\n",
    "print(True and True)   # True\n",
    "print(True and False)  # False\n",
    "print(False and True)  # False\n",
    "print(False and False) # False"
   ]
  },
  {
   "cell_type": "code",
   "execution_count": 59,
   "id": "a09f3b36-0f5f-4403-9e70-e4a3861dfaae",
   "metadata": {},
   "outputs": [
    {
     "name": "stdout",
     "output_type": "stream",
     "text": [
      "True\n",
      "True\n",
      "True\n",
      "False\n"
     ]
    }
   ],
   "source": [
    "print(True and True)   # True\n",
    "print(True or False)   # True\n",
    "print(False or True)   # True\n",
    "print(False or False)  # False"
   ]
  },
  {
   "cell_type": "code",
   "execution_count": 60,
   "id": "3c153b4b-2bb1-4b0d-a79a-fc9e60a4d1ed",
   "metadata": {},
   "outputs": [
    {
     "name": "stdout",
     "output_type": "stream",
     "text": [
      "False\n",
      "True\n"
     ]
    }
   ],
   "source": [
    "print(not True)  # False\n",
    "print(not False) # True"
   ]
  },
  {
   "cell_type": "code",
   "execution_count": 61,
   "id": "ffa56c2d-b334-4694-aa03-8acaf1ed3f39",
   "metadata": {},
   "outputs": [
    {
     "name": "stdout",
     "output_type": "stream",
     "text": [
      "True\n",
      "False\n",
      "True\n"
     ]
    }
   ],
   "source": [
    "a = True\n",
    "b = False\n",
    "c = True\n",
    "d = False\n",
    "\n",
    "print(a and b or c)   # True because (True and False) is False, but False or True is True\n",
    "print(not a or b)     # False because not True is False, and False or False is False\n",
    "print(a and not b)    # True because True and not False is True"
   ]
  },
  {
   "cell_type": "code",
   "execution_count": 62,
   "id": "b5c7c55f-27c1-4e96-bf62-5f9f261a71e6",
   "metadata": {},
   "outputs": [],
   "source": [
    "# Zero consider as flase\n",
    "# non zero is consider as true\n",
    "# Empty string, set , list, tuple tec consider as false\n",
    "# Non empty consider as True "
   ]
  },
  {
   "cell_type": "code",
   "execution_count": 64,
   "id": "b2f26d97-918b-4b76-9a37-f5b1f874f471",
   "metadata": {},
   "outputs": [],
   "source": [
    "## X or Y \n",
    "# if x evaluates to true then the result is x\n",
    "# if x evaluates to false then the result is y"
   ]
  },
  {
   "cell_type": "code",
   "execution_count": 66,
   "id": "df902f22-8075-4690-ac92-8f16d16fb99f",
   "metadata": {},
   "outputs": [
    {
     "name": "stdout",
     "output_type": "stream",
     "text": [
      "10\n",
      "20\n",
      "durga\n",
      "durga\n"
     ]
    }
   ],
   "source": [
    "print(10 or 20)\n",
    "print(0 or 20)\n",
    "print('durga' or 'soft')\n",
    "print('' or 'durga')"
   ]
  },
  {
   "cell_type": "code",
   "execution_count": null,
   "id": "f13d7875-6176-42f9-b142-84d9b9fa33f7",
   "metadata": {},
   "outputs": [],
   "source": []
  }
 ],
 "metadata": {
  "kernelspec": {
   "display_name": "Python 3 (ipykernel)",
   "language": "python",
   "name": "python3"
  },
  "language_info": {
   "codemirror_mode": {
    "name": "ipython",
    "version": 3
   },
   "file_extension": ".py",
   "mimetype": "text/x-python",
   "name": "python",
   "nbconvert_exporter": "python",
   "pygments_lexer": "ipython3",
   "version": "3.11.5"
  }
 },
 "nbformat": 4,
 "nbformat_minor": 5
}
