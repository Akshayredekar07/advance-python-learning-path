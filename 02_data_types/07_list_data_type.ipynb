{
 "cells": [
  {
   "cell_type": "markdown",
   "metadata": {},
   "source": [
    "### **Lists in Python**\n",
    "\n",
    "- **If we want to represent a group of individual objects as a single entity where insertion order is preserved and duplicates are allowed, we should go for a List.**\n",
    "- **Features of a List:**\n",
    "  - Insertion order is preserved.\n",
    "  - Duplicate objects are allowed.\n",
    "  - Heterogeneous objects are allowed (e.g., numbers, strings, etc.).\n",
    "  - Lists are dynamic, meaning we can increase or decrease their size based on requirements.\n",
    "  - Elements are enclosed within **square brackets** (`[]`) and separated by commas.\n",
    "\n",
    "- **Indexing in Lists:**\n",
    "  - Duplicates can be differentiated using their index.\n",
    "  - Index helps preserve insertion order.\n",
    "  - Python supports **both positive and negative indexes**:\n",
    "    - Positive index: From left to right.\n",
    "    - Negative index: From right to left.\n",
    "    \n",
    "  Example List: `[10, \"A\", \"B\", 20, 30, 10]`  \n",
    "  Indexing visualization:  \n",
    "  ```\n",
    "  Positive Index:   0   1   2   3   4   5\n",
    "  Negative Index:  -6  -5  -4  -3  -2  -1\n",
    "  ```\n",
    "\n",
    "- **Mutability:**\n",
    "  - List objects are mutable, meaning their content can be changed.\n",
    "\n",
    "\n",
    "\n",
    "#### **Creation of List Objects**\n",
    "\n",
    "1. **Creating an Empty List:**"
   ]
  },
  {
   "cell_type": "code",
   "execution_count": 117,
   "metadata": {},
   "outputs": [
    {
     "name": "stdout",
     "output_type": "stream",
     "text": [
      "[]\n",
      "<class 'list'>\n"
     ]
    }
   ],
   "source": [
    "list = []\n",
    "print(list)          # Output: []\n",
    "print(type(list))    # Output: <class 'list'>"
   ]
  },
  {
   "cell_type": "markdown",
   "metadata": {},
   "source": [
    "3. **Creating a List with Known Elements:**"
   ]
  },
  {
   "cell_type": "code",
   "execution_count": 118,
   "metadata": {},
   "outputs": [
    {
     "name": "stdout",
     "output_type": "stream",
     "text": [
      "[10, 20, 30, 40]\n"
     ]
    }
   ],
   "source": [
    "list = [10, 20, 30, 40]\n",
    "print(list)"
   ]
  },
  {
   "cell_type": "markdown",
   "metadata": {},
   "source": [
    "4. **Creating a List with Dynamic Input:**"
   ]
  },
  {
   "cell_type": "markdown",
   "metadata": {},
   "source": [
    "   ```python"
   ]
  },
  {
   "cell_type": "code",
   "execution_count": 130,
   "metadata": {},
   "outputs": [
    {
     "name": "stdout",
     "output_type": "stream",
     "text": [
      "Enter List: [1,2,3]\n"
     ]
    },
    {
     "name": "stdout",
     "output_type": "stream",
     "text": [
      "[1, 2, 3]\n",
      "<class 'list'>\n"
     ]
    },
    {
     "name": "stdout",
     "output_type": "stream",
     "text": [
      "[1, 2, 3]\n",
      "<class 'list'>\n"
     ]
    }
   ],
   "source": [
    "list = eval(input(\"Enter List:\"))\n",
    "print(list)\n",
    "print(type(list))\n"
   ]
  },
  {
   "cell_type": "markdown",
   "metadata": {},
   "source": [
    "#### **Example List:**"
   ]
  },
  {
   "cell_type": "code",
   "execution_count": 131,
   "metadata": {},
   "outputs": [],
   "source": [
    "list = [10, \"A\", \"B\", 20, 30, 10]"
   ]
  },
  {
   "cell_type": "markdown",
   "metadata": {},
   "source": [
    "Indexes for the above list:\n",
    "```\n",
    "Positive Index:   0   1   2   3   4   5\n",
    "Negative Index:  -6  -5  -4  -3  -2  -1\n",
    "```"
   ]
  },
  {
   "cell_type": "markdown",
   "metadata": {},
   "source": [
    "4. **Using `list()` Function:**\n",
    " "
   ]
  },
  {
   "cell_type": "code",
   "execution_count": 5,
   "metadata": {},
   "outputs": [
    {
     "name": "stdout",
     "output_type": "stream",
     "text": [
      "[0, 2, 4, 6, 8]\n",
      "<class 'list'>\n"
     ]
    }
   ],
   "source": [
    "l = list(range(0, 10, 2))\n",
    "print(l)         \n",
    "print(type(l)) "
   ]
  },
  {
   "cell_type": "code",
   "execution_count": 6,
   "metadata": {},
   "outputs": [
    {
     "name": "stdout",
     "output_type": "stream",
     "text": [
      "['d', 'u', 'r', 'g', 'a']\n"
     ]
    }
   ],
   "source": [
    "\n",
    "s = \"durga\"\n",
    "l = list(s)\n",
    "print(l)"
   ]
  },
  {
   "cell_type": "markdown",
   "metadata": {},
   "source": [
    "5. **Using `split()` Function:**"
   ]
  },
  {
   "cell_type": "code",
   "execution_count": 7,
   "metadata": {},
   "outputs": [
    {
     "name": "stdout",
     "output_type": "stream",
     "text": [
      "['Learning', 'Python', 'is', 'very', 'very', 'easy', '!!!']\n",
      "<class 'list'>\n"
     ]
    }
   ],
   "source": [
    "\n",
    "s = \"Learning Python is very very easy !!!\"\n",
    "l = s.split()\n",
    "print(l)          \n",
    "print(type(l))    \n",
    " "
   ]
  },
  {
   "cell_type": "markdown",
   "metadata": {},
   "source": [
    "#### Nested Lists\n",
    "- A list can contain another list as an element. Such lists are called **nested lists**.\n",
    "  ```python\n",
    "  nested_list = [10, 20, [30, 40]]\n",
    "  ```"
   ]
  },
  {
   "cell_type": "markdown",
   "metadata": {},
   "source": [
    "#### Accessing Elements of a List\n",
    "\n",
    "1. **Using Index:**\n",
    "   - Lists follow **zero-based indexing**, meaning the index of the first element is `0`.\n",
    "   - Lists support both **positive** and **negative** indexing:\n",
    "     - Positive Index: Left to Right.\n",
    "     - Negative Index: Right to Left."
   ]
  },
  {
   "cell_type": "markdown",
   "metadata": {},
   "source": [
    "   Example:"
   ]
  },
  {
   "cell_type": "code",
   "execution_count": 11,
   "metadata": {},
   "outputs": [
    {
     "name": "stdout",
     "output_type": "stream",
     "text": [
      "10\n",
      "40\n"
     ]
    }
   ],
   "source": [
    "list = [10, 20, 30, 40]\n",
    "print(list[0])\n",
    "print(list[-1])   \n",
    "# print(list[10])#IndexError: list index out of range"
   ]
  },
  {
   "cell_type": "markdown",
   "metadata": {},
   "source": [
    "2. **Using Slice Operator:**\n",
    "   - **Syntax:** `list2 = list1[start:stop:step]`\n",
    "     - `start`: Index where the slice starts (default is `0`).\n",
    "     - `stop`: Index where the slice ends (default is the max index of the list).\n",
    "     - `step`: Increment value (default is `1`)."
   ]
  },
  {
   "cell_type": "code",
   "execution_count": 12,
   "metadata": {},
   "outputs": [
    {
     "name": "stdout",
     "output_type": "stream",
     "text": [
      "[3, 5, 7]\n",
      "[5, 7, 9]\n",
      "[4, 5, 6, 7]\n",
      "[9, 7, 5]\n",
      "[5, 6, 7, 8, 9, 10]\n"
     ]
    }
   ],
   "source": [
    "#Example:\n",
    "n = [1, 2, 3, 4, 5, 6, 7, 8, 9, 10]\n",
    "print(n[2:7:2])   # Output: [3, 5, 7]\n",
    "print(n[4::2])    # Output: [5, 7, 9]\n",
    "print(n[3:7])     # Output: [4, 5, 6, 7]\n",
    "print(n[8:2:-2])  # Output: [9, 7, 5]\n",
    "print(n[4:100])   # Output: [5, 6, 7, 8, 9, 10]\n",
    " "
   ]
  },
  {
   "cell_type": "markdown",
   "metadata": {},
   "source": [
    "#### **Index Representation Example:**\n",
    "For the list `[10, 20, 30, 40]`:\n",
    "```\n",
    "Positive Index:   0   1   2   3\n",
    "Negative Index:  -4  -3  -2  -1\n",
    "```"
   ]
  },
  {
   "cell_type": "markdown",
   "metadata": {},
   "source": [
    "### **1. List Mutability**\n",
    "- Lists in Python are mutable, meaning their elements can be modified after creation."
   ]
  },
  {
   "cell_type": "code",
   "execution_count": 13,
   "metadata": {},
   "outputs": [
    {
     "name": "stdout",
     "output_type": "stream",
     "text": [
      "[10, 20, 30, 40]\n",
      "[10, 777, 30, 40]\n"
     ]
    }
   ],
   "source": [
    "n = [10, 20, 30, 40]\n",
    "print(n)  # Output: [10, 20, 30, 40]\n",
    "\n",
    "n[1] = 777  # Modify the second element\n",
    "print(n)  # Output: [10, 777, 30, 40]"
   ]
  },
  {
   "cell_type": "markdown",
   "metadata": {},
   "source": [
    "### **2. Traversing a List**\n",
    "\n",
    "#### a) Using a `while` Loop\n",
    "- You manually iterate through the indices using a counter."
   ]
  },
  {
   "cell_type": "code",
   "execution_count": 14,
   "metadata": {},
   "outputs": [
    {
     "name": "stdout",
     "output_type": "stream",
     "text": [
      "0\n",
      "1\n",
      "2\n",
      "3\n",
      "4\n",
      "5\n",
      "6\n",
      "7\n",
      "8\n",
      "9\n",
      "10\n"
     ]
    }
   ],
   "source": [
    "n = [0, 1, 2, 3, 4, 5, 6, 7, 8, 9, 10]\n",
    "i = 0\n",
    "while i < len(n):\n",
    "    print(n[i])\n",
    "    i += 1"
   ]
  },
  {
   "cell_type": "markdown",
   "metadata": {},
   "source": [
    "#### b) Using a `for` Loop\n",
    "- This is a simpler approach where each element is directly accessed."
   ]
  },
  {
   "cell_type": "code",
   "execution_count": 16,
   "metadata": {},
   "outputs": [
    {
     "name": "stdout",
     "output_type": "stream",
     "text": [
      "0\n",
      "1\n",
      "2\n",
      "3\n",
      "4\n",
      "5\n",
      "6\n",
      "7\n",
      "8\n",
      "9\n",
      "10\n"
     ]
    }
   ],
   "source": [
    "n = [0, 1, 2, 3, 4, 5, 6, 7, 8, 9, 10]\n",
    "for n1 in n:\n",
    "    print(n1)"
   ]
  },
  {
   "cell_type": "markdown",
   "metadata": {},
   "source": [
    "#### c) Displaying Only Even Numbers\n",
    "- Use a condition inside the `for` loop to filter even numbers."
   ]
  },
  {
   "cell_type": "code",
   "execution_count": 17,
   "metadata": {},
   "outputs": [
    {
     "name": "stdout",
     "output_type": "stream",
     "text": [
      "0\n",
      "2\n",
      "4\n",
      "6\n",
      "8\n",
      "10\n"
     ]
    }
   ],
   "source": [
    "n = [0, 1, 2, 3, 4, 5, 6, 7, 8, 9, 10]\n",
    "for n1 in n:\n",
    "    if n1 % 2 == 0:\n",
    "        print(n1)"
   ]
  },
  {
   "cell_type": "markdown",
   "metadata": {},
   "source": [
    "### **3. Displaying Elements by Index**\n",
    "\n",
    "This demonstrates how to access elements using both positive and negative indices."
   ]
  },
  {
   "cell_type": "code",
   "execution_count": 18,
   "metadata": {},
   "outputs": [
    {
     "name": "stdout",
     "output_type": "stream",
     "text": [
      "A is available at positive index: 0 and at negative index: -3\n",
      "B is available at positive index: 1 and at negative index: -2\n",
      "C is available at positive index: 2 and at negative index: -1\n"
     ]
    }
   ],
   "source": [
    "l = [\"A\", \"B\", \"C\"]\n",
    "x = len(l)\n",
    "for i in range(x):\n",
    "    print(l[i], \"is available at positive index:\", i, \"and at negative index:\", i - x)"
   ]
  },
  {
   "cell_type": "markdown",
   "metadata": {},
   "source": [
    "1. **Lists are mutable**: You can modify elements using indexing.\n",
    "2. **Traversal methods**: \n",
    "   - `while` loop for manual control.\n",
    "   - `for` loop for simplicity.\n",
    "3. **Filtering**: Use conditions within loops to display specific elements.\n",
    "4. **Indexing**: Both positive and negative indices can be used to access elements."
   ]
  },
  {
   "cell_type": "markdown",
   "metadata": {},
   "source": [
    "### **Important Functions of List:**"
   ]
  },
  {
   "cell_type": "markdown",
   "metadata": {},
   "source": [
    "#### **1). To Get Information about a List**\n",
    "\n",
    "1. **`len()` Function**  \n",
    "   - Returns the number of elements in a list. "
   ]
  },
  {
   "cell_type": "code",
   "execution_count": 19,
   "metadata": {},
   "outputs": [
    {
     "name": "stdout",
     "output_type": "stream",
     "text": [
      "4\n"
     ]
    }
   ],
   "source": [
    "n = [10, 20, 30, 40]\n",
    "print(len(n))"
   ]
  },
  {
   "cell_type": "markdown",
   "metadata": {},
   "source": [
    "2. **`count()` Function**  \n",
    "   - Returns the number of occurrences of a specified item in the list"
   ]
  },
  {
   "cell_type": "code",
   "execution_count": 21,
   "metadata": {},
   "outputs": [
    {
     "name": "stdout",
     "output_type": "stream",
     "text": [
      "1\n",
      "4\n",
      "2\n",
      "0\n"
     ]
    }
   ],
   "source": [
    "n = [1, 2, 2, 2, 2, 3, 3]\n",
    "print(n.count(1))\n",
    "print(n.count(2))\n",
    "print(n.count(3))\n",
    "print(n.count(4))"
   ]
  },
  {
   "cell_type": "markdown",
   "metadata": {},
   "source": [
    "3. **`index()` Function**  \n",
    "   - Returns the index of the first occurrence of a specified item in the list.  \n",
    "   - If the item is not found, it raises a `ValueError`. "
   ]
  },
  {
   "cell_type": "code",
   "execution_count": 23,
   "metadata": {},
   "outputs": [
    {
     "name": "stdout",
     "output_type": "stream",
     "text": [
      "0\n",
      "1\n",
      "5\n"
     ]
    }
   ],
   "source": [
    "n = [1, 2, 2, 2, 2, 3, 3]\n",
    "print(n.index(1))  \n",
    "print(n.index(2)) \n",
    "print(n.index(3)) "
   ]
  },
  {
   "cell_type": "code",
   "execution_count": 25,
   "metadata": {},
   "outputs": [
    {
     "name": "stdout",
     "output_type": "stream",
     "text": [
      "False\n"
     ]
    }
   ],
   "source": [
    "# Before calling index(), use \"in\" to avoid errors:\n",
    "print(4 in n)  "
   ]
  },
  {
   "cell_type": "markdown",
   "metadata": {},
   "source": [
    "### **Manipulating Elements of List**\n",
    "\n",
    "1. **`append()` Function**  \n",
    "   - Adds an item to the end of the list.  "
   ]
  },
  {
   "cell_type": "code",
   "execution_count": 26,
   "metadata": {},
   "outputs": [
    {
     "name": "stdout",
     "output_type": "stream",
     "text": [
      "['A', 'B', 'C']\n"
     ]
    }
   ],
   "source": [
    "list = []\n",
    "list.append(\"A\")\n",
    "list.append(\"B\")\n",
    "list.append(\"C\")\n",
    "print(list)"
   ]
  },
  {
   "cell_type": "markdown",
   "metadata": {},
   "source": [
    "**Example: Add multiples of 10 up to 100**:  "
   ]
  },
  {
   "cell_type": "code",
   "execution_count": 27,
   "metadata": {},
   "outputs": [
    {
     "name": "stdout",
     "output_type": "stream",
     "text": [
      "[0, 10, 20, 30, 40, 50, 60, 70, 80, 90, 100]\n"
     ]
    }
   ],
   "source": [
    "list = []\n",
    "for i in range(101):\n",
    "    if i % 10 == 0:\n",
    "        list.append(i)\n",
    "print(list)"
   ]
  },
  {
   "cell_type": "markdown",
   "metadata": {},
   "source": [
    "2. **`insert()` Function**  \n",
    "   - Inserts an item at a specified index position.  "
   ]
  },
  {
   "cell_type": "code",
   "execution_count": 31,
   "metadata": {},
   "outputs": [
    {
     "name": "stdout",
     "output_type": "stream",
     "text": [
      "[1, 888, 2, 3, 4, 5]\n"
     ]
    }
   ],
   "source": [
    "n = [1, 2, 3, 4, 5]\n",
    "n.insert(1, 888)  # Inserts 888 at index 1\n",
    "print(n)  # Output: [1, 888, 2, 3, 4, 5]"
   ]
  },
  {
   "cell_type": "code",
   "execution_count": 30,
   "metadata": {},
   "outputs": [
    {
     "name": "stdout",
     "output_type": "stream",
     "text": [
      "[999, 1, 2, 3, 4, 5, 777]\n"
     ]
    }
   ],
   "source": [
    "n = [1, 2, 3, 4, 5]\n",
    "n.insert(10, 777)  # Index > max index → adds at the end\n",
    "n.insert(-10, 999)  # Index < min index → adds at the beginning\n",
    "print(n)  # Output: [999, 1, 2, 3, 4, 5, 777]"
   ]
  },
  {
   "cell_type": "markdown",
   "metadata": {},
   "source": [
    "**Note**:  \n",
    "- If the index is greater than the maximum index, the item is appended to the end of the list.\n",
    "- If the index is less than the minimum index, the item is inserted at the beginning of the list."
   ]
  },
  {
   "cell_type": "markdown",
   "metadata": {},
   "source": [
    "### **Differences Between `append()` and `insert()`**\n",
    "\n",
    "| Feature            | `append()`                                  | `insert()`                                  |\n",
    "|---------------------|---------------------------------------------|---------------------------------------------|\n",
    "| **Purpose**         | Adds an item to the end of the list.        | Inserts an item at a specified index.       |\n",
    "| **Parameters**      | Takes only one argument (the item to add).  | Takes two arguments: index and item.        |\n",
    "| **Positioning**     | Always adds at the end.                    | Can add an item anywhere in the list.       |\n",
    "| **Use Case**        | For extending the list at the end.          | For precise positioning of elements.        |\n"
   ]
  },
  {
   "cell_type": "code",
   "execution_count": 32,
   "metadata": {},
   "outputs": [
    {
     "name": "stdout",
     "output_type": "stream",
     "text": [
      "[1, 2, 3, 4]\n"
     ]
    }
   ],
   "source": [
    "# Using append()\n",
    "list1 = [1, 2, 3]\n",
    "list1.append(4)\n",
    "print(list1)"
   ]
  },
  {
   "cell_type": "code",
   "execution_count": 33,
   "metadata": {},
   "outputs": [
    {
     "name": "stdout",
     "output_type": "stream",
     "text": [
      "[1, 999, 2, 3]\n"
     ]
    }
   ],
   "source": [
    "# Using insert()\n",
    "list2 = [1, 2, 3]\n",
    "list2.insert(1, 999)\n",
    "print(list2)"
   ]
  },
  {
   "cell_type": "markdown",
   "metadata": {},
   "source": [
    "#### 3. **`extend()` Function**\n",
    "- Used to add all items of one list to another list.\n",
    "- If a string is passed, it adds each character of the string as an individual element."
   ]
  },
  {
   "cell_type": "code",
   "execution_count": 39,
   "metadata": {},
   "outputs": [
    {
     "name": "stdout",
     "output_type": "stream",
     "text": [
      "['sprouts', 'seeds', 'fruits', 'RC', 'KF', 'FO']\n"
     ]
    }
   ],
   "source": [
    "order1 = [\"sprouts\", \"seeds\", \"fruits\"]\n",
    "order2 = [\"RC\", \"KF\", \"FO\"]\n",
    "order1.extend(order2)\n",
    "print(order1)"
   ]
  },
  {
   "cell_type": "code",
   "execution_count": 40,
   "metadata": {},
   "outputs": [
    {
     "name": "stdout",
     "output_type": "stream",
     "text": [
      "['paneer', 'vadapav', 'misal', 'M', 'u', 's', 'h', 'r', 'o', 'o', 'm']\n"
     ]
    }
   ],
   "source": [
    "order = [\"paneer\", \"vadapav\", \"misal\"]\n",
    "order.extend(\"Mushroom\")\n",
    "print(order)"
   ]
  },
  {
   "cell_type": "markdown",
   "metadata": {},
   "source": [
    "#### 4. **`remove()` Function**\n",
    "- Removes the first occurrence of a specified item from the list.\n",
    "- If the item is not present, it raises a `ValueError`."
   ]
  },
  {
   "cell_type": "code",
   "execution_count": 48,
   "metadata": {},
   "outputs": [
    {
     "name": "stdout",
     "output_type": "stream",
     "text": [
      "[20, 10, 30]\n"
     ]
    }
   ],
   "source": [
    "n = [10, 20, 10, 30]\n",
    "n.remove(10)\n",
    "print(n)\n",
    "\n",
    "# Raises ValueError:\n",
    "# n.remove(40)  # ValueError: list.remove(x): x not in list"
   ]
  },
  {
   "cell_type": "markdown",
   "metadata": {},
   "source": [
    "**Note:**  \n",
    "Before using `remove()`, check if the element exists in the list using the `in` operator."
   ]
  },
  {
   "cell_type": "markdown",
   "metadata": {},
   "source": [
    "#### 6. **`pop()` Function**\n",
    "- Removes and returns the last element of the list by default.\n",
    "- Can remove and return an element at a specific index.\n",
    "- Raises `IndexError` if the list is empty or the specified index is out of range."
   ]
  },
  {
   "cell_type": "code",
   "execution_count": 49,
   "metadata": {},
   "outputs": [
    {
     "name": "stdout",
     "output_type": "stream",
     "text": [
      "40\n",
      "30\n",
      "[10, 20]\n"
     ]
    }
   ],
   "source": [
    "n = [10, 20, 30, 40]\n",
    "print(n.pop())  # Output: 40\n",
    "print(n.pop())  # Output: 30\n",
    "print(n)        # Output: [10, 20]"
   ]
  },
  {
   "cell_type": "code",
   "execution_count": 50,
   "metadata": {},
   "outputs": [
    {
     "name": "stdout",
     "output_type": "stream",
     "text": [
      "60\n",
      "20\n"
     ]
    }
   ],
   "source": [
    "n = [10, 20, 30, 40, 50, 60]\n",
    "print(n.pop())     # Output: 60\n",
    "print(n.pop(1))    # Output: 20"
   ]
  },
  {
   "cell_type": "code",
   "execution_count": 52,
   "metadata": {},
   "outputs": [],
   "source": [
    "# Raises IndexError:\n",
    "# print(n.pop(10))  # IndexError: pop index out of range"
   ]
  },
  {
   "cell_type": "markdown",
   "metadata": {},
   "source": [
    "**Use Case:**  \n",
    "`append()` and `pop()` can be used to implement a stack (LIFO - Last In First Out)."
   ]
  },
  {
   "cell_type": "markdown",
   "metadata": {},
   "source": [
    "#### Differences Between `remove()` and `pop()`\n",
    "| **`remove()`**                       | **`pop()`**                              |\n",
    "|--------------------------------------|------------------------------------------|\n",
    "| Removes a specific element by value. | Removes the last element by default or a specific element by index. |\n",
    "| Does not return any value.           | Returns the removed element.             |\n",
    "| Raises `ValueError` if the element is not found. | Raises `IndexError` if the list is empty or index is out of range. |"
   ]
  },
  {
   "cell_type": "markdown",
   "metadata": {},
   "source": [
    "### **3). Ordering Elements of List:**\n",
    "#### 1. **`reverse()` Function**\n",
    "- Reverses the order of elements in the list."
   ]
  },
  {
   "cell_type": "code",
   "execution_count": 55,
   "metadata": {},
   "outputs": [
    {
     "name": "stdout",
     "output_type": "stream",
     "text": [
      "[40, 30, 20, 10]\n"
     ]
    }
   ],
   "source": [
    "n = [10, 20, 30, 40]\n",
    "n.reverse()\n",
    "print(n) "
   ]
  },
  {
   "cell_type": "markdown",
   "metadata": {},
   "source": [
    "#### 2. **`sort()` Function**\n",
    "- Sorts the elements of the list in **default natural order**:\n",
    "  - **Numbers**: Ascending order.\n",
    "  - **Strings**: Alphabetical order."
   ]
  },
  {
   "cell_type": "code",
   "execution_count": 56,
   "metadata": {},
   "outputs": [
    {
     "name": "stdout",
     "output_type": "stream",
     "text": [
      "[0, 5, 10, 15, 20]\n"
     ]
    }
   ],
   "source": [
    "n = [20, 5, 15, 10, 0]\n",
    "n.sort()\n",
    "print(n)  "
   ]
  },
  {
   "cell_type": "code",
   "execution_count": 57,
   "metadata": {},
   "outputs": [
    {
     "name": "stdout",
     "output_type": "stream",
     "text": [
      "['Apple', 'Banana', 'Cat', 'Dog']\n"
     ]
    }
   ],
   "source": [
    "s = [\"Dog\", \"Banana\", \"Cat\", \"Apple\"]\n",
    "s.sort()\n",
    "print(s)"
   ]
  },
  {
   "cell_type": "markdown",
   "metadata": {},
   "source": [
    "#### Increasing and Decreasing the Size of a List\n",
    "- **For increasing size:** Use `append()`, `insert()`, or `extend()`.\n",
    "- **For decreasing size:** Use `remove()` or `pop()`."
   ]
  },
  {
   "cell_type": "markdown",
   "metadata": {},
   "source": [
    "| **Function**    | **Purpose**                                               |\n",
    "|------------------|-----------------------------------------------------------|\n",
    "| `extend()`       | Adds all elements of another list or iterable to the list. |\n",
    "| `remove()`       | Removes the first occurrence of a specified element.       |\n",
    "| `pop()`          | Removes and returns the last element (or element by index).|\n",
    "| `reverse()`      | Reverses the order of elements in the list.                |\n",
    "| `sort()`         | Sorts the elements of the list in default natural order.   |"
   ]
  },
  {
   "cell_type": "markdown",
   "metadata": {},
   "source": [
    "**Note:**\n",
    "- The `sort()` function requires all elements in the list to be homogeneous (same type). Otherwise, it raises a `TypeError`.\n",
    "\n",
    "**Example of Error:**"
   ]
  },
  {
   "cell_type": "code",
   "execution_count": 60,
   "metadata": {},
   "outputs": [],
   "source": [
    "n = [20, 10, \"A\", \"B\"]\n",
    "# n.sort()\n",
    "# TypeError: '<' not supported between instances of 'str' and 'int'"
   ]
  },
  {
   "cell_type": "markdown",
   "metadata": {},
   "source": [
    "#### **Sorting in Reverse Order**"
   ]
  },
  {
   "cell_type": "markdown",
   "metadata": {},
   "source": [
    "- Use `reverse=True` to sort the list in reverse order."
   ]
  },
  {
   "cell_type": "code",
   "execution_count": 64,
   "metadata": {},
   "outputs": [
    {
     "name": "stdout",
     "output_type": "stream",
     "text": [
      "[10, 20, 30, 40]\n"
     ]
    }
   ],
   "source": [
    "n = [40, 10, 30, 20]\n",
    "n.sort()\n",
    "print(n)  "
   ]
  },
  {
   "cell_type": "code",
   "execution_count": 65,
   "metadata": {},
   "outputs": [
    {
     "name": "stdout",
     "output_type": "stream",
     "text": [
      "[40, 30, 20, 10]\n"
     ]
    }
   ],
   "source": [
    "n.sort(reverse=True)\n",
    "print(n)  "
   ]
  },
  {
   "cell_type": "markdown",
   "metadata": {},
   "source": [
    "### **Aliasing and Cloning of List Objects**\n",
    "\n",
    "#### **Aliasing**\n",
    "\n",
    "- Assigning another reference variable to an existing list is called **aliasing**.\n",
    "- Any change made to one reference will reflect in the other.\n",
    "\n",
    "**Example:**"
   ]
  },
  {
   "cell_type": "code",
   "execution_count": 67,
   "metadata": {},
   "outputs": [
    {
     "name": "stdout",
     "output_type": "stream",
     "text": [
      "2125220752896\n",
      "2125220752896\n",
      "[10, 777, 30, 40]\n",
      "[10, 777, 30, 40]\n"
     ]
    }
   ],
   "source": [
    "\n",
    "x = [10, 20, 30, 40]\n",
    "y = x\n",
    "print(id(x))  # ID of x\n",
    "print(id(y))  # Same ID as x\n",
    "\n",
    "y[1] = 777\n",
    "print(x) \n",
    "print(y)"
   ]
  },
  {
   "cell_type": "markdown",
   "metadata": {},
   "source": [
    "#### **Cloning**\n",
    "- Creating a **duplicate independent object** is called **cloning**.\n",
    "- Changes made to the cloned object do not affect the original.\n",
    "\n",
    "##### **Methods to Clone a List:**\n",
    "1. **Using Slice Operator**"
   ]
  },
  {
   "cell_type": "code",
   "execution_count": 1,
   "metadata": {},
   "outputs": [
    {
     "name": "stdout",
     "output_type": "stream",
     "text": [
      "[10, 20, 30, 40]\n",
      "[10, 777, 30, 40]\n"
     ]
    }
   ],
   "source": [
    "\n",
    "x = [10, 20, 30, 40]\n",
    "y = x[:]\n",
    "y[1] = 777\n",
    "print(x)  # Output: [10, 20, 30, 40]\n",
    "print(y)  # Output: [10, 777, 30, 40]\n"
   ]
  },
  {
   "cell_type": "markdown",
   "metadata": {},
   "source": [
    "2. **Using `copy()` Function**"
   ]
  },
  {
   "cell_type": "code",
   "execution_count": 2,
   "metadata": {},
   "outputs": [
    {
     "name": "stdout",
     "output_type": "stream",
     "text": [
      "[10, 20, 30, 40]\n",
      "[10, 777, 30, 40]\n"
     ]
    }
   ],
   "source": [
    "x = [10, 20, 30, 40]\n",
    "y = x.copy()\n",
    "y[1] = 777\n",
    "print(x)  # Output: [10, 20, 30, 40]\n",
    "print(y)  # Output: [10, 777, 30, 40]\n"
   ]
  },
  {
   "cell_type": "markdown",
   "metadata": {},
   "source": [
    "___Difference Between `=` Operator and `copy()` Function___\n",
    "\n",
    "| **`=` Operator**                  | **`copy()` Function**                  |\n",
    "|-----------------------------------|----------------------------------------|\n",
    "| Used for **aliasing**.            | Used for **cloning**.                  |\n",
    "| Changes to one list reflect in the other. | Changes to the cloned list do not affect the original. |\n"
   ]
  },
  {
   "cell_type": "markdown",
   "metadata": {},
   "source": [
    "### **Using Mathematical Operators for List Objects**\n",
    "\n",
    "#### 1. **Concatenation Operator (`+`)**\n",
    "- Used to concatenate two lists into a single list."
   ]
  },
  {
   "cell_type": "code",
   "execution_count": 3,
   "metadata": {},
   "outputs": [
    {
     "name": "stdout",
     "output_type": "stream",
     "text": [
      "[10, 20, 30, 40, 50, 60]\n"
     ]
    }
   ],
   "source": [
    "a = [10, 20, 30]\n",
    "b = [40, 50, 60]\n",
    "c = a + b\n",
    "print(c)"
   ]
  },
  {
   "cell_type": "markdown",
   "metadata": {},
   "source": [
    "**Note:**\n",
    "- Both operands must be **list objects**, otherwise a `TypeError` is raised."
   ]
  },
  {
   "cell_type": "markdown",
   "metadata": {},
   "source": [
    "```python\n",
    "c = a + 40  # TypeError: can only concatenate list (not \"int\") to list\n",
    "c = a + [40]  # Valid\n",
    "```"
   ]
  },
  {
   "cell_type": "markdown",
   "metadata": {},
   "source": [
    "#### 2. **Repetition Operator (`*`)**\n",
    "- Used to repeat elements of a list a specified number of times."
   ]
  },
  {
   "cell_type": "code",
   "execution_count": 4,
   "metadata": {},
   "outputs": [
    {
     "name": "stdout",
     "output_type": "stream",
     "text": [
      "[10, 20, 30, 10, 20, 30, 10, 20, 30]\n"
     ]
    }
   ],
   "source": [
    "x = [10, 20, 30]\n",
    "y = x * 3\n",
    "print(y)"
   ]
  },
  {
   "cell_type": "markdown",
   "metadata": {},
   "source": [
    "### **Comparing List Objects**\n",
    "\n",
    "#### 1. **Equality and Inequality Operators (`==`, `!=`)**\n",
    "- Compare two lists based on:\n",
    "  1. **Number of Elements**\n",
    "  2. **Order of Elements**\n",
    "  3. **Content of Elements (Case Sensitive)**"
   ]
  },
  {
   "cell_type": "code",
   "execution_count": 5,
   "metadata": {},
   "outputs": [
    {
     "name": "stdout",
     "output_type": "stream",
     "text": [
      "True\n",
      "False\n",
      "True\n"
     ]
    }
   ],
   "source": [
    "x = [\"Dog\", \"Cat\", \"Rat\"]\n",
    "y = [\"Dog\", \"Cat\", \"Rat\"]\n",
    "z = [\"DOG\", \"CAT\", \"RAT\"]\n",
    "\n",
    "print(x == y)  # Output: True\n",
    "print(x == z)  # Output: False (case-sensitive)\n",
    "print(x != z)  # Output: True"
   ]
  },
  {
   "cell_type": "markdown",
   "metadata": {},
   "source": [
    "#### 2. **Relational Operators (`<`, `<=`, `>`, `>=`)**\n",
    "- Relational operators compare lists by comparing their **first elements**.\n",
    "- If the first elements are equal, the next elements are compared, and so on.\n",
    "\n",
    "**Examples:**"
   ]
  },
  {
   "cell_type": "code",
   "execution_count": 6,
   "metadata": {},
   "outputs": [
    {
     "name": "stdout",
     "output_type": "stream",
     "text": [
      "True\n",
      "True\n",
      "False\n",
      "False\n"
     ]
    }
   ],
   "source": [
    "x = [50, 20, 30]\n",
    "y = [40, 50, 60, 100, 200]\n",
    "\n",
    "print(x > y)   # Output: True (50 > 40)\n",
    "print(x >= y)  # Output: True (50 >= 40)\n",
    "print(x < y)   # Output: False (50 > 40)\n",
    "print(x <= y)  # Output: False (50 > 40)"
   ]
  },
  {
   "cell_type": "markdown",
   "metadata": {},
   "source": [
    "#### **Case of Strings:**\n",
    "- Lists containing strings are compared lexicographically (dictionary order)."
   ]
  },
  {
   "cell_type": "code",
   "execution_count": 7,
   "metadata": {},
   "outputs": [
    {
     "name": "stdout",
     "output_type": "stream",
     "text": [
      "False\n",
      "False\n",
      "True\n",
      "True\n"
     ]
    }
   ],
   "source": [
    "x = [\"Dog\", \"Cat\", \"Rat\"]\n",
    "y = [\"Rat\", \"Cat\", \"Dog\"]\n",
    "\n",
    "print(x > y)   # Output: False\n",
    "print(x >= y)  # Output: False\n",
    "print(x < y)   # Output: True\n",
    "print(x <= y)  # Output: True"
   ]
  },
  {
   "cell_type": "markdown",
   "metadata": {},
   "source": [
    "| **Operator**        | **Description**                                     |\n",
    "|----------------------|-----------------------------------------------------|\n",
    "| `+`                 | Concatenates two lists.                             |\n",
    "| `*`                 | Repeats the elements of the list.                   |\n",
    "| `==`, `!=`          | Compare lists based on content, order, and size.    |\n",
    "| `<`, `<=`, `>`, `>=`| Compare lists based on lexicographical order.        |"
   ]
  },
  {
   "cell_type": "markdown",
   "metadata": {},
   "source": [
    "### **Membership Operators**\n",
    "- Used to check if an element exists in a list or not."
   ]
  },
  {
   "cell_type": "markdown",
   "metadata": {},
   "source": [
    "#### Operators:\n",
    "1. **`in`**: Returns `True` if the element is present in the list.\n",
    "2. **`not in`**: Returns `True` if the element is NOT present in the list.\n",
    "\n",
    "#### Example:"
   ]
  },
  {
   "cell_type": "code",
   "execution_count": 8,
   "metadata": {},
   "outputs": [
    {
     "name": "stdout",
     "output_type": "stream",
     "text": [
      "True\n",
      "False\n",
      "False\n",
      "True\n"
     ]
    }
   ],
   "source": [
    "n = [10, 20, 30, 40]\n",
    "print(10 in n)        # Output: True\n",
    "print(10 not in n)    # Output: False\n",
    "print(50 in n)        # Output: False\n",
    "print(50 not in n)    # Output: True"
   ]
  },
  {
   "cell_type": "markdown",
   "metadata": {},
   "source": [
    "### **`clear()` Function**\n",
    "- Removes **all elements** from the list, leaving it empty."
   ]
  },
  {
   "cell_type": "code",
   "execution_count": 9,
   "metadata": {},
   "outputs": [
    {
     "name": "stdout",
     "output_type": "stream",
     "text": [
      "[10, 20, 30, 40]\n",
      "[]\n"
     ]
    }
   ],
   "source": [
    "n = [10, 20, 30, 40]\n",
    "print(n)              # Output: [10, 20, 30, 40]\n",
    "n.clear()\n",
    "print(n)              # Output: []"
   ]
  },
  {
   "cell_type": "markdown",
   "metadata": {},
   "source": [
    "### **Nested Lists**\n",
    "- A list containing other lists as elements is called a **nested list**.\n",
    "- You can access elements of nested lists using **indexing**, just like in multidimensional arrays."
   ]
  },
  {
   "cell_type": "code",
   "execution_count": 10,
   "metadata": {},
   "outputs": [
    {
     "name": "stdout",
     "output_type": "stream",
     "text": [
      "[10, 20, [30, 40]]\n",
      "10\n",
      "[30, 40]\n",
      "30\n",
      "40\n"
     ]
    }
   ],
   "source": [
    "n = [10, 20, [30, 40]]\n",
    "print(n)              # Output: [10, 20, [30, 40]]\n",
    "print(n[0])           # Output: 10\n",
    "print(n[2])           # Output: [30, 40]\n",
    "print(n[2][0])        # Output: 30\n",
    "print(n[2][1])        # Output: 40"
   ]
  },
  {
   "cell_type": "markdown",
   "metadata": {},
   "source": [
    "1. **Membership Operators:**\n",
    "   - Useful for searching elements in a list.\n",
    "2. **`clear()` Function:**\n",
    "   - A simple way to empty a list.\n",
    "3. **Nested Lists:**\n",
    "   - Access elements using multiple indices (like `list[i][j]`)."
   ]
  },
  {
   "cell_type": "markdown",
   "metadata": {},
   "source": [
    "### **Nested List as a Matrix**\n",
    "In Python, **nested lists** can be used to represent a **matrix**, where each inner list is a row of the matrix."
   ]
  },
  {
   "cell_type": "code",
   "execution_count": 11,
   "metadata": {},
   "outputs": [
    {
     "name": "stdout",
     "output_type": "stream",
     "text": [
      "[[10, 20, 30], [40, 50, 60], [70, 80, 90]]\n"
     ]
    }
   ],
   "source": [
    "n = [[10, 20, 30], [40, 50, 60], [70, 80, 90]]\n",
    "print(n)"
   ]
  },
  {
   "cell_type": "code",
   "execution_count": 12,
   "metadata": {},
   "outputs": [
    {
     "name": "stdout",
     "output_type": "stream",
     "text": [
      "Elements by Row-wise:\n",
      "[10, 20, 30]\n",
      "[40, 50, 60]\n",
      "[70, 80, 90]\n"
     ]
    }
   ],
   "source": [
    "# Print elements row-wise\n",
    "print(\"Elements by Row-wise:\")\n",
    "for row in n:\n",
    "    print(row)"
   ]
  },
  {
   "cell_type": "code",
   "execution_count": 13,
   "metadata": {},
   "outputs": [
    {
     "name": "stdout",
     "output_type": "stream",
     "text": [
      "Elements by Matrix style:\n",
      "10 20 30 \n",
      "40 50 60 \n",
      "70 80 90 \n"
     ]
    }
   ],
   "source": [
    "# Print elements in matrix style\n",
    "print(\"Elements by Matrix style:\")\n",
    "for i in range(len(n)):           # Iterate over rows\n",
    "    for j in range(len(n[i])):    # Iterate over columns in each row\n",
    "        print(n[i][j], end=' ')\n",
    "    print()  # Newline after each row"
   ]
  },
  {
   "cell_type": "markdown",
   "metadata": {},
   "source": [
    "1. **Matrix Representation:**\n",
    "   - Each inner list (e.g., `[10, 20, 30]`) is treated as a **row** of the matrix.\n",
    "   - The outer list (e.g., `[[10, 20, 30], ...]`) contains all rows.\n",
    "\n",
    "2. **Row-wise Iteration:**\n",
    "   - Iterate over the outer list to access each row.\n",
    "\n",
    "3. **Matrix-style Iteration:**\n",
    "   - Use nested loops:\n",
    "     - Outer loop for rows (`i` in `range(len(n))`).\n",
    "     - Inner loop for columns (`j` in `range(len(n[i]))`).\n",
    "\n",
    "4. **Output Formatting:**\n",
    "   - Use `end=' '` in the `print()` function to print elements in the same row.\n",
    "   - Add a `print()` (without arguments) after the inner loop to move to the next row.\n"
   ]
  },
  {
   "cell_type": "markdown",
   "metadata": {},
   "source": [
    "### **List Comprehensions in Python**\n",
    "List comprehensions provide a concise way to create lists from iterables like lists, tuples, dictionaries, and ranges, optionally applying a condition."
   ]
  },
  {
   "cell_type": "markdown",
   "metadata": {},
   "source": [
    "### **Syntax:**\n",
    "```python\n",
    "new_list = [expression for item in iterable if condition]\n",
    "```\n",
    "- **`expression`**: The transformation applied to the item.\n",
    "- **`iterable`**: The source iterable object (e.g., range, list, etc.).\n",
    "- **`if condition`**: An optional condition to filter items."
   ]
  },
  {
   "cell_type": "markdown",
   "metadata": {},
   "source": [
    "### **Examples:**"
   ]
  },
  {
   "cell_type": "markdown",
   "metadata": {},
   "source": [
    "#### **1. Basic List Comprehensions**"
   ]
  },
  {
   "cell_type": "code",
   "execution_count": 14,
   "metadata": {},
   "outputs": [
    {
     "name": "stdout",
     "output_type": "stream",
     "text": [
      "[1, 4, 9, 16, 25, 36, 49, 64, 81, 100]\n"
     ]
    }
   ],
   "source": [
    "# Square of numbers from 1 to 10\n",
    "s = [x * x for x in range(1, 11)]\n",
    "print(s)"
   ]
  },
  {
   "cell_type": "code",
   "execution_count": 15,
   "metadata": {},
   "outputs": [
    {
     "name": "stdout",
     "output_type": "stream",
     "text": [
      "[2, 4, 8, 16, 32]\n"
     ]
    }
   ],
   "source": [
    "# Powers of 2 from 2^1 to 2^5\n",
    "v = [2 ** x for x in range(1, 6)]\n",
    "print(v) "
   ]
  },
  {
   "cell_type": "code",
   "execution_count": 16,
   "metadata": {},
   "outputs": [
    {
     "name": "stdout",
     "output_type": "stream",
     "text": [
      "[4, 16, 36, 64, 100]\n"
     ]
    }
   ],
   "source": [
    "# Filter even squares\n",
    "m = [x for x in s if x % 2 == 0]\n",
    "print(m)"
   ]
  },
  {
   "cell_type": "markdown",
   "metadata": {},
   "source": [
    "#### **2. Extracting First Characters from Words**"
   ]
  },
  {
   "cell_type": "code",
   "execution_count": 17,
   "metadata": {},
   "outputs": [],
   "source": [
    "words = [\"Balaiah\", \"Nag\", \"Venkatesh\", \"Chiranjeevi\"]"
   ]
  },
  {
   "cell_type": "code",
   "execution_count": 18,
   "metadata": {},
   "outputs": [
    {
     "name": "stdout",
     "output_type": "stream",
     "text": [
      "['B', 'N', 'V', 'C']\n"
     ]
    }
   ],
   "source": [
    "# Extract the first letter of each word\n",
    "l = [w[0] for w in words]\n",
    "print(l)  # Output: ['B', 'N', 'V', 'C']"
   ]
  },
  {
   "cell_type": "markdown",
   "metadata": {},
   "source": [
    "#### **3. Finding Differences and Common Elements Between Lists**"
   ]
  },
  {
   "cell_type": "code",
   "execution_count": 19,
   "metadata": {},
   "outputs": [],
   "source": [
    "num1 = [10, 20, 30, 40]\n",
    "num2 = [30, 40, 50, 60]"
   ]
  },
  {
   "cell_type": "code",
   "execution_count": 20,
   "metadata": {},
   "outputs": [
    {
     "name": "stdout",
     "output_type": "stream",
     "text": [
      "[10, 20]\n"
     ]
    }
   ],
   "source": [
    "num3 = [i for i in num1 if i not in num2]\n",
    "print(num3)  "
   ]
  },
  {
   "cell_type": "code",
   "execution_count": 21,
   "metadata": {},
   "outputs": [
    {
     "name": "stdout",
     "output_type": "stream",
     "text": [
      "[30, 40]\n"
     ]
    }
   ],
   "source": [
    "# Common elements between num1 and num2\n",
    "num4 = [i for i in num1 if i in num2]\n",
    "print(num4) "
   ]
  },
  {
   "cell_type": "markdown",
   "metadata": {},
   "source": [
    "#### **4. Transforming Words**"
   ]
  },
  {
   "cell_type": "code",
   "execution_count": 22,
   "metadata": {},
   "outputs": [
    {
     "name": "stdout",
     "output_type": "stream",
     "text": [
      "['the', 'quick', 'brown', 'fox', 'jumps', 'over', 'the', 'lazy', 'dog']\n",
      "[['THE', 3], ['QUICK', 5], ['BROWN', 5], ['FOX', 3], ['JUMPS', 5], ['OVER', 4], ['THE', 3], ['LAZY', 4], ['DOG', 3]]\n"
     ]
    }
   ],
   "source": [
    "words = \"the quick brown fox jumps over the lazy dog\".split()\n",
    "print(words)\n",
    "# Create a nested list with uppercase words and their lengths\n",
    "l = [[w.upper(), len(w)] for w in words]\n",
    "print(l)"
   ]
  },
  {
   "cell_type": "markdown",
   "metadata": {},
   "source": [
    "### **Benefits of List Comprehensions:**\n",
    "1. **Concise Code**: Shortens multi-line loops into a single line.\n",
    "2. **Improved Readability**: Makes it easier to understand the transformation logic.\n",
    "3. **Performance**: Slightly faster than traditional `for` loops.\n"
   ]
  },
  {
   "cell_type": "markdown",
   "metadata": {},
   "source": [
    "### **Python Program to Display Unique Vowels in a Given Word**"
   ]
  },
  {
   "cell_type": "code",
   "execution_count": 23,
   "metadata": {},
   "outputs": [
    {
     "name": "stdout",
     "output_type": "stream",
     "text": [
      "Unique vowels found: []\n",
      "The number of different vowels present in '' is: 0\n"
     ]
    }
   ],
   "source": [
    "# List of vowels\n",
    "vowels = ['a', 'e', 'i', 'o', 'u']\n",
    "\n",
    "# Input from the user\n",
    "word = input(\"Enter the word to search for vowels: \").lower()\n",
    "\n",
    "# Empty list to store found vowels\n",
    "found = []\n",
    "\n",
    "# Loop through each letter in the word\n",
    "for letter in word:\n",
    "    if letter in vowels and letter not in found:\n",
    "        found.append(letter)\n",
    "\n",
    "# Display the results\n",
    "print(\"Unique vowels found:\", found)\n",
    "print(f\"The number of different vowels present in '{word}' is:\", len(found))"
   ]
  },
  {
   "cell_type": "markdown",
   "metadata": {},
   "source": [
    "### **List of List Functions**\n",
    "\n",
    "| **Method**         | **Description**                                                                                  |\n",
    "|---------------------|--------------------------------------------------------------------------------------------------|\n",
    "| `append()`          | Adds a single element to the end of the list.                                                   |\n",
    "| `extend()`          | Adds multiple elements to the end of the list.                                                  |\n",
    "| `insert()`          | Inserts an element at a specified position.                                                     |\n",
    "| `remove()`          | Removes the first occurrence of a specified element.                                            |\n",
    "| `pop()`             | Removes and returns the element at the specified index (default is the last element).           |\n",
    "| `clear()`           | Removes all elements from the list.                                                             |\n",
    "| `index()`           | Returns the index of the first occurrence of a specified element.                               |\n",
    "| `count()`           | Returns the number of times a specified element occurs in the list.                             |\n",
    "| `sort()`            | Sorts the list in ascending order (or descending if `reverse=True` is specified).               |\n",
    "| `reverse()`         | Reverses the elements of the list.                                                              |\n",
    "| `copy()`            | Returns a shallow copy of the list.                                                             |"
   ]
  },
  {
   "cell_type": "code",
   "execution_count": 24,
   "metadata": {},
   "outputs": [
    {
     "name": "stdout",
     "output_type": "stream",
     "text": [
      "After append: [10, 20, 30, 40, 50, 60]\n",
      "After extend: [10, 20, 30, 40, 50, 60, 70, 80]\n",
      "After insert: [10, 20, 25, 30, 40, 50, 60, 70, 80]\n",
      "After remove: [10, 20, 25, 30, 50, 60, 70, 80]\n",
      "After pop: [10, 20, 25, 30, 50, 60, 70]\n",
      "Popped element: 80\n",
      "Index of 30: 3\n",
      "Count of 20: 1\n",
      "After sort: [10, 20, 25, 30, 50, 60, 70]\n",
      "After reverse: [70, 60, 50, 30, 25, 20, 10]\n",
      "Copy of the list: [70, 60, 50, 30, 25, 20, 10]\n",
      "After clear: []\n"
     ]
    }
   ],
   "source": [
    "# Example list\n",
    "numbers = [10, 20, 30, 40, 50]\n",
    "\n",
    "# 1. append() - Add a single element to the end\n",
    "numbers.append(60)\n",
    "print(\"After append:\", numbers)\n",
    "\n",
    "# 2. extend() - Add multiple elements to the end\n",
    "numbers.extend([70, 80])\n",
    "print(\"After extend:\", numbers)\n",
    "\n",
    "# 3. insert() - Insert an element at a specified position\n",
    "numbers.insert(2, 25)\n",
    "print(\"After insert:\", numbers)\n",
    "\n",
    "# 4. remove() - Remove the first occurrence of a specified element\n",
    "numbers.remove(40)\n",
    "print(\"After remove:\", numbers)\n",
    "\n",
    "# 5. pop() - Remove and return an element at a specified position\n",
    "last_element = numbers.pop()\n",
    "print(\"After pop:\", numbers)\n",
    "print(\"Popped element:\", last_element)\n",
    "\n",
    "# 6. index() - Get the index of the first occurrence of an element\n",
    "index_of_30 = numbers.index(30)\n",
    "print(\"Index of 30:\", index_of_30)\n",
    "\n",
    "# 7. count() - Count the occurrences of an element\n",
    "count_of_20 = numbers.count(20)\n",
    "print(\"Count of 20:\", count_of_20)\n",
    "\n",
    "# 8. sort() - Sort the list\n",
    "numbers.sort()\n",
    "print(\"After sort:\", numbers)\n",
    "\n",
    "# 9. reverse() - Reverse the order of elements\n",
    "numbers.reverse()\n",
    "print(\"After reverse:\", numbers)\n",
    "\n",
    "# 10. copy() - Create a shallow copy\n",
    "numbers_copy = numbers.copy()\n",
    "print(\"Copy of the list:\", numbers_copy)\n",
    "\n",
    "# 11. clear() - Clear the list\n",
    "numbers.clear()\n",
    "print(\"After clear:\", numbers)"
   ]
  },
  {
   "cell_type": "markdown",
   "metadata": {},
   "source": [
    "1. **How do you remove duplicates from a list while preserving the order?**\n",
    "2. **What is the difference between `append()` and `extend()` methods in lists?**\n",
    "3. **How can you merge two lists into a list of tuples, pairing corresponding elements?**\n",
    "4. **How do you sort a list of dictionaries by a specific key?**\n",
    "5. **What is list comprehension, and how can it be used to create a new list based on an existing one?**\n",
    "6. **How can you flatten a nested list (a list of lists) into a single list?**\n",
    "7. **How do you find the index of the first occurrence of an element in a list?**\n",
    "8. **What is the difference between `del`, `remove()`, and `pop()` when deleting elements from a list?**\n",
    "9. **How can you iterate over multiple lists simultaneously?**\n",
    "10. **How do you check if a list is empty?**\n",
    "11. **How can you reverse a list in Python?**\n",
    "12. **What is the difference between deep copy and shallow copy of a list?**\n",
    "13. **How do you find the common elements between two lists?**\n",
    "14. **How can you split a list into evenly sized chunks?**\n",
    "15. **How do you remove elements from a list that satisfy a certain condition?**\n",
    "16. **How can you transpose a list of lists (matrix) in Python?**\n",
    "17. **What are the implications of using a list as a default argument in a function?**\n",
    "18. **How do you randomly shuffle the elements of a list?**\n",
    "19. **How can you find the most frequent element in a list?**\n",
    "20. **What is the time complexity of common list operations like insertion, deletion, and access?**\n"
   ]
  },
  {
   "cell_type": "markdown",
   "metadata": {},
   "source": [
    "1. **How do you remove duplicates from a list while preserving the order?**"
   ]
  },
  {
   "cell_type": "code",
   "execution_count": 5,
   "metadata": {},
   "outputs": [
    {
     "name": "stdout",
     "output_type": "stream",
     "text": [
      "[1, 2, 3, 4, 5]\n"
     ]
    }
   ],
   "source": [
    "original_list = [1, 2, 2, 3, 4, 4, 5]\n",
    "unique_list = list(dict.fromkeys(original_list))\n",
    "print(unique_list)\n"
   ]
  },
  {
   "cell_type": "code",
   "execution_count": 4,
   "metadata": {},
   "outputs": [
    {
     "data": {
      "text/plain": [
       "{1: None, 2: None, 3: None, 4: None, 5: None}"
      ]
     },
     "execution_count": 4,
     "metadata": {},
     "output_type": "execute_result"
    }
   ],
   "source": [
    "dict.fromkeys(original_list)"
   ]
  },
  {
   "cell_type": "code",
   "execution_count": 6,
   "metadata": {},
   "outputs": [
    {
     "name": "stdout",
     "output_type": "stream",
     "text": [
      "[1, 2, 3, 4, 5]\n"
     ]
    }
   ],
   "source": [
    "original_list = [1, 2, 2, 3, 4, 4, 5]\n",
    "unique_list = []\n",
    "for item in original_list:\n",
    "    if item not in unique_list:\n",
    "        unique_list.append(item)\n",
    "print(unique_list)\n"
   ]
  },
  {
   "cell_type": "markdown",
   "metadata": {},
   "source": [
    "2. **What is the difference between `append()` and `extend()` methods in lists?**\n",
    "\n",
    "   - `append(element)` adds a single element to the end of the list.\n",
    "   - `extend(iterable)` adds each element from an iterable (e.g., list, tuple) to the end of the list."
   ]
  },
  {
   "cell_type": "markdown",
   "metadata": {},
   "source": [
    "3. **How can you merge two lists into a list of tuples, pairing corresponding elements?**\n",
    "\n",
    "To merge two lists into a list of tuples, pairing corresponding elements, you can use Python's built-in `zip()` function. This function combines elements from multiple iterables (e.g., lists) into tuples based on their positions. Here's how you can do it:"
   ]
  },
  {
   "cell_type": "code",
   "execution_count": 7,
   "metadata": {},
   "outputs": [
    {
     "name": "stdout",
     "output_type": "stream",
     "text": [
      "[(1, 'a'), (2, 'b'), (3, 'c')]\n"
     ]
    }
   ],
   "source": [
    "list1 = [1, 2, 3]\n",
    "list2 = ['a', 'b', 'c']\n",
    "\n",
    "merged_list = list(zip(list1, list2))\n",
    "print(merged_list)\n"
   ]
  },
  {
   "cell_type": "markdown",
   "metadata": {},
   "source": [
    "- `zip(list1, list2)` pairs elements from `list1` and `list2` based on their positions, creating an iterator of tuples.\n",
    "- Wrapping the `zip` object with `list()` converts it into a list of tuples.\n",
    "\n",
    "**Note:** If the input lists have different lengths, `zip()` will stop creating tuples when the shortest list is exhausted. For example:"
   ]
  },
  {
   "cell_type": "code",
   "execution_count": 9,
   "metadata": {},
   "outputs": [
    {
     "name": "stdout",
     "output_type": "stream",
     "text": [
      "[(1, 'a'), (2, 'b'), (3, 'c')]\n"
     ]
    }
   ],
   "source": [
    "list1 = [1, 2, 3, 4]\n",
    "list2 = ['a', 'b', 'c']\n",
    "\n",
    "merged_list = list(zip(list1, list2))\n",
    "print(merged_list)\n"
   ]
  },
  {
   "cell_type": "markdown",
   "metadata": {},
   "source": [
    "In this case, the fourth element of `list1` is not included because `list2` has only three elements.\n",
    "\n",
    "If you want to include all elements and fill missing values with a placeholder (e.g., `None`), you can use `itertools.zip_longest()`:\n"
   ]
  },
  {
   "cell_type": "code",
   "execution_count": 10,
   "metadata": {},
   "outputs": [
    {
     "name": "stdout",
     "output_type": "stream",
     "text": [
      "[(1, 'a'), (2, 'b'), (3, 'c'), (4, None)]\n"
     ]
    }
   ],
   "source": [
    "from itertools import zip_longest\n",
    "\n",
    "list1 = [1, 2, 3, 4]\n",
    "list2 = ['a', 'b', 'c']\n",
    "\n",
    "merged_list = list(zip_longest(list1, list2, fillvalue=None))\n",
    "print(merged_list)"
   ]
  },
  {
   "cell_type": "markdown",
   "metadata": {},
   "source": [
    "`zip_longest()` pairs elements until the longest list is exhausted, using `None` as the default fill value for missing elements.\n"
   ]
  },
  {
   "cell_type": "markdown",
   "metadata": {},
   "source": [
    "#### **4. How do you sort a list of dictionaries by a specific key?**"
   ]
  },
  {
   "cell_type": "markdown",
   "metadata": {},
   "source": [
    "**Using `sorted()` with a lambda function:**\n"
   ]
  },
  {
   "cell_type": "code",
   "execution_count": 12,
   "metadata": {},
   "outputs": [
    {
     "name": "stdout",
     "output_type": "stream",
     "text": [
      "[{'name': 'babu', 'age': 25}, {'name': 'Anna', 'age': 30}, {'name': 'Veeru', 'age': 35}]\n"
     ]
    }
   ],
   "source": [
    "# Sample list of dictionaries\n",
    "list_of_dicts = [\n",
    "    {'name': 'Anna', 'age': 30},\n",
    "    {'name': 'babu', 'age': 25},\n",
    "    {'name': 'Veeru', 'age': 35}\n",
    "]\n",
    "\n",
    "# Sort by 'age'\n",
    "sorted_list = sorted(list_of_dicts, key=lambda x: x['age'])\n",
    "\n",
    "print(sorted_list)"
   ]
  },
  {
   "cell_type": "markdown",
   "metadata": {},
   "source": [
    "\n",
    "- The `sorted()` function returns a new list that is sorted based on the key provided.\n",
    "- The `key` parameter takes a function that extracts a comparison key from each list element. In this case, `lambda x: x['age']` extracts the value associated with the `'age'` key.\n",
    "\n",
    "**Using `sorted()` with `operator.itemgetter`:**\n",
    "\n",
    "Alternatively, you can use the `itemgetter` function from the `operator` module, which can be more efficient and readable:"
   ]
  },
  {
   "cell_type": "code",
   "execution_count": 13,
   "metadata": {},
   "outputs": [
    {
     "name": "stdout",
     "output_type": "stream",
     "text": [
      "[{'name': 'Babu', 'age': 25}, {'name': 'Anna', 'age': 30}, {'name': 'Cute', 'age': 35}]\n"
     ]
    }
   ],
   "source": [
    "from operator import itemgetter\n",
    "list_of_dicts = [\n",
    "    {'name': 'Anna', 'age': 30},\n",
    "    {'name': 'Babu', 'age': 25},\n",
    "    {'name': 'Cute', 'age': 35}\n",
    "]\n",
    "\n",
    "sorted_list = sorted(list_of_dicts, key=itemgetter('age'))\n",
    "\n",
    "print(sorted_list)"
   ]
  },
  {
   "cell_type": "markdown",
   "metadata": {},
   "source": [
    "- `itemgetter('age')` creates a callable that assumes its operand is a dictionary and fetches the value associated with the `'age'` key.\n",
    "- This method can be more efficient than using a lambda function, especially for large datasets.\n",
    "\n",
    "**Sorting in Reverse Order:**\n",
    "\n",
    "If you want to sort the list in descending order based on the key, you can use the `reverse=True` parameter:"
   ]
  },
  {
   "cell_type": "code",
   "execution_count": 14,
   "metadata": {},
   "outputs": [
    {
     "name": "stdout",
     "output_type": "stream",
     "text": [
      "[{'name': 'Cute', 'age': 35}, {'name': 'Anna', 'age': 30}, {'name': 'Babu', 'age': 25}]\n"
     ]
    }
   ],
   "source": [
    "# Sort by 'age' in descending order\n",
    "sorted_list = sorted(list_of_dicts, key=itemgetter('age'), reverse=True)\n",
    "\n",
    "print(sorted_list)"
   ]
  },
  {
   "cell_type": "markdown",
   "metadata": {},
   "source": [
    "**Sorting by Multiple Keys:**\n",
    "\n",
    "To sort by multiple keys, you can pass a tuple to `itemgetter`:"
   ]
  },
  {
   "cell_type": "code",
   "execution_count": 15,
   "metadata": {},
   "outputs": [
    {
     "name": "stdout",
     "output_type": "stream",
     "text": [
      "[{'name': 'Alice', 'age': 30}, {'name': 'Bob', 'age': 20}, {'name': 'Bob', 'age': 25}, {'name': 'Charlie', 'age': 35}]\n"
     ]
    }
   ],
   "source": [
    "# Sample list of dictionaries\n",
    "list_of_dicts = [\n",
    "    {'name': 'Anna', 'age': 30},\n",
    "    {'name': 'Babu', 'age': 25},\n",
    "    {'name': 'Babu', 'age': 20},\n",
    "    {'name': 'Charlie', 'age': 35}\n",
    "]\n",
    "\n",
    "# Sort by 'name' first, then by 'age'\n",
    "sorted_list = sorted(list_of_dicts, key=itemgetter('name', 'age'))\n",
    "\n",
    "print(sorted_list)"
   ]
  },
  {
   "cell_type": "markdown",
   "metadata": {},
   "source": [
    "- `itemgetter('name', 'age')` sorts the list first by `'name'`. If there are duplicates, it then sorts by `'age'`.\n"
   ]
  },
  {
   "cell_type": "markdown",
   "metadata": {},
   "source": []
  }
 ],
 "metadata": {
  "kernelspec": {
   "display_name": "Python 3",
   "language": "python",
   "name": "python3"
  },
  "language_info": {
   "codemirror_mode": {
    "name": "ipython",
    "version": 3
   },
   "file_extension": ".py",
   "mimetype": "text/x-python",
   "name": "python",
   "nbconvert_exporter": "python",
   "pygments_lexer": "ipython3",
   "version": "3.10.9"
  }
 },
 "nbformat": 4,
 "nbformat_minor": 4
}
