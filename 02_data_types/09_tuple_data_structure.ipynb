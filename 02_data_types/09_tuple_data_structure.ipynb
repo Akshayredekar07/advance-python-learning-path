{
 "cells": [
  {
   "cell_type": "markdown",
   "metadata": {},
   "source": [
    "## **Tuple in Python**\n",
    "\n",
    "1. A **Tuple** is exactly the same as a **List**, except that it is **immutable**.  \n",
    "   Once we create a Tuple object, we cannot perform any changes in that object.\n",
    "2. Hence, a Tuple is the **read-only version of a List**.\n",
    "3. If our data is fixed and never changes, then we should go for a Tuple.\n",
    "4. **Insertion Order** is preserved.\n",
    "5. **Duplicates** are allowed.\n",
    "6. **Heterogeneous objects** are allowed.\n",
    "7. We can preserve the **insertion order** and differentiate duplicate objects by using the **index**.  \n",
    "   Hence, the index plays a very important role in a Tuple.\n",
    "8. Tuples support both **positive** and **negative indexing**:\n",
    "   - Positive indexing (`+ve`): Forward direction (from left to right).\n",
    "   - Negative indexing (`-ve`): Backward direction (from right to left).\n",
    "9. We can represent Tuple elements within **parentheses** and with a **comma separator**.\n",
    "10. **Parentheses** are optional but recommended for better readability.\n",
    "\n",
    "#### **Example: Tuple Creation**\n"
   ]
  },
  {
   "cell_type": "code",
   "execution_count": null,
   "metadata": {},
   "outputs": [],
   "source": [
    "t = 10, 20, 30, 40\n",
    "print(t)\n",
    "print(type(t))"
   ]
  },
  {
   "cell_type": "markdown",
   "metadata": {
    "vscode": {
     "languageId": "plaintext"
    }
   },
   "source": [
    "\n",
    "1. **Definition**:  \n",
    "   A Tuple is exactly the same as a List except that it is immutable. Once a Tuple object is created, no changes can be performed on it.\n",
    "\n",
    "2. **Read-Only Nature**:  \n",
    "   A Tuple is a read-only version of a List.\n",
    "\n",
    "3. **When to Use**:  \n",
    "   If the data is fixed and never changes, a Tuple is recommended.\n",
    "\n",
    "4. **Properties**:  \n",
    "   - **Insertion Order**: Preserved.  \n",
    "   - **Duplicates**: Allowed.  \n",
    "   - **Heterogeneous Objects**: Supported.  \n",
    "   - **Indexing**:  \n",
    "     - Positive index: Forward direction (left to right).  \n",
    "     - Negative index: Backward direction (right to left).\n",
    "\n",
    "5. **Representation**:  \n",
    "   - Tuple elements are represented within parentheses `()` and separated by commas.  \n",
    "   - Parentheses are optional but recommended for clarity.  \n",
    "\n"
   ]
  },
  {
   "cell_type": "code",
   "execution_count": 1,
   "metadata": {},
   "outputs": [
    {
     "name": "stdout",
     "output_type": "stream",
     "text": [
      "<class 'tuple'>\n"
     ]
    }
   ],
   "source": [
    "\n",
    "### Example: Empty Tuple\n",
    "t = ()\n",
    "print(type(t))"
   ]
  },
  {
   "cell_type": "markdown",
   "metadata": {},
   "source": [
    "\n",
    "#### **Note:**\n",
    "We have to take special care when creating a **single-valued Tuple**.  \n",
    "The value **must end with a comma**, otherwise, it will not be treated as a Tuple."
   ]
  },
  {
   "cell_type": "code",
   "execution_count": 2,
   "metadata": {},
   "outputs": [
    {
     "name": "stdout",
     "output_type": "stream",
     "text": [
      "10\n",
      "<class 'int'>\n"
     ]
    }
   ],
   "source": [
    "t = (10)\n",
    "print(t)\n",
    "print(type(t))"
   ]
  },
  {
   "cell_type": "markdown",
   "metadata": {},
   "source": [
    "#### **Correct Single-Valued Tuple:**\n"
   ]
  },
  {
   "cell_type": "code",
   "execution_count": null,
   "metadata": {},
   "outputs": [],
   "source": [
    "t = (10,)\n",
    "print(t)\n",
    "print(type(t))"
   ]
  },
  {
   "cell_type": "markdown",
   "metadata": {},
   "source": [
    "\n",
    "### **Valid Tuples**\n",
    "\n",
    "#### **Q) Which of the following are valid Tuples?**\n",
    "1. `t = ()`  \n",
    "   **Valid**: Creates an empty Tuple.  \n",
    "2. `t = 10, 20, 30, 40`  \n",
    "   **Valid**: Creates a Tuple with multiple values. Parentheses are optional.  \n",
    "3. `t = 10`  \n",
    "   **Invalid**: Treated as an integer, not a Tuple.  \n",
    "4. `t = 10,`  \n",
    "   **Valid**: Creates a single-valued Tuple. Parentheses are optional but must include a comma.  \n",
    "5. `t = (10)`  \n",
    "   **Invalid**: Treated as an integer due to missing a trailing comma.  \n",
    "6. `t = (10,)`  \n",
    "   **Valid**: Creates a single-valued Tuple. Parentheses are recommended.  \n",
    "7. `t = (10, 20, 30, 40)`  \n",
    "   **Valid**: Creates a Tuple with multiple values using parentheses.\n"
   ]
  },
  {
   "cell_type": "code",
   "execution_count": 3,
   "metadata": {},
   "outputs": [
    {
     "name": "stdout",
     "output_type": "stream",
     "text": [
      "(10,)\n",
      "<class 'tuple'>\n"
     ]
    }
   ],
   "source": [
    "t = (10,)\n",
    "print(t)       # (10,)\n",
    "print(type(t)) # <class 'tuple'>\n"
   ]
  },
  {
   "cell_type": "code",
   "execution_count": 4,
   "metadata": {},
   "outputs": [
    {
     "name": "stdout",
     "output_type": "stream",
     "text": [
      "(10, 20, 30)\n",
      "<class 'tuple'>\n",
      "(10, 20, 30)\n",
      "<class 'tuple'>\n"
     ]
    }
   ],
   "source": [
    "t = 10, 20, 30\n",
    "print(t)       # (10, 20, 30)\n",
    "print(type(t)) # <class 'tuple'>\n",
    "\n",
    "t = (10, 20, 30)\n",
    "print(t)       # (10, 20, 30)\n",
    "print(type(t)) # <class 'tuple'>\n"
   ]
  },
  {
   "cell_type": "markdown",
   "metadata": {},
   "source": [
    "4. **Using `tuple()` Function**:\n",
    "   - From a List:"
   ]
  },
  {
   "cell_type": "code",
   "execution_count": 5,
   "metadata": {},
   "outputs": [
    {
     "name": "stdout",
     "output_type": "stream",
     "text": [
      "(10, 20, 30)\n"
     ]
    }
   ],
   "source": [
    "lst = [10, 20, 30]\n",
    "t = tuple(lst)\n",
    "print(t)  # (10, 20, 30)\n"
   ]
  },
  {
   "cell_type": "markdown",
   "metadata": {},
   "source": [
    "   - From a `range()`:\n"
   ]
  },
  {
   "cell_type": "code",
   "execution_count": 6,
   "metadata": {},
   "outputs": [
    {
     "name": "stdout",
     "output_type": "stream",
     "text": [
      "(10, 12, 14, 16, 18)\n"
     ]
    }
   ],
   "source": [
    "t = tuple(range(10, 20, 2))\n",
    "print(t)  # (10, 12, 14, 16, 18)\n"
   ]
  },
  {
   "cell_type": "markdown",
   "metadata": {},
   "source": [
    "### Accessing Elements of a Tuple\n",
    "\n",
    "1. **By Index**:"
   ]
  },
  {
   "cell_type": "code",
   "execution_count": 9,
   "metadata": {},
   "outputs": [
    {
     "name": "stdout",
     "output_type": "stream",
     "text": [
      "10\n",
      "60\n"
     ]
    }
   ],
   "source": [
    "t = (10, 20, 30, 40, 50, 60)\n",
    "print(t[0])    # 10\n",
    "print(t[-1])   # 60\n",
    "# print(t[100])  # IndexError: tuple index out of range\n"
   ]
  },
  {
   "cell_type": "markdown",
   "metadata": {},
   "source": [
    "1. **By Sclicing**:"
   ]
  },
  {
   "cell_type": "code",
   "execution_count": 8,
   "metadata": {},
   "outputs": [
    {
     "name": "stdout",
     "output_type": "stream",
     "text": [
      "(20, 30, 40)\n",
      "(10, 20, 30, 40, 50, 60)\n",
      "(60, 50, 40, 30, 20, 10)\n"
     ]
    }
   ],
   "source": [
    "t = (10, 20, 30, 40, 50, 60)\n",
    "print(t[1:4])  # (20, 30, 40)\n",
    "print(t[:])    # (10, 20, 30, 40, 50, 60)\n",
    "print(t[::-1]) # (60, 50, 40, 30, 20, 10)\n"
   ]
  },
  {
   "cell_type": "code",
   "execution_count": 10,
   "metadata": {},
   "outputs": [
    {
     "name": "stdout",
     "output_type": "stream",
     "text": [
      "(30, 40, 50)\n",
      "(30, 40, 50, 60)\n",
      "(10, 30, 50)\n"
     ]
    }
   ],
   "source": [
    "t = (10, 20, 30, 40, 50, 60)\n",
    "\n",
    "print(t[2:5])     # Slicing from index 2 to 4 (exclusive of 5)\n",
    "print(t[2:100])   # Slicing from index 2 to the end, ignoring out-of-range indices\n",
    "print(t[::2])     # Slicing with a step of 2"
   ]
  },
  {
   "cell_type": "markdown",
   "metadata": {},
   "source": [
    "\n",
    "### **Tuple vs Immutability**\n",
    "\n",
    "- Once we create a Tuple, **its content cannot be changed**.\n",
    "- **Tuples are immutable objects** in Python."
   ]
  },
  {
   "cell_type": "code",
   "execution_count": 11,
   "metadata": {},
   "outputs": [
    {
     "ename": "TypeError",
     "evalue": "'tuple' object does not support item assignment",
     "output_type": "error",
     "traceback": [
      "\u001b[1;31m---------------------------------------------------------------------------\u001b[0m",
      "\u001b[1;31mTypeError\u001b[0m                                 Traceback (most recent call last)",
      "Cell \u001b[1;32mIn[11], line 2\u001b[0m\n\u001b[0;32m      1\u001b[0m t \u001b[38;5;241m=\u001b[39m (\u001b[38;5;241m10\u001b[39m, \u001b[38;5;241m20\u001b[39m, \u001b[38;5;241m30\u001b[39m, \u001b[38;5;241m40\u001b[39m)\n\u001b[1;32m----> 2\u001b[0m \u001b[43mt\u001b[49m\u001b[43m[\u001b[49m\u001b[38;5;241;43m1\u001b[39;49m\u001b[43m]\u001b[49m \u001b[38;5;241m=\u001b[39m \u001b[38;5;241m70\u001b[39m  \u001b[38;5;66;03m# Attempting to modify a Tuple element\u001b[39;00m\n",
      "\u001b[1;31mTypeError\u001b[0m: 'tuple' object does not support item assignment"
     ]
    }
   ],
   "source": [
    "t = (10, 20, 30, 40)\n",
    "t[1] = 70  # Attempting to modify a Tuple element"
   ]
  },
  {
   "cell_type": "markdown",
   "metadata": {},
   "source": [
    "### 2) Multiplication Operator OR Repetition Operator (`*`):\n",
    "The `*` operator is used to repeat a Tuple multiple times.\n",
    "\n",
    "#### Example:"
   ]
  },
  {
   "cell_type": "code",
   "execution_count": 12,
   "metadata": {},
   "outputs": [
    {
     "name": "stdout",
     "output_type": "stream",
     "text": [
      "(10, 20, 30, 40, 50, 60)\n"
     ]
    }
   ],
   "source": [
    "t1 = (10, 20, 30)\n",
    "t2 = (40, 50, 60)\n",
    "t3 = t1 + t2\n",
    "print(t3)  # (10, 20, 30, 40, 50, 60)"
   ]
  },
  {
   "cell_type": "code",
   "execution_count": 14,
   "metadata": {},
   "outputs": [
    {
     "name": "stdout",
     "output_type": "stream",
     "text": [
      "(10, 20, 30, 10, 20, 30, 10, 20, 30)\n"
     ]
    }
   ],
   "source": [
    "t1 = (10, 20, 30)\n",
    "t2 = t1 * 3\n",
    "print(t2)  # (10, 20, 30, 10, 20, 30, 10, 20, 30)"
   ]
  },
  {
   "cell_type": "markdown",
   "metadata": {},
   "source": [
    "\n",
    "1. Tuples are **immutable**.\n",
    "2. Tuples support **slicing** with start, stop, and step.\n",
    "3. Tuples support mathematical operators like `+` (concatenation) and `*` (repetition)."
   ]
  },
  {
   "cell_type": "markdown",
   "metadata": {},
   "source": [
    "### **Important Functions of Tuple in Python**\n",
    "\n",
    "1) `len()`\n",
    "- Returns the number of elements in the Tuple."
   ]
  },
  {
   "cell_type": "code",
   "execution_count": null,
   "metadata": {},
   "outputs": [],
   "source": [
    "t = (10, 20, 30, 40)\n",
    "print(len(t))  # Output: 4"
   ]
  },
  {
   "cell_type": "markdown",
   "metadata": {},
   "source": [
    " 2) `count()`\n",
    "- Returns the number of occurrences of the specified element in the Tuple."
   ]
  },
  {
   "cell_type": "code",
   "execution_count": 15,
   "metadata": {},
   "outputs": [
    {
     "name": "stdout",
     "output_type": "stream",
     "text": [
      "3\n"
     ]
    }
   ],
   "source": [
    "t = (10, 20, 10, 10, 20)\n",
    "print(t.count(10))  # Output: 3"
   ]
  },
  {
   "cell_type": "markdown",
   "metadata": {},
   "source": [
    "\n",
    "\n",
    "3) `index()`\n",
    "- Returns the index of the first occurrence of the specified element.\n",
    "- Raises `ValueError` if the element is not found.\n"
   ]
  },
  {
   "cell_type": "code",
   "execution_count": 16,
   "metadata": {},
   "outputs": [
    {
     "name": "stdout",
     "output_type": "stream",
     "text": [
      "0\n"
     ]
    },
    {
     "ename": "ValueError",
     "evalue": "tuple.index(x): x not in tuple",
     "output_type": "error",
     "traceback": [
      "\u001b[1;31m---------------------------------------------------------------------------\u001b[0m",
      "\u001b[1;31mValueError\u001b[0m                                Traceback (most recent call last)",
      "Cell \u001b[1;32mIn[16], line 3\u001b[0m\n\u001b[0;32m      1\u001b[0m t \u001b[38;5;241m=\u001b[39m (\u001b[38;5;241m10\u001b[39m, \u001b[38;5;241m20\u001b[39m, \u001b[38;5;241m10\u001b[39m, \u001b[38;5;241m10\u001b[39m, \u001b[38;5;241m20\u001b[39m)\n\u001b[0;32m      2\u001b[0m \u001b[38;5;28mprint\u001b[39m(t\u001b[38;5;241m.\u001b[39mindex(\u001b[38;5;241m10\u001b[39m))  \u001b[38;5;66;03m# Output: 0\u001b[39;00m\n\u001b[1;32m----> 3\u001b[0m \u001b[38;5;28mprint\u001b[39m(\u001b[43mt\u001b[49m\u001b[38;5;241;43m.\u001b[39;49m\u001b[43mindex\u001b[49m\u001b[43m(\u001b[49m\u001b[38;5;241;43m30\u001b[39;49m\u001b[43m)\u001b[49m)  \u001b[38;5;66;03m# Output: ValueError: tuple.index(x): x not in tuple\u001b[39;00m\n",
      "\u001b[1;31mValueError\u001b[0m: tuple.index(x): x not in tuple"
     ]
    }
   ],
   "source": [
    "t = (10, 20, 10, 10, 20)\n",
    "print(t.index(10))  # Output: 0\n",
    "print(t.index(30))  # Output: ValueError: tuple.index(x): x not in tuple"
   ]
  },
  {
   "cell_type": "markdown",
   "metadata": {},
   "source": [
    "4) `sorted()`\n",
    "- Sorts the elements of the Tuple based on the default natural sorting order.\n",
    "- Returns a **new list**; the original Tuple remains unchanged."
   ]
  },
  {
   "cell_type": "code",
   "execution_count": 17,
   "metadata": {},
   "outputs": [
    {
     "name": "stdout",
     "output_type": "stream",
     "text": [
      "[10, 20, 30, 40]\n",
      "(40, 10, 30, 20)\n",
      "[40, 30, 20, 10]\n"
     ]
    }
   ],
   "source": [
    "t = (40, 10, 30, 20)\n",
    "t1 = sorted(t)\n",
    "print(t1)  # Output: [10, 20, 30, 40]\n",
    "print(t)   # Output: (40, 10, 30, 20)\n",
    "\n",
    "# Sorting in reverse order\n",
    "t1 = sorted(t, reverse=True)\n",
    "print(t1)  # Output: [40, 30, 20, 10]"
   ]
  },
  {
   "cell_type": "markdown",
   "metadata": {},
   "source": [
    "5) `min()` and `max()`\n",
    "- `min()`: Returns the smallest element.\n",
    "- `max()`: Returns the largest element."
   ]
  },
  {
   "cell_type": "code",
   "execution_count": 18,
   "metadata": {},
   "outputs": [
    {
     "name": "stdout",
     "output_type": "stream",
     "text": [
      "10\n",
      "40\n"
     ]
    }
   ],
   "source": [
    "t = (40, 10, 30, 20)\n",
    "print(min(t))  # Output: 10\n",
    "print(max(t))  # Output: 40"
   ]
  },
  {
   "cell_type": "markdown",
   "metadata": {},
   "source": [
    "\n",
    "#### **Tuple Packing and Unpacking**\n",
    "\n",
    "#### T**uple Packing**\n",
    "- Packing a group of variables into a single Tuple.\n",
    "\n",
    "\n",
    "\n"
   ]
  },
  {
   "cell_type": "code",
   "execution_count": null,
   "metadata": {},
   "outputs": [],
   "source": [
    "a, b, c, d = 10, 20, 30, 40\n",
    "t = a, b, c, d\n",
    "print(t)  # Output: (10, 20, 30, 40)"
   ]
  },
  {
   "cell_type": "markdown",
   "metadata": {},
   "source": [
    "### **Tuple Unpacking**\n",
    "- Unpacking a Tuple and assigning its values to variables."
   ]
  },
  {
   "cell_type": "code",
   "execution_count": null,
   "metadata": {},
   "outputs": [],
   "source": [
    "t = (10, 20, 30, 40)\n",
    "a, b, c, d = t\n",
    "print(\"a =\", a, \"b =\", b, \"c =\", c, \"d =\", d)\n",
    "# Output: a = 10 b = 20 c = 30 d = 40"
   ]
  },
  {
   "cell_type": "markdown",
   "metadata": {},
   "source": [
    "### Note:\n",
    "- The number of variables must match the number of elements in the Tuple.\n",
    "- Otherwise, a `ValueError` occurs:"
   ]
  },
  {
   "cell_type": "code",
   "execution_count": 19,
   "metadata": {},
   "outputs": [
    {
     "ename": "ValueError",
     "evalue": "too many values to unpack (expected 3)",
     "output_type": "error",
     "traceback": [
      "\u001b[1;31m---------------------------------------------------------------------------\u001b[0m",
      "\u001b[1;31mValueError\u001b[0m                                Traceback (most recent call last)",
      "Cell \u001b[1;32mIn[19], line 2\u001b[0m\n\u001b[0;32m      1\u001b[0m t \u001b[38;5;241m=\u001b[39m (\u001b[38;5;241m10\u001b[39m, \u001b[38;5;241m20\u001b[39m, \u001b[38;5;241m30\u001b[39m, \u001b[38;5;241m40\u001b[39m)\n\u001b[1;32m----> 2\u001b[0m a, b, c \u001b[38;5;241m=\u001b[39m t  \u001b[38;5;66;03m# ValueError: too many values to unpack (expected 3)\u001b[39;00m\n",
      "\u001b[1;31mValueError\u001b[0m: too many values to unpack (expected 3)"
     ]
    }
   ],
   "source": [
    "t = (10, 20, 30, 40)\n",
    "a, b, c = t  # ValueError: too many values to unpack (expected 3)"
   ]
  },
  {
   "cell_type": "markdown",
   "metadata": {},
   "source": [
    "#### **Tuple Comprehension**\n",
    "- **Python does not support Tuple Comprehension.**\n",
    "- Instead, a generator object is created:"
   ]
  },
  {
   "cell_type": "code",
   "execution_count": 20,
   "metadata": {},
   "outputs": [
    {
     "name": "stdout",
     "output_type": "stream",
     "text": [
      "<class 'generator'>\n",
      "1\n",
      "4\n",
      "9\n",
      "16\n",
      "25\n"
     ]
    }
   ],
   "source": [
    "t = (x**2 for x in range(1, 6))\n",
    "print(type(t))  # Output: <class 'generator'>\n",
    "for x in t:\n",
    "    print(x)  # Output: 1, 4, 9, 16, 25"
   ]
  },
  {
   "cell_type": "markdown",
   "metadata": {},
   "source": [
    "#### **Program: Sum and Average of Tuple Elements**\n",
    "- Example:"
   ]
  },
  {
   "cell_type": "code",
   "execution_count": 21,
   "metadata": {},
   "outputs": [
    {
     "ename": "TypeError",
     "evalue": "object of type 'int' has no len()",
     "output_type": "error",
     "traceback": [
      "\u001b[1;31m---------------------------------------------------------------------------\u001b[0m",
      "\u001b[1;31mTypeError\u001b[0m                                 Traceback (most recent call last)",
      "Cell \u001b[1;32mIn[21], line 2\u001b[0m\n\u001b[0;32m      1\u001b[0m t \u001b[38;5;241m=\u001b[39m \u001b[38;5;28meval\u001b[39m(\u001b[38;5;28minput\u001b[39m(\u001b[38;5;124m\"\u001b[39m\u001b[38;5;124mEnter Tuple of Numbers: \u001b[39m\u001b[38;5;124m\"\u001b[39m))\n\u001b[1;32m----> 2\u001b[0m l \u001b[38;5;241m=\u001b[39m \u001b[38;5;28;43mlen\u001b[39;49m\u001b[43m(\u001b[49m\u001b[43mt\u001b[49m\u001b[43m)\u001b[49m\n\u001b[0;32m      3\u001b[0m total \u001b[38;5;241m=\u001b[39m \u001b[38;5;28msum\u001b[39m(t)\n\u001b[0;32m      4\u001b[0m \u001b[38;5;28mprint\u001b[39m(\u001b[38;5;124m\"\u001b[39m\u001b[38;5;124mThe Sum =\u001b[39m\u001b[38;5;124m\"\u001b[39m, total)\n",
      "\u001b[1;31mTypeError\u001b[0m: object of type 'int' has no len()"
     ]
    }
   ],
   "source": [
    "t = eval(input(\"Enter Tuple of Numbers: \"))\n",
    "l = len(t)\n",
    "total = sum(t)\n",
    "print(\"The Sum =\", total)\n",
    "print(\"The Average =\", total / l)"
   ]
  },
  {
   "cell_type": "markdown",
   "metadata": {},
   "source": [
    "### **Differences Between List and Tuple**\n",
    "\n",
    "| Feature                | List                                | Tuple                                |\n",
    "|------------------------|-------------------------------------|-------------------------------------|\n",
    "| **Definition**         | Group of comma-separated values within square brackets. Example: `i = [10, 20, 30]` | Group of comma-separated values within parentheses (parentheses are optional). Example: `t = (10, 20, 30)` |\n",
    "| **Mutability**         | Mutable: Content can be changed. Example: `i[1] = 70` | Immutable: Content cannot be changed. Example: `t[1] = 70` → ValueError |\n",
    "| **Use Case**           | Preferred for dynamic content that changes over time. | Preferred for fixed content that does not change. |\n",
    "| **Dictionary Keys**    | Cannot be used as keys in a dictionary because lists are mutable. | Can be used as keys in a dictionary because tuples are immutable. |\n",
    "\n",
    "\n",
    "#### **Key Points**\n",
    "- Both Lists and Tuples preserve insertion order.\n",
    "- Duplicate and heterogeneous elements are allowed.\n",
    "- Both support indexing and slicing."
   ]
  },
  {
   "cell_type": "markdown",
   "metadata": {},
   "source": []
  }
 ],
 "metadata": {
  "kernelspec": {
   "display_name": "Python 3",
   "language": "python",
   "name": "python3"
  },
  "language_info": {
   "codemirror_mode": {
    "name": "ipython",
    "version": 3
   },
   "file_extension": ".py",
   "mimetype": "text/x-python",
   "name": "python",
   "nbconvert_exporter": "python",
   "pygments_lexer": "ipython3",
   "version": "3.10.9"
  }
 },
 "nbformat": 4,
 "nbformat_minor": 2
}
