{
 "cells": [
  {
   "cell_type": "code",
   "execution_count": 1,
   "metadata": {},
   "outputs": [],
   "source": [
    "from threading import *"
   ]
  },
  {
   "cell_type": "code",
   "execution_count": 2,
   "metadata": {},
   "outputs": [
    {
     "name": "stdout",
     "output_type": "stream",
     "text": [
      "Good morning Durga\n",
      "Good morning Durga\n",
      "Good morning Durga\n",
      "Good morning Durga\n",
      "Good morning Ravi\n",
      "Good morning Ravi\n",
      "Good morning Ravi\n",
      "Good morning Ravi\n"
     ]
    }
   ],
   "source": [
    "for i in range(4):\n",
    "    print(\"Good morning Durga\")\n",
    "\n",
    "for i in range(4):\n",
    "    print(\"Good morning Ravi\")    \n",
    "\n",
    "## Here only one thead is running that is main thread    "
   ]
  },
  {
   "cell_type": "code",
   "execution_count": 3,
   "metadata": {},
   "outputs": [
    {
     "name": "stdout",
     "output_type": "stream",
     "text": [
      "Good afternoon durga\n",
      "Good afternoon durga\n",
      "Good afternoon durga\n",
      "Good afternoon durga\n",
      "Good afternoon durga\n",
      "Good afternoon durga\n",
      "Good afternoon durga\n",
      "Good afternoon durga\n",
      "Good afternoon durga\n",
      "Good afternoon durga\n",
      "Hello Ravi, mr durga is GOAT of Programming\n",
      "Hello Ravi, mr durga is GOAT of Programming\n",
      "Hello Ravi, mr durga is GOAT of Programming\n",
      "Hello Ravi, mr durga is GOAT of Programming\n",
      "Hello Ravi, mr durga is GOAT of Programming\n",
      "Hello Ravi, mr durga is GOAT of Programming\n",
      "Hello Ravi, mr durga is GOAT of Programming\n",
      "Hello Ravi, mr durga is GOAT of Programming\n",
      "Hello Ravi, mr durga is GOAT of Programming\n",
      "Hello Ravi, mr durga is GOAT of Programming\n"
     ]
    }
   ],
   "source": [
    "def display():\n",
    "    for i in range(10):\n",
    "        print(\"Good afternoon durga\")\n",
    "\n",
    "\n",
    "t=Thread(target=display) # creating the thread object for job: display()\n",
    "t.start() # starting of the thread\n",
    "\n",
    "for i in range(10):\n",
    "    print(\"Hello Ravi, mr durga is GOAT of Programming\")"
   ]
  },
  {
   "cell_type": "markdown",
   "metadata": {},
   "source": [
    "### _**Creating thread by extending thread class**_"
   ]
  },
  {
   "cell_type": "markdown",
   "metadata": {},
   "source": [
    "___Extending thread means we have to create child class for Thread class___\n",
    "\n",
    "___We have to Override/define run() method with our required job.___ "
   ]
  },
  {
   "cell_type": "code",
   "execution_count": 4,
   "metadata": {},
   "outputs": [
    {
     "name": "stdout",
     "output_type": "stream",
     "text": [
      "Good morning Durga\n",
      "Good morning Durga\n",
      "Good morning Durga\n",
      "Good morning Durga\n",
      "Good morning Durga\n",
      "Good morning Durga\n",
      "Good morning Durga\n",
      "Good morning Durga\n",
      "Good morning Durga\n",
      "Good morning Durga\n",
      "Good morning: Ravi\n",
      "Good morning: Ravi\n",
      "Good morning: Ravi\n",
      "Good morning: Ravi\n",
      "Good morning: Ravi\n",
      "Good morning: Ravi\n",
      "Good morning: Ravi\n",
      "Good morning: Ravi\n",
      "Good morning: Ravi\n",
      "Good morning: Ravi\n"
     ]
    }
   ],
   "source": [
    "class my_thread(Thread):\n",
    "    def run(self):\n",
    "        for i in range(10):\n",
    "            print(\"Good morning Durga\")\n",
    "\n",
    "t=my_thread() # Main thread creating the child Thread object \n",
    "t.start()\n",
    "\n",
    "for i in range(10):\n",
    "    print(\"Good morning: Ravi\")\n"
   ]
  },
  {
   "cell_type": "markdown",
   "metadata": {},
   "source": [
    "### ___3. Creating thread without extending `Thread `class___"
   ]
  },
  {
   "cell_type": "code",
   "execution_count": 5,
   "metadata": {},
   "outputs": [
    {
     "name": "stdout",
     "output_type": "stream",
     "text": [
      "Good morning: durgaGood morning: ravi\n",
      "Good morning: ravi\n",
      "Good morning: ravi\n",
      "Good morning: ravi\n",
      "Good morning: ravi\n",
      "Good morning: ravi\n",
      "Good morning: ravi\n",
      "Good morning: ravi\n",
      "Good morning: ravi\n",
      "Good morning: ravi\n",
      "\n",
      "Good morning: durga\n",
      "Good morning: durga\n",
      "Good morning: durga\n",
      "Good morning: durga\n",
      "Good morning: durga\n",
      "Good morning: durga\n",
      "Good morning: durga\n",
      "Good morning: durga\n",
      "Good morning: durga\n"
     ]
    }
   ],
   "source": [
    "from threading import *\n",
    "\n",
    "class Test:\n",
    "    def display(self):\n",
    "        for i in range(10):\n",
    "            print(\"Good morning: durga\")\n",
    "\n",
    "\n",
    "obj = Test()\n",
    "t=Thread(target=obj.display)\n",
    "t.start()\n",
    "\n",
    "for i in range(10):\n",
    "    print(\"Good morning: ravi\")"
   ]
  },
  {
   "cell_type": "code",
   "execution_count": 6,
   "metadata": {},
   "outputs": [
    {
     "name": "stdout",
     "output_type": "stream",
     "text": [
      "Good morning: durga\n",
      "Good morning: durga\n",
      "Good morning: durga\n",
      "Good morning: durga\n",
      "Good morning: durga\n",
      "Good morning: durga\n",
      "Good morning: durga\n",
      "Good morning: durga\n",
      "Good morning: durga\n",
      "Good morning: durga\n",
      "Good morning: ravi\n",
      "Good morning: ravi\n",
      "Good morning: ravi\n",
      "Good morning: ravi\n",
      "Good morning: ravi\n"
     ]
    }
   ],
   "source": [
    "from threading import *\n",
    "\n",
    "class Test:\n",
    "    def display(self):\n",
    "        for i in range(5):\n",
    "            print(\"Good morning: durga\")\n",
    "\n",
    "\n",
    "obj = Test()\n",
    "t1=Thread(target=obj.display)\n",
    "t1.start()\n",
    "t2=Thread(target=obj.display)\n",
    "t2.start()\n",
    "\n",
    "for i in range(5):\n",
    "    print(\"Good morning: ravi\")"
   ]
  },
  {
   "cell_type": "code",
   "execution_count": 7,
   "metadata": {},
   "outputs": [
    {
     "name": "stdout",
     "output_type": "stream",
     "text": [
      "The dubble of 1 is: 2\n",
      "The dubble of 2 is: 4\n",
      "The dubble of 3 is: 6\n",
      "The dubble of 4 is: 8\n",
      "The dubble of 5 is: 10\n",
      "The dubble of 1 is: 1\n",
      "The dubble of 2 is: 4\n",
      "The dubble of 3 is: 9\n",
      "The dubble of 4 is: 16\n",
      "The dubble of 5 is: 25\n",
      "The total time taken:  10.105603456497192\n"
     ]
    }
   ],
   "source": [
    "from threading import *\n",
    "import time\n",
    "\n",
    "def doubles(numbers):\n",
    "    for i in numbers:\n",
    "        time.sleep(1)\n",
    "        print(f\"The dubble of {i} is: {2*i}\")\n",
    "\n",
    "def squares(numbers):\n",
    "    for i in numbers:\n",
    "        time.sleep(1)\n",
    "        print(f\"The dubble of {i} is: {i*i}\")\n",
    "\n",
    "\n",
    "numbers=[1,2,3,4,5]\n",
    "begintime=time.time()\n",
    "doubles(numbers=numbers)        \n",
    "squares(numbers=numbers)        \n",
    "endtime=time.time()\n",
    "print(\"The total time taken: \", endtime-begintime)"
   ]
  },
  {
   "cell_type": "code",
   "execution_count": 8,
   "metadata": {},
   "outputs": [
    {
     "name": "stdout",
     "output_type": "stream",
     "text": [
      "The square of 1 is: 1\n",
      "\n",
      "The double of 1 is: 2\n",
      "\n",
      "The double of 2 is: 4\n",
      "\n",
      "The square of 2 is: 4\n",
      "\n",
      "The square of 3 is: 9\n",
      "The double of 3 is: 6\n",
      "\n",
      "\n",
      "The double of 4 is: 8\n",
      "The square of 4 is: 16\n",
      "\n",
      "\n",
      "The double of 5 is: 10\n",
      "The square of 5 is: 25\n",
      "\n",
      "\n",
      "The total time taken:  5.0476484298706055\n"
     ]
    }
   ],
   "source": [
    "from threading import *\n",
    "import time\n",
    "\n",
    "def doubles(numbers):\n",
    "    for i in numbers:\n",
    "        time.sleep(1)\n",
    "        print(f\"The double of {i} is: {2*i}\\n\")\n",
    "\n",
    "def squares(numbers):\n",
    "    for i in numbers:\n",
    "        time.sleep(1)\n",
    "        print(f\"The square of {i} is: {i*i}\\n\")\n",
    "\n",
    "\n",
    "numbers=[1,2,3,4,5]\n",
    "begintime=time.time()\n",
    "t1=Thread(target=doubles, args=(numbers,))\n",
    "t2=Thread(target=squares, args=(numbers,))\n",
    "t1.start()\n",
    "t2.start()\n",
    "# main  thread start from here\n",
    "t1.join() # main thread wait till t1 executing\n",
    "t2.join() # main thread wait till t2 executing\n",
    "endtime=time.time()\n",
    "print(\"The total time taken: \", endtime-begintime)"
   ]
  },
  {
   "cell_type": "markdown",
   "metadata": {},
   "source": [
    "### __Setting and getting names of a thread__\n",
    "\n",
    "__Every thread in python has some name.__\n",
    "\n",
    "`t.getName()`        : Return the name of thread. \n",
    "`t.setName(newName)` : To set our own name of thread.\n"
   ]
  },
  {
   "cell_type": "code",
   "execution_count": 48,
   "metadata": {},
   "outputs": [
    {
     "name": "stdout",
     "output_type": "stream",
     "text": [
      "MainThread\n"
     ]
    },
    {
     "name": "stderr",
     "output_type": "stream",
     "text": [
      "C:\\Users\\Admin\\AppData\\Local\\Temp\\ipykernel_15452\\535470039.py:3: DeprecationWarning: getName() is deprecated, get the name attribute instead\n",
      "  print(current_thread().getName())\n"
     ]
    }
   ],
   "source": [
    "from threading import *\n",
    "\n",
    "print(current_thread().getName())"
   ]
  },
  {
   "cell_type": "code",
   "execution_count": 53,
   "metadata": {},
   "outputs": [
    {
     "name": "stdout",
     "output_type": "stream",
     "text": [
      "Child thread name:  Durga thread\n",
      "Child thread name:  Ravi thread\n"
     ]
    }
   ],
   "source": [
    "def display():\n",
    "    print(\"Child thread name: \", current_thread().name)\n",
    "\n",
    "t=Thread(target=display)\n",
    "t.name = \"Durga thread\"\n",
    "t.start()    \n",
    "\n",
    "t1=Thread(target=display)\n",
    "t1.name = \"Ravi thread\"\n",
    "t1.start()    "
   ]
  },
  {
   "cell_type": "code",
   "execution_count": 9,
   "metadata": {},
   "outputs": [
    {
     "name": "stdout",
     "output_type": "stream",
     "text": [
      "Thread name: MyCustomThread\n"
     ]
    }
   ],
   "source": [
    "import threading\n",
    "\n",
    "def my_function():\n",
    "    print(f\"Thread name: {threading.current_thread().name}\")\n",
    "\n",
    "thread1 = threading.Thread(target=my_function, name=\"MyCustomThread\")\n",
    "thread1.start()"
   ]
  },
  {
   "cell_type": "code",
   "execution_count": 10,
   "metadata": {},
   "outputs": [
    {
     "name": "stdout",
     "output_type": "stream",
     "text": [
      "Thread name: NewThreadName\n",
      "Thread name: NewThreadName\n"
     ]
    }
   ],
   "source": [
    "import threading\n",
    "\n",
    "def my_function():\n",
    "    threading.current_thread().name = \"NewThreadName\"\n",
    "    print(f\"Thread name: {threading.current_thread().name}\")\n",
    "\n",
    "thread2 = threading.Thread(target=my_function)\n",
    "thread2.start()\n",
    "\n",
    "thread3 = threading.Thread(target=my_function, name=\"InitialName\")\n",
    "thread3.name = \"EvenNewerName\"\n",
    "thread3.start()"
   ]
  },
  {
   "cell_type": "code",
   "execution_count": 11,
   "metadata": {},
   "outputs": [
    {
     "name": "stdout",
     "output_type": "stream",
     "text": [
      "Current thread name: ExampleThread\n"
     ]
    }
   ],
   "source": [
    "import threading\n",
    "\n",
    "def my_function():\n",
    "    print(f\"Current thread name: {threading.current_thread().name}\")\n",
    "\n",
    "thread = threading.Thread(target=my_function, name=\"ExampleThread\")\n",
    "thread.start()"
   ]
  },
  {
   "cell_type": "code",
   "execution_count": 12,
   "metadata": {},
   "outputs": [
    {
     "name": "stdout",
     "output_type": "stream",
     "text": [
      "Thread name: AnotherThread\n"
     ]
    }
   ],
   "source": [
    "import threading\n",
    "\n",
    "def my_function():\n",
    "    pass\n",
    "\n",
    "thread = threading.Thread(target=my_function, name=\"AnotherThread\")\n",
    "print(f\"Thread name: {thread.name}\")\n",
    "thread.start()"
   ]
  },
  {
   "cell_type": "code",
   "execution_count": null,
   "metadata": {},
   "outputs": [],
   "source": []
  },
  {
   "cell_type": "code",
   "execution_count": null,
   "metadata": {},
   "outputs": [],
   "source": []
  }
 ],
 "metadata": {
  "kernelspec": {
   "display_name": "Python 3",
   "language": "python",
   "name": "python3"
  },
  "language_info": {
   "codemirror_mode": {
    "name": "ipython",
    "version": 3
   },
   "file_extension": ".py",
   "mimetype": "text/x-python",
   "name": "python",
   "nbconvert_exporter": "python",
   "pygments_lexer": "ipython3",
   "version": "3.10.9"
  }
 },
 "nbformat": 4,
 "nbformat_minor": 2
}
