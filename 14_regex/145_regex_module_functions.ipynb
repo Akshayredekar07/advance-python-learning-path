{
 "cells": [
  {
   "cell_type": "code",
   "execution_count": 3,
   "metadata": {},
   "outputs": [
    {
     "name": "stdout",
     "output_type": "stream",
     "text": [
      "The number of occurrences: 0\n"
     ]
    }
   ],
   "source": [
    "import re\n",
    "# matcher=re.finditer('[abc]', 'a7b@k9z')\n",
    "matcher=re.finditer('abc', 'a7b@k9z')\n",
    "count=0\n",
    "for match in matcher:\n",
    "    print(f\"{match.start()}---{match.group()}\")\n",
    "    count+=1\n",
    "print(f\"The number of occurrences: {count}\")"
   ]
  },
  {
   "cell_type": "markdown",
   "metadata": {},
   "source": [
    "### **Character Classes**\n",
    "\n",
    "Character classes allow searching for a group of characters:\n",
    "\n",
    "- `[abc]` - Matches any single character 'a', 'b', or 'c'\n",
    "- `[^abc]` - Matches any character except 'a', 'b', or 'c'\n",
    "- `[a-z]` - Matches any lowercase letter\n",
    "- `[A-Z]` - Matches any uppercase letter\n",
    "- `[a-zA-Z]` - Matches any letter\n",
    "- `[a-zA-Z0-9]` - Matches any alphanumeric character\n",
    "- `[0-9]` - Matches any digit\n",
    "- `[^a-zA-Z0-9]` - Except alphanumeric character\n"
   ]
  },
  {
   "cell_type": "code",
   "execution_count": 4,
   "metadata": {},
   "outputs": [
    {
     "name": "stdout",
     "output_type": "stream",
     "text": [
      "[abc]: ['a', 'b', 'a', 'a', 'a', 'c']\n",
      "[^abc]: ['t', ',', ' ', 'd', 'o', 'g', ',', ' ', 't']\n",
      "[a-z]: ['e', 'l', 'l', 'o', 'o', 'r', 'l', 'd']\n",
      "[A-Z]: ['H', 'W']\n",
      "[a-zA-Z]: ['H', 'e', 'l', 'l', 'o']\n",
      "[a-zA-Z0-9]: ['a', 'b', 'c', '1', '2', '3']\n",
      "[0-9]: ['1', '0', '1']\n",
      "[^a-zA-Z0-9]: ['!', '@', '#']\n"
     ]
    }
   ],
   "source": [
    "import re\n",
    "\n",
    "# 1. [abc]\n",
    "text = \"apple, banana, cherry\"\n",
    "matches = re.findall(r\"[abc]\", text)\n",
    "print(f\"[abc]: {matches}\")\n",
    "\n",
    "# 2. [^abc]\n",
    "text = \"cat, dog, bat\"\n",
    "matches = re.findall(r\"[^abc]\", text)\n",
    "print(f\"[^abc]: {matches}\")\n",
    "\n",
    "# 3. [a-z]\n",
    "text = \"Hello World!\"\n",
    "matches = re.findall(r\"[a-z]\", text)\n",
    "print(f\"[a-z]: {matches}\")\n",
    "\n",
    "# 4. [A-Z]\n",
    "text = \"Hello World!\"\n",
    "matches = re.findall(r\"[A-Z]\", text)\n",
    "print(f\"[A-Z]: {matches}\")\n",
    "\n",
    "# 5. [a-zA-Z]\n",
    "text = \"Hello123!\"\n",
    "matches = re.findall(r\"[a-zA-Z]\", text)\n",
    "print(f\"[a-zA-Z]: {matches}\")\n",
    "\n",
    "# 6. [a-zA-Z0-9]\n",
    "text = \"abc123!@#\"\n",
    "matches = re.findall(r\"[a-zA-Z0-9]\", text)\n",
    "print(f\"[a-zA-Z0-9]: {matches}\")\n",
    "\n",
    "# 7. [0-9]\n",
    "text = \"Room 101\"\n",
    "matches = re.findall(r\"[0-9]\", text)\n",
    "print(f\"[0-9]: {matches}\")\n",
    "\n",
    "# 8. [^a-zA-Z0-9]\n",
    "text = \"abc123!@#\"\n",
    "matches = re.findall(r\"[^a-zA-Z0-9]\", text)\n",
    "print(f\"[^a-zA-Z0-9]: {matches}\")\n"
   ]
  },
  {
   "cell_type": "markdown",
   "metadata": {},
   "source": [
    "### **Predefined Character Classes**\n",
    "\n",
    "Predefined character classes allow searching for commonly used groups of characters:\n",
    "\n",
    "- `\\d` - Matches any digit (equivalent to `[0-9]`)  \n",
    "- `\\D` - Matches any non-digit (equivalent to `[^0-9]`)  \n",
    "- `\\w` - Matches any word character (alphanumeric + underscore, equivalent to `[a-zA-Z0-9_]`)  \n",
    "- `\\W` - Matches any non-word character (equivalent to `[^a-zA-Z0-9_]`)  \n",
    "- `\\s` - Matches any whitespace character (spaces, tabs, newlines)  \n",
    "- `\\S` - Matches any non-whitespace character  "
   ]
  },
  {
   "cell_type": "code",
   "execution_count": 10,
   "metadata": {},
   "outputs": [
    {
     "name": "stdout",
     "output_type": "stream",
     "text": [
      "['1', '2', '3']\n",
      "['a', 'b', 'c']\n",
      "['H', 'e', 'l', 'l', 'o', '_', '1', '2', '3']\n",
      "['!']\n",
      "[' ', '\\n', ' ']\n",
      "['H', 'e', 'l', 'l', 'o', 'W', 'o', 'r', 'l', 'd', 'N', 'e', 'w', 'L', 'i', 'n', 'e']\n"
     ]
    }
   ],
   "source": [
    "# \\d - Matches any digit (equivalent to [0-9])\n",
    "text1 = \"abc123\"\n",
    "matches1 = re.findall(r\"\\d\", text1)\n",
    "print(matches1)  # Output: ['1', '2', '3']\n",
    "\n",
    "# \\D - Matches any non-digit (equivalent to [^0-9])\n",
    "text2 = \"abc123\"\n",
    "matches2 = re.findall(r\"\\D\", text2)\n",
    "print(matches2)  # Output: ['a', 'b', 'c']\n",
    "\n",
    "# \\w - Matches any word character (alphanumeric + underscore, equivalent to [a-zA-Z0-9_])\n",
    "text3 = \"Hello_123!\"\n",
    "matches3 = re.findall(r\"\\w\", text3)\n",
    "print(matches3)  # Output: ['H', 'e', 'l', 'l', 'o', '_', '1', '2', '3']\n",
    "\n",
    "# \\W - Matches any non-word character (equivalent to [^a-zA-Z0-9_])\n",
    "text4 = \"Hello_123!\"\n",
    "matches4 = re.findall(r\"\\W\", text4)\n",
    "print(matches4)  # Output: ['!']\n",
    "\n",
    "# \\s - Matches any whitespace character (spaces, tabs, newlines)\n",
    "text5 = \"Hello World\\nNew Line\"\n",
    "matches5 = re.findall(r\"\\s\", text5)\n",
    "print(matches5)  # Output: [' ', '\\n']\n",
    "\n",
    "# \\S - Matches any non-whitespace character\n",
    "text6 = \"Hello World\\nNew Line\"\n",
    "matches6 = re.findall(r\"\\S\", text6)\n",
    "print(matches6)  # Output: ['H', 'e', 'l', 'l', 'o', 'W', 'o', 'r', 'l', 'd', 'N', 'e', 'w', 'L', 'i', 'n', 'e']\n"
   ]
  },
  {
   "cell_type": "markdown",
   "metadata": {},
   "source": [
    "### **Quantifiers**\n",
    "\n",
    "Quantifiers allow specifying the number of occurrences to match:\n",
    "\n",
    "- `a` - Matches exactly one 'a'.  \n",
    "- `a+` - Matches at least one 'a'.  \n",
    "- `a*` - Matches any number of 'a's, including zero.  \n",
    "- `a?` - Matches at most one 'a' (either zero or one).  \n",
    "- `a{m}` - Matches exactly `m` occurrences of 'a'.  \n",
    "- `a{m,n}` - Matches a minimum of `m` and a maximum of `n` occurrences of 'a'.  "
   ]
  },
  {
   "cell_type": "code",
   "execution_count": 5,
   "metadata": {},
   "outputs": [
    {
     "name": "stdout",
     "output_type": "stream",
     "text": [
      "['a']\n"
     ]
    }
   ],
   "source": [
    "import re\n",
    "text = \"apple\"\n",
    "matches = re.findall(r\"a\", text)\n",
    "print(matches)  # Output: ['a']\n"
   ]
  },
  {
   "cell_type": "code",
   "execution_count": 6,
   "metadata": {},
   "outputs": [
    {
     "name": "stdout",
     "output_type": "stream",
     "text": [
      "['aaa']\n"
     ]
    }
   ],
   "source": [
    "text = \"aaah\"\n",
    "matches = re.findall(r\"a+\", text)\n",
    "print(matches)  # Output: ['aaa']\n"
   ]
  },
  {
   "cell_type": "code",
   "execution_count": 7,
   "metadata": {},
   "outputs": [
    {
     "name": "stdout",
     "output_type": "stream",
     "text": [
      "['', 'aaa', '', '']\n",
      "['', '', '']\n"
     ]
    }
   ],
   "source": [
    "text = \"baaac\"\n",
    "matches = re.findall(r\"a*\", text)\n",
    "print(matches)  # Output: ['', 'aaa', '']  (for each part in the string)\n",
    "\n",
    "text2 = \"bc\"\n",
    "matches2 = re.findall(r\"a*\", text2)\n",
    "print(matches2)  # Output: ['']  (zero occurrences of 'a')\n"
   ]
  },
  {
   "cell_type": "code",
   "execution_count": 8,
   "metadata": {},
   "outputs": [
    {
     "name": "stdout",
     "output_type": "stream",
     "text": [
      "['', 'a', 'a', '', '']\n"
     ]
    }
   ],
   "source": [
    "text = \"baac\"\n",
    "matches = re.findall(r\"a?\", text)\n",
    "print(matches)  # Output: ['', 'a', '', 'a', '']\n"
   ]
  },
  {
   "cell_type": "code",
   "execution_count": 9,
   "metadata": {},
   "outputs": [
    {
     "name": "stdout",
     "output_type": "stream",
     "text": [
      "['aaaa']\n"
     ]
    }
   ],
   "source": [
    "text = \"aaaaabc\"\n",
    "matches = re.findall(r\"a{2,4}\", text)\n",
    "print(matches)  # Output: ['aaaa']\n"
   ]
  },
  {
   "cell_type": "code",
   "execution_count": null,
   "metadata": {},
   "outputs": [],
   "source": []
  }
 ],
 "metadata": {
  "kernelspec": {
   "display_name": "Python 3",
   "language": "python",
   "name": "python3"
  },
  "language_info": {
   "codemirror_mode": {
    "name": "ipython",
    "version": 3
   },
   "file_extension": ".py",
   "mimetype": "text/x-python",
   "name": "python",
   "nbconvert_exporter": "python",
   "pygments_lexer": "ipython3",
   "version": "3.10.9"
  }
 },
 "nbformat": 4,
 "nbformat_minor": 2
}
