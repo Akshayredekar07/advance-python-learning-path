{
 "cells": [
  {
   "cell_type": "code",
   "execution_count": null,
   "id": "1cacbd71-7e0a-40e8-966a-02cb73f0654b",
   "metadata": {},
   "outputs": [],
   "source": [
    "class Test:\n",
    "    def __init__(self):\n",
    "        self.a = 10\n",
    "\n",
    "    def m1(self):\n",
    "        self.a = 20\n",
    "        self.b = 30\n",
    "\n",
    "t = Test()\n",
    "t.m1()\n",
    "t.a = 40\n",
    "t.c = 50\n",
    "print(t.__dict__)"
   ]
  },
  {
   "cell_type": "markdown",
   "id": "cc7a017a-527d-4331-8640-dea133080c43",
   "metadata": {},
   "source": [
    "<i style=\"color:orge; font-size:24px; text-align:center;\">Static variables</i>"
   ]
  },
  {
   "cell_type": "markdown",
   "id": "1051aecf-fd3f-40b2-bda8-36289ac5d547",
   "metadata": {},
   "source": [
    "- If the value of variable is not varied form object to object. only one copy of the variable us used in whole class\n"
   ]
  },
  {
   "cell_type": "markdown",
   "id": "68743158-513d-4fb7-abb6-9f3b65887090",
   "metadata": {},
   "source": [
    "## Various Places to Declare Static Variables\n",
    "\n",
    "1. **Within the Class Directly (Outside of Any Method)**\n",
    "   - In general, we can declare static variables within the class directly, but outside of any method.\n",
    "\n",
    "2. **Inside the Constructor Using the Class Name**\n",
    "   - We can declare static variables within the constructor using the class name.\n",
    "\n",
    "3. **Inside Instance Method Using the Class Name**\n",
    "   - Static variables can be declared inside instance methods using the class name.\n",
    "  \n",
    "4. **Inside class Method Using either Class Name or cls variable**\n",
    "   - Static variables can be declared inside class methods using the class name or cls variable.\n",
    "  \n",
    "5. **Inside static Method Using the Class Name**\n",
    "   - Static variables can be declared inside static methods using the class name.\n",
    "  \n",
    "3. **Outside the class Using the Class Name**\n",
    "   - Static variables can be declared outside class using the class name. \n"
   ]
  },
  {
   "cell_type": "code",
   "execution_count": 6,
   "id": "235c9c01-ac3e-4e17-a338-27dc7c6b08b8",
   "metadata": {},
   "outputs": [
    {
     "name": "stdout",
     "output_type": "stream",
     "text": [
      "{'__module__': '__main__', 'a': 10, '__init__': <function Test.__init__ at 0x0000027DB6746A20>, 'm1': <function Test.m1 at 0x0000027DB6746D40>, 'm2': <classmethod(<function Test.m2 at 0x0000027DB6746DE0>)>, 'm3': <staticmethod(<function Test.m3 at 0x0000027DB6746E80>)>, '__dict__': <attribute '__dict__' of 'Test' objects>, '__weakref__': <attribute '__weakref__' of 'Test' objects>, '__doc__': None, 'c': 34, 'd': 44, 'k': 67, 'p': 91, 's': 77}\n"
     ]
    }
   ],
   "source": [
    "class Test:\n",
    "    a = 10\n",
    "    def __init__(self):\n",
    "        self.b = 20\n",
    "        Test.c = 34 #static variable\n",
    "\n",
    "    def m1(self):\n",
    "        Test.d = 44\n",
    "\n",
    "    @classmethod\n",
    "    def m2(cls):\n",
    "        #static variables\n",
    "        Test.k = 67 \n",
    "        cls.p = 91\n",
    "    @staticmethod\n",
    "    def m3():\n",
    "        Test.s = 77\n",
    "\n",
    "    \n",
    "t= Test()\n",
    "t.m1()\n",
    "Test.m2()\n",
    "Test.m3()\n",
    "print(Test.__dict__)# class dict only show static variable"
   ]
  },
  {
   "cell_type": "markdown",
   "id": "3bfad0b7-229d-4ad7-a3a3-eb7266ae100c",
   "metadata": {},
   "source": [
    "How to access static variables:\n",
    "- By using self, class name, cls and object reference"
   ]
  },
  {
   "cell_type": "code",
   "execution_count": 7,
   "id": "dd6134f7-94f6-4309-a671-2ee8b0f1d0f4",
   "metadata": {},
   "outputs": [
    {
     "name": "stdout",
     "output_type": "stream",
     "text": [
      "Accessing via self: I am static\n",
      "Accessing via class name: I am static\n",
      "Accessing via cls: I am static\n",
      "Access via object reference: I am static\n"
     ]
    }
   ],
   "source": [
    "class MyClass:\n",
    "    static_variable = \"I am static\"\n",
    "\n",
    "    def instance_method(self):\n",
    "        # Accessing static variable using self\n",
    "        print(\"Accessing via self:\", self.static_variable)\n",
    "\n",
    "    @staticmethod\n",
    "    def static_method():\n",
    "        # Accessing static variable using class name\n",
    "        print(\"Accessing via class name:\", MyClass.static_variable)\n",
    "\n",
    "    @classmethod\n",
    "    def class_method(cls):\n",
    "        # Accessing static variable using cls\n",
    "        print(\"Accessing via cls:\", cls.static_variable)\n",
    "\n",
    "# Creating an object of MyClass\n",
    "obj = MyClass()\n",
    "\n",
    "# Accessing static variable via different methods\n",
    "obj.instance_method()        # Access via self\n",
    "MyClass.static_method()      # Access via class name\n",
    "MyClass.class_method()       # Access via cls\n",
    "print(\"Access via object reference:\", obj.static_variable)  # Access via object reference\n"
   ]
  },
  {
   "cell_type": "markdown",
   "id": "1e3df912-3763-475d-8cc8-f0a6573fc52e",
   "metadata": {},
   "source": [
    "How to modify(update) the value of the static vairable?\n",
    "~~~~~~~~~~~~~~~~~~~~~~~~~~~~~~~~~~~~~~~~~~~~~~~~~~~~~~~~\n",
    "\n",
    "We can update the value of static variable either by classname or by cls.\n",
    "we cannot use self or object reference to update static variable values."
   ]
  },
  {
   "cell_type": "code",
   "execution_count": 4,
   "id": "83b8531c-5590-41e8-97e6-573d5c72b106",
   "metadata": {},
   "outputs": [
    {
     "name": "stdout",
     "output_type": "stream",
     "text": [
      "30\n"
     ]
    }
   ],
   "source": [
    "class Test:\n",
    "    a = 10\n",
    "    @classmethod\n",
    "    def m1(cls):\n",
    "        cls.a = 20\n",
    "\n",
    "    @staticmethod\n",
    "    def m2():\n",
    "        Test.a = 30\n",
    "\n",
    "t = Test()\n",
    "Test.m1()\n",
    "Test.m2()\n",
    "print(Test.a)\n"
   ]
  },
  {
   "cell_type": "code",
   "execution_count": 10,
   "id": "56fe24a7-7f28-462a-8940-553cd5fe55ba",
   "metadata": {},
   "outputs": [
    {
     "name": "stdout",
     "output_type": "stream",
     "text": [
      "10\n",
      "888\n"
     ]
    }
   ],
   "source": [
    "class Test:\n",
    "    a = 10 #static variable\n",
    "    \n",
    "    def m1(self):\n",
    "        self.a = 888 #class variable\n",
    "\n",
    "t = Test()\n",
    "t.m1()\n",
    "print(Test.a) #10 static variable is access\n",
    "print(t.a) #instance variable"
   ]
  },
  {
   "cell_type": "markdown",
   "id": "ec9e7744-f81a-47a9-9df1-b92855d39def",
   "metadata": {},
   "source": [
    "We can declare the static variable: classname, cls variable\n",
    "\n",
    "We can declare the static variable: classname, cls, self, object variable\n",
    "\n",
    "we can update static variable: classname, cls, variable,\n",
    "and canot update the static variable using object reference "
   ]
  },
  {
   "cell_type": "code",
   "execution_count": 12,
   "id": "6ce81140-e632-401c-a34c-aadfd3f2c546",
   "metadata": {},
   "outputs": [
    {
     "name": "stdout",
     "output_type": "stream",
     "text": [
      "888\n"
     ]
    }
   ],
   "source": [
    "class Test:\n",
    "    a = 10  # Static variable\n",
    "\n",
    "    def m1(self):\n",
    "        self.a = 888  # Creates or modifies an instance variable\n",
    "\n",
    "    def m2(self):\n",
    "        print(self.a)  # Accesses the instance variable if it exists, otherwise the static variable\n",
    "\n",
    "t = Test()\n",
    "t.m1()  # Creates an instance variable 'a' with value 888\n",
    "t.m2()  # Prints 888 (the instance variable)\n"
   ]
  },
  {
   "cell_type": "code",
   "execution_count": 13,
   "id": "91345180-7df7-4310-bf3f-6fb7e7e98097",
   "metadata": {},
   "outputs": [
    {
     "name": "stdout",
     "output_type": "stream",
     "text": [
      "10\n",
      "888\n",
      "10\n"
     ]
    }
   ],
   "source": [
    "class Test:\n",
    "    a = 10  # Static variable\n",
    "\n",
    "    def m1(self):\n",
    "        print(self.a)  # Refers to class variable 'a' initially\n",
    "        self.a = 888  # Now creates an instance variable 'a'\n",
    "        print(self.a)  # Refers to the instance variable 'a' after assignment\n",
    "\n",
    "    def m2(self):\n",
    "        print(Test.a)  # Always refers to the class variable 'a'\n",
    "\n",
    "t = Test()\n",
    "t.m1()  # Prints 10 (class variable) and then 888 (instance variable)\n",
    "t.m2()  # Prints 10 (class variable)\n"
   ]
  },
  {
   "cell_type": "code",
   "execution_count": 22,
   "id": "800f6160-6339-4a50-bc43-3e9e46d4f996",
   "metadata": {},
   "outputs": [
    {
     "name": "stdout",
     "output_type": "stream",
     "text": [
      "t1: 10, 20\n",
      "t2: 10, 20\n",
      "t1: 888, 999\n",
      "t2: 10, 20\n"
     ]
    }
   ],
   "source": [
    "class Test:\n",
    "    x = 10\n",
    "    def __init__(self):\n",
    "        self.y = 20\n",
    "\n",
    "t1=Test()\n",
    "t2=Test()\n",
    "print(f\"t1: {t1.x}, {t1.y}\")\n",
    "print(f\"t2: {t2.x}, {t2.y}\")\n",
    "t1.x=888\n",
    "t1.y=999\n",
    "print(f\"t1: {t1.x}, {t1.y}\")\n",
    "print(f\"t2: {t2.x}, {t2.y}\")"
   ]
  },
  {
   "cell_type": "code",
   "execution_count": 23,
   "id": "eed4ff7e-45f9-40d0-b169-5a526dfcd0c3",
   "metadata": {},
   "outputs": [],
   "source": [
    "# This shows how t1 and t2 have their own separate instance variables, but they share the class-level variable x until t1 creates its own instance-level x."
   ]
  },
  {
   "cell_type": "code",
   "execution_count": 24,
   "id": "cb8c7190-86c1-41ce-8a4c-505f3e4aaa22",
   "metadata": {},
   "outputs": [],
   "source": [
    "# t1.x = t1.x+100\n",
    "# print(t1.x)"
   ]
  },
  {
   "cell_type": "code",
   "execution_count": 25,
   "id": "12a2b9af-2e18-4bf2-8ebf-f579a4019129",
   "metadata": {},
   "outputs": [
    {
     "name": "stdout",
     "output_type": "stream",
     "text": [
      "t1: 10, 20\n",
      "t2: 10, 20\n",
      "t1: 888, 999\n",
      "t2: 888, 20\n"
     ]
    }
   ],
   "source": [
    "t1=Test()\n",
    "t2=Test()\n",
    "print(f\"t1: {t1.x}, {t1.y}\")\n",
    "print(f\"t2: {t2.x}, {t2.y}\")\n",
    "Test.x= 888 #hence we update static variable\n",
    "t1.y=999\n",
    "print(f\"t1: {t1.x}, {t1.y}\")\n",
    "print(f\"t2: {t2.x}, {t2.y}\")"
   ]
  },
  {
   "cell_type": "code",
   "execution_count": 26,
   "id": "d7142b38-c3a1-4239-bed6-36109ce0d12d",
   "metadata": {},
   "outputs": [
    {
     "name": "stdout",
     "output_type": "stream",
     "text": [
      "t1: 888, 999\n",
      "t2: 10, 20\n"
     ]
    }
   ],
   "source": [
    "class Test:\n",
    "    x = 10\n",
    "    def __init__(self):\n",
    "        self.y = 20\n",
    "\n",
    "    def m1(self):\n",
    "        self.x=888\n",
    "        self.y=999\n",
    "\n",
    "t1=Test()\n",
    "t2=Test()\n",
    "t1.m1()#only update the t1 instance/object variables\n",
    "print(f\"t1: {t1.x}, {t1.y}\")\n",
    "print(f\"t2: {t2.x}, {t2.y}\")\n"
   ]
  },
  {
   "cell_type": "code",
   "execution_count": 29,
   "id": "10ab1acc-dad9-4da8-a41e-2466d6381f13",
   "metadata": {},
   "outputs": [
    {
     "name": "stdout",
     "output_type": "stream",
     "text": [
      "t1: 888, 20\n",
      "t2: 888, 20\n"
     ]
    }
   ],
   "source": [
    "class Test:\n",
    "    x = 10\n",
    "    def __init__(self):\n",
    "        self.y = 20\n",
    "\n",
    "    @classmethod\n",
    "    def m1(cls):\n",
    "        cls.x=888\n",
    "        cls.y=999 # static variable\n",
    "\n",
    "t1=Test()\n",
    "t2=Test()\n",
    "t1.m1()\n",
    "print(f\"t1: {t1.x}, {t1.y}\")\n",
    "print(f\"t2: {t2.x}, {t2.y}\")\n"
   ]
  },
  {
   "cell_type": "code",
   "execution_count": 30,
   "id": "a157a37e-a8e7-416c-ad76-694bd6879528",
   "metadata": {},
   "outputs": [
    {
     "name": "stdout",
     "output_type": "stream",
     "text": [
      "888 999\n"
     ]
    }
   ],
   "source": [
    "print(Test.x, Test.y)"
   ]
  },
  {
   "cell_type": "markdown",
   "id": "74a3c105-b060-4aeb-bbeb-64f39270055a",
   "metadata": {},
   "source": [
    "\n",
    "To access instance variable use object reference\n",
    "\n",
    "To access static variable use class name"
   ]
  },
  {
   "cell_type": "code",
   "execution_count": null,
   "id": "b51fac2c-1b60-4a3b-9f33-c3d1090f1108",
   "metadata": {},
   "outputs": [],
   "source": []
  }
 ],
 "metadata": {
  "kernelspec": {
   "display_name": "Python 3 (ipykernel)",
   "language": "python",
   "name": "python3"
  },
  "language_info": {
   "codemirror_mode": {
    "name": "ipython",
    "version": 3
   },
   "file_extension": ".py",
   "mimetype": "text/x-python",
   "name": "python",
   "nbconvert_exporter": "python",
   "pygments_lexer": "ipython3",
   "version": "3.11.5"
  }
 },
 "nbformat": 4,
 "nbformat_minor": 5
}
