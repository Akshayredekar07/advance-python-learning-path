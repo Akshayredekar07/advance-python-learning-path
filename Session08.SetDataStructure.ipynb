{
 "cells": [
  {
   "cell_type": "markdown",
   "metadata": {},
   "source": [
    "###### **Definition of Set in Python**\n",
    "\n",
    "A **set** is a data structure in Python that represents a collection of **unique and unordered elements**. It is designed to store only distinct items, and operations like union, intersection, and difference can be performed on sets. Sets are mutable, allowing modifications to their contents after creation, but they do not support indexing or slicing due to their unordered nature. Elements in a set are enclosed in **curly braces `{}`** and separated by commas."
   ]
  },
  {
   "cell_type": "markdown",
   "metadata": {},
   "source": [
    "- **Set**: Represents a group of unique values as a single entity.\n",
    "- **Duplicates are not allowed**.\n",
    "- **Insertion order is not preserved**, but elements can be sorted if needed.\n",
    "- **Indexing and slicing are not supported**.\n",
    "- **Heterogeneous elements are allowed**.\n",
    "- **Mutable**: You can modify a set object after creation.\n",
    "- Elements are enclosed in **curly braces** `{}` and separated by commas.\n",
    "- Supports **mathematical operations** like union, intersection, and difference."
   ]
  },
  {
   "cell_type": "markdown",
   "metadata": {},
   "source": [
    "##### **Creation of Set Objects**\n",
    "\n",
    "1. **Using Curly Braces**:"
   ]
  },
  {
   "cell_type": "code",
   "execution_count": 2,
   "metadata": {},
   "outputs": [
    {
     "name": "stdout",
     "output_type": "stream",
     "text": [
      "{40, 10, 20, 30}\n",
      "<class 'set'>\n"
     ]
    }
   ],
   "source": [
    "s = {10, 20, 30, 40}\n",
    "print(s)\n",
    "print(type(s))"
   ]
  },
  {
   "cell_type": "markdown",
   "metadata": {},
   "source": [
    "2. **Using `set()` Function**:\n",
    "   - Convert a sequence (like a list) into a set:"
   ]
  },
  {
   "cell_type": "code",
   "execution_count": 3,
   "metadata": {},
   "outputs": [
    {
     "name": "stdout",
     "output_type": "stream",
     "text": [
      "{40, 10, 20, 30}\n"
     ]
    }
   ],
   "source": [
    "l = [10, 20, 30, 40, 10, 20, 10]\n",
    "s = set(l)\n",
    "print(s)"
   ]
  },
  {
   "cell_type": "markdown",
   "metadata": {},
   "source": [
    "- Convert a range into a set:"
   ]
  },
  {
   "cell_type": "code",
   "execution_count": 4,
   "metadata": {},
   "outputs": [
    {
     "name": "stdout",
     "output_type": "stream",
     "text": [
      "{0, 1, 2, 3, 4}\n"
     ]
    }
   ],
   "source": [
    "s = set(range(5))\n",
    "print(s)"
   ]
  },
  {
   "cell_type": "markdown",
   "metadata": {},
   "source": [
    "######## **Important Notes**\n",
    "- **Creating an Empty Set**:\n",
    "  - Use `set()` to create an empty set.\n"
   ]
  },
  {
   "cell_type": "code",
   "execution_count": 5,
   "metadata": {},
   "outputs": [
    {
     "name": "stdout",
     "output_type": "stream",
     "text": [
      "set()\n",
      "<class 'set'>\n"
     ]
    }
   ],
   "source": [
    "s = set()\n",
    "print(s)\n",
    "print(type(s))"
   ]
  },
  {
   "cell_type": "markdown",
   "metadata": {},
   "source": [
    "- Using `{}` creates an **empty dictionary**, not a set:"
   ]
  },
  {
   "cell_type": "code",
   "execution_count": 6,
   "metadata": {},
   "outputs": [
    {
     "name": "stdout",
     "output_type": "stream",
     "text": [
      "{}\n",
      "<class 'dict'>\n"
     ]
    }
   ],
   "source": [
    "s = {}\n",
    "print(s)\n",
    "print(type(s))"
   ]
  },
  {
   "cell_type": "markdown",
   "metadata": {},
   "source": [
    "######## **Note**\n",
    "- **While creating an empty set, special care is required.**\n",
    "- **You must use the `set()` function to create an empty set.**\n",
    "- `s = {}` is treated as a dictionary, **not an empty set**."
   ]
  },
  {
   "cell_type": "markdown",
   "metadata": {},
   "source": [
    "###### **Important Functions of Set**\n",
    "\n",
    "1. **`add(x)`**:  \n",
    "   Adds the element `x` to the set.\n",
    "\n",
    "2. **`update(x, y, z)`**:  \n",
    "   - Adds multiple elements to the set.  \n",
    "   - Arguments must be iterable objects like lists, ranges, etc.  \n",
    "   - All elements from the given iterable objects are added to the set."
   ]
  },
  {
   "cell_type": "markdown",
   "metadata": {},
   "source": [
    "Example for `add(x)`:"
   ]
  },
  {
   "cell_type": "code",
   "execution_count": 7,
   "metadata": {},
   "outputs": [
    {
     "name": "stdout",
     "output_type": "stream",
     "text": [
      "{40, 10, 20, 30}\n"
     ]
    }
   ],
   "source": [
    "s = {10, 20, 30}\n",
    "s.add(40)\n",
    "print(s)  # Output: {40, 10, 20, 30}"
   ]
  },
  {
   "cell_type": "markdown",
   "metadata": {},
   "source": [
    "Example for `update(x, y, z)`:"
   ]
  },
  {
   "cell_type": "code",
   "execution_count": 8,
   "metadata": {},
   "outputs": [
    {
     "name": "stdout",
     "output_type": "stream",
     "text": [
      "{0, 1, 2, 3, 4, 40, 10, 50, 20, 60, 30}\n"
     ]
    }
   ],
   "source": [
    "s = {10, 20, 30}\n",
    "l = [40, 50, 60, 10]\n",
    "s.update(l, range(5))\n",
    "print(s)  # Output: {0, 1, 2, 3, 4, 40, 10, 50, 20, 60, 30}"
   ]
  },
  {
   "cell_type": "markdown",
   "metadata": {},
   "source": [
    "###### **Q) What is the difference between `add()` and `update()` functions in Set?**\n",
    "\n",
    "- **`add()`**:  \n",
    "  Used to add an individual item to the set.  \n",
    "  - Takes only one argument.  \n",
    "  - Argument cannot be an iterable.  \n",
    "\n",
    "- **`update()`**:  \n",
    "  Used to add multiple items to the set.  \n",
    "  - Takes any number of arguments, but all arguments must be iterable objects.  "
   ]
  },
  {
   "cell_type": "code",
   "execution_count": 9,
   "metadata": {},
   "outputs": [
    {
     "name": "stdout",
     "output_type": "stream",
     "text": [
      "{1, 2, 3, 10, 20, 30}\n"
     ]
    }
   ],
   "source": [
    "s = {10, 20}\n",
    "s.add(30)  # Adds 30 to the set\n",
    "s.update(range(1, 4))  # Adds 1, 2, 3 to the set\n",
    "print(s)  # Output: {1, 2, 3, 10, 20, 30}"
   ]
  },
  {
   "cell_type": "code",
   "execution_count": 10,
   "metadata": {},
   "outputs": [
    {
     "ename": "TypeError",
     "evalue": "set.add() takes exactly one argument (3 given)",
     "output_type": "error",
     "traceback": [
      "\u001b[1;31m---------------------------------------------------------------------------\u001b[0m",
      "\u001b[1;31mTypeError\u001b[0m                                 Traceback (most recent call last)",
      "Cell \u001b[1;32mIn[10], line 2\u001b[0m\n\u001b[0;32m      1\u001b[0m s \u001b[38;5;241m=\u001b[39m {\u001b[38;5;241m10\u001b[39m, \u001b[38;5;241m20\u001b[39m}\n\u001b[1;32m----> 2\u001b[0m \u001b[43ms\u001b[49m\u001b[38;5;241;43m.\u001b[39;49m\u001b[43madd\u001b[49m\u001b[43m(\u001b[49m\u001b[38;5;241;43m10\u001b[39;49m\u001b[43m,\u001b[49m\u001b[43m \u001b[49m\u001b[38;5;241;43m20\u001b[39;49m\u001b[43m,\u001b[49m\u001b[43m \u001b[49m\u001b[38;5;241;43m30\u001b[39;49m\u001b[43m)\u001b[49m  \u001b[38;5;66;03m# TypeError: add() takes exactly one argument (3 given)\u001b[39;00m\n\u001b[0;32m      3\u001b[0m s\u001b[38;5;241m.\u001b[39mupdate(\u001b[38;5;241m10\u001b[39m)       \u001b[38;5;66;03m# TypeError: 'int' object is not iterable\u001b[39;00m\n",
      "\u001b[1;31mTypeError\u001b[0m: set.add() takes exactly one argument (3 given)"
     ]
    }
   ],
   "source": [
    "s = {10, 20}\n",
    "s.add(10, 20, 30)  # TypeError: add() takes exactly one argument (3 given)\n",
    "s.update(10)       # TypeError: 'int' object is not iterable"
   ]
  },
  {
   "cell_type": "markdown",
   "metadata": {},
   "source": [
    "###### **Important Functions of Set**\n",
    "\n",
    "1. **`copy()`**:  \n",
    "   - Returns a copy of the set.  \n",
    "   - The copy is a cloned object."
   ]
  },
  {
   "cell_type": "code",
   "execution_count": 11,
   "metadata": {},
   "outputs": [
    {
     "name": "stdout",
     "output_type": "stream",
     "text": [
      "{10, 20, 30}\n"
     ]
    }
   ],
   "source": [
    "s = {10, 20, 30}\n",
    "s1 = s.copy()\n",
    "print(s1)  # Output: {10, 20, 30}"
   ]
  },
  {
   "cell_type": "markdown",
   "metadata": {},
   "source": [
    "2. **`pop()`**:  \n",
    "   - Removes and returns a random element from the set.  "
   ]
  },
  {
   "cell_type": "code",
   "execution_count": 12,
   "metadata": {},
   "outputs": [
    {
     "name": "stdout",
     "output_type": "stream",
     "text": [
      "{40, 10, 20, 30}\n",
      "40\n",
      "{10, 20, 30}\n"
     ]
    }
   ],
   "source": [
    "s = {40, 10, 30, 20}\n",
    "print(s)         # Output: {40, 10, 30, 20}\n",
    "print(s.pop())   # Removes and prints a random element\n",
    "print(s)         # Output: Set after removing one element"
   ]
  },
  {
   "cell_type": "markdown",
   "metadata": {},
   "source": [
    "3. **`remove(x)`**:  \n",
    "   - Removes the specified element `x` from the set.  \n",
    "   - Raises `KeyError` if the element is not found."
   ]
  },
  {
   "cell_type": "code",
   "execution_count": 13,
   "metadata": {},
   "outputs": [
    {
     "name": "stdout",
     "output_type": "stream",
     "text": [
      "{40, 10, 20}\n"
     ]
    }
   ],
   "source": [
    "s = {40, 10, 30, 20}\n",
    "s.remove(30)\n",
    "print(s)  # Output: {40, 10, 20}"
   ]
  },
  {
   "cell_type": "markdown",
   "metadata": {},
   "source": [
    "###### **Key Points about Set Functions and Operations**\n",
    "\n",
    "######## **Functions of Set**\n",
    "1. **`remove(x)`**:  \n",
    "   - Removes the specified element from the set.  \n",
    "   - Raises a `KeyError` if the element is not present.  \n",
    "\n",
    "2. **`discard(x)`**:  \n",
    "   - Removes the specified element from the set.  \n",
    "   - Does not raise an error if the element is not present.  \n",
    "\n",
    "   **Example**:"
   ]
  },
  {
   "cell_type": "code",
   "execution_count": 14,
   "metadata": {},
   "outputs": [
    {
     "name": "stdout",
     "output_type": "stream",
     "text": [
      "{20, 30}\n",
      "{20, 30}\n"
     ]
    }
   ],
   "source": [
    "   s = {10, 20, 30}\n",
    "   s.discard(10)  # Removes 10 from the set\n",
    "   print(s)       # Output: {20, 30}\n",
    "   s.discard(50)  # Does nothing as 50 is not in the set\n",
    "   print(s)       # Output: {20, 30}"
   ]
  },
  {
   "cell_type": "markdown",
   "metadata": {},
   "source": [
    "3. **`clear()`**:  \n",
    "   - Removes all elements from the set.  "
   ]
  },
  {
   "cell_type": "code",
   "execution_count": 16,
   "metadata": {},
   "outputs": [
    {
     "name": "stdout",
     "output_type": "stream",
     "text": [
      "{10, 20, 30}\n",
      "set()\n"
     ]
    }
   ],
   "source": [
    "s = {10, 20, 30}\n",
    "print(s)       # Output: {10, 20, 30}\n",
    "s.clear()      # Removes all elements\n",
    "print(s)       # Output: set()"
   ]
  },
  {
   "cell_type": "markdown",
   "metadata": {},
   "source": [
    "######## **Mathematical Operations on Sets**\n",
    "1. **`union()`**:  \n",
    "   - Combines all elements from both sets without duplicates.  \n",
    "   - Syntax: `x.union(y)` or `x | y`.  "
   ]
  },
  {
   "cell_type": "code",
   "execution_count": 17,
   "metadata": {},
   "outputs": [
    {
     "name": "stdout",
     "output_type": "stream",
     "text": [
      "{40, 10, 50, 20, 60, 30}\n",
      "{40, 10, 50, 20, 60, 30}\n"
     ]
    }
   ],
   "source": [
    "x = {10, 20, 30, 40}\n",
    "y = {30, 40, 50, 60}\n",
    "print(x.union(y))  # Output: {10, 20, 30, 40, 50, 60}\n",
    "print(x | y)       # Output: {10, 20, 30, 40, 50, 60}"
   ]
  },
  {
   "cell_type": "markdown",
   "metadata": {},
   "source": [
    "2. **`intersection()`**:  \n",
    "   - Returns common elements between sets.  \n",
    "   - Syntax: `x.intersection(y)` or `x & y`.  \n",
    "\n",
    "   **Example**:"
   ]
  },
  {
   "cell_type": "code",
   "execution_count": 18,
   "metadata": {},
   "outputs": [
    {
     "name": "stdout",
     "output_type": "stream",
     "text": [
      "{40, 30}\n",
      "{40, 30}\n"
     ]
    }
   ],
   "source": [
    "x = {10, 20, 30, 40}\n",
    "y = {30, 40, 50, 60}\n",
    "print(x.intersection(y))  # Output: {30, 40}\n",
    "print(x & y)              # Output: {30, 40}"
   ]
  },
  {
   "cell_type": "markdown",
   "metadata": {},
   "source": [
    "3. **`difference()`**:  \n",
    "   - Returns elements present in one set but not in another.  \n",
    "   - Syntax: `x.difference(y)` or `x - y`.  "
   ]
  },
  {
   "cell_type": "code",
   "execution_count": 19,
   "metadata": {},
   "outputs": [
    {
     "name": "stdout",
     "output_type": "stream",
     "text": [
      "{10, 20}\n",
      "{10, 20}\n"
     ]
    }
   ],
   "source": [
    "x = {10, 20, 30, 40}\n",
    "y = {30, 40, 50, 60}\n",
    "print(x.difference(y))  # Output: {10, 20}\n",
    "print(x - y)            # Output: {10, 20}"
   ]
  },
  {
   "cell_type": "markdown",
   "metadata": {},
   "source": [
    "4. **`symmetric_difference()`**:  \n",
    "   - Returns elements present in either set but not in both.  \n",
    "   - Syntax: `x.symmetric_difference(y)` or `x ^ y`.  "
   ]
  },
  {
   "cell_type": "code",
   "execution_count": 20,
   "metadata": {},
   "outputs": [
    {
     "name": "stdout",
     "output_type": "stream",
     "text": [
      "{10, 50, 20, 60}\n",
      "{10, 50, 20, 60}\n"
     ]
    }
   ],
   "source": [
    "x = {10, 20, 30, 40}\n",
    "y = {30, 40, 50, 60}\n",
    "print(x.symmetric_difference(y))  # Output: {10, 20, 50, 60}\n",
    "print(x ^ y)                      # Output: {10, 20, 50, 60}"
   ]
  },
  {
   "cell_type": "markdown",
   "metadata": {},
   "source": [
    "###### **Membership Operators**\n",
    "- **`in`**: Checks if an element exists in the set.  \n",
    "- **`not in`**: Checks if an element does not exist in the set.  \n"
   ]
  },
  {
   "cell_type": "code",
   "execution_count": 21,
   "metadata": {},
   "outputs": [
    {
     "name": "stdout",
     "output_type": "stream",
     "text": [
      "{'a', 'g', 'r', 'd', 'u'}\n",
      "True\n",
      "False\n"
     ]
    }
   ],
   "source": [
    "s = set(\"durga\")\n",
    "print(s)         # Output: {'u', 'g', 'r', 'd', 'a'}\n",
    "print('d' in s)  # Output: True\n",
    "print('z' in s)  # Output: False"
   ]
  },
  {
   "cell_type": "markdown",
   "metadata": {},
   "source": [
    "###### **Set Comprehension**\n",
    "- Used to generate a set using a condition or expression.  "
   ]
  },
  {
   "cell_type": "code",
   "execution_count": 22,
   "metadata": {},
   "outputs": [
    {
     "name": "stdout",
     "output_type": "stream",
     "text": [
      "{0, 1, 4, 9, 16}\n",
      "{16, 256, 64, 4}\n"
     ]
    }
   ],
   "source": [
    "s = {x * x for x in range(5)}\n",
    "print(s)  # Output: {0, 1, 4, 9, 16}\n",
    "\n",
    "s = {2 ** x for x in range(2, 10, 2)}\n",
    "print(s)  # Output: {4, 16, 64, 256}"
   ]
  },
  {
   "cell_type": "markdown",
   "metadata": {},
   "source": [
    "###### **Sets and Indexing**\n",
    "- Sets do not support indexing or slicing as they are unordered."
   ]
  },
  {
   "cell_type": "code",
   "execution_count": 23,
   "metadata": {},
   "outputs": [
    {
     "ename": "TypeError",
     "evalue": "'set' object is not subscriptable",
     "output_type": "error",
     "traceback": [
      "\u001b[1;31m---------------------------------------------------------------------------\u001b[0m",
      "\u001b[1;31mTypeError\u001b[0m                                 Traceback (most recent call last)",
      "Cell \u001b[1;32mIn[23], line 2\u001b[0m\n\u001b[0;32m      1\u001b[0m s \u001b[38;5;241m=\u001b[39m {\u001b[38;5;241m10\u001b[39m, \u001b[38;5;241m20\u001b[39m, \u001b[38;5;241m30\u001b[39m, \u001b[38;5;241m40\u001b[39m}\n\u001b[1;32m----> 2\u001b[0m \u001b[38;5;28mprint\u001b[39m(\u001b[43ms\u001b[49m\u001b[43m[\u001b[49m\u001b[38;5;241;43m0\u001b[39;49m\u001b[43m]\u001b[49m)       \u001b[38;5;66;03m# TypeError: 'set' object is not subscriptable\u001b[39;00m\n\u001b[0;32m      3\u001b[0m \u001b[38;5;28mprint\u001b[39m(s[\u001b[38;5;241m1\u001b[39m:\u001b[38;5;241m3\u001b[39m])     \u001b[38;5;66;03m# TypeError: 'set' object is not subscriptable\u001b[39;00m\n",
      "\u001b[1;31mTypeError\u001b[0m: 'set' object is not subscriptable"
     ]
    }
   ],
   "source": [
    "s = {10, 20, 30, 40}\n",
    "print(s[0])       # TypeError: 'set' object is not subscriptable\n",
    "print(s[1:3])     # TypeError: 'set' object is not subscriptable"
   ]
  },
  {
   "cell_type": "markdown",
   "metadata": {},
   "source": [
    "###### **Programs Using Sets**\n",
    "\n",
    "######## **Eliminate Duplicates from a List**"
   ]
  },
  {
   "cell_type": "code",
   "execution_count": 26,
   "metadata": {},
   "outputs": [
    {
     "name": "stdout",
     "output_type": "stream",
     "text": [
      "{40, 10, 20, 30}\n"
     ]
    }
   ],
   "source": [
    "l = eval(input(\"Enter List of values: \"))\n",
    "s = set(l)\n",
    "print(s)\n",
    "# Input: [10, 20, 30, 10, 20, 40]\n",
    "# Output: {40, 10, 20, 30}"
   ]
  },
  {
   "cell_type": "code",
   "execution_count": null,
   "metadata": {},
   "outputs": [],
   "source": [
    "\n",
    "l = eval(input(\"Enter List of values: \"))\n",
    "l1 = []\n",
    "for x in l:\n",
    "    if x not in l1:\n",
    "        l1.append(x)\n",
    "print(l1)"
   ]
  },
  {
   "cell_type": "markdown",
   "metadata": {},
   "source": [
    "######## **Find Vowels in a Word**"
   ]
  },
  {
   "cell_type": "code",
   "execution_count": 27,
   "metadata": {},
   "outputs": [
    {
     "name": "stdout",
     "output_type": "stream",
     "text": [
      "The different vowels present in durga are {'a', 'u'}\n"
     ]
    }
   ],
   "source": [
    "w = input(\"Enter word to search for vowels: \")\n",
    "s = set(w)\n",
    "v = {'a', 'e', 'i', 'o', 'u'}\n",
    "d = s.intersection(v)\n",
    "print(f\"The different vowels present in {w} are {d}\")\n",
    "# Input: durga\n",
    "# Output: The different vowels present in durga are {'u', 'a'}"
   ]
  },
  {
   "cell_type": "markdown",
   "metadata": {},
   "source": [
    "1. **What is a set in Python, and how does it differ from lists and tuples?**\n",
    "\n",
    "   A set in Python is an unordered collection of unique elements. Unlike lists and tuples, sets do not preserve the order of elements and do not allow duplicate values.\n",
    "\n",
    "2. **How do you create an empty set in Python?**\n",
    "\n",
    "   To create an empty set, use the `set()` function:\n",
    "\n",
    "   ```python\n",
    "   empty_set = set()\n",
    "   ```\n",
    "\n",
    "   Note: Using `{}` creates an empty dictionary, not a set.\n",
    "\n",
    "3. **Explain the immutability of set elements. Why must set elements be hashable?**\n",
    "\n",
    "   Set elements must be hashable because sets use a hash table to store elements, which requires that each element has a fixed hash value. This ensures that elements can be quickly located and compared.\n",
    "\n",
    "4. **Describe the difference between the `add()` and `update()` methods in sets.**\n",
    "\n",
    "   - `add(x)`: Adds a single element `x` to the set. If `x` is already present, it has no effect.\n",
    "   - `update(iterable)`: Adds multiple elements from an iterable (e.g., list, tuple, set) to the set.\n",
    "\n",
    "5. **How can you remove an element from a set? What is the difference between `remove()` and `discard()`?**\n",
    "\n",
    "   - `remove(x)`: Removes element `x` from the set. Raises a `KeyError` if `x` is not present.\n",
    "   - `discard(x)`: Removes element `x` from the set if it exists. Does nothing if `x` is not present.\n",
    "\n",
    "6. **What will happen if you try to access an element in a set using an index?**\n",
    "\n",
    "   Sets are unordered collections and do not support indexing. Attempting to access an element by index will raise a `TypeError`.\n",
    "\n",
    "7. **How do sets handle duplicate elements upon creation?**\n",
    "\n",
    "   Sets automatically remove duplicate elements. Only unique elements are stored in a set.\n",
    "\n",
    "8. **Explain the concept of set operations like union, intersection, difference, and symmetric difference with examples.**\n",
    "\n",
    "   - **Union**: Combines elements from two sets.\n",
    "     ```python\n",
    "     set1 = {1, 2, 3}\n",
    "     set2 = {3, 4, 5}\n",
    "     union_set = set1 | set2  # {1, 2, 3, 4, 5}\n",
    "     ```\n",
    "   - **Intersection**: Elements common to both sets.\n",
    "     ```python\n",
    "     intersection_set = set1 & set2  # {3}\n",
    "     ```\n",
    "   - **Difference**: Elements in the first set but not in the second.\n",
    "     ```python\n",
    "     difference_set = set1 - set2  # {1, 2}\n",
    "     ```\n",
    "   - **Symmetric Difference**: Elements in either set but not in both.\n",
    "     ```python\n",
    "     symmetric_difference_set = set1 ^ set2  # {1, 2, 4, 5}\n",
    "     ```\n",
    "\n",
    "9. **How can you check if a set is a subset or superset of another set?**\n",
    "\n",
    "   - **Subset**: `set1 <= set2` or `set1.issubset(set2)`\n",
    "   - **Superset**: `set1 >= set2` or `set1.issuperset(set2)`\n",
    "\n",
    "10. **Discuss the performance implications of using sets for membership testing compared to lists.**\n",
    "\n",
    "    Sets provide average time complexity of O(1) for membership tests, making them faster than lists, which have O(n) time complexity for the same operation.\n",
    "\n",
    "11. **Can you store a set within another set? Justify your answer.**\n",
    "\n",
    "    No, because sets are mutable and unhashable. Since set elements must be hashable, and mutable objects are unhashable, a set cannot contain another set.\n",
    "\n",
    "12. **What is a frozenset, and how does it differ from a regular set?**\n",
    "\n",
    "    A `frozenset` is an immutable version of a set. Once created, its elements cannot be modified, added, or removed. It can be used as a key in a dictionary, unlike regular sets.\n",
    "\n",
    "13. **How can you iterate over the elements of a set?**\n",
    "\n",
    "    You can iterate over a set using a for loop:\n",
    "    ```python\n",
    "    my_set = {1, 2, 3}\n",
    "    for item in my_set:\n",
    "        print(item)\n",
    "    ```\n",
    "\n",
    "14. **Explain how to find the number of unique elements in a list using a set.**\n",
    "\n",
    "    Convert the list to a set to remove duplicates, then use the `len()` function:\n",
    "    ```python\n",
    "    my_list = [1, 2, 2, 3, 4, 4]\n",
    "    unique_elements = set(my_list)\n",
    "    print(len(unique_elements))  # Output: 4\n",
    "    ```\n",
    "\n",
    "15. **Describe a scenario where using a set would be more appropriate than using a list or tuple.**\n",
    "\n",
    "    When you need to store a collection of unique items and perform operations like union, intersection, or difference, sets are more appropriate due to their optimized performance for these operations.\n",
    "\n",
    "16. **How do you convert a list with duplicate elements into a set to remove duplicates?**\n",
    "\n",
    "    Convert the list to a set:\n",
    "    ```python\n",
    "    my_list = [1, 2, 2, 3, 4]\n",
    "    unique_set = set(my_list)\n",
    "    ```\n",
    "\n",
    "17. **What is the outcome of performing the `pop()` method on a set?**\n",
    "\n",
    "    The `pop()` method removes and returns an arbitrary element from the set. Since sets are unordered, the element removed is not predictable.\n",
    "\n",
    "18. **How can you determine if two sets have no elements in common?**\n",
    "\n",
    "    Use the `isdisjoint "
   ]
  },
  {
   "cell_type": "code",
   "execution_count": 28,
   "metadata": {},
   "outputs": [
    {
     "name": "stdout",
     "output_type": "stream",
     "text": [
      "50\n",
      "20\n",
      "40\n",
      "10\n",
      "30\n"
     ]
    }
   ],
   "source": [
    "my_set = {10, 20, 30, 40, 50}\n",
    "\n",
    "for element in my_set:\n",
    "    print(element)\n"
   ]
  },
  {
   "cell_type": "code",
   "execution_count": 29,
   "metadata": {},
   "outputs": [
    {
     "name": "stdout",
     "output_type": "stream",
     "text": [
      "50\n",
      "50\n"
     ]
    }
   ],
   "source": [
    "my_set = {10, 20, 30, 40, 50}\n",
    "\n",
    "# Convert to list\n",
    "my_list = list(my_set)\n",
    "print(my_list[0])  # Access the first element\n",
    "\n",
    "# Convert to tuple\n",
    "my_tuple = tuple(my_set)\n",
    "print(my_tuple[0])  # Access the first element\n"
   ]
  },
  {
   "cell_type": "code",
   "execution_count": 30,
   "metadata": {},
   "outputs": [
    {
     "name": "stdout",
     "output_type": "stream",
     "text": [
      "User ID 103 is valid.\n"
     ]
    }
   ],
   "source": [
    "# Define a set of valid user IDs\n",
    "valid_user_ids = {101, 102, 103, 104, 105}\n",
    "\n",
    "# Function to check if a user ID is valid\n",
    "def is_valid_user(user_id):\n",
    "    return user_id in valid_user_ids\n",
    "\n",
    "# Test the function\n",
    "user_id_to_check = 103\n",
    "if is_valid_user(user_id_to_check):\n",
    "    print(f\"User ID {user_id_to_check} is valid.\")\n",
    "else:\n",
    "    print(f\"User ID {user_id_to_check} is not valid.\")\n"
   ]
  },
  {
   "cell_type": "markdown",
   "metadata": {},
   "source": [
    "In Data Structures and Algorithms (DSA), sets are commonly used in problems related to optimization, uniqueness, and efficient lookups. Sets provide an average O(1) time complexity for membership tests, which makes them a go-to choice in certain algorithms. Below are some advanced examples of how sets are used in DSA:\n",
    "\n",
    "##### 1. **Finding Intersection of Multiple Arrays (Common Elements)**\n",
    "\n",
    "In this problem, we are given multiple arrays, and we need to find the common elements among them. Using sets makes the problem much easier and efficient.\n",
    "\n",
    "```python\n",
    "def intersection_of_arrays(arrays):\n",
    "    # Convert the first array to a set\n",
    "    common_elements = set(arrays[0])\n",
    "\n",
    "    # Iterate through the rest of the arrays\n",
    "    for array in arrays[1:]:\n",
    "        common_elements.intersection_update(array)\n",
    "    \n",
    "    return common_elements\n",
    "\n",
    "# Test the function\n",
    "arrays = [\n",
    "    [1, 2, 3, 4],\n",
    "    [2, 3, 4, 5],\n",
    "    [3, 4, 6, 7]\n",
    "]\n",
    "result = intersection_of_arrays(arrays)\n",
    "print(result)  # Output: {3, 4}\n",
    "```\n",
    "\n",
    "**Explanation:**\n",
    "- We use `intersection_update()` to update the set with the common elements between the current set and the array.\n",
    "- This approach ensures that we only keep elements that are present in all arrays.\n",
    "\n",
    "##### 2. **Finding All Pairs in an Array with a Given Sum**\n",
    "\n",
    "Given an array, we need to find all pairs of elements that sum up to a given target value. A set can be used to efficiently check whether the complementary element exists.\n",
    "\n",
    "```python\n",
    "def find_pairs_with_sum(arr, target):\n",
    "    seen = set()\n",
    "    pairs = set()\n",
    "\n",
    "    for num in arr:\n",
    "        complement = target - num\n",
    "        if complement in seen:\n",
    "            pairs.add((min(num, complement), max(num, complement)))\n",
    "        seen.add(num)\n",
    "\n",
    "    return pairs\n",
    "\n",
    "# Test the function\n",
    "arr = [1, 5, 7, -1, 5]\n",
    "target = 6\n",
    "result = find_pairs_with_sum(arr, target)\n",
    "print(result)  # Output: {(1, 5), (7, -1)}\n",
    "```\n",
    "\n",
    "**Explanation:**\n",
    "- We maintain a set `seen` to store the numbers we've encountered.\n",
    "- For each element, we check if its complement (target - current number) is already in the set. If it is, we have found a valid pair.\n",
    "- We use a set for `pairs` to automatically handle duplicate pairs.\n",
    "\n",
    "##### 3. **Detecting Cycles in a Graph Using Set (DFS)**\n",
    "\n",
    "In graph traversal, especially in depth-first search (DFS), sets can be used to detect cycles in a directed graph.\n",
    "\n",
    "```python\n",
    "def has_cycle(graph):\n",
    "    visited = set()\n",
    "    rec_stack = set()  # Keeps track of the recursion stack\n",
    "\n",
    "    def dfs(node):\n",
    "        if node in rec_stack:\n",
    "            return True\n",
    "        if node in visited:\n",
    "            return False\n",
    "        \n",
    "        visited.add(node)\n",
    "        rec_stack.add(node)\n",
    "        \n",
    "        # Explore all neighbors\n",
    "        for neighbor in graph.get(node, []):\n",
    "            if dfs(neighbor):\n",
    "                return True\n",
    "        \n",
    "        rec_stack.remove(node)\n",
    "        return False\n",
    "\n",
    "    for node in graph:\n",
    "        if node not in visited:\n",
    "            if dfs(node):\n",
    "                return True\n",
    "    return False\n",
    "\n",
    "# Test the function\n",
    "graph = {\n",
    "    0: [1],\n",
    "    1: [2],\n",
    "    2: [0]\n",
    "}\n",
    "print(has_cycle(graph))  # Output: True\n",
    "```\n",
    "\n",
    "**Explanation:**\n",
    "- The `rec_stack` keeps track of nodes that are currently in the recursion stack.\n",
    "- If we encounter a node that is already in `rec_stack`, we detect a cycle.\n",
    "- This approach helps us efficiently detect cycles in directed graphs.\n",
    "\n",
    "##### 4. **Counting Unique Elements in a Stream of Data**\n",
    "\n",
    "This problem is useful when you're working with large data streams and you need to keep track of how many unique elements are seen.\n",
    "\n",
    "```python\n",
    "class UniqueElementCounter:\n",
    "    def __init__(self):\n",
    "        self.unique_elements = set()\n",
    "\n",
    "    def add_element(self, element):\n",
    "        self.unique_elements.add(element)\n",
    "\n",
    "    def count_unique(self):\n",
    "        return len(self.unique_elements)\n",
    "\n",
    "# Test the class\n",
    "counter = UniqueElementCounter()\n",
    "data_stream = [1, 2, 3, 2, 1, 5, 6, 5]\n",
    "\n",
    "for num in data_stream:\n",
    "    counter.add_element(num)\n",
    "\n",
    "print(counter.count_unique())  # Output: 6 (unique elements: {1, 2, 3, 5, 6})\n",
    "```\n",
    "\n",
    "**Explanation:**\n",
    "- A class `UniqueElementCounter` is used to maintain a set of unique elements.\n",
    "- For each element added to the stream, we add it to the set (which ensures uniqueness).\n",
    "- We can quickly get the count of unique elements by checking the length of the set.\n",
    "\n",
    "##### 5. **Finding All Subsets of a Set**\n",
    "\n",
    "Finding all subsets (power set) of a set is a classic problem in combinatorics. Using sets makes it easier to handle uniqueness.\n",
    "\n",
    "```python\n",
    "def power_set(s):\n",
    "    subsets = {frozenset()}  # frozenset is used to ensure immutability\n",
    "\n",
    "    for elem in s:\n",
    "        new_subsets = {subset | {elem} for subset in subsets}\n",
    "        subsets.update(new_subsets)\n",
    "\n",
    "    return subsets\n",
    "\n",
    "# Test the function\n",
    "s = {1, 2, 3}\n",
    "result = power_set(s)\n",
    "print(result)\n",
    "```\n",
    "\n",
    "**Explanation:**\n",
    "- A `frozenset` is used to make the subsets immutable, which is necessary to store them in a set.\n",
    "- The `subset | {elem}` operation is used to add elements to each subset and create new subsets.\n",
    "\n",
    "\n",
    "\n",
    "##### Summary of Set Usage in DSA:\n",
    "\n",
    "- **Intersection of Multiple Arrays:** Efficiently find common elements.\n",
    "- **Pairs with Given Sum:** Quickly check if a complement exists in a set.\n",
    "- **Cycle Detection in Graphs:** Detect cycles using DFS and recursion stack.\n",
    "- **Unique Element Counting:** Count unique elements in a data stream or collection.\n",
    "- **Finding Power Set:** Generate all subsets of a set efficiently.\n",
    "\n",
    "Sets are a powerful tool in DSA because of their fast membership testing and ability to handle uniqueness automatically."
   ]
  },
  {
   "cell_type": "markdown",
   "metadata": {},
   "source": [
    "\n",
    "#### 1. **Union (`|` or `union()` method)**\n",
    "   - **Description:** Returns a set that contains all elements from both sets. Duplicates are removed.\n",
    "   - **Example:**\n",
    "   \n",
    "   ```python\n",
    "   set1 = {1, 2, 3}\n",
    "   set2 = {3, 4, 5}\n",
    "   result = set1 | set2  # or set1.union(set2)\n",
    "   print(result)  # Output: {1, 2, 3, 4, 5}\n",
    "   ```\n",
    "\n",
    "   **Use Case:** Merging two sets to get all unique elements.\n",
    "\n",
    "#### 2. **Intersection (`&` or `intersection()` method)**\n",
    "   - **Description:** Returns a set that contains only the elements that are present in both sets.\n",
    "   - **Example:**\n",
    "   \n",
    "   ```python\n",
    "   set1 = {1, 2, 3}\n",
    "   set2 = {3, 4, 5}\n",
    "   result = set1 & set2  # or set1.intersection(set2)\n",
    "   print(result)  # Output: {3}\n",
    "   ```\n",
    "\n",
    "   **Use Case:** Finding common elements between two or more sets.\n",
    "\n",
    "#### 3. **Difference (`-` or `difference()` method)**\n",
    "   - **Description:** Returns a set that contains elements that are in the first set but not in the second.\n",
    "   - **Example:**\n",
    "   \n",
    "   ```python\n",
    "   set1 = {1, 2, 3}\n",
    "   set2 = {3, 4, 5}\n",
    "   result = set1 - set2  # or set1.difference(set2)\n",
    "   print(result)  # Output: {1, 2}\n",
    "   ```\n",
    "\n",
    "   **Use Case:** Finding elements present in one set but not in another (set subtraction).\n",
    "\n",
    "#### 4. **Symmetric Difference (`^` or `symmetric_difference()` method)**\n",
    "   - **Description:** Returns a set that contains elements that are in either of the sets but not in both.\n",
    "   - **Example:**\n",
    "   \n",
    "   ```python\n",
    "   set1 = {1, 2, 3}\n",
    "   set2 = {3, 4, 5}\n",
    "   result = set1 ^ set2  # or set1.symmetric_difference(set2)\n",
    "   print(result)  # Output: {1, 2, 4, 5}\n",
    "   ```\n",
    "\n",
    "   **Use Case:** Finding elements that are in one set or the other, but not in both.\n",
    "\n",
    "#### 5. **Subset (`<=` or `issubset()` method)**\n",
    "   - **Description:** Checks if all elements of the first set are in the second set.\n",
    "   - **Example:**\n",
    "   \n",
    "   ```python\n",
    "   set1 = {1, 2}\n",
    "   set2 = {1, 2, 3, 4}\n",
    "   result = set1 <= set2  # or set1.issubset(set2)\n",
    "   print(result)  # Output: True\n",
    "   ```\n",
    "\n",
    "   **Use Case:** Checking if one set is a subset of another (e.g., checking if a list is a subset of another list).\n",
    "\n",
    "#### 6. **Superset (`>=` or `issuperset()` method)**\n",
    "   - **Description:** Checks if all elements of the second set are contained in the first set.\n",
    "   - **Example:**\n",
    "   \n",
    "   ```python\n",
    "   set1 = {1, 2, 3, 4}\n",
    "   set2 = {2, 3}\n",
    "   result = set1 >= set2  # or set1.issuperset(set2)\n",
    "   print(result)  # Output: True\n",
    "   ```\n",
    "\n",
    "   **Use Case:** Checking if a set contains all elements of another set.\n",
    "\n",
    "#### 7. **Disjoint Sets (`isdisjoint()` method)**\n",
    "   - **Description:** Returns `True` if two sets have no common elements.\n",
    "   - **Example:**\n",
    "   \n",
    "   ```python\n",
    "   set1 = {1, 2, 3}\n",
    "   set2 = {4, 5, 6}\n",
    "   result = set1.isdisjoint(set2)\n",
    "   print(result)  # Output: True\n",
    "   ```\n",
    "\n",
    "   **Use Case:** Checking if two sets have no elements in common (e.g., finding mutually exclusive items).\n",
    "\n",
    "#### 8. **Set Comprehension**\n",
    "   - **Description:** Creates a new set by applying an expression to each element in an iterable.\n",
    "   - **Example:**\n",
    "   \n",
    "   ```python\n",
    "   set1 = {1, 2, 3, 4, 5}\n",
    "   result = {x * 2 for x in set1 if x % 2 == 0}\n",
    "   print(result)  # Output: {4, 8}\n",
    "   ```\n",
    "\n",
    "   **Use Case:** Applying filters and transformations while creating sets.\n",
    "\n",
    "#### 9. **Pop (remove an arbitrary element)**\n",
    "   - **Description:** Removes and returns an arbitrary element from the set (since sets are unordered).\n",
    "   - **Example:**\n",
    "   \n",
    "   ```python\n",
    "   set1 = {1, 2, 3, 4, 5}\n",
    "   popped_element = set1.pop()\n",
    "   print(popped_element)  # Output: an arbitrary element (e.g., 1)\n",
    "   print(set1)  # Remaining elements after pop\n",
    "   ```\n",
    "\n",
    "   **Use Case:** Removing a random element from a set, typically when you don’t care which element is removed.\n",
    "\n",
    "#### 10. **Clear (remove all elements)**\n",
    "   - **Description:** Removes all elements from the set.\n",
    "   - **Example:**\n",
    "   \n",
    "   ```python\n",
    "   set1 = {1, 2, 3, 4, 5}\n",
    "   set1.clear()\n",
    "   print(set1)  # Output: set()\n",
    "   ```\n",
    "\n",
    "   **Use Case:** Clearing the set for reuse or to empty it completely.\n",
    "\n",
    "#### 11. **Frozen Sets**\n",
    "   - **Description:** A frozen set is an immutable version of a set.\n",
    "   - **Example:**\n",
    "   \n",
    "   ```python\n",
    "   frozen_set1 = frozenset([1, 2, 3])\n",
    "   print(frozen_set1)  # Output: frozenset({1, 2, 3})\n",
    "   ```\n",
    "\n",
    "   **Use Case:** When you need a set but want to ensure that the set cannot be modified, typically useful in situations where sets are used as dictionary keys.\n",
    "\n",
    "#### 12. **Set to List Conversion**\n",
    "   - **Description:** Convert a set to a list or vice versa.\n",
    "   - **Example:**\n",
    "   \n",
    "   ```python\n",
    "   set1 = {1, 2, 3}\n",
    "   list1 = list(set1)\n",
    "   print(list1)  # Output: [1, 2, 3]\n",
    "   ```\n",
    "\n",
    "   **Use Case:** Often used when you need to preserve the uniqueness of elements (using a set) but need an ordered list for further operations.\n",
    "\n",
    "#### 13. **Union of Multiple Sets**\n",
    "   - **Description:** Find the union of more than two sets.\n",
    "   - **Example:**\n",
    "   \n",
    "   ```python\n",
    "   set1 = {1, 2, 3}\n",
    "   set2 = {2, 3, 4}\n",
    "   set3 = {3, 4, 5}\n",
    "   result = set1.union(set2, set3)\n",
    "   print(result)  # Output: {1, 2, 3, 4, 5}\n",
    "   ```\n",
    "\n",
    "   **Use Case:** Merging more than two sets to form a larger set of unique elements.\n",
    "\n",
    "\n",
    "Sets are versatile and efficient in handling many problems related to uniqueness, membership testing, and mathematical operations like union, intersection, and difference. These operations are commonly used in various DSA problems for optimization and reducing complexity. Whether it's for graph algorithms, finding common elements, or optimizing search operations, sets are a powerful tool in solving algorithmic challenges."
   ]
  },
  {
   "cell_type": "markdown",
   "metadata": {},
   "source": [
    "1. Graph Problem Solving\n",
    "```python\n",
    "# Tracking visited nodes in graph traversal\n",
    "def dfs(graph, start):\n",
    "    visited = set()\n",
    "    def explore(node):\n",
    "        if node not in visited:\n",
    "            visited.add(node)\n",
    "            for neighbor in graph[node]:\n",
    "                explore(neighbor)\n",
    "    explore(start)\n",
    "    return visited\n",
    "```\n",
    "\n",
    "2. Disjoint Set (Union-Find) Implementation\n",
    "```python\n",
    "class DisjointSet:\n",
    "    def __init__(self, vertices):\n",
    "        self.parent = {v: v for v in vertices}\n",
    "        self.rank = {v: 0 for v in vertices}\n",
    "    \n",
    "    def find(self, item):\n",
    "        if self.parent[item] != item:\n",
    "            self.parent[item] = self.find(self.parent[item])\n",
    "        return self.parent[item]\n",
    "    \n",
    "    def union(self, x, y):\n",
    "        xroot = self.find(x)\n",
    "        yroot = self.find(y)\n",
    "        if xroot == yroot:\n",
    "            return\n",
    "        \n",
    "        if self.rank[xroot] < self.rank[yroot]:\n",
    "            self.parent[xroot] = yroot\n",
    "        elif self.rank[xroot] > self.rank[yroot]:\n",
    "            self.parent[yroot] = xroot\n",
    "        else:\n",
    "            self.parent[yroot] = xroot\n",
    "            self.rank[xroot] += 1\n",
    "```\n",
    "\n",
    "3. Efficient Membership Checking\n",
    "```python\n",
    "# Fast lookup for large datasets\n",
    "def find_pair_with_sum(numbers, target):\n",
    "    seen = set()\n",
    "    for num in numbers:\n",
    "        complement = target - num\n",
    "        if complement in seen:\n",
    "            return (complement, num)\n",
    "        seen.add(num)\n",
    "    return None\n",
    "```\n",
    "\n",
    "4. Set Comprehensions\n",
    "```python\n",
    "# Dynamic set creation\n",
    "unique_squares = {x**2 for x in range(10) if x % 2 == 0}\n",
    "print(unique_squares)  # {0, 4, 16, 36, 64}\n",
    "```\n",
    "\n",
    "5. Complex Set Operations\n",
    "```python\n",
    "def symmetric_difference_example():\n",
    "    a = {1, 2, 3, 4}\n",
    "    b = {3, 4, 5, 6}\n",
    "    # Elements in either a or b, but not both\n",
    "    return a ^ b  # {1, 2, 5, 6}\n",
    "```\n",
    "\n",
    "6. Caching and Memoization\n",
    "```python\n",
    "def memoized_fibonacci():\n",
    "    cache = set()\n",
    "    def fib(n):\n",
    "        if n in cache:\n",
    "            return n\n",
    "        if n <= 1:\n",
    "            return n\n",
    "        return fib(n-1) + fib(n-2)\n",
    "    return fib\n",
    "```\n",
    "\n"
   ]
  },
  {
   "cell_type": "code",
   "execution_count": null,
   "metadata": {},
   "outputs": [],
   "source": []
  }
 ],
 "metadata": {
  "kernelspec": {
   "display_name": "Python 3",
   "language": "python",
   "name": "python3"
  },
  "language_info": {
   "codemirror_mode": {
    "name": "ipython",
    "version": 3
   },
   "file_extension": ".py",
   "mimetype": "text/x-python",
   "name": "python",
   "nbconvert_exporter": "python",
   "pygments_lexer": "ipython3",
   "version": "3.10.9"
  }
 },
 "nbformat": 4,
 "nbformat_minor": 2
}
