{
 "cells": [
  {
   "cell_type": "code",
   "execution_count": 1,
   "metadata": {},
   "outputs": [],
   "source": [
    "from threading import *"
   ]
  },
  {
   "cell_type": "code",
   "execution_count": 10,
   "metadata": {},
   "outputs": [
    {
     "name": "stdout",
     "output_type": "stream",
     "text": [
      "Child Thread\n",
      "Child Thread\n",
      "Child Thread\n",
      "Child Thread\n",
      "Child Thread\n",
      "Child Thread\n",
      "Child Thread\n",
      "Child Thread\n",
      "Child Thread\n",
      "Child Thread\n",
      "Main Thread\n",
      "Main Thread\n",
      "Main Thread\n",
      "Main Thread\n",
      "Main Thread\n",
      "Main Thread\n",
      "Main Thread\n",
      "Main Thread\n",
      "Main Thread\n",
      "Main Thread\n"
     ]
    }
   ],
   "source": [
    "def display():   \n",
    "\tfor i in range(1,11):   \n",
    "\t\tprint(\"Child Thread\")   \n",
    "\n",
    "t=Thread(target=display) #creating Thread object   \n",
    "t.start() #starting of Thread   \n",
    "\n",
    "for i in range(1,11):   \n",
    "\tprint(\"Main Thread\")"
   ]
  },
  {
   "cell_type": "code",
   "execution_count": 13,
   "metadata": {},
   "outputs": [
    {
     "name": "stdout",
     "output_type": "stream",
     "text": [
      "Child Thread executed by:  Thread-63 (display)\n",
      "Child Thread executed by:  Thread-63 (display)\n",
      "Child Thread executed by:  Thread-63 (display)\n",
      "Child Thread executed by:  Thread-63 (display)\n",
      "Child Thread executed by:  Thread-63 (display)\n",
      "Child Thread executed by:  Thread-63 (display)\n",
      "Child Thread executed by:  Thread-63 (display)\n",
      "Child Thread executed by:  Thread-63 (display)\n",
      "Child Thread executed by:  Thread-63 (display)\n",
      "Child Thread executed by:  Thread-63 (display)\n",
      "Main Thread executed by:  MainThread\n",
      "Main Thread executed by:  MainThread\n",
      "Main Thread executed by:  MainThread\n",
      "Main Thread executed by:  MainThread\n",
      "Main Thread executed by:  MainThread\n",
      "Main Thread executed by:  MainThread\n",
      "Main Thread executed by:  MainThread\n",
      "Main Thread executed by:  MainThread\n",
      "Main Thread executed by:  MainThread\n",
      "Main Thread executed by:  MainThread\n"
     ]
    }
   ],
   "source": [
    "def display():   \n",
    "\tfor i in range(1,11):   \n",
    "\t\tprint(\"Child Thread executed by: \", current_thread().name)   \n",
    "\n",
    "t=Thread(target=display) #creating Thread object   \n",
    "t.start() #starting of Thread   \n",
    "\n",
    "for i in range(1,11):   \n",
    "\tprint(\"Main Thread executed by: \", current_thread().name)"
   ]
  },
  {
   "cell_type": "code",
   "execution_count": 24,
   "metadata": {},
   "outputs": [
    {
     "name": "stdout",
     "output_type": "stream",
     "text": [
      "Child Thread executed by:  Thread-158 (display)\n",
      "Child Thread executed by:  Thread-158 (display)\n",
      "Child Thread executed by:  Thread-158 (display)\n",
      "Child Thread executed by:  Thread-158 (display)\n",
      "Child Thread executed by:  Thread-158 (display)\n",
      "Child Thread executed by:  Thread-158 (display)\n",
      "Child Thread executed by:  Thread-158 (display)\n",
      "Child Thread executed by:  Thread-158 (display)\n",
      "Child Thread executed by:  Thread-158 (display)\n",
      "Child Thread executed by:  Thread-158 (display)\n",
      "Main Thread executed by:  MainThread\n",
      "Main Thread executed by:  MainThread\n",
      "Main Thread executed by:  MainThread\n",
      "Main Thread executed by:  MainThread\n",
      "Main Thread executed by:  MainThread\n",
      "Main Thread executed by:  MainThread\n",
      "Main Thread executed by:  MainThread\n",
      "Main Thread executed by:  MainThread\n",
      "Main Thread executed by:  MainThread\n",
      "Main Thread executed by:  MainThread\n"
     ]
    }
   ],
   "source": [
    "def display():   \n",
    "\tfor i in range(1,11):   \n",
    "\t\tprint(\"Child Thread executed by: \", current_thread().name)   \n",
    "\n",
    "t=Thread(target=display) #creating Thread object   \n",
    "t.start() #starting of Thread   \n",
    "\n",
    "for i in range(1,11):   \n",
    "\ttry:\n",
    "\t\tprint(10/0)\n",
    "\texcept Exception as e:\n",
    "\t\tpass\n",
    "\tprint(\"Main Thread executed by: \", current_thread().name)"
   ]
  },
  {
   "cell_type": "code",
   "execution_count": 2,
   "metadata": {},
   "outputs": [
    {
     "name": "stdout",
     "output_type": "stream",
     "text": [
      "Child1 thread executed by:  Thread-6 (display1)\n",
      "Child1 thread executed by:  Thread-6 (display1)\n",
      "Child1 thread executed by:  Thread-6 (display1)\n",
      "Child1 thread executed by:  Thread-6 (display1)\n",
      "Child1 thread executed by:  Thread-6 (display1)\n",
      "Child2 thread executed by:  Thread-7 (display2)\n",
      "Child2 thread executed by:  Thread-7 (display2)\n",
      "Child2 thread executed by:  Thread-7 (display2)\n",
      "Child2 thread executed by:  Thread-7 (display2)\n",
      "Child2 thread executed by:  Thread-7 (display2)\n",
      "Child3 thread executed by:  Thread-8 (display3)\n",
      "Child3 thread executed by:  Thread-8 (display3)\n",
      "Child3 thread executed by:  Thread-8 (display3)\n",
      "Child3 thread executed by:  Thread-8 (display3)\n",
      "Child3 thread executed by:  Thread-8 (display3)\n",
      "Main thread executed by:  MainThread\n",
      "Main thread executed by:  MainThread\n",
      "Main thread executed by:  MainThread\n",
      "Main thread executed by:  MainThread\n",
      "Main thread executed by:  MainThread\n",
      "Main thread executed by:  MainThread\n",
      "Main thread executed by:  MainThread\n",
      "Main thread executed by:  MainThread\n",
      "Main thread executed by:  MainThread\n",
      "Main thread executed by:  MainThread\n"
     ]
    }
   ],
   "source": [
    "from threading import *\n",
    "\n",
    "def display1():\n",
    "    for i in range(5):\n",
    "        print(\"Child1 thread executed by: \", current_thread().name)\n",
    "def display2():\n",
    "    for i in range(5):\n",
    "        print(\"Child2 thread executed by: \", current_thread().name)\n",
    "def display3():\n",
    "    for i in range(5):\n",
    "        print(\"Child3 thread executed by: \", current_thread().name)\n",
    "\n",
    "t1=Thread(target=display1)\n",
    "t2=Thread(target=display2)\n",
    "t3=Thread(target=display3)\n",
    "\n",
    "t1.start()\n",
    "t2.start()\n",
    "t3.start()\n",
    "\n",
    "for i in range(10):\n",
    "    print(\"Main thread executed by: \", current_thread().name)"
   ]
  },
  {
   "cell_type": "code",
   "execution_count": 27,
   "metadata": {},
   "outputs": [
    {
     "name": "stdout",
     "output_type": "stream",
     "text": [
      "Child1 thread executed by:  Thread-202 (display)\n",
      "Child1 thread executed by:  Thread-202 (display)\n",
      "Child1 thread executed by:  Thread-202 (display)\n",
      "Child1 thread executed by:  Thread-202 (display)\n",
      "Child1 thread executed by:  Thread-202 (display)\n",
      "Child2 thread executed by:  Thread-203 (display)\n",
      "Child2 thread executed by:  Thread-203 (display)\n",
      "Child2 thread executed by:  Thread-203 (display)\n",
      "Child2 thread executed by:  Thread-203 (display)\n",
      "Child2 thread executed by:  Thread-203 (display)\n",
      "Child3 thread executed by:  Thread-204 (display)\n",
      "Child3 thread executed by:  Thread-204 (display)\n",
      "Child3 thread executed by:  Thread-204 (display)\n",
      "Child3 thread executed by:  Thread-204 (display)\n",
      "Child3 thread executed by:  Thread-204 (display)\n"
     ]
    }
   ],
   "source": [
    "def display(name):\n",
    "    for i in range(5):\n",
    "        print(f\"{name} thread executed by: \", current_thread().name)\n",
    "\n",
    "\n",
    "t1=Thread(target=display, args=('Child1',))\n",
    "t2=Thread(target=display, args=('Child2',))\n",
    "t3=Thread(target=display, args=('Child3',))\n",
    "\n",
    "t1.start()\n",
    "t2.start()\n",
    "t3.start()"
   ]
  },
  {
   "cell_type": "code",
   "execution_count": null,
   "metadata": {},
   "outputs": [],
   "source": []
  }
 ],
 "metadata": {
  "kernelspec": {
   "display_name": "Python 3",
   "language": "python",
   "name": "python3"
  },
  "language_info": {
   "codemirror_mode": {
    "name": "ipython",
    "version": 3
   },
   "file_extension": ".py",
   "mimetype": "text/x-python",
   "name": "python",
   "nbconvert_exporter": "python",
   "pygments_lexer": "ipython3",
   "version": "3.10.9"
  }
 },
 "nbformat": 4,
 "nbformat_minor": 2
}
