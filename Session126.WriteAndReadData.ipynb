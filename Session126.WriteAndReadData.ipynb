{
 "cells": [
  {
   "cell_type": "markdown",
   "metadata": {},
   "source": [
    "#### **Writing data into files**\n",
    "There are two methods for writing data in file:\n",
    "1. `write()`\n",
    "2. `writelines()`\n",
    "3. `writable()`\n",
    "3. `write_through()`"
   ]
  },
  {
   "cell_type": "code",
   "execution_count": null,
   "metadata": {},
   "outputs": [],
   "source": [
    "f = open('abc.txt', 'w')\n",
    "f.write"
   ]
  },
  {
   "cell_type": "markdown",
   "metadata": {},
   "source": [
    "**1. write()**\n",
    "\n",
    "This method is used to write a string to a file.\n"
   ]
  },
  {
   "cell_type": "code",
   "execution_count": 1,
   "metadata": {},
   "outputs": [],
   "source": [
    "with open(\"abc.txt\", \"w\") as file:\n",
    "    file.write(\"Hello, world!\\n\")"
   ]
  },
  {
   "cell_type": "markdown",
   "metadata": {},
   "source": [
    "**2. writelines()**\n",
    "\n",
    "This method is used to write a list of strings to a file, each on a separate line."
   ]
  },
  {
   "cell_type": "code",
   "execution_count": 2,
   "metadata": {},
   "outputs": [],
   "source": [
    "with open(\"test.txt\", \"w\") as file:\n",
    "    lines = [\"Line 1\\n\", \"Line 2\\n\", \"Line 3\\n\"]\n",
    "    file.writelines(lines)"
   ]
  },
  {
   "cell_type": "markdown",
   "metadata": {},
   "source": [
    "**3. writable()**\n",
    "\n",
    "This method checks if a file object is opened in a writable mode.\n"
   ]
  },
  {
   "cell_type": "code",
   "execution_count": null,
   "metadata": {},
   "outputs": [],
   "source": [
    "with open(\"my_file.txt\", \"w\") as file:\n",
    "    if file.writable():\n",
    "        print(\"The file is writable.\")\n",
    "    else:\n",
    "        print(\"The file is not writable.\")"
   ]
  },
  {
   "cell_type": "markdown",
   "metadata": {},
   "source": [
    "**4. write_through()**\n",
    "\n",
    "This method is used to control the buffering behavior of a file object. When `write_through()` is enabled, data is written to the underlying storage device immediately instead of being buffered in memory."
   ]
  },
  {
   "cell_type": "code",
   "execution_count": 5,
   "metadata": {},
   "outputs": [],
   "source": [
    "# with open(\"my_file.txt\", \"w\") as file:\n",
    "#     file.write_through()\n",
    "#     file.write(\"Hello, world!\\n\")\n",
    "\n",
    "\n",
    "with open(\"my_file.txt\", \"w\", buffering=1) as file:  # Line buffering\n",
    "    file.write(\"This will be written with line buffering.\\n\")\n"
   ]
  },
  {
   "cell_type": "code",
   "execution_count": 6,
   "metadata": {},
   "outputs": [
    {
     "name": "stdout",
     "output_type": "stream",
     "text": [
      "Data Writing into file operation successful\n"
     ]
    }
   ],
   "source": [
    "f = open('abc.txt', 'w')\n",
    "f.write('Durga\\n')\n",
    "f.write('sir\\n')\n",
    "f.write('GOAT\\n')\n",
    "f.write('Of\\n')\n",
    "f.write('Programming\\n')\n",
    "\n",
    "print(\"Data Writing into file operation successful\")\n",
    "f.close()"
   ]
  },
  {
   "cell_type": "code",
   "execution_count": 10,
   "metadata": {},
   "outputs": [
    {
     "name": "stdout",
     "output_type": "stream",
     "text": [
      "Durga\n",
      "sir\n",
      "GOAT\n",
      "Of\n",
      "Programming\n",
      "\n"
     ]
    }
   ],
   "source": [
    "with open('abc.txt', 'r') as f:\n",
    "    data = f.read()\n",
    "print(data)"
   ]
  },
  {
   "cell_type": "code",
   "execution_count": 11,
   "metadata": {},
   "outputs": [
    {
     "name": "stdout",
     "output_type": "stream",
     "text": [
      "Data written to 'example.txt' successfully using write().\n",
      "Additional lines appended to 'example.txt' successfully using writelines().\n"
     ]
    }
   ],
   "source": [
    "f = open(\"example.txt\", 'w') \n",
    "f.write(\"Hello\\n\")        \n",
    "f.write(\"This is a sample file.\\n\")  \n",
    "f.write(\"Python File Handling\\n\")\n",
    "print(\"Data written to 'example.txt' successfully using write().\")\n",
    "f.close()  \n",
    "\n",
    "# Writing multiple lines using writelines()\n",
    "lines = [\"Line 1: Introduction to Python\\n\", \n",
    "         \"Line 2: File handling example\\n\", \n",
    "         \"Line 3: Writing data using writelines()\\n\"]\n",
    "\n",
    "f = open(\"example.txt\", 'a') \n",
    "f.writelines(lines)\n",
    "print(\"Additional lines appended to 'example.txt' successfully using writelines().\")\n",
    "f.close() \n"
   ]
  },
  {
   "cell_type": "code",
   "execution_count": 29,
   "metadata": {},
   "outputs": [
    {
     "name": "stdout",
     "output_type": "stream",
     "text": [
      "{'Lion': 'King of the jungle', 'Elephant': 'Largest land animal', 'Cheetah': 'Fastest land animal', 'Whale': 'Largest marine animal'}\n"
     ]
    }
   ],
   "source": [
    "# Write dictionary to a file\n",
    "animal_dict = {\n",
    "    \"Lion\": \"King of the jungle\",\n",
    "    \"Elephant\": \"Largest land animal\",\n",
    "    \"Cheetah\": \"Fastest land animal\",\n",
    "    \"Whale\": \"Largest marine animal\"\n",
    "}\n",
    "f = open(\"animals_dict.txt\", 'w')\n",
    "for key, value in animal_dict.items():\n",
    "    f.write(f\"{key}: {value}\\n\")\n",
    "f.close()\n",
    "\n",
    "# Read dictionary from file\n",
    "f = open(\"animals_dict.txt\", 'r')\n",
    "animal_dict = {}\n",
    "for line in f:\n",
    "    key, value = line.strip().split(\": \", 1)\n",
    "    animal_dict[key] = value\n",
    "f.close()\n",
    "print(animal_dict)\n"
   ]
  },
  {
   "cell_type": "code",
   "execution_count": 30,
   "metadata": {},
   "outputs": [
    {
     "name": "stdout",
     "output_type": "stream",
     "text": [
      "['Windows', 'macOS', 'Linux', 'Android', 'iOS']\n"
     ]
    }
   ],
   "source": [
    "# Write list to a file\n",
    "os_list = [\"Windows\", \"macOS\", \"Linux\", \"Android\", \"iOS\"]\n",
    "f = open(\"os_list.txt\", 'w')\n",
    "for os in os_list:\n",
    "    f.write(f\"{os}\\n\")\n",
    "f.close()\n",
    "\n",
    "# Read list from file\n",
    "f = open(\"os_list.txt\", 'r')\n",
    "os_list = [line.strip() for line in f]\n",
    "f.close()\n",
    "print(os_list)\n"
   ]
  },
  {
   "cell_type": "code",
   "execution_count": 31,
   "metadata": {},
   "outputs": [
    {
     "name": "stdout",
     "output_type": "stream",
     "text": [
      "('Apple', 'Banana', 'Cherry', 'Date', 'Elderberry')\n"
     ]
    }
   ],
   "source": [
    "# Write tuple to a file\n",
    "fruit_tuple = (\"Apple\", \"Banana\", \"Cherry\", \"Date\", \"Elderberry\")\n",
    "f = open(\"fruits_tuple.txt\", 'w')\n",
    "for fruit in fruit_tuple:\n",
    "    f.write(f\"{fruit}\\n\")\n",
    "f.close()\n",
    "\n",
    "# Read tuple from file\n",
    "f = open(\"fruits_tuple.txt\", 'r')\n",
    "fruit_tuple = tuple(line.strip() for line in f)\n",
    "f.close()\n",
    "print(fruit_tuple)\n"
   ]
  },
  {
   "cell_type": "code",
   "execution_count": 32,
   "metadata": {},
   "outputs": [
    {
     "name": "stdout",
     "output_type": "stream",
     "text": [
      "{'Toyota', 'Audi', 'Tesla', 'Ford', 'BMW'}\n"
     ]
    }
   ],
   "source": [
    "# Write set to a file\n",
    "car_set = {\"Tesla\", \"BMW\", \"Audi\", \"Ford\", \"Toyota\"}\n",
    "f = open(\"cars_set.txt\", 'w')\n",
    "for car in car_set:\n",
    "    f.write(f\"{car}\\n\")\n",
    "f.close()\n",
    "\n",
    "# Read set from file\n",
    "f = open(\"cars_set.txt\", 'r')\n",
    "car_set = {line.strip() for line in f}\n",
    "f.close()\n",
    "print(car_set)\n"
   ]
  },
  {
   "cell_type": "code",
   "execution_count": 33,
   "metadata": {},
   "outputs": [
    {
     "name": "stdout",
     "output_type": "stream",
     "text": [
      "Animals:\n",
      "  Cat: Small pet\n",
      "  Dog: Loyal pet\n",
      "\n",
      "Fruits:\n",
      "  Mango\n",
      "  Peach\n",
      "  Grapes\n",
      "\n",
      "Operating Systems:\n",
      "  Windows\n",
      "  Linux\n",
      "  macOS\n",
      "\n",
      "Car Brands:\n",
      "  BMW\n",
      "  Honda\n",
      "  Toyota\n",
      "\n"
     ]
    }
   ],
   "source": [
    "\n",
    "animals = {\"Cat\": \"Small pet\", \"Dog\": \"Loyal pet\"}\n",
    "fruits = [\"Mango\", \"Peach\", \"Grapes\"]\n",
    "os_list = (\"Windows\", \"Linux\", \"macOS\")\n",
    "car_brands = {\"Honda\", \"BMW\", \"Toyota\"}\n",
    "\n",
    "f = open(\"multiple_data.txt\", 'w')\n",
    "f.write(\"Animals:\\n\")\n",
    "for key, value in animals.items():\n",
    "    f.write(f\"  {key}: {value}\\n\")\n",
    "f.write(\"\\nFruits:\\n\")\n",
    "for fruit in fruits:\n",
    "    f.write(f\"  {fruit}\\n\")\n",
    "f.write(\"\\nOperating Systems:\\n\")\n",
    "for os in os_list:\n",
    "    f.write(f\"  {os}\\n\")\n",
    "f.write(\"\\nCar Brands:\\n\")\n",
    "for car in car_brands:\n",
    "    f.write(f\"  {car}\\n\")\n",
    "f.close()\n",
    "\n",
    "f = open(\"multiple_data.txt\", 'r')\n",
    "data = f.read()\n",
    "f.close()\n",
    "print(data)\n"
   ]
  },
  {
   "cell_type": "code",
   "execution_count": 38,
   "metadata": {},
   "outputs": [],
   "source": [
    "name=input(\"Enter your name: \")\n",
    "f=open(f\"D:\\\\Durga's Python\\\\Test Programs\\\\{name.lower()}.txt\", 'w')\n",
    "m1 = input(\"Enter marks of python: \")\n",
    "m2 = input(\"Enter marks of java: \")\n",
    "m3 = input(\"Enter marks of linux: \")\n",
    "m4 = input(\"Enter marks of oracle: \")\n",
    "f.write(f\"\\t\\t\\t\\t\\tStudent Name: {name}\\n\\n\")\n",
    "f.write(f\"Python: {m1}\\n\")\n",
    "f.write(f\"Java: {m2}\\n\")\n",
    "f.write(f\"Oracle: {m3}\\n\")\n",
    "f.write(f\"Linux: {m4}\\n\")\n",
    "f.close()\n"
   ]
  },
  {
   "cell_type": "markdown",
   "metadata": {},
   "source": [
    "#### **1. `read()`**\n",
    "- **Purpose:** Reads the entire content of the file as a single string.\n",
    "- **Parameters:** None or an optional `n` to specify the number of characters to read.\n",
    "- **Returns:** A string containing all the data from the file.\n",
    "\n",
    "\n",
    "\n",
    "#### **2. `read(n)`**\n",
    "- **Purpose:** Reads the first `n` characters from the file.\n",
    "- **Parameters:**  \n",
    "  - `n`: The number of characters to read.\n",
    "- **Returns:** A string containing the first `n` characters of the file, or the remaining content if fewer than `n` characters are available.\n",
    "\n",
    "\n",
    "#### **3. `readline()`**\n",
    "- **Purpose:** Reads a single line from the file, stopping at the newline character (`\\n`).\n",
    "- **Parameters:** None.\n",
    "- **Returns:** A string representing one line from the file. If the end of the file is reached, it returns an empty string.\n",
    "\n",
    "\n",
    "\n",
    "#### **4. `readlines()`**\n",
    "- **Purpose:** Reads all lines from the file and returns them as a list of strings.\n",
    "- **Parameters:** None.\n",
    "- **Returns:** A list of strings, where each element is a line from the file.\n",
    "\n"
   ]
  },
  {
   "cell_type": "code",
   "execution_count": 39,
   "metadata": {},
   "outputs": [
    {
     "name": "stdout",
     "output_type": "stream",
     "text": [
      "Durga\n",
      "sir\n",
      "GOAT\n",
      "Of\n",
      "Programming\n",
      "\n"
     ]
    }
   ],
   "source": [
    "f = open(\"abc.txt\", 'r')\n",
    "data = f.read()\n",
    "print(data)\n",
    "f.close()\n"
   ]
  },
  {
   "cell_type": "code",
   "execution_count": 40,
   "metadata": {},
   "outputs": [
    {
     "name": "stdout",
     "output_type": "stream",
     "text": [
      "Durga\n",
      "sir\n",
      "\n"
     ]
    }
   ],
   "source": [
    "f = open(\"abc.txt\", 'r')\n",
    "data = f.read(10)\n",
    "print(data)\n",
    "f.close()\n"
   ]
  },
  {
   "cell_type": "code",
   "execution_count": 41,
   "metadata": {},
   "outputs": [
    {
     "name": "stdout",
     "output_type": "stream",
     "text": [
      "Durga\n",
      "sir\n",
      "GOAT\n"
     ]
    }
   ],
   "source": [
    "f = open(\"abc.txt\", 'r')\n",
    "line1 = f.readline()\n",
    "print(line1, end='')\n",
    "line2 = f.readline()\n",
    "print(line2, end='')\n",
    "line3 = f.readline()\n",
    "print(line3, end='')\n",
    "f.close()\n"
   ]
  },
  {
   "cell_type": "code",
   "execution_count": 42,
   "metadata": {},
   "outputs": [
    {
     "name": "stdout",
     "output_type": "stream",
     "text": [
      "Durga\n",
      "sir\n",
      "GOAT\n",
      "Of\n",
      "Programming\n"
     ]
    }
   ],
   "source": [
    "f = open(\"abc.txt\", 'r')\n",
    "lines = f.readlines()\n",
    "for line in lines:\n",
    "    print(line, end='')\n",
    "f.close()\n"
   ]
  },
  {
   "cell_type": "code",
   "execution_count": 43,
   "metadata": {},
   "outputs": [
    {
     "name": "stdout",
     "output_type": "stream",
     "text": [
      "Dur\n",
      "ga\n",
      "\n",
      "sir\n",
      "\n",
      "Remaining data\n",
      "GOAT\n",
      "Of\n",
      "Programming\n",
      "\n"
     ]
    }
   ],
   "source": [
    "f = open(\"abc.txt\", 'r')\n",
    "print(f.read(3))      # Reads the first 3 characters\n",
    "print(f.readline())   # Reads the next line\n",
    "print(f.read(4))      # Reads the next 4 characters\n",
    "print(\"Remaining data\")\n",
    "print(f.read())       # Reads the remaining content\n",
    "f.close()\n"
   ]
  },
  {
   "cell_type": "markdown",
   "metadata": {},
   "source": [
    "Don't try to use all read methods together because each read method advances the file pointer.\n",
    "\n",
    "For example, if you use read() first, it will read the entire file and the pointer will be at the end of the file.\n",
    "\n",
    "Subsequent read methods like readline() or readlines() will return empty results because there is no more data to read."
   ]
  },
  {
   "cell_type": "code",
   "execution_count": 1,
   "metadata": {},
   "outputs": [],
   "source": [
    "\n",
    "with open(\"source.txt\", 'w') as source_file:\n",
    "    source_file.write(\"This is some sample data.\\nThis is the second line of sample data.\\n\")"
   ]
  },
  {
   "cell_type": "code",
   "execution_count": 2,
   "metadata": {},
   "outputs": [
    {
     "name": "stdout",
     "output_type": "stream",
     "text": [
      "Data has been successfully copied from source.txt to destination.txt\n"
     ]
    }
   ],
   "source": [
    "with open(\"source.txt\", 'r') as source_file:\n",
    "    data = source_file.read()\n",
    "\n",
    "\n",
    "with open(\"destination.txt\", 'w') as destination_file:\n",
    "    destination_file.write(data)\n",
    "\n",
    "print(\"Data has been successfully copied from source.txt to destination.txt\")"
   ]
  },
  {
   "cell_type": "code",
   "execution_count": 3,
   "metadata": {},
   "outputs": [
    {
     "name": "stdout",
     "output_type": "stream",
     "text": [
      "This is some sample data.\n",
      "This is the second line of sample data.\n",
      "\n"
     ]
    }
   ],
   "source": [
    "with open(\"destination.txt\", 'r') as destination_file:\n",
    "    data = destination_file.read()\n",
    "print(data)"
   ]
  }
 ],
 "metadata": {
  "kernelspec": {
   "display_name": "Python 3",
   "language": "python",
   "name": "python3"
  },
  "language_info": {
   "codemirror_mode": {
    "name": "ipython",
    "version": 3
   },
   "file_extension": ".py",
   "mimetype": "text/x-python",
   "name": "python",
   "nbconvert_exporter": "python",
   "pygments_lexer": "ipython3",
   "version": "3.12.7"
  }
 },
 "nbformat": 4,
 "nbformat_minor": 2
}
