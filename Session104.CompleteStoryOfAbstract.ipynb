{
 "cells": [
  {
   "cell_type": "markdown",
   "metadata": {},
   "source": [
    "# Encapsulation:\n",
    " \n",
    " - Abstract Method\n",
    " - Abstract class\n",
    " - Interface\n",
    " \n",
    "### Access Modifiers\n",
    " \n",
    "-  Public Members  \n",
    "-  Private Members\n",
    "-  Protected Members\n"
   ]
  },
  {
   "cell_type": "markdown",
   "metadata": {},
   "source": [
    "### Abstract Method:\n",
    "\n",
    "- Has declaration but no implementation/body.\n",
    "- The method which is not completeness\n",
    "\n",
    "- In future in child class we have to provide the implementation\n",
    "- We should use @abstractmethod decorator to declare abstract method\n",
    "- @abstractmethod decorator present in abc module\n",
    "- \n",
    "- Q1. What is abstract method?\n",
    "- Q2. Who is responsible to provide the implementation of abstract method?\n",
    "    - Child class is responsible to provide the implementation of abstract method\n",
    "  \n",
    "Q3. How to declare abstract method?\n",
    "    By using @abstractmethod decorator\n",
    "\n",
    "Q4. @abstractmethod decorator present in which module?\n",
    "    abc module\n",
    "\n",
    "Q5. Can we create the object of abstract class?\n",
    "    No, we cannot create the object of abstract class\n",
    "\n",
    "Q6. Can we declare abstract method in a normal class?\n",
    "    No, we cannot declare abstract method in a normal class\n",
    "    \n",
    "    "
   ]
  },
  {
   "cell_type": "code",
   "execution_count": 3,
   "metadata": {},
   "outputs": [],
   "source": [
    "from abc import abstractmethod\n",
    "class Vehicle:\n",
    "    @abstractmethod #NameError: name 'abstractmethod' is not defined\n",
    "    def getNoOfWheels(self):\n",
    "        pass\n",
    "\n",
    "class Bus(Vehicle):\n",
    "    def getNoOfWheels(self):\n",
    "        return 6\n",
    "    \n",
    "class Auto(Vehicle):\n",
    "    pass\n",
    "    "
   ]
  },
  {
   "cell_type": "markdown",
   "metadata": {},
   "source": [
    "### Abstract Class:\n",
    "\n",
    "sometimes implementation of class is not complete, such type of partially implemented class is called as Abstract class\n",
    "\n",
    "Every abstract class in python is the child class of ABC class.\n",
    "\n",
    "ABC ---> Abstract Base Class\n",
    "present in abc module\n",
    "\n",
    "Every class is child of object class : Either directly or indirectly\n"
   ]
  },
  {
   "cell_type": "code",
   "execution_count": 4,
   "metadata": {},
   "outputs": [],
   "source": [
    "from abc import ABC\n",
    "class Vehicle(ABC):\n",
    "    @abstractmethod\n",
    "    def getNoOfWheels(self):\n",
    "        pass\n",
    "\n",
    "class Bus(Vehicle):\n",
    "    def getNoOfWheels(self):\n",
    "        return 6\n",
    "    \n",
    "class Auto(Vehicle):\n",
    "    pass\n",
    "    "
   ]
  },
  {
   "cell_type": "code",
   "execution_count": null,
   "metadata": {},
   "outputs": [],
   "source": []
  }
 ],
 "metadata": {
  "kernelspec": {
   "display_name": "Python 3",
   "language": "python",
   "name": "python3"
  },
  "language_info": {
   "codemirror_mode": {
    "name": "ipython",
    "version": 3
   },
   "file_extension": ".py",
   "mimetype": "text/x-python",
   "name": "python",
   "nbconvert_exporter": "python",
   "pygments_lexer": "ipython3",
   "version": "3.11.5"
  }
 },
 "nbformat": 4,
 "nbformat_minor": 2
}
