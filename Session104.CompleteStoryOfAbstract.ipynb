{
 "cells": [
  {
   "cell_type": "markdown",
   "metadata": {},
   "source": [
    "# Encapsulation:\n",
    " \n",
    " - Abstract Method\n",
    " - Abstract class\n",
    " - Interface\n",
    " \n",
    "### Access Modifiers\n",
    " \n",
    "-  Public Members  \n",
    "-  Private Members\n",
    "-  Protected Members\n"
   ]
  },
  {
   "cell_type": "markdown",
   "metadata": {},
   "source": [
    "### Abstract Method:\n",
    "\n",
    "- Has declaration but no implementation/body.\n",
    "- The method which is not completeness\n",
    "\n",
    "- In future in child class we have to provide the implementation\n",
    "- We should use @abstractmethod decorator to declare abstract method\n",
    "- @abstractmethod decorator present in abc module\n",
    "- \n",
    "- Q1. What is abstract method?\n",
    "- Q2. Who is responsible to provide the implementation of abstract method?\n",
    "    - Child class is responsible to provide the implementation of abstract method\n",
    "  \n",
    "Q3. How to declare abstract method?\n",
    "    By using @abstractmethod decorator\n",
    "\n",
    "Q4. @abstractmethod decorator present in which module?\n",
    "    abc module\n",
    "\n",
    "Q5. Can we create the object of abstract class?\n",
    "    No, we cannot create the object of abstract class\n",
    "\n",
    "Q6. Can we declare abstract method in a normal class?\n",
    "    No, we cannot declare abstract method in a normal class\n",
    "    \n",
    "    "
   ]
  },
  {
   "cell_type": "code",
   "execution_count": 3,
   "metadata": {},
   "outputs": [],
   "source": [
    "from abc import abstractmethod\n",
    "class Vehicle:\n",
    "    @abstractmethod #NameError: name 'abstractmethod' is not defined\n",
    "    def getNoOfWheels(self):\n",
    "        pass\n",
    "\n",
    "class Bus(Vehicle):\n",
    "    def getNoOfWheels(self):\n",
    "        return 6\n",
    "    \n",
    "class Auto(Vehicle):\n",
    "    pass\n",
    "    "
   ]
  },
  {
   "cell_type": "markdown",
   "metadata": {},
   "source": [
    "### Abstract Class:\n",
    "\n",
    "sometimes implementation of class is not complete, such type of partially implemented class is called as Abstract class\n",
    "\n",
    "Every abstract class in python is the child class of ABC class.\n",
    "\n",
    "ABC ---> Abstract Base Class\n",
    "present in abc module\n",
    "\n",
    "Every class is child of object class : Either directly or indirectly\n"
   ]
  },
  {
   "cell_type": "code",
   "execution_count": 14,
   "metadata": {},
   "outputs": [],
   "source": [
    "from abc import ABC\n",
    "class Vehicle(ABC):\n",
    "    @abstractmethod\n",
    "    def getNoOfWheels(self):\n",
    "        pass\n",
    "\n",
    "class Bus(Vehicle):\n",
    "    def getNoOfWheels(self):\n",
    "        return 6\n",
    "    \n",
    "class Auto(Vehicle):\n",
    "    def getNoOfWheels(self):\n",
    "        return 3\n",
    "    "
   ]
  },
  {
   "cell_type": "code",
   "execution_count": 15,
   "metadata": {},
   "outputs": [
    {
     "data": {
      "text/plain": [
       "3"
      ]
     },
     "execution_count": 15,
     "metadata": {},
     "output_type": "execute_result"
    }
   ],
   "source": [
    "b=Bus()\n",
    "b.getNoOfWheels()\n",
    "a=Auto()\n",
    "a.getNoOfWheels()\n"
   ]
  },
  {
   "cell_type": "code",
   "execution_count": 1,
   "metadata": {},
   "outputs": [],
   "source": [
    "from abc import *\n",
    "class Test: # concreate class\n",
    "    pass\n",
    "\n",
    "t=Test()"
   ]
  },
  {
   "cell_type": "code",
   "execution_count": null,
   "metadata": {},
   "outputs": [],
   "source": [
    "from abc import *\n",
    "class Test: # concreate class\n",
    "    @abstractmethod\n",
    "    def m1(self):\n",
    "        pass\n",
    "\n",
    "t=Test()"
   ]
  },
  {
   "cell_type": "markdown",
   "metadata": {},
   "source": [
    "\n",
    "**Case-1**\n",
    "- If a class does not inherit from the `ABC` class, it is called a concrete class.\n",
    "\n",
    "**Case-2**\n",
    "- An abstract class can contain zero abstract methods. If an abstract class does not contain any abstract methods, it is possible to create an object of that class.\n",
    "\n",
    "**Case-3**\n",
    "- If a class is a child of the `ABC` class and contains at least one abstract method, instantiation is not possible.\n",
    "\n",
    "**Note:**\n",
    "- For abstract classes with abstract methods, instantiation is not possible."
   ]
  },
  {
   "cell_type": "markdown",
   "metadata": {},
   "source": [
    "\n",
    "**Case-4**\n",
    "- If a class is a child of the `ABC` class and contains at least one abstract method, instantiation is not possible. \n",
    "- if the class is not a child of `ABC` or it does not contain any abstract methods, instantiation is always possible."
   ]
  },
  {
   "cell_type": "code",
   "execution_count": 5,
   "metadata": {},
   "outputs": [],
   "source": [
    "from abc import *\n",
    "class Test(ABC): \n",
    "\n",
    "    @abstractmethod\n",
    "    def m1(self):\n",
    "        print(\"🚀\")\n",
    "\n",
    "    def m2(self):\n",
    "        pass\n",
    "\n",
    "# t=Test() 3#TypeError: Can't instantiate abstract class Test with abstract method m1"
   ]
  },
  {
   "cell_type": "code",
   "execution_count": 9,
   "metadata": {},
   "outputs": [
    {
     "name": "stdout",
     "output_type": "stream",
     "text": [
      "Abstract method implemented\n"
     ]
    }
   ],
   "source": [
    "class Child(Test):\n",
    "\n",
    "    def m1(self):\n",
    "        print(\"Abstract method implemented\")\n",
    "\n",
    "\n",
    "c = Child()\n",
    "c.m1()\n",
    "c.m2()"
   ]
  },
  {
   "cell_type": "code",
   "execution_count": 12,
   "metadata": {},
   "outputs": [
    {
     "name": "stdout",
     "output_type": "stream",
     "text": [
      "Hello m1\n",
      "Hello m2\n",
      "Hello m3\n"
     ]
    }
   ],
   "source": [
    "#!/bin/python3\n",
    "\n",
    "from os import system as sy\n",
    "sy('bash info.sh')\n",
    "from abc import abstractmethod,ABC\n",
    "\n",
    "class Test(ABC):\n",
    "    @abstractmethod\n",
    "    def m1(self):\n",
    "        pass\n",
    "    @abstractmethod\n",
    "    def m2(self):\n",
    "        pass\n",
    "\n",
    "    def m3(self):\n",
    "        print('Hello m3')\n",
    "        return None\n",
    "\n",
    "class Child(Test):\n",
    "    def m1(self):\n",
    "        print('Hello m1')\n",
    "        return None\n",
    "\n",
    "    def m2(self):\n",
    "        print('Hello m2')\n",
    "        return None\n",
    "\n",
    "c=Child()\n",
    "c.m1()\n",
    "c.m2()\n",
    "c.m3()\n",
    "\n"
   ]
  },
  {
   "cell_type": "code",
   "execution_count": null,
   "metadata": {},
   "outputs": [],
   "source": []
  }
 ],
 "metadata": {
  "kernelspec": {
   "display_name": "Python 3",
   "language": "python",
   "name": "python3"
  },
  "language_info": {
   "codemirror_mode": {
    "name": "ipython",
    "version": 3
   },
   "file_extension": ".py",
   "mimetype": "text/x-python",
   "name": "python",
   "nbconvert_exporter": "python",
   "pygments_lexer": "ipython3",
   "version": "3.11.5"
  }
 },
 "nbformat": 4,
 "nbformat_minor": 2
}
