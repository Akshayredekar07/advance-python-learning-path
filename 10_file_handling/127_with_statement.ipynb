{
 "cells": [
  {
   "cell_type": "markdown",
   "metadata": {},
   "source": [
    "### **The with Statement:**\n",
    "- The with statement can be used while opening a file. We can use this to group file operation statements within a block.\n",
    "- The advantage of with statement is it will take care of closing the file after completing all operations automatically, even in the case of exceptions, and we are not required to close it explicitly."
   ]
  },
  {
   "cell_type": "code",
   "execution_count": 1,
   "metadata": {},
   "outputs": [
    {
     "name": "stdout",
     "output_type": "stream",
     "text": [
      "Is file closed:  False\n",
      "Is file closed:  True\n"
     ]
    }
   ],
   "source": [
    "with open('abc.txt', 'w') as f:\n",
    "    f.write('Namaste\\n')\n",
    "    f.write('App kase ho\\n')\n",
    "    print('Is file closed: ', f.closed) # false\n",
    "print('Is file closed: ', f.closed) # true"
   ]
  },
  {
   "cell_type": "markdown",
   "metadata": {},
   "source": [
    "### **`tell()` and `seek()` methods:** "
   ]
  },
  {
   "cell_type": "markdown",
   "metadata": {},
   "source": [
    "We can use the `tell()` method to check the current cursor position (file pointer)."
   ]
  },
  {
   "cell_type": "code",
   "execution_count": 4,
   "metadata": {},
   "outputs": [
    {
     "name": "stdout",
     "output_type": "stream",
     "text": [
      "0\n",
      "Namaste\n",
      "App kase ho\n",
      "\n",
      "22\n"
     ]
    }
   ],
   "source": [
    "f=open('abc.txt', 'r')\n",
    "print(f.tell())\n",
    "print(f.read())\n",
    "print(f.tell())\n",
    "f.close()"
   ]
  },
  {
   "cell_type": "code",
   "execution_count": 11,
   "metadata": {},
   "outputs": [
    {
     "name": "stdout",
     "output_type": "stream",
     "text": [
      "0\n",
      "83\n",
      "168\n",
      "For append mode:\n",
      "~~~~~~~~~~~~~~~~\n",
      "168\n",
      "200\n",
      "For r+ mode:\n",
      "~~~~~~~~~~~~~~~~\n",
      "0\n",
      "38\n",
      "For w+ mode:\n",
      "~~~~~~~~~~~~~~~~\n",
      "0\n",
      "38\n",
      "Writing and reading using 'w+' mode.\n",
      "\n",
      "38\n"
     ]
    }
   ],
   "source": [
    "# Existing code for 'w' mode\n",
    "f = open('abc.txt', 'w')\n",
    "print(f.tell())\n",
    "f.write(\"We can use the `tell()` method to check the current cursor position (file pointer).\")\n",
    "print(f.tell())\n",
    "f.write(\"We can use the `tell()` method to check the current cursor position (file pointer).\\n\")\n",
    "print(f.tell())\n",
    "f.close()\n",
    "\n",
    "print(\"For append mode:\")\n",
    "print(\"~~~~~~~~~~~~~~~~\")\n",
    "# Code for 'a' mode\n",
    "f = open('abc.txt', 'a')\n",
    "print(f.tell())\n",
    "f.write(\"Appending text using 'a' mode.\\n\")\n",
    "print(f.tell())\n",
    "f.close()\n",
    "\n",
    "print(\"For r+ mode:\")\n",
    "print(\"~~~~~~~~~~~~~~~~\")\n",
    "# Code for 'r+' mode\n",
    "f = open('abc.txt', 'r+')\n",
    "print(f.tell())\n",
    "f.write(\"Reading and writing using 'r+' mode.\\n\")\n",
    "print(f.tell())\n",
    "f.close()\n",
    "\n",
    "\n",
    "print(\"For w+ mode:\")\n",
    "print(\"~~~~~~~~~~~~~~~~\")\n",
    "# Code for 'w+' mode\n",
    "f = open('abc.txt', 'w+')\n",
    "print(f.tell())\n",
    "f.write(\"Writing and reading using 'w+' mode.\\n\")\n",
    "print(f.tell())\n",
    "f.seek(0)\n",
    "print(f.read())\n",
    "print(f.tell())\n",
    "f.close()"
   ]
  },
  {
   "cell_type": "markdown",
   "metadata": {},
   "source": [
    "### **`seek()` method**\n",
    "\n",
    "We can use the `seek()` method to move the cursor to the required location."
   ]
  },
  {
   "cell_type": "markdown",
   "metadata": {},
   "source": [
    "**Syntax**:  \n",
    "`f.seek(offset, fromwhere)`  \n",
    "- `offset` represents the number of positions.  \n",
    "\n",
    "**The allowed values for the second attribute (`fromwhere`) are**:  \n",
    "- `0` → From the beginning of the file (Default Value).  \n",
    "- `1` → From the current position.  \n",
    "- `2` → From the end of the file.  \n",
    "\n",
    "**Note**:  \n",
    "- Python 2 supports all three values (`0`, `1`, `2`).  \n",
    "- Python 3 supports only `0`.  \n"
   ]
  },
  {
   "cell_type": "code",
   "execution_count": 19,
   "metadata": {},
   "outputs": [
    {
     "name": "stdout",
     "output_type": "stream",
     "text": [
      "din\n",
      "18\n",
      "0\n",
      "Wri\n",
      "3\n",
      "eading using 'w+' mode.\n",
      "\n"
     ]
    }
   ],
   "source": [
    "f=open('abc.txt', 'r')\n",
    "f.seek(15)\n",
    "print(f.read(3))\n",
    "print(f.tell())\n",
    "f.seek(0)\n",
    "print(f.tell())\n",
    "print(f.read(3))\n",
    "print(f.tell())\n",
    "f.seek(13)\n",
    "print(f.read())"
   ]
  },
  {
   "cell_type": "code",
   "execution_count": 20,
   "metadata": {},
   "outputs": [
    {
     "name": "stdout",
     "output_type": "stream",
     "text": [
      "Data Before Modification: \n",
      "~~~~~~~~~~~~~~~~~~~~~~~~~~~~~~~~~~~~~~~~~~~~~~~~~~\n",
      "Writing and  reading using 'w+' mode.\n",
      "\n",
      "Data after modification: \n",
      "~~~~~~~~~~~~~~~~~~~~~~~~~~~~~~~~~~~~~~~~~~~~~~~~~~\n",
      "Writing and  readingChanged mode r+e.\n",
      "\n"
     ]
    }
   ],
   "source": [
    "with open('abc.txt', 'r+') as f:\n",
    "    txt=f.read()\n",
    "    print(\"Data Before Modification: \")\n",
    "    print('~'*50)\n",
    "    print(txt)\n",
    "    f.seek(20)\n",
    "    f.write(\"Changed mode r+\")\n",
    "    f.seek(0)\n",
    "    txt=f.read()\n",
    "    print(\"Data after modification: \")\n",
    "    print('~'*50)\n",
    "    print(txt)"
   ]
  },
  {
   "cell_type": "markdown",
   "metadata": {},
   "source": [
    "### **How to check if a particular file exists or not?**\n",
    "\n",
    "We can use the `os` library to get information about files on our computer. The `os` module has a `path` submodule, which contains the `isfile()` function to check whether a particular file exists or not.\n",
    "\n",
    "` os.path.isfile(fname) `"
   ]
  },
  {
   "cell_type": "code",
   "execution_count": 26,
   "metadata": {},
   "outputs": [
    {
     "name": "stdout",
     "output_type": "stream",
     "text": [
      "abc.txt File is present\n",
      "~~~~~~~~~~~~~~~~~~~~~~~~~~~~~~~~~~~~~~~~~~~~~~~~~~\n",
      "File content is: \n",
      "Writing and  readingChanged mode r+e.\n",
      "\n"
     ]
    }
   ],
   "source": [
    "fname='abc.txt'\n",
    "\n",
    "import os, sys\n",
    "if os.path.isfile(fname):\n",
    "    print(f\"{fname} File is present\")\n",
    "    print('~'*50)\n",
    "    print(\"File content is: \")\n",
    "    with open(fname, 'r') as f:\n",
    "        print(f.read())\n",
    "else:    \n",
    "    print(f\"{fname} File is not present\")\n"
   ]
  },
  {
   "cell_type": "markdown",
   "metadata": {},
   "source": [
    "#### **Program to print the Number of Lines, Words and Characters present in the given File?**"
   ]
  },
  {
   "cell_type": "code",
   "execution_count": 28,
   "metadata": {},
   "outputs": [
    {
     "name": "stdout",
     "output_type": "stream",
     "text": [
      "File exists: abc.txt\n",
      "The number of Lines: 6\n",
      "The number of Words: 24\n",
      "The number of Characters: 165\n"
     ]
    }
   ],
   "source": [
    "import os, sys\n",
    "\n",
    "if os.path.isfile(fname):\n",
    "\tprint(\"File exists:\", fname)\n",
    "else:\n",
    "\tprint(\"File does not exist:\", fname)\n",
    "\tsys.exit(0)\n",
    "\n",
    "lcount = wcount = ccount = 0\n",
    "with open(fname, 'r') as f:\n",
    "\tfor line in f:\n",
    "\t\tlcount += 1\n",
    "\t\tccount += len(line)\n",
    "\t\twords = line.split()\n",
    "\t\twcount += len(words)\n",
    "\n",
    "print(\"The number of Lines:\", lcount)\n",
    "print(\"The number of Words:\", wcount)\n",
    "print(\"The number of Characters:\", ccount)"
   ]
  },
  {
   "cell_type": "code",
   "execution_count": null,
   "metadata": {},
   "outputs": [],
   "source": []
  }
 ],
 "metadata": {
  "kernelspec": {
   "display_name": "Python 3",
   "language": "python",
   "name": "python3"
  },
  "language_info": {
   "codemirror_mode": {
    "name": "ipython",
    "version": 3
   },
   "file_extension": ".py",
   "mimetype": "text/x-python",
   "name": "python",
   "nbconvert_exporter": "python",
   "pygments_lexer": "ipython3",
   "version": "3.12.7"
  }
 },
 "nbformat": 4,
 "nbformat_minor": 2
}
