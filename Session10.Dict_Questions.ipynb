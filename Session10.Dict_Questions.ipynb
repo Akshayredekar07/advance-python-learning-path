{
 "cells": [
  {
   "cell_type": "code",
   "execution_count": 1,
   "metadata": {},
   "outputs": [
    {
     "name": "stdout",
     "output_type": "stream",
     "text": [
      "{1: {1: 1, 2: 2, 3: 3, 4: 4, 5: 5}, 2: {1: 2, 2: 4, 3: 6, 4: 8, 5: 10}, 3: {1: 3, 2: 6, 3: 9, 4: 12, 5: 15}}\n"
     ]
    }
   ],
   "source": [
    "tables = {}\n",
    "\n",
    "for x in range(1, 4):\n",
    "    inner_dict = {}  # Create an inner dictionary for each x\n",
    "    for y in range(1, 6):\n",
    "        inner_dict[y] = x * y  # Compute multiplication and store in inner dictionary\n",
    "    tables[x] = inner_dict  # Store the inner dictionary in the main dictionary\n",
    "\n",
    "print(tables)\n"
   ]
  },
  {
   "cell_type": "code",
   "execution_count": null,
   "metadata": {},
   "outputs": [],
   "source": []
  },
  {
   "cell_type": "markdown",
   "metadata": {},
   "source": [
    "### **Medium Level Questions:**\n",
    "\n",
    "1. **How do I create a dictionary?**  \n",
    "   - You can create a dictionary using curly braces `{}` with key-value pairs:  \n",
    "     ```python\n",
    "     my_dict = {\"name\": \"abhi\", \"age\": 25, \"city\": \"pune\"}\n",
    "     ```\n",
    "   - Or use the `dict()` constructor:  \n",
    "     ```python\n",
    "     my_dict = dict(name=\"abhi\", age=25, city=\"pune\")\n",
    "     ```\n",
    "\n",
    "2. **How do I access a value by its key?**  \n",
    "   - Use square brackets:  \n",
    "     ```python\n",
    "     my_dict[\"name\"]  # Output: \"abhi\"\n",
    "     ```\n",
    "   - Or use `.get()` to avoid errors if the key is missing:  \n",
    "     ```python\n",
    "     my_dict.get(\"name\")  # Output: \"abhi\"\n",
    "     ```\n",
    "\n",
    "3. **What happens if I try to access a key that doesn't exist?**  \n",
    "   - Using square brackets (`[]`) results in a `KeyError`:  \n",
    "     ```python\n",
    "     my_dict[\"unknown\"]  # Raises KeyError\n",
    "     ```\n",
    "   - Using `.get()` returns `None` (or a default value if provided):  \n",
    "     ```python\n",
    "     my_dict.get(\"unknown\", \"default\")  # Output: \"default\"\n",
    "     ```\n",
    "\n",
    "4. **How do I add a new key-value pair to a dictionary?**  \n",
    "   - Assign a value to a new key:  \n",
    "     ```python\n",
    "     my_dict[\"country\"] = \"USA\"\n",
    "     ```\n",
    "\n",
    "5. **How do I change the value associated with an existing key?**  \n",
    "   - Reassign the value:  \n",
    "     ```python\n",
    "     my_dict[\"age\"] = 30\n",
    "     ```\n",
    "\n",
    "6. **How do I remove a key-value pair from a dictionary?**  \n",
    "   - Use `del`:  \n",
    "     ```python\n",
    "     del my_dict[\"age\"]\n",
    "     ```\n",
    "   - Use `.pop()`, which also returns the removed value:  \n",
    "     ```python\n",
    "     age = my_dict.pop(\"age\", None)  # Returns None if key is missing\n",
    "     ```\n",
    "\n",
    "7. **How do I check if a key exists in a dictionary?**  \n",
    "   - Use the `in` keyword:  \n",
    "     ```python\n",
    "     \"name\" in my_dict  # Output: True\n",
    "     ```\n",
    "\n",
    "8. **How do I iterate through the keys of a dictionary?**  \n",
    "   - Use `.keys()` or directly iterate over the dictionary:  \n",
    "     ```python\n",
    "     for key in my_dict:\n",
    "         print(key)\n",
    "     ```\n",
    "\n",
    "9. **How do I iterate through the values of a dictionary?**  \n",
    "   - Use `.values()`:  \n",
    "     ```python\n",
    "     for value in my_dict.values():\n",
    "         print(value)\n",
    "     ```\n",
    "\n",
    "10. **How do I iterate through both keys and values of a dictionary?**  \n",
    "    - Use `.items()`:  \n",
    "      ```python\n",
    "      for key, value in my_dict.items():\n",
    "          print(key, value)\n",
    "      ```\n",
    "\n",
    "11. **How do I get the number of key-value pairs in a dictionary?**  \n",
    "    - Use `len()`:  \n",
    "      ```python\n",
    "      len(my_dict)  # Output: Number of key-value pairs\n",
    "      ```\n",
    "\n",
    "12. **How do I copy a dictionary?**  \n",
    "    - Use `.copy()`:  \n",
    "      ```python\n",
    "      new_dict = my_dict.copy()\n",
    "      ```\n",
    "    - Or use `dict()`:  \n",
    "      ```python\n",
    "      new_dict = dict(my_dict)\n",
    "      ```\n",
    "\n",
    "13. **How do I clear all items from a dictionary?**  \n",
    "    - Use `.clear()`:  \n",
    "      ```python\n",
    "      my_dict.clear()\n",
    "      ```\n",
    "\n",
    "14. **Can I use lists or other dictionaries as values in a dictionary?**  \n",
    "    - Yes, dictionaries can store lists, other dictionaries, or any mutable data structures:  \n",
    "      ```python\n",
    "      my_dict = {\"name\": \"abhi\", \"scores\": [90, 85, 88], \"details\": {\"age\": 25, \"city\": \"NY\"}}\n",
    "      ```\n",
    "\n",
    "15. **How to merge two dictionaries?**  \n",
    "    - Use the `update()` method:  \n",
    "      ```python\n",
    "      dict1.update(dict2)\n",
    "      ```\n",
    "    - Or use the `|` operator (Python 3.9+):  \n",
    "      ```python\n",
    "      merged_dict = dict1 | dict2\n",
    "      ```\n",
    "    - Or `**` unpacking (Python 3.5+):  \n",
    "      ```python\n",
    "      merged_dict = {**dict1, **dict2}\n",
    "      ```\n",
    "\n",
    "\n",
    "\n",
    "### **Advanced Level Questions:**\n",
    "\n",
    "16. **What are dictionary comprehensions and how can I use them?**  \n",
    "    - Dictionary comprehensions allow concise creation of dictionaries:  \n",
    "      ```python\n",
    "      squares = {x: x**2 for x in range(1, 6)}\n",
    "      ```\n",
    "\n",
    "17. **How do I handle `KeyError` exceptions gracefully?**  \n",
    "    - Use `.get()` to return a default value instead of raising an error:  \n",
    "      ```python\n",
    "      value = my_dict.get(\"unknown\", \"default\")\n",
    "      ```\n",
    "    - Use `try-except`:  \n",
    "      ```python\n",
    "      try:\n",
    "          value = my_dict[\"unknown\"]\n",
    "      except KeyError:\n",
    "          value = \"default\"\n",
    "      ```\n",
    "\n",
    "18. **What are the performance characteristics of dictionaries?**  \n",
    "    - Dictionaries are implemented as **hash tables**, offering:  \n",
    "      - **O(1) average time complexity** for lookups, insertions, and deletions.  \n",
    "      - **O(n) worst case** if hash collisions occur.  \n",
    "\n",
    "19. **When should I use a dictionary vs. other data structures like lists or tuples?**  \n",
    "    - **Use a dictionary** when you need **fast lookups** and **key-value associations**.  \n",
    "    - **Use a list** when order matters, and you don’t need key-based access.  \n",
    "    - **Use a tuple** when you need an immutable collection.  \n",
    "\n",
    "20. **How can I sort a dictionary by its keys or values?**  \n",
    "    - **Sort by keys**:  \n",
    "      ```python\n",
    "      sorted_dict = dict(sorted(my_dict.items()))\n",
    "      ```\n",
    "    - **Sort by values**:  \n",
    "      ```python\n",
    "      sorted_dict = dict(sorted(my_dict.items(), key=lambda item: item[1]))\n",
    "      ```\n"
   ]
  },
  {
   "cell_type": "markdown",
   "metadata": {},
   "source": [
    "### **Medium-Level Questions**\n",
    "\n",
    "1. **Merge two dictionaries**  \n",
    "   - Use `update()`, `|` (Python 3.9+), or dictionary unpacking:  \n",
    "     ```python\n",
    "     dict1 = {'a': 1, 'b': 2}\n",
    "     dict2 = {'b': 3, 'c': 4}\n",
    "     merged_dict = {**dict1, **dict2}  # Overwrites common keys\n",
    "     print(merged_dict)  # {'a': 1, 'b': 3, 'c': 4}\n",
    "     ```\n",
    "\n",
    "2. **Check if a key exists in a dictionary**  \n",
    "   - Use the `in` keyword:  \n",
    "     ```python\n",
    "     my_dict = {'a': 1, 'b': 2}\n",
    "     print('a' in my_dict)  # True\n",
    "     ```\n",
    "\n",
    "3. **Generate a dictionary with number-square pairs**  \n",
    "   ```python\n",
    "   n = 5\n",
    "   squares = {x: x**2 for x in range(1, n+1)}\n",
    "   print(squares)  # {1: 1, 2: 4, 3: 9, 4: 16, 5: 25}\n",
    "   ```\n",
    "\n",
    "4. **Sum all values in a dictionary**  \n",
    "   ```python\n",
    "   my_dict = {'a': 10, 'b': 20, 'c': 30}\n",
    "   print(sum(my_dict.values()))  # 60\n",
    "   ```\n",
    "\n",
    "5. **Iterate through key-value pairs**  \n",
    "   ```python\n",
    "   for key, value in my_dict.items():\n",
    "       print(key, value)\n",
    "   ```\n",
    "\n",
    "6. **Remove a key from a dictionary**  \n",
    "   ```python\n",
    "   my_dict.pop('b', None)  # Removes 'b' safely\n",
    "   del my_dict['a']  # Raises KeyError if 'a' doesn't exist\n",
    "   ```\n",
    "\n",
    "7. **Map two lists into a dictionary**  \n",
    "   ```python\n",
    "   keys = ['a', 'b', 'c']\n",
    "   values = [1, 2, 3]\n",
    "   mapped_dict = dict(zip(keys, values))\n",
    "   print(mapped_dict)  # {'a': 1, 'b': 2, 'c': 3}\n",
    "   ```\n",
    "\n",
    "8. **Sort a dictionary by keys/values**  \n",
    "   ```python\n",
    "   sorted_by_keys = dict(sorted(my_dict.items()))\n",
    "   sorted_by_values = dict(sorted(my_dict.items(), key=lambda x: x[1]))\n",
    "   ```\n",
    "\n",
    "9. **Combine dictionaries by adding values for common keys**  \n",
    "   ```python\n",
    "   from collections import Counter\n",
    "   d1 = {'a': 100, 'b': 200}\n",
    "   d2 = {'a': 300, 'c': 400}\n",
    "   combined = dict(Counter(d1) + Counter(d2))\n",
    "   print(combined)  # {'a': 400, 'b': 200, 'c': 400}\n",
    "   ```\n",
    "\n",
    "10. **Remove duplicates from a dictionary**  \n",
    "    ```python\n",
    "    unique_dict = {k: v for k, v in set(my_dict.items())}\n",
    "    ```\n",
    "\n",
    "\n",
    "\n",
    "### **Advanced-Level Questions**\n",
    "\n",
    "11. **Invert a dictionary with non-unique values**  \n",
    "    ```python\n",
    "    my_dict = {'a': 1, 'b': 1, 'c': 2}\n",
    "    inverted = {}\n",
    "    for key, value in my_dict.items():\n",
    "        inverted.setdefault(value, []).append(key)\n",
    "    print(inverted)  # {1: ['a', 'b'], 2: ['c']}\n",
    "    ```\n",
    "\n",
    "12. **Find the top N items by value**  \n",
    "    ```python\n",
    "    my_dict = {'item1': 45, 'item2': 35, 'item3': 75}\n",
    "    top_n = dict(sorted(my_dict.items(), key=lambda x: x[1], reverse=True)[:2])\n",
    "    print(top_n)  # {'item3': 75, 'item1': 45}\n",
    "    ```\n",
    "\n",
    "13. **Count frequency of values in a dictionary**  \n",
    "    ```python\n",
    "    from collections import Counter\n",
    "    my_dict = {'a': 1, 'b': 1, 'c': 2}\n",
    "    freq = Counter(my_dict.values())\n",
    "    print(freq)  # {1: 2, 2: 1}\n",
    "    ```\n",
    "\n",
    "14. **Convert a list to a nested dictionary**  \n",
    "    ```python\n",
    "    classes = ['Class-V', 'Class-VI']\n",
    "    nested_dict = {cls: {} for cls in classes}\n",
    "    print(nested_dict)  # {'Class-V': {}, 'Class-VI': {}}\n",
    "    ```\n",
    "\n",
    "15. **Filter a dictionary based on values**  \n",
    "    ```python\n",
    "    my_dict = {'Alice': 180, 'Bob': 160, 'Charlie': 175}\n",
    "    filtered = {k: v for k, v in my_dict.items() if v > 170}\n",
    "    print(filtered)  # {'Alice': 180, 'Charlie': 175}\n",
    "    ```\n",
    "\n",
    "16. **Store/load dictionary data in JSON**  \n",
    "    ```python\n",
    "    import json\n",
    "    my_dict = {'name': 'Alice', 'age': 25}\n",
    "    with open('data.json', 'w') as f:\n",
    "        json.dump(my_dict, f)\n",
    "    \n",
    "    with open('data.json', 'r') as f:\n",
    "        loaded_dict = json.load(f)\n",
    "    ```\n",
    "\n",
    "17. **Handle dictionaries with list values**  \n",
    "    ```python\n",
    "    d1 = {'V': [1, 2]}\n",
    "    d2 = {'V': [3, 4]}\n",
    "    merged = {k: d1.get(k, []) + d2.get(k, []) for k in set(d1) | set(d2)}\n",
    "    print(merged)  # {'V': [1, 2, 3, 4]}\n",
    "    ```\n",
    "\n",
    "18. **Find the shortest list of values among keys**  \n",
    "    ```python\n",
    "    my_dict = {'A': [1, 2], 'B': [3], 'C': [4, 5, 6]}\n",
    "    shortest = min(my_dict, key=lambda k: len(my_dict[k]))\n",
    "    print(shortest)  # 'B'\n",
    "    ```\n",
    "\n",
    "19. **Extract values from a list of dictionaries**  \n",
    "    ```python\n",
    "    data = [{'Math': 90}, {'Math': 89}]\n",
    "    extracted = [d['Math'] for d in data]\n",
    "    print(extracted)  # [90, 89]\n",
    "    ```\n",
    "\n",
    "20. **Create a dictionary from object fields**  \n",
    "    ```python\n",
    "    class Person:\n",
    "        def __init__(self, name, age):\n",
    "            self.name = name\n",
    "            self.age = age\n",
    "    \n",
    "    p = Person('Alice', 25)\n",
    "    obj_dict = p.__dict__\n",
    "    print(obj_dict)  # {'name': 'Alice', 'age': 25}\n",
    "    ```\n",
    "\n"
   ]
  },
  {
   "cell_type": "code",
   "execution_count": 2,
   "metadata": {},
   "outputs": [
    {
     "name": "stdout",
     "output_type": "stream",
     "text": [
      "{'a': 1, 'b': 3, 'c': 4}\n"
     ]
    }
   ],
   "source": [
    "dict1 = {'a': 1, 'b': 2}\n",
    "dict2 = {'b': 3, 'c': 4}\n",
    "merged_dict = {**dict1, **dict2}  # Overwrites common keys\n",
    "print(merged_dict)  # {'a': 1, 'b': 3, 'c': 4}\n"
   ]
  },
  {
   "cell_type": "code",
   "execution_count": 3,
   "metadata": {},
   "outputs": [
    {
     "name": "stdout",
     "output_type": "stream",
     "text": [
      "{'a': 1, 'b': 3, 'c': 4}\n"
     ]
    }
   ],
   "source": [
    "dict1.update(dict2)\n",
    "print(dict1)  # {'a': 1, 'b': 3, 'c': 4}\n"
   ]
  },
  {
   "cell_type": "code",
   "execution_count": 4,
   "metadata": {},
   "outputs": [
    {
     "name": "stdout",
     "output_type": "stream",
     "text": [
      "{'a': 1, 'b': 3, 'c': 4}\n"
     ]
    }
   ],
   "source": [
    "merged_dict = dict1 | dict2\n",
    "print(merged_dict)  # {'a': 1, 'b': 3, 'c': 4}\n"
   ]
  },
  {
   "cell_type": "code",
   "execution_count": 5,
   "metadata": {},
   "outputs": [],
   "source": [
    "merged = {**dict1, **dict2, **{'d': 5, 'e': 6}}\n"
   ]
  },
  {
   "cell_type": "code",
   "execution_count": 6,
   "metadata": {},
   "outputs": [
    {
     "data": {
      "text/plain": [
       "{'a': 1, 'b': 3, 'c': 4, 'd': 5, 'e': 6}"
      ]
     },
     "execution_count": 6,
     "metadata": {},
     "output_type": "execute_result"
    }
   ],
   "source": [
    "merged"
   ]
  },
  {
   "cell_type": "code",
   "execution_count": 7,
   "metadata": {},
   "outputs": [
    {
     "name": "stdout",
     "output_type": "stream",
     "text": [
      "True\n"
     ]
    }
   ],
   "source": [
    "my_dict = {'a': 1, 'b': 2}\n",
    "print('a' in my_dict)  # True\n"
   ]
  },
  {
   "cell_type": "code",
   "execution_count": 8,
   "metadata": {},
   "outputs": [
    {
     "name": "stdout",
     "output_type": "stream",
     "text": [
      "{1: 1, 2: 4, 3: 9, 4: 16, 5: 25}\n"
     ]
    }
   ],
   "source": [
    "n = 5\n",
    "squares = {x: x**2 for x in range(1, n+1)}\n",
    "print(squares)  # {1: 1, 2: 4, 3: 9, 4: 16, 5: 25}\n"
   ]
  },
  {
   "cell_type": "code",
   "execution_count": 9,
   "metadata": {},
   "outputs": [
    {
     "name": "stdout",
     "output_type": "stream",
     "text": [
      "60\n"
     ]
    }
   ],
   "source": [
    "my_dict = {'a': 10, 'b': 20, 'c': 30}\n",
    "print(sum(my_dict.values()))  # 60"
   ]
  },
  {
   "cell_type": "code",
   "execution_count": 10,
   "metadata": {},
   "outputs": [
    {
     "name": "stdout",
     "output_type": "stream",
     "text": [
      "a 10\n",
      "b 20\n",
      "c 30\n"
     ]
    }
   ],
   "source": [
    "for key, value in my_dict.items():\n",
    "    print(key, value)"
   ]
  },
  {
   "cell_type": "code",
   "execution_count": 11,
   "metadata": {},
   "outputs": [],
   "source": [
    "my_dict.pop('b', None)  # Removes 'b' safely\n",
    "del my_dict['a']  # Raises KeyError if 'a' doesn't exist\n"
   ]
  },
  {
   "cell_type": "code",
   "execution_count": 12,
   "metadata": {},
   "outputs": [
    {
     "data": {
      "text/plain": [
       "{1, 4, 9, 16, 25}"
      ]
     },
     "execution_count": 12,
     "metadata": {},
     "output_type": "execute_result"
    }
   ],
   "source": [
    "n=5\n",
    "{x**2 for x in range(1, n+1)}"
   ]
  },
  {
   "cell_type": "code",
   "execution_count": 13,
   "metadata": {},
   "outputs": [
    {
     "data": {
      "text/plain": [
       "60"
      ]
     },
     "execution_count": 13,
     "metadata": {},
     "output_type": "execute_result"
    }
   ],
   "source": [
    "my_dict = {'a': 10, 'b': 20, 'c': 30}\n",
    "sum(my_dict.values())"
   ]
  },
  {
   "cell_type": "code",
   "execution_count": 14,
   "metadata": {},
   "outputs": [],
   "source": [
    "my_dict.pop('b', None)  # Removes 'b' safely\n",
    "del my_dict['a']  # Raises KeyError if 'a' doesn't exist\n"
   ]
  },
  {
   "cell_type": "code",
   "execution_count": 15,
   "metadata": {},
   "outputs": [
    {
     "ename": "KeyError",
     "evalue": "'b'",
     "output_type": "error",
     "traceback": [
      "\u001b[1;31m---------------------------------------------------------------------------\u001b[0m",
      "\u001b[1;31mKeyError\u001b[0m                                  Traceback (most recent call last)",
      "Cell \u001b[1;32mIn[15], line 1\u001b[0m\n\u001b[1;32m----> 1\u001b[0m \u001b[38;5;28;01mdel\u001b[39;00m my_dict[\u001b[38;5;124m'\u001b[39m\u001b[38;5;124mb\u001b[39m\u001b[38;5;124m'\u001b[39m]\n",
      "\u001b[1;31mKeyError\u001b[0m: 'b'"
     ]
    }
   ],
   "source": [
    "del my_dict['b']"
   ]
  },
  {
   "cell_type": "code",
   "execution_count": 21,
   "metadata": {},
   "outputs": [
    {
     "name": "stdout",
     "output_type": "stream",
     "text": [
      "{'a': 1, 'b': 2, 'c': 3}\n"
     ]
    }
   ],
   "source": [
    "keys = ['a', 'b', 'c']\n",
    "values = [1, 2, 3]\n",
    "mapped_dict = dict(zip(keys, values))\n",
    "print(mapped_dict)  # {'a': 1, 'b': 2, 'c': 3}"
   ]
  },
  {
   "cell_type": "code",
   "execution_count": 18,
   "metadata": {},
   "outputs": [
    {
     "data": {
      "text/plain": [
       "{'c': 1}"
      ]
     },
     "execution_count": 18,
     "metadata": {},
     "output_type": "execute_result"
    }
   ],
   "source": [
    "dict(zip(key, values))"
   ]
  },
  {
   "cell_type": "code",
   "execution_count": 20,
   "metadata": {},
   "outputs": [
    {
     "name": "stdout",
     "output_type": "stream",
     "text": [
      "c : 1\n"
     ]
    }
   ],
   "source": [
    "for x,y in zip(key, values):\n",
    "    print(f\"{x} : {y}\")"
   ]
  },
  {
   "cell_type": "code",
   "execution_count": null,
   "metadata": {},
   "outputs": [],
   "source": []
  }
 ],
 "metadata": {
  "kernelspec": {
   "display_name": "Python 3",
   "language": "python",
   "name": "python3"
  },
  "language_info": {
   "codemirror_mode": {
    "name": "ipython",
    "version": 3
   },
   "file_extension": ".py",
   "mimetype": "text/x-python",
   "name": "python",
   "nbconvert_exporter": "python",
   "pygments_lexer": "ipython3",
   "version": "3.10.9"
  }
 },
 "nbformat": 4,
 "nbformat_minor": 2
}
