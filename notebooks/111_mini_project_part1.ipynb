{
 "cells": [
  {
   "cell_type": "code",
   "execution_count": 12,
   "metadata": {},
   "outputs": [],
   "source": [
    "import random\n",
    "class Util:\n",
    "    @staticmethod\n",
    "    def generate_account_num():\n",
    "        ACCOUNT_NO = \"\"\n",
    "        for i in range(12):\n",
    "            ACCOUNT_NO = ACCOUNT_NO + str(random.randint(0,9))\n",
    "        return ACCOUNT_NO            "
   ]
  },
  {
   "cell_type": "code",
   "execution_count": 13,
   "metadata": {},
   "outputs": [],
   "source": [
    "from abc import ABC, abstractmethod\n",
    "import sys\n",
    "class Account(ABC):\n",
    "    BANKNAME = \"Durga Bank!\"\n",
    "    def __init__(self, name: str, balance: float, min_balance: float) -> None:\n",
    "        self.account_no = Util.generate_account_num()\n",
    "        self.name = name\n",
    "        self.balance = balance\n",
    "        self.min_balance = min_balance\n",
    "\n",
    "    def deposit(self, amount: float) -> None:\n",
    "        if amount > 0:\n",
    "            self.balance += amount\n",
    "        else:\n",
    "            print(\"Deposit amount must be positive!\")\n",
    "\n",
    "    def withdraw(self, amount: float) -> None:\n",
    "        if amount > 0:\n",
    "            if self.balance - amount >= self.min_balance:\n",
    "                self.balance -= amount\n",
    "                print(f\"Withdrawal successful! Remaining balance: {self.balance}\")\n",
    "            else:\n",
    "                print(\"Sorry, insufficient balance!\")\n",
    "        else:\n",
    "            print(\"Withdrawal amount must be positive!\")\n",
    "\n",
    "    def print_statement(self) -> None:\n",
    "        print(f\"{self.__class__.__name__} - {self.name}: Your balance: {self.balance}\")\n",
    "\n",
    "    @abstractmethod\n",
    "    def account_info(self) -> str:\n",
    "        pass  \n",
    "\n",
    "\n",
    "class SavingAccount(Account):\n",
    "    def __init__(self, name: str, balance: float) -> None:\n",
    "        super().__init__(name, balance, 0)\n",
    "\n",
    "    def __str__(self) -> str:\n",
    "        return f\"Hi {self.name}, It's your saving account with balance {self.balance}\"\n",
    "\n",
    "    def account_info(self) -> str:\n",
    "        return f\"Saving Account - Name: {self.name}, Balance: {self.balance}, Minimum Balance: {self.min_balance}\"\n",
    "\n",
    "\n",
    "class CurrentAccount(Account):         \n",
    "    def __init__(self, name: str, balance: float) -> None:\n",
    "        super().__init__(name, balance, -1000)\n",
    "\n",
    "    def __str__(self) -> str:\n",
    "        return f\"Hi {self.name}, It's your current account with balance {self.balance}\"\n",
    "\n",
    "    def account_info(self) -> str:\n",
    "        return f\"Current Account - Name: {self.name}, Balance: {self.balance}, Overdraft Limit: {self.min_balance}\"\n",
    "\n"
   ]
  },
  {
   "cell_type": "code",
   "execution_count": 14,
   "metadata": {},
   "outputs": [
    {
     "name": "stdout",
     "output_type": "stream",
     "text": [
      "Welcome to Durga Bank!\n",
      "Do you want to open a saving or current account?\n",
      "s - Saving\n",
      "c - Current\n",
      "You selected Saving Account.\n",
      "Congratulations, your saving account creation was successful!\n",
      "Your Account Number (A/C): 116184060903\n"
     ]
    }
   ],
   "source": [
    "print(f\"Welcome to {Account.BANKNAME}\")\n",
    "print(f\"Do you want to open a saving or current account?\")\n",
    "print(\"s - Saving\\nc - Current\")\n",
    "\n",
    "option = input(\"Choose an option: \").lower()\n",
    "count = 1\n",
    "\n",
    "while option not in ['s', 'c']:\n",
    "    if count >= 3:\n",
    "        print(\"Sorry, maximum number of attempts reached. Try after some time!\")\n",
    "        break\n",
    "    option = input(\"Please select a correct option [s - Saving | c - Current]: \").lower()\n",
    "    count += 1\n",
    "\n",
    "if option in ['s', 'c']:\n",
    "    if option == 's':\n",
    "        print(\"You selected Saving Account.\")\n",
    "        name = input(\"Enter your name: \")\n",
    "\n",
    "        balance = float(input(\"Enter initial balance: \"))\n",
    "        while balance < 0:  \n",
    "            balance = float(input(\"Initial balance cannot be negative. Please enter a valid amount: \"))\n",
    "\n",
    "        account = SavingAccount(name, balance) \n",
    "        print(\"Congratulations, your saving account creation was successful!\")\n",
    "        print(f\"Your Account Number (A/C): {account.account_no}\")\n",
    "\n",
    "    elif option == 'c':\n",
    "        print(\"You selected Current Account.\")\n",
    "       \n"
   ]
  },
  {
   "cell_type": "code",
   "execution_count": null,
   "metadata": {},
   "outputs": [],
   "source": []
  }
 ],
 "metadata": {
  "kernelspec": {
   "display_name": "Python 3",
   "language": "python",
   "name": "python3"
  },
  "language_info": {
   "codemirror_mode": {
    "name": "ipython",
    "version": 3
   },
   "file_extension": ".py",
   "mimetype": "text/x-python",
   "name": "python",
   "nbconvert_exporter": "python",
   "pygments_lexer": "ipython3",
   "version": "3.12.7"
  }
 },
 "nbformat": 4,
 "nbformat_minor": 2
}
