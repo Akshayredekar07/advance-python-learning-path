{
 "cells": [
  {
   "cell_type": "markdown",
   "metadata": {},
   "source": [
    "### **Working with Directories in Python**\n",
    "\n",
    "It is a very common requirement to perform operations on directories, such as:\n",
    "1. To know the current working directory\n",
    "2. To create a new directory\n",
    "3. To remove an existing directory\n",
    "4. To rename a directory\n",
    "5. To list the contents of a directory  \n",
    "...and more.\n",
    "\n",
    "To perform these operations, Python provides the inbuilt `os` module, which contains several functions for directory-related operations.\n",
    "\n",
    "\n",
    "#### Q1) To Know Current Working Directory\n",
    "```python\n",
    "import os\n",
    "cwd = os.getcwd()\n",
    "print(\"Current Working Directory:\", cwd)\n",
    "```\n",
    "\n"
   ]
  },
  {
   "cell_type": "code",
   "execution_count": null,
   "metadata": {},
   "outputs": [],
   "source": []
  }
 ],
 "metadata": {
  "language_info": {
   "name": "python"
  }
 },
 "nbformat": 4,
 "nbformat_minor": 2
}
