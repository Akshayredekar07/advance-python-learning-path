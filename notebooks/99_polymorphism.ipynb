{
 "cells": [
  {
   "cell_type": "markdown",
   "metadata": {},
   "source": [
    "\n",
    "*Polymorphism and Operator Overloading**\n",
    "```\n",
    "Python provides support for operator overloading.\n",
    "\n",
    "Java does not provide support for operator overloading.\n",
    "\n",
    "In Java, the + operator is overloaded for string concatenation, but not for other types.\n",
    "\n",
    "For example:\n",
    "s1 and s2 are Student objects.\n",
    "s1 + s2 is not valid in Java because the + operator is not overloaded for custom objects.\n",
    "b1 and b2 are Book objects.\n",
    "b1 + b2 is also not valid for the same reason.\n",
    "```"
   ]
  },
  {
   "cell_type": "code",
   "execution_count": 3,
   "metadata": {},
   "outputs": [],
   "source": [
    "class Book:\n",
    "    def __init__(self, pages) -> None:\n",
    "        self.pages = pages\n",
    "\n",
    "b1=Book(200)        \n",
    "b2=Book(300)\n",
    "# print(b1+b2) #TypeError: unsupported operand type(s) for +: 'Book' and 'Book'   "
   ]
  },
  {
   "cell_type": "code",
   "execution_count": null,
   "metadata": {},
   "outputs": [],
   "source": [
    "# For every method magic methods are aviable. To overload any operator, we have to override that magiv method in our class.\n",
    "\n",
    "# + operator:  __add__()"
   ]
  },
  {
   "cell_type": "code",
   "execution_count": 4,
   "metadata": {},
   "outputs": [
    {
     "name": "stdout",
     "output_type": "stream",
     "text": [
      "500\n"
     ]
    }
   ],
   "source": [
    "class Book:\n",
    "    def __init__(self, pages) -> None:\n",
    "        self.pages = pages\n",
    "\n",
    "    def __add__(self, other):\n",
    "        total_pages = self.pages+other.pages\n",
    "        return total_pages\n",
    "\n",
    "b1=Book(200)        \n",
    "b2=Book(300)\n",
    "# Return total no of pages present in both books\n",
    "print(b1+b2)\n",
    "\n"
   ]
  },
  {
   "cell_type": "code",
   "execution_count": 5,
   "metadata": {},
   "outputs": [
    {
     "name": "stdout",
     "output_type": "stream",
     "text": [
      "10 > 20 = False\n",
      "s1 > s2 = False\n",
      "s1 < s2 = True\n",
      "s1 <= s2 = True\n",
      "s1 >= s2 = False\n"
     ]
    }
   ],
   "source": [
    "class Student:\n",
    "    def __init__(self, name, marks):\n",
    "        self.name = name\n",
    "        self.marks = marks\n",
    "\n",
    "    # Overloading the '>' operator\n",
    "    def __gt__(self, other):\n",
    "        return self.marks > other.marks\n",
    "\n",
    "    # Overloading the '<=' operator\n",
    "    def __le__(self, other):\n",
    "        return self.marks <= other.marks\n",
    "\n",
    "# Usage examples\n",
    "print(\"10 > 20 =\", 10 > 20)  # False\n",
    "\n",
    "s1 = Student(\"Durga\", 100)\n",
    "s2 = Student(\"Ravi\", 200)\n",
    "\n",
    "print(\"s1 > s2 =\", s1 > s2)   # False\n",
    "print(\"s1 < s2 =\", s1 < s2)   # True\n",
    "print(\"s1 <= s2 =\", s1 <= s2) # True\n",
    "print(\"s1 >= s2 =\", s1 >= s2) # False\n"
   ]
  },
  {
   "cell_type": "code",
   "execution_count": null,
   "metadata": {},
   "outputs": [],
   "source": []
  }
 ],
 "metadata": {
  "kernelspec": {
   "display_name": "Python 3",
   "language": "python",
   "name": "python3"
  },
  "language_info": {
   "codemirror_mode": {
    "name": "ipython",
    "version": 3
   },
   "file_extension": ".py",
   "mimetype": "text/x-python",
   "name": "python",
   "nbconvert_exporter": "python",
   "pygments_lexer": "ipython3",
   "version": "3.11.5"
  }
 },
 "nbformat": 4,
 "nbformat_minor": 2
}
