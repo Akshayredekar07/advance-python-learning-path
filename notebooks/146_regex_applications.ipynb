{
 "cells": [
  {
   "cell_type": "code",
   "execution_count": 2,
   "metadata": {},
   "outputs": [],
   "source": [
    "import re"
   ]
  },
  {
   "cell_type": "code",
   "execution_count": 4,
   "metadata": {},
   "outputs": [
    {
     "name": "stdout",
     "output_type": "stream",
     "text": [
      "Target dtring starts eith our patterns\n"
     ]
    }
   ],
   "source": [
    "match=re.search('Learn', \"Learning python is very easy\")\n",
    "if match is not None:\n",
    "    print(\"Target string starts eith our patterns\")\n",
    "else:\n",
    "    print(\"Target string no start with our pattern\")"
   ]
  },
  {
   "cell_type": "markdown",
   "metadata": {},
   "source": [
    "\n",
    "### **`^` Symbol in Regular Expressions**\n",
    "\n",
    "The `^` symbol is used to check whether a given target string **starts** with a provided pattern.\n"
   ]
  },
  {
   "cell_type": "code",
   "execution_count": 6,
   "metadata": {},
   "outputs": [
    {
     "name": "stdout",
     "output_type": "stream",
     "text": [
      "Match found!\n"
     ]
    }
   ],
   "source": [
    "import re\n",
    "\n",
    "s = \"Learn Python\"\n",
    "res = re.search(\"^Learn\", s)\n",
    "\n",
    "if res:\n",
    "    print(\"Match found!\")\n",
    "else:\n",
    "    print(\"No match.\")"
   ]
  },
  {
   "cell_type": "markdown",
   "metadata": {},
   "source": [
    "- If the target string starts with `\"Learn\"`, `re.search()` returns a **Match object**.  \n",
    "- Otherwise, it returns **None**."
   ]
  },
  {
   "cell_type": "markdown",
   "metadata": {},
   "source": [
    "### **`$` Symbol in Regular Expressions**\n",
    "\n",
    "The `$` symbol is used to check whether a given target string **ends** with a provided pattern."
   ]
  },
  {
   "cell_type": "code",
   "execution_count": 7,
   "metadata": {},
   "outputs": [
    {
     "name": "stdout",
     "output_type": "stream",
     "text": [
      "Target String ends with Easy\n"
     ]
    }
   ],
   "source": [
    "s = \"Learning Python is Very Easy\"\n",
    "res = re.search(\"Easy$\", s)\n",
    "\n",
    "if res:\n",
    "    print(\"Target String ends with Easy\")\n",
    "else:\n",
    "    print(\"Target String does not end with Easy\")"
   ]
  },
  {
   "cell_type": "markdown",
   "metadata": {},
   "source": [
    "### **Case-Insensitive Matching**  \n",
    "If we want to **ignore case**, we can pass `re.IGNORECASE` as the third argument in `re.search()`."
   ]
  },
  {
   "cell_type": "code",
   "execution_count": null,
   "metadata": {},
   "outputs": [],
   "source": [
    "s = \"Learning Python is Very Easy\"\n",
    "res = re.search(\"easy$\", s, re.IGNORECASE)\n",
    "\n",
    "if res:\n",
    "    print(\"Target String ends with Easy by ignoring case\")\n",
    "else:\n",
    "    print(\"Target String does not end with Easy by ignoring case\")"
   ]
  },
  {
   "cell_type": "code",
   "execution_count": 8,
   "metadata": {},
   "outputs": [
    {
     "name": "stdout",
     "output_type": "stream",
     "text": [
      "admin_user → Starts with 'admin'\n",
      "admin123 → Starts with 'admin'\n",
      "adminOnly → Starts with 'admin'\n"
     ]
    }
   ],
   "source": [
    "import re\n",
    "\n",
    "usernames = [\"admin_user\", \"admin123\", \"user_admin\", \"superadmin\", \"adminOnly\"]\n",
    "pattern = \"^admin\"\n",
    "\n",
    "for username in usernames:\n",
    "    if re.search(pattern, username):\n",
    "        print(f\"{username} → Starts with 'admin'\")\n"
   ]
  },
  {
   "cell_type": "code",
   "execution_count": 9,
   "metadata": {},
   "outputs": [
    {
     "name": "stdout",
     "output_type": "stream",
     "text": [
      "user@example.com → Ends with '.com'\n",
      "support@gmail.com → Ends with '.com'\n"
     ]
    }
   ],
   "source": [
    "emails = [\"user@example.com\", \"contact@domain.org\", \"admin@website.net\", \"support@gmail.com\"]\n",
    "pattern = \".com$\"\n",
    "\n",
    "for email in emails:\n",
    "    if re.search(pattern, email):\n",
    "        print(f\"{email} → Ends with '.com'\")\n"
   ]
  },
  {
   "cell_type": "code",
   "execution_count": 10,
   "metadata": {},
   "outputs": [
    {
     "name": "stdout",
     "output_type": "stream",
     "text": [
      "Yes → Exact match!\n"
     ]
    }
   ],
   "source": [
    "responses = [\"Yes\", \"Yes!\", \"yes\", \"No\", \"Yes123\"]\n",
    "pattern = \"^Yes$\"\n",
    "\n",
    "for response in responses:\n",
    "    if re.search(pattern, response):\n",
    "        print(f\"{response} → Exact match!\")\n"
   ]
  },
  {
   "cell_type": "markdown",
   "metadata": {},
   "source": [
    "\n",
    "### **App1: Regular Expression for Yava Identifiers**\n",
    "A **Yava language identifier** must follow these rules:  \n",
    "1. Allowed characters: **a-z, A-Z, 0-9, #**\n",
    "2. The **first character** must be a **lowercase letter (a-k)**.\n",
    "3. The **second character** must be a **digit divisible by 3** (`0, 3, 6, 9`).\n",
    "4. The identifier must be at **least 2 characters long**.\n",
    "\n",
    "### **Regular Expression:**\n",
    "```regex\n",
    "[a-k][0369][a-zA-Z0-9#]*\n",
    "```"
   ]
  },
  {
   "cell_type": "markdown",
   "metadata": {},
   "source": [
    "## **App2: Python Program to Validate Yava Identifiers**\n",
    "The following Python program checks whether a given string is a valid **Yava identifier** based on the above rules."
   ]
  },
  {
   "cell_type": "code",
   "execution_count": 11,
   "metadata": {},
   "outputs": [
    {
     "name": "stdout",
     "output_type": "stream",
     "text": [
      "a6kk9z## is a valid Yava Identifier\n"
     ]
    }
   ],
   "source": [
    "import re\n",
    "\n",
    "# Get user input\n",
    "s = input(\"Enter Identifier: \")\n",
    "\n",
    "# Define the pattern for Yava language identifiers\n",
    "pattern = r\"[a-k][0369][a-zA-Z0-9#]*\"\n",
    "\n",
    "# Validate using re.fullmatch()\n",
    "m = re.fullmatch(pattern, s)\n",
    "\n",
    "# Print the result\n",
    "if m:\n",
    "    print(s, \"is a valid Yava Identifier\")\n",
    "else:\n",
    "    print(s, \"is an invalid Yava Identifier\")"
   ]
  },
  {
   "cell_type": "markdown",
   "metadata": {},
   "source": [
    "### **Regular Expression for Valid 10-Digit Mobile Numbers**\n",
    "A **valid mobile number** must satisfy the following rules:  \n",
    "1. It must contain **exactly 10 digits**.\n",
    "2. The **first digit** must be **7, 8, or 9**.\n",
    "\n",
    "### **Regular Expression Patterns:**\n",
    "```regex\n",
    "[7-9][0-9]{9}     # OR\n",
    "[7-9]\\d{9}        # Using shorthand for digits\n"
   ]
  },
  {
   "cell_type": "code",
   "execution_count": 12,
   "metadata": {},
   "outputs": [
    {
     "name": "stdout",
     "output_type": "stream",
     "text": [
      "Invalid Mobile Number\n"
     ]
    }
   ],
   "source": [
    "n = input(\"Enter number: \")\n",
    "pattern = r\"[7-9]\\d{9}\"\n",
    "m = re.fullmatch(pattern, n)\n",
    "if m:\n",
    "    print(\"Valid Mobile Number\")\n",
    "else:\n",
    "    print(\"Invalid Mobile Number\")\n"
   ]
  },
  {
   "cell_type": "code",
   "execution_count": 13,
   "metadata": {},
   "outputs": [
    {
     "name": "stdout",
     "output_type": "stream",
     "text": [
      "Extracted all Mobile Numbers into output.txt\n"
     ]
    }
   ],
   "source": [
    "import re\n",
    "with open(\"input.txt\", \"r\") as f1, open(\"output.txt\", \"w\") as f2:\n",
    "    for line in f1:\n",
    "        numbers = re.findall(r\"[7-9]\\d{9}\", line)  # Extract mobile numbers\n",
    "        for n in numbers:\n",
    "            f2.write(n + \"\\n\")  # Write to output file\n",
    "\n",
    "print(\"Extracted all Mobile Numbers into output.txt\")\n"
   ]
  },
  {
   "cell_type": "markdown",
   "metadata": {},
   "source": [
    "The **`r`** in `r\"[7-9]\\d{9}\"` stands for a **raw string literal** in Python.\n",
    "\n",
    "#### **Why Use `r` (Raw String)?**\n",
    "- In Python, **backslashes (`\\`) are escape characters**. For example:\n",
    "  ```python\n",
    "  print(\"Hello\\nWorld\")  \n",
    "  ```\n",
    "  Output:\n",
    "  ```\n",
    "  Hello\n",
    "  World\n",
    "  ```\n",
    "  Here, `\\n` is interpreted as a newline character.\n",
    "\n",
    "- In regular expressions, **backslashes (`\\`) have special meanings**. For example:\n",
    "  - `\\d` represents a **digit** (equivalent to `[0-9]`).\n",
    "  - `\\s` represents a **whitespace character**.\n",
    "  - `\\w` represents an **alphanumeric character**.\n",
    "\n",
    "- If we **don't use `r`**, we must **double the backslashes** to avoid escape sequence conflicts:\n",
    "  ```python\n",
    "  pattern = \"[7-9]\\\\d{9}\"  # Double backslash needed\n",
    "  ```\n",
    "\n",
    "#### **Using `r` (Raw String)**\n",
    "- When you prefix a string with `r`, **Python treats backslashes as normal characters** and does **not** interpret them as escape sequences.\n",
    "- This makes it **easier to write regular expressions**.\n",
    "\n",
    "```python\n",
    "pattern = r\"[7-9]\\d{9}\"  # Raw string\n",
    "```\n",
    "This is equivalent to:\n",
    "```python\n",
    "pattern = \"[7-9]\\\\d{9}\"  # Without raw string, requires double backslashes\n",
    "```\n",
    "\n",
    "#### **Example Without `r` (Causing an Error)**\n",
    "```python\n",
    "import re\n",
    "\n",
    "pattern = \"[7-9]\\d{9}\"  # Incorrect without r, will cause an error\n",
    "```\n",
    "Python will interpret `\\d` as an **invalid escape sequence** and may raise a warning.\n",
    "\n",
    "#### **Example With `r` (Correct)**\n",
    "```python\n",
    "import re\n",
    "\n",
    "pattern = r\"[7-9]\\d{9}\"  # Correct: Raw string avoids escape sequence issues\n",
    "```\n",
    "\n",
    "### **Conclusion**\n",
    "✅ Always use `r` for regular expressions in Python to **avoid unnecessary escape sequence issues**."
   ]
  },
  {
   "cell_type": "code",
   "execution_count": 14,
   "metadata": {},
   "outputs": [
    {
     "name": "stdout",
     "output_type": "stream",
     "text": [
      "9876543210: ✅ Valid Mobile Number\n",
      "09876543210: ✅ Valid Mobile Number\n",
      "919876543210: ✅ Valid Mobile Number\n",
      "6786786787: ❌ Invalid Mobile Number\n",
      "911234567890: ❌ Invalid Mobile Number\n"
     ]
    }
   ],
   "source": [
    "import re\n",
    "\n",
    "# Function to validate mobile number\n",
    "def is_valid_mobile(number):\n",
    "    pattern = r\"^(0|91)?[7-9]\\d{9}$\"  # Updated regex\n",
    "    return bool(re.fullmatch(pattern, number))\n",
    "\n",
    "# Test cases\n",
    "numbers = [\"9876543210\", \"09876543210\", \"919876543210\", \"6786786787\", \"911234567890\"]\n",
    "\n",
    "for num in numbers:\n",
    "    if is_valid_mobile(num):\n",
    "        print(f\"{num}: ✅ Valid Mobile Number\")\n",
    "    else:\n",
    "        print(f\"{num}: ❌ Invalid Mobile Number\")\n"
   ]
  },
  {
   "cell_type": "code",
   "execution_count": null,
   "metadata": {},
   "outputs": [],
   "source": []
  }
 ],
 "metadata": {
  "kernelspec": {
   "display_name": "Python 3",
   "language": "python",
   "name": "python3"
  },
  "language_info": {
   "codemirror_mode": {
    "name": "ipython",
    "version": 3
   },
   "file_extension": ".py",
   "mimetype": "text/x-python",
   "name": "python",
   "nbconvert_exporter": "python",
   "pygments_lexer": "ipython3",
   "version": "3.10.9"
  }
 },
 "nbformat": 4,
 "nbformat_minor": 2
}
