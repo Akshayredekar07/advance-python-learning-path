{
 "cells": [
  {
   "cell_type": "markdown",
   "metadata": {
    "vscode": {
     "languageId": "plaintext"
    }
   },
   "source": [
    "### Generators"
   ]
  },
  {
   "cell_type": "markdown",
   "metadata": {},
   "source": [
    "**_Python Generator:_**\n",
    "\n",
    "A Python generator is a special type of function that generates a sequence of values one at a time instead of returning them all at once. It uses the `yield` keyword to produce values and pauses its state between iterations, resuming execution when the next value is requested. This makes generators memory-efficient and suitable for handling large data streams."
   ]
  },
  {
   "cell_type": "markdown",
   "metadata": {},
   "source": [
    "```py\n",
    "          +---------------------+\n",
    "          |  Generator Function  |\n",
    "          +---------------------+\n",
    "                    |\n",
    "                    v\n",
    "          A Sequence of Values\n",
    "                    ^\n",
    "                    |\n",
    "                  yield\n",
    "\n",
    "```                  "
   ]
  },
  {
   "cell_type": "code",
   "execution_count": 1,
   "metadata": {},
   "outputs": [],
   "source": [
    "l = [x for x in range(200)]"
   ]
  },
  {
   "cell_type": "code",
   "execution_count": 3,
   "metadata": {},
   "outputs": [
    {
     "name": "stdout",
     "output_type": "stream",
     "text": [
      "0\n",
      "1\n",
      "2\n",
      "3\n",
      "4\n",
      "5\n",
      "6\n",
      "7\n",
      "8\n",
      "9\n"
     ]
    },
    {
     "ename": "StopIteration",
     "evalue": "",
     "output_type": "error",
     "traceback": [
      "\u001b[1;31m---------------------------------------------------------------------------\u001b[0m",
      "\u001b[1;31mStopIteration\u001b[0m                             Traceback (most recent call last)",
      "Cell \u001b[1;32mIn[3], line 5\u001b[0m\n\u001b[0;32m      2\u001b[0m \u001b[38;5;28mprint\u001b[39m(\u001b[38;5;28mnext\u001b[39m(g))\n\u001b[0;32m      4\u001b[0m \u001b[38;5;28;01mwhile\u001b[39;00m \u001b[38;5;28;01mTrue\u001b[39;00m:\n\u001b[1;32m----> 5\u001b[0m     \u001b[38;5;28mprint\u001b[39m(\u001b[38;5;28;43mnext\u001b[39;49m\u001b[43m(\u001b[49m\u001b[43mg\u001b[49m\u001b[43m)\u001b[49m)\n",
      "\u001b[1;31mStopIteration\u001b[0m: "
     ]
    }
   ],
   "source": [
    "g = (x for x in range(10))\n",
    "print(next(g))\n",
    "\n",
    "while True:\n",
    "    print(next(g))"
   ]
  },
  {
   "cell_type": "code",
   "execution_count": 7,
   "metadata": {},
   "outputs": [
    {
     "name": "stdout",
     "output_type": "stream",
     "text": [
      "0\n",
      "1\n",
      "2\n",
      "3\n",
      "4\n",
      "5\n",
      "6\n",
      "7\n"
     ]
    }
   ],
   "source": [
    "g = (x for x in range(10000000))\n",
    "print(next(g))\n",
    "for i in range(7):\n",
    "    print(next(g))"
   ]
  },
  {
   "cell_type": "code",
   "execution_count": 23,
   "metadata": {},
   "outputs": [
    {
     "name": "stdout",
     "output_type": "stream",
     "text": [
      "<class 'generator'>\n"
     ]
    }
   ],
   "source": [
    "def mygen():\n",
    "    yield 'A'\n",
    "    yield 'B'\n",
    "    yield 'C'\n",
    "\n",
    "g = mygen()\n",
    "print(type(g))\n"
   ]
  },
  {
   "cell_type": "code",
   "execution_count": 25,
   "metadata": {},
   "outputs": [],
   "source": [
    "for x in g:\n",
    "    print(g)"
   ]
  },
  {
   "cell_type": "code",
   "execution_count": 26,
   "metadata": {},
   "outputs": [
    {
     "name": "stdout",
     "output_type": "stream",
     "text": [
      "A\n",
      "B\n",
      "C\n"
     ]
    }
   ],
   "source": [
    "def mygen():\n",
    "    yield 'A'\n",
    "    yield 'B'\n",
    "    yield 'C'\n",
    "\n",
    "g = mygen()\n",
    "print(next(g))  # Output: A\n",
    "print(next(g))  # Output: B\n",
    "print(next(g))  # Output: C\n",
    "# Calling next(g) again will raise StopIteration\n"
   ]
  },
  {
   "cell_type": "code",
   "execution_count": 27,
   "metadata": {},
   "outputs": [
    {
     "name": "stdout",
     "output_type": "stream",
     "text": [
      "Start Countdown\n",
      "5\n",
      "4\n",
      "3\n",
      "2\n",
      "1\n"
     ]
    }
   ],
   "source": [
    "def countdown(num):\n",
    "    print(\"Start Countdown\")\n",
    "    while num > 0:\n",
    "        yield num\n",
    "        num -= 1\n",
    "\n",
    "values = countdown(5)\n",
    "for x in values:\n",
    "    print(x)"
   ]
  },
  {
   "cell_type": "code",
   "execution_count": 28,
   "metadata": {},
   "outputs": [
    {
     "name": "stdout",
     "output_type": "stream",
     "text": [
      "1\n",
      "2\n",
      "3\n",
      "4\n",
      "5\n"
     ]
    }
   ],
   "source": [
    "def firstn(num):\n",
    "    n = 1\n",
    "    while n <= num:\n",
    "        yield n\n",
    "        n += 1\n",
    "\n",
    "values = firstn(5)\n",
    "for x in values:\n",
    "    print(x)\n"
   ]
  },
  {
   "cell_type": "code",
   "execution_count": 29,
   "metadata": {},
   "outputs": [
    {
     "name": "stdout",
     "output_type": "stream",
     "text": [
      "[1, 2, 3, 4, 5, 6, 7, 8, 9, 10]\n"
     ]
    }
   ],
   "source": [
    "values = firstn(10)\n",
    "l1 = list(values)\n",
    "print(l1)  # Output: [1, 2, 3, 4, 5, 6, 7, 8, 9, 10]\n"
   ]
  },
  {
   "cell_type": "code",
   "execution_count": 30,
   "metadata": {},
   "outputs": [
    {
     "name": "stdout",
     "output_type": "stream",
     "text": [
      "0\n",
      "1\n",
      "1\n",
      "2\n",
      "3\n",
      "5\n",
      "8\n",
      "13\n",
      "21\n",
      "34\n",
      "55\n",
      "89\n"
     ]
    }
   ],
   "source": [
    "def fib():\n",
    "    a, b = 0, 1\n",
    "    while True:\n",
    "        yield a\n",
    "        a, b = b, a + b\n",
    "\n",
    "for f in fib():\n",
    "    if f > 100:\n",
    "        break\n",
    "    print(f)\n"
   ]
  },
  {
   "cell_type": "markdown",
   "metadata": {},
   "source": [
    "#### Prime Number Generator"
   ]
  },
  {
   "cell_type": "code",
   "execution_count": 35,
   "metadata": {},
   "outputs": [
    {
     "name": "stdout",
     "output_type": "stream",
     "text": [
      "2\n",
      "3\n",
      "5\n",
      "7\n"
     ]
    }
   ],
   "source": [
    "def prime_numbers(limit):\n",
    "    for num in range(2, limit + 1):  \n",
    "        for i in range(2, int(num ** 0.5) + 1):  \n",
    "            if num % i == 0:\n",
    "                break\n",
    "        else:\n",
    "            yield num\n",
    "\n",
    "gen = prime_numbers(10)\n",
    "for prime in gen:\n",
    "    print(prime)"
   ]
  },
  {
   "cell_type": "code",
   "execution_count": 38,
   "metadata": {},
   "outputs": [
    {
     "name": "stdout",
     "output_type": "stream",
     "text": [
      "0\n",
      "2\n",
      "4\n",
      "6\n",
      "8\n",
      "10\n",
      "12\n",
      "14\n",
      "16\n",
      "18\n"
     ]
    }
   ],
   "source": [
    "def infinite_even_numbers():\n",
    "    i = 0\n",
    "    while True:\n",
    "        if i%2 == 0:\n",
    "            yield i\n",
    "        i+=1\n",
    "\n",
    "\n",
    "gen = infinite_even_numbers()\n",
    "for _ in range(10):\n",
    "    print(next(gen))\n"
   ]
  },
  {
   "cell_type": "code",
   "execution_count": 43,
   "metadata": {},
   "outputs": [
    {
     "name": "stdout",
     "output_type": "stream",
     "text": [
      "0\n",
      "1\n",
      "1\n",
      "2\n",
      "3\n",
      "5\n",
      "8\n",
      "13\n"
     ]
    }
   ],
   "source": [
    "def fibonacci_sequence(n):\n",
    "    a, b = 0, 1\n",
    "    for _ in range(n):\n",
    "        yield a  \n",
    "        a, b = b, a + b  \n",
    "\n",
    "\n",
    "gen = fibonacci_sequence(8)\n",
    "for num in gen:\n",
    "    print(num)\n"
   ]
  },
  {
   "cell_type": "code",
   "execution_count": 44,
   "metadata": {},
   "outputs": [
    {
     "name": "stdout",
     "output_type": "stream",
     "text": [
      "34\n",
      "55\n",
      "89\n"
     ]
    }
   ],
   "source": [
    "def fibonacci_sequence(start, end):\n",
    "    a, b = 0, 1\n",
    "    while a <= end:\n",
    "        if a >= start:\n",
    "            yield a  \n",
    "        a, b = b, a + b  \n",
    "\n",
    "gen = fibonacci_sequence(25, 99)\n",
    "for num in gen:\n",
    "    print(num)\n"
   ]
  },
  {
   "cell_type": "code",
   "execution_count": 45,
   "metadata": {},
   "outputs": [
    {
     "name": "stdout",
     "output_type": "stream",
     "text": [
      "0\n",
      "1\n",
      "1\n",
      "2\n",
      "3\n",
      "5\n",
      "8\n",
      "13\n",
      "21\n",
      "34\n",
      "55\n",
      "89\n"
     ]
    }
   ],
   "source": [
    "def fibonacci_sequence(end):\n",
    "    a, b = 0, 1\n",
    "    while a < end:\n",
    "        yield a  \n",
    "        a, b = b, a + b  \n",
    "\n",
    "\n",
    "gen = fibonacci_sequence(99)\n",
    "for num in gen:\n",
    "    print(num)\n"
   ]
  },
  {
   "cell_type": "markdown",
   "metadata": {},
   "source": [
    "\n",
    "### 1. **Memory-Efficient Data Processing**\n",
    "   - **Application**: Handling large datasets or streaming data efficiently by generating small batches at a time.\n",
    "   - **Example**: \n",
    "     - **Data Preprocessing for Deep Learning**: When working with large image or text datasets, a generator can be used to yield batches of data for training, avoiding memory overload.\n",
    "\n",
    "### 2. **Data Augmentation in Computer Vision (CV)**\n",
    "   - **Application**: Generating augmented image batches on the fly for deep learning models, especially in training convolutional neural networks (CNNs).\n",
    "   - **Example**: \n",
    "     - **Image Augmentation**: A generator can continuously apply random transformations (such as rotation, flipping, or scaling) to images during training, without the need to store all augmented images in memory.\n",
    "\n",
    "### 3. **Time-Series Data Generation**\n",
    "   - **Application**: Creating time-series sequences where each output is based on the previous values, useful in forecasting and sequence prediction models.\n",
    "   - **Example**: \n",
    "     - **Financial Predictions**: Using a generator to yield time-series data of stock prices, where each sequence is used to predict future prices.\n",
    "\n",
    "### 4. **Infinite Data Generation for Simulation**\n",
    "   - **Application**: In machine learning projects that require continuous data input for training models.\n",
    "   - **Example**:\n",
    "     - **Simulating Sensor Data**: Generators can simulate sensor readings for predictive maintenance models, where the generator produces continuous streams of simulated sensor data.\n",
    "\n",
    "### 5. **Real-Time Data Streaming**\n",
    "   - **Application**: Used in applications where data is constantly arriving, and models need to be updated or evaluated in real-time.\n",
    "   - **Example**: \n",
    "     - **Real-Time NLP Model Training**: Continuously feeding text data (such as tweets or news articles) to a natural language processing model for sentiment analysis or topic modeling.\n",
    "\n",
    "### 6. **Large Scale Text Data for NLP**\n",
    "   - **Application**: In NLP tasks, large corpora (like Wikipedia or news articles) are used for training language models or classifiers. A generator can read and process text line by line or in chunks.\n",
    "   - **Example**: \n",
    "     - **Text Classification**: A generator can yield lines of text data from a large file, feeding it into the model in batches for training without loading the entire file into memory.\n",
    "\n",
    "### 7. **Data Feeding for Batch Processing**\n",
    "   - **Application**: Feeding training data in batches to models, improving the efficiency of training on large datasets.\n",
    "   - **Example**: \n",
    "     - **Batch Training**: A generator could yield batches of training examples (features and labels) in an infinite loop, which can be used to train deep learning models.\n",
    "\n",
    "### 8. **Custom Data Loading for Data Pipelines**\n",
    "   - **Application**: Customizing how data is fed into models, particularly when data needs to be processed dynamically based on external conditions or transformations.\n",
    "   - **Example**:\n",
    "     - **Dynamic Data Augmentation**: A generator can be used to load and augment data dynamically while training deep learning models, allowing for modifications (like random cropping or flipping) to be applied on the fly.\n",
    "\n",
    "### 9. **NLP Data Preprocessing for Batching**\n",
    "   - **Application**: Generators can be used to yield batches of tokenized text data for training NLP models (such as transformers or recurrent neural networks).\n",
    "   - **Example**: \n",
    "     - **Batch Text Preprocessing**: Generators can yield batches of preprocessed text data for tasks like language modeling, where each batch is tokenized, padded, and ready for training.\n",
    "\n",
    "### 10. **Memory-Efficient Data Storage in Large Datasets**\n",
    "   - **Application**: When datasets are too large to fit into memory, a generator can help load the data on demand.\n",
    "   - **Example**: \n",
    "     - **Data Retrieval from Disk**: In a large-scale data processing application (such as web scraping or crawling), a generator can read data from disk in chunks, ensuring that only a small part of the dataset is held in memory at any given time.\n",
    "\n",
    "### Summary of Applications:\n",
    "- Memory-efficient data processing\n",
    "- Data augmentation for computer vision models\n",
    "- Time-series data generation for forecasting\n",
    "- Infinite data generation for simulations\n",
    "- Real-time data streaming for live model training\n",
    "- Efficient handling of large-scale text data for NLP\n",
    "- Batch data processing for training models\n",
    "- Custom data feeding in machine learning pipelines\n"
   ]
  }
 ],
 "metadata": {
  "kernelspec": {
   "display_name": "Python 3",
   "language": "python",
   "name": "python3"
  },
  "language_info": {
   "codemirror_mode": {
    "name": "ipython",
    "version": 3
   },
   "file_extension": ".py",
   "mimetype": "text/x-python",
   "name": "python",
   "nbconvert_exporter": "python",
   "pygments_lexer": "ipython3",
   "version": "3.12.7"
  }
 },
 "nbformat": 4,
 "nbformat_minor": 2
}
