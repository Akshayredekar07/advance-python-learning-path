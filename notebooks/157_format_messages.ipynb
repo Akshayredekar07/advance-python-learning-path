{
 "cells": [
  {
   "cell_type": "code",
   "execution_count": 5,
   "metadata": {},
   "outputs": [],
   "source": [
    "# import logging\n",
    "# logging.basicConfig(filename='log.txt', level=10, filemode='w')\n",
    "# logging.debug('debug msg')\n",
    "# logging.info('info msg')\n",
    "# logging.warning('warning msg')\n",
    "# logging.error('error msg')\n",
    "# logging.critical('critical msg')"
   ]
  },
  {
   "cell_type": "code",
   "execution_count": 6,
   "metadata": {},
   "outputs": [],
   "source": [
    "import logging \n",
    "logging.basicConfig(format='%(levelname)s')\n",
    "logging.debug('debug msg')\n",
    "logging.info('info msg')\n",
    "logging.warning('warning msg')\n",
    "logging.error('error msg')\n"
   ]
  },
  {
   "cell_type": "code",
   "execution_count": 1,
   "metadata": {},
   "outputs": [
    {
     "name": "stderr",
     "output_type": "stream",
     "text": [
      "ERROR-error msg\n",
      "WARNING-warning msg\n"
     ]
    }
   ],
   "source": [
    "import logging \n",
    "logging.basicConfig(format='%(levelname)s-%(message)s')\n",
    "logging.error('error msg')\n",
    "logging.warning('warning msg')\n",
    "logging.info('info msg')\n",
    "logging.debug('debug msg')\n"
   ]
  },
  {
   "cell_type": "markdown",
   "metadata": {},
   "source": [
    "#### **How to add Timestamp in the log message**"
   ]
  },
  {
   "cell_type": "code",
   "execution_count": 3,
   "metadata": {},
   "outputs": [
    {
     "name": "stderr",
     "output_type": "stream",
     "text": [
      "ERROR-error msg\n",
      "WARNING-warning msg\n"
     ]
    }
   ],
   "source": [
    "import logging \n",
    "import time\n",
    "logging.basicConfig(format='%(asctime)s:%(levelname)s:%(message)s')\n",
    "logging.error('error msg')\n",
    "logging.warning('warning msg')\n",
    "logging.info('info msg')\n",
    "logging.debug('debug msg')\n"
   ]
  },
  {
   "cell_type": "markdown",
   "metadata": {},
   "source": [
    "`'%I'` - 12 hr scale"
   ]
  },
  {
   "cell_type": "code",
   "execution_count": 1,
   "metadata": {},
   "outputs": [
    {
     "name": "stderr",
     "output_type": "stream",
     "text": [
      "01-04-2025 03:51:26 PM:CRITICAL:critical msg\n",
      "01-04-2025 03:51:26 PM:ERROR:error msg\n",
      "01-04-2025 03:51:26 PM:WARNING:warning msg\n"
     ]
    }
   ],
   "source": [
    "import logging \n",
    "import time\n",
    "logging.basicConfig(format='%(asctime)s:%(levelname)s:%(message)s', datefmt='%d-%m-%Y %I:%M:%S %p')\n",
    "logging.critical('critical msg')\n",
    "logging.error('error msg')\n",
    "logging.warning('warning msg')\n",
    "logging.info('info msg')\n",
    "logging.debug('debug msg')\n"
   ]
  },
  {
   "cell_type": "code",
   "execution_count": 1,
   "metadata": {},
   "outputs": [
    {
     "name": "stderr",
     "output_type": "stream",
     "text": [
      "Tuesday-April-2025 03:56:58 :CRITICAL:critical msg\n",
      "Tuesday-April-2025 03:56:58 :ERROR:error msg\n",
      "Tuesday-April-2025 03:56:58 :WARNING:warning msg\n"
     ]
    }
   ],
   "source": [
    "import logging \n",
    "import time\n",
    "logging.basicConfig(format='%(asctime)s:%(levelname)s:%(message)s', datefmt='%A-%B-%Y %I:%M:%S ')\n",
    "logging.critical('critical msg')\n",
    "logging.error('error msg')\n",
    "logging.warning('warning msg')\n",
    "logging.info('info msg')\n",
    "logging.debug('debug msg')\n"
   ]
  },
  {
   "cell_type": "code",
   "execution_count": null,
   "metadata": {},
   "outputs": [
    {
     "name": "stderr",
     "output_type": "stream",
     "text": [
      "Tue-Apr-2025 03:57:24 :CRITICAL:critical msg\n",
      "Tue-Apr-2025 03:57:24 :ERROR:error msg\n",
      "Tue-Apr-2025 03:57:24 :WARNING:warning msg\n"
     ]
    }
   ],
   "source": [
    "import logging \n",
    "import time\n",
    "logging.basicConfig(format='%(asctime)s:%(levelname)s:%(message)s', datefmt='%a-%b-%Y %I:%M:%S ')\n",
    "logging.critical('critical msg')\n",
    "logging.error('error msg')\n",
    "logging.warning('warning msg')\n",
    "logging.info('info msg')\n",
    "logging.debug('debug msg')\n"
   ]
  },
  {
   "cell_type": "markdown",
   "metadata": {},
   "source": [
    "#### How to write python program exception to the log file:"
   ]
  },
  {
   "cell_type": "code",
   "execution_count": 3,
   "metadata": {},
   "outputs": [
    {
     "name": "stdout",
     "output_type": "stream",
     "text": [
      "Cannot divide by zero\n"
     ]
    }
   ],
   "source": [
    "try:\n",
    "    x = int(input(\"Enter first number: \"))\n",
    "    y = int(input(\"Enter second number: \"))\n",
    "    print(\"Result: \", x/y)\n",
    "\n",
    "except ZeroDivisionError as msg:\n",
    "    print(\"Cannot divide by zero\")\n",
    "\n",
    "except ValueError as msg:\n",
    "    print(\"Please provide int value only\")\n",
    "\n",
    " "
   ]
  },
  {
   "cell_type": "code",
   "execution_count": 4,
   "metadata": {},
   "outputs": [
    {
     "name": "stdout",
     "output_type": "stream",
     "text": [
      "Result:  1.0\n"
     ]
    }
   ],
   "source": [
    "import logging\n",
    "logging.basicConfig(filename=\"log.txt\", \n",
    "                    level=logging.DEBUG,\n",
    "                    format='%(asctime)s:%(levelname)s:%(message)s', \n",
    "                    datefmt='%d-%m-%Y %I:%M: %p'\n",
    "                    )\n",
    "\n",
    "logging.info(\"New request come-\")\n",
    "try:\n",
    "    x = int(input(\"Enter first number: \"))\n",
    "    y = int(input(\"Enter second number: \"))\n",
    "    print(\"Result: \", x/y)\n",
    "\n",
    "except ZeroDivisionError as msg:\n",
    "    print(\"Cannot divide by zero\")\n",
    "    logging.exception(msg)\n",
    "\n",
    "except ValueError as msg:\n",
    "    print(\"Please provide int value only\")\n",
    "    logging.exception(msg)\n",
    "\n",
    "logging.info('Request processing completed')"
   ]
  }
 ],
 "metadata": {
  "kernelspec": {
   "display_name": "Python 3",
   "language": "python",
   "name": "python3"
  },
  "language_info": {
   "codemirror_mode": {
    "name": "ipython",
    "version": 3
   },
   "file_extension": ".py",
   "mimetype": "text/x-python",
   "name": "python",
   "nbconvert_exporter": "python",
   "pygments_lexer": "ipython3",
   "version": "3.10.9"
  }
 },
 "nbformat": 4,
 "nbformat_minor": 2
}
