{
 "cells": [
  {
   "cell_type": "markdown",
   "metadata": {},
   "source": [
    "\n",
    "OOPS Part02\n",
    "\n",
    "- Has-A relationship\n",
    "- IS-A relationship\n",
    "- Type of inheritance\n",
    "- MRO \n",
    "- super"
   ]
  },
  {
   "cell_type": "markdown",
   "metadata": {
    "vscode": {
     "languageId": "plaintext"
    }
   },
   "source": [
    "How to use members of one class inside another class:\n",
    "\n",
    "2. Ways \n",
    "- By using Compositon(Has-A relationship)\n",
    "- By using Inheritance(IS-A relationship)"
   ]
  },
  {
   "cell_type": "markdown",
   "metadata": {},
   "source": [
    "HAS-A Relationship\n",
    "\n",
    "- Class Car Has-A Engine Reference\n",
    "- Code reusability"
   ]
  },
  {
   "cell_type": "markdown",
   "metadata": {},
   "source": [
    "![Has-A relationship](images/car-engine.png)"
   ]
  },
  {
   "cell_type": "markdown",
   "metadata": {},
   "source": [
    "![Car engine](images/Hondacity.png)\n"
   ]
  },
  {
   "cell_type": "code",
   "execution_count": 4,
   "metadata": {},
   "outputs": [
    {
     "name": "stdout",
     "output_type": "stream",
     "text": [
      "Car required engine functionality!\n",
      "Engine Specific Functionality!\n",
      "The power of engine:  125kw\n"
     ]
    }
   ],
   "source": [
    "class Engine: \n",
    "    def __init__(self) -> None:\n",
    "        self.power=\"125kw\"\n",
    "\n",
    "    def use_engine(self):\n",
    "        print(\"Engine Specific Functionality!\")\n",
    "\n",
    "\n",
    "class Car:\n",
    "    def __init__(self):\n",
    "        self.engine=Engine()\n",
    "\n",
    "    def use_car(self):\n",
    "        print(\"Car required engine functionality!\")\n",
    "        self.engine.use_engine()\n",
    "        print(\"The power of engine: \", self.engine.power)\n",
    "\n",
    "c = Car()\n",
    "c.use_car()\n",
    "\n",
    "\n",
    "# class car Has-A Engine "
   ]
  },
  {
   "cell_type": "code",
   "execution_count": null,
   "metadata": {},
   "outputs": [],
   "source": [
    "class Engine:\n",
    "    # Engine specific functionality\n",
    "    pass\n",
    "\n",
    "class Fiesta:\n",
    "    # required eingine functionality\n",
    "    pass  \n",
    "\n",
    "class FigoCar:\n",
    "    # required eingine functionality\n",
    "    pass    "
   ]
  },
  {
   "cell_type": "code",
   "execution_count": null,
   "metadata": {},
   "outputs": [],
   "source": [
    "class FiestaCar:\n",
    "    def __init__(self) -> None:\n",
    "        self.engine=Engine()\n",
    "        # Outside of this class we cannot use the engine functionality\n",
    "\n",
    "    class Engine:\n",
    "        # Engine specific functionality\n",
    "        pass        "
   ]
  },
  {
   "cell_type": "code",
   "execution_count": 2,
   "metadata": {},
   "outputs": [],
   "source": [
    "# University Has-A department\n",
    "# Without Existing university there os no chance of having department : this type of relation is called the composition \n",
    "\n",
    "# Department Has-A professor : this type of relation is called simple aggregation"
   ]
  },
  {
   "cell_type": "code",
   "execution_count": 5,
   "metadata": {},
   "outputs": [
    {
     "name": "stdout",
     "output_type": "stream",
     "text": [
      "Employee name: Durga\n",
      "Employee id: 121\n",
      "Employee car info :\n",
      "Name: Range rover, Model 2.5V, Color Black\n"
     ]
    }
   ],
   "source": [
    "# E.g: Employee having car \n",
    "class Car:\n",
    "    def __init__(self, name, model, color) -> None:\n",
    "        self.name = name\n",
    "        self.model = model\n",
    "        self.color = color\n",
    "\n",
    "    def getInfo(self):\n",
    "        print(\"Name: {}, Model {}, Color {}\".format(self.name, self.model, self.color))  \n",
    "\n",
    "\n",
    "class Employee:\n",
    "    def __init__(self, ename, id, car) -> None:\n",
    "        self.ename = ename\n",
    "        self.id = id\n",
    "        self.car = car    \n",
    "\n",
    "    def empInfo(self):\n",
    "        print(f\"Employee name: {self.ename}\")\n",
    "        print(f\"Employee id: {self.id}\")\n",
    "        print(f\"Employee car info :\")\n",
    "        self.car.getInfo()\n",
    "\n",
    "car = Car(\"Range rover\", \"2.5V\", \"Black\")              \n",
    "e = Employee(\"Durga\",\"121\",car)\n",
    "e.empInfo()\n"
   ]
  },
  {
   "cell_type": "markdown",
   "metadata": {},
   "source": [
    "![Durga news](images/DurgaNews.png)\n"
   ]
  },
  {
   "cell_type": "code",
   "execution_count": 6,
   "metadata": {},
   "outputs": [
    {
     "name": "stdout",
     "output_type": "stream",
     "text": [
      "Welcome to durga news\n",
      "Sports imformation 1\n",
      "Sports imformation 2\n",
      "Sports imformation 3\n",
      "Sports imformation 1\n",
      "Sports imformation 2\n",
      "Sports imformation 3\n",
      "Sports imformation 1\n",
      "Sports imformation 2\n",
      "Sports imformation 3\n"
     ]
    }
   ],
   "source": [
    "class SportsNews:\n",
    "    def sportsInfo(self):\n",
    "        print(\"Sports imformation 1\")\n",
    "        print(\"Sports imformation 2\")\n",
    "        print(\"Sports imformation 3\")\n",
    "\n",
    "class MovieNews:\n",
    "    def movieInfo(self):\n",
    "        print(\"Sports imformation 1\")\n",
    "        print(\"Sports imformation 2\")\n",
    "        print(\"Sports imformation 3\")\n",
    "\n",
    "class PoliticsNews:\n",
    "    def politicsInfo(self):\n",
    "        print(\"Sports imformation 1\")\n",
    "        print(\"Sports imformation 2\")\n",
    "        print(\"Sports imformation 3\")\n",
    "\n",
    "class DurgaNews:\n",
    "    def __init__(self) -> None:\n",
    "        self.sports=SportsNews()        \n",
    "        self.movies=MovieNews()        \n",
    "        self.politics=PoliticsNews()        \n",
    "\n",
    "    def getTotalNews(self):\n",
    "        print(\"Welcome to durga news\")\n",
    "        self.sports.sportsInfo()\n",
    "        self.movies.movieInfo()\n",
    "        self.politics.politicsInfo()\n",
    "\n",
    "\n",
    "d = DurgaNews()\n",
    "d.getTotalNews()"
   ]
  },
  {
   "cell_type": "code",
   "execution_count": 7,
   "metadata": {},
   "outputs": [
    {
     "name": "stdout",
     "output_type": "stream",
     "text": [
      "Welcome to durga news\n",
      "Sports imformation 1\n",
      "Sports imformation 2\n",
      "Sports imformation 3\n",
      "Sports imformation 1\n",
      "Sports imformation 2\n",
      "Sports imformation 3\n",
      "Sports imformation 1\n",
      "Sports imformation 2\n",
      "Sports imformation 3\n"
     ]
    }
   ],
   "source": [
    "# Instead of creating object inside the class we can also creates the objects outside aslo\n",
    "class SportsNews:\n",
    "    def sportsInfo(self):\n",
    "        print(\"Sports imformation 1\")\n",
    "        print(\"Sports imformation 2\")\n",
    "        print(\"Sports imformation 3\")\n",
    "\n",
    "class MovieNews:\n",
    "    def movieInfo(self):\n",
    "        print(\"Sports imformation 1\")\n",
    "        print(\"Sports imformation 2\")\n",
    "        print(\"Sports imformation 3\")\n",
    "\n",
    "class PoliticsNews:\n",
    "    def politicsInfo(self):\n",
    "        print(\"Sports imformation 1\")\n",
    "        print(\"Sports imformation 2\")\n",
    "        print(\"Sports imformation 3\")\n",
    "\n",
    "class DurgaNews:\n",
    "    def __init__(self, sports, movies, politics) -> None:\n",
    "        self.sports=sports        \n",
    "        self.movies=movies   \n",
    "        self.politics=politics      \n",
    "\n",
    "    def getTotalNews(self):\n",
    "        print(\"Welcome to durga news\")\n",
    "        self.sports.sportsInfo()\n",
    "        self.movies.movieInfo()\n",
    "        self.politics.politicsInfo()\n",
    "\n",
    "\n",
    "sports = SportsNews()\n",
    "movies = MovieNews()\n",
    "politics = PoliticsNews()\n",
    "d = DurgaNews(sports, movies, politics)\n",
    "d.getTotalNews()"
   ]
  },
  {
   "cell_type": "code",
   "execution_count": null,
   "metadata": {},
   "outputs": [],
   "source": [
    "# Completed composition"
   ]
  }
 ],
 "metadata": {
  "kernelspec": {
   "display_name": "Python 3",
   "language": "python",
   "name": "python3"
  },
  "language_info": {
   "codemirror_mode": {
    "name": "ipython",
    "version": 3
   },
   "file_extension": ".py",
   "mimetype": "text/x-python",
   "name": "python",
   "nbconvert_exporter": "python",
   "pygments_lexer": "ipython3",
   "version": "3.11.5"
  }
 },
 "nbformat": 4,
 "nbformat_minor": 2
}
