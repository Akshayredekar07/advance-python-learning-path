{
 "cells": [
  {
   "cell_type": "markdown",
   "metadata": {},
   "source": [
    "### **Working with Directories in Python**\n",
    "\n",
    "It is a very common requirement to perform operations on directories, such as:\n",
    "1. To know the current working directory\n",
    "2. To create a new directory\n",
    "3. To remove an existing directory\n",
    "4. To rename a directory\n",
    "5. To list the contents of a directory  \n",
    "...and more.\n",
    "\n",
    "To perform these operations, Python provides the inbuilt `os` module, which contains several functions for directory-related operations.\n",
    "\n",
    "\n",
    "#### Q1) To Know Current Working Directory\n",
    "```python\n",
    "import os\n",
    "cwd = os.getcwd()\n",
    "print(\"Current Working Directory:\", cwd)\n",
    "```\n",
    "\n",
    "#### Q2) To Create a Sub Directory in the Current Working Directory\n",
    "```python\n",
    "import os\n",
    "os.mkdir(\"mysub\")\n",
    "print(\"mysub directory created in cwd\")\n",
    "```\n",
    "\n",
    "#### Q3) To Create a Sub Directory in `mysub` Directory\n",
    "Directory Structure:\n",
    "```\n",
    "cwd\n",
    " |-mysub\n",
    "    |-mysub2\n",
    "```\n",
    "```python\n",
    "import os\n",
    "os.mkdir(\"mysub/mysub2\")\n",
    "print(\"mysub2 created inside mysub\")\n",
    "```\n",
    "**Note:** Assume `mysub` already exists in `cwd`.\n",
    "\n",
    "\n",
    "#### Q4) To Create Multiple Directories like `sub1/sub2/sub3`\n",
    "```python\n",
    "import os\n",
    "os.makedirs(\"sub1/sub2/sub3\")\n",
    "print(\"sub1 and in that sub2 and in that sub3 directories created\")\n",
    "```\n",
    "\n",
    "\n",
    "#### Q5) To Remove a Directory\n",
    "```python\n",
    "import os\n",
    "os.rmdir(\"mysub/mysub2\")\n",
    "print(\"mysub2 directory deleted\")\n",
    "```\n",
    "\n",
    "\n",
    "#### Q6) To Remove Multiple Directories in the Path\n",
    "```python\n",
    "import os\n",
    "os.removedirs(\"sub1/sub2/sub3\")\n",
    "print(\"All 3 directories sub1, sub2, and sub3 removed\")\n",
    "```\n",
    "\n",
    "\n",
    "#### Q7) To Rename a Directory\n",
    "```python\n",
    "import os\n",
    "os.rename(\"mysub\", \"newdir\")\n",
    "print(\"mysub directory renamed to newdir\")\n",
    "```\n",
    "\n",
    "#### Q8) To Know Contents of a Directory\n",
    "The `os` module provides the `listdir()` function to list the contents of a specified directory. It will not display the contents of subdirectories.\n",
    "```python\n",
    "import os\n",
    "print(os.listdir(\".\"))\n",
    "```\n",
    "\n",
    "**Output:**\n",
    "```\n",
    "D:\\Python_classes>py test.py\n",
    "['abc.py', 'abc.txt', 'abcd.txt', 'com', 'demo.py', 'durgamath.py', 'emp.csv',\n",
    "'file1.txt', 'file2.txt', 'file3.txt', 'files.zip', 'log.txt', 'module1.py',\n",
    "'mylog.txt', 'newdir', 'newpic.jpg', 'pack1', 'rossum.jpg', 'test.py', '__pycache__']\n",
    "```\n",
    "\n",
    "**Notes:**\n",
    "- The above program displays the contents of the current working directory but not the contents of subdirectories.\n",
    "- To retrieve the contents of a directory, including subdirectories, we use the `walk()` function.\n",
    "\n",
    "\n",
    "\n",
    "#### Q9) To Know Contents of a Directory Including Subdirectories\n",
    "The `os.walk()` function is used for this purpose.  \n",
    "**Function Syntax:**\n",
    "```python\n",
    "os.walk(path, topdown=True, onerror=None, followlinks=False)\n",
    "```\n",
    "\n",
    "- `path`: Directory path (`cwd` means current directory `.`).\n",
    "- `topdown=True`: Traverse from top to bottom.\n",
    "- `onerror=None`: Function to execute when an error occurs.\n",
    "- `followlinks=False`: If `True`, visits directories pointed to by symbolic links.\n",
    "\n",
    "**Example:**\n",
    "To display all contents of the current working directory, including subdirectories:\n",
    "```python\n",
    "import os\n",
    "for dirpath, dirnames, filenames in os.walk(\".\"):\n",
    "    print(\"Directory Path:\", dirpath)\n",
    "    print(\"Subdirectories:\", dirnames)\n",
    "    print(\"Files:\", filenames)\n",
    "```\n"
   ]
  },
  {
   "cell_type": "code",
   "execution_count": 1,
   "metadata": {},
   "outputs": [
    {
     "name": "stdout",
     "output_type": "stream",
     "text": [
      "['.git', '.gitignore', '.ipynb_checkpoints', 'abc.txt', 'animals_dict.txt', 'cars_set.txt', 'config.txt', 'destination.txt', 'Durga Sir Numpy.pdf', 'emp.csv', 'example.txt', 'file1.txt', 'file2.txt', 'file3.txt', 'files.zip', 'fruits_tuple.txt', 'Images', 'img1.jpg', 'img3.jpg', 'Mini Project', 'multiple_data.txt', 'my_file.txt', 'newimg.jpg', 'os_list.txt', 'Python_class', 'README.md', 'Session00.LanguageFamdamentals.ipynb', 'Session01.Input And Output Statements .ipynb', 'Session01.py', 'Session02.Operators.ipynb', 'Session03.FlowControl.ipynb', 'Session04.py', 'Session04.String.ipynb', 'Session100.OperatorOverloadingProgram.ipynb', 'Session101.OperatorOverloadingforNestedOperators.ipynb', 'Session102.ConstructorOverloadng.ipynb', 'Session103.MethodAndConstructorOverriding.ipynb', 'Session104.CompleteStoryOfAbstract.ipynb', 'Session105.Interface_vs_abstract_vs_concreate.ipynb', 'Session106.PublicAndPrivateMembers.ipynb', 'Session107.ProtectedMembers.ipynb', 'Session108.DataHiding.ipynb', 'Session109.str and rep methods.ipynb', 'Session110.MiniProject.ipynb', 'Session111.Mini Project Part1.ipynb', 'Session113.FunctionAlising.ipynb', 'Session114.DecoratorsExamples.ipynb', 'Session115.CallFunctionWithoutDecorator.ipynb', 'Session116.Generators.ipynb', 'Session117.LimitationOfGenerators.ipynb', 'Session118.ExceptionHandlingIntroduction.ipynb', 'Session119.ExceptionHeirarchy.ipynb', 'Session120.CombinationsOfElase.ipynb', 'Session121.VariousCasesOfFinally.ipynb', 'Session122.NestedTryExceptFinally.ipynb', 'Session123.ElaseWithException.ipynb', 'Session124.CustomizedExcption.ipynb', 'Session125.IntroductionFileHandling.ipynb', 'Session126.WriteAndReadData.ipynb', 'Session127.withStatement.ipynb', 'Session128.HandlingBinaryData.ipynb', 'Session129.WorkingWithDirecotry.ipynb', 'Session130.WorkingwithDirs.ipynb', 'Session76.OOPS.Intoductions.ipynb', 'Session77.SelfVariable.ipynb', 'Session78.Constructor.ipynb', 'Session79.Movie.ipynb', 'Session80.Instance.Method.Baisc.ipynb', 'Session81.staticVariables.ipynb', 'Session82.SataticVariable2.ipynb', 'Session83.Instance&ClassMethods.ipynb', 'Session84.InstanceStaticVsClass.ipynb', 'Session85.Accessing members of class.ipynb', 'Session86.InnerNestedClass.ipynb', 'Session87.InnerClassPrograms.ipynb', 'Session88.NestedMethods.ipynb', 'Session89.GarbageCollectorDestructor.ipynb', 'Session90.DestructorProgramImportantQuestions.ipynb', 'Session91.OOPs.Part2.Has-A.Relationship.ipynb', 'Session92.UsingMembersOfOneClassInsideAnotherIS-A.ipynb', 'Session93.ImportanceOfInheritance.ipynb', 'Session94.TypesOfsInheritance.ipynb', 'Session95.MethodResolutionOrder.ipynb', 'Session96.MethodResolutionOperator.ipynb', 'Session97.NeedOfSuperFunction.ipynb', 'Session98.ImportantUsecasesOfSuper.ipynb', 'Session99.Polymorphism.ipynb', 'source.txt', 'student.csv', 'Test Programs', 'test.txt']\n"
     ]
    }
   ],
   "source": [
    "import os\n",
    "print(os.listdir(\".\"))"
   ]
  },
  {
   "cell_type": "markdown",
   "metadata": {},
   "source": [
    "### **Advanced File and Directory Operations in Python**\n",
    "\n",
    "#### Display Contents of a Specific Directory Using `os.walk()`\n",
    "To display the contents of a particular directory, pass the directory name as an argument to the `walk()` function:\n",
    "\n",
    "```python\n",
    "import os\n",
    "for dirpath, dirnames, filenames in os.walk(\"directoryname\"):\n",
    "    print(\"Directory Path:\", dirpath)\n",
    "    print(\"Subdirectories:\", dirnames)\n",
    "    print(\"Files:\", filenames)\n",
    "```"
   ]
  },
  {
   "cell_type": "code",
   "execution_count": 3,
   "metadata": {},
   "outputs": [
    {
     "name": "stdout",
     "output_type": "stream",
     "text": [
      "Directory Path: Python_class\n",
      "Subdirectories: ['0.PDF', 'Assertion', 'Decorator', 'ExceptionHandling', 'flowControl', 'Function', 'Generator', 'inOut', 'Logging', 'Module_py', 'MultiThreading', 'objSerialization', 'OOPS', 'oper', 'Package', 'pattern', 'primeNo', 'PyDataStructure', 'ReGex', 'string', 'string_interview', 'SubProcess']\n",
      "Files: ['image.png', 'pythonbook.pdf', 'README.md']\n",
      "----------------------------------------\n",
      "Directory Path: Python_class\\0.PDF\n",
      "Subdirectories: ['Topic_Wise_All_Materials']\n",
      "Files: ['1.1 10. FUNCTIONS STUDY MATERIAL.pdf', '1.1 11.MODULES STUDY MATERIAL.pdf', '1.1 12.PACKAGES STUDY MATERIAL.pdf', '1.1 13.OOP’s Part - 1 STUDY MATERIAL.pdf', '1.1 17.EXCEPTION HANDLING_STUDY MATERIAL.pdf', '1.1 22.DECORATOR FUNCTIONS STUDY MATERIAL.pdf', '1.1 23.Generator Functions Study Material.pdf', '1.1 3.Input And Output Statements Study Material.pdf', '1.1 5.1.STRING DATA TYPE STUDY MATERIAL.pdf', '1.1 5.2.Python String Coding Interview Questions.pdf', '1.1 6.LIST DATA STRUCTURE STUDY MATERIAL.pdf', '1.1 7.TUPLE DATA STRUCTURE STUDY MATERIAL.pdf', '1.1 8.SET DATA STRUCTURE STUDY MATERIAL.pdf', '1.1 9.DICTIONARY DATA STRUCTURE  STUDY MATERIAL.pdf', '1.1 ASSERTIONS.pdf', '1.1 FILE HANDLING STUDY MATERIAL.pdf', '1.1 Object Serialization for Online.pdf', '1.1 OOP’s Part - 4 STUDY MATERIAL.pdf', '1.1 Python Logging Module.pdf', '1.1 Topic_Wise_All_Materials.zip', '1.2 OOP’s Part - 3 STUDY MATERIAL.pdf', '1.3 OOP’s Part - 2 STUDY MATERIAL.pdf', '1.4 13.OOP’s Part - 1 STUDY MATERIAL.pdf', '1.4 OOP’s Part - 4 STUDY MATERIAL.pdf', '10.1 math_module_functions_constants.txt', '12.1 How to check a particular file exists or not.py', '15.1 csv_programs.py', '16.1 csv_programs.py', '16.1 employee_fake_data_generator.py', '16.2 Write a Program to generate Fake Employee Data.pptx', '17 Operators Part1.ipynb', '46.1 is_a_vs_has_a.py', '65.1 overloading_plus_start_for_book.py', 'Core Python Detailed Index.pdf', 'Core Python Material.pdf', 'Multi Threading.pdf', 'Python Database Programming.pdf', 'Python UNIT Testing.pdf', 'pythonbook.pdf', 'python_reference_books_websites.txt', 'Regular Expressions.pdf']\n",
      "----------------------------------------\n",
      "Directory Path: Python_class\\0.PDF\\Topic_Wise_All_Materials\n",
      "Subdirectories: []\n",
      "Files: ['1.1 1.LANGUAGE-FUNDAMENTALS-STUDY-MATERIAL.pdf', '1.1 2.OPERATORS STUDY MATERIAL.pdf', '1.2 1.LANGUAGE FUNDAMENTALS STUDY MATERIAL.pdf', '1.LANGUAGE FUNDAMENTALS STUDY MATERIAL.pdf', '10. FUNCTIONS STUDY MATERIAL.pdf', '11.MODULES STUDY MATERIAL.pdf', '12.PACKAGES STUDY MATERIAL.pdf', '2.OPERATORS STUDY MATERIAL.pdf', '3.Input And Output Statements Study Material.pdf', '4.1.FLOW CONTROL STUDY MATERIAL.pdf', '4.2.Pattern Programs.pdf', '5.1.STRING DATA TYPE STUDY MATERIAL.pdf', '5.2.Python String Coding Interview Questions.pdf', '6.LIST DATA STRUCTURE STUDY MATERIAL.pdf', '7.TUPLE DATA STRUCTURE STUDY MATERIAL.pdf', '8.SET DATA STRUCTURE STUDY MATERIAL.pdf', '9.DICTIONARY DATA STRUCTURE  STUDY MATERIAL.pdf', 'DigitsToEnglishWords_0_99.py', 'nested_collections.py']\n",
      "----------------------------------------\n",
      "Directory Path: Python_class\\Assertion\n",
      "Subdirectories: []\n",
      "Files: ['1.py', 'bash.sh']\n",
      "----------------------------------------\n",
      "Directory Path: Python_class\\Decorator\n",
      "Subdirectories: []\n",
      "Files: ['1.py', '2.py', '3.py', '4.py', '5.py', '6.py', '7.py', '8.py']\n",
      "----------------------------------------\n",
      "Directory Path: Python_class\\ExceptionHandling\n",
      "Subdirectories: []\n",
      "Files: ['1.py', '10.py', '2.py', '3.py', '4.py', '5.py', '6.py', '7.py', '8.py', '9.py', 'bash.sh']\n",
      "----------------------------------------\n",
      "Directory Path: Python_class\\flowControl\n",
      "Subdirectories: ['FileHandling']\n",
      "Files: ['1.py', '2.py', '3.py', '4.py', '5.py', '6.py', '7.py', '8.py', '9.py']\n",
      "----------------------------------------\n",
      "Directory Path: Python_class\\flowControl\\FileHandling\n",
      "Subdirectories: []\n",
      "Files: ['1.py', '10.py', '11.py', '12.py', '13.py', '14.py', '15.py', '16.py', '2.py', '3.py', '4.py', '5.py', '6.py', '7.py', '8.py', '9.py', 'abc.txt', 'bash.sh', 'emp.csv', 'input.txt', 'kohinoor.jpg', 'out.txt', 'RObin.jpg', 'Robin.zip', 'robineha.txt', 'unzip.py', 'ZIP.py']\n",
      "----------------------------------------\n",
      "Directory Path: Python_class\\Function\n",
      "Subdirectories: []\n",
      "Files: ['1.py', '10.py', '11.py', '12.py', '13.py', '14.py', '15.py', '2.py', '3.py', '4.py', '5.py', '6.py', '7.py', '8.py', '9.py', 'a.txt']\n",
      "----------------------------------------\n",
      "Directory Path: Python_class\\Generator\n",
      "Subdirectories: []\n",
      "Files: ['1.py', '2.py']\n",
      "----------------------------------------\n",
      "Directory Path: Python_class\\inOut\n",
      "Subdirectories: []\n",
      "Files: ['1.py', '10.py', '2.py', '3.py', '4.py', '5eval.py', '6argv.py', '7arg.py', '8.py', '9.py', 'out.txt']\n",
      "----------------------------------------\n",
      "Directory Path: Python_class\\Logging\n",
      "Subdirectories: []\n",
      "Files: ['1.py', '4.py', '5.py', '6.py', '7student.py', 'abc.log', 'bash.sh']\n",
      "----------------------------------------\n",
      "Directory Path: Python_class\\Module_py\n",
      "Subdirectories: ['__pycache__']\n",
      "Files: ['1.py', '2.py', '3.py', '4.py', '5.py', '6.py', '7.py', '8.py', 'FakeEmpGen.py', 'GuessNo.py', 'mod1.py', 'mod1.pyc', 'mod2.py', 'mod3.py', 'OTPGen.py']\n",
      "----------------------------------------\n",
      "Directory Path: Python_class\\Module_py\\__pycache__\n",
      "Subdirectories: []\n",
      "Files: ['mod1.cpython-39.pyc', 'mod2.cpython-39.pyc', 'mod3.cpython-39.pyc']\n",
      "----------------------------------------\n",
      "Directory Path: Python_class\\MultiThreading\n",
      "Subdirectories: []\n",
      "Files: ['1.py', '10.py', '11.py', '12.PY', '13.py', '14.py', '15.py', '16.py', '17.py', '18.py', '19.py', '2.py', '20.py', '3.py', '4.py', '5.py', '6.py', '7.py', '8.py', '9.py']\n",
      "----------------------------------------\n",
      "Directory Path: Python_class\\objSerialization\n",
      "Subdirectories: ['__pycache__']\n",
      "Files: ['1.py', '2.py', '3.py', '4.py', '5.py', '6.py', 'BitCoinPrice.py', 'emp.json', 'emp1.ser', 'employe.json', 'Employee.py', 'Reciver.py', 'Sender.py']\n",
      "----------------------------------------\n",
      "Directory Path: Python_class\\objSerialization\\__pycache__\n",
      "Subdirectories: []\n",
      "Files: ['Employee.cpython-39.pyc']\n",
      "----------------------------------------\n",
      "Directory Path: Python_class\\OOPS\n",
      "Subdirectories: []\n",
      "Files: ['1.py', '10.py', '11.py', '12.py', '13.py', '14_bank.py', '15.py', '2.py', '20.py', '21.py', '22.py', '23.py', '24.py', '25.py', '26.py', '27.py', '28.py', '29.py', '3.py', '30.py', '31.py', '32.py', '33.py', '34.py', '35.py', '36.py', '37.py', '38.py', '39.py', '4.py', '40.py', '41.py', '42.py', '43.py', '44.py', '45.py', '46.py', '47.py', '48.py', '49.py', '5.py', '6.py', '7.py', '8.py', '9_miniproject.py', 'info.sh']\n",
      "----------------------------------------\n",
      "Directory Path: Python_class\\oper\n",
      "Subdirectories: []\n",
      "Files: ['equality.py', 'relationalope.py', 'user.py']\n",
      "----------------------------------------\n",
      "Directory Path: Python_class\\Package\n",
      "Subdirectories: ['installpack']\n",
      "Files: ['test1.py']\n",
      "----------------------------------------\n",
      "Directory Path: Python_class\\Package\\installpack\n",
      "Subdirectories: ['patterns']\n",
      "Files: ['test3.py']\n",
      "----------------------------------------\n",
      "Directory Path: Python_class\\Package\\installpack\\patterns\n",
      "Subdirectories: ['__pycache__']\n",
      "Files: ['shape.py']\n",
      "----------------------------------------\n",
      "Directory Path: Python_class\\Package\\installpack\\patterns\\__pycache__\n",
      "Subdirectories: []\n",
      "Files: ['shape.cpython-39.pyc', '__init__.cpython-39.pyc']\n",
      "----------------------------------------\n",
      "Directory Path: Python_class\\pattern\n",
      "Subdirectories: ['100.Pattern']\n",
      "Files: []\n",
      "----------------------------------------\n",
      "Directory Path: Python_class\\pattern\\100.Pattern\n",
      "Subdirectories: ['2.Triangle', '3.InvertedTriange', '5.InvertedPyramid', '6.Diamond']\n",
      "Files: []\n",
      "----------------------------------------\n",
      "Directory Path: Python_class\\pattern\\100.Pattern\\2.Triangle\n",
      "Subdirectories: []\n",
      "Files: ['1.py', '3.py', '4.py', '5.py', '6.py', '7.py']\n",
      "----------------------------------------\n",
      "Directory Path: Python_class\\pattern\\100.Pattern\\3.InvertedTriange\n",
      "Subdirectories: []\n",
      "Files: ['1.py', '2.py', '3.py', '4.py', '5.py', '6.py', '7.py', '8.py', '9.py']\n",
      "----------------------------------------\n",
      "Directory Path: Python_class\\pattern\\100.Pattern\\5.InvertedPyramid\n",
      "Subdirectories: []\n",
      "Files: ['1.py', '2.py', '3.py', '4.py', '5.py', '6.py', '7.py']\n",
      "----------------------------------------\n",
      "Directory Path: Python_class\\pattern\\100.Pattern\\6.Diamond\n",
      "Subdirectories: []\n",
      "Files: ['1.py', '2.py']\n",
      "----------------------------------------\n",
      "Directory Path: Python_class\\primeNo\n",
      "Subdirectories: []\n",
      "Files: ['genPrime.py', 'isPrime.py', 'nPrime.py']\n",
      "----------------------------------------\n",
      "Directory Path: Python_class\\PyDataStructure\n",
      "Subdirectories: ['Dictionary', 'list_ds', 'set', 'tuple']\n",
      "Files: []\n",
      "----------------------------------------\n",
      "Directory Path: Python_class\\PyDataStructure\\Dictionary\n",
      "Subdirectories: []\n",
      "Files: ['1.py', '2.py', '3.py', '4.py', '5.py', '6.py', '7.py', '8.py', '9.py']\n",
      "----------------------------------------\n",
      "Directory Path: Python_class\\PyDataStructure\\list_ds\n",
      "Subdirectories: []\n",
      "Files: ['1.py', '10.py', '11.py', '12.py', '13.py', '14.py', '15.py', '2.py', '3.py', '4.py', '5.py', '6.py', '7.py', '8.py', '9.py']\n",
      "----------------------------------------\n",
      "Directory Path: Python_class\\PyDataStructure\\set\n",
      "Subdirectories: []\n",
      "Files: ['1.py', '2.py', '3.py', '4.py']\n",
      "----------------------------------------\n",
      "Directory Path: Python_class\\PyDataStructure\\tuple\n",
      "Subdirectories: []\n",
      "Files: ['1.py', '2.py', '3.py']\n",
      "----------------------------------------\n",
      "Directory Path: Python_class\\ReGex\n",
      "Subdirectories: []\n",
      "Files: ['1.py', '10.py', '11.py', '2.py', '3.py', '4.py', '5.py', '6.py', '7.py', '8.py', '9.py', 'ExtractNo.py', 'input.txt', 'LangId.py', 'output.txt', 'PhoneNo.py', 'test.py', 'WebScraping.py', 'WebScrapting.py']\n",
      "----------------------------------------\n",
      "Directory Path: Python_class\\string\n",
      "Subdirectories: []\n",
      "Files: ['10.py', '11.py', '12.py', '13.py', '14.py', '2.py', '3.py', '4.py', '5.py', '6.py', '7.py', '8.py', '9.py']\n",
      "----------------------------------------\n",
      "Directory Path: Python_class\\string_interview\n",
      "Subdirectories: []\n",
      "Files: ['1.ReverseString.py', '10.py', '11.py', '12.py', '13.py', '14.py', '15.py', '16.py', '17.py', '18.py', '19.py', '2.Rev_using_loop.py', '20.py', '21.py', '3rev_order.py', '4revewch_word.py', '5rev_every2nd_word.py', '6.py', '7.py', '8.py', '9.py']\n",
      "----------------------------------------\n",
      "Directory Path: Python_class\\SubProcess\n",
      "Subdirectories: []\n",
      "Files: ['1.py', '2.py', '3.py']\n",
      "----------------------------------------\n"
     ]
    }
   ],
   "source": [
    "import os\n",
    "\n",
    "# Specify the directory you want to walk through\n",
    "directory_to_walk = \"Python_class\"\n",
    "\n",
    "# Use os.walk() to iterate through the directory and its subdirectories\n",
    "for dirpath, dirnames, filenames in os.walk(directory_to_walk):\n",
    "    print(f\"Directory Path: {dirpath}\")\n",
    "    print(f\"Subdirectories: {dirnames}\")\n",
    "    print(f\"Files: {filenames}\")\n",
    "    print(\"-\" * 40)\n"
   ]
  },
  {
   "cell_type": "markdown",
   "metadata": {},
   "source": [
    "\n",
    "#### Difference Between `listdir()` and `walk()`\n",
    "| Function   | Description                                                                                     |\n",
    "|------------|-------------------------------------------------------------------------------------------------|\n",
    "| `listdir()`| Lists the contents of the specified directory but not its subdirectories.                      |\n",
    "| `walk()`   | Recursively lists the contents of the specified directory and all its subdirectories.           |\n",
    "\n",
    "#### Running Other Programs from Python\n",
    "The `os` module provides the `system()` function to run external programs and commands, similar to the `system()` function in C.\n",
    "\n",
    "**Example:**"
   ]
  },
  {
   "cell_type": "code",
   "execution_count": 6,
   "metadata": {},
   "outputs": [
    {
     "data": {
      "text/plain": [
       "0"
      ]
     },
     "execution_count": 6,
     "metadata": {},
     "output_type": "execute_result"
    }
   ],
   "source": [
    "import os\n",
    "os.system(\"dir *.ipynb\")  # Lists all `.py` files"
   ]
  },
  {
   "cell_type": "code",
   "execution_count": 5,
   "metadata": {},
   "outputs": [
    {
     "data": {
      "text/plain": [
       "2"
      ]
     },
     "execution_count": 5,
     "metadata": {},
     "output_type": "execute_result"
    }
   ],
   "source": [
    "os.system(\"py abc.py\") # Executes the Python file `abc.py`"
   ]
  },
  {
   "cell_type": "markdown",
   "metadata": {},
   "source": [
    "#### Getting Information About a File\n",
    "To retrieve file statistics such as size, last accessed time, and more, use the `stat()` function from the `os` module:"
   ]
  },
  {
   "cell_type": "code",
   "execution_count": 7,
   "metadata": {},
   "outputs": [
    {
     "name": "stdout",
     "output_type": "stream",
     "text": [
      "os.stat_result(st_mode=33206, st_ino=281474976807512, st_dev=4229545008520005617, st_nlink=1, st_uid=0, st_gid=0, st_size=170, st_atime=1735952138, st_mtime=1735867076, st_ctime=1735365235)\n"
     ]
    }
   ],
   "source": [
    "import os\n",
    "stats = os.stat(\"abc.txt\")\n",
    "print(stats)"
   ]
  },
  {
   "cell_type": "markdown",
   "metadata": {},
   "source": [
    "**File Statistics Parameters:**\n",
    "1. `st_mode`: Protection Bits\n",
    "2. `st_ino`: Inode Number\n",
    "3. `st_dev`: Device\n",
    "4. `st_nlink`: Number of Hard Links\n",
    "5. `st_uid`: User ID of Owner\n",
    "6. `st_gid`: Group ID of Owner\n",
    "7. `st_size`: Size of File in Bytes\n",
    "8. `st_atime`: Last Accessed Time\n",
    "9. `st_mtime`: Last Modified Time\n",
    "10. `st_ctime`: Last Metadata Change Time\n",
    "\n",
    "**Example: Print Specific Properties:**"
   ]
  },
  {
   "cell_type": "code",
   "execution_count": 8,
   "metadata": {},
   "outputs": [
    {
     "name": "stdout",
     "output_type": "stream",
     "text": [
      "File Size in Bytes: 170\n",
      "File Last Accessed Time: 2025-01-04 06:25:38.679989\n",
      "File Last Modified Time: 2025-01-03 06:47:56.081605\n"
     ]
    }
   ],
   "source": [
    "import os\n",
    "from datetime import datetime\n",
    "\n",
    "stats = os.stat(\"abc.txt\")\n",
    "print(\"File Size in Bytes:\", stats.st_size)\n",
    "print(\"File Last Accessed Time:\", datetime.fromtimestamp(stats.st_atime))\n",
    "print(\"File Last Modified Time:\", datetime.fromtimestamp(stats.st_mtime))"
   ]
  },
  {
   "cell_type": "code",
   "execution_count": 10,
   "metadata": {},
   "outputs": [
    {
     "data": {
      "text/plain": [
       "0"
      ]
     },
     "execution_count": 10,
     "metadata": {},
     "output_type": "execute_result"
    }
   ],
   "source": [
    "import os\n",
    "os.system('dir *.txt')"
   ]
  },
  {
   "cell_type": "code",
   "execution_count": 14,
   "metadata": {},
   "outputs": [],
   "source": [
    "# os.system('calc')\n",
    "# os.system('notepad')"
   ]
  },
  {
   "cell_type": "code",
   "execution_count": 20,
   "metadata": {},
   "outputs": [
    {
     "data": {
      "text/plain": [
       "0"
      ]
     },
     "execution_count": 20,
     "metadata": {},
     "output_type": "execute_result"
    }
   ],
   "source": [
    "import os\n",
    "\n",
    "# Execute the 'dir' command on Windows or 'ls' on Linux/Mac\n",
    "os.system(\"dir\" if os.name == \"nt\" else \"ls\")\n"
   ]
  },
  {
   "cell_type": "code",
   "execution_count": 22,
   "metadata": {},
   "outputs": [
    {
     "data": {
      "text/plain": [
       "0"
      ]
     },
     "execution_count": 22,
     "metadata": {},
     "output_type": "execute_result"
    }
   ],
   "source": [
    "import os\n",
    "\n",
    "# Check Python version\n",
    "os.system(\"python --version\")\n"
   ]
  },
  {
   "cell_type": "code",
   "execution_count": 24,
   "metadata": {},
   "outputs": [
    {
     "name": "stdout",
     "output_type": "stream",
     "text": [
      "Java program written to Main.java\n",
      "Compilation successful!\n",
      "Executing Java program...\n",
      "Execution successful!\n"
     ]
    }
   ],
   "source": [
    "import os\n",
    "\n",
    "# Step 1: Write the Java program to a file\n",
    "java_program = \"\"\"\n",
    "public class Main {\n",
    "    public static void main(String[] args) {\n",
    "        System.out.println(\"Hello, World from Java!\");\n",
    "    }\n",
    "}\n",
    "\"\"\"\n",
    "with open(\"Main.java\", \"w\") as file:\n",
    "    file.write(java_program)\n",
    "print(\"Java program written to Main.java\")\n",
    "\n",
    "# Step 2: Compile the Java program\n",
    "compile_status = os.system(\"javac Main.java\")\n",
    "if compile_status == 0:\n",
    "    print(\"Compilation successful!\")\n",
    "else:\n",
    "    print(\"Compilation failed!\")\n",
    "    raise RuntimeError(\"Java compilation failed.\")\n",
    "\n",
    "\n",
    "# Step 3: Run the compiled Java program\n",
    "print(\"Executing Java program...\")\n",
    "execute_status = os.system(\"java Main\")\n",
    "if execute_status == 0:\n",
    "    print(\"Execution successful!\")\n",
    "else:\n",
    "    print(\"Execution failed!\")\n"
   ]
  },
  {
   "cell_type": "markdown",
   "metadata": {},
   "source": [
    "### Pickling and Unpickling of Objects\n",
    "- **Pickling:** Writing the state of an object to a file.\n",
    "- **Unpickling:** Reading the state of an object from a file.\n",
    "\n",
    "Use the `pickle` module for pickling and unpickling operations.\n"
   ]
  },
  {
   "cell_type": "markdown",
   "metadata": {},
   "source": [
    "#### Writing and Reading an Object Using `pickle`\n"
   ]
  },
  {
   "cell_type": "code",
   "execution_count": 2,
   "metadata": {},
   "outputs": [
    {
     "name": "stdout",
     "output_type": "stream",
     "text": [
      "Pickling of Employee Object completed...\n",
      "Printing Employee Information after unpickling:\n",
      "100 \t Durga \t 1000 \t Hyd\n"
     ]
    }
   ],
   "source": [
    "import pickle\n",
    "\n",
    "class Employee:\n",
    "    def __init__(self, eno, ename, esal, eaddr):\n",
    "        self.eno = eno\n",
    "        self.ename = ename\n",
    "        self.esal = esal\n",
    "        self.eaddr = eaddr\n",
    "    \n",
    "    def display(self):\n",
    "        print(self.eno, \"\\t\", self.ename, \"\\t\", self.esal, \"\\t\", self.eaddr)\n",
    "\n",
    "# Pickling an Employee Object\n",
    "with open(\"emp.dat\", \"wb\") as f:\n",
    "    e = Employee(100, \"Durga\", 1000, \"Hyd\")\n",
    "    pickle.dump(e, f)\n",
    "    print(\"Pickling of Employee Object completed...\")\n",
    "\n",
    "# Unpickling the Employee Object\n",
    "with open(\"emp.dat\", \"rb\") as f:\n",
    "    obj = pickle.load(f)\n",
    "    print(\"Printing Employee Information after unpickling:\")\n",
    "    obj.display()"
   ]
  },
  {
   "cell_type": "markdown",
   "metadata": {},
   "source": [
    "#### Writing Multiple Employee Objects to a File"
   ]
  },
  {
   "cell_type": "code",
   "execution_count": null,
   "metadata": {},
   "outputs": [],
   "source": [
    "# **File 1: `emp.py`**\n",
    "class Employee:\n",
    "    def __init__(self, eno, ename, esal, eaddr):\n",
    "        self.eno = eno\n",
    "        self.ename = ename\n",
    "        self.esal = esal\n",
    "        self.eaddr = eaddr\n",
    "    \n",
    "    def display(self):\n",
    "        print(self.eno, \"\\t\", self.ename, \"\\t\", self.esal, \"\\t\", self.eaddr)"
   ]
  },
  {
   "cell_type": "code",
   "execution_count": null,
   "metadata": {},
   "outputs": [],
   "source": [
    "\n",
    "# **File 2: `pick.py`**\n",
    "import emp, pickle\n",
    "\n",
    "with open(\"emp.dat\", \"wb\") as f:\n",
    "    n = int(input(\"Enter the number of Employees: \"))\n",
    "    for i in range(n):\n",
    "        eno = int(input(\"Enter Employee Number: \"))\n",
    "        ename = input(\"Enter Employee Name: \")\n",
    "        esal = float(input(\"Enter Employee Salary: \"))\n",
    "        eaddr = input(\"Enter Employee Address: \")\n",
    "        e = emp.Employee(eno, ename, esal, eaddr)\n",
    "        pickle.dump(e, f)\n",
    "    print(\"Employee Objects pickled successfully\")\n"
   ]
  },
  {
   "cell_type": "code",
   "execution_count": null,
   "metadata": {},
   "outputs": [],
   "source": [
    "# **File 3: `unpick.py`**\n",
    "import emp, pickle\n",
    "\n",
    "with open(\"emp.dat\", \"rb\") as f:\n",
    "    print(\"Employee Details:\")\n",
    "    while True:\n",
    "        try:\n",
    "            obj = pickle.load(f)\n",
    "            obj.display()\n",
    "        except EOFError:\n",
    "            print(\"All employees processed\")\n",
    "            break"
   ]
  }
 ],
 "metadata": {
  "kernelspec": {
   "display_name": "Python 3",
   "language": "python",
   "name": "python3"
  },
  "language_info": {
   "codemirror_mode": {
    "name": "ipython",
    "version": 3
   },
   "file_extension": ".py",
   "mimetype": "text/x-python",
   "name": "python",
   "nbconvert_exporter": "python",
   "pygments_lexer": "ipython3",
   "version": "3.12.7"
  }
 },
 "nbformat": 4,
 "nbformat_minor": 2
}
