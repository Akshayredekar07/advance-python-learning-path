{
 "cells": [
  {
   "cell_type": "markdown",
   "metadata": {},
   "source": [
    "## Method Resolution Order(MRO):\n",
    "\n",
    "The process of deciding method for the given method call.\n",
    "\n",
    "![MRO](images/MRO.png)"
   ]
  },
  {
   "cell_type": "code",
   "execution_count": 4,
   "metadata": {},
   "outputs": [
    {
     "name": "stdout",
     "output_type": "stream",
     "text": [
      "[<class '__main__.A'>, <class 'object'>]\n",
      "[<class '__main__.B'>, <class '__main__.A'>, <class 'object'>]\n",
      "[<class '__main__.C'>, <class '__main__.A'>, <class 'object'>]\n",
      "[<class '__main__.D'>, <class '__main__.B'>, <class '__main__.C'>, <class '__main__.A'>, <class 'object'>]\n"
     ]
    }
   ],
   "source": [
    "class A: pass\n",
    "class B(A): pass\n",
    "class C(A): pass\n",
    "class D(B,C): pass\n",
    "\n",
    "print(A.mro())\n",
    "print(B.mro())\n",
    "print(C.mro())\n",
    "print(D.mro())"
   ]
  },
  {
   "cell_type": "code",
   "execution_count": null,
   "metadata": {},
   "outputs": [],
   "source": [
    "# Child ---> Parent ---> Object\n",
    "# Depth First ---> Left to Right"
   ]
  },
  {
   "cell_type": "code",
   "execution_count": 5,
   "metadata": {},
   "outputs": [
    {
     "name": "stdout",
     "output_type": "stream",
     "text": [
      "C class Method\n"
     ]
    }
   ],
   "source": [
    "class A:\n",
    "    def m1(self):\n",
    "        print(\"A class Method\")\n",
    "class B(A):\n",
    "    def m1(self):\n",
    "        print(\"B class Method\")\n",
    "class C(A):\n",
    "    def m1(self):\n",
    "        print(\"C class Method\")\n",
    "class D(B,C):\n",
    "    def m1(self):\n",
    "        print(\"C class Method\")\n",
    "\n",
    "\n",
    "d=D() #D,B,C,A, Object\n",
    "d.m1()         "
   ]
  },
  {
   "cell_type": "code",
   "execution_count": 6,
   "metadata": {},
   "outputs": [
    {
     "name": "stdout",
     "output_type": "stream",
     "text": [
      "B class Method\n"
     ]
    }
   ],
   "source": [
    "class A:\n",
    "    def m1(self):\n",
    "        print(\"A class Method\")\n",
    "class B(A):\n",
    "    def m1(self):\n",
    "        print(\"B class Method\")\n",
    "class C(A):\n",
    "    def m1(self):\n",
    "        print(\"C class Method\")\n",
    "class D(B,C):\n",
    "    pass\n",
    "\n",
    "\n",
    "d=D() #D,B,C,A, Object\n",
    "d.m1()         "
   ]
  },
  {
   "cell_type": "code",
   "execution_count": 10,
   "metadata": {},
   "outputs": [
    {
     "name": "stdout",
     "output_type": "stream",
     "text": [
      "A class Method\n"
     ]
    }
   ],
   "source": [
    "class A:\n",
    "    def m1(self):\n",
    "        print(\"A class Method\")\n",
    "class B(A):\n",
    "    pass\n",
    "class C(A):\n",
    "    pass\n",
    "class D(B,C):\n",
    "    pass\n",
    "\n",
    "\n",
    "d=D() #D,B,C,A, Object\n",
    "d.m1()         "
   ]
  },
  {
   "cell_type": "markdown",
   "metadata": {},
   "source": [
    "In Python, the `object` class is the built-in base class from which all classes inherit, either directly or indirectly. This means that every class in Python is a subclass of `object`. If a class does not explicitly inherit from another class, it is considered a direct subclass of the `object` class. The `object` class provides commonly required members and functionalities that are essential for all classes, ensuring a consistent interface and behavior across different class definitions.\n"
   ]
  },
  {
   "cell_type": "code",
   "execution_count": 15,
   "metadata": {},
   "outputs": [
    {
     "data": {
      "text/plain": [
       "mappingproxy({'__new__': <function object.__new__(*args, **kwargs)>,\n",
       "              '__repr__': <slot wrapper '__repr__' of 'object' objects>,\n",
       "              '__hash__': <slot wrapper '__hash__' of 'object' objects>,\n",
       "              '__str__': <slot wrapper '__str__' of 'object' objects>,\n",
       "              '__getattribute__': <slot wrapper '__getattribute__' of 'object' objects>,\n",
       "              '__setattr__': <slot wrapper '__setattr__' of 'object' objects>,\n",
       "              '__delattr__': <slot wrapper '__delattr__' of 'object' objects>,\n",
       "              '__lt__': <slot wrapper '__lt__' of 'object' objects>,\n",
       "              '__le__': <slot wrapper '__le__' of 'object' objects>,\n",
       "              '__eq__': <slot wrapper '__eq__' of 'object' objects>,\n",
       "              '__ne__': <slot wrapper '__ne__' of 'object' objects>,\n",
       "              '__gt__': <slot wrapper '__gt__' of 'object' objects>,\n",
       "              '__ge__': <slot wrapper '__ge__' of 'object' objects>,\n",
       "              '__init__': <slot wrapper '__init__' of 'object' objects>,\n",
       "              '__reduce_ex__': <method '__reduce_ex__' of 'object' objects>,\n",
       "              '__reduce__': <method '__reduce__' of 'object' objects>,\n",
       "              '__getstate__': <method '__getstate__' of 'object' objects>,\n",
       "              '__subclasshook__': <method '__subclasshook__' of 'object' objects>,\n",
       "              '__init_subclass__': <method '__init_subclass__' of 'object' objects>,\n",
       "              '__format__': <method '__format__' of 'object' objects>,\n",
       "              '__sizeof__': <method '__sizeof__' of 'object' objects>,\n",
       "              '__dir__': <method '__dir__' of 'object' objects>,\n",
       "              '__class__': <attribute '__class__' of 'object' objects>,\n",
       "              '__doc__': 'The base class of the class hierarchy.\\n\\nWhen called, it accepts no arguments and returns a new featureless\\ninstance that has no instance attributes and cannot be given any.\\n'})"
      ]
     },
     "execution_count": 15,
     "metadata": {},
     "output_type": "execute_result"
    }
   ],
   "source": [
    "object.__dict__"
   ]
  },
  {
   "cell_type": "markdown",
   "metadata": {},
   "source": [
    "Method Resolution Order (MRO)\n",
    "\n",
    "The MRO for each class is as follows:\n",
    "\n",
    "- mro(A) = A, object\n",
    "- mro(B) = B, object\n",
    "- mro(C) = C, object\n",
    "- mro(X) = X, A, B, object\n",
    "- mro(Y) = Y, B, C, object\n",
    "- mro(P) = P, X, Y, C,  A, B, object"
   ]
  },
  {
   "cell_type": "code",
   "execution_count": 17,
   "metadata": {},
   "outputs": [],
   "source": [
    "class A:pass\n",
    "class B:pass\n",
    "class C:pass\n",
    "class X(A,B): pass\n",
    "class Y(B,C): pass\n",
    "class P(X,Y,C): pass\n"
   ]
  },
  {
   "cell_type": "code",
   "execution_count": 21,
   "metadata": {},
   "outputs": [
    {
     "name": "stdout",
     "output_type": "stream",
     "text": [
      "[<class '__main__.A'>, <class 'object'>]\n",
      "[<class '__main__.X'>, <class '__main__.A'>, <class '__main__.B'>, <class 'object'>]\n",
      "[<class '__main__.Y'>, <class '__main__.B'>, <class '__main__.C'>, <class 'object'>]\n",
      "[<class '__main__.P'>, <class '__main__.X'>, <class '__main__.A'>, <class '__main__.Y'>, <class '__main__.B'>, <class '__main__.C'>, <class 'object'>]\n"
     ]
    }
   ],
   "source": [
    "print(A.mro())\n",
    "print(X.mro())\n",
    "print(Y.mro())\n",
    "print(P.mro()) # mro(P) = P, X, A, Y, B, C, object\n"
   ]
  },
  {
   "cell_type": "markdown",
   "metadata": {},
   "source": [
    "![MRO](Images/MRO2.png)"
   ]
  },
  {
   "cell_type": "markdown",
   "metadata": {},
   "source": [
    "MRO (Method Resolution Order) algorithm:\n",
    "\n",
    "---\n",
    "\n",
    "**MRO (Method Resolution Order) Algorithm:**\n",
    "\n",
    "In hybrid inheritance, the method resolution order is determined based on the **MRO algorithm**, which is also known as the **C3 linearization algorithm**. This algorithm was proposed by **Samuele Pedroni**.\n",
    "\n",
    "The MRO determines the order in which base classes are searched when executing a method. This order is important in cases where multiple inheritance is used, as it defines which class’s method is called if there are methods with the same name in different parent classes.\n",
    "\n",
    "**MRO Algorithm:**\n",
    "\n",
    "For a class `X` with direct parents `p1`, `p2`, `p3`, ..., the MRO is calculated using the formula:\n",
    "\n",
    "MRO(X)=X+Merge(MRO(p1),MRO(p2),MRO(p3),…,ParentList)\n",
    "\n",
    "where:\n",
    "- `MRO(p1)`, `MRO(p2)`, `MRO(p3)`, etc., are the method resolution orders of the parent classes `p1`, `p2`, `p3`, respectively.\n",
    "- `ParentList` is the list of all direct parents of `X`.\n",
    "\n",
    "The algorithm merges the MROs of the parent classes while preserving the order and ensuring that parents are not placed before their subclasses.\n",
    "\n",
    "MRO(P)=P+Merge(MRO(X),MRO(Y),MRO(C),XYC)\n",
    "\n",
    "---"
   ]
  },
  {
   "cell_type": "code",
   "execution_count": 24,
   "metadata": {},
   "outputs": [],
   "source": [
    "# Head and tail elements:\n",
    "\n",
    "# C1, C2, C3, C4, ...\n",
    "# C1, itself is considered as Head elements\n",
    "\n",
    "# C2, C3, C4, ... Is consier as tail element\n",
    "# XYC \n",
    "# X is head\n",
    "# YC is consider as Tail\n"
   ]
  },
  {
   "cell_type": "code",
   "execution_count": null,
   "metadata": {},
   "outputs": [],
   "source": [
    "# How to find Merge:\n",
    "# Merge(ABCD, AXYZ, BDF,...,XYC)\n",
    "\n",
    "# TAKE THE HEAD NOT PRESENT IN TAIL PART OF any other list, then add this head to the result and remove it from the lists in the merge\n",
    "\n",
    "# If head is present in tail part of of any other list, consider head element of the next list and continue the process\n",
    "\n"
   ]
  },
  {
   "cell_type": "markdown",
   "metadata": {},
   "source": [
    "![MRO](images/MROCalculation.png)"
   ]
  },
  {
   "cell_type": "code",
   "execution_count": 25,
   "metadata": {},
   "outputs": [
    {
     "name": "stdout",
     "output_type": "stream",
     "text": [
      "Method from class P\n",
      "Method from class X\n",
      "Method from class A\n"
     ]
    }
   ],
   "source": [
    "class A:  \n",
    "    def m1(self):  \n",
    "        print(\"Method from class A\")  \n",
    "\n",
    "class B:  \n",
    "    def m1(self):  \n",
    "        print(\"Method from class B\")  \n",
    "\n",
    "class C:  \n",
    "    def m1(self):  \n",
    "        print(\"Method from class C\")  \n",
    "\n",
    "class X(A, B):  \n",
    "    def m1(self):  \n",
    "        print(\"Method from class X\")  \n",
    "        super().m1()  \n",
    "    \n",
    "\n",
    "class Y(B, C):  \n",
    "    def m1(self):  \n",
    "        print(\"Method from class Y\")  \n",
    "        super().m1()  \n",
    "\n",
    "class P(X, Y, C):  \n",
    "    def m1(self):  \n",
    "        print(\"Method from class P\")  \n",
    "        super().m1()  \n",
    "\n",
    "# Example usage  \n",
    "p_instance = P()  \n",
    "p_instance.m1()"
   ]
  }
 ],
 "metadata": {
  "kernelspec": {
   "display_name": "Python 3",
   "language": "python",
   "name": "python3"
  },
  "language_info": {
   "codemirror_mode": {
    "name": "ipython",
    "version": 3
   },
   "file_extension": ".py",
   "mimetype": "text/x-python",
   "name": "python",
   "nbconvert_exporter": "python",
   "pygments_lexer": "ipython3",
   "version": "3.11.5"
  }
 },
 "nbformat": 4,
 "nbformat_minor": 2
}
