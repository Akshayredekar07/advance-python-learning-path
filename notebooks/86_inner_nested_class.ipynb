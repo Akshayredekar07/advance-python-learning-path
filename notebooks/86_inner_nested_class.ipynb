{
 "cells": [
  {
   "cell_type": "markdown",
   "metadata": {},
   "source": [
    "Inner class \n",
    "\n",
    "- Class which is declared inside another class\n",
    "\n",
    "- Without existing one type object, if there is no chance of existing another type of object, then we should go for inner classes"
   ]
  },
  {
   "cell_type": "markdown",
   "metadata": {
    "slideshow": {
     "slide_type": "notes"
    }
   },
   "source": [
    "Example 01: University and Department\n",
    "\n",
    "-  Without existing university object, there is no chance of existing department object, then department should be part of university and cannot exist alone.   \n",
    "    "
   ]
  },
  {
   "cell_type": "code",
   "execution_count": null,
   "metadata": {},
   "outputs": [],
   "source": [
    "class University: #Outerclass\n",
    "    class Department: #Innerclass\n",
    "        pass"
   ]
  },
  {
   "cell_type": "markdown",
   "metadata": {},
   "source": [
    "Example 02: Car and Engine\n",
    "- Without existing car obejct, there is no chance of existing engine object, Engine shoud be associated with car only."
   ]
  },
  {
   "cell_type": "code",
   "execution_count": 1,
   "metadata": {},
   "outputs": [],
   "source": [
    "class Car:\n",
    "    class Engine:\n",
    "        pass"
   ]
  },
  {
   "cell_type": "markdown",
   "metadata": {},
   "source": [
    "Example 03: Head and Brain\n",
    "- Without existing Head obejct, there is no chance of existing Brain object, Brain shoud be Inside with Head only."
   ]
  },
  {
   "cell_type": "code",
   "execution_count": 3,
   "metadata": {},
   "outputs": [],
   "source": [
    "class Head:\n",
    "    class Brain:\n",
    "        pass"
   ]
  },
  {
   "cell_type": "code",
   "execution_count": 5,
   "metadata": {},
   "outputs": [],
   "source": [
    "#Without using the inner class\n",
    "class Head:\n",
    "    pass\n",
    "class Mouth:\n",
    "    pass\n",
    "class Eye:\n",
    "    pass\n"
   ]
  },
  {
   "cell_type": "code",
   "execution_count": null,
   "metadata": {},
   "outputs": [],
   "source": [
    "# Instead of using the inner class code modularity increases\n",
    "class Head:\n",
    "    class Eye:\n",
    "        pass\n",
    "    class Brain:\n",
    "        pass\n",
    "    class Mouth:\n",
    "        pass"
   ]
  },
  {
   "cell_type": "markdown",
   "metadata": {},
   "source": [
    "Advantages of Innerclass\n",
    "\n",
    "1. Modularity of the application\n",
    "2. security\n"
   ]
  },
  {
   "cell_type": "code",
   "execution_count": 7,
   "metadata": {},
   "outputs": [],
   "source": [
    "class OuterClass:\n",
    "    def __init__(self) -> None:\n",
    "        print(\"Outerclass object creation\")\n",
    "\n",
    "    class InnerClass:\n",
    "        def __init__(self) -> None:\n",
    "            print(\"Innerclass object creation\")\n",
    "\n",
    "        def m1(self):\n",
    "            print(\"Inner class method\")            \n"
   ]
  },
  {
   "cell_type": "markdown",
   "metadata": {},
   "source": [
    "- Without existing outerclass object there is no chance of existing innerclass object, Inner class object is always associated with the Outerclass object."
   ]
  },
  {
   "cell_type": "code",
   "execution_count": 9,
   "metadata": {},
   "outputs": [
    {
     "name": "stdout",
     "output_type": "stream",
     "text": [
      "Outerclass object creation\n",
      "Innerclass object creation\n",
      "Inner class method\n"
     ]
    }
   ],
   "source": [
    "o = OuterClass()\n",
    "i = o.InnerClass()\n",
    "i.m1()\n",
    "# By using o we can call any OuterClass method\n",
    "# By using o we can call any InnerClass method"
   ]
  },
  {
   "cell_type": "code",
   "execution_count": 10,
   "metadata": {},
   "outputs": [
    {
     "name": "stdout",
     "output_type": "stream",
     "text": [
      "Outerclass object creation\n",
      "Innerclass object creation\n",
      "Inner class method\n"
     ]
    }
   ],
   "source": [
    "IObj = OuterClass().InnerClass()\n",
    "IObj.m1()"
   ]
  },
  {
   "cell_type": "code",
   "execution_count": 11,
   "metadata": {},
   "outputs": [
    {
     "name": "stdout",
     "output_type": "stream",
     "text": [
      "Outerclass object creation\n",
      "Innerclass object creation\n",
      "Inner class method\n"
     ]
    }
   ],
   "source": [
    "OuterClass().InnerClass().m1()"
   ]
  },
  {
   "cell_type": "code",
   "execution_count": 12,
   "metadata": {},
   "outputs": [],
   "source": [
    "class OuterClass:\n",
    "    def __init__(self) -> None:\n",
    "        print(\"Outerclass object creation\")\n",
    "\n",
    "    class InnerClass:\n",
    "        def __init__(self) -> None:\n",
    "            print(\"Innerclass object creation\")\n",
    "\n",
    "        def m1(self):\n",
    "            print(\"Inner class method\")  \n",
    "\n",
    "    class InnerClass1:\n",
    "        def __init__(self) -> None:\n",
    "            print(\"Innerclass1 object creation\")\n",
    "\n",
    "        def m2(self):\n",
    "            print(\"Inner class 1 method\")            \n"
   ]
  },
  {
   "cell_type": "code",
   "execution_count": 13,
   "metadata": {},
   "outputs": [
    {
     "name": "stdout",
     "output_type": "stream",
     "text": [
      "Outerclass object creation\n",
      "Innerclass object creation\n",
      "Innerclass1 object creation\n",
      "Inner class method\n",
      "Inner class 1 method\n"
     ]
    }
   ],
   "source": [
    "O = OuterClass()\n",
    "I = O.InnerClass()\n",
    "J = O.InnerClass1()\n",
    "I.m1()\n",
    "J.m2()"
   ]
  },
  {
   "cell_type": "markdown",
   "metadata": {},
   "source": [
    "Nesting of inner class:\n",
    "\n",
    "- Nesting of innerclass is possible in python\n",
    "- Inside inner class defining another inner class"
   ]
  },
  {
   "cell_type": "code",
   "execution_count": 14,
   "metadata": {},
   "outputs": [
    {
     "name": "stdout",
     "output_type": "stream",
     "text": [
      "Outerclass object creation\n",
      "Innerclass object creation\n",
      "InnerInnerclass object creation\n",
      "Nested Inner class method\n"
     ]
    }
   ],
   "source": [
    "class Outer:\n",
    "    def __init__(self) -> None:\n",
    "        print(\"Outerclass object creation\")\n",
    "\n",
    "    class InnerClass:\n",
    "        def __init__(self) -> None:\n",
    "            print(\"Innerclass object creation\")\n",
    "\n",
    "        class InnerInnerClass:\n",
    "            def __init__(self) -> None:\n",
    "                print(\"InnerInnerclass object creation\")\n",
    "\n",
    "            def m1(self):\n",
    "                print(\"Nested Inner class method\")            \n",
    "\n",
    "\n",
    "Outer().InnerClass().InnerInnerClass().m1()"
   ]
  },
  {
   "cell_type": "code",
   "execution_count": null,
   "metadata": {},
   "outputs": [],
   "source": []
  }
 ],
 "metadata": {
  "kernelspec": {
   "display_name": "Python 3",
   "language": "python",
   "name": "python3"
  },
  "language_info": {
   "codemirror_mode": {
    "name": "ipython",
    "version": 3
   },
   "file_extension": ".py",
   "mimetype": "text/x-python",
   "name": "python",
   "nbconvert_exporter": "python",
   "pygments_lexer": "ipython3",
   "version": "3.11.5"
  }
 },
 "nbformat": 4,
 "nbformat_minor": 2
}
