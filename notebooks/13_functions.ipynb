{
 "cells": [
  {
   "cell_type": "markdown",
   "metadata": {},
   "source": [
    "## **FUNCTIONS**"
   ]
  },
  {
   "cell_type": "markdown",
   "metadata": {},
   "source": [
    "If a group of statements is repeatedly required then it is not recommended to write these statements everytime separately. We have to define these statements as a single unit and we can call that unit any number of times based on our requirement without rewriting. This unit is nothing but function.\n",
    "\n",
    "The main advantage of functions is code Reusability.\n",
    "\n",
    "**Note:** In other languages functions are known as methods, procedures, subroutines etc.\n",
    "\n",
    "Python supports 2 types of functions:\n",
    "\n",
    "1. Built in Functions\n",
    "2. User Defined Functions\n",
    "\n",
    "#### **Built in Functions:**\n",
    "The functions which are coming along with Python software automatically, are called built in functions or pre defined functions.\n",
    "\n",
    "Examples:\n",
    "- id()\n",
    "- type() \n",
    "- input()\n",
    "- eval()\n",
    "- etc.\n",
    "\n",
    "#### **User Defined Functions:**\n",
    "The functions which are developed by programmer explicitly according to business requirements, are called user defined functions.\n",
    "\n",
    "**Syntax to Create User defined Functions:**"
   ]
  },
  {
   "cell_type": "code",
   "execution_count": 1,
   "metadata": {},
   "outputs": [
    {
     "name": "stdout",
     "output_type": "stream",
     "text": [
      "Hello Good Morning\n"
     ]
    }
   ],
   "source": [
    "#Eg 1: Write a function to print Hello\n",
    "\n",
    "def wish():\n",
    "    print(\"Hello Good Morning\")\n",
    "\n",
    "wish()"
   ]
  },
  {
   "cell_type": "markdown",
   "metadata": {},
   "source": [
    "#### **Parameters**\n",
    "\n",
    "Parameters are inputs to the function. If a function contains parameters, then at the time of calling, compulsory we should provide values otherwise we will get error.\n",
    "\n",
    "**Example:** Write a function to take name of the student as input and print wish message by name"
   ]
  },
  {
   "cell_type": "code",
   "execution_count": 2,
   "metadata": {},
   "outputs": [
    {
     "name": "stdout",
     "output_type": "stream",
     "text": [
      "Hello Durga  Good Morning\n",
      "Hello Ravi  Good Morning\n"
     ]
    }
   ],
   "source": [
    "def wish(name):\n",
    "    print(\"Hello\",name,\" Good Morning\")\n",
    "\n",
    "wish(\"Durga\")\n",
    "wish(\"Ravi\")"
   ]
  },
  {
   "cell_type": "code",
   "execution_count": 3,
   "metadata": {},
   "outputs": [
    {
     "name": "stdout",
     "output_type": "stream",
     "text": [
      "The Square of 4 is 16\n",
      "The Square of 5 is 25\n"
     ]
    }
   ],
   "source": [
    "# Eg: Write a function to take number as input and print its square value\n",
    "def squareIt(number):\n",
    "    print(\"The Square of\",number,\"is\", number*number)\n",
    "\n",
    "squareIt(4)\n",
    "\n",
    "squareIt(5)\n"
   ]
  },
  {
   "cell_type": "markdown",
   "metadata": {},
   "source": [
    "#### **Return Statement**\n",
    "Function can take input values as parameters and executes business logic, and returns output to the caller with return statement."
   ]
  },
  {
   "cell_type": "code",
   "execution_count": 4,
   "metadata": {},
   "outputs": [
    {
     "name": "stdout",
     "output_type": "stream",
     "text": [
      "The sum is 30\n"
     ]
    }
   ],
   "source": [
    "# Write a Function to accept 2 Numbers as Input and return Sum\n",
    "def add(x,y):\n",
    "    return x+y\n",
    "\n",
    "result=add(10,20)\n",
    "print(\"The sum is\",result)\n"
   ]
  },
  {
   "cell_type": "markdown",
   "metadata": {},
   "source": [
    "If we are not writing return statement then default return value is None."
   ]
  },
  {
   "cell_type": "code",
   "execution_count": 5,
   "metadata": {},
   "outputs": [
    {
     "name": "stdout",
     "output_type": "stream",
     "text": [
      "function only!\n",
      "function only!\n",
      "None\n"
     ]
    }
   ],
   "source": [
    "def f1():\n",
    "    print(\"function only!\")\n",
    "\n",
    "f1()\n",
    "print(f1())    "
   ]
  },
  {
   "cell_type": "code",
   "execution_count": 6,
   "metadata": {},
   "outputs": [
    {
     "name": "stdout",
     "output_type": "stream",
     "text": [
      "None\n"
     ]
    }
   ],
   "source": [
    "def funn():\n",
    "    pass\n",
    "\n",
    "print(funn())"
   ]
  },
  {
   "cell_type": "code",
   "execution_count": 7,
   "metadata": {},
   "outputs": [
    {
     "name": "stdout",
     "output_type": "stream",
     "text": [
      "34 is even\n"
     ]
    }
   ],
   "source": [
    "# Write a Function to check whether the given Number is\n",
    "# Even OR Odd?\n",
    "def even_odd(num):\n",
    "    if(num%2==0):\n",
    "        print(f\"{num} is even\")\n",
    "    else:\n",
    "        print(f\"{num} is odd\")\n",
    "\n",
    "even_odd(34)        "
   ]
  },
  {
   "cell_type": "code",
   "execution_count": 8,
   "metadata": {},
   "outputs": [
    {
     "name": "stdout",
     "output_type": "stream",
     "text": [
      "The Factorial of 1 is: 1\n",
      "The Factorial of 2 is: 2\n",
      "The Factorial of 3 is: 6\n",
      "The Factorial of 4 is: 24\n"
     ]
    }
   ],
   "source": [
    "# Function to find the factorial of a given number\n",
    "\n",
    "def fact(num):\n",
    "    result = 1\n",
    "    while num >= 1:\n",
    "        result = result * num\n",
    "        num = num - 1\n",
    "    return result\n",
    "\n",
    "for i in range(1, 5):\n",
    "    print(\"The Factorial of\", i, \"is:\", fact(i))\n"
   ]
  },
  {
   "cell_type": "markdown",
   "metadata": {},
   "source": [
    "#### **Returning Multiple Values from a Function**\n",
    "\n",
    "In other languages like C, C++ and Java, functions can return at most one value. But in Python, a function can return any number of values."
   ]
  },
  {
   "cell_type": "code",
   "execution_count": 9,
   "metadata": {},
   "outputs": [
    {
     "name": "stdout",
     "output_type": "stream",
     "text": [
      "The Sum is : 150\n",
      "The Subtraction is : 50\n"
     ]
    }
   ],
   "source": [
    "def sum_sub(a,b):\n",
    "    sum=a+b\n",
    "    sub=a-b\n",
    "    return sum,sub\n",
    "\n",
    "x,y=sum_sub(100,50)\n",
    "print(\"The Sum is :\",x)\n",
    "print(\"The Subtraction is :\",y)"
   ]
  },
  {
   "cell_type": "markdown",
   "metadata": {},
   "source": [
    "\n",
    "#### **Types of Arguments in Python**\n",
    "\n",
    "```python\n",
    "def f1(a, b):\n",
    "    # Function implementation\n",
    "    \n",
    "    \n",
    "    \n",
    "    \n",
    "f1(10, 20)  # Calling the function\n",
    "```\n",
    "\n",
    "- **`a, b` are formal arguments**, whereas **`10, 20` are actual arguments**.\n",
    "- In Python, there are **four types of actual arguments**:\n",
    "\n",
    "#### **1. Positional Arguments**  \n",
    "Arguments are passed in the same order as the function parameters.\n",
    "\n",
    "#### **2. Keyword Arguments**  \n",
    "Arguments are passed using parameter names.\n",
    "\n",
    "#### **3. Default Arguments**  \n",
    "Default values are provided for parameters.\n",
    "\n",
    "#### **4. Variable Length Arguments**  \n",
    "Allows passing a variable number of arguments.\n"
   ]
  },
  {
   "cell_type": "markdown",
   "metadata": {},
   "source": [
    "#### **1. Positional Arguments**  \n",
    "- These are the arguments passed to a function in the correct positional order.\n",
    "\n",
    "```python\n",
    "def sub(a, b):\n",
    "    print(a - b)\n",
    "\n",
    "sub(100, 200)\n",
    "sub(200, 100)\n",
    "```\n",
    "\n",
    "- The number of arguments and their positions must match. Changing the order may change the result.\n",
    "- If the number of arguments does not match, an error occurs.\n",
    "\n",
    "#### **2. Keyword Arguments**  \n",
    "- We can pass argument values by specifying parameter names.\n",
    "\n",
    "```python\n",
    "def wish(name, msg):\n",
    "    print(\"Hello\", name, msg)\n",
    "\n",
    "wish(name=\"Durga\", msg=\"Good Morning\")\n",
    "wish(msg=\"Good Morning\", name=\"Durga\")\n",
    "```\n",
    "\n",
    "##### **Output**\n",
    "```\n",
    "Hello Durga Good Morning\n",
    "Hello Durga Good Morning\n",
    "```\n",
    "\n",
    "- The order of arguments is not important, but the number of arguments must match.\n",
    "- We can use both positional and keyword arguments together, but **positional arguments must come first**.\n",
    "\n",
    "```python\n",
    "def wish(name, msg):\n",
    "    print(\"Hello\", name, msg)\n",
    "\n",
    "wish(\"Durga\", \"GoodMorning\")        # Valid\n",
    "wish(\"Durga\", msg=\"GoodMorning\")    # Valid\n",
    "wish(name=\"Durga\", \"GoodMorning\")   # Invalid\n",
    "```\n",
    "**Error:**  \n",
    "```\n",
    "SyntaxError: positional argument follows keyword argument\n",
    "```\n",
    "\n",
    "#### **3. Default Arguments**  \n",
    "- We can provide default values for positional arguments.\n",
    "\n",
    "```python\n",
    "def wish(name=\"Guest\"):\n",
    "    print(\"Hello\", name, \"Good Morning\")\n",
    "\n",
    "wish(\"Durga\")\n",
    "wish()\n",
    "```\n",
    "\n",
    "##### **Output**\n",
    "```\n",
    "Hello Durga Good Morning\n",
    "Hello Guest Good Morning\n",
    "```\n",
    "\n",
    "- If no value is passed, the default value is used.\n",
    "\n",
    "**Note:**  \n",
    "- After a default argument, we cannot take a non-default argument.\n",
    "\n",
    "```python\n",
    "def wish(name=\"Guest\", msg=\"Good Morning\"):  # Valid\n",
    "def wish(name, msg=\"Good Morning\"):          # Valid\n",
    "def wish(name=\"Guest\", msg):                 # Invalid\n",
    "```\n",
    "**Error:**  \n",
    "```\n",
    "SyntaxError: non-default argument follows default argument\n",
    "```\n",
    "\n",
    "#### **4. Variable Length Arguments**  \n",
    "- We can pass a variable number of arguments to a function using `*` before the parameter name.\n",
    "- These arguments are stored as a tuple.\n",
    "\n",
    "```python\n",
    "def sum(*n):\n",
    "    total = 0\n",
    "    for n1 in n:\n",
    "        total = total + n1\n",
    "    print(\"The Sum=\", total)\n",
    "\n",
    "sum()\n",
    "sum(10)\n",
    "sum(10, 20)\n",
    "sum(10, 20, 30, 40)\n",
    "```\n",
    "\n",
    "##### **Output**\n",
    "```\n",
    "The Sum= 0\n",
    "The Sum= 10\n",
    "The Sum= 30\n",
    "The Sum= 100\n",
    "```\n",
    "\n",
    "**Mixing variable-length arguments with positional arguments:**\n",
    "```python\n",
    "def f1(n1, *s):\n",
    "    print(n1)\n",
    "    for s1 in s:\n",
    "        print(s1)\n",
    "\n",
    "f1(10)\n",
    "f1(10, 20, 30, 40)\n",
    "f1(10, \"A\", 30, \"B\")\n",
    "```\n",
    "\n",
    "##### **Output**\n",
    "```\n",
    "10\n",
    "10\n",
    "20\n",
    "30\n",
    "40\n",
    "10\n",
    "A\n",
    "30\n",
    "B\n",
    "```\n",
    "\n",
    "**Note:**  \n",
    "- If a parameter follows a variable-length argument, it **must be passed as a keyword argument**.\n",
    "\n",
    "```python\n",
    "def f1(*s, n1):\n",
    "    for s1 in s:\n",
    "        print(s1)\n",
    "    print(n1)\n",
    "\n",
    "f1(\"A\", \"B\", n1=10)  # Valid\n",
    "```\n",
    "\n",
    "##### **Output**\n",
    "```\n",
    "A\n",
    "B\n",
    "10\n",
    "```\n",
    "\n",
    "```python\n",
    "f1(\"A\", \"B\", 10)  # Invalid\n",
    "```\n",
    "\n",
    "**Error:**  \n",
    "```\n",
    "TypeError: f1() missing 1 required keyword-only argument: 'n1'\n",
    "```\n",
    "\n",
    "#### **5. Keyword Variable Length Arguments**  \n",
    "- We can also declare **keyword variable length arguments** using `**`.  \n",
    "- These arguments are stored in a dictionary.\n",
    "\n",
    "```python\n",
    "def display(**kwargs):\n",
    "    for k, v in kwargs.items():\n",
    "        print(k, \"=\", v)\n",
    "\n",
    "display(n1=10, n2=20, n3=30)\n",
    "display(rno=100, name=\"Durga\", marks=70, subject=\"Java\")\n",
    "```\n",
    "\n",
    "##### **Output**\n",
    "```\n",
    "n1 = 10\n",
    "n2 = 20\n",
    "n3 = 30\n",
    "rno = 100\n",
    "name = Durga\n",
    "marks = 70\n",
    "subject = Java\n",
    "```\n"
   ]
  },
  {
   "cell_type": "code",
   "execution_count": 10,
   "metadata": {},
   "outputs": [],
   "source": [
    "def place_order(customer_name, product, *items, discount=0, shipping=\"Standard\", payment_mode=\"Credit Card\", **customer_info):\n",
    "    print(f\"Order Summary for {customer_name}:\")\n",
    "    print(f\"Main Product: {product}\")\n",
    "    \n",
    "    if items:\n",
    "        print(\"Additional Items:\")\n",
    "        for item in items:\n",
    "            print(f\"- {item}\")\n",
    "    \n",
    "    print(f\"Discount Applied: {discount}%\")\n",
    "    print(f\"Shipping Method: {shipping}\")\n",
    "    print(f\"Payment Mode: {payment_mode}\")\n",
    "    \n",
    "    if customer_info:\n",
    "        print(\"\\nAdditional Customer Information:\")\n",
    "        for key, value in customer_info.items():\n",
    "            print(f\"{key}: {value}\")\n",
    "\n",
    "    print(\"\\nOrder placed successfully!\\n\")\n"
   ]
  },
  {
   "cell_type": "code",
   "execution_count": 14,
   "metadata": {},
   "outputs": [
    {
     "name": "stdout",
     "output_type": "stream",
     "text": [
      "Order Summary for Drishya:\n",
      "Main Product: Laptop\n",
      "Discount Applied: 0%\n",
      "Shipping Method: Standard\n",
      "Payment Mode: Credit Card\n",
      "\n",
      "Order placed successfully!\n",
      "\n"
     ]
    }
   ],
   "source": [
    "# Example 1: Basic Order (Positional Arguments)\n",
    "place_order(\"Drishya\", \"Laptop\")"
   ]
  },
  {
   "cell_type": "code",
   "execution_count": 12,
   "metadata": {},
   "outputs": [
    {
     "name": "stdout",
     "output_type": "stream",
     "text": [
      "Order Summary for Tanvi:\n",
      "Main Product: Smartphone\n",
      "Additional Items:\n",
      "- Headphones\n",
      "- Screen Protector\n",
      "Discount Applied: 0%\n",
      "Shipping Method: Standard\n",
      "Payment Mode: Credit Card\n",
      "\n",
      "Order placed successfully!\n",
      "\n"
     ]
    }
   ],
   "source": [
    "# Example 2: Order with Additional Items (Variable-Length Arguments)\n",
    "place_order(\"Tanvi\", \"Smartphone\", \"Headphones\", \"Screen Protector\")"
   ]
  },
  {
   "cell_type": "code",
   "execution_count": 13,
   "metadata": {},
   "outputs": [
    {
     "name": "stdout",
     "output_type": "stream",
     "text": [
      "Order Summary for Karan:\n",
      "Main Product: Tablet\n",
      "Discount Applied: 10%\n",
      "Shipping Method: Express\n",
      "Payment Mode: Credit Card\n",
      "\n",
      "Order placed successfully!\n",
      "\n"
     ]
    }
   ],
   "source": [
    "# Example 3: Order with a Discount and Custom Shipping (Keyword Arguments)\n",
    "place_order(\"Karan\", \"Tablet\", discount=10, shipping=\"Express\")"
   ]
  },
  {
   "cell_type": "code",
   "execution_count": 15,
   "metadata": {},
   "outputs": [
    {
     "name": "stdout",
     "output_type": "stream",
     "text": [
      "Order Summary for Rohit:\n",
      "Main Product: Smartwatch\n",
      "Additional Items:\n",
      "- Extra Strap\n",
      "- Screen Guard\n",
      "Discount Applied: 0%\n",
      "Shipping Method: Standard\n",
      "Payment Mode: UPI\n",
      "\n",
      "Order placed successfully!\n",
      "\n"
     ]
    }
   ],
   "source": [
    "# Example 4: Order with Additional Items and Custom Payment Mode\n",
    "place_order(\"Rohit\", \"Smartwatch\", \"Extra Strap\", \"Screen Guard\", payment_mode=\"UPI\")"
   ]
  },
  {
   "cell_type": "code",
   "execution_count": 16,
   "metadata": {},
   "outputs": [
    {
     "name": "stdout",
     "output_type": "stream",
     "text": [
      "Order Summary for Harsha:\n",
      "Main Product: Gaming Console\n",
      "Discount Applied: 0%\n",
      "Shipping Method: Standard\n",
      "Payment Mode: Credit Card\n",
      "\n",
      "Additional Customer Information:\n",
      "warranty: 2 Years\n",
      "membership: Premium\n",
      "location: Bengaluru\n",
      "\n",
      "Order placed successfully!\n",
      "\n"
     ]
    }
   ],
   "source": [
    "# Example 5: Order with Additional Customer Info (Keyword Variable-Length Arguments)\n",
    "place_order(\"Harsha\", \"Gaming Console\", warranty=\"2 Years\", membership=\"Premium\", location=\"Bengaluru\")"
   ]
  },
  {
   "cell_type": "markdown",
   "metadata": {},
   "source": [
    "#### **Case Study: Function Argument Handling in Python**\n"
   ]
  },
  {
   "cell_type": "code",
   "execution_count": 17,
   "metadata": {},
   "outputs": [
    {
     "name": "stdout",
     "output_type": "stream",
     "text": [
      "3 2 4 8\n",
      "10 20 30 40\n",
      "25 50 4 100\n",
      "3 4 4 2\n"
     ]
    }
   ],
   "source": [
    "def f(arg1, arg2, arg3=4, arg4=8):\n",
    "    print(arg1, arg2, arg3, arg4)\n",
    "\n",
    "# Valid Calls\n",
    "f(3, 2)                   # Output: 3 2 4 8\n",
    "f(10, 20, 30, 40)         # Output: 10 20 30 40\n",
    "f(25, 50, arg4=100)       # Output: 25 50 4 100\n",
    "f(arg4=2, arg1=3, arg2=4) # Output: 3 4 4 2\n",
    "\n",
    "\n",
    "# Invalid Calls and Errors\n",
    "\n",
    "# f()  \n",
    "# TypeError: f() missing 2 required positional arguments: 'arg1' and 'arg2'\n",
    "\n",
    "# f(arg3=10, arg4=20, 30, 40)\n",
    "# SyntaxError: positional argument follows keyword argument\n",
    "\n",
    "# f(4, 5, arg2=6)\n",
    "# TypeError: f() got multiple values for argument 'arg2'\n",
    "\n",
    "# f(4, 5, arg3=5, arg5=6)\n",
    "# TypeError: f() got an unexpected keyword argument 'arg5'"
   ]
  },
  {
   "cell_type": "markdown",
   "metadata": {},
   "source": [
    "1. **Positional Arguments First** → You must pass required positional arguments before keyword arguments.\n",
    "2. **Default Values** → Default arguments (`arg3=4`, `arg4=8`) can be overridden.\n",
    "3. **Keyword Arguments** → You can pass arguments explicitly by name.\n",
    "4. **Positional Argument After Keyword Argument is Not Allowed** → `f(arg3=10, arg4=20, 30, 40)` is invalid.\n",
    "5. **Duplicate Arguments Not Allowed** → `f(4, 5, arg2=6)` results in an error because `arg2` is passed twice.\n",
    "6. **Unexpected Keywords Not Allowed** → `f(4, 5, arg3=5, arg5=6)` fails because `arg5` is not a parameter.\n",
    "\n",
    "\n",
    "\n",
    "#### **Function vs Module vs Library**\n",
    "| Concept  | Definition |\n",
    "|-|--|\n",
    "| **Function** | A group of lines with a name performing a task. |\n",
    "| **Module**   | A file containing multiple functions. |\n",
    "| **Library**  | A collection of modules for various functionalities. |\n"
   ]
  },
  {
   "cell_type": "markdown",
   "metadata": {},
   "source": [
    "1. **Function**  \n",
    "   - A single block of code designed to perform a specific task.  \n",
    "   - It is the smallest unit of reusable code.\n",
    "\n",
    "2. **Module**\n",
    "   - A file that contains multiple related functions.  \n",
    "   - Modules help organize code and improve maintainability.\n",
    "\n",
    "3. **Library**\n",
    "   - A collection of modules grouped together to provide a broader functionality.  \n",
    "   - Libraries allow code reuse across different projects.\n"
   ]
  },
  {
   "cell_type": "code",
   "execution_count": 18,
   "metadata": {},
   "outputs": [],
   "source": [
    "# Module 1 (math_operations.py)\n",
    "def add(a, b):\n",
    "    return a + b\n",
    "\n",
    "def subtract(a, b):\n",
    "    return a - b\n",
    "\n",
    "# Module 2 (string_operations.py)\n",
    "def uppercase(text):\n",
    "    return text.upper()\n",
    "\n",
    "def lowercase(text):\n",
    "    return text.lower()"
   ]
  },
  {
   "cell_type": "markdown",
   "metadata": {},
   "source": [
    "#### **Types of Variables**\n",
    "Python supports two types of variables:\n",
    "1) **Global Variables**\n",
    "2) **Local Variables**\n",
    "\n",
    "\n",
    "#### **Global Variables**\n",
    "- The variables that are declared outside a function are called **global variables**.\n",
    "- These variables can be accessed in all functions within the module.\n",
    "\n"
   ]
  },
  {
   "cell_type": "code",
   "execution_count": 19,
   "metadata": {},
   "outputs": [
    {
     "name": "stdout",
     "output_type": "stream",
     "text": [
      "10\n",
      "10\n"
     ]
    }
   ],
   "source": [
    "a = 10  # Global variable\n",
    "\n",
    "def f1():\n",
    "    print(a)\n",
    "\n",
    "def f2():\n",
    "    print(a)\n",
    "\n",
    "f1()\n",
    "f2()\n"
   ]
  },
  {
   "cell_type": "markdown",
   "metadata": {},
   "source": [
    "#### **Local Variables**\n",
    "- The variables declared inside a function are called **local variables**.\n",
    "- Local variables are available only within the function they are declared in.\n",
    "- Accessing them outside the function results in an error."
   ]
  },
  {
   "cell_type": "code",
   "execution_count": 20,
   "metadata": {},
   "outputs": [
    {
     "name": "stdout",
     "output_type": "stream",
     "text": [
      "10\n",
      "10\n"
     ]
    }
   ],
   "source": [
    "def f1():\n",
    "    a = 10  # Local variable\n",
    "    print(a)  # Valid\n",
    "\n",
    "def f2():\n",
    "    print(a)  # Invalid (a is not defined here)\n",
    "\n",
    "f1()\n",
    "f2()"
   ]
  },
  {
   "cell_type": "markdown",
   "metadata": {},
   "source": [
    "\n",
    "#### **`global` Keyword**\n",
    "The `global` keyword is used for two purposes:\n",
    "1) To declare a **global variable** inside a function.\n",
    "2) To **modify a global variable** inside a function.\n",
    "\n",
    "##### **Example 1: Without `global` (Modifications are local)**\n"
   ]
  },
  {
   "cell_type": "code",
   "execution_count": 21,
   "metadata": {},
   "outputs": [
    {
     "name": "stdout",
     "output_type": "stream",
     "text": [
      "777\n",
      "10\n"
     ]
    }
   ],
   "source": [
    "a = 10\n",
    "\n",
    "def f1():\n",
    "    a = 777  # Local variable\n",
    "    print(a)\n",
    "\n",
    "def f2():\n",
    "    print(a)  # Refers to global variable\n",
    "\n",
    "f1()\n",
    "f2()"
   ]
  },
  {
   "cell_type": "markdown",
   "metadata": {},
   "source": [
    "##### **Example 2: Using `global` to Modify Global Variable**"
   ]
  },
  {
   "cell_type": "code",
   "execution_count": 22,
   "metadata": {},
   "outputs": [
    {
     "name": "stdout",
     "output_type": "stream",
     "text": [
      "777\n",
      "777\n"
     ]
    }
   ],
   "source": [
    "a = 10\n",
    "\n",
    "def f1():\n",
    "    global a  # Making 'a' global inside the function\n",
    "    a = 777\n",
    "    print(a)\n",
    "\n",
    "def f2():\n",
    "    print(a)  # Now 'a' has changed globally\n",
    "\n",
    "f1()\n",
    "f2()"
   ]
  },
  {
   "cell_type": "markdown",
   "metadata": {},
   "source": [
    "#### **Accessing Global and Local Variables with the Same Name**\n",
    "- If a **global variable and a local variable** have the same name, we can use `globals()['var_name']` to access the global variable inside a function."
   ]
  },
  {
   "cell_type": "code",
   "execution_count": 23,
   "metadata": {},
   "outputs": [
    {
     "name": "stdout",
     "output_type": "stream",
     "text": [
      "777\n",
      "10\n"
     ]
    }
   ],
   "source": [
    "a = 10  # Global Variable\n",
    "\n",
    "def f1():\n",
    "    a = 777  # Local Variable\n",
    "    print(a)  # Local variable value\n",
    "    print(globals()['a'])  # Accessing global variable\n",
    "\n",
    "f1()"
   ]
  },
  {
   "cell_type": "code",
   "execution_count": 24,
   "metadata": {},
   "outputs": [
    {
     "name": "stdout",
     "output_type": "stream",
     "text": [
      "Current Balance: ₹10000\n",
      "Deposited ₹5000. New Balance: ₹15000\n",
      "Withdrew ₹3000. Remaining Balance: ₹12000\n",
      "Insufficient Balance! You tried to withdraw ₹15000, but you have ₹12000.\n",
      "Current Balance: ₹12000\n"
     ]
    }
   ],
   "source": [
    "# Global variable for account balance\n",
    "account_balance = 10000  \n",
    "\n",
    "# Function to display balance\n",
    "def show_balance():\n",
    "    print(f\"Current Balance: ₹{account_balance}\")\n",
    "\n",
    "# Function to deposit money (modifies global variable)\n",
    "def deposit(amount):\n",
    "    global account_balance  # Allow modification of global balance\n",
    "    account_balance += amount\n",
    "    print(f\"Deposited ₹{amount}. New Balance: ₹{account_balance}\")\n",
    "\n",
    "# Function to withdraw money (checks balance before modifying)\n",
    "def withdraw(amount):\n",
    "    global account_balance  # Allow modification of global balance\n",
    "    if amount <= account_balance:\n",
    "        account_balance -= amount\n",
    "        print(f\"Withdrew ₹{amount}. Remaining Balance: ₹{account_balance}\")\n",
    "    else:\n",
    "        print(f\"Insufficient Balance! You tried to withdraw ₹{amount}, but you have ₹{account_balance}.\")\n",
    "\n",
    "# Test the bank operations\n",
    "show_balance()   # Check initial balance\n",
    "deposit(5000)    # Add ₹5000\n",
    "withdraw(3000)   # Withdraw ₹3000\n",
    "withdraw(15000)  # Try to withdraw ₹15000 (should fail)\n",
    "show_balance()   # Check final balance\n"
   ]
  },
  {
   "cell_type": "markdown",
   "metadata": {},
   "source": [
    "#### **Recursive Functions**  \n",
    "\n",
    "A function that calls itself is known as a **recursive function**.  \n",
    "\n",
    "##### **Example: Factorial Calculation Using Recursion**  \n",
    "Factorial of a number `n` is defined as:  \n",
    "$$\n",
    "factorial(n) = n \\times factorial(n-1)\n",
    "$$\n",
    "  \n",
    "**Step-by-step breakdown for `factorial(3)`:**  \n",
    "```\n",
    "factorial(3) = 3 * factorial(2)\n",
    "             = 3 * 2 * factorial(1)\n",
    "             = 3 * 2 * 1 * factorial(0)\n",
    "             = 3 * 2 * 1 * 1\n",
    "             = 6\n",
    "```\n",
    "\n",
    "##### **Advantages of Recursive Functions:**  \n",
    "1. Reduces the length of the code and improves readability.  \n",
    "2. Helps solve complex problems easily.  \n",
    "\n"
   ]
  },
  {
   "cell_type": "code",
   "execution_count": null,
   "metadata": {},
   "outputs": [],
   "source": [
    "def factorial(n):\n",
    "    if n == 0:\n",
    "        return 1\n",
    "    else:\n",
    "        return n * factorial(n - 1)\n",
    "\n",
    "print(\"Factorial of 4 is:\", factorial(4))\n",
    "print(\"Factorial of 5 is:\", factorial(5))"
   ]
  },
  {
   "cell_type": "markdown",
   "metadata": {},
   "source": [
    "\n",
    "#### **Anonymous Functions**  \n",
    "\n",
    "- Sometimes, we need functions for instant use, without giving them a name.  \n",
    "- Such **nameless functions** are called **anonymous functions** or **lambda functions**.  \n",
    "- Lambda functions are mainly used for **short, one-time operations**.  \n",
    "\n",
    "##### **Normal Function:**\n"
   ]
  },
  {
   "cell_type": "code",
   "execution_count": 25,
   "metadata": {},
   "outputs": [],
   "source": [
    "def squareIt(n):\n",
    "    return n * n"
   ]
  },
  {
   "cell_type": "markdown",
   "metadata": {},
   "source": [
    "##### **Equivalent Lambda Function:**"
   ]
  },
  {
   "cell_type": "code",
   "execution_count": 26,
   "metadata": {},
   "outputs": [
    {
     "name": "stdout",
     "output_type": "stream",
     "text": [
      "25\n"
     ]
    }
   ],
   "source": [
    "squareIt = lambda n: n * n\n",
    "print(squareIt(5))  # Output: 25"
   ]
  },
  {
   "cell_type": "markdown",
   "metadata": {},
   "source": [
    "#### **Lambda Functions in Python**  \n",
    "\n",
    "Lambda functions are **anonymous functions** that we define using the `lambda` keyword. They are useful for **short, one-time operations**.  \n",
    "\n",
    "##### **Syntax of Lambda Function:**  \n",
    "```python\n",
    "lambda argument_list : expression\n",
    "```\n",
    "\n",
    "**Advantages of Lambda Functions:**  \n",
    "- Helps write concise code, improving readability.  \n",
    "- Useful when we need a function **only once**.  \n",
    "- Often used as arguments to higher-order functions like `map()`, `filter()`, and `reduce()`.  "
   ]
  },
  {
   "cell_type": "code",
   "execution_count": null,
   "metadata": {},
   "outputs": [],
   "source": [
    "s = lambda n: n * n\n",
    "print(\"The Square of 4 is:\", s(4))\n",
    "print(\"The Square of 5 is:\", s(5))"
   ]
  },
  {
   "cell_type": "markdown",
   "metadata": {},
   "source": [
    "#### **Example 2: Lambda Function to Find Sum of Two Numbers**  "
   ]
  },
  {
   "cell_type": "code",
   "execution_count": null,
   "metadata": {},
   "outputs": [],
   "source": [
    "s = lambda a, b: a + b\n",
    "print(\"The Sum of 10, 20 is:\", s(10, 20))\n",
    "print(\"The Sum of 100, 200 is:\", s(100, 200))"
   ]
  },
  {
   "cell_type": "markdown",
   "metadata": {},
   "source": [
    "#### **Example 3: Lambda Function to Find the Biggest of Two Numbers**  "
   ]
  },
  {
   "cell_type": "code",
   "execution_count": null,
   "metadata": {},
   "outputs": [],
   "source": [
    "s = lambda a, b: a if a > b else b\n",
    "print(\"The Biggest of 10, 20 is:\", s(10, 20))\n",
    "print(\"The Biggest of 100, 200 is:\", s(100, 200))"
   ]
  },
  {
   "cell_type": "markdown",
   "metadata": {},
   "source": [
    "\n",
    "#### **Points About Lambda Functions:**\n",
    "1. **Implicit Return:** Lambda functions automatically return the result of the expression. No need to use `return` explicitly.  \n",
    "2. **Useful in Functional Programming:** Lambda functions are commonly used with `map()`, `filter()`, and `reduce()`.  \n",
    "3. **Passing Functions as Arguments:** Lambda functions can be passed as arguments to other functions.  \n",
    "\n"
   ]
  },
  {
   "cell_type": "markdown",
   "metadata": {},
   "source": [
    "#### **Sorting a List of Tuples**  \n",
    "Sorting a list based on the second element of each tuple.  "
   ]
  },
  {
   "cell_type": "code",
   "execution_count": 27,
   "metadata": {},
   "outputs": [
    {
     "name": "stdout",
     "output_type": "stream",
     "text": [
      "[(1, 'Drishya'), (2, 'Rohit'), (3, 'Tanvi')]\n"
     ]
    }
   ],
   "source": [
    "data = [(1, \"Drishya\"), (3, \"Tanvi\"), (2, \"Rohit\")]\n",
    "data.sort(key=lambda x: x[1])  # Sort by name\n",
    "print(data)"
   ]
  },
  {
   "cell_type": "markdown",
   "metadata": {},
   "source": [
    "#### **2. Filtering Even Numbers**  \n",
    "Filtering even numbers from a list using `filter()`.  "
   ]
  },
  {
   "cell_type": "code",
   "execution_count": 28,
   "metadata": {},
   "outputs": [
    {
     "name": "stdout",
     "output_type": "stream",
     "text": [
      "[10, 20, 30]\n"
     ]
    }
   ],
   "source": [
    "numbers = [10, 15, 20, 25, 30]\n",
    "evens = list(filter(lambda x: x % 2 == 0, numbers))\n",
    "print(evens)"
   ]
  },
  {
   "cell_type": "markdown",
   "metadata": {},
   "source": [
    "#### **3. Mapping to Squared Values (Used in ML & AI)**  \n",
    "Applying a function to each element using `map()`.  "
   ]
  },
  {
   "cell_type": "code",
   "execution_count": 29,
   "metadata": {},
   "outputs": [
    {
     "name": "stdout",
     "output_type": "stream",
     "text": [
      "[1, 4, 9, 16]\n"
     ]
    }
   ],
   "source": [
    "nums = [1, 2, 3, 4]\n",
    "squares = list(map(lambda x: x ** 2, nums))\n",
    "print(squares)"
   ]
  },
  {
   "cell_type": "markdown",
   "metadata": {},
   "source": [
    "#### **4. Reduce Function to Find Factorial**  \n",
    "Using `reduce()` to compute factorial.  "
   ]
  },
  {
   "cell_type": "code",
   "execution_count": 30,
   "metadata": {},
   "outputs": [
    {
     "name": "stdout",
     "output_type": "stream",
     "text": [
      "120\n"
     ]
    }
   ],
   "source": [
    "from functools import reduce\n",
    "factorial = lambda n: reduce(lambda x, y: x * y, range(1, n + 1))\n",
    "print(factorial(5))"
   ]
  },
  {
   "cell_type": "markdown",
   "metadata": {},
   "source": [
    "#### **5. Lambda for Decision Making in AI Models**  \n",
    "Choosing the best model based on accuracy.  \n"
   ]
  },
  {
   "cell_type": "code",
   "execution_count": 31,
   "metadata": {},
   "outputs": [
    {
     "name": "stdout",
     "output_type": "stream",
     "text": [
      "Best model: Model_B\n"
     ]
    }
   ],
   "source": [
    "models = {'Model_A': 88, 'Model_B': 92, 'Model_C': 85}\n",
    "best_model = max(models, key=lambda k: models[k])\n",
    "print(\"Best model:\", best_model)"
   ]
  },
  {
   "cell_type": "code",
   "execution_count": 32,
   "metadata": {},
   "outputs": [
    {
     "name": "stdout",
     "output_type": "stream",
     "text": [
      "True\n",
      "False\n"
     ]
    }
   ],
   "source": [
    "is_palindrome = lambda s: s == s[::-1]\n",
    "print(is_palindrome(\"madam\"))  # True\n",
    "print(is_palindrome(\"hello\"))  # False"
   ]
  },
  {
   "cell_type": "code",
   "execution_count": 33,
   "metadata": {},
   "outputs": [
    {
     "name": "stdout",
     "output_type": "stream",
     "text": [
      "Accepted\n",
      "Rejected\n"
     ]
    }
   ],
   "source": [
    "threshold = lambda x, t: \"Accepted\" if x >= t else \"Rejected\"\n",
    "print(threshold(85, 80))  # Accepted\n",
    "print(threshold(75, 80))  # Rejected"
   ]
  },
  {
   "cell_type": "code",
   "execution_count": 34,
   "metadata": {},
   "outputs": [
    {
     "name": "stdout",
     "output_type": "stream",
     "text": [
      "['Karan', 'Om', 'Harsha']\n"
     ]
    }
   ],
   "source": [
    "data = [{\"name\": \"Karan\"}, {\"name\": \"Om\"}, {\"name\": \"Harsha\"}]\n",
    "names = list(map(lambda x: x[\"name\"], data))\n",
    "print(names)"
   ]
  },
  {
   "cell_type": "code",
   "execution_count": 35,
   "metadata": {},
   "outputs": [
    {
     "name": "stdout",
     "output_type": "stream",
     "text": [
      "['Post2', 'Post1', 'Post3']\n"
     ]
    }
   ],
   "source": [
    "# Parsing and extracting names from API data.  \n",
    "blogs = [{\"title\": \"Post1\", \"date\": \"2023-06-10\"},\n",
    "         {\"title\": \"Post2\", \"date\": \"2022-12-05\"},\n",
    "         {\"title\": \"Post3\", \"date\": \"2024-01-01\"}]\n",
    "\n",
    "sorted_blogs = sorted(blogs, key=lambda x: x[\"date\"])\n",
    "print([b[\"title\"] for b in sorted_blogs])"
   ]
  },
  {
   "cell_type": "code",
   "execution_count": 36,
   "metadata": {},
   "outputs": [
    {
     "name": "stdout",
     "output_type": "stream",
     "text": [
      "High\n",
      "Low\n"
     ]
    }
   ],
   "source": [
    "assign_label = lambda x: \"High\" if x > 75 else \"Low\"\n",
    "print(assign_label(80))  # High\n",
    "print(assign_label(60))  # Low"
   ]
  },
  {
   "cell_type": "markdown",
   "metadata": {},
   "source": [
    "\n",
    "### **`filter()` Function**  \n",
    "- `filter()` is used to **select elements** from a sequence based on a given condition.  \n",
    "- It takes a **function** and a **sequence** as arguments.  \n",
    "- The function should return **True** for elements that should be included in the filtered result.  \n",
    "\n",
    "### **Syntax:**  \n",
    "```python\n",
    "filter(function, sequence)\n",
    "```\n",
    "- `function`: Defines the filtering condition.  \n",
    "- `sequence`: Can be a list, tuple, or string.  \n",
    "\n",
    "### **Examples:**  \n",
    "\n",
    "### **Filtering Even Numbers (Without Lambda Function)**  \n",
    "```python\n",
    "def is_even(x):\n",
    "    if x % 2 == 0:\n",
    "        return True\n",
    "    else:\n",
    "        return False\n",
    "\n",
    "l = [0, 5, 10, 15, 20, 25, 30]\n",
    "l1 = list(filter(is_even, l))\n",
    "print(l1)  # [0, 10, 20, 30]\n",
    "```\n",
    "\n",
    "### **Filtering Even Numbers (With Lambda Function)**  \n",
    "```python\n",
    "l = [0, 5, 10, 15, 20, 25, 30]\n",
    "l1 = list(filter(lambda x: x % 2 == 0, l))\n",
    "print(l1)  # [0, 10, 20, 30]\n",
    "```\n",
    "\n",
    "### **Filtering Odd Numbers**  \n",
    "```python\n",
    "l2 = list(filter(lambda x: x % 2 != 0, l))\n",
    "print(l2)  # [5, 15, 25]\n",
    "```\n",
    "\n",
    "\n",
    "\n",
    "### **`map()` Function**  \n",
    "- `map()` applies a function to **each element** in a sequence and returns a new modified sequence.  \n",
    "- It is useful when we want to transform all elements of a list.  \n",
    "\n",
    "### **Syntax:**  \n",
    "```python\n",
    "map(function, sequence)\n",
    "```\n",
    "- `function`: The function to apply to each element.  \n",
    "- `sequence`: A list, tuple, or another iterable.  \n",
    "\n",
    "### **Examples:**  \n",
    "\n",
    "### **Doubling Each Number (Without Lambda Function)**  \n",
    "```python\n",
    "l = [1, 2, 3, 4, 5]\n",
    "\n",
    "def double_it(x):\n",
    "    return 2 * x\n",
    "\n",
    "l1 = list(map(double_it, l))\n",
    "print(l1)  # [2, 4, 6, 8, 10]\n",
    "```\n",
    "\n",
    "### **Doubling Each Number (With Lambda Function)**  \n",
    "```python\n",
    "l1 = list(map(lambda x: 2 * x, l))\n",
    "print(l1)  # [2, 4, 6, 8, 10]\n",
    "```\n",
    "\n",
    "### **Squaring Numbers**  \n",
    "```python\n",
    "l1 = list(map(lambda x: x * x, l))\n",
    "print(l1)  # [1, 4, 9, 16, 25]\n",
    "```\n",
    "\n",
    "### **Applying `map()` to Multiple Lists**  \n",
    "```python\n",
    "l1 = [1, 2, 3, 4]\n",
    "l2 = [2, 3, 4, 5]\n",
    "l3 = list(map(lambda x, y: x * y, l1, l2))\n",
    "print(l3)  # [2, 6, 12, 20]\n",
    "```\n",
    "\n",
    "\n",
    "\n",
    "### **`reduce()` Function**  \n",
    "- `reduce()` **reduces** a sequence into a single value by applying a function cumulatively.  \n",
    "- It is useful for calculations like sum, product, or finding the maximum/minimum.  \n",
    "- It is available in the `functools` module.  \n",
    "\n",
    "### **Syntax:**  \n",
    "```python\n",
    "reduce(function, sequence)\n",
    "```\n",
    "- `function`: A function that takes two arguments and returns a single value.  \n",
    "- `sequence`: A list, tuple, or other iterable.  \n",
    "\n",
    "### **Examples:**  \n",
    "\n",
    "### **Sum of Elements**  \n",
    "```python\n",
    "from functools import reduce\n",
    "\n",
    "l = [10, 20, 30, 40, 50]\n",
    "result = reduce(lambda x, y: x + y, l)\n",
    "print(result)  # 150\n",
    "```\n",
    "\n",
    "### **Product of Elements**  \n",
    "```python\n",
    "result = reduce(lambda x, y: x * y, l)\n",
    "print(result)  # 12000000\n",
    "```\n",
    "\n",
    "### **Sum of First 100 Numbers**  \n",
    "```python\n",
    "result = reduce(lambda x, y: x + y, range(1, 101))\n",
    "print(result)  # 5050\n",
    "```\n",
    "\n",
    "\n",
    "\n",
    "### **Everything in Python is an Object**  \n",
    "- In Python, **everything is treated as an object**, including functions.  \n",
    "\n",
    "### **Example: Function as an Object**  \n",
    "```python\n",
    "def f1():\n",
    "    print(\"Hello\")\n",
    "\n",
    "print(f1)  # <function f1 at 0x00419618>\n",
    "print(id(f1))  # Function's memory address\n",
    "```\n",
    "\n",
    "\n",
    "\n",
    "### **Function Aliasing**  \n",
    "- We can **assign an existing function a new name** (alias).  \n",
    "\n",
    "### **Example: Function Aliasing**  \n",
    "```python\n",
    "def wish(name):\n",
    "    print(\"Good Morning:\", name)\n",
    "\n",
    "greeting = wish  # Assigning a new name to the function\n",
    "print(id(wish))  \n",
    "print(id(greeting))\n",
    "\n",
    "greeting(\"Durga\")  # Calls function using alias\n",
    "wish(\"Durga\")  # Calls function normally\n",
    "```\n",
    "\n",
    "### **Output:**\n",
    "```\n",
    "Good Morning: Durga\n",
    "Good Morning: Durga\n",
    "```\n",
    "\n",
    "Even if we delete `wish()`, we can still call it using `greeting()`.  \n",
    "```python\n",
    "del wish\n",
    "greeting(\"Pavan\")  # Still works\n",
    "```\n",
    "\n",
    "### **Output:**\n",
    "```\n",
    "Good Morning: Pavan\n",
    "```\n",
    "\n",
    "\n",
    "\n",
    "### **Nested Functions**  \n",
    "- A function **defined inside another function** is called a **nested function**.  \n",
    "\n",
    "### **Example: Nested Function**  \n",
    "```python\n",
    "def outer():\n",
    "    print(\"Outer function started\")\n",
    "\n",
    "    def inner():\n",
    "        print(\"Inner function execution\")\n",
    "\n",
    "    print(\"Outer function calling inner function\")\n",
    "    inner()\n",
    "\n",
    "outer()\n",
    "```\n",
    "\n",
    "### **Output:**\n",
    "```\n",
    "Outer function started\n",
    "Outer function calling inner function\n",
    "Inner function execution\n",
    "```\n",
    "\n",
    "Here, `inner()` is **local** to `outer()`, so calling `inner()` directly results in an error.  \n",
    "\n",
    "\n",
    "\n",
    "### **Returning Functions from Functions**  \n",
    "- A function can **return another function**.  \n",
    "\n",
    "### **Example: Returning Inner Function**  \n",
    "```python\n",
    "def outer():\n",
    "    print(\"Outer function started\")\n",
    "\n",
    "    def inner():\n",
    "        print(\"Inner function execution\")\n",
    "\n",
    "    print(\"Outer function returning inner function\")\n",
    "    return inner  # Returning the function itself\n",
    "\n",
    "f1 = outer()  # f1 now refers to inner()\n",
    "f1()\n",
    "f1()\n",
    "f1()\n",
    "```\n",
    "\n",
    "### **Output:**\n",
    "```\n",
    "Outer function started\n",
    "Outer function returning inner function\n",
    "Inner function execution\n",
    "Inner function execution\n",
    "Inner function execution\n",
    "```\n",
    "\n",
    "\n",
    "\n",
    "### **Difference Between `f1 = outer` and `f1 = outer()`**\n",
    "| Case | Explanation |\n",
    "|||\n",
    "| `f1 = outer` | Assigns the `outer` function to `f1` (aliasing). |\n",
    "| `f1 = outer()` | Calls `outer()`, which returns `inner()`, so `f1` refers to `inner()`. |\n",
    "\n",
    "\n",
    "\n",
    "### **Functions as Arguments**  \n",
    "- In Python, we can **pass functions as arguments** to other functions.  \n",
    "- Common examples include:  \n",
    "  - `filter(function, sequence)`  \n",
    "  - `map(function, sequence)`  \n",
    "  - `reduce(function, sequence)`  \n",
    "\n",
    "### **Example: Passing a Function as an Argument**  \n",
    "```python\n",
    "def apply_function(func, value):\n",
    "    return func(value)\n",
    "\n",
    "double = lambda x: x * 2\n",
    "print(apply_function(double, 10))  # 20\n",
    "```\n",
    "\n",
    "\n",
    "\n",
    "### **Conclusion**  \n",
    "- `filter()`, `map()`, and `reduce()` are powerful **functional programming** tools.  \n",
    "- **Lambda functions** allow for concise, inline functions.  \n",
    "- **Nested functions & returning functions** enable advanced programming patterns.  \n",
    "- **Function aliasing & function arguments** make Python highly flexible.  \n"
   ]
  },
  {
   "cell_type": "code",
   "execution_count": 38,
   "metadata": {},
   "outputs": [
    {
     "name": "stdout",
     "output_type": "stream",
     "text": [
      "\n",
      "### Filtered Adult Animals (Age >= 2 years):\n",
      "Tiger - Age: 5 years, Weight: 220 kg, Speed: 60 km/h\n",
      "Elephant - Age: 10 years, Weight: 5400 kg, Speed: 25 km/h\n",
      "Cheetah - Age: 4 years, Weight: 72 kg, Speed: 120 km/h\n",
      "Kangaroo - Age: 3 years, Weight: 85 kg, Speed: 70 km/h\n",
      "Rabbit - Age: 2 years, Weight: 4 kg, Speed: 40 km/h\n",
      "\n",
      "### Strength Scores (Weight × Speed):\n",
      "Tiger - Strength Score: 13200 (kg·km/h)\n",
      "Elephant - Strength Score: 135000 (kg·km/h)\n",
      "Cheetah - Strength Score: 8640 (kg·km/h)\n",
      "Kangaroo - Strength Score: 5950 (kg·km/h)\n",
      "Rabbit - Strength Score: 160 (kg·km/h)\n",
      "\n",
      "### Strongest Animal (Based on Strength Score):\n",
      "Elephant - Strength Score: 135000 (kg·km/h)\n",
      "\n",
      "### Speed Classification (Threshold: 50 km/h):\n",
      "Tiger is Fast\n",
      "Elephant is Slow\n",
      "Cheetah is Fast\n",
      "Kangaroo is Fast\n",
      "Rabbit is Slow\n"
     ]
    }
   ],
   "source": [
    "from functools import reduce  \n",
    "\n",
    "# List of animals: (Name, Age (years), Weight (kg), Speed (km/h))  \n",
    "animals = [  \n",
    "    (\"Tiger\", 5, 220, 60),  \n",
    "    (\"Elephant\", 10, 5400, 25),  \n",
    "    (\"Cheetah\", 4, 72, 120),  \n",
    "    (\"Deer\", 1, 90, 80),  \n",
    "    (\"Kangaroo\", 3, 85, 70),  \n",
    "    (\"Rabbit\", 2, 4, 40),  \n",
    "]  \n",
    "\n",
    "### **1. Filtering animals that are at least 2 years old**  \n",
    "adult_animals = list(filter(lambda animal: animal[1] >= 2, animals))  \n",
    "\n",
    "### **2. Calculating a strength score using `map()`**  \n",
    "# Strength Score = Weight * Speed  \n",
    "strength_scores = list(map(lambda animal: (animal[0], animal[2] * animal[3]), adult_animals))  \n",
    "\n",
    "### **3. Finding the strongest animal using `reduce()`**  \n",
    "strongest_animal = reduce(lambda a, b: a if a[1] > b[1] else b, strength_scores)  \n",
    "\n",
    "### **4. Nested Function to classify animals as \"Fast\" or \"Slow\"**  \n",
    "def speed_classifier(speed_threshold):  \n",
    "    def classify(animal):  \n",
    "        return f\"{animal[0]} is Fast\" if animal[3] > speed_threshold else f\"{animal[0]} is Slow\"  \n",
    "    return classify  \n",
    "\n",
    "# Using the Nested Function with speed threshold 50 km/h  \n",
    "classifier = speed_classifier(50)  \n",
    "animal_speeds = list(map(classifier, adult_animals))  \n",
    "\n",
    "### **5. Function Aliasing (Shortcut for classification function)**  \n",
    "fast_or_slow = classifier  \n",
    "\n",
    "### **6. Function as Argument to Print Results**  \n",
    "def display_results(function, data):  \n",
    "    for item in data:  \n",
    "        print(function(item))  \n",
    "\n",
    "print(\"\\n### Filtered Adult Animals (Age >= 2 years):\")  \n",
    "for animal in adult_animals:  \n",
    "    print(f\"{animal[0]} - Age: {animal[1]} years, Weight: {animal[2]} kg, Speed: {animal[3]} km/h\")  \n",
    "\n",
    "print(\"\\n### Strength Scores (Weight × Speed):\")  \n",
    "for animal, score in strength_scores:  \n",
    "    print(f\"{animal} - Strength Score: {score} (kg·km/h)\")  \n",
    "\n",
    "print(\"\\n### Strongest Animal (Based on Strength Score):\")  \n",
    "print(f\"{strongest_animal[0]} - Strength Score: {strongest_animal[1]} (kg·km/h)\")  \n",
    "\n",
    "print(\"\\n### Speed Classification (Threshold: 50 km/h):\")  \n",
    "display_results(fast_or_slow, adult_animals)  \n"
   ]
  },
  {
   "cell_type": "code",
   "execution_count": null,
   "metadata": {},
   "outputs": [],
   "source": []
  }
 ],
 "metadata": {
  "kernelspec": {
   "display_name": "Python 3",
   "language": "python",
   "name": "python3"
  },
  "language_info": {
   "codemirror_mode": {
    "name": "ipython",
    "version": 3
   },
   "file_extension": ".py",
   "mimetype": "text/x-python",
   "name": "python",
   "nbconvert_exporter": "python",
   "pygments_lexer": "ipython3",
   "version": "3.10.9"
  }
 },
 "nbformat": 4,
 "nbformat_minor": 2
}
