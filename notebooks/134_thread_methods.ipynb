{
 "cells": [
  {
   "cell_type": "code",
   "execution_count": 4,
   "metadata": {},
   "outputs": [
    {
     "name": "stdout",
     "output_type": "stream",
     "text": [
      "Child thread\n",
      "\n",
      "Main thread identification number: 8080\n",
      "Child thread identification number: 14480\n"
     ]
    }
   ],
   "source": [
    "from threading import *\n",
    "\n",
    "def test():\n",
    "    print('Child thread')\n",
    "\n",
    "t=Thread(target=test)\n",
    "t.start()\n",
    "print()\n",
    "print('Main thread identification number:', current_thread().ident)\n",
    "print('Child thread identification number:', t.ident)\n"
   ]
  },
  {
   "cell_type": "code",
   "execution_count": 1,
   "metadata": {},
   "outputs": [
    {
     "name": "stdout",
     "output_type": "stream",
     "text": [
      "Main thread (ID: 14740) started.\n",
      "Worker thread (ID: 10572) started.\n",
      "Worker thread (ID: 13956) started.\n",
      "Worker thread (ID: 1924) started.\n",
      "Worker thread (ID: 1924) finished.\n",
      "Worker thread (ID: 13956) finished.\n",
      "Worker thread (ID: 10572) finished.\n",
      "Main thread (ID: 14740) finished.\n"
     ]
    }
   ],
   "source": [
    "import threading\n",
    "import time\n",
    "\n",
    "def worker_thread():\n",
    "    thread_id = threading.get_ident()\n",
    "    print(f\"Worker thread (ID: {thread_id}) started.\")\n",
    "    time.sleep(2)  # Simulate some work\n",
    "    print(f\"Worker thread (ID: {thread_id}) finished.\")\n",
    "\n",
    "def main_thread():\n",
    "    main_thread_id = threading.get_ident()\n",
    "    print(f\"Main thread (ID: {main_thread_id}) started.\")\n",
    "\n",
    "    threads = []\n",
    "    for i in range(3):\n",
    "        thread = threading.Thread(target=worker_thread)\n",
    "        threads.append(thread)\n",
    "        thread.start()\n",
    "\n",
    "    for thread in threads:\n",
    "        thread.join()  # Wait for all worker threads to finish\n",
    "\n",
    "    print(f\"Main thread (ID: {main_thread_id}) finished.\")\n",
    "\n",
    "if __name__ == \"__main__\":\n",
    "    main_thread()"
   ]
  },
  {
   "cell_type": "code",
   "execution_count": 2,
   "metadata": {},
   "outputs": [
    {
     "name": "stdout",
     "output_type": "stream",
     "text": [
      "Main thread (Native ID: 14740, Process ID: 10912) started.\n",
      "Worker thread (Native ID: 11980, Process ID: 10912) started.\n",
      "Worker thread (Native ID: 11980, Process ID: 10912) finished.\n",
      "Main thread (Native ID: 14740, Process ID: 10912) finished.\n"
     ]
    }
   ],
   "source": [
    "import threading\n",
    "import time\n",
    "import os\n",
    "\n",
    "def worker_thread():\n",
    "    native_thread_id = threading.get_native_id()\n",
    "    print(f\"Worker thread (Native ID: {native_thread_id}, Process ID: {os.getpid()}) started.\")\n",
    "    time.sleep(5)  # Let the thread run for a while\n",
    "    print(f\"Worker thread (Native ID: {native_thread_id}, Process ID: {os.getpid()}) finished.\")\n",
    "\n",
    "def main_thread():\n",
    "    main_native_thread_id = threading.get_native_id()\n",
    "    print(f\"Main thread (Native ID: {main_native_thread_id}, Process ID: {os.getpid()}) started.\")\n",
    "\n",
    "    thread = threading.Thread(target=worker_thread)\n",
    "    thread.start()\n",
    "    thread.join()\n",
    "    print(f\"Main thread (Native ID: {main_native_thread_id}, Process ID: {os.getpid()}) finished.\")\n",
    "\n",
    "if __name__ == \"__main__\":\n",
    "    main_thread()"
   ]
  },
  {
   "cell_type": "markdown",
   "metadata": {},
   "source": [
    "`active_count()`\n",
    "\n",
    "It returns the number of active threads currently runnning"
   ]
  },
  {
   "cell_type": "code",
   "execution_count": 3,
   "metadata": {},
   "outputs": [
    {
     "name": "stdout",
     "output_type": "stream",
     "text": [
      "Number of active threads:  6\n",
      "ChildThread1 started\n",
      "ChildThread2 started\n",
      "ChildThread3 started\n",
      "Number of active threads:  9\n",
      "Number of active threads:  6\n"
     ]
    }
   ],
   "source": [
    "import time\n",
    "from threading import *\n",
    "\n",
    "def display():\n",
    "    print(f\"{current_thread().name} started\")\n",
    "    time.sleep(3)\n",
    "    \n",
    "print(\"Number of active threads: \", active_count())\n",
    "\n",
    "t1=Thread(target=display, name=\"ChildThread1\")\n",
    "t2=Thread(target=display, name=\"ChildThread2\")\n",
    "t3=Thread(target=display, name=\"ChildThread3\")\n",
    "t1.start()\n",
    "t2.start()\n",
    "t3.start()\n",
    "\n",
    "print(\"Number of active threads: \", active_count())\n",
    "time.sleep(5)\n",
    "print(\"Number of active threads: \", active_count())"
   ]
  },
  {
   "cell_type": "code",
   "execution_count": 4,
   "metadata": {},
   "outputs": [
    {
     "name": "stdout",
     "output_type": "stream",
     "text": [
      "Main thread started. Active count: 6\n",
      "Worker thread started. Active count: 7\n",
      "Worker thread started. Active count: 8\n",
      "Worker thread started. Active count: 9\n",
      "After starting threads. Active count: 9\n",
      "Worker thread finished. Active count: 9\n",
      "Worker thread finished. Active count: 8\n",
      "Worker thread finished. Active count: 7\n",
      "After joining threads. Active count: 6\n"
     ]
    }
   ],
   "source": [
    "import threading\n",
    "import time\n",
    "\n",
    "def worker_thread():\n",
    "    print(f\"Worker thread started. Active count: {threading.active_count()}\")\n",
    "    time.sleep(2)  # Simulate some work\n",
    "    print(f\"Worker thread finished. Active count: {threading.active_count()}\")\n",
    "\n",
    "def main():\n",
    "    print(f\"Main thread started. Active count: {threading.active_count()}\")\n",
    "\n",
    "    threads = []\n",
    "    for _ in range(3):\n",
    "        thread = threading.Thread(target=worker_thread)\n",
    "        threads.append(thread)\n",
    "        thread.start()\n",
    "\n",
    "    print(f\"After starting threads. Active count: {threading.active_count()}\")\n",
    "\n",
    "    for thread in threads:\n",
    "        thread.join()  # Wait for threads to complete\n",
    "\n",
    "    print(f\"After joining threads. Active count: {threading.active_count()}\")\n",
    "\n",
    "if __name__ == \"__main__\":\n",
    "    main()"
   ]
  },
  {
   "cell_type": "markdown",
   "metadata": {},
   "source": [
    "#### ___`enumerate()` function:___\n",
    "This function returns a list of all active threads currently running.\n"
   ]
  },
  {
   "cell_type": "code",
   "execution_count": 5,
   "metadata": {},
   "outputs": [
    {
     "name": "stdout",
     "output_type": "stream",
     "text": [
      "Number of active threads:  6\n",
      "ChildThread1 started\n",
      "ChildThread2 started\n",
      "ChildThread3 started\n",
      "Name: MainThread, IdentificationNumber: 14740\n",
      "Name: IOPub, IdentificationNumber: 14964\n",
      "Name: Heartbeat, IdentificationNumber: 14492\n",
      "Name: Control, IdentificationNumber: 1668\n",
      "Name: IPythonHistorySavingThread, IdentificationNumber: 2960\n",
      "Name: Thread-1, IdentificationNumber: 8220\n",
      "Name: ChildThread1, IdentificationNumber: 6892\n",
      "Name: ChildThread2, IdentificationNumber: 5164\n",
      "Name: ChildThread3, IdentificationNumber: 12512\n"
     ]
    }
   ],
   "source": [
    "import time\n",
    "from threading import *\n",
    "\n",
    "def display():\n",
    "    print(f\"{current_thread().name} started\")\n",
    "    time.sleep(3)\n",
    "    \n",
    "print(\"Number of active threads: \", active_count())\n",
    "\n",
    "t1=Thread(target=display, name=\"ChildThread1\")\n",
    "t2=Thread(target=display, name=\"ChildThread2\")\n",
    "t3=Thread(target=display, name=\"ChildThread3\")\n",
    "t1.start()\n",
    "t2.start()\n",
    "t3.start()\n",
    "\n",
    "time.sleep(1)  # Ensure that child threads have started before enumerating\n",
    "\n",
    "l=enumerate()\n",
    "for t in l:\n",
    "    print(f\"Name: {t.name}, IdentificationNumber: {t.ident}\")"
   ]
  },
  {
   "cell_type": "code",
   "execution_count": 6,
   "metadata": {},
   "outputs": [
    {
     "name": "stdout",
     "output_type": "stream",
     "text": [
      "Number of active threads:  6 \n",
      "\n",
      "ChildThread1 started\n",
      "\n",
      "ChildThread2 started\n",
      "\n",
      "ChildThread3 started\n",
      "\n",
      "Name: MainThread, Identification Number: 14740\n",
      "\n",
      "Name: IOPub, Identification Number: 14964\n",
      "\n",
      "Name: Heartbeat, Identification Number: 14492\n",
      "\n",
      "Name: Control, Identification Number: 1668\n",
      "\n",
      "Name: IPythonHistorySavingThread, Identification Number: 2960\n",
      "\n",
      "Name: Thread-1, Identification Number: 8220\n",
      "\n",
      "Name: ChildThread1, Identification Number: 15312\n",
      "\n",
      "Name: ChildThread2, Identification Number: 8388\n",
      "\n",
      "Name: ChildThread3, Identification Number: 15352\n",
      "\n",
      "ChildThread3 ended\n",
      "ChildThread2 ended\n",
      "\n",
      "\n",
      "ChildThread1 ended\n",
      "\n",
      "Name: MainThread, Identification Number: 14740\n",
      "\n",
      "Name: IOPub, Identification Number: 14964\n",
      "\n",
      "Name: Heartbeat, Identification Number: 14492\n",
      "\n",
      "Name: Control, Identification Number: 1668\n",
      "\n",
      "Name: IPythonHistorySavingThread, Identification Number: 2960\n",
      "\n",
      "Name: Thread-1, Identification Number: 8220\n",
      "\n"
     ]
    }
   ],
   "source": [
    "import time\n",
    "from threading import *\n",
    "\n",
    "def display():\n",
    "    print(f\"{current_thread().name} started\\n\")\n",
    "    time.sleep(3)\n",
    "    print(f\"{current_thread().name} ended\\n\")\n",
    "    \n",
    "print(\"Number of active threads: \", active_count(), \"\\n\")\n",
    "\n",
    "t1=Thread(target=display, name=\"ChildThread1\")\n",
    "t2=Thread(target=display, name=\"ChildThread2\")\n",
    "t3=Thread(target=display, name=\"ChildThread3\")\n",
    "t1.start()\n",
    "t2.start()\n",
    "t3.start()\n",
    "\n",
    "l=enumerate()\n",
    "for t in l:\n",
    "    print(f\"Name: {t.name}, Identification Number: {t.ident}\\n\")\n",
    "\n",
    "time.sleep(10)\n",
    "\n",
    "l=enumerate()\n",
    "for t in l:\n",
    "    print(f\"Name: {t.name}, Identification Number: {t.ident}\\n\")"
   ]
  },
  {
   "cell_type": "code",
   "execution_count": 7,
   "metadata": {},
   "outputs": [
    {
     "name": "stdout",
     "output_type": "stream",
     "text": [
      "Number of active threads:  6 \n",
      "\n",
      "ChildThread1 started\n",
      "\n",
      "ChildThread2 started\n",
      "\n",
      "ChildThread3 started\n",
      "\n",
      "Name: MainThread, Identification Number: 14740\n",
      "\n",
      "Name: IOPub, Identification Number: 14964\n",
      "\n",
      "Name: Heartbeat, Identification Number: 14492\n",
      "\n",
      "Name: Control, Identification Number: 1668\n",
      "\n",
      "Name: IPythonHistorySavingThread, Identification Number: 2960\n",
      "\n",
      "Name: Thread-1, Identification Number: 8220\n",
      "\n",
      "Name: ChildThread1, Identification Number: 4640\n",
      "\n",
      "Name: ChildThread2, Identification Number: 7484\n",
      "\n",
      "Name: ChildThread3, Identification Number: 13696\n",
      "\n",
      "ChildThread1 ended\n",
      "\n",
      "ChildThread3 ended\n",
      "\n",
      "ChildThread2 ended\n",
      "\n",
      "Name: MainThread, Identification Number: 14740\n",
      "\n",
      "Name: IOPub, Identification Number: 14964\n",
      "\n",
      "Name: Heartbeat, Identification Number: 14492\n",
      "\n",
      "Name: Control, Identification Number: 1668\n",
      "\n",
      "Name: IPythonHistorySavingThread, Identification Number: 2960\n",
      "\n",
      "Name: Thread-1, Identification Number: 8220\n",
      "\n"
     ]
    }
   ],
   "source": [
    "import time\n",
    "from threading import *\n",
    "\n",
    "def display():\n",
    "    print(f\"{current_thread().name} started\\n\")\n",
    "    time.sleep(3)\n",
    "    print(f\"{current_thread().name} ended\\n\")\n",
    "    \n",
    "print(\"Number of active threads: \", active_count(), \"\\n\")\n",
    "\n",
    "t1=Thread(target=display, name=\"ChildThread1\")\n",
    "t2=Thread(target=display, name=\"ChildThread2\")\n",
    "t3=Thread(target=display, name=\"ChildThread3\")\n",
    "t1.start()\n",
    "t2.start()\n",
    "t3.start()\n",
    "\n",
    "l=enumerate()\n",
    "for t in l:\n",
    "    print(f\"Name: {t.name}, Identification Number: {t.ident}\\n\")\n",
    "\n",
    "time.sleep(10)\n",
    "\n",
    "l=enumerate()\n",
    "for t in l:\n",
    "    print(f\"Name: {t.name}, Identification Number: {t.ident}\\n\")"
   ]
  },
  {
   "cell_type": "code",
   "execution_count": 8,
   "metadata": {},
   "outputs": [
    {
     "name": "stdout",
     "output_type": "stream",
     "text": [
      "Main thread (Name: MainThread, ID: 14740) started\n",
      "Active threads before creation: 6\n",
      "Worker thread 1 (Name: Worker-1, ID: 12328) started\n",
      "Worker thread 2 (Name: Worker-2, ID: 11840) started\n",
      "Worker thread 3 (Name: Worker-3, ID: 348) started\n",
      "Active threads after starting: 9\n",
      "Enumerating active threads:\n",
      "  Name: IOPub, ID: 14964\n",
      "  Name: Heartbeat, ID: 14492\n",
      "  Name: Control, ID: 1668\n",
      "  Name: IPythonHistorySavingThread, ID: 2960\n",
      "  Name: Thread-1, ID: 8220\n",
      "  Name: Worker-1, ID: 12328\n",
      "  Name: Worker-2, ID: 11840\n",
      "  Name: Worker-3, ID: 348\n",
      "Worker thread 3 (Name: Worker-3, ID: 348) finished\n",
      "Worker thread 2 (Name: Worker-2, ID: 11840) finished\n",
      "Worker thread 1 (Name: Worker-1, ID: 12328) finished\n",
      "Active threads after joining: 6\n",
      "Main thread (Name: MainThread, ID: 14740) finished\n"
     ]
    }
   ],
   "source": [
    "import threading\n",
    "import time\n",
    "\n",
    "def worker_thread(thread_id):\n",
    "    print(f\"Worker thread {thread_id} (Name: {threading.current_thread().name}, ID: {threading.get_ident()}) started\")\n",
    "    time.sleep(2)  # Simulate work\n",
    "    print(f\"Worker thread {thread_id} (Name: {threading.current_thread().name}, ID: {threading.get_ident()}) finished\")\n",
    "\n",
    "def main():\n",
    "    print(f\"Main thread (Name: {threading.current_thread().name}, ID: {threading.get_ident()}) started\")\n",
    "    print(f\"Active threads before creation: {threading.active_count()}\")\n",
    "\n",
    "    threads = []\n",
    "    for i in range(3):\n",
    "        thread = threading.Thread(target=worker_thread, args=(i + 1,), name=f\"Worker-{i+1}\") # Correct way to pass arguments\n",
    "        threads.append(thread)\n",
    "        thread.start()\n",
    "\n",
    "    print(f\"Active threads after starting: {threading.active_count()}\")\n",
    "\n",
    "    # Enumerate active threads (excluding the main thread)\n",
    "    print(\"Enumerating active threads:\")\n",
    "    for thread in threading.enumerate():\n",
    "        if thread is not threading.current_thread():\n",
    "            print(f\"  Name: {thread.name}, ID: {thread.ident}\")\n",
    "\n",
    "    for thread in threads:\n",
    "        thread.join()  # Wait for threads to finish\n",
    "\n",
    "    print(f\"Active threads after joining: {threading.active_count()}\")\n",
    "    print(f\"Main thread (Name: {threading.current_thread().name}, ID: {threading.get_ident()}) finished\")\n",
    "\n",
    "\n",
    "if __name__ == \"__main__\":\n",
    "    main()"
   ]
  },
  {
   "cell_type": "markdown",
   "metadata": {},
   "source": [
    "#### __`is_alive()`:__\n",
    "isAlive() method checks whether a thread is still executing or not.\n"
   ]
  },
  {
   "cell_type": "code",
   "execution_count": 9,
   "metadata": {},
   "outputs": [
    {
     "name": "stdout",
     "output_type": "stream",
     "text": [
      "ChildThread1 ...started\n",
      "ChildThread2 ...started\n",
      "ChildThread1 is Alive: True\n",
      "ChildThread2 is Alive: True\n",
      "ChildThread2 ...ended\n",
      "ChildThread1 ...ended\n",
      "ChildThread1 is Alive: False\n",
      "ChildThread2 is Alive: False\n"
     ]
    }
   ],
   "source": [
    "from threading import *\n",
    "import time\n",
    "\n",
    "def display():\n",
    "    print(current_thread().name, \"...started\")\n",
    "    time.sleep(3)\n",
    "    print(current_thread().name, \"...ended\")\n",
    "\n",
    "# Creating threads\n",
    "t1 = Thread(target=display, name=\"ChildThread1\")\n",
    "t2 = Thread(target=display, name=\"ChildThread2\")\n",
    "\n",
    "# Starting threads\n",
    "t1.start()\n",
    "t2.start()\n",
    "\n",
    "# Checking if threads are alive immediately after starting\n",
    "print(t1.name, \"is Alive:\", t1.is_alive())\n",
    "print(t2.name, \"is Alive:\", t2.is_alive())\n",
    "\n",
    "# Wait for some time to let threads complete execution\n",
    "time.sleep(5)\n",
    "\n",
    "# Checking if threads are alive after they should have completed\n",
    "print(t1.name, \"is Alive:\", t1.is_alive())\n",
    "print(t2.name, \"is Alive:\", t2.is_alive())\n"
   ]
  },
  {
   "cell_type": "code",
   "execution_count": 10,
   "metadata": {},
   "outputs": [
    {
     "name": "stdout",
     "output_type": "stream",
     "text": [
      "NumberPrinterThread started printing numbers\n",
      "NumberPrinterThread -> 1\n",
      "LetterPrinterThread started printing letters\n",
      "LetterPrinterThread -> A\n",
      "NumberPrinterThread -> 2\n",
      "LetterPrinterThread -> B\n",
      "NumberPrinterThread is Alive: True\n",
      "LetterPrinterThread is Alive: True\n",
      "NumberPrinterThread -> 3\n",
      "LetterPrinterThread -> C\n",
      "NumberPrinterThread -> 4\n",
      "NumberPrinterThread -> 5\n",
      "LetterPrinterThread -> D\n",
      "NumberPrinterThread finished printing numbers\n",
      "LetterPrinterThread -> E\n",
      "LetterPrinterThread finished printing letters\n",
      "NumberPrinterThread is Alive: False\n",
      "LetterPrinterThread is Alive: False\n",
      "Main thread finished execution\n"
     ]
    }
   ],
   "source": [
    "from threading import Thread\n",
    "import time\n",
    "\n",
    "# Define task functions\n",
    "def print_numbers():\n",
    "    print(f\"{current_thread().name} started printing numbers\")\n",
    "    for i in range(1, 6):\n",
    "        print(f\"{current_thread().name} -> {i}\")\n",
    "        time.sleep(1)\n",
    "    print(f\"{current_thread().name} finished printing numbers\")\n",
    "\n",
    "def print_letters():\n",
    "    print(f\"{current_thread().name} started printing letters\")\n",
    "    for letter in \"ABCDE\":\n",
    "        print(f\"{current_thread().name} -> {letter}\")\n",
    "        time.sleep(1.5)\n",
    "    print(f\"{current_thread().name} finished printing letters\")\n",
    "\n",
    "# Create threads\n",
    "t1 = Thread(target=print_numbers, name=\"NumberPrinterThread\")\n",
    "t2 = Thread(target=print_letters, name=\"LetterPrinterThread\")\n",
    "\n",
    "# Start threads\n",
    "t1.start()\n",
    "t2.start()\n",
    "\n",
    "# Check if threads are alive during execution\n",
    "time.sleep(2)  # Let threads run for a while\n",
    "print(f\"{t1.name} is Alive: {t1.is_alive()}\")\n",
    "print(f\"{t2.name} is Alive: {t2.is_alive()}\")\n",
    "\n",
    "# Wait for both threads to complete\n",
    "t1.join()\n",
    "t2.join()\n",
    "\n",
    "# Check if threads are alive after completion\n",
    "print(f\"{t1.name} is Alive: {t1.is_alive()}\")\n",
    "print(f\"{t2.name} is Alive: {t2.is_alive()}\")\n",
    "print(\"Main thread finished execution\")\n"
   ]
  },
  {
   "cell_type": "code",
   "execution_count": 12,
   "metadata": {},
   "outputs": [
    {
     "name": "stdout",
     "output_type": "stream",
     "text": [
      "Thread-1 started\n",
      "Thread-1 is Alive: True\n",
      "Thread-2 started\n",
      "Thread-2 is Alive: True\n",
      "Thread-3 started\n",
      "Thread-3 is Alive: True\n",
      "Thread-4 started\n",
      "Thread-4 is Alive: True\n",
      "Thread-5 started\n",
      "Thread-5 is Alive: True\n"
     ]
    },
    {
     "ename": "TypeError",
     "evalue": "enumerate() takes 0 positional arguments but 1 was given",
     "output_type": "error",
     "traceback": [
      "\u001b[1;31m---------------------------------------------------------------------------\u001b[0m",
      "\u001b[1;31mTypeError\u001b[0m                                 Traceback (most recent call last)",
      "Cell \u001b[1;32mIn[12], line 24\u001b[0m\n\u001b[0;32m     22\u001b[0m \u001b[38;5;66;03m# Check thread status after 1 second\u001b[39;00m\n\u001b[0;32m     23\u001b[0m time\u001b[38;5;241m.\u001b[39msleep(\u001b[38;5;241m1\u001b[39m)\n\u001b[1;32m---> 24\u001b[0m \u001b[38;5;28;01mfor\u001b[39;00m i, thread \u001b[38;5;129;01min\u001b[39;00m \u001b[38;5;28;43menumerate\u001b[39;49m\u001b[43m(\u001b[49m\u001b[43mthreads\u001b[49m\u001b[43m)\u001b[49m:\n\u001b[0;32m     25\u001b[0m     thread_num \u001b[38;5;241m=\u001b[39m i \u001b[38;5;241m+\u001b[39m \u001b[38;5;241m1\u001b[39m  \u001b[38;5;66;03m# Manual 1-based indexing\u001b[39;00m\n\u001b[0;32m     26\u001b[0m     \u001b[38;5;28mprint\u001b[39m(\u001b[38;5;124mf\u001b[39m\u001b[38;5;124m\"\u001b[39m\u001b[38;5;124mThread-\u001b[39m\u001b[38;5;132;01m{\u001b[39;00mthread_num\u001b[38;5;132;01m}\u001b[39;00m\u001b[38;5;124m is Alive after 1s: \u001b[39m\u001b[38;5;132;01m{\u001b[39;00mthread\u001b[38;5;241m.\u001b[39mis_alive()\u001b[38;5;132;01m}\u001b[39;00m\u001b[38;5;124m\"\u001b[39m)\n",
      "\u001b[1;31mTypeError\u001b[0m: enumerate() takes 0 positional arguments but 1 was given"
     ]
    },
    {
     "name": "stdout",
     "output_type": "stream",
     "text": [
      "Thread-5 finished\n",
      "Thread-3 finished\n",
      "Thread-2 finished\n",
      "Thread-1 finished\n",
      "Thread-4 finished\n"
     ]
    }
   ],
   "source": [
    "from threading import Thread\n",
    "import time\n",
    "\n",
    "# Function to simulate work\n",
    "def worker(number):\n",
    "    print(f\"Thread-{number} started\")\n",
    "    time.sleep(2)  # Simulate some work\n",
    "    print(f\"Thread-{number} finished\")\n",
    "\n",
    "# Create and start multiple threads\n",
    "threads = []\n",
    "for i in range(5):  # Creating 5 threads\n",
    "    thread = Thread(target=worker, args=(i+1,))\n",
    "    threads.append(thread)\n",
    "    thread.start()\n",
    "    print(f\"Thread-{i+1} is Alive: {thread.is_alive()}\")\n",
    "\n",
    "# Wait for all threads to complete\n",
    "time.sleep(1)  # Check threads while they are running\n",
    "for idx, thread in enumerate(threads, start=1):  # Use start=1 for 1-based index\n",
    "    print(f\"Thread-{idx} is Alive after 1s: {thread.is_alive()}\")\n",
    "\n",
    "# Final check after threads should be done\n",
    "time.sleep(3)  # Ensure all threads have completed\n",
    "for idx, thread in enumerate(threads, start=1):\n",
    "    print(f\"Thread-{idx} is Alive after 3s: {thread.is_alive()}\")\n"
   ]
  },
  {
   "cell_type": "code",
   "execution_count": 13,
   "metadata": {},
   "outputs": [
    {
     "name": "stdout",
     "output_type": "stream",
     "text": [
      "Thread-1 started\n",
      "Thread-1 is Alive: True\n",
      "Thread-2 started\n",
      "Thread-2 is Alive: True\n",
      "Thread-3 started\n",
      "Thread-3 is Alive: True\n",
      "Thread-4 started\n",
      "Thread-4 is Alive: True\n",
      "Thread-5 started\n",
      "Thread-5 is Alive: True\n"
     ]
    },
    {
     "ename": "TypeError",
     "evalue": "enumerate() takes 0 positional arguments but 1 was given",
     "output_type": "error",
     "traceback": [
      "\u001b[1;31m---------------------------------------------------------------------------\u001b[0m",
      "\u001b[1;31mTypeError\u001b[0m                                 Traceback (most recent call last)",
      "Cell \u001b[1;32mIn[13], line 24\u001b[0m\n\u001b[0;32m     22\u001b[0m \u001b[38;5;66;03m# Check thread status after 1 second\u001b[39;00m\n\u001b[0;32m     23\u001b[0m time\u001b[38;5;241m.\u001b[39msleep(\u001b[38;5;241m1\u001b[39m)\n\u001b[1;32m---> 24\u001b[0m \u001b[38;5;28;01mfor\u001b[39;00m i, thread \u001b[38;5;129;01min\u001b[39;00m \u001b[38;5;28;43menumerate\u001b[39;49m\u001b[43m(\u001b[49m\u001b[43mthreads\u001b[49m\u001b[43m)\u001b[49m:\n\u001b[0;32m     25\u001b[0m     thread_num \u001b[38;5;241m=\u001b[39m i \u001b[38;5;241m+\u001b[39m \u001b[38;5;241m1\u001b[39m  \u001b[38;5;66;03m# Manual 1-based indexing\u001b[39;00m\n\u001b[0;32m     26\u001b[0m     \u001b[38;5;28mprint\u001b[39m(\u001b[38;5;124mf\u001b[39m\u001b[38;5;124m\"\u001b[39m\u001b[38;5;124mThread-\u001b[39m\u001b[38;5;132;01m{\u001b[39;00mthread_num\u001b[38;5;132;01m}\u001b[39;00m\u001b[38;5;124m is Alive after 1s: \u001b[39m\u001b[38;5;132;01m{\u001b[39;00mthread\u001b[38;5;241m.\u001b[39mis_alive()\u001b[38;5;132;01m}\u001b[39;00m\u001b[38;5;124m\"\u001b[39m)\n",
      "\u001b[1;31mTypeError\u001b[0m: enumerate() takes 0 positional arguments but 1 was given"
     ]
    },
    {
     "name": "stdout",
     "output_type": "stream",
     "text": [
      "Thread-2 finished\n",
      "Thread-3 finished\n",
      "Thread-1 finished\n",
      "Thread-5 finished\n",
      "Thread-4 finished\n"
     ]
    }
   ],
   "source": [
    "from threading import Thread\n",
    "import time\n",
    "\n",
    "def worker(number):\n",
    "    \"\"\"Worker function that simulates work for a given thread number.\"\"\"\n",
    "    print(f\"Thread-{number} started\")\n",
    "    time.sleep(2)  # Simulate some work\n",
    "    print(f\"Thread-{number} finished\")\n",
    "\n",
    "# Create and start multiple threads\n",
    "threads = []\n",
    "num_threads = 5\n",
    "\n",
    "# Create and start threads\n",
    "for i in range(num_threads):\n",
    "    thread_num = i + 1  # 1-based indexing\n",
    "    thread = Thread(target=worker, args=(thread_num,))\n",
    "    threads.append(thread)\n",
    "    thread.start()\n",
    "    print(f\"Thread-{thread_num} is Alive: {thread.is_alive()}\")\n",
    "\n",
    "# Check thread status after 1 second\n",
    "time.sleep(1)\n",
    "for i, thread in enumerate(threads):\n",
    "    thread_num = i + 1  # Manual 1-based indexing\n",
    "    print(f\"Thread-{thread_num} is Alive after 1s: {thread.is_alive()}\")\n",
    "\n",
    "# Wait for all threads to complete\n",
    "for thread in threads:\n",
    "    thread.join()  # Properly wait for each thread to finish\n",
    "\n",
    "# Final status check\n",
    "for i, thread in enumerate(threads):\n",
    "    thread_num = i + 1\n",
    "    print(f\"Thread-{thread_num} is Alive after completion: {thread.is_alive()}\")\n",
    "\n",
    "print(\"All threads have completed execution\")"
   ]
  },
  {
   "cell_type": "markdown",
   "metadata": {},
   "source": [
    "#### `join() method:`\n",
    "If a thread wants to wait until completing some other thread then we should go for join() method."
   ]
  },
  {
   "cell_type": "code",
   "execution_count": 14,
   "metadata": {},
   "outputs": [
    {
     "name": "stdout",
     "output_type": "stream",
     "text": [
      "Seetha Thread\n",
      "Seetha Thread\n",
      "Seetha Thread\n",
      "Seetha Thread\n",
      "Seetha Thread\n",
      "Seetha Thread\n",
      "Seetha Thread\n",
      "Seetha Thread\n",
      "Seetha Thread\n",
      "Seetha Thread\n",
      "Rama Thread\n",
      "Rama Thread\n",
      "Rama Thread\n",
      "Rama Thread\n",
      "Rama Thread\n",
      "Rama Thread\n",
      "Rama Thread\n",
      "Rama Thread\n",
      "Rama Thread\n",
      "Rama Thread\n"
     ]
    }
   ],
   "source": [
    "from threading import *\n",
    "import time\n",
    "def display():\n",
    "    for i in range(10):\n",
    "        print(\"Seetha Thread\")\n",
    "        time.sleep(2)\n",
    "\n",
    "t=Thread(target=display)\n",
    "t.start()\n",
    "t.join()#This Line executed by Main Thread\n",
    "for i in range(10):\n",
    "    print(\"Rama Thread\") "
   ]
  },
  {
   "cell_type": "code",
   "execution_count": 15,
   "metadata": {},
   "outputs": [
    {
     "name": "stdout",
     "output_type": "stream",
     "text": [
      "Seetha Thread\n",
      "Seetha Thread\n",
      "Seetha Thread\n",
      "Seetha Thread\n",
      "Seetha Thread\n",
      "Rama Thread\n",
      "Rama Thread\n",
      "Rama Thread\n",
      "Rama Thread\n",
      "Rama Thread\n",
      "Rama Thread\n",
      "Rama Thread\n",
      "Rama Thread\n",
      "Rama Thread\n",
      "Rama Thread\n"
     ]
    },
    {
     "name": "stdout",
     "output_type": "stream",
     "text": [
      "Seetha Thread\n",
      "Seetha Thread\n",
      "Seetha Thread\n",
      "Seetha Thread\n",
      "Seetha Thread\n"
     ]
    }
   ],
   "source": [
    "from threading import *\n",
    "import time\n",
    "def display():\n",
    "    for i in range(10):\n",
    "        print(\"Seetha Thread\")\n",
    "        time.sleep(2)\n",
    "\n",
    "t=Thread(target=display)\n",
    "t.start()\n",
    "t.join(10)#This Line executed by Main Thread main thread wiat until 10 second only\n",
    "for i in range(10):\n",
    "    print(\"Rama Thread\") "
   ]
  },
  {
   "cell_type": "code",
   "execution_count": null,
   "metadata": {},
   "outputs": [],
   "source": []
  }
 ],
 "metadata": {
  "kernelspec": {
   "display_name": "Python 3",
   "language": "python",
   "name": "python3"
  },
  "language_info": {
   "codemirror_mode": {
    "name": "ipython",
    "version": 3
   },
   "file_extension": ".py",
   "mimetype": "text/x-python",
   "name": "python",
   "nbconvert_exporter": "python",
   "pygments_lexer": "ipython3",
   "version": "3.10.9"
  }
 },
 "nbformat": 4,
 "nbformat_minor": 2
}
