{
 "cells": [
  {
   "cell_type": "code",
   "execution_count": 2,
   "metadata": {},
   "outputs": [],
   "source": [
    "# %pip install mysql-connector-python"
   ]
  },
  {
   "cell_type": "code",
   "execution_count": 4,
   "metadata": {},
   "outputs": [],
   "source": [
    "import mysql.connector\n",
    "\n",
    "# Establish connection\n",
    "con = mysql.connector.connect(\n",
    "    host=\"localhost\",\n",
    "    user=\"root\",\n",
    "    password=\"root\",\n",
    "    database=\"pdbc\"\n",
    ")\n",
    "\n",
    "# Create a cursor object\n",
    "cursor = con.cursor()\n"
   ]
  },
  {
   "cell_type": "code",
   "execution_count": 5,
   "metadata": {},
   "outputs": [],
   "source": [
    "cursor.execute(\"\"\"\n",
    "    CREATE TABLE IF NOT EXISTS employees (\n",
    "        id INT AUTO_INCREMENT PRIMARY KEY,\n",
    "        name VARCHAR(100),\n",
    "        age INT,\n",
    "        department VARCHAR(50)\n",
    "    )\n",
    "\"\"\")\n",
    "con.commit()\n"
   ]
  },
  {
   "cell_type": "code",
   "execution_count": 6,
   "metadata": {},
   "outputs": [
    {
     "name": "stdout",
     "output_type": "stream",
     "text": [
      "3 records inserted.\n"
     ]
    }
   ],
   "source": [
    "sql = \"INSERT INTO employees (name, age, department) VALUES (%s, %s, %s)\"\n",
    "values = [(\"Arjun\", 30, \"HR\"), (\"Drishya\", 28, \"IT\"), (\"Krishna\", 35, \"Finance\")]\n",
    "\n",
    "cursor.executemany(sql, values)\n",
    "con.commit()\n",
    "print(cursor.rowcount, \"records inserted.\")\n"
   ]
  },
  {
   "cell_type": "code",
   "execution_count": 7,
   "metadata": {},
   "outputs": [
    {
     "name": "stdout",
     "output_type": "stream",
     "text": [
      "(1, 'Arjun', 30, 'HR')\n",
      "(2, 'Drishya', 28, 'IT')\n",
      "(3, 'Krishna', 35, 'Finance')\n"
     ]
    }
   ],
   "source": [
    "cursor.execute(\"SELECT * FROM employees\")\n",
    "rows = cursor.fetchall()\n",
    "\n",
    "for row in rows:\n",
    "    print(row)  # Output each row\n"
   ]
  },
  {
   "cell_type": "code",
   "execution_count": 10,
   "metadata": {},
   "outputs": [
    {
     "name": "stdout",
     "output_type": "stream",
     "text": [
      "1 record updated.\n"
     ]
    }
   ],
   "source": [
    "sql = \"UPDATE employees SET department = %s WHERE name = %s\"\n",
    "values = (\"Marketing\", \"Arjun\")\n",
    "\n",
    "cursor.execute(sql, values)\n",
    "con.commit()\n",
    "print(cursor.rowcount, \"record updated.\")\n"
   ]
  },
  {
   "cell_type": "code",
   "execution_count": 11,
   "metadata": {},
   "outputs": [
    {
     "name": "stdout",
     "output_type": "stream",
     "text": [
      "(1, 'Arjun', 30, 'Marketing')\n",
      "(2, 'Drishya', 28, 'IT')\n",
      "(3, 'Krishna', 35, 'Finance')\n"
     ]
    }
   ],
   "source": [
    "cursor.execute(\"SELECT * FROM employees\")\n",
    "rows = cursor.fetchall()\n",
    "\n",
    "for row in rows:\n",
    "    print(row) "
   ]
  },
  {
   "cell_type": "code",
   "execution_count": 13,
   "metadata": {},
   "outputs": [
    {
     "name": "stdout",
     "output_type": "stream",
     "text": [
      "1 record deleted.\n"
     ]
    }
   ],
   "source": [
    "sql = \"DELETE FROM employees WHERE name = %s\"\n",
    "values = (\"Arjun\",)\n",
    "\n",
    "cursor.execute(sql, values)\n",
    "con.commit()\n",
    "print(cursor.rowcount, \"record deleted.\")\n"
   ]
  },
  {
   "cell_type": "code",
   "execution_count": 14,
   "metadata": {},
   "outputs": [
    {
     "name": "stdout",
     "output_type": "stream",
     "text": [
      "(2, 'Drishya', 28, 'IT')\n",
      "(3, 'Krishna', 35, 'Finance')\n"
     ]
    }
   ],
   "source": [
    "cursor.execute(\"SELECT * FROM employees\")\n",
    "rows = cursor.fetchall()\n",
    "\n",
    "for row in rows:\n",
    "    print(row) "
   ]
  },
  {
   "cell_type": "code",
   "execution_count": 15,
   "metadata": {},
   "outputs": [],
   "source": [
    "cursor.close()\n",
    "con.close()\n"
   ]
  },
  {
   "cell_type": "code",
   "execution_count": 17,
   "metadata": {},
   "outputs": [
    {
     "name": "stdout",
     "output_type": "stream",
     "text": [
      "Connected to MySQL database\n",
      "Connected to MySQL database\n",
      "Employee inserted successfully!\n",
      "Connected to MySQL database\n",
      "Employee inserted successfully!\n",
      "Connected to MySQL database\n",
      "Employee inserted successfully!\n",
      "\n",
      "All Employees:\n",
      "Connected to MySQL database\n",
      "(2, 'Drishya', 28, 'IT')\n",
      "(3, 'Krishna', 35, 'Finance')\n",
      "(4, 'Avi', 30, 'HR')\n",
      "(5, 'bhuvi', 28, 'IT')\n",
      "(6, 'Charu', 35, 'Finance')\n",
      "Connected to MySQL database\n",
      "Employee updated successfully!\n",
      "\n",
      "Employees after update:\n",
      "Connected to MySQL database\n",
      "(2, 'Drishya', 28, 'Marketing')\n",
      "(3, 'Krishna', 35, 'Finance')\n",
      "(4, 'Avi', 30, 'HR')\n",
      "(5, 'bhuvi', 28, 'IT')\n",
      "(6, 'Charu', 35, 'Finance')\n",
      "Connected to MySQL database\n",
      "Employee deleted successfully!\n",
      "\n",
      "Employees after deletion:\n",
      "Connected to MySQL database\n",
      "(2, 'Drishya', 28, 'Marketing')\n",
      "(4, 'Avi', 30, 'HR')\n",
      "(5, 'bhuvi', 28, 'IT')\n",
      "(6, 'Charu', 35, 'Finance')\n"
     ]
    }
   ],
   "source": [
    "import mysql.connector\n",
    "from mysql.connector import Error\n",
    "\n",
    "# Database connection function\n",
    "def create_connection():\n",
    "    try:\n",
    "        conn = mysql.connector.connect(\n",
    "            host=\"localhost\",\n",
    "            user=\"root\",\n",
    "            password=\"root\",\n",
    "            database=\"pdbc\"\n",
    "        )\n",
    "        if conn.is_connected():\n",
    "            print(\"Connected to MySQL database\")\n",
    "        return conn\n",
    "    except Error as e:\n",
    "        print(f\"Error: {e}\")\n",
    "        return None\n",
    "\n",
    "# Function to create table\n",
    "def create_table():\n",
    "    conn = create_connection()\n",
    "    if conn:\n",
    "        with conn.cursor() as cursor:\n",
    "            cursor.execute(\"\"\"\n",
    "                CREATE TABLE IF NOT EXISTS employees (\n",
    "                    id INT AUTO_INCREMENT PRIMARY KEY,\n",
    "                    name VARCHAR(100) NOT NULL,\n",
    "                    age INT NOT NULL,\n",
    "                    department VARCHAR(50) NOT NULL\n",
    "                )\n",
    "            \"\"\")\n",
    "        conn.commit()\n",
    "        conn.close()\n",
    "\n",
    "# Function to insert a record\n",
    "def insert_employee(name, age, department):\n",
    "    conn = create_connection()\n",
    "    if conn:\n",
    "        with conn.cursor() as cursor:\n",
    "            sql = \"INSERT INTO employees (name, age, department) VALUES (%s, %s, %s)\"\n",
    "            cursor.execute(sql, (name, age, department))\n",
    "        conn.commit()\n",
    "        print(\"Employee inserted successfully!\")\n",
    "        conn.close()\n",
    "\n",
    "# Function to read all employees\n",
    "def fetch_employees():\n",
    "    conn = create_connection()\n",
    "    if conn:\n",
    "        with conn.cursor() as cursor:\n",
    "            cursor.execute(\"SELECT * FROM employees\")\n",
    "            rows = cursor.fetchall()\n",
    "            for row in rows:\n",
    "                print(row)\n",
    "        conn.close()\n",
    "\n",
    "# Function to update an employee's department\n",
    "def update_employee_department(emp_id, new_department):\n",
    "    conn = create_connection()\n",
    "    if conn:\n",
    "        with conn.cursor() as cursor:\n",
    "            sql = \"UPDATE employees SET department = %s WHERE id = %s\"\n",
    "            cursor.execute(sql, (new_department, emp_id))\n",
    "        conn.commit()\n",
    "        print(\"Employee updated successfully!\")\n",
    "        conn.close()\n",
    "\n",
    "# Function to delete an employee\n",
    "def delete_employee(emp_id):\n",
    "    conn = create_connection()\n",
    "    if conn:\n",
    "        with conn.cursor() as cursor:\n",
    "            sql = \"DELETE FROM employees WHERE id = %s\"\n",
    "            cursor.execute(sql, (emp_id,))\n",
    "        conn.commit()\n",
    "        print(\"Employee deleted successfully!\")\n",
    "        conn.close()\n",
    "\n",
    "# Running the functions\n",
    "if __name__ == \"__main__\":\n",
    "    create_table()\n",
    "    \n",
    "    # Insert sample data\n",
    "    insert_employee(\"Avi\", 30, \"HR\")\n",
    "    insert_employee(\"bhuvi\", 28, \"IT\")\n",
    "    insert_employee(\"Charu\", 35, \"Finance\")\n",
    "\n",
    "    # Fetch and display all employees\n",
    "    print(\"\\nAll Employees:\")\n",
    "    fetch_employees()\n",
    "\n",
    "    # Update an employee's department\n",
    "    update_employee_department(2, \"Marketing\")\n",
    "\n",
    "    # Fetch updated employees\n",
    "    print(\"\\nEmployees after update:\")\n",
    "    fetch_employees()\n",
    "\n",
    "    # Delete an employee\n",
    "    delete_employee(3)\n",
    "\n",
    "    # Fetch final list of employees\n",
    "    print(\"\\nEmployees after deletion:\")\n",
    "    fetch_employees()\n"
   ]
  },
  {
   "cell_type": "code",
   "execution_count": 19,
   "metadata": {},
   "outputs": [],
   "source": [
    "# %pip install pymongo\n"
   ]
  },
  {
   "cell_type": "code",
   "execution_count": 25,
   "metadata": {},
   "outputs": [
    {
     "name": "stdout",
     "output_type": "stream",
     "text": [
      "Connected to MongoDB successfully!\n",
      "Employee inserted successfully!\n",
      "Connected to MongoDB successfully!\n",
      "Multiple employees inserted successfully!\n",
      "\n",
      "All Employees:\n",
      "Connected to MongoDB successfully!\n",
      "{'_id': ObjectId('67a21177e75496d0edb240be'), 'name': 'vinita', 'age': 30, 'department': 'HR'}\n",
      "{'_id': ObjectId('67a21177e75496d0edb240c0'), 'name': 'Varun', 'age': 30, 'department': 'HR'}\n",
      "{'_id': ObjectId('67a21177e75496d0edb240c1'), 'name': 'karna', 'age': 28, 'department': 'IT'}\n",
      "{'_id': ObjectId('67a21177e75496d0edb240c2'), 'name': 'Rohit', 'age': 35, 'department': 'Finance'}\n",
      "Connected to MongoDB successfully!\n",
      "No employee found with that name.\n",
      "\n",
      "Employees after update:\n",
      "Connected to MongoDB successfully!\n",
      "{'_id': ObjectId('67a21177e75496d0edb240be'), 'name': 'vinita', 'age': 30, 'department': 'HR'}\n",
      "{'_id': ObjectId('67a21177e75496d0edb240c0'), 'name': 'Varun', 'age': 30, 'department': 'HR'}\n",
      "{'_id': ObjectId('67a21177e75496d0edb240c1'), 'name': 'karna', 'age': 28, 'department': 'IT'}\n",
      "{'_id': ObjectId('67a21177e75496d0edb240c2'), 'name': 'Rohit', 'age': 35, 'department': 'Finance'}\n",
      "Connected to MongoDB successfully!\n",
      "No employee found with that name.\n",
      "\n",
      "Employees after deletion:\n",
      "Connected to MongoDB successfully!\n",
      "{'_id': ObjectId('67a21177e75496d0edb240be'), 'name': 'vinita', 'age': 30, 'department': 'HR'}\n",
      "{'_id': ObjectId('67a21177e75496d0edb240c0'), 'name': 'Varun', 'age': 30, 'department': 'HR'}\n",
      "{'_id': ObjectId('67a21177e75496d0edb240c1'), 'name': 'karna', 'age': 28, 'department': 'IT'}\n",
      "{'_id': ObjectId('67a21177e75496d0edb240c2'), 'name': 'Rohit', 'age': 35, 'department': 'Finance'}\n"
     ]
    }
   ],
   "source": [
    "from pymongo import MongoClient\n",
    "from pymongo.errors import ConnectionFailure\n",
    "\n",
    "# Function to establish a MongoDB connection\n",
    "def create_connection():\n",
    "    try:\n",
    "        client = MongoClient(\"mongodb://localhost:27017/\")\n",
    "        db = client[\"pdbc\"]\n",
    "        print(\"Connected to MongoDB successfully!\")\n",
    "        return db\n",
    "    except ConnectionFailure as e:\n",
    "        print(f\"Connection error: {e}\")\n",
    "        return None\n",
    "\n",
    "# Function to create a collection (if it doesn’t exist)\n",
    "def create_collection():\n",
    "    db = create_connection()\n",
    "    if db is not None:\n",
    "        db.create_collection(\"employees\", capped=False)  # capped=True limits size\n",
    "        print(\"Collection created (if not already exists).\")\n",
    "\n",
    "# Function to insert a single document\n",
    "def insert_employee(name, age, department):\n",
    "    db = create_connection()\n",
    "    if db is not None:\n",
    "        employees = db[\"employees\"]\n",
    "        emp_data = {\"name\": name, \"age\": age, \"department\": department}\n",
    "        employees.insert_one(emp_data)\n",
    "        print(\"Employee inserted successfully!\")\n",
    "\n",
    "# Function to insert multiple employees\n",
    "def insert_multiple_employees():\n",
    "    db = create_connection()\n",
    "    if db is not None:\n",
    "        employees = db[\"employees\"]\n",
    "        bulk_data = [\n",
    "            {\"name\": \"Varun\", \"age\": 30, \"department\": \"HR\"},\n",
    "            {\"name\": \"karna\", \"age\": 28, \"department\": \"IT\"},\n",
    "            {\"name\": \"Rohit\", \"age\": 35, \"department\": \"Finance\"}\n",
    "        ]\n",
    "        employees.insert_many(bulk_data)\n",
    "        print(\"Multiple employees inserted successfully!\")\n",
    "\n",
    "# Function to read all employees\n",
    "def fetch_employees():\n",
    "    db = create_connection()\n",
    "    if db is not None:\n",
    "        employees = db[\"employees\"]\n",
    "        for emp in employees.find():\n",
    "            print(emp)\n",
    "\n",
    "# Function to update an employee's department\n",
    "def update_employee_department(name, new_department):\n",
    "    db = create_connection()\n",
    "    if db is not None:\n",
    "        employees = db[\"employees\"]\n",
    "        result = employees.update_one({\"name\": name}, {\"$set\": {\"department\": new_department}})\n",
    "        if result.modified_count > 0:\n",
    "            print(\"Employee updated successfully!\")\n",
    "        else:\n",
    "            print(\"No employee found with that name.\")\n",
    "\n",
    "# Function to delete an employee\n",
    "def delete_employee(name):\n",
    "    db = create_connection()\n",
    "    if db is not None:\n",
    "        employees = db[\"employees\"]\n",
    "        result = employees.delete_one({\"name\": name})\n",
    "        if result.deleted_count > 0:\n",
    "            print(\"Employee deleted successfully!\")\n",
    "        else:\n",
    "            print(\"No employee found with that name.\")\n",
    "\n",
    "# Running CRUD operations\n",
    "if __name__ == \"__main__\":\n",
    "    # create_collection()\n",
    "\n",
    "    # Insert sample data\n",
    "    insert_employee(\"vinita\", 30, \"HR\")\n",
    "    insert_multiple_employees()\n",
    "\n",
    "    # Fetch and display all employees\n",
    "    print(\"\\nAll Employees:\")\n",
    "    fetch_employees()\n",
    "\n",
    "    # Update an employee's department\n",
    "    update_employee_department(\"Viswa\", \"Marketing\")\n",
    "\n",
    "    # Fetch updated employees\n",
    "    print(\"\\nEmployees after update:\")\n",
    "    fetch_employees()\n",
    "\n",
    "    # Delete an employee\n",
    "    delete_employee(\"drishya\")\n",
    "\n",
    "    # Fetch final list of employees\n",
    "    print(\"\\nEmployees after deletion:\")\n",
    "    fetch_employees()\n"
   ]
  },
  {
   "cell_type": "code",
   "execution_count": null,
   "metadata": {},
   "outputs": [],
   "source": []
  }
 ],
 "metadata": {
  "kernelspec": {
   "display_name": "Python 3",
   "language": "python",
   "name": "python3"
  },
  "language_info": {
   "codemirror_mode": {
    "name": "ipython",
    "version": 3
   },
   "file_extension": ".py",
   "mimetype": "text/x-python",
   "name": "python",
   "nbconvert_exporter": "python",
   "pygments_lexer": "ipython3",
   "version": "3.10.9"
  }
 },
 "nbformat": 4,
 "nbformat_minor": 2
}
