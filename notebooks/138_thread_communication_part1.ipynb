{
 "cells": [
  {
   "cell_type": "markdown",
   "metadata": {},
   "source": [
    "\n",
    "### **Inter Thread Communication**\n",
    "\n",
    "Sometimes, as part of programming requirements, threads are required to communicate with each other. This concept is known as **interthread communication**.\n",
    "\n",
    "**Example:**  \n",
    "After producing items, the Producer thread has to communicate with the Consumer thread to notify it about new items. Then the Consumer thread can consume those new items.\n",
    "\n",
    "In Python, we can implement interthread communication using the following mechanisms:\n",
    "\n",
    "1. **Event**  \n",
    "2. **Condition**  \n",
    "3. **Queue**  \n",
    "   etc.\n",
    "\n",
    "### **Interthread Communication Using Event Objects**\n",
    "\n",
    "The **Event object** is the simplest communication mechanism between threads. One thread signals an event, and other threads wait for it.  \n",
    "\n",
    "We can create an Event object as follows:\n",
    "\n",
    "```python\n",
    "event = threading.Event()\n",
    "```\n",
    "\n",
    "The Event object manages an **internal flag** that can be set or cleared. Threads can wait until the event is set.\n",
    "\n",
    "### **Methods of the Event Class**\n",
    "\n",
    "1. **`set()`**  \n",
    "   - Sets the internal flag to `True`.  \n",
    "   - Represents a **GREEN** signal for all waiting threads.\n",
    "\n",
    "2. **`clear()`**  \n",
    "   - Sets the internal flag to `False`.  \n",
    "   - Represents a **RED** signal for all waiting threads.\n",
    "\n",
    "3. **`is_set()`**  \n",
    "   - Checks whether the event is set or not.\n",
    "\n",
    "4. **`wait()` | `wait(seconds)`**  \n",
    "   - Causes a thread to wait until the event is set.  \n",
    "   - Optionally, the thread can wait for a specified number of seconds.\n",
    "\n",
    "\n",
    "### **Pseudo Code for Event-Based Communication**\n",
    "\n",
    "```python\n",
    "event = threading.Event()\n",
    "\n",
    "# Consumer thread has to wait until the event is set\n",
    "event.wait()\n",
    "\n",
    "# Producer thread can set or clear the event\n",
    "event.set()\n",
    "event.clear()\n",
    "```\n"
   ]
  },
  {
   "cell_type": "markdown",
   "metadata": {},
   "source": [
    "![img](images/producer-comsumer.png)"
   ]
  },
  {
   "cell_type": "code",
   "execution_count": 2,
   "metadata": {},
   "outputs": [
    {
     "name": "stdout",
     "output_type": "stream",
     "text": [
      "Producer thread comsuming items\n",
      "Producer thread producing items\n"
     ]
    }
   ],
   "source": [
    "from threading import *\n",
    "\n",
    "def producer():\n",
    "    print(\"Producer thread producing items\")\n",
    "\n",
    "def comsumer():\n",
    "    print(\"Producer thread comsuming items\")\n",
    "\n",
    "t1=Thread(target=producer)    \n",
    "t2=Thread(target=comsumer)    \n",
    "\n",
    "t2.start()\n",
    "t1.start()"
   ]
  },
  {
   "cell_type": "code",
   "execution_count": null,
   "metadata": {},
   "outputs": [],
   "source": [
    "from threading import *\n",
    "\n",
    "def producer():\n",
    "    print(\"Producer thread producing items\")\n",
    "\n",
    "def comsumer():\n",
    "    print(\"Consumer thread is waiting for updation\")\n",
    "    e.wait()\n",
    "    print(\"Consumer thread got notification and consuming items\")\n",
    "\n",
    "t1=Thread(target=producer)    \n",
    "t2=Thread(target=comsumer)    \n",
    "\n",
    "event=Event()\n",
    "t1.start()\n",
    "t2.start()"
   ]
  },
  {
   "cell_type": "code",
   "execution_count": 3,
   "metadata": {},
   "outputs": [
    {
     "name": "stdout",
     "output_type": "stream",
     "text": [
      "Consumer thread is waiting for updation\n"
     ]
    },
    {
     "name": "stdout",
     "output_type": "stream",
     "text": [
      "Producer thread producing items:\n",
      "Producer thread giving notification by setting event\n",
      "Consumer thread got notification and consuming items\n"
     ]
    }
   ],
   "source": [
    "from threading import *\n",
    "import time\n",
    "\n",
    "def producer():\n",
    "    time.sleep(5)  # Simulate producing items\n",
    "    print(\"Producer thread producing items:\")\n",
    "    print(\"Producer thread giving notification by setting event\")\n",
    "    event.set()  # Notify the consumer\n",
    "\n",
    "def consumer():\n",
    "    print(\"Consumer thread is waiting for updation\")\n",
    "    event.wait()  # Wait for the producer to signal\n",
    "    print(\"Consumer thread got notification and consuming items\")\n",
    "\n",
    "event = Event()  # Create the Event object\n",
    "t1 = Thread(target=producer)\n",
    "t2 = Thread(target=consumer)\n",
    "t1.start()\n",
    "t2.start()"
   ]
  },
  {
   "cell_type": "code",
   "execution_count": 4,
   "metadata": {},
   "outputs": [
    {
     "name": "stdout",
     "output_type": "stream",
     "text": [
      "Consumer thread is waiting for updation\n"
     ]
    },
    {
     "name": "stdout",
     "output_type": "stream",
     "text": [
      "Producer thread producing items:\n",
      "Producer thread giving notification by setting event\n",
      "Consumer thread got notification and consuming items\n"
     ]
    }
   ],
   "source": [
    "from threading import *\n",
    "import time\n",
    "\n",
    "def producer():\n",
    "    time.sleep(10)  # Simulate producing items\n",
    "    print(\"Producer thread producing items:\")\n",
    "    print(\"Producer thread giving notification by setting event\")\n",
    "    event.set()  # Notify the consumer\n",
    "\n",
    "def consumer():\n",
    "    print(\"Consumer thread is waiting for updation\")\n",
    "    event.wait()  # Wait for the producer to signal\n",
    "    print(\"Consumer thread got notification and consuming items\")\n",
    "\n",
    "event = Event()  # Create the Event object\n",
    "t1 = Thread(target=producer)\n",
    "t2 = Thread(target=consumer)\n",
    "t1.start()\n",
    "t2.start()"
   ]
  },
  {
   "cell_type": "code",
   "execution_count": 5,
   "metadata": {},
   "outputs": [
    {
     "name": "stdout",
     "output_type": "stream",
     "text": [
      "Worker 1 is waiting for the event...\n",
      "Worker 2 is also waiting for the event...\n",
      "Controller is now setting the event...\n",
      "Worker 2 received the event and is now working.\n",
      "Worker 1 received the event and is now working.\n",
      "All threads finished.\n"
     ]
    }
   ],
   "source": [
    "import threading\n",
    "import time\n",
    "\n",
    "def worker1(event):\n",
    "    print(\"Worker 1 is waiting for the event...\")\n",
    "    event.wait()  # Block until the event is set\n",
    "    print(\"Worker 1 received the event and is now working.\")\n",
    "\n",
    "def worker2(event):\n",
    "    print(\"Worker 2 is also waiting for the event...\")\n",
    "    event.wait()  # Block until the event is set\n",
    "    print(\"Worker 2 received the event and is now working.\")\n",
    "\n",
    "def controller(event):\n",
    "    time.sleep(2)  # Simulate some work\n",
    "    print(\"Controller is now setting the event...\")\n",
    "    event.set()  # Release all waiting threads\n",
    "\n",
    "if __name__ == \"__main__\":\n",
    "    event = threading.Event()\n",
    "\n",
    "    thread1 = threading.Thread(target=worker1, args=(event,))\n",
    "    thread2 = threading.Thread(target=worker2, args=(event,))\n",
    "    thread3 = threading.Thread(target=controller, args=(event,))\n",
    "\n",
    "    thread1.start()\n",
    "    thread2.start()\n",
    "    thread3.start()\n",
    "\n",
    "    thread1.join()\n",
    "    thread2.join()\n",
    "    thread3.join()\n",
    "    print(\"All threads finished.\")"
   ]
  },
  {
   "cell_type": "code",
   "execution_count": null,
   "metadata": {},
   "outputs": [],
   "source": [
    "from threading import Thread, Event\n",
    "import time\n",
    "\n",
    "# Function for the Traffic Police thread\n",
    "def trafficpolice():\n",
    "    while True:\n",
    "        time.sleep(10)\n",
    "        print(\"Traffic Police Giving GREEN Signal\")\n",
    "        event.set()  # Set the event to allow vehicles to move\n",
    "        time.sleep(20)\n",
    "        print(\"Traffic Police Giving RED Signal\")\n",
    "        event.clear()  # Clear the event to stop vehicles\n",
    "\n",
    "# Function for the Driver thread\n",
    "def driver():\n",
    "    num = 0\n",
    "    while True:\n",
    "        print(\"Drivers waiting for GREEN Signal\")\n",
    "        event.wait()  # Wait until the signal is green\n",
    "        print(\"Traffic Signal is GREEN...Vehicles can move\")\n",
    "        while event.is_set():  # Continue while the signal is green\n",
    "            num += 1\n",
    "            print(f\"Vehicle No: {num} Crossing the Signal\")\n",
    "            time.sleep(2)\n",
    "        print(\"Traffic Signal is RED...Drivers have to wait\")\n",
    "\n",
    "# Create an Event object\n",
    "event = Event()\n",
    "\n",
    "# Create threads for Traffic Police and Driver\n",
    "t1 = Thread(target=trafficpolice)\n",
    "t2 = Thread(target=driver)\n",
    "\n",
    "# Start the threads\n",
    "t1.start()\n",
    "t2.start()\n",
    "\n",
    "# Note: This program runs indefinitely, simulating a traffic signal.\n"
   ]
  },
  {
   "cell_type": "code",
   "execution_count": null,
   "metadata": {},
   "outputs": [],
   "source": []
  }
 ],
 "metadata": {
  "kernelspec": {
   "display_name": "Python 3",
   "language": "python",
   "name": "python3"
  },
  "language_info": {
   "codemirror_mode": {
    "name": "ipython",
    "version": 3
   },
   "file_extension": ".py",
   "mimetype": "text/x-python",
   "name": "python",
   "nbconvert_exporter": "python",
   "pygments_lexer": "ipython3",
   "version": "3.10.9"
  }
 },
 "nbformat": 4,
 "nbformat_minor": 2
}
