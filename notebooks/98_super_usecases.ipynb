{
 "cells": [
  {
   "cell_type": "code",
   "execution_count": 1,
   "metadata": {},
   "outputs": [],
   "source": [
    "# super() ===> To call parent class members explicitly from child \n",
    "#         ===> In the case of naming conflicts"
   ]
  },
  {
   "cell_type": "code",
   "execution_count": null,
   "metadata": {},
   "outputs": [],
   "source": [
    "# Consider the multiple classes as follows:\n",
    "# A,B,C,D,E,F are the classes\n",
    "# How to call a methods of particular super() class\n"
   ]
  },
  {
   "cell_type": "code",
   "execution_count": 6,
   "metadata": {},
   "outputs": [
    {
     "name": "stdout",
     "output_type": "stream",
     "text": [
      "B class method\n",
      "A class method\n"
     ]
    }
   ],
   "source": [
    "class A:\n",
    "    def m1(self):\n",
    "        print(\"A class method\")\n",
    "\n",
    "class B(A):\n",
    "    def m1(self):\n",
    "        print(\"B class method\")\n",
    "\n",
    "class C(B):\n",
    "    def m1(self):\n",
    "        print(\"C class method\")\n",
    "\n",
    "class D(C):\n",
    "    def m1(self):\n",
    "        print(\"D class method\")\n",
    "\n",
    "class E(D):\n",
    "    def m1(self):\n",
    "        # print(\"E class method\")\n",
    "        # super().m1()\n",
    "        # super().super().m1() # wrong way\n",
    "        B.m1(self)        \n",
    "        A.m1(self)        \n",
    "\n",
    "\n",
    "e = E()\n",
    "e.m1()\n"
   ]
  },
  {
   "cell_type": "markdown",
   "metadata": {},
   "source": [
    "-How to call a method of particular super class:\n",
    " ~~~~~~~~~~~~~~~~~~~~~~~~~~~~~~~~~~~~~~~~~~~~~~~~~~~\n",
    "\n",
    "- 2 ways\n",
    "1. A.m1(self)\n",
    "\n",
    "2. super(C,self).m1()\n",
    "It will call m1() method of super class of C on current object(e).\n"
   ]
  },
  {
   "cell_type": "code",
   "execution_count": 7,
   "metadata": {},
   "outputs": [
    {
     "name": "stdout",
     "output_type": "stream",
     "text": [
      "b m1\n",
      "c m1\n"
     ]
    }
   ],
   "source": [
    "\n",
    "from os import system as sy\n",
    "sy('bash info.sh')\n",
    "\n",
    "class A:\n",
    "    def m1(self):\n",
    "        print('a m1')\n",
    "\n",
    "class B(A):\n",
    "    def m1(self):\n",
    "        print('b m1')\n",
    "\n",
    "class C(B):\n",
    "    def m1(self):\n",
    "        print('c m1')\n",
    "\n",
    "\n",
    "class D(C):\n",
    "    def m1(self):\n",
    "        print('d m1')\n",
    "\n",
    "class E(D):\n",
    "    def m1(self):\n",
    "        B.m1(self)\n",
    "        super(D,self).m1()\n",
    "\n",
    "ee=E()\n",
    "ee.m1 ()\n"
   ]
  },
  {
   "cell_type": "code",
   "execution_count": 4,
   "metadata": {},
   "outputs": [
    {
     "name": "stdout",
     "output_type": "stream",
     "text": [
      "999\n",
      "30\n",
      "10\n",
      "10\n",
      "999\n"
     ]
    }
   ],
   "source": [
    "# super() vs instance variable:\n",
    "# By using super(), we cannot access parent class instance variables.\n",
    "# We should access by using self only\n",
    "\n",
    "class P:\n",
    "    a=10\n",
    "    def __init__(self):\n",
    "        self.b=20\n",
    "\n",
    "class C(P):\n",
    "    a=999\n",
    "    def __init__(self):\n",
    "        super().__init__()\n",
    "        self.b=30\n",
    "    def m1(self):\n",
    "        print(self.a)\n",
    "        print(self.b)\n",
    "\n",
    "        print(super().a)\n",
    "        # print(super().b) AttributeError: 'super' object has no attribute 'b'\n",
    "        print(super().a)\n",
    "        print(self.a)\n",
    "\n",
    "c=C()\n",
    "c.m1()\n"
   ]
  },
  {
   "cell_type": "markdown",
   "metadata": {},
   "source": [
    "- Per object, only one instance varaible is possible with the same name \n"
   ]
  },
  {
   "cell_type": "code",
   "execution_count": 15,
   "metadata": {},
   "outputs": [
    {
     "name": "stdout",
     "output_type": "stream",
     "text": [
      "Parent constructor\n",
      "Parent instance method\n",
      "Parent class method\n",
      "Parent static method\n"
     ]
    }
   ],
   "source": [
    "class P:\n",
    "    def __init__(self):\n",
    "        print(\"Parent constructor\")\n",
    "\n",
    "    def  m1(self):\n",
    "        print(\"Parent instance method\")\n",
    "\n",
    "    @classmethod\n",
    "    def m2(cls):\n",
    "        print(\"Parent class method\")\n",
    "\n",
    "    @staticmethod\n",
    "    def m3():\n",
    "        print(\"Parent static method\")\n",
    "\n",
    "\n",
    "class C(P):\n",
    "    def __init__(self):\n",
    "        super().__init__()   \n",
    "        super().m1()\n",
    "        super().m2()\n",
    "        super().m3()\n",
    "\n",
    "\n",
    "# From child class cunstructor:\n",
    "#     By using super() we can call \n",
    "#     Parent class constrcutor \n",
    "#     Parent instacne method\n",
    "#     Parent class method\n",
    "#     Parent static metohd      \n",
    "\n",
    "c = C()\n"
   ]
  },
  {
   "cell_type": "code",
   "execution_count": 16,
   "metadata": {},
   "outputs": [
    {
     "name": "stdout",
     "output_type": "stream",
     "text": [
      "Parent constructor\n",
      "Parent constructor\n",
      "Parent instance method\n",
      "Parent class method\n",
      "Parent static method\n"
     ]
    }
   ],
   "source": [
    "class P:\n",
    "    def __init__(self):\n",
    "        print(\"Parent constructor\")\n",
    "\n",
    "    def  m1(self):\n",
    "        print(\"Parent instance method\")\n",
    "\n",
    "    @classmethod\n",
    "    def m2(cls):\n",
    "        print(\"Parent class method\")\n",
    "\n",
    "    @staticmethod\n",
    "    def m3():\n",
    "        print(\"Parent static method\")\n",
    "\n",
    "\n",
    "class C(P):\n",
    "    def method(self):\n",
    "        super().__init__()   \n",
    "        super().m1()\n",
    "        super().m2()\n",
    "        super().m3()\n",
    "\n",
    "\n",
    "# From child Instance method::\n",
    "#     By using super() we can call \n",
    "#     Parent class constrcutor \n",
    "#     Parent instacne method\n",
    "#     Parent class method\n",
    "#     Parent static method      \n",
    "\n",
    "c = C()\n",
    "c.method()\n"
   ]
  },
  {
   "cell_type": "code",
   "execution_count": 17,
   "metadata": {},
   "outputs": [
    {
     "name": "stdout",
     "output_type": "stream",
     "text": [
      "Parent constructor\n",
      "Parent class method\n",
      "Parent static method\n"
     ]
    }
   ],
   "source": [
    "class P:\n",
    "    def __init__(self):\n",
    "        print(\"Parent constructor\")\n",
    "\n",
    "    def  m1(self):\n",
    "        print(\"Parent instance method\")\n",
    "\n",
    "    @classmethod\n",
    "    def m2(cls):\n",
    "        print(\"Parent class method\")\n",
    "\n",
    "    @staticmethod\n",
    "    def m3():\n",
    "        print(\"Parent static method\")\n",
    "\n",
    "\n",
    "class C(P):\n",
    "    @classmethod\n",
    "    def method(cls):\n",
    "        # super().__init__()   \n",
    "        # super().m1()\n",
    "        super().m2()\n",
    "        super().m3()\n",
    "\n",
    "# From child `class` class method:\n",
    "# By using super(), we can call:\n",
    "#     parent class method\n",
    "#     Parent static method\n",
    "\n",
    "# By using super() , we cannot call:\n",
    "    # Parent class construtor\n",
    "    # Parent instacne method \n",
    "\n",
    "c = C()\n",
    "c.method()"
   ]
  },
  {
   "cell_type": "code",
   "execution_count": 18,
   "metadata": {},
   "outputs": [
    {
     "name": "stdout",
     "output_type": "stream",
     "text": [
      "Parent constructor\n"
     ]
    },
    {
     "ename": "RuntimeError",
     "evalue": "super(): no arguments",
     "output_type": "error",
     "traceback": [
      "\u001b[1;31m---------------------------------------------------------------------------\u001b[0m",
      "\u001b[1;31mRuntimeError\u001b[0m                              Traceback (most recent call last)",
      "Cell \u001b[1;32mIn[18], line 30\u001b[0m\n\u001b[0;32m     25\u001b[0m \u001b[38;5;66;03m# From child `class` static method:\u001b[39;00m\n\u001b[0;32m     26\u001b[0m \u001b[38;5;66;03m# By using super(), we can't super directly.\u001b[39;00m\n\u001b[0;32m     29\u001b[0m c \u001b[38;5;241m=\u001b[39m C()\n\u001b[1;32m---> 30\u001b[0m \u001b[43mc\u001b[49m\u001b[38;5;241;43m.\u001b[39;49m\u001b[43mmethod\u001b[49m\u001b[43m(\u001b[49m\u001b[43m)\u001b[49m\n",
      "Cell \u001b[1;32mIn[18], line 20\u001b[0m, in \u001b[0;36mC.method\u001b[1;34m()\u001b[0m\n\u001b[0;32m     18\u001b[0m \u001b[38;5;129m@staticmethod\u001b[39m\n\u001b[0;32m     19\u001b[0m \u001b[38;5;28;01mdef\u001b[39;00m \u001b[38;5;21mmethod\u001b[39m():\n\u001b[1;32m---> 20\u001b[0m     \u001b[38;5;28;43msuper\u001b[39;49m\u001b[43m(\u001b[49m\u001b[43m)\u001b[49m\u001b[38;5;241m.\u001b[39m\u001b[38;5;21m__init__\u001b[39m()   \n\u001b[0;32m     21\u001b[0m     \u001b[38;5;28msuper\u001b[39m()\u001b[38;5;241m.\u001b[39mm1()\n\u001b[0;32m     22\u001b[0m     \u001b[38;5;28msuper\u001b[39m()\u001b[38;5;241m.\u001b[39mm2()\n",
      "\u001b[1;31mRuntimeError\u001b[0m: super(): no arguments"
     ]
    }
   ],
   "source": [
    "class P:\n",
    "    def __init__(self):\n",
    "        print(\"Parent constructor\")\n",
    "\n",
    "    def  m1(self):\n",
    "        print(\"Parent instance method\")\n",
    "\n",
    "    @classmethod\n",
    "    def m2(cls):\n",
    "        print(\"Parent class method\")\n",
    "\n",
    "    @staticmethod\n",
    "    def m3():\n",
    "        print(\"Parent static method\")\n",
    "\n",
    "\n",
    "class C(P):\n",
    "    @staticmethod\n",
    "    def method():\n",
    "        super().__init__()   \n",
    "        super().m1()\n",
    "        super().m2()\n",
    "        super().m3()\n",
    "\n",
    "# From child `class` static method:\n",
    "# By using super(), we can't super directly.\n",
    "\n",
    "\n",
    "c = C()\n",
    "c.method()"
   ]
  },
  {
   "cell_type": "code",
   "execution_count": 21,
   "metadata": {},
   "outputs": [
    {
     "name": "stdout",
     "output_type": "stream",
     "text": [
      "Parent constructor\n",
      "Address of object 2464775805648\n",
      "Parent constructor\n",
      "Address of object 2464751977168\n",
      "Parent instance method\n",
      "Address of object 2464751977168\n"
     ]
    }
   ],
   "source": [
    "# From child class \"class method\" hw to call parent class instance method and constrctor direclty:\n",
    "\n",
    "class P:\n",
    "    def __init__(self):\n",
    "        print(\"Parent constructor\")\n",
    "        print(\"Address of object\", id(self))\n",
    "\n",
    "    def  m1(self):\n",
    "        print(\"Parent instance method\")\n",
    "        print(\"Address of object\", id(self))\n",
    "\n",
    "    @classmethod\n",
    "    def m2(cls):\n",
    "        print(\"Parent class method\")\n",
    "\n",
    "    @staticmethod\n",
    "    def m3():\n",
    "        print(\"Parent static method\")\n",
    "\n",
    "\n",
    "class C(P):\n",
    "    @classmethod\n",
    "    def method(cls):\n",
    "        super(C, cls).__init__(cls)   \n",
    "        super(C, cls).m1(cls)\n",
    "\n",
    "\n",
    "# From child `class` static method:\n",
    "# By using super(), we can't super directly.\n",
    "\n",
    "\n",
    "c = C()\n",
    "c.method()"
   ]
  },
  {
   "cell_type": "code",
   "execution_count": 22,
   "metadata": {},
   "outputs": [
    {
     "name": "stdout",
     "output_type": "stream",
     "text": [
      "Parent constructor\n",
      "Address of object 2464776198160\n",
      "Parent static method\n"
     ]
    }
   ],
   "source": [
    "# From child class \"static method\" hw to call parent class static method by using super() indirectly:\n",
    "\n",
    "class P:\n",
    "    def __init__(self):\n",
    "        print(\"Parent constructor\")\n",
    "        print(\"Address of object\", id(self))\n",
    "\n",
    "    def  m1(self):\n",
    "        print(\"Parent instance method\")\n",
    "        print(\"Address of object\", id(self))\n",
    "\n",
    "    @classmethod\n",
    "    def m2(cls):\n",
    "        print(\"Parent class method\")\n",
    "\n",
    "    @staticmethod\n",
    "    def m3():\n",
    "        print(\"Parent static method\")\n",
    "\n",
    "\n",
    "class C(P):\n",
    "    @staticmethod   \n",
    "    def method():\n",
    "        super(C,C).m3()\n",
    "\n",
    "\n",
    "c = C()\n",
    "c.method()"
   ]
  },
  {
   "cell_type": "code",
   "execution_count": null,
   "metadata": {},
   "outputs": [],
   "source": []
  },
  {
   "cell_type": "code",
   "execution_count": null,
   "metadata": {},
   "outputs": [],
   "source": []
  }
 ],
 "metadata": {
  "kernelspec": {
   "display_name": "Python 3",
   "language": "python",
   "name": "python3"
  },
  "language_info": {
   "codemirror_mode": {
    "name": "ipython",
    "version": 3
   },
   "file_extension": ".py",
   "mimetype": "text/x-python",
   "name": "python",
   "nbconvert_exporter": "python",
   "pygments_lexer": "ipython3",
   "version": "3.11.5"
  }
 },
 "nbformat": 4,
 "nbformat_minor": 2
}
