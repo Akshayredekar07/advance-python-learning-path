{
 "cells": [
  {
   "cell_type": "markdown",
   "metadata": {},
   "source": [
    "1. Development Environment/Dev Environment\n",
    "2. Test Environment\n",
    "3. Production/Live Environment\n",
    "\n",
    "*   **Defect:** Deviation in the expected output and original output.\n",
    "*   **Bug:** If the development team accepted the defect.\n",
    "*   **Error:** A mistake in the code written by a programmer. This can manifest in any environment, including live (production). In a live environment, an error can cause application crashes, incorrect data processing, or security vulnerabilities."
   ]
  },
  {
   "cell_type": "markdown",
   "metadata": {},
   "source": [
    "\n",
    "## **Debugging Python Program Using `assert` Keyword**\n",
    "\n",
    "- **Debugging** is the process of identifying and fixing bugs in a program.\n",
    "- A common debugging technique is using `print()` statements. However:\n",
    "  - After fixing the bug, you must remove the extra `print()` statements.\n",
    "  - Leaving unnecessary `print()` statements can cause performance issues and clutter console output.\n",
    "- To overcome this problem, Python provides the `assert` statement.\n",
    "\n",
    "#### **Advantages of `assert` Statements**\n",
    "- `assert` statements can be **enabled or disabled** based on requirements.\n",
    "- They are useful for debugging without the need to remove them after fixing bugs.\n",
    "- Assertions are typically used in **development** or **test environments**, not in **production**.\n",
    "\n",
    "\n",
    "#### **Types of `assert` Statements**\n",
    "There are two types of `assert` statements in Python:\n",
    "\n",
    "#### 1. **Simple Version**\n",
    "```python\n",
    "assert conditional_expression\n",
    "```\n",
    "- If the `conditional_expression` is `True`, the program continues execution.\n",
    "- If `False`, an `AssertionError` is raised, halting the program.\n",
    "\n",
    "\n",
    "#### 2. **Augmented Version**\n",
    "```python\n",
    "assert conditional_expression, message\n",
    "```\n",
    "- Works like the simple version but includes a custom **error message**.\n",
    "- If the `conditional_expression` evaluates to `False`, the program raises:\n",
    "  ```plaintext\n",
    "  AssertionError: message\n",
    "  ```\n"
   ]
  },
  {
   "cell_type": "code",
   "execution_count": 2,
   "metadata": {},
   "outputs": [
    {
     "ename": "AssertionError",
     "evalue": "The square of 3 should be 9",
     "output_type": "error",
     "traceback": [
      "\u001b[1;31m---------------------------------------------------------------------------\u001b[0m",
      "\u001b[1;31mAssertionError\u001b[0m                            Traceback (most recent call last)",
      "Cell \u001b[1;32mIn[2], line 6\u001b[0m\n\u001b[0;32m      3\u001b[0m     \u001b[38;5;28;01mreturn\u001b[39;00m x \u001b[38;5;241m*\u001b[39m\u001b[38;5;241m*\u001b[39m x\n\u001b[0;32m      5\u001b[0m \u001b[38;5;28;01massert\u001b[39;00m squareIt(\u001b[38;5;241m2\u001b[39m) \u001b[38;5;241m==\u001b[39m \u001b[38;5;241m4\u001b[39m, \u001b[38;5;124m\"\u001b[39m\u001b[38;5;124mThe square of 2 should be 4\u001b[39m\u001b[38;5;124m\"\u001b[39m\n\u001b[1;32m----> 6\u001b[0m \u001b[38;5;28;01massert\u001b[39;00m squareIt(\u001b[38;5;241m3\u001b[39m) \u001b[38;5;241m==\u001b[39m \u001b[38;5;241m9\u001b[39m, \u001b[38;5;124m\"\u001b[39m\u001b[38;5;124mThe square of 3 should be 9\u001b[39m\u001b[38;5;124m\"\u001b[39m\n\u001b[0;32m      7\u001b[0m \u001b[38;5;28;01massert\u001b[39;00m squareIt(\u001b[38;5;241m4\u001b[39m) \u001b[38;5;241m==\u001b[39m \u001b[38;5;241m16\u001b[39m, \u001b[38;5;124m\"\u001b[39m\u001b[38;5;124mThe square of 4 should be 16\u001b[39m\u001b[38;5;124m\"\u001b[39m\n\u001b[0;32m      9\u001b[0m \u001b[38;5;28mprint\u001b[39m(squareIt(\u001b[38;5;241m2\u001b[39m))\n",
      "\u001b[1;31mAssertionError\u001b[0m: The square of 3 should be 9"
     ]
    }
   ],
   "source": [
    "### Example 1: With Bug\n",
    "def squareIt(x):\n",
    "    return x ** x\n",
    "\n",
    "assert squareIt(2) == 4, \"The square of 2 should be 4\"\n",
    "assert squareIt(3) == 9, \"The square of 3 should be 9\"\n",
    "assert squareIt(4) == 16, \"The square of 4 should be 16\"\n",
    "\n",
    "print(squareIt(2))\n",
    "print(squareIt(3))\n",
    "print(squareIt(4))"
   ]
  },
  {
   "cell_type": "code",
   "execution_count": 3,
   "metadata": {},
   "outputs": [
    {
     "name": "stdout",
     "output_type": "stream",
     "text": [
      "4\n",
      "9\n",
      "16\n"
     ]
    }
   ],
   "source": [
    "\n",
    "### Example 2: Fixed Code\n",
    "def squareIt(x):\n",
    "    return x * x\n",
    "\n",
    "assert squareIt(2) == 4, \"The square of 2 should be 4\"\n",
    "assert squareIt(3) == 9, \"The square of 3 should be 9\"\n",
    "assert squareIt(4) == 16, \"The square of 4 should be 16\"\n",
    "\n",
    "print(squareIt(2))\n",
    "print(squareIt(3))\n",
    "print(squareIt(4))"
   ]
  },
  {
   "cell_type": "markdown",
   "metadata": {},
   "source": [
    "\n",
    "#### **Exception Handling vs Assertions**\n",
    "| **Aspect**              | **Exception Handling**                                    | **Assertions**                                      |\n",
    "|--------------------------|----------------------------------------------------------|----------------------------------------------------|\n",
    "| **Purpose**              | Handles runtime errors gracefully.                       | Alerts the programmer to fix development-time bugs.|\n",
    "| **Environment**          | Used in all environments (dev, test, production).         | Used only in development and testing.             |\n",
    "| **Focus**                | Catches and manages unexpected errors.                   | Validates program assumptions.                    |\n",
    "```"
   ]
  },
  {
   "cell_type": "code",
   "execution_count": 4,
   "metadata": {},
   "outputs": [
    {
     "name": "stdout",
     "output_type": "stream",
     "text": [
      "120\n"
     ]
    },
    {
     "ename": "AssertionError",
     "evalue": "Input must be a non-negative integer",
     "output_type": "error",
     "traceback": [
      "\u001b[1;31m---------------------------------------------------------------------------\u001b[0m",
      "\u001b[1;31mAssertionError\u001b[0m                            Traceback (most recent call last)",
      "Cell \u001b[1;32mIn[4], line 11\u001b[0m\n\u001b[0;32m      8\u001b[0m \u001b[38;5;28mprint\u001b[39m(factorial(\u001b[38;5;241m5\u001b[39m))  \u001b[38;5;66;03m# Output: 120\u001b[39;00m\n\u001b[0;32m     10\u001b[0m \u001b[38;5;66;03m# Invalid\u001b[39;00m\n\u001b[1;32m---> 11\u001b[0m \u001b[38;5;28mprint\u001b[39m(\u001b[43mfactorial\u001b[49m\u001b[43m(\u001b[49m\u001b[38;5;241;43m-\u001b[39;49m\u001b[38;5;241;43m3\u001b[39;49m\u001b[43m)\u001b[49m)  \u001b[38;5;66;03m# Will raise AssertionError\u001b[39;00m\n",
      "Cell \u001b[1;32mIn[4], line 2\u001b[0m, in \u001b[0;36mfactorial\u001b[1;34m(n)\u001b[0m\n\u001b[0;32m      1\u001b[0m \u001b[38;5;28;01mdef\u001b[39;00m\u001b[38;5;250m \u001b[39m\u001b[38;5;21mfactorial\u001b[39m(n):\n\u001b[1;32m----> 2\u001b[0m     \u001b[38;5;28;01massert\u001b[39;00m n \u001b[38;5;241m>\u001b[39m\u001b[38;5;241m=\u001b[39m \u001b[38;5;241m0\u001b[39m, \u001b[38;5;124m\"\u001b[39m\u001b[38;5;124mInput must be a non-negative integer\u001b[39m\u001b[38;5;124m\"\u001b[39m\n\u001b[0;32m      3\u001b[0m     \u001b[38;5;28;01mif\u001b[39;00m n \u001b[38;5;241m==\u001b[39m \u001b[38;5;241m0\u001b[39m \u001b[38;5;129;01mor\u001b[39;00m n \u001b[38;5;241m==\u001b[39m \u001b[38;5;241m1\u001b[39m:\n\u001b[0;32m      4\u001b[0m         \u001b[38;5;28;01mreturn\u001b[39;00m \u001b[38;5;241m1\u001b[39m\n",
      "\u001b[1;31mAssertionError\u001b[0m: Input must be a non-negative integer"
     ]
    }
   ],
   "source": [
    "def factorial(n):\n",
    "    assert n >= 0, \"Input must be a non-negative integer\"\n",
    "    if n == 0 or n == 1:\n",
    "        return 1\n",
    "    return n * factorial(n - 1)\n",
    "\n",
    "# Valid\n",
    "print(factorial(5))  # Output: 120\n",
    "\n",
    "# Invalid\n",
    "print(factorial(-3))  # Will raise AssertionError\n"
   ]
  },
  {
   "cell_type": "code",
   "execution_count": 5,
   "metadata": {},
   "outputs": [
    {
     "name": "stdout",
     "output_type": "stream",
     "text": [
      "User authenticated\n"
     ]
    },
    {
     "ename": "AssertionError",
     "evalue": "Username cannot be empty",
     "output_type": "error",
     "traceback": [
      "\u001b[1;31m---------------------------------------------------------------------------\u001b[0m",
      "\u001b[1;31mAssertionError\u001b[0m                            Traceback (most recent call last)",
      "Cell \u001b[1;32mIn[5], line 10\u001b[0m\n\u001b[0;32m      7\u001b[0m \u001b[38;5;28mprint\u001b[39m(authenticate(\u001b[38;5;124m\"\u001b[39m\u001b[38;5;124madmin\u001b[39m\u001b[38;5;124m\"\u001b[39m, \u001b[38;5;124m\"\u001b[39m\u001b[38;5;124madmin123\u001b[39m\u001b[38;5;124m\"\u001b[39m))\n\u001b[0;32m      9\u001b[0m \u001b[38;5;66;03m# Invalid\u001b[39;00m\n\u001b[1;32m---> 10\u001b[0m \u001b[38;5;28mprint\u001b[39m(\u001b[43mauthenticate\u001b[49m\u001b[43m(\u001b[49m\u001b[38;5;124;43m\"\u001b[39;49m\u001b[38;5;124;43m\"\u001b[39;49m\u001b[43m,\u001b[49m\u001b[43m \u001b[49m\u001b[38;5;124;43m\"\u001b[39;49m\u001b[38;5;124;43madmin123\u001b[39;49m\u001b[38;5;124;43m\"\u001b[39;49m\u001b[43m)\u001b[49m)   \u001b[38;5;66;03m# Username error\u001b[39;00m\n\u001b[0;32m     11\u001b[0m \u001b[38;5;28mprint\u001b[39m(authenticate(\u001b[38;5;124m\"\u001b[39m\u001b[38;5;124madmin\u001b[39m\u001b[38;5;124m\"\u001b[39m, \u001b[38;5;124m\"\u001b[39m\u001b[38;5;124m\"\u001b[39m))     \u001b[38;5;66;03m# Password error\u001b[39;00m\n",
      "Cell \u001b[1;32mIn[5], line 2\u001b[0m, in \u001b[0;36mauthenticate\u001b[1;34m(user, password)\u001b[0m\n\u001b[0;32m      1\u001b[0m \u001b[38;5;28;01mdef\u001b[39;00m\u001b[38;5;250m \u001b[39m\u001b[38;5;21mauthenticate\u001b[39m(user, password):\n\u001b[1;32m----> 2\u001b[0m     \u001b[38;5;28;01massert\u001b[39;00m user \u001b[38;5;241m!=\u001b[39m \u001b[38;5;124m\"\u001b[39m\u001b[38;5;124m\"\u001b[39m, \u001b[38;5;124m\"\u001b[39m\u001b[38;5;124mUsername cannot be empty\u001b[39m\u001b[38;5;124m\"\u001b[39m\n\u001b[0;32m      3\u001b[0m     \u001b[38;5;28;01massert\u001b[39;00m password \u001b[38;5;241m!=\u001b[39m \u001b[38;5;124m\"\u001b[39m\u001b[38;5;124m\"\u001b[39m, \u001b[38;5;124m\"\u001b[39m\u001b[38;5;124mPassword cannot be empty\u001b[39m\u001b[38;5;124m\"\u001b[39m\n\u001b[0;32m      4\u001b[0m     \u001b[38;5;28;01mreturn\u001b[39;00m \u001b[38;5;124m\"\u001b[39m\u001b[38;5;124mUser authenticated\u001b[39m\u001b[38;5;124m\"\u001b[39m\n",
      "\u001b[1;31mAssertionError\u001b[0m: Username cannot be empty"
     ]
    }
   ],
   "source": [
    "def authenticate(user, password):\n",
    "    assert user != \"\", \"Username cannot be empty\"\n",
    "    assert password != \"\", \"Password cannot be empty\"\n",
    "    return \"User authenticated\"\n",
    "\n",
    "# Valid\n",
    "print(authenticate(\"admin\", \"admin123\"))\n",
    "\n",
    "# Invalid\n",
    "print(authenticate(\"\", \"admin123\"))   # Username error\n",
    "print(authenticate(\"admin\", \"\"))     # Password error\n"
   ]
  },
  {
   "cell_type": "code",
   "execution_count": 6,
   "metadata": {},
   "outputs": [
    {
     "name": "stdout",
     "output_type": "stream",
     "text": [
      "20.0\n"
     ]
    },
    {
     "ename": "AssertionError",
     "evalue": "The list cannot be empty",
     "output_type": "error",
     "traceback": [
      "\u001b[1;31m---------------------------------------------------------------------------\u001b[0m",
      "\u001b[1;31mAssertionError\u001b[0m                            Traceback (most recent call last)",
      "Cell \u001b[1;32mIn[6], line 6\u001b[0m\n\u001b[0;32m      3\u001b[0m     \u001b[38;5;28;01mreturn\u001b[39;00m \u001b[38;5;28msum\u001b[39m(numbers) \u001b[38;5;241m/\u001b[39m \u001b[38;5;28mlen\u001b[39m(numbers)\n\u001b[0;32m      5\u001b[0m \u001b[38;5;28mprint\u001b[39m(average([\u001b[38;5;241m10\u001b[39m, \u001b[38;5;241m20\u001b[39m, \u001b[38;5;241m30\u001b[39m]))  \u001b[38;5;66;03m# Valid\u001b[39;00m\n\u001b[1;32m----> 6\u001b[0m \u001b[38;5;28mprint\u001b[39m(\u001b[43maverage\u001b[49m\u001b[43m(\u001b[49m\u001b[43m[\u001b[49m\u001b[43m]\u001b[49m\u001b[43m)\u001b[49m)           \u001b[38;5;66;03m# Will raise AssertionError\u001b[39;00m\n",
      "Cell \u001b[1;32mIn[6], line 2\u001b[0m, in \u001b[0;36maverage\u001b[1;34m(numbers)\u001b[0m\n\u001b[0;32m      1\u001b[0m \u001b[38;5;28;01mdef\u001b[39;00m\u001b[38;5;250m \u001b[39m\u001b[38;5;21maverage\u001b[39m(numbers):\n\u001b[1;32m----> 2\u001b[0m     \u001b[38;5;28;01massert\u001b[39;00m \u001b[38;5;28mlen\u001b[39m(numbers) \u001b[38;5;241m>\u001b[39m \u001b[38;5;241m0\u001b[39m, \u001b[38;5;124m\"\u001b[39m\u001b[38;5;124mThe list cannot be empty\u001b[39m\u001b[38;5;124m\"\u001b[39m\n\u001b[0;32m      3\u001b[0m     \u001b[38;5;28;01mreturn\u001b[39;00m \u001b[38;5;28msum\u001b[39m(numbers) \u001b[38;5;241m/\u001b[39m \u001b[38;5;28mlen\u001b[39m(numbers)\n",
      "\u001b[1;31mAssertionError\u001b[0m: The list cannot be empty"
     ]
    }
   ],
   "source": [
    "def average(numbers):\n",
    "    assert len(numbers) > 0, \"The list cannot be empty\"\n",
    "    return sum(numbers) / len(numbers)\n",
    "\n",
    "print(average([10, 20, 30]))  # Valid\n",
    "print(average([]))           # Will raise AssertionError\n",
    "\n"
   ]
  },
  {
   "cell_type": "code",
   "execution_count": 7,
   "metadata": {},
   "outputs": [
    {
     "name": "stdout",
     "output_type": "stream",
     "text": [
      "All tests passed!\n",
      "Created account for Alice with balance $100.0\n",
      "New balance after deposit: $150.0\n",
      "New balance after withdrawal: $120.0\n",
      "Error: Insufficient funds: balance is 120.0, tried to withdraw 200.0\n"
     ]
    }
   ],
   "source": [
    "class BankAccount:\n",
    "    def __init__(self, owner: str, initial_balance: float = 0.0):\n",
    "        assert isinstance(owner, str), f\"Owner must be a string, got {type(owner)}\"\n",
    "        assert len(owner.strip()) > 0, \"Owner name cannot be empty\"\n",
    "        assert initial_balance >= 0, f\"Initial balance must be non-negative, got {initial_balance}\"\n",
    "        \n",
    "        self.owner = owner\n",
    "        self.balance = initial_balance\n",
    "    \n",
    "    def deposit(self, amount: float) -> float:\n",
    "        assert amount > 0, f\"Deposit amount must be positive, got {amount}\"\n",
    "        self.balance += amount\n",
    "        return self.balance\n",
    "    \n",
    "    def withdraw(self, amount: float) -> float:\n",
    "        assert amount > 0, f\"Withdrawal amount must be positive, got {amount}\"\n",
    "        assert amount <= self.balance, f\"Insufficient funds: balance is {self.balance}, tried to withdraw {amount}\"\n",
    "        self.balance -= amount\n",
    "        return self.balance\n",
    "\n",
    "def test_bank_account():\n",
    "    # Test account creation\n",
    "    account = BankAccount(\"John Doe\", 1000.0)\n",
    "    assert account.owner == \"John Doe\", \"Owner name not set correctly\"\n",
    "    assert account.balance == 1000.0, \"Initial balance not set correctly\"\n",
    "    \n",
    "    # Test deposit\n",
    "    new_balance = account.deposit(500.0)\n",
    "    assert new_balance == 1500.0, \"Balance after deposit incorrect\"\n",
    "    assert account.balance == 1500.0, \"Account balance not updated after deposit\"\n",
    "    \n",
    "    # Test withdrawal\n",
    "    new_balance = account.withdraw(750.0)\n",
    "    assert new_balance == 750.0, \"Balance after withdrawal incorrect\"\n",
    "    assert account.balance == 750.0, \"Account balance not updated after withdrawal\"\n",
    "    \n",
    "    # Test error cases\n",
    "    try:\n",
    "        BankAccount(\"\", 100.0)  # Empty name\n",
    "        assert False, \"Should have raised AssertionError for empty name\"\n",
    "    except AssertionError:\n",
    "        pass\n",
    "    \n",
    "    try:\n",
    "        account.withdraw(1000.0)  # Insufficient funds\n",
    "        assert False, \"Should have raised AssertionError for insufficient funds\"\n",
    "    except AssertionError:\n",
    "        pass\n",
    "    \n",
    "    try:\n",
    "        account.deposit(-100.0)  # Negative deposit\n",
    "        assert False, \"Should have raised AssertionError for negative deposit\"\n",
    "    except AssertionError:\n",
    "        pass\n",
    "\n",
    "    print(\"All tests passed!\")\n",
    "\n",
    "if __name__ == \"__main__\":\n",
    "    # Run the tests\n",
    "    test_bank_account()\n",
    "    \n",
    "    # Example usage\n",
    "    try:\n",
    "        account = BankAccount(\"Alice\", 100.0)\n",
    "        print(f\"Created account for {account.owner} with balance ${account.balance}\")\n",
    "        \n",
    "        account.deposit(50.0)\n",
    "        print(f\"New balance after deposit: ${account.balance}\")\n",
    "        \n",
    "        account.withdraw(30.0)\n",
    "        print(f\"New balance after withdrawal: ${account.balance}\")\n",
    "        \n",
    "        # This will raise an AssertionError\n",
    "        account.withdraw(200.0)\n",
    "    except AssertionError as e:\n",
    "        print(f\"Error: {e}\")"
   ]
  },
  {
   "cell_type": "code",
   "execution_count": 8,
   "metadata": {},
   "outputs": [
    {
     "ename": "NameError",
     "evalue": "name 'condition' is not defined",
     "output_type": "error",
     "traceback": [
      "\u001b[1;31m---------------------------------------------------------------------------\u001b[0m",
      "\u001b[1;31mNameError\u001b[0m                                 Traceback (most recent call last)",
      "Cell \u001b[1;32mIn[8], line 5\u001b[0m\n\u001b[0;32m      1\u001b[0m \u001b[38;5;66;03m# Assertions are primarily used for debugging and testing.\u001b[39;00m\n\u001b[0;32m      2\u001b[0m \u001b[38;5;66;03m# They check if a condition is true, and if not, raise an AssertionError.\u001b[39;00m\n\u001b[0;32m      3\u001b[0m \n\u001b[0;32m      4\u001b[0m \u001b[38;5;66;03m# Basic syntax:\u001b[39;00m\n\u001b[1;32m----> 5\u001b[0m \u001b[38;5;28;01massert\u001b[39;00m \u001b[43mcondition\u001b[49m, optional_message\n\u001b[0;32m      7\u001b[0m \u001b[38;5;66;03m# Examples:\u001b[39;00m\n\u001b[0;32m      9\u001b[0m \u001b[38;5;28;01mdef\u001b[39;00m\u001b[38;5;250m \u001b[39m\u001b[38;5;21mdivide\u001b[39m(x, y):\n",
      "\u001b[1;31mNameError\u001b[0m: name 'condition' is not defined"
     ]
    }
   ],
   "source": [
    "# Assertions are primarily used for debugging and testing.\n",
    "# They check if a condition is true, and if not, raise an AssertionError.\n",
    "\n",
    "# Basic syntax:\n",
    "assert condition, optional_message\n",
    "\n",
    "# Examples:\n",
    "\n",
    "def divide(x, y):\n",
    "    assert y != 0, \"Cannot divide by zero\"  # Check for division by zero\n",
    "    return x / y\n",
    "\n",
    "result = divide(10, 2)  # This will execute fine\n",
    "print(result)\n",
    "\n",
    "# result = divide(10, 0)  # This will raise an AssertionError with the message \"Cannot divide by zero\"\n",
    "\n",
    "def check_age(age):\n",
    "    assert isinstance(age, int), \"Age must be an integer\" #check type\n",
    "    assert age >= 0, \"Age cannot be negative\"\n",
    "    print(f\"Age is valid: {age}\")\n",
    "\n",
    "check_age(25) #valid\n",
    "#check_age(-5) #invalid\n",
    "#check_age(\"25\") #invalid\n",
    "\n",
    "# Use cases:\n",
    "\n",
    "# 1. Input validation: Check if function arguments meet certain criteria.\n",
    "# 2. Output validation: Check if the function's return value is as expected.\n",
    "# 3. Code invariants: Check conditions that should always be true at certain points in the code.\n",
    "# 4. Testing: Assertions can be used as simple unit tests.\n",
    "\n",
    "# Important notes:\n",
    "\n",
    "# * Assertions are disabled when Python is run with the -O (optimize) flag. So, don't rely on them for production error handling.\n",
    "# * Use exceptions for handling errors that might occur in production.\n",
    "# * Assertions are best used to catch internal errors or assumptions that should always be true during development."
   ]
  },
  {
   "cell_type": "code",
   "execution_count": null,
   "metadata": {},
   "outputs": [],
   "source": []
  }
 ],
 "metadata": {
  "kernelspec": {
   "display_name": "Python 3",
   "language": "python",
   "name": "python3"
  },
  "language_info": {
   "codemirror_mode": {
    "name": "ipython",
    "version": 3
   },
   "file_extension": ".py",
   "mimetype": "text/x-python",
   "name": "python",
   "nbconvert_exporter": "python",
   "pygments_lexer": "ipython3",
   "version": "3.10.9"
  }
 },
 "nbformat": 4,
 "nbformat_minor": 2
}
