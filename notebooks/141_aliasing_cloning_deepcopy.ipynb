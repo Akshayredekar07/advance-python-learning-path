{
 "cells": [
  {
   "cell_type": "code",
   "execution_count": 1,
   "metadata": {},
   "outputs": [],
   "source": [
    "l1 = [10, 20 ,30 ,40]\n",
    "l2 = l1\n",
    "# we are creating duplicatesreference variables(Alising)"
   ]
  },
  {
   "cell_type": "code",
   "execution_count": 2,
   "metadata": {},
   "outputs": [],
   "source": [
    "l1[1]=60"
   ]
  },
  {
   "cell_type": "code",
   "execution_count": 3,
   "metadata": {},
   "outputs": [
    {
     "name": "stdout",
     "output_type": "stream",
     "text": [
      "[10, 60, 30, 40]\n"
     ]
    }
   ],
   "source": [
    "print(l1)"
   ]
  },
  {
   "cell_type": "code",
   "execution_count": 4,
   "metadata": {},
   "outputs": [
    {
     "name": "stdout",
     "output_type": "stream",
     "text": [
      "[10, 60, 30, 40]\n"
     ]
    }
   ],
   "source": [
    "print(l2)"
   ]
  },
  {
   "cell_type": "code",
   "execution_count": 5,
   "metadata": {},
   "outputs": [
    {
     "data": {
      "text/plain": [
       "[55, 60, 30, 40]"
      ]
     },
     "execution_count": 5,
     "metadata": {},
     "output_type": "execute_result"
    }
   ],
   "source": [
    "l1[0]=55\n",
    "l2"
   ]
  },
  {
   "cell_type": "code",
   "execution_count": 6,
   "metadata": {},
   "outputs": [
    {
     "data": {
      "text/plain": [
       "[55, 60, 30, 77]"
      ]
     },
     "execution_count": 6,
     "metadata": {},
     "output_type": "execute_result"
    }
   ],
   "source": [
    "l2[3]=77\n",
    "l1"
   ]
  },
  {
   "cell_type": "markdown",
   "metadata": {},
   "source": [
    "Aliasing: The process of creating duplicate reference variable\n"
   ]
  },
  {
   "cell_type": "markdown",
   "metadata": {},
   "source": [
    "The problem with aliasing is, by using one reference if we perform any change, automatically those changes will be reflected for the remaining references also.\n"
   ]
  },
  {
   "cell_type": "markdown",
   "metadata": {},
   "source": [
    "If we want duplicate object instead of duplicate reference variable then we should go for cloning.\n"
   ]
  },
  {
   "cell_type": "code",
   "execution_count": 7,
   "metadata": {},
   "outputs": [
    {
     "name": "stdout",
     "output_type": "stream",
     "text": [
      "1932765809216\n",
      "1932765827712\n"
     ]
    }
   ],
   "source": [
    "l1 = [10,20,30,40]\n",
    "l2 = l1.copy() # We are creating duplicate list object--->cloning\n",
    "print(id(l1))\n",
    "print(id(l2))"
   ]
  },
  {
   "cell_type": "code",
   "execution_count": 8,
   "metadata": {},
   "outputs": [
    {
     "data": {
      "text/plain": [
       "[10, 20, 30, 40]"
      ]
     },
     "execution_count": 8,
     "metadata": {},
     "output_type": "execute_result"
    }
   ],
   "source": [
    "l1"
   ]
  },
  {
   "cell_type": "code",
   "execution_count": 10,
   "metadata": {},
   "outputs": [],
   "source": [
    "l2[2]=22"
   ]
  },
  {
   "cell_type": "code",
   "execution_count": 11,
   "metadata": {},
   "outputs": [
    {
     "data": {
      "text/plain": [
       "[10, 20, 22, 40]"
      ]
     },
     "execution_count": 11,
     "metadata": {},
     "output_type": "execute_result"
    }
   ],
   "source": [
    "l2"
   ]
  },
  {
   "cell_type": "code",
   "execution_count": 13,
   "metadata": {},
   "outputs": [
    {
     "name": "stdout",
     "output_type": "stream",
     "text": [
      "l1:[7777, 20, [30, 40], 50]\n",
      "l1:[10, 20, [30, 40], 50]\n"
     ]
    }
   ],
   "source": [
    "l1=[10, 20, [30, 40], 50]\n",
    "l2=l1.copy()\n",
    "l1[0]=7777\n",
    "print(f\"l1:{l1}\")\n",
    "print(f\"l1:{l2}\")"
   ]
  },
  {
   "cell_type": "markdown",
   "metadata": {},
   "source": [
    "In shallow cloning, there is no separate copy for nested objects; it refers to the old nested object's reference variable."
   ]
  },
  {
   "cell_type": "code",
   "execution_count": 14,
   "metadata": {},
   "outputs": [
    {
     "name": "stdout",
     "output_type": "stream",
     "text": [
      "l1:[10, 20, [777, 40], 50]\n",
      "l2:[10, 20, [777, 40], 50]\n"
     ]
    }
   ],
   "source": [
    "l1 = [10, 20, [30, 40], 50]\n",
    "l2 = l1.copy()\n",
    "l2[2][0] = 777\n",
    "print(f'l1:{l1}')\n",
    "print(f'l2:{l2}')"
   ]
  },
  {
   "cell_type": "markdown",
   "metadata": {},
   "source": [
    "![](images/cloning.png)"
   ]
  },
  {
   "cell_type": "markdown",
   "metadata": {},
   "source": []
  },
  {
   "cell_type": "markdown",
   "metadata": {},
   "source": []
  },
  {
   "cell_type": "code",
   "execution_count": 15,
   "metadata": {},
   "outputs": [
    {
     "name": "stdout",
     "output_type": "stream",
     "text": [
      "l1:[10, 20, [30, 40], 50]\n",
      "l2:[10, 20, [777, 40], 50]\n"
     ]
    }
   ],
   "source": [
    "import copy\n",
    "\n",
    "l1 = [10, 20, [30, 40], 50]\n",
    "l2 = copy.deepcopy(l1)\n",
    "l2[2][0] = 777\n",
    "print(f'l1:{l1}')\n",
    "print(f'l2:{l2}')"
   ]
  },
  {
   "cell_type": "markdown",
   "metadata": {},
   "source": [
    "`copy.deepcopy()` creates a completely independent copy of `l1`, including all nested objects. This means that `l2` and `l1` are entirely separate in memory.\n",
    "\n",
    "With this deep cloning, the output will be:\n",
    "\n",
    "```\n",
    "l1:[10, 20, [30, 40], 50]\n",
    "l2:[10, 20, [777, 40], 50]\n",
    "```\n",
    "\n",
    "As you can see, modifying `l2` does *not* affect `l1` because they are now independent copies.\n"
   ]
  },
  {
   "cell_type": "markdown",
   "metadata": {},
   "source": [
    "### Complete independance is there in deepcopy"
   ]
  },
  {
   "cell_type": "markdown",
   "metadata": {},
   "source": [
    "if there are does not nested objects then both sare same"
   ]
  },
  {
   "cell_type": "markdown",
   "metadata": {},
   "source": [
    "**Shallow Cloning vs Deep Cloning:**\n",
    "\n",
    "\n",
    "If original object does not contain any nested objects then it is highly recommended to go for -->shallow cloning\n",
    "\n",
    "If original object contains any nested objects then we should go for deep cloning."
   ]
  },
  {
   "cell_type": "code",
   "execution_count": null,
   "metadata": {},
   "outputs": [],
   "source": []
  }
 ],
 "metadata": {
  "kernelspec": {
   "display_name": "Python 3",
   "language": "python",
   "name": "python3"
  },
  "language_info": {
   "codemirror_mode": {
    "name": "ipython",
    "version": 3
   },
   "file_extension": ".py",
   "mimetype": "text/x-python",
   "name": "python",
   "nbconvert_exporter": "python",
   "pygments_lexer": "ipython3",
   "version": "3.10.9"
  }
 },
 "nbformat": 4,
 "nbformat_minor": 2
}
