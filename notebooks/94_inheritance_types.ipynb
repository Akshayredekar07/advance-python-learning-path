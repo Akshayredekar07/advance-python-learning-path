{
 "cells": [
  {
   "cell_type": "markdown",
   "metadata": {},
   "source": [
    "#### Types of Inheritance\n",
    "\n",
    "1. **Single Inheritance**\n",
    "2. **Multi-Level Inheritance**\n",
    "3. **Hierarchical Inheritance**\n",
    "4. **Multiple Inheritance**\n",
    "5. **Hybrid Inheritance**\n",
    "6. **Cyclic Inheritance**"
   ]
  },
  {
   "cell_type": "markdown",
   "metadata": {},
   "source": [
    "![Inheritance](images/Inheritance.png)"
   ]
  },
  {
   "cell_type": "markdown",
   "metadata": {},
   "source": [
    "### Single Inheritance in Python\n",
    "\n",
    "Single inheritance occurs when a class inherits from only one parent class.\n",
    "\n",
    "### Basic Structure:\n",
    "\n",
    "```python\n",
    "class ParentClass:\n",
    "    # Parent class attributes and methods\n",
    "\n",
    "class ChildClass(ParentClass):\n",
    "    # Child class attributes and methods\n",
    "    # Inherits from ParentClass\n",
    "\n",
    "\n",
    "\n",
    "┌─────────────┐\n",
    "│ ParentClass │\n",
    "└─────┬───────┘\n",
    "      │\n",
    "      │ inherits\n",
    "      ▼\n",
    "┌─────────────┐\n",
    "│  ChildClass │\n",
    "└─────────────┘"
   ]
  },
  {
   "cell_type": "code",
   "execution_count": 1,
   "metadata": {},
   "outputs": [
    {
     "name": "stdout",
     "output_type": "stream",
     "text": [
      "Parent method\n",
      "Child method\n"
     ]
    }
   ],
   "source": [
    "class P:\n",
    "    def m1(self):\n",
    "        print(\"Parent method\")\n",
    "\n",
    "class C(P):\n",
    "    def m2(self):\n",
    "        print(\"Child method\")        \n",
    "\n",
    "c=C()\n",
    "c.m1()\n",
    "c.m2()"
   ]
  },
  {
   "cell_type": "markdown",
   "metadata": {},
   "source": [
    "**Multilevel Inheritance**\n",
    "- Multiple levels of inertance\n",
    "- The concept of inheriting from multiple parent classes to a single child class with the concept of one after another"
   ]
  },
  {
   "cell_type": "code",
   "execution_count": 2,
   "metadata": {},
   "outputs": [
    {
     "name": "stdout",
     "output_type": "stream",
     "text": [
      "Parent method\n",
      "Child method\n",
      "Sub child method\n"
     ]
    }
   ],
   "source": [
    "class P:\n",
    "    def m1(self):\n",
    "        print(\"Parent method\")\n",
    "\n",
    "class C(P):\n",
    "    def m2(self):\n",
    "        print(\"Child method\")     \n",
    "\n",
    "class CC(C):\n",
    "    def m3(self):\n",
    "        print(\"Sub child method\")        \n",
    "\n",
    "c=CC()\n",
    "c.m1()\n",
    "c.m2()\n",
    "c.m3()"
   ]
  },
  {
   "cell_type": "markdown",
   "metadata": {},
   "source": [
    "**Heirarchical Inheritance**\n",
    "- One parent multiple child classes\n",
    "- Single Parent\n",
    "- Multiple child classes"
   ]
  },
  {
   "cell_type": "code",
   "execution_count": 3,
   "metadata": {},
   "outputs": [
    {
     "name": "stdout",
     "output_type": "stream",
     "text": [
      "Parent method\n",
      "Child method of C1\n",
      "Parent method\n",
      "Child method of C2\n"
     ]
    }
   ],
   "source": [
    "# Heirarchical Inheritance\n",
    "class P:\n",
    "    def m1(self):\n",
    "        print(\"Parent method\")\n",
    "\n",
    "class C1(P):\n",
    "    def m2(self):\n",
    "        print(\"Child method of C1\") \n",
    "\n",
    "class C2(P):\n",
    "    def m3(self):\n",
    "        print(\"Child method of C2\")        \n",
    "\n",
    "c=C1()\n",
    "c.m1()\n",
    "c.m2()\n",
    "# c.m3()\n",
    "\n",
    "c2 = C2()\n",
    "c2.m1()\n",
    "# c2.m2()\n",
    "c2.m3()"
   ]
  },
  {
   "cell_type": "code",
   "execution_count": 5,
   "metadata": {},
   "outputs": [
    {
     "name": "stdout",
     "output_type": "stream",
     "text": [
      "Dog:\n",
      "Dog is breathing\n",
      "Dog gives birth to live young\n",
      "Labrador is barking\n",
      "\n",
      "Eagle:\n",
      "Eagle is breathing\n",
      "Eagle lays eggs\n",
      "Eagle is hunting from the sky\n"
     ]
    }
   ],
   "source": [
    "class Animal:\n",
    "    def __init__(self, species):\n",
    "        self.species = species\n",
    "\n",
    "    def breathe(self):\n",
    "        return f\"{self.species} is breathing\"\n",
    "\n",
    "class Mammal(Animal):\n",
    "    def __init__(self, species):\n",
    "        super().__init__(species)\n",
    "\n",
    "    def give_birth(self):\n",
    "        return f\"{self.species} gives birth to live young\"\n",
    "\n",
    "class Bird(Animal):\n",
    "    def __init__(self, species):\n",
    "        super().__init__(species)\n",
    "\n",
    "    def lay_eggs(self):\n",
    "        return f\"{self.species} lays eggs\"\n",
    "\n",
    "class Dog(Mammal):\n",
    "    def __init__(self, breed):\n",
    "        super().__init__(\"Dog\")\n",
    "        self.breed = breed\n",
    "\n",
    "    def bark(self):\n",
    "        return f\"{self.breed} is barking\"\n",
    "\n",
    "class Eagle(Bird):\n",
    "    def __init__(self):\n",
    "        super().__init__(\"Eagle\")\n",
    "\n",
    "    def hunt(self):\n",
    "        return \"Eagle is hunting from the sky\"\n",
    "\n",
    "# Create instances\n",
    "dog = Dog(\"Labrador\")\n",
    "eagle = Eagle()\n",
    "\n",
    "# Demonstrate hierarchical inheritance\n",
    "print(\"Dog:\")\n",
    "print(dog.breathe())  # From Animal\n",
    "print(dog.give_birth())  # From Mammal\n",
    "print(dog.bark())  # From Dog\n",
    "\n",
    "print(\"\\nEagle:\")\n",
    "print(eagle.breathe())  # From Animal\n",
    "print(eagle.lay_eggs())  # From Bird\n",
    "print(eagle.hunt())  # From Eagle"
   ]
  },
  {
   "cell_type": "markdown",
   "metadata": {},
   "source": [
    "**Multiple Inheritance**\n",
    "- One child class have multiple parents\n"
   ]
  },
  {
   "cell_type": "code",
   "execution_count": 7,
   "metadata": {},
   "outputs": [
    {
     "name": "stdout",
     "output_type": "stream",
     "text": [
      "Parent1 method\n",
      "Child method\n"
     ]
    }
   ],
   "source": [
    "class P1:\n",
    "    def m1(self):\n",
    "        print(\"Parent1 method\")\n",
    "\n",
    "class P2:\n",
    "    def m1(self):\n",
    "        print(\"Parent2 method\")\n",
    "\n",
    "class C(P1,P2):\n",
    "    # Order is important if both class havingg the same method then first class parent method will get chance\n",
    "    def m2(self):\n",
    "        print(\"Child method\")        \n",
    "\n",
    "c=C()\n",
    "c.m1()\n",
    "c.m2()"
   ]
  },
  {
   "cell_type": "code",
   "execution_count": 4,
   "metadata": {},
   "outputs": [
    {
     "name": "stdout",
     "output_type": "stream",
     "text": [
      "Ball: Moving at 5 m/s and Has a mass of 0.5 kg\n"
     ]
    }
   ],
   "source": [
    "class Motion:\n",
    "    def __init__(self, velocity):\n",
    "        self.velocity = velocity\n",
    "\n",
    "    def move(self):\n",
    "        return f\"Moving at {self.velocity} m/s\"\n",
    "\n",
    "class Mass:\n",
    "    def __init__(self, mass):\n",
    "        self.mass = mass\n",
    "\n",
    "    def describe_mass(self):\n",
    "        return f\"Has a mass of {self.mass} kg\"\n",
    "\n",
    "class Ball(Motion, Mass):\n",
    "    def __init__(self, velocity, mass):\n",
    "        Motion.__init__(self, velocity)\n",
    "        Mass.__init__(self, mass)\n",
    "\n",
    "    def describe(self):\n",
    "        return f\"Ball: {self.move()} and {self.describe_mass()}\"\n",
    "\n",
    "# Create a ball object\n",
    "ball = Ball(5, 0.5)\n",
    "\n",
    "# Describe the ball\n",
    "print(ball.describe())"
   ]
  },
  {
   "cell_type": "markdown",
   "metadata": {},
   "source": [
    "Q. Multiple  inhertiance is not supported in java?\n",
    "\n",
    "- If both parents contains a method with the same name, then which method is avilable to child class?\n",
    "depends on the Parent class declarations order."
   ]
  },
  {
   "cell_type": "markdown",
   "metadata": {},
   "source": [
    "![Hybrid](images/Hybrid.png)"
   ]
  },
  {
   "cell_type": "markdown",
   "metadata": {},
   "source": [
    "### Hybrid Inhertiacne\n",
    "#### MRO Algorithams\n",
    "- In hybrid inhertiance which method get chance to execute by the MRO algorithm"
   ]
  },
  {
   "cell_type": "markdown",
   "metadata": {},
   "source": [
    "Cyclic Inheritance- not required in any programming is not allowd"
   ]
  },
  {
   "cell_type": "code",
   "execution_count": 9,
   "metadata": {},
   "outputs": [],
   "source": [
    "# class A(B):\n",
    "#     pass\n",
    "\n",
    "# class B(A):\n",
    "#     pass\n",
    "\n",
    "# b=B()"
   ]
  }
 ],
 "metadata": {
  "kernelspec": {
   "display_name": "Python 3",
   "language": "python",
   "name": "python3"
  },
  "language_info": {
   "codemirror_mode": {
    "name": "ipython",
    "version": 3
   },
   "file_extension": ".py",
   "mimetype": "text/x-python",
   "name": "python",
   "nbconvert_exporter": "python",
   "pygments_lexer": "ipython3",
   "version": "3.11.5"
  }
 },
 "nbformat": 4,
 "nbformat_minor": 2
}
