{
 "cells": [
  {
   "cell_type": "markdown",
   "id": "684c8f1b-3698-43ac-8736-d152c39664a2",
   "metadata": {},
   "source": [
    "How to delete the static varable of a class:\n",
    "- Anywhere del, classname.variablename\n",
    "- classmethod: de cls.variablename"
   ]
  },
  {
   "cell_type": "code",
   "execution_count": 10,
   "id": "2365db51-3529-4fd5-9707-aafa282d0542",
   "metadata": {},
   "outputs": [
    {
     "name": "stdout",
     "output_type": "stream",
     "text": [
      "{'__module__': '__main__', 'a': 10, 'm1': <classmethod(<function Test.m1 at 0x0000020C72BF4E00>)>, '__dict__': <attribute '__dict__' of 'Test' objects>, '__weakref__': <attribute '__weakref__' of 'Test' objects>, '__doc__': None}\n"
     ]
    }
   ],
   "source": [
    "class Test:\n",
    "    a=10\n",
    "    @classmethod\n",
    "    def m1(cls):\n",
    "        del cls.a\n",
    "\n",
    "\n",
    "print(Test.__dict__)    "
   ]
  },
  {
   "cell_type": "code",
   "execution_count": 11,
   "id": "359fe76b-8025-44a2-9ab1-7cc55527c180",
   "metadata": {},
   "outputs": [
    {
     "name": "stdout",
     "output_type": "stream",
     "text": [
      "{'__module__': '__main__', 'm1': <classmethod(<function Test.m1 at 0x0000020C72BF4E00>)>, '__dict__': <attribute '__dict__' of 'Test' objects>, '__weakref__': <attribute '__weakref__' of 'Test' objects>, '__doc__': None}\n"
     ]
    }
   ],
   "source": [
    "Test.m1()\n",
    "print(Test.__dict__)"
   ]
  },
  {
   "cell_type": "code",
   "execution_count": 12,
   "id": "43f9d828-8c86-4740-a289-3302c0c3a470",
   "metadata": {},
   "outputs": [
    {
     "name": "stdout",
     "output_type": "stream",
     "text": [
      "{'__module__': '__main__', 'a': 10, '__init__': <function Test.__init__ at 0x0000020C72BF6700>, 'm1': <function Test.m1 at 0x0000020C72BF6AC0>, 'm2': <classmethod(<function Test.m2 at 0x0000020C72BF6840>)>, 'm3': <staticmethod(<function Test.m3 at 0x0000020C72BF6A20>)>, '__dict__': <attribute '__dict__' of 'Test' objects>, '__weakref__': <attribute '__weakref__' of 'Test' objects>, '__doc__': None}\n"
     ]
    }
   ],
   "source": [
    "class Test:\n",
    "    a=10\n",
    "    def __init__(self):\n",
    "        Test.b=20\n",
    "        del Test.a\n",
    "        \n",
    "    def m1(self):\n",
    "        Test.c=30\n",
    "        del Test.b\n",
    "\n",
    "    @classmethod\n",
    "    def m2(cls):\n",
    "        cls.d=40\n",
    "\n",
    "    @staticmethod\n",
    "    def m3():\n",
    "        Test.e=50\n",
    "        del Test.d\n",
    "\n",
    "print(Test.__dict__)    "
   ]
  },
  {
   "cell_type": "code",
   "execution_count": 13,
   "id": "1e8892df-d6e2-4c72-8626-ab9b4f1a8bad",
   "metadata": {},
   "outputs": [
    {
     "name": "stdout",
     "output_type": "stream",
     "text": [
      "{'__module__': '__main__', '__init__': <function Test.__init__ at 0x0000020C72BF6700>, 'm1': <function Test.m1 at 0x0000020C72BF6AC0>, 'm2': <classmethod(<function Test.m2 at 0x0000020C72BF6840>)>, 'm3': <staticmethod(<function Test.m3 at 0x0000020C72BF6A20>)>, '__dict__': <attribute '__dict__' of 'Test' objects>, '__weakref__': <attribute '__weakref__' of 'Test' objects>, '__doc__': None, 'b': 20}\n"
     ]
    }
   ],
   "source": [
    "t = Test()\n",
    "print(Test.__dict__)"
   ]
  },
  {
   "cell_type": "code",
   "execution_count": 14,
   "id": "34c1ef81-1479-48c8-9f61-494cdd4d7e33",
   "metadata": {},
   "outputs": [
    {
     "name": "stdout",
     "output_type": "stream",
     "text": [
      "{'__module__': '__main__', '__init__': <function Test.__init__ at 0x0000020C72BF6700>, 'm1': <function Test.m1 at 0x0000020C72BF6AC0>, 'm2': <classmethod(<function Test.m2 at 0x0000020C72BF6840>)>, 'm3': <staticmethod(<function Test.m3 at 0x0000020C72BF6A20>)>, '__dict__': <attribute '__dict__' of 'Test' objects>, '__weakref__': <attribute '__weakref__' of 'Test' objects>, '__doc__': None, 'b': 20, 'd': 40}\n"
     ]
    }
   ],
   "source": [
    "Test.m2()\n",
    "print(Test.__dict__)"
   ]
  },
  {
   "cell_type": "code",
   "execution_count": 15,
   "id": "975cfcad-813b-4b39-9be6-198328c22d95",
   "metadata": {},
   "outputs": [
    {
     "name": "stdout",
     "output_type": "stream",
     "text": [
      "{'__module__': '__main__', '__init__': <function Test.__init__ at 0x0000020C72BF6700>, 'm1': <function Test.m1 at 0x0000020C72BF6AC0>, 'm2': <classmethod(<function Test.m2 at 0x0000020C72BF6840>)>, 'm3': <staticmethod(<function Test.m3 at 0x0000020C72BF6A20>)>, '__dict__': <attribute '__dict__' of 'Test' objects>, '__weakref__': <attribute '__weakref__' of 'Test' objects>, '__doc__': None, 'b': 20, 'f': 60}\n"
     ]
    }
   ],
   "source": [
    "Test.m3()\n",
    "Test.f=60\n",
    "del Test.e\n",
    "print(Test.__dict__)"
   ]
  },
  {
   "cell_type": "code",
   "execution_count": 19,
   "id": "8ee3be20-2a53-46d7-84d8-9378bfd776aa",
   "metadata": {},
   "outputs": [],
   "source": [
    "# del t.f #AttributeError: 'Test' object has no attribute 'f'\n",
    "# print(Test.__dict__)\n",
    "\n",
    "# How to declare the static variable\n",
    "# Within the class driectly\n",
    "# Inside classmethod: cls or classname\n",
    "# Remaining Plcaes: By using classname"
   ]
  },
  {
   "cell_type": "code",
   "execution_count": null,
   "id": "deebef68-2c4d-4771-875e-88def59c56ea",
   "metadata": {},
   "outputs": [],
   "source": [
    "# How to access the static variables\n",
    "# >> classname, cls, self, object reference\n",
    "\n",
    "# How to update static variable\n",
    "# >> clssname or cls\n",
    "\n",
    "# How to delete static variable\n",
    "# >> classname or cls\n",
    "\n",
    "# We cannot update/delete static variable by using self or object reference\n",
    "\n",
    "# Instance variable vs static variable\n",
    "\n",
    "# In the case of instance variable, for every object a seperate copy will be created. \n",
    "# But in case of staic variable, only one copy will be created at class level\n",
    "# and can be shared by every object of that class"
   ]
  },
  {
   "cell_type": "code",
   "execution_count": 20,
   "id": "5cf83e22-9ecf-4b23-a90a-40b4c2b9f292",
   "metadata": {},
   "outputs": [
    {
     "name": "stdout",
     "output_type": "stream",
     "text": [
      "t1:  10 20\n",
      "t2:  10 20\n",
      "t1:  888 999\n",
      "t2:  888 20\n"
     ]
    }
   ],
   "source": [
    "class Test:\n",
    "    x=10\n",
    "    def __init__(self):\n",
    "        self.y=20\n",
    "\n",
    "\n",
    "t1=Test()\n",
    "t2=Test()\n",
    "\n",
    "print('t1: ', t1.x, t1.y)\n",
    "print('t2: ', t2.x, t2.y)\n",
    "\n",
    "Test.x=888\n",
    "t1.y=999\n",
    "\n",
    "print('t1: ', t1.x, t1.y)\n",
    "print('t2: ', t2.x, t2.y)"
   ]
  },
  {
   "cell_type": "code",
   "execution_count": null,
   "id": "a4c49828-fd19-4e28-addc-c77b457482e2",
   "metadata": {},
   "outputs": [],
   "source": []
  },
  {
   "cell_type": "markdown",
   "id": "2983202f-b407-4025-ad88-0630268276ef",
   "metadata": {},
   "source": [
    "### Local Variables\n",
    "- We can declare variables inside a method directly,\n",
    "local variables/method level variables/Temporary variables.\n",
    "- Local variables will be created at the time of method execution and destroyed onces method completes.\n",
    "- Local variables of the method cannot accessed from outside of the method."
   ]
  },
  {
   "cell_type": "code",
   "execution_count": 31,
   "id": "28a7f06a-bbc4-482b-8aaf-a7acb88d9ac8",
   "metadata": {},
   "outputs": [
    {
     "name": "stdout",
     "output_type": "stream",
     "text": [
      "200\n",
      "name 'a' is not defined\n"
     ]
    }
   ],
   "source": [
    "class Test:\n",
    "    def m1(self):\n",
    "        a=10 #local variable\n",
    "        # print(self.a)\n",
    "        # we cannot access the local variables using the self vaiables \n",
    "        # AttributeError: 'Test' object has no attribute 'a'\n",
    "\n",
    "\n",
    "    def m2(self):\n",
    "        b=200\n",
    "        print(b)\n",
    "        try:\n",
    "            print(a)\n",
    "        except Exception as NameError:\n",
    "            print(NameError)\n",
    "\n",
    "t = Test()\n",
    "t.m1()\n",
    "t.m2()"
   ]
  },
  {
   "cell_type": "markdown",
   "id": "7390fe28-5492-4e79-b176-12ef8eebe0ab",
   "metadata": {},
   "source": [
    "```\n",
    "~~~~~~~~~~~~~~~~~~~~~~~~~~~~~~~~~~~~~~~~~~~~~~~~~~~~~~~~~~~~~~~~~~~~~~~~~~\n",
    "Bank application\n",
    "Multiple customers\n",
    "    customer name\n",
    "    balance\n",
    "    deposit()\n",
    "    withdraw()\n",
    "\n",
    "bankname: static\n",
    "```"
   ]
  },
  {
   "cell_type": "code",
   "execution_count": 46,
   "id": "bb7a4357-ae49-4849-a817-94cfc0f21a35",
   "metadata": {},
   "outputs": [
    {
     "name": "stdout",
     "output_type": "stream",
     "text": [
      "Welcome to Durga Bank\n"
     ]
    },
    {
     "name": "stdin",
     "output_type": "stream",
     "text": [
      "Enter your name:  Akshay\n"
     ]
    },
    {
     "name": "stdout",
     "output_type": "stream",
     "text": [
      "d - Deposit\n",
      "w - Withdraw\n",
      "p - CheckBalance\n",
      "e - Exit\n"
     ]
    },
    {
     "name": "stdin",
     "output_type": "stream",
     "text": [
      "Choose an option:  d\n",
      "Enter amount to deposit:  4000\n"
     ]
    },
    {
     "name": "stdout",
     "output_type": "stream",
     "text": [
      "Balance after deposit: 4000.0\n",
      "d - Deposit\n",
      "w - Withdraw\n",
      "p - CheckBalance\n",
      "e - Exit\n"
     ]
    },
    {
     "name": "stdin",
     "output_type": "stream",
     "text": [
      "Choose an option:  c\n"
     ]
    },
    {
     "name": "stdout",
     "output_type": "stream",
     "text": [
      "Your current balance is 4000.0\n",
      "Invalid option. Please try again.\n",
      "d - Deposit\n",
      "w - Withdraw\n",
      "p - CheckBalance\n",
      "e - Exit\n"
     ]
    },
    {
     "name": "stdin",
     "output_type": "stream",
     "text": [
      "Choose an option:  e\n"
     ]
    },
    {
     "name": "stdout",
     "output_type": "stream",
     "text": [
      "Thanks for Banking!\n"
     ]
    },
    {
     "ename": "SystemExit",
     "evalue": "",
     "output_type": "error",
     "traceback": [
      "An exception has occurred, use %tb to see the full traceback.\n",
      "\u001b[1;31mSystemExit\u001b[0m\n"
     ]
    }
   ],
   "source": [
    "import sys\n",
    "\n",
    "class Customer:\n",
    "    bankname = \"Durga Bank\"\n",
    "    \n",
    "    def __init__(self, name, balance=0.0):\n",
    "        self.name = name\n",
    "        self.balance = balance\n",
    "\n",
    "    def deposit(self, amt):\n",
    "        self.balance += amt\n",
    "        print(f\"Balance after deposit: {self.balance}\")\n",
    "\n",
    "    def withdraw(self, amt):\n",
    "        if amt > self.balance:\n",
    "            print(\"Insufficient balance. Please try again!\")\n",
    "            sys.exit()\n",
    "        self.balance -= amt\n",
    "        print(f\"Balance after withdrawal: {self.balance}\")\n",
    "\n",
    "    def checkbalance(self):\n",
    "        print(f\"Your current balance is {self.balance}\")\n",
    "\n",
    "print(f\"Welcome to {Customer.bankname}\")\n",
    "name = input(\"Enter your name: \")\n",
    "c = Customer(name)\n",
    "\n",
    "while True:\n",
    "    print('d - Deposit\\nw - Withdraw\\np - CheckBalance\\ne - Exit')\n",
    "    option = input(\"Choose an option: \").strip().lower()\n",
    "\n",
    "    if option == 'c':\n",
    "        c.checkbalance()       \n",
    "\n",
    "    elif option == 'd':\n",
    "        amount = float(input(\"Enter amount to deposit: \"))\n",
    "        c.deposit(amount)\n",
    "    elif option == 'w':\n",
    "        amount = float(input(\"Enter amount to withdraw: \"))\n",
    "        c.withdraw(amount)\n",
    "    elif option == 'e':\n",
    "        print(\"Thanks for Banking!\")\n",
    "        sys.exit()\n",
    "    else:\n",
    "        print(\"Invalid option. Please try again.\")\n"
   ]
  },
  {
   "cell_type": "code",
   "execution_count": null,
   "id": "75f93201-3a83-4299-9d4e-51b4e0607e59",
   "metadata": {},
   "outputs": [],
   "source": []
  }
 ],
 "metadata": {
  "kernelspec": {
   "display_name": "Python 3 (ipykernel)",
   "language": "python",
   "name": "python3"
  },
  "language_info": {
   "codemirror_mode": {
    "name": "ipython",
    "version": 3
   },
   "file_extension": ".py",
   "mimetype": "text/x-python",
   "name": "python",
   "nbconvert_exporter": "python",
   "pygments_lexer": "ipython3",
   "version": "3.11.5"
  }
 },
 "nbformat": 4,
 "nbformat_minor": 5
}
