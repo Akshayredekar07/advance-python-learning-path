{
 "cells": [
  {
   "cell_type": "markdown",
   "id": "5be53cda-fc95-461a-85bb-bb0cbef84e49",
   "metadata": {},
   "source": [
    "TYPES OF VARIABLES\n",
    "- Instance method :  no decorator\n",
    "- class method    :  @classmethod (mandatory)\n",
    "- static method   :  @staticmethod (optional)\n",
    "\n",
    "*If we are not using any decorator:*\n",
    "\n",
    "- It can be either instance method or static method depending on how we are accessing.\n",
    "\n",
    "- If we are trying to access by using object reference : Instance method\n",
    "\n",
    "- If we are trying to access by using class name : static method\n",
    "\n"
   ]
  },
  {
   "cell_type": "code",
   "execution_count": 5,
   "id": "75df5a70-ce0c-424d-be25-c950dcae6feb",
   "metadata": {},
   "outputs": [
    {
     "name": "stdout",
     "output_type": "stream",
     "text": [
      " a method\n"
     ]
    }
   ],
   "source": [
    "class Test:\n",
    "    def m1():\n",
    "        print(\" a method\")\n",
    "\n",
    "Test.m1()    \n",
    "t = Test()\n",
    "# t.m1() #invalid because for the instance methos take slef as one argument but we are not providing\n",
    "# TypeError: Test.m1() takes 0 positional arguments but 1 was given"
   ]
  },
  {
   "cell_type": "markdown",
   "id": "3d4066ca",
   "metadata": {},
   "source": [
    "- Passing Members of one class to another class \n",
    "- We can access members(variables or methods) of one class inside another class "
   ]
  },
  {
   "cell_type": "code",
   "execution_count": 10,
   "id": "3e6660a3",
   "metadata": {},
   "outputs": [
    {
     "name": "stdout",
     "output_type": "stream",
     "text": [
      "Privious salary:  70000\n",
      "Employee Number 872425, Name durga, and Salary 80000\n"
     ]
    }
   ],
   "source": [
    "class Employee:\n",
    "    def __init__(self, eno, ename, esal):\n",
    "        self.eno = eno\n",
    "        self.ename = ename\n",
    "        self.esal = esal\n",
    "\n",
    "    def display(self):\n",
    "        print(f\"Employee Number {self.eno}, Name {self.ename}, and Salary {self.esal}\")        \n",
    "\n",
    "\n",
    "class Manager:\n",
    "    def update_salary(emp):\n",
    "        print(\"Privious salary: \", emp.esal)\n",
    "        emp.esal = emp.esal+10000\n",
    "        emp.display()\n",
    "\n",
    "\n",
    "e = Employee(872425, \"durga\", 70000)\n",
    "Manager.update_salary(e)        "
   ]
  },
  {
   "cell_type": "code",
   "execution_count": 15,
   "id": "e467ec6b",
   "metadata": {},
   "outputs": [
    {
     "name": "stdout",
     "output_type": "stream",
     "text": [
      "Type of x :  <class '__main__.Employee'>\n",
      "Employee number is  e-101\n",
      "Type of x :  <class '__main__.Customer'>\n",
      "Customer id is  c-101\n"
     ]
    }
   ],
   "source": [
    "class Employee:\n",
    "    def __init__(self, eno):\n",
    "        self.eno = eno\n",
    "\n",
    "class Customer:\n",
    "    def __init__(self, custid):\n",
    "        self.custid = custid\n",
    "\n",
    "class Demo:\n",
    "    def m1(x):\n",
    "        print(\"Type of x : \", type(x))\n",
    "        print(\"Employee number is \", x.eno)\n",
    "\n",
    "    def m2(y):\n",
    "        print(\"Type of x : \", type(y))\n",
    "        print(\"Customer id is \", y.custid)\n",
    "\n",
    "\n",
    "e = Employee('e-101')\n",
    "c = Customer('c-101') \n",
    "\n",
    "Demo.m1(e)\n",
    "# Demo.m1(c)\n",
    "Demo.m2(c)"
   ]
  },
  {
   "cell_type": "code",
   "execution_count": 17,
   "id": "65fce514",
   "metadata": {},
   "outputs": [
    {
     "name": "stdout",
     "output_type": "stream",
     "text": [
      "Type of x :  <class '__main__.Employee'>\n",
      "Employee/customer number is  e-101\n"
     ]
    }
   ],
   "source": [
    "class Employee:\n",
    "    def __init__(self, num):\n",
    "        self.num = num\n",
    "\n",
    "class Customer:\n",
    "    def __init__(self, num):\n",
    "        self.custid = num\n",
    "\n",
    "class Demo:\n",
    "    def m1(x):\n",
    "        print(\"Type of x : \", type(x))\n",
    "        print(\"Employee/customer number is \", x.num)\n",
    "\n",
    "\n",
    "\n",
    "e = Employee('e-101')\n",
    "c = Customer('c-101') \n",
    "\n",
    "Demo.m1(e)\n",
    "# both having the same variables"
   ]
  },
  {
   "cell_type": "code",
   "execution_count": 1,
   "id": "d987e383",
   "metadata": {},
   "outputs": [
    {
     "name": "stdout",
     "output_type": "stream",
     "text": [
      "m1 of test\n",
      "m1 of demo\n"
     ]
    }
   ],
   "source": [
    "class Test:\n",
    "    def m1(x):\n",
    "        print(\"m1 of test\")\n",
    "\n",
    "class Demo:\n",
    "    def m1(x):\n",
    "        print(\"m1 of demo\")\n",
    "\n",
    "\n",
    "Test.m1(2)\n",
    "Demo.m1(7)"
   ]
  },
  {
   "cell_type": "code",
   "execution_count": 2,
   "id": "26f51c9a",
   "metadata": {},
   "outputs": [
    {
     "name": "stdout",
     "output_type": "stream",
     "text": [
      "Type of x  <class '__main__.Test'>\n",
      "Type of y  <class '__main__.Demo'>\n"
     ]
    }
   ],
   "source": [
    "class Sample:\n",
    "    def m1(x,y):\n",
    "        print(\"Type of x \", type(x))        \n",
    "        print(\"Type of y \", type(y))        \n",
    "\n",
    "\n",
    "t = Test()\n",
    "d = Demo()\n",
    "Sample.m1(t, d)"
   ]
  },
  {
   "cell_type": "code",
   "execution_count": 3,
   "id": "19036c95",
   "metadata": {},
   "outputs": [
    {
     "name": "stdout",
     "output_type": "stream",
     "text": [
      "m1 of test\n",
      "m1 of demo\n"
     ]
    }
   ],
   "source": [
    "class Test:\n",
    "    def m1(x):\n",
    "        print(\"m1 of test\")\n",
    "\n",
    "class Demo:\n",
    "    def m1(x):\n",
    "        print(\"m1 of demo\")\n",
    "\n",
    "class Sample:\n",
    "    def m1(x,y):\n",
    "        x.m1()\n",
    "        y.m1()       \n",
    "\n",
    "\n",
    "t = Test()\n",
    "d = Demo()\n",
    "Sample.m1(t, d)"
   ]
  },
  {
   "cell_type": "code",
   "execution_count": 4,
   "id": "55a6e05d",
   "metadata": {},
   "outputs": [
    {
     "name": "stdout",
     "output_type": "stream",
     "text": [
      "m1 of demo\n",
      "m1 of test\n"
     ]
    }
   ],
   "source": [
    "Sample.m1(d, t)"
   ]
  },
  {
   "cell_type": "code",
   "execution_count": 5,
   "id": "8f76aa69",
   "metadata": {},
   "outputs": [
    {
     "name": "stdout",
     "output_type": "stream",
     "text": [
      "m1 of test\n",
      "m1 of test\n"
     ]
    }
   ],
   "source": [
    "Sample.m1(t, t)"
   ]
  },
  {
   "cell_type": "code",
   "execution_count": 7,
   "id": "8ee27151",
   "metadata": {},
   "outputs": [
    {
     "data": {
      "text/plain": [
       "__main__.Test"
      ]
     },
     "execution_count": 7,
     "metadata": {},
     "output_type": "execute_result"
    }
   ],
   "source": [
    "class Test:\n",
    "    pass\n",
    "\n",
    "t1 = Test() \n",
    "t2 = t1\n",
    "t3 = t2\n",
    "t4 = t1\n",
    "type(t4)"
   ]
  },
  {
   "cell_type": "code",
   "execution_count": null,
   "id": "0b7eebd9",
   "metadata": {},
   "outputs": [],
   "source": []
  }
 ],
 "metadata": {
  "kernelspec": {
   "display_name": "Python 3 (ipykernel)",
   "language": "python",
   "name": "python3"
  },
  "language_info": {
   "codemirror_mode": {
    "name": "ipython",
    "version": 3
   },
   "file_extension": ".py",
   "mimetype": "text/x-python",
   "name": "python",
   "nbconvert_exporter": "python",
   "pygments_lexer": "ipython3",
   "version": "3.11.5"
  }
 },
 "nbformat": 4,
 "nbformat_minor": 5
}
