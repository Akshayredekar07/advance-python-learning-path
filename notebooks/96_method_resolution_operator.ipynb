{
 "cells": [
  {
   "cell_type": "markdown",
   "metadata": {},
   "source": [
    "![MRO Example](images/MROEX.png)"
   ]
  },
  {
   "cell_type": "code",
   "execution_count": 1,
   "metadata": {},
   "outputs": [],
   "source": [
    "# import base64\n",
    "# from IPython.display import Image, display\n",
    "# import matplotlib.pyplot as plt\n",
    "\n",
    "# def mm(graph):\n",
    "#     graphbytes = graph.encode(\"utf8\")\n",
    "#     base64_bytes = base64.b64encode(graphbytes)\n",
    "#     base64_string = base64_bytes.decode(\"ascii\")\n",
    "#     display(Image(url=\"https://mermaid.ink/img/\" + base64_string))\n",
    "\n",
    "# mm(\"\"\"\n",
    "# graph TD\n",
    "#     A[User enters a command in the terminal] -->|e.g., touch sunny.txt| B[Shell receives the command]\n",
    "#     B --> C{Shell validates the command syntax}\n",
    "#     C -->|Invalid command| D[Error message displayed in the terminal]\n",
    "#     C -->|Valid command| E[Shell interprets and sends the command to the Kernel]\n",
    "#     E --> F[Kernel executes the command and performs the action]\n",
    "#     F --> G[Terminal displays the prompt, ready for the next command]\n",
    "# \"\"\")"
   ]
  },
  {
   "cell_type": "code",
   "execution_count": 2,
   "metadata": {},
   "outputs": [
    {
     "name": "stdout",
     "output_type": "stream",
     "text": [
      "A class m1 method\n"
     ]
    }
   ],
   "source": [
    "class D:\n",
    "    def m1(self):\n",
    "        print(\"D class m1 method\")\n",
    "class E:\n",
    "    def m1(self):\n",
    "        print(\"E class m1 method\")\n",
    "class F:\n",
    "    def m1(self):\n",
    "        print(\"F class m1 method\")\n",
    "class B(D,E):\n",
    "    def m1(self):\n",
    "        print(\"B class m1 method\")\n",
    "class C(D,E):\n",
    "    def m1(self):\n",
    "        print(\"C class m1 method\")        \n",
    "class A(B,C):\n",
    "    def m1(self):\n",
    "        print(\"A class m1 method\")\n",
    "\n",
    "\n",
    "a = A()\n",
    "a.m1()"
   ]
  },
  {
   "cell_type": "code",
   "execution_count": null,
   "metadata": {},
   "outputs": [],
   "source": []
  },
  {
   "cell_type": "code",
   "execution_count": null,
   "metadata": {},
   "outputs": [],
   "source": []
  }
 ],
 "metadata": {
  "kernelspec": {
   "display_name": "Python 3",
   "language": "python",
   "name": "python3"
  },
  "language_info": {
   "codemirror_mode": {
    "name": "ipython",
    "version": 3
   },
   "file_extension": ".py",
   "mimetype": "text/x-python",
   "name": "python",
   "nbconvert_exporter": "python",
   "pygments_lexer": "ipython3",
   "version": "3.11.5"
  }
 },
 "nbformat": 4,
 "nbformat_minor": 2
}
