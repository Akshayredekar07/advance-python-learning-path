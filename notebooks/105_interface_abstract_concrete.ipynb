{
 "cells": [
  {
   "cell_type": "markdown",
   "metadata": {},
   "source": [
    "**Interfaces In Python:** \n",
    "- In general if an abstract class contains only abstract methods such type of abstract class is considered as interface. "
   ]
  },
  {
   "cell_type": "markdown",
   "metadata": {},
   "source": [
    "Any requirement specification is considered as Interface"
   ]
  },
  {
   "cell_type": "markdown",
   "metadata": {},
   "source": [
    "100% pure abstract class is considered as Interface\n"
   ]
  },
  {
   "cell_type": "code",
   "execution_count": 1,
   "metadata": {},
   "outputs": [
    {
     "name": "stdout",
     "output_type": "stream",
     "text": [
      "getStudentMarks Executing\n",
      "updateStudentMarks Executing\n"
     ]
    }
   ],
   "source": [
    "from abc import *\n",
    "class CollegeAutomationSystem(ABC):\n",
    "    @abstractmethod\n",
    "    def getStudentsMarks(self):\n",
    "        pass\n",
    "    @abstractmethod\n",
    "    def updateStudentMarks(self):\n",
    "        pass\n",
    "\n",
    "class DurgaSoft(CollegeAutomationSystem):\n",
    "    def getStudentsMarks(self):\n",
    "        print(\"getStudentMarks Executing\")\n",
    "    def updateStudentMarks(self):\n",
    "        print(\"updateStudentMarks Executing\")\n",
    "\n",
    "d = DurgaSoft()\n",
    "d.getStudentsMarks()\n",
    "d.updateStudentMarks()"
   ]
  },
  {
   "cell_type": "markdown",
   "metadata": {},
   "source": [
    "### Interface VS Abstract class VS Concrete class\n",
    "\n",
    "**Interface:** \n",
    "- An interface is a blueprint of a class that contains only constants, method signatures, and default methods.\n",
    "- It cannot be instantiated and requires a class to implement all its methods.\n",
    "- It is used to define a contract that must be implemented by any class that implements it.\n",
    "\n",
    "**Abstract class:** \n",
    "- An abstract class is a class that cannot be instantiated and is designed to be inherited by other classes.\n",
    "- It can contain both abstract and concrete methods.\n",
    "- It provides a way to define a blueprint for other classes without the need to implement all the methods.\n",
    "\n",
    "**Concrete class:** \n",
    "- A concrete class is a class that can be instantiated and is a complete implementation of an interface or an abstract class.\n",
    "- It must implement all the methods of the interface or abstract class it inherits from.\n",
    "- It is a fully defined class that can be used to create objects."
   ]
  },
  {
   "cell_type": "code",
   "execution_count": 5,
   "metadata": {},
   "outputs": [
    {
     "name": "stdout",
     "output_type": "stream",
     "text": [
      "Connecting to Oracle Database...\n",
      "Disconnecting to Oracle Database...\n"
     ]
    }
   ],
   "source": [
    "from abc import ABC, abstractmethod\n",
    "\n",
    "class DBInterface(ABC):\n",
    "    @abstractmethod\n",
    "    def connect(self):\n",
    "        pass\n",
    "\n",
    "    @abstractmethod\n",
    "    def disconnect(self):\n",
    "        pass\n",
    "\n",
    "class Oracle(DBInterface):\n",
    "    def connect(self):\n",
    "        print('Connecting to Oracle Database...')\n",
    "\n",
    "    def disconnect(self):\n",
    "        print('Disconnecting to Oracle Database...')\n",
    "\n",
    "class Sybase(DBInterface):\n",
    "    def connect(self):\n",
    "        print('Connecting to Sybase Database...')\n",
    "\n",
    "    def disconnect(self):\n",
    "        print('Disconnecting to Sybase Database...')\n",
    "\n",
    "dbname = input('Enter Database Name:')\n",
    "if dbname == 'Oracle':\n",
    "    x = Oracle()\n",
    "elif dbname == 'Sybase':\n",
    "    x = Sybase()\n",
    "else:\n",
    "    raise ValueError(f\"Unsupported database name: {dbname}\")\n",
    "\n",
    "x.connect()\n",
    "x.disconnect()\n"
   ]
  },
  {
   "cell_type": "markdown",
   "metadata": {},
   "source": [
    "**Note:** The inbuilt function globals()[str] converts the string 'str' into a class name and returns the classname."
   ]
  },
  {
   "cell_type": "code",
   "execution_count": 10,
   "metadata": {},
   "outputs": [
    {
     "name": "stdout",
     "output_type": "stream",
     "text": [
      "Printing from HP Printer...\n",
      "This data has to print...\n",
      "Printing completed on HP Printer...\n"
     ]
    }
   ],
   "source": [
    "from abc import ABC, abstractmethod\n",
    "\n",
    "class Printer(ABC):\n",
    "    @abstractmethod\n",
    "    def printit(self, text):\n",
    "        pass\n",
    "\n",
    "    @abstractmethod\n",
    "    def disconnect(self):\n",
    "        pass\n",
    "\n",
    "class EPSON(Printer):\n",
    "    def printit(self, text):\n",
    "        print('Printing from EPSON Printer...')\n",
    "        print(text)\n",
    "\n",
    "    def disconnect(self):\n",
    "        print('Printing completed on EPSON Printer...')\n",
    "\n",
    "class HP(Printer):\n",
    "    def printit(self, text):\n",
    "        print('Printing from HP Printer...')\n",
    "        print(text)\n",
    "\n",
    "    def disconnect(self):\n",
    "        print('Printing completed on HP Printer...')\n",
    "\n",
    "try:\n",
    "    with open('config.txt', 'r') as f:\n",
    "        pname = f.readline().strip()\n",
    "    classname = globals()[pname]\n",
    "    x = classname()\n",
    "    x.printit('This data has to print...')\n",
    "    x.disconnect()\n",
    "except FileNotFoundError:\n",
    "    print(\"The file 'config.txt' does not exist.\")\n",
    "except KeyError:\n",
    "    print(f\"Unsupported printer name: {pname}\")"
   ]
  },
  {
   "cell_type": "markdown",
   "metadata": {},
   "source": [
    "### Concrete class vs Abstract Class vs Interface: \n",
    "- 1. If we don't know anything about implementation, just the requirement specification, then we should go for an interface. \n",
    "- 2. If we are talking about implementation but not completely, then we should go for an abstract class (partially implemented class). \n",
    "- 3. If we are talking about implementation completely and ready to provide service, then we should go for a concrete class.\n"
   ]
  },
  {
   "cell_type": "code",
   "execution_count": 11,
   "metadata": {},
   "outputs": [
    {
     "name": "stdout",
     "output_type": "stream",
     "text": [
      "m1 method implementation\n",
      "m2 method implementation\n",
      "m3 method implementation\n"
     ]
    }
   ],
   "source": [
    "from abc import ABC, abstractmethod\n",
    "\n",
    "class CollegeAutomation(ABC):\n",
    "    @abstractmethod\n",
    "    def m1(self):\n",
    "        pass\n",
    "\n",
    "    @abstractmethod\n",
    "    def m2(self):\n",
    "        pass\n",
    "\n",
    "    @abstractmethod\n",
    "    def m3(self):\n",
    "        pass\n",
    "\n",
    "class AbsCls(CollegeAutomation):\n",
    "    def m1(self):\n",
    "        print('m1 method implementation')\n",
    "\n",
    "    def m2(self):\n",
    "        print('m2 method implementation')\n",
    "\n",
    "class ConcreteCls(AbsCls):\n",
    "    def m3(self):\n",
    "        print('m3 method implementation')\n",
    "\n",
    "c = ConcreteCls()\n",
    "c.m1()\n",
    "c.m2()\n",
    "c.m3()\n"
   ]
  },
  {
   "cell_type": "code",
   "execution_count": null,
   "metadata": {},
   "outputs": [],
   "source": []
  }
 ],
 "metadata": {
  "kernelspec": {
   "display_name": "Python 3",
   "language": "python",
   "name": "python3"
  },
  "language_info": {
   "codemirror_mode": {
    "name": "ipython",
    "version": 3
   },
   "file_extension": ".py",
   "mimetype": "text/x-python",
   "name": "python",
   "nbconvert_exporter": "python",
   "pygments_lexer": "ipython3",
   "version": "3.11.5"
  }
 },
 "nbformat": 4,
 "nbformat_minor": 2
}
