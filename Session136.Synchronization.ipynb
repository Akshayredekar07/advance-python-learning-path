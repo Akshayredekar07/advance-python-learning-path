{
 "cells": [
  {
   "cell_type": "markdown",
   "metadata": {},
   "source": [
    "###  ___Synchronization___\n",
    "**If multiple threads are operating simultaneously, then there may be a chance of data inconsistency problem (Race Condition). To prevent this problem we should go for Synchronization concept.**\n",
    "\n",
    "**Lock**\n",
    "\n",
    "**ReentrantLock**\n",
    "\n",
    "**Semaphore**\n",
    "\n"
   ]
  },
  {
   "cell_type": "code",
   "execution_count": 2,
   "metadata": {},
   "outputs": [
    {
     "name": "stdout",
     "output_type": "stream",
     "text": [
      "Good morning: Durga\n",
      "Good morning: Durga\n",
      "Good morning: Durga\n",
      "Good morning: Durga\n",
      "Good morning: Durga\n",
      "Good morning: Durga\n",
      "Good morning: Durga\n",
      "Good morning: Durga\n",
      "Good morning: Durga\n",
      "Good morning: Durga\n",
      "Good morning: "
     ]
    },
    {
     "name": "stdout",
     "output_type": "stream",
     "text": [
      "Dhoni\n",
      "Good morning: Dhoni\n",
      "Good morning: Dhoni\n",
      "Good morning: Dhoni\n",
      "Good morning: Dhoni\n",
      "Good morning: Dhoni\n",
      "Good morning: Dhoni\n",
      "Good morning: Dhoni\n",
      "Good morning: Dhoni\n",
      "Good morning: Dhoni\n"
     ]
    }
   ],
   "source": [
    "from threading import *\n",
    "import time\n",
    "def wish(name):\n",
    "    for i in range(10):\n",
    "        print(\"Good morning: \", end='')\n",
    "        time.sleep(2)\n",
    "        print(name)\n",
    "\n",
    "wish(\"Durga\")   \n",
    "\n"
   ]
  },
  {
   "cell_type": "code",
   "execution_count": 3,
   "metadata": {},
   "outputs": [
    {
     "name": "stdout",
     "output_type": "stream",
     "text": [
      "Good morning: "
     ]
    },
    {
     "name": "stdout",
     "output_type": "stream",
     "text": [
      "Dhoni\n",
      "Good morning: Dhoni\n",
      "Good morning: Dhoni\n",
      "Good morning: Dhoni\n",
      "Good morning: Dhoni\n",
      "Good morning: Dhoni\n",
      "Good morning: Dhoni\n",
      "Good morning: Dhoni\n",
      "Good morning: Dhoni\n",
      "Good morning: Dhoni\n"
     ]
    }
   ],
   "source": [
    "from threading import *\n",
    "import time\n",
    "def wish(name):\n",
    "    for i in range(10):\n",
    "        print(\"Good morning: \", end='')\n",
    "        time.sleep(2)\n",
    "        print(name)\n",
    "\n",
    "t=Thread(target=wish, args=(\"Dhoni\", ))\n",
    "t.start()"
   ]
  },
  {
   "cell_type": "code",
   "execution_count": 6,
   "metadata": {},
   "outputs": [
    {
     "name": "stdout",
     "output_type": "stream",
     "text": [
      "Good morning: Good morning: Good morning: Good morning: "
     ]
    },
    {
     "name": "stdout",
     "output_type": "stream",
     "text": [
      "DhoniYuvraj\n",
      "Good morning: \n",
      "Good morning: Virat\n",
      "Good morning: Rohit\n",
      "Good morning: DhoniYuvraj\n",
      "Good morning: \n",
      "Good morning: Rohit\n",
      "Good morning: Virat\n",
      "Good morning: Yuvraj\n",
      "Good morning: Virat\n",
      "Good morning: Rohit\n",
      "Good morning: Dhoni\n",
      "Good morning: YuvrajVirat\n",
      "Good morning: \n",
      "Good morning: Rohit\n",
      "Good morning: Dhoni\n",
      "Good morning: Rohit\n",
      "Good morning: Virat\n",
      "Good morning: Dhoni\n",
      "Good morning: Yuvraj\n",
      "Good morning: YuvrajDhoni\n",
      "Good morning: Virat\n",
      "Good morning: Rohit\n",
      "Good morning: \n",
      "Good morning: DhoniVirat\n",
      "Good morning: \n",
      "Good morning: Yuvraj\n",
      "Good morning: Rohit\n",
      "Good morning: Virat\n",
      "Good morning: Rohit\n",
      "Good morning: Yuvraj\n",
      "Good morning: Dhoni\n",
      "Good morning: Virat\n",
      "Good morning: Yuvraj\n",
      "Good morning: Rohit\n",
      "Good morning: Dhoni\n",
      "Good morning: Virat\n",
      "Yuvraj\n",
      "Dhoni\n",
      "Rohit\n"
     ]
    }
   ],
   "source": [
    "from threading import *\n",
    "import time\n",
    "def wish(name):\n",
    "    for i in range(10):\n",
    "        print(\"Good morning: \", end='')\n",
    "        time.sleep(2)\n",
    "        print(name)\n",
    "\n",
    "t1=Thread(target=wish, args=(\"Dhoni\", ))\n",
    "t2=Thread(target=wish, args=(\"Yuvraj\", ))\n",
    "t3=Thread(target=wish, args=(\"Rohit\", ))\n",
    "t4=Thread(target=wish, args=(\"Virat\", ))\n",
    "t1.start()\n",
    "t2.start()\n",
    "t3.start()\n",
    "t4.start()"
   ]
  },
  {
   "cell_type": "code",
   "execution_count": null,
   "metadata": {},
   "outputs": [],
   "source": []
  },
  {
   "cell_type": "markdown",
   "metadata": {},
   "source": [
    "**Synchronization**\n",
    "\n",
    "We encountered irregular output because both threads were executing the `wish()` function simultaneously, leading to a potential data inconsistency problem (Race Condition). To prevent this issue, we can leverage synchronization.\n",
    "\n",
    "**Synchronization** ensures that only one thread can access a shared resource (like a variable) at a time. This guarantees data consistency and avoids race conditions.\n",
    "\n",
    "**Main Applications of Synchronization:**\n",
    "\n",
    "* Online Reservation Systems\n",
    "* Fund Transfers from Joint Accounts\n",
    "\n",
    "**Synchronization Mechanisms in Python:**\n",
    "\n",
    "* **Lock**\n",
    "* **RLock (Reentrant Lock)**\n",
    "* **Semaphore**\n",
    "\n",
    "**Synchronization Using Lock:**\n",
    "\n",
    "Locks are a fundamental synchronization mechanism in Python's threading module. Here's how to use them:\n",
    "\n",
    "1. **Create a Lock Object:**\n",
    "\n",
    "```python\n",
    "l = Lock()\n",
    "```\n",
    "\n",
    "2. **Acquire the Lock:**\n",
    "\n",
    "A thread can acquire the lock using the `acquire()` method. This prevents other threads from accessing the shared resource until the lock is released.\n",
    "\n",
    "```python\n",
    "l.acquire()\n",
    "```\n",
    "\n",
    "3. **Critical Section:**\n",
    "\n",
    "This is the code block where the shared resource is accessed and modified. Only one thread can be in this section at a time due to the lock.\n",
    "\n",
    "4. **Release the Lock:**\n",
    "\n",
    "A thread relinquishes the lock using the `release()` method, allowing other threads to acquire it.\n",
    "\n",
    "```python\n",
    "l.release()\n",
    "```\n",
    "\n",
    "**Important Note:**\n",
    "\n",
    "* Only the thread that currently holds the lock can call the `release()` method. Attempting to release a lock not owned by the thread will result in a `RuntimeError: release unlocked lock`.\n"
   ]
  },
  {
   "cell_type": "code",
   "execution_count": 7,
   "metadata": {},
   "outputs": [
    {
     "ename": "RuntimeError",
     "evalue": "release unlocked lock",
     "output_type": "error",
     "traceback": [
      "\u001b[1;31m---------------------------------------------------------------------------\u001b[0m",
      "\u001b[1;31mRuntimeError\u001b[0m                              Traceback (most recent call last)",
      "Cell \u001b[1;32mIn[7], line 4\u001b[0m\n\u001b[0;32m      2\u001b[0m l \u001b[38;5;241m=\u001b[39m Lock()\n\u001b[0;32m      3\u001b[0m \u001b[38;5;66;03m# l.acquire() ==>1\u001b[39;00m\n\u001b[1;32m----> 4\u001b[0m \u001b[43ml\u001b[49m\u001b[38;5;241;43m.\u001b[39;49m\u001b[43mrelease\u001b[49m\u001b[43m(\u001b[49m\u001b[43m)\u001b[49m\n",
      "\u001b[1;31mRuntimeError\u001b[0m: release unlocked lock"
     ]
    }
   ],
   "source": [
    "from threading import *\n",
    "l = Lock()\n",
    "# l.acquire() ==>1\n",
    "l.release()"
   ]
  },
  {
   "cell_type": "code",
   "execution_count": 10,
   "metadata": {},
   "outputs": [
    {
     "name": "stdout",
     "output_type": "stream",
     "text": [
      "Good Evening:"
     ]
    },
    {
     "name": "stdout",
     "output_type": "stream",
     "text": [
      "Dhoni\n",
      "Good Evening:Dhoni\n",
      "Good Evening:Dhoni\n",
      "Good Evening:Dhoni\n",
      "Good Evening:Dhoni\n",
      "Good Evening:Dhoni\n",
      "Good Evening:Dhoni\n",
      "Good Evening:Dhoni\n",
      "Good Evening:Dhoni\n",
      "Good Evening:Dhoni\n",
      "Good Evening:Yuvraj\n",
      "Good Evening:Yuvraj\n",
      "Good Evening:Yuvraj\n",
      "Good Evening:Yuvraj\n",
      "Good Evening:Yuvraj\n",
      "Good Evening:Yuvraj\n",
      "Good Evening:Yuvraj\n",
      "Good Evening:Yuvraj\n",
      "Good Evening:Yuvraj\n",
      "Good Evening:Yuvraj\n",
      "Good Evening:Kohli\n",
      "Good Evening:Kohli\n",
      "Good Evening:Kohli\n",
      "Good Evening:Kohli\n",
      "Good Evening:Kohli\n",
      "Good Evening:Kohli\n",
      "Good Evening:Kohli\n",
      "Good Evening:Kohli\n",
      "Good Evening:Kohli\n",
      "Good Evening:Kohli\n"
     ]
    }
   ],
   "source": [
    "from threading import *\n",
    "import time\n",
    "\n",
    "l = Lock()\n",
    "\n",
    "def wish(name):\n",
    "    l.acquire()\n",
    "    try:\n",
    "        for i in range(10):\n",
    "            print(\"Good Evening:\", end='')\n",
    "            time.sleep(2)\n",
    "            print(name)\n",
    "    finally:\n",
    "        l.release()\n",
    "\n",
    "t1 = Thread(target=wish, args=(\"Dhoni\",), name=\"Dhoni thread\")\n",
    "t2 = Thread(target=wish, args=(\"Yuvraj\",))\n",
    "t3 = Thread(target=wish, args=(\"Kohli\",))\n",
    "\n",
    "t1.start()\n",
    "t2.start()\n",
    "t3.start()"
   ]
  },
  {
   "cell_type": "markdown",
   "metadata": {},
   "source": [
    "In the above program, at a time only one thread is allowed to execute the wish() method, and hence we\n",
    "will get regular output.\n",
    "\n",
    "**Problem with Simple Lock:**\n",
    "\n",
    "The standard Lock object does not care which thread is currently holding that lock. If the lock is\n",
    "held and any thread attempts to acquire the lock, then it will be blocked, even if the same thread is\n",
    "already holding that lock.\n"
   ]
  },
  {
   "cell_type": "code",
   "execution_count": 1,
   "metadata": {},
   "outputs": [
    {
     "name": "stdout",
     "output_type": "stream",
     "text": [
      "Main Thread trying to acquire Lock\n",
      "Main Thread trying to acquire Lock Again\n"
     ]
    }
   ],
   "source": [
    "from threading import *\n",
    "import time\n",
    "l=Lock()\n",
    "print(\"Main Thread trying to acquire Lock\")\n",
    "l.acquire()\n",
    "print(\"Main Thread trying to acquire Lock Again\")\n",
    "l.acquire() \n",
    "# time.sleeep(2)\n",
    "l.release()"
   ]
  },
  {
   "cell_type": "code",
   "execution_count": null,
   "metadata": {},
   "outputs": [],
   "source": []
  }
 ],
 "metadata": {
  "kernelspec": {
   "display_name": "Python 3",
   "language": "python",
   "name": "python3"
  },
  "language_info": {
   "codemirror_mode": {
    "name": "ipython",
    "version": 3
   },
   "file_extension": ".py",
   "mimetype": "text/x-python",
   "name": "python",
   "nbconvert_exporter": "python",
   "pygments_lexer": "ipython3",
   "version": "3.12.7"
  }
 },
 "nbformat": 4,
 "nbformat_minor": 2
}
