{
 "cells": [
  {
   "cell_type": "markdown",
   "metadata": {},
   "source": [
    "**Definition**\n",
    "\n",
    "- A generator is a function responsible for generating a sequence of values.\n",
    "- It is defined like a normal function but uses the **`yield`** keyword instead of `return` to produce a value and pause execution.\n",
    "\n",
    "\n",
    "**Key Points**\n",
    "\n",
    "1. **Generator Function**:\n",
    "   - Generates values one at a time when iterated.\n",
    "   - Retains its state between each `yield`.\n",
    "2. **Advantages**:\n",
    "   - Easy to use compared to class-level iterators.\n",
    "   - Memory-efficient as values are generated on demand.\n",
    "   - Suitable for working with large datasets or files.\n",
    "   - Great for web scraping and crawling.\n",
    "\n",
    "\n",
    "\n",
    "#### **Memory Utilization Comparison**\n",
    "\n",
    "#### Using List Comprehension\n",
    "```python\n",
    "l = [x * x for x in range(10000000000000000)]\n",
    "print(l[0])  # Raises MemoryError\n",
    "```\n",
    "\n",
    "#### Using Generator Expression\n",
    "```python\n",
    "g = (x * x for x in range(10000000000000000))\n",
    "print(next(g))  # Output: 0\n",
    "```\n",
    "**Advantage**: Generators do not require storing all values in memory, avoiding `MemoryError`.\n",
    "\n",
    "\n",
    "#### **Conclusion**\n",
    "- Generators are powerful tools in Python for handling large datasets efficiently.\n",
    "- They provide improved performance and memory utilization, making them ideal for data streaming and processing scenarios."
   ]
  },
  {
   "cell_type": "markdown",
   "metadata": {},
   "source": [
    "**Performance Comparison: Generators vs Lists**"
   ]
  },
  {
   "cell_type": "code",
   "execution_count": 23,
   "metadata": {},
   "outputs": [
    {
     "name": "stdout",
     "output_type": "stream",
     "text": [
      "Took 0.0\n",
      "{'id': 0, 'name': 'Durga', 'subject': 'Blockchain'}\n",
      "{'id': 1, 'name': 'Bunny', 'subject': 'Blockchain'}\n",
      "{'id': 2, 'name': 'Bunny', 'subject': 'Java'}\n",
      "{'id': 3, 'name': 'Vinny', 'subject': 'Blockchain'}\n",
      "{'id': 4, 'name': 'Durga', 'subject': 'Blockchain'}\n",
      "{'id': 5, 'name': 'Vinny', 'subject': 'Python'}\n",
      "{'id': 6, 'name': 'Chinny', 'subject': 'Java'}\n",
      "{'id': 7, 'name': 'Chinny', 'subject': 'Python'}\n",
      "{'id': 8, 'name': 'Chinny', 'subject': 'Blockchain'}\n",
      "{'id': 9, 'name': 'Chinny', 'subject': 'Java'}\n"
     ]
    }
   ],
   "source": [
    "import random\n",
    "import time\n",
    "\n",
    "def people_generator(num_people):\n",
    "    for i in range(num_people):\n",
    "        yield {\n",
    "            'id': i,\n",
    "            'name': random.choice(['Durga', 'Bunny', 'Chinny', 'Vinny']),\n",
    "            'subject': random.choice(['Python', 'Java', 'Blockchain'])\n",
    "        }\n",
    "\n",
    "# Using the generator for 1 million people\n",
    "t1 = time.time()\n",
    "people = people_generator(1000000)  # Creates a generator for 1 million people\n",
    "t2 = time.time()\n",
    "print('Took {}'.format(t2 - t1))\n",
    "\n",
    "# Fetch and print the first 10 people using next()\n",
    "for _ in range(10):\n",
    "    first_person = next(people)\n",
    "    print(first_person)\n"
   ]
  },
  {
   "cell_type": "code",
   "execution_count": 20,
   "metadata": {},
   "outputs": [],
   "source": [
    "# people_list_as_list = list(people)\n",
    "# print(people_list_as_list[0])"
   ]
  },
  {
   "cell_type": "code",
   "execution_count": 24,
   "metadata": {},
   "outputs": [
    {
     "name": "stdout",
     "output_type": "stream",
     "text": [
      "{'id': 10, 'name': 'Chinny', 'subject': 'Python'}\n",
      "{'id': 11, 'name': 'Durga', 'subject': 'Java'}\n",
      "{'id': 12, 'name': 'Vinny', 'subject': 'Python'}\n",
      "{'id': 13, 'name': 'Chinny', 'subject': 'Blockchain'}\n",
      "{'id': 14, 'name': 'Durga', 'subject': 'Java'}\n",
      "{'id': 15, 'name': 'Chinny', 'subject': 'Java'}\n",
      "{'id': 16, 'name': 'Bunny', 'subject': 'Python'}\n",
      "{'id': 17, 'name': 'Vinny', 'subject': 'Python'}\n",
      "{'id': 18, 'name': 'Durga', 'subject': 'Blockchain'}\n",
      "{'id': 19, 'name': 'Chinny', 'subject': 'Python'}\n"
     ]
    }
   ],
   "source": [
    "for _ in range(10):\n",
    "    first_person = next(people)\n",
    "    print(first_person)"
   ]
  },
  {
   "cell_type": "code",
   "execution_count": 25,
   "metadata": {},
   "outputs": [
    {
     "name": "stdout",
     "output_type": "stream",
     "text": [
      "Took 0.0\n",
      "{'id': 0, 'name': 'Bunny', 'subject': 'Blockchain'}\n",
      "{'id': 1, 'name': 'Chinny', 'subject': 'Python'}\n",
      "{'id': 2, 'name': 'Durga', 'subject': 'Python'}\n",
      "{'id': 3, 'name': 'Vinny', 'subject': 'Python'}\n",
      "{'id': 4, 'name': 'Vinny', 'subject': 'Blockchain'}\n",
      "{'id': 5, 'name': 'Chinny', 'subject': 'Python'}\n",
      "{'id': 6, 'name': 'Bunny', 'subject': 'Java'}\n",
      "{'id': 7, 'name': 'Durga', 'subject': 'Java'}\n",
      "{'id': 8, 'name': 'Vinny', 'subject': 'Java'}\n",
      "{'id': 9, 'name': 'Durga', 'subject': 'Python'}\n"
     ]
    }
   ],
   "source": [
    "def people_generator(num_people):\n",
    "    for i in range(num_people):\n",
    "        yield {\n",
    "            'id': i,\n",
    "            'name': random.choice(['Durga', 'Bunny', 'Chinny', 'Vinny']),\n",
    "            'subject': random.choice(['Python', 'Java', 'Blockchain'])\n",
    "        }\n",
    "\n",
    "t1 = time.time()\n",
    "people = people_generator(1000000)  \n",
    "# Creates a generator for 1 million people\n",
    "t2 = time.time()\n",
    "print('Took {}'.format(t2 - t1))\n",
    "\n",
    "for _ in range(10):\n",
    "    first_person = next(people)\n",
    "    print(first_person)"
   ]
  },
  {
   "cell_type": "code",
   "execution_count": 27,
   "metadata": {},
   "outputs": [],
   "source": [
    "# def read_chunks(file_path, chunk_size=1024):\n",
    "#     \"\"\"\n",
    "#     A generator that yields chunks of text from a large file\n",
    "#     without loading the entire file into memory\n",
    "#     \"\"\"\n",
    "#     with open(file_path, 'r') as file:\n",
    "#         while True:\n",
    "#             chunk = file.read(chunk_size)\n",
    "#             if not chunk:\n",
    "#                 break\n",
    "#             yield chunk\n",
    "\n",
    "# # Example usage\n",
    "# for chunk in read_chunks('large_file.txt'):\n",
    "#     print(f\"Processing chunk: {chunk[:50]}...\")  # Print first 50 chars of each chunk"
   ]
  },
  {
   "cell_type": "code",
   "execution_count": 28,
   "metadata": {},
   "outputs": [
    {
     "name": "stdout",
     "output_type": "stream",
     "text": [
      "Hello\n",
      "hEllo\n",
      "heLlo\n",
      "helLo\n",
      "hellO\n"
     ]
    }
   ],
   "source": [
    "def word_variants(word):\n",
    "    \"\"\"\n",
    "    Generator that creates variants of a word by \n",
    "    capitalizing different letters\n",
    "    \"\"\"\n",
    "    for i in range(len(word)):\n",
    "        variant = word[:i] + word[i].upper() + word[i+1:]\n",
    "        yield variant\n",
    "\n",
    "# Example usage\n",
    "for variant in word_variants(\"hello\"):\n",
    "    print(variant)\n",
    "# Outputs: hEllo, heLlo, helLo, hellO"
   ]
  },
  {
   "cell_type": "code",
   "execution_count": null,
   "metadata": {},
   "outputs": [],
   "source": []
  },
  {
   "cell_type": "markdown",
   "metadata": {},
   "source": [
    "### **Advantages of Generators:**\n",
    "1. Memory Efficiency\n",
    "2. Lazy Evaluation\n",
    "3. Improved Performance\n",
    "4. Cleaner Code\n",
    "5. Supports Infinite Sequences\n",
    "6. Efficient for Pipelines\n",
    "7. No Memory Overhead\n",
    "\n",
    "### **Limitations of Generators:**\n",
    "1. Single Pass Only\n",
    "2. Cannot Index or Slice\n",
    "3. Limited Debugging\n",
    "4. No Random Access\n",
    "5. Complexity in Managing State\n",
    "6. No Built-in Support for Reversing\n",
    "7. Performance Overhead\n",
    "8. Compatibility Issues"
   ]
  }
 ],
 "metadata": {
  "kernelspec": {
   "display_name": "Python 3",
   "language": "python",
   "name": "python3"
  },
  "language_info": {
   "codemirror_mode": {
    "name": "ipython",
    "version": 3
   },
   "file_extension": ".py",
   "mimetype": "text/x-python",
   "name": "python",
   "nbconvert_exporter": "python",
   "pygments_lexer": "ipython3",
   "version": "3.12.7"
  }
 },
 "nbformat": 4,
 "nbformat_minor": 2
}
