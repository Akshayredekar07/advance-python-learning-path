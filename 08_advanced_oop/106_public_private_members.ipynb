{
 "cells": [
  {
   "cell_type": "markdown",
   "metadata": {},
   "source": [
    "## Public, Protected and Private Attributes\n",
    "\n",
    "### Public Attributes\n",
    "- Public attributes are accessible from outside the class.\n",
    "- They can be accessed using the instance of the class.\n",
    "\n",
    "### Protected Attributes\n",
    "- Protected attributes are not meant to be accessed outside the class and its subclasses.\n",
    "- They are indicated by a single underscore prefix (e.g., `_protected_attr`).\n",
    "\n",
    "### Private Attributes\n",
    "- Private attributes are only accessible within the class itself.\n",
    "- They are indicated by a double underscore prefix (e.g., `__private_attr`).\n",
    "- Private attributes cannot be accessed directly from outside the class.\n",
    "- They are used to encapsulate data and prevent it from being modified directly.\n"
   ]
  },
  {
   "cell_type": "code",
   "execution_count": null,
   "metadata": {},
   "outputs": [],
   "source": [
    "## Public, Protected and Private Attributes\n",
    "### Public Attributes\n",
    "# - Public attributes are accessible from outside the class.\n",
    "# - They can be accessed using the instance of the class.\n",
    "\n",
    "class Example:\n",
    "    def __init__(self):\n",
    "        self.public_attr = \"I am public\"\n",
    "\n",
    "example = Example()\n",
    "print(example.public_attr)  # Accessing public attribute\n",
    "\n",
    "### Protected Attributes\n",
    "# - Protected attributes are not meant to be accessed outside the class and its subclasses.\n",
    "# - They are indicated by a single underscore prefix (e.g., `_protected_attr`).\n",
    "\n",
    "class Base:\n",
    "    def __init__(self):\n",
    "        self._protected_attr = \"I am protected\"\n",
    "\n",
    "class Derived(Base):\n",
    "    def access_protected(self):\n",
    "        return self._protected_attr  # Accessing protected attribute\n",
    "\n",
    "derived = Derived()\n",
    "print(derived.access_protected())\n",
    "\n",
    "\n",
    "\n",
    "### Private Attributes\n",
    "# - Private attributes are only accessible within the class itself.\n",
    "# - They are indicated by a double underscore prefix (e.g., `__private_attr`).\n",
    "# - Private attributes cannot be accessed directly from outside the class.\n",
    "# - They are used to encapsulate data and prevent it from being modified directly.\n",
    "\n",
    "class Example:\n",
    "    def __init__(self):\n",
    "        self.__private_attr = \"I am private\"\n",
    "\n",
    "    def get_private_attr(self):\n",
    "        return self.__private_attr  # Accessing private attribute\n",
    "\n",
    "example = Example()\n",
    "print(example.get_private_attr())  # Correct way to access private attribute\n",
    "# print(example.__private_attr)  # This will raise an AttributeError\n"
   ]
  },
  {
   "cell_type": "code",
   "execution_count": 2,
   "metadata": {},
   "outputs": [
    {
     "name": "stdout",
     "output_type": "stream",
     "text": [
      "Public method m1\n",
      "10\n"
     ]
    }
   ],
   "source": [
    "class Test:\n",
    "    def __init__(self) -> None:\n",
    "        self.x = 10 # public variable\n",
    "\n",
    "    def m1(self):\n",
    "        print(\"Public method m1\")\n",
    "\n",
    "    def m2(self):\n",
    "        print(self.x)\n",
    "        self.m1()\n",
    "\n",
    "t = Test()\n",
    "print(t.x)\n",
    "t.m1()"
   ]
  },
  {
   "cell_type": "code",
   "execution_count": 4,
   "metadata": {},
   "outputs": [],
   "source": [
    "# Private members:\n",
    "# If a member is private, we can access that member only within the class. From outside of the class, we cannot access .\n",
    "\n",
    "# We can declare the Private members using two underscroe symbols \n",
    "# __x=10 #private memeber"
   ]
  },
  {
   "cell_type": "code",
   "execution_count": 8,
   "metadata": {},
   "outputs": [
    {
     "name": "stdout",
     "output_type": "stream",
     "text": [
      "Error accessing private member: 'Test' object has no attribute '__x'\n"
     ]
    }
   ],
   "source": [
    "class Test:\n",
    "    def __init__(self) -> None:\n",
    "        self.__x=10 #Private member\n",
    "\n",
    "    def __m1(self):\n",
    "        print(\"Private m1 method\")\n",
    "\n",
    "    def m2(self):\n",
    "        print(self.__x)\n",
    "        self.__m1()\n",
    "\n",
    "t = Test()\n",
    "try:\n",
    "    print(t.__x)    \n",
    "    t.__m1()\n",
    "except AttributeError as e:\n",
    "    print(f\"Error accessing private member: {e}\")\n",
    "except AttributeError as e:\n",
    "    print(f\"Error accessing private method: {e}\")"
   ]
  },
  {
   "cell_type": "code",
   "execution_count": null,
   "metadata": {},
   "outputs": [],
   "source": []
  }
 ],
 "metadata": {
  "kernelspec": {
   "display_name": "Python 3",
   "language": "python",
   "name": "python3"
  },
  "language_info": {
   "codemirror_mode": {
    "name": "ipython",
    "version": 3
   },
   "file_extension": ".py",
   "mimetype": "text/x-python",
   "name": "python",
   "nbconvert_exporter": "python",
   "pygments_lexer": "ipython3",
   "version": "3.11.5"
  }
 },
 "nbformat": 4,
 "nbformat_minor": 2
}
