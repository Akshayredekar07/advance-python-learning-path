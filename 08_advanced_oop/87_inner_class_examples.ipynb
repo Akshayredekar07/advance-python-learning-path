{
 "cells": [
  {
   "cell_type": "code",
   "execution_count": 1,
   "metadata": {},
   "outputs": [],
   "source": [
    "\n",
    "class Human:\n",
    "    class Head:\n",
    "        def talk(self):\n",
    "            print(\"Talking...!\")\n",
    "\n",
    "        class Brain:\n",
    "            def think(self):\n",
    "                print(\"Thinking...!\")            \n",
    "                "
   ]
  },
  {
   "cell_type": "code",
   "execution_count": 2,
   "metadata": {},
   "outputs": [
    {
     "name": "stdout",
     "output_type": "stream",
     "text": [
      "Talking...!\n",
      "Thinking...!\n"
     ]
    }
   ],
   "source": [
    "human = Human()\n",
    "head = human.Head()\n",
    "head.talk()\n",
    "\n",
    "brain = head.Brain()\n",
    "brain.think()"
   ]
  },
  {
   "cell_type": "code",
   "execution_count": 3,
   "metadata": {},
   "outputs": [
    {
     "name": "stdout",
     "output_type": "stream",
     "text": [
      "Thinking...!\n",
      "Thinking...!\n"
     ]
    }
   ],
   "source": [
    "# Note: \n",
    "brain=Human().Head().Brain()\n",
    "brain.think()\n",
    "\n",
    "Human().Head().Brain().think()"
   ]
  },
  {
   "cell_type": "code",
   "execution_count": 7,
   "metadata": {},
   "outputs": [
    {
     "name": "stdout",
     "output_type": "stream",
     "text": [
      "Human object is created\n",
      "Head object is created\n",
      "Brain object is created\n",
      "Hello myself Durga\n",
      "I am full busy with\n",
      "Talking...!\n",
      "Thinking...!\n"
     ]
    }
   ],
   "source": [
    "# Here automatically Head and Brain object is created if we creating the object of the Human() class \n",
    "class Human:\n",
    "    def __init__(self, name):\n",
    "        print(\"Human object is created\")\n",
    "        self.name = name\n",
    "        self.head = self.Head()\n",
    "\n",
    "    def info(self):\n",
    "        print(f\"Hello myself {self.name}\")\n",
    "        print(\"I am full busy with\")\n",
    "        self.head.talk()\n",
    "        self.head.brain.think()\n",
    "\n",
    "    class Head:\n",
    "        def __init__(self) -> None:\n",
    "            print(\"Head object is created\")     \n",
    "            self.brain = self.Brain()   \n",
    "\n",
    "        def talk(self):\n",
    "            print(\"Talking...!\")    \n",
    "\n",
    "        class Brain:\n",
    "            def __init__(self) -> None:\n",
    "                print(\"Brain object is created\")   \n",
    "\n",
    "            def think(self):\n",
    "                print(\"Thinking...!\") \n",
    "\n",
    "human = Human(\"Durga\")\n",
    "human.info()\n"
   ]
  },
  {
   "cell_type": "code",
   "execution_count": 9,
   "metadata": {},
   "outputs": [
    {
     "name": "stdout",
     "output_type": "stream",
     "text": [
      "Human object is created\n",
      "Head object is created\n",
      "Brain object is created\n",
      "Hello myself Durga\n",
      "I am full busy with\n",
      "Talking...!\n"
     ]
    }
   ],
   "source": [
    "# Here automatically Head and Brain object is created if we creating the object of the Human() class \n",
    "class Human:\n",
    "    def __init__(self, name):\n",
    "        print(\"Human object is created\")\n",
    "        self.name = name\n",
    "        self.head = self.Head()\n",
    "\n",
    "    def info(self):\n",
    "        print(f\"Hello myself {self.name}\")\n",
    "        print(\"I am full busy with\")\n",
    "        self.head.talk()\n",
    "        # Human(\"\").Head().Brain().think()\n",
    "        # self.head.brain.think() Here self is pointing to the Human()\n",
    "\n",
    "\n",
    "    class Head:\n",
    "        def __init__(self) -> None:\n",
    "            print(\"Head object is created\")     \n",
    "            self.brain = self.Brain()   \n",
    "\n",
    "        def talk(self):\n",
    "            print(\"Talking...!\")    \n",
    "\n",
    "        class Brain:\n",
    "            def __init__(self) -> None:\n",
    "                print(\"Brain object is created\")   \n",
    "\n",
    "            def think(self):\n",
    "                print(\"Thinking...!\") \n",
    "\n",
    "human = Human(\"Durga\")\n",
    "human.info()\n"
   ]
  },
  {
   "cell_type": "code",
   "execution_count": 11,
   "metadata": {},
   "outputs": [
    {
     "name": "stdout",
     "output_type": "stream",
     "text": [
      "Person object created\n",
      "Dob is created\n",
      "Name  Durga\n",
      "DOB : 7/9/2001\n"
     ]
    }
   ],
   "source": [
    "class Person:\n",
    "    def __init__(self, name, dd, mm, yyyy) :\n",
    "        print(\"Person object created\")\n",
    "        self.name  = name\n",
    "        self.dob = self.Dob(dd, mm, yyyy)\n",
    "\n",
    "    def info(self):\n",
    "        print(\"Name \", self.name)    \n",
    "        self.dob.dispaly()\n",
    "\n",
    "    class Dob:\n",
    "        def __init__(self, dd, mm, yyyy):\n",
    "            print(\"Dob is created\")    \n",
    "            self.dd = dd\n",
    "            self.mm = mm \n",
    "            self.yyyy = yyyy\n",
    "\n",
    "        def dispaly(self):            \n",
    "            print(\"DOB : {}/{}/{}\".format(self.dd, self.mm, self.yyyy))\n",
    "\n",
    "p =Person(\"Durga\", 7, 9, 2001)  \n",
    "p.info()          "
   ]
  }
 ],
 "metadata": {
  "kernelspec": {
   "display_name": "Python 3",
   "language": "python",
   "name": "python3"
  },
  "language_info": {
   "codemirror_mode": {
    "name": "ipython",
    "version": 3
   },
   "file_extension": ".py",
   "mimetype": "text/x-python",
   "name": "python",
   "nbconvert_exporter": "python",
   "pygments_lexer": "ipython3",
   "version": "3.11.5"
  }
 },
 "nbformat": 4,
 "nbformat_minor": 2
}
