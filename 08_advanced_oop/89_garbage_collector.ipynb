{
 "cells": [
  {
   "cell_type": "markdown",
   "metadata": {},
   "source": [
    "Garbage collector:\n",
    "\n",
    "- x   Yourself  y\n",
    "\n",
    "- If you want something... You are going to take very muh care\n",
    "- If you have to return something... You are going to neglect\n",
    "\n",
    "- e.g. Money example, Pen example , Dharmaraj--bheema ---> 10k\n",
    "\n",
    "- Programmer also human being \n",
    "\n",
    "- c++ ---Programmer --- Create Object\n",
    "- c++ ---Programmer --- Destroy object(neglecting)--memeory problem\n",
    "\n",
    "- Python , Java, c#.Net \n",
    "\n",
    "- If an object not having the reference variable ---> Eligible for GC\n",
    "\n",
    "- How to enable and disable GC - Bydefalut it is enabled.\n",
    "\n",
    "In python gc module is there `gc.isenabled()` --> Retrun True if GC is enabled `gc.disable()` -->to disable Gc explicilty\n",
    "`gc.enable()` -->To enable gc expicilty\n"
   ]
  },
  {
   "cell_type": "code",
   "execution_count": 2,
   "metadata": {},
   "outputs": [
    {
     "name": "stdout",
     "output_type": "stream",
     "text": [
      "True\n"
     ]
    }
   ],
   "source": [
    "import gc\n",
    "print(gc.isenabled())"
   ]
  },
  {
   "cell_type": "code",
   "execution_count": 3,
   "metadata": {},
   "outputs": [
    {
     "name": "stdout",
     "output_type": "stream",
     "text": [
      "False\n"
     ]
    }
   ],
   "source": [
    "# gc.disable()\n",
    "print(gc.isenabled())"
   ]
  },
  {
   "cell_type": "code",
   "execution_count": 4,
   "metadata": {},
   "outputs": [
    {
     "name": "stdout",
     "output_type": "stream",
     "text": [
      "True\n"
     ]
    }
   ],
   "source": [
    "gc.enable()\n",
    "print(gc.isenabled())"
   ]
  },
  {
   "cell_type": "markdown",
   "metadata": {},
   "source": [
    "`__init__(self)`\n",
    "- Constructor\n",
    "- just after creating object , automatically constructor will be executed\n",
    "- The main purpose is to perform initilization of the object\n",
    "\n",
    "`__del__(self)`\n",
    "- Destructor\n",
    "- Just before destroying an object, GC will excute destructor automatically \n",
    "- To perform clenup activities/Resources dellocation activities\n"
   ]
  },
  {
   "cell_type": "code",
   "execution_count": 5,
   "metadata": {},
   "outputs": [
    {
     "name": "stdout",
     "output_type": "stream",
     "text": [
      "Initilization activity\n",
      "Fullfilling last wish and perform cleanup activities\n",
      "End of application\n"
     ]
    }
   ],
   "source": [
    "import time\n",
    "class Test:\n",
    "    def __init__(self):\n",
    "        print(\"Initilization activity\")\n",
    "\n",
    "\n",
    "    def __del__(self):\n",
    "        print(\"Fullfilling last wish and perform cleanup activities\")\n",
    "\n",
    "t = Test()\n",
    "# t = None # t is pointing to None object hence Test() object is eligible for garbage collector\n",
    "time.sleep(14)\n",
    "print(\"End of application\")"
   ]
  },
  {
   "cell_type": "code",
   "execution_count": 3,
   "metadata": {},
   "outputs": [],
   "source": [
    "# t = None\n",
    "# del t \n",
    "# print(t) #NameError"
   ]
  },
  {
   "cell_type": "code",
   "execution_count": null,
   "metadata": {},
   "outputs": [],
   "source": [
    "#  If program completed then PVM is shut down \n",
    "# >> But before the PVM shut down total memroy will be clean up all objects will be destroyed automatically "
   ]
  },
  {
   "cell_type": "code",
   "execution_count": 7,
   "metadata": {},
   "outputs": [
    {
     "name": "stdout",
     "output_type": "stream",
     "text": [
      "Initilization activity\n",
      "Fullfilling last wish and perform cleanup activities\n",
      "Initilization activity\n",
      "Fullfilling last wish and perform cleanup activities\n",
      "complete end of application\n"
     ]
    }
   ],
   "source": [
    "t1 = Test()\n",
    "t2 = Test()\n",
    "time.sleep(10)\n",
    "print(\"complete end of application\")"
   ]
  },
  {
   "cell_type": "code",
   "execution_count": null,
   "metadata": {},
   "outputs": [],
   "source": []
  }
 ],
 "metadata": {
  "kernelspec": {
   "display_name": "Python 3",
   "language": "python",
   "name": "python3"
  },
  "language_info": {
   "codemirror_mode": {
    "name": "ipython",
    "version": 3
   },
   "file_extension": ".py",
   "mimetype": "text/x-python",
   "name": "python",
   "nbconvert_exporter": "python",
   "pygments_lexer": "ipython3",
   "version": "3.11.5"
  }
 },
 "nbformat": 4,
 "nbformat_minor": 2
}
