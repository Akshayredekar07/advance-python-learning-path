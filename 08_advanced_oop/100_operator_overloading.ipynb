{
 "cells": [
  {
   "cell_type": "code",
   "execution_count": 3,
   "metadata": {},
   "outputs": [
    {
     "name": "stdout",
     "output_type": "stream",
     "text": [
      "True\n",
      "False\n",
      "True\n"
     ]
    }
   ],
   "source": [
    "# Overlaoding of < operator for student class object:\n",
    "\n",
    "class Student:\n",
    "    def __init__(self, name, marks) -> None:\n",
    "        self.name = name\n",
    "        self.marks = marks\n",
    "\n",
    "    def __lt__(self, other):\n",
    "        result = self.marks<other.marks\n",
    "        return result\n",
    "    \n",
    "\n",
    "s1 = Student(\"Durga\", 78)        \n",
    "s2 = Student(\"Ravi\", 87)\n",
    "# Base on marks\n",
    "print(s1<s2) #78<87       \n",
    "print(s2<s1) #87<78\n",
    "print(s2>s1) #87>78\n",
    "# Base on length of name\n",
    "# Base on length of name and marks"
   ]
  },
  {
   "cell_type": "markdown",
   "metadata": {},
   "source": [
    "- To provide support for < and > operators: either `__lt__()` or `__gt__()`\n",
    "\n",
    "- To provide support for <= and >= operators: either `__le__()` or `__ge__()`"
   ]
  },
  {
   "cell_type": "code",
   "execution_count": 8,
   "metadata": {},
   "outputs": [
    {
     "name": "stdout",
     "output_type": "stream",
     "text": [
      "True\n",
      "False\n",
      "False\n",
      "False\n",
      "False\n"
     ]
    }
   ],
   "source": [
    "\n",
    "class Student:\n",
    "    def __init__(self, name, marks) -> None:\n",
    "        self.name = name\n",
    "        self.marks = marks\n",
    "\n",
    "    def __le__(self, other):\n",
    "        result = self.marks<other.marks\n",
    "        return result\n",
    "    \n",
    "\n",
    "s1 = Student(\"Durga\", 100)        \n",
    "s2 = Student(\"Ravi\", 200)\n",
    "s3 = Student(\"Shiva\", 100)\n",
    "\n",
    "print(s1<=s2)     \n",
    "print(s1<=s3)     \n",
    "print(s1>=s3)     \n",
    "print(s1>=s2)\n",
    "print(s1<=s3) "
   ]
  },
  {
   "cell_type": "code",
   "execution_count": 9,
   "metadata": {},
   "outputs": [
    {
     "name": "stdout",
     "output_type": "stream",
     "text": [
      "True\n",
      "False\n"
     ]
    }
   ],
   "source": [
    "class Student:\n",
    "    def __init__(self,name,mark):\n",
    "        self.name=name\n",
    "        self.mark=mark\n",
    "\n",
    "    def __gt__(self,other):\n",
    "        res=self.mark > other.mark\n",
    "        return res\n",
    "\n",
    "s1=Student('Ak',99)\n",
    "s2=Student('Sej',98)\n",
    "print(s1>s2)\n",
    "print(s1<s2)\n"
   ]
  },
  {
   "cell_type": "code",
   "execution_count": 10,
   "metadata": {},
   "outputs": [
    {
     "name": "stdout",
     "output_type": "stream",
     "text": [
      "20000000\n",
      "name Akshay, salaryperday 1000000 \n"
     ]
    }
   ],
   "source": [
    "class Employee:\n",
    "    def __init__(self,name,salaryperday):\n",
    "        self.name=name\n",
    "        self.salaryperday=salaryperday\n",
    "\n",
    "    def __mul__(self,other):\n",
    "        money=self.salaryperday*other.workingDay\n",
    "        return money\n",
    "\n",
    "    def __str__(self):\n",
    "        #return self.name\n",
    "        return 'name {}, salaryperday {} '.format(self.name,self.salaryperday)\n",
    "\n",
    "\n",
    "\n",
    "class TimeSheet:\n",
    "    def __init__(self,name,workingDay):\n",
    "        self.name=name\n",
    "        self.workingDay=workingDay\n",
    "\n",
    "e=Employee('Akshay',1000000)\n",
    "t=TimeSheet('Akshay',20)\n",
    "print(e*t)\n",
    "\n",
    "print(e)"
   ]
  },
  {
   "cell_type": "markdown",
   "metadata": {},
   "source": [
    "- how do we access timesheet class here sir(other.salary)?\n",
    "- t*e====>First argument is Timesheet\n",
    "- Timesheet class magic method will be called by passing t and e as arguments\n",
    "- self=t===>self.days(25)\n",
    "- other=e===>other.salary=500"
   ]
  },
  {
   "cell_type": "code",
   "execution_count": 12,
   "metadata": {},
   "outputs": [
    {
     "ename": "TypeError",
     "evalue": "unsupported operand type(s) for *: 'TimeSheet' and 'Employee'",
     "output_type": "error",
     "traceback": [
      "\u001b[1;31m---------------------------------------------------------------------------\u001b[0m",
      "\u001b[1;31mTypeError\u001b[0m                                 Traceback (most recent call last)",
      "Cell \u001b[1;32mIn[12], line 1\u001b[0m\n\u001b[1;32m----> 1\u001b[0m \u001b[38;5;28mprint\u001b[39m(\u001b[43mt\u001b[49m\u001b[38;5;241;43m*\u001b[39;49m\u001b[43me\u001b[49m)\n\u001b[0;32m      2\u001b[0m \u001b[38;5;28mprint\u001b[39m(e)\n",
      "\u001b[1;31mTypeError\u001b[0m: unsupported operand type(s) for *: 'TimeSheet' and 'Employee'"
     ]
    }
   ],
   "source": [
    "print(t*e)\n",
    "print(e)"
   ]
  },
  {
   "cell_type": "markdown",
   "metadata": {},
   "source": [
    "- in e*t e is the first then define the magic methods in e objects class which is Employeee\n",
    "- we can define magic method in both calss also it is possible"
   ]
  },
  {
   "cell_type": "code",
   "execution_count": 11,
   "metadata": {},
   "outputs": [
    {
     "name": "stdout",
     "output_type": "stream",
     "text": [
      "True\n",
      "True\n"
     ]
    }
   ],
   "source": [
    "class Student:\n",
    "    def __init__(self, name, marks):\n",
    "        self.name = name\n",
    "        self.marks = marks\n",
    "\n",
    "    def __lt__(self, other):\n",
    "        if self.marks == other.marks:\n",
    "            result = self.name < other.name\n",
    "        else:\n",
    "            result = self.marks < other.marks\n",
    "        return result\n",
    "\n",
    "s1 = Student('Durga', 100)\n",
    "s2 = Student('Apple', 200)\n",
    "s3 = Student('Ravi', 100)\n",
    "\n",
    "print(s1 < s2)  # True\n",
    "print(s1 < s3)  # True"
   ]
  },
  {
   "cell_type": "code",
   "execution_count": 14,
   "metadata": {},
   "outputs": [
    {
     "name": "stdout",
     "output_type": "stream",
     "text": [
      "Durga\n",
      "Ravi\n"
     ]
    }
   ],
   "source": [
    "class Student:\n",
    "    def __init__(self, name, marks) -> None:\n",
    "        self.name=name\n",
    "        self.marks=marks\n",
    "\n",
    "    def __str__(self) -> str:\n",
    "        return self.name # override the __str__ method defalut implementation overriden\n",
    "      \n",
    "\n",
    "s1 = Student(\"Durga\", 100)        \n",
    "s2 = Student(\"Ravi\", 200)        \n",
    "\n",
    "print(s1)\n",
    "print(s2)"
   ]
  },
  {
   "cell_type": "code",
   "execution_count": 15,
   "metadata": {},
   "outputs": [],
   "source": [
    "# + operator ===> __add__()\n",
    "# print      ===> __str__()"
   ]
  },
  {
   "cell_type": "code",
   "execution_count": 16,
   "metadata": {},
   "outputs": [
    {
     "name": "stdout",
     "output_type": "stream",
     "text": [
      "Student with Name: Durga, Marks: 100\n",
      "Student with Name: Ravi, Marks: 200\n"
     ]
    }
   ],
   "source": [
    "class Student:\n",
    "    def __init__(self, name, marks):\n",
    "        self.name = name\n",
    "        self.marks = marks\n",
    "\n",
    "    def __str__(self):\n",
    "        # return self.name\n",
    "        # return str(self.marks)\n",
    "        return 'Student with Name: {}, Marks: {}'.format(self.name, self.marks)\n",
    "\n",
    "s1 = Student('Durga', 100)\n",
    "s2 = Student('Ravi', 200)\n",
    "\n",
    "print(s1)\n",
    "print(s2)"
   ]
  },
  {
   "cell_type": "code",
   "execution_count": 17,
   "metadata": {},
   "outputs": [
    {
     "name": "stdout",
     "output_type": "stream",
     "text": [
      "  Total no of Pg 10 \n",
      "  Total no of Pg 11 \n"
     ]
    }
   ],
   "source": [
    "class Book:\n",
    "    def __init__(self,pg):\n",
    "        self.pg=pg\n",
    "\n",
    "    def __add__(self,other):\n",
    "       return Book(self.pg+other.pg)\n",
    "\n",
    "    def __str__(self):\n",
    "       return '  Total no of Pg {} '.format(self.pg)\n",
    "\n",
    "    def __mul__(self,other):\n",
    "       return Book(self.pg*other.pg)\n",
    "\n",
    "b1=Book(1)\n",
    "b2=Book(2)\n",
    "b3=Book(3)\n",
    "b4=Book(4)\n",
    "print(b1+b2+b3+b4)\n",
    "print(b1+b2*b3+b4)"
   ]
  },
  {
   "cell_type": "code",
   "execution_count": null,
   "metadata": {},
   "outputs": [],
   "source": []
  }
 ],
 "metadata": {
  "kernelspec": {
   "display_name": "Python 3",
   "language": "python",
   "name": "python3"
  },
  "language_info": {
   "codemirror_mode": {
    "name": "ipython",
    "version": 3
   },
   "file_extension": ".py",
   "mimetype": "text/x-python",
   "name": "python",
   "nbconvert_exporter": "python",
   "pygments_lexer": "ipython3",
   "version": "3.11.5"
  }
 },
 "nbformat": 4,
 "nbformat_minor": 2
}
