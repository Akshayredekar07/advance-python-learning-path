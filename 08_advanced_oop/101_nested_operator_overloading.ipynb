{
 "cells": [
  {
   "cell_type": "code",
   "execution_count": 1,
   "metadata": {},
   "outputs": [
    {
     "name": "stdout",
     "output_type": "stream",
     "text": [
      "300\n"
     ]
    }
   ],
   "source": [
    "class Book:\n",
    "    def __init__(self, page) -> None:\n",
    "        self.page=page\n",
    "\n",
    "    def __add__(self, other):\n",
    "            total_pages=self.page+other.page\n",
    "            return total_pages\n",
    "    \n",
    "b1 = Book(100)    \n",
    "b2 = Book(200)    \n",
    "b3 = Book(600)    \n",
    "b4 = Book(100)    \n",
    "\n",
    "print(b1+b2)\n",
    "# print(b1+b2+b3) #TypeError: unsupported operand type(s) for +: 'int' and 'Book'\n"
   ]
  },
  {
   "cell_type": "code",
   "execution_count": 2,
   "metadata": {},
   "outputs": [
    {
     "name": "stdout",
     "output_type": "stream",
     "text": [
      "900\n"
     ]
    }
   ],
   "source": [
    "class Book:\n",
    "    def __init__(self, page) -> None:\n",
    "        self.page=page\n",
    "\n",
    "    def __add__(self, other):\n",
    "            total_pages=self.page+other.page\n",
    "            newBook=Book(total_pages)\n",
    "            return newBook\n",
    "    def __str__(self) -> str:\n",
    "         return str(self.page)\n",
    "    \n",
    "b1 = Book(100)    \n",
    "b2 = Book(200)    \n",
    "b3 = Book(600)    \n",
    "b4 = Book(100)    \n",
    "\n",
    "print(b1+b2+b3)\n",
    "# print(b1+b2+b3) #TypeError: unsupported operand type(s) for +: 'int' and 'Book'\n"
   ]
  },
  {
   "cell_type": "code",
   "execution_count": 4,
   "metadata": {},
   "outputs": [
    {
     "name": "stdout",
     "output_type": "stream",
     "text": [
      "New object crated...\n",
      "New object crated...\n",
      "New object crated...\n",
      "New object crated...\n",
      "Add method execution...\n",
      "New object crated...\n",
      "Add method execution...\n",
      "New object crated...\n",
      "Add method execution...\n",
      "New object crated...\n",
      "str method execution...\n",
      "1000\n"
     ]
    }
   ],
   "source": [
    "class Book:\n",
    "    def __init__(self, page) -> None:\n",
    "        print(\"New object crated...\")\n",
    "        self.page=page\n",
    "\n",
    "    def __add__(self, other):\n",
    "            print(\"Add method execution...\")\n",
    "            total_pages=self.page+other.page\n",
    "            newBook=Book(total_pages)\n",
    "            return newBook\n",
    "    def __str__(self) -> str:\n",
    "         print(\"str method execution...\")\n",
    "         return str(self.page)\n",
    "    \n",
    "b1 = Book(100)    \n",
    "b2 = Book(200)    \n",
    "b3 = Book(600)    \n",
    "b4 = Book(100)    \n",
    "b = b1+b2+b3+b4\n",
    "# Str method exectures automatically if i print the b\n",
    "print(b)"
   ]
  },
  {
   "cell_type": "markdown",
   "metadata": {},
   "source": [
    "overloading:\n",
    "1. Operator Overloading \n",
    "2. Method overloading  \n",
    "3. Constructor overloading"
   ]
  },
  {
   "cell_type": "markdown",
   "metadata": {},
   "source": [
    "```java\n",
    "class Test {\n",
    "    public static void ml(int i) {\n",
    "        System.out.println(\"int-argument\");\n",
    "    }\n",
    "\n",
    "    public static void ml(float f) {\n",
    "        System.out.println(\"float-argument\");\n",
    "    }\n",
    "\n",
    "    public static void m1(String s) {\n",
    "        System.out.println(\"String-argument\");\n",
    "    }\n",
    "\n",
    "    public static void main(String[] args) {\n",
    "        // ... (rest of the code)\n",
    "    }\n",
    "}\n",
    "```"
   ]
  },
  {
   "cell_type": "markdown",
   "metadata": {},
   "source": [
    "## Python Method Overloading\n",
    "\n",
    "**Overloading** in programming refers to the ability of a method (or function) to have multiple definitions with the same name but different parameter lists. This allows for more flexibility and reusability.\n",
    "\n",
    "**In Python, however, method overloading is not directly supported.** This is primarily due to Python's dynamic typing system. Unlike languages like Java or C++, Python doesn't require you to specify the data type of variables or function parameters.\n",
    "\n",
    "### Why Python Doesn't Need Overloading\n",
    "\n",
    "1. **Dynamic Typing:** Python's flexibility in handling different data types means that a single function can often handle various input types without explicit overloading.\n",
    "2. **Duck Typing:** Python follows the principle of \"duck typing,\" where the focus is on the behavior of an object rather than its type. If an object can perform a certain operation, it's considered appropriate for that context.\n",
    "3. **Default Arguments:** Python allows you to define functions with default arguments, which can simulate some aspects of overloading. For example:\n",
    "\n",
    "```python\n",
    "def greet(name, greeting=\"Hello\"):\n",
    "    print(f\"{greeting}, {name}!\")"
   ]
  },
  {
   "cell_type": "code",
   "execution_count": 19,
   "metadata": {},
   "outputs": [
    {
     "name": "stdout",
     "output_type": "stream",
     "text": [
      "int-argument method\n",
      "str-argument method\n",
      "bool-argument method\n",
      "NoneType-argument method\n",
      "float-argument method\n",
      "list-argument method\n",
      "tuple-argument method\n",
      "dict-argument method\n",
      "set-argument method\n"
     ]
    }
   ],
   "source": [
    "class Test:\n",
    "    def m1(self, x):\n",
    "        # print(\"Type of x\", type(x))\n",
    "        print(f\"{x.__class__.__name__}-argument method\")\n",
    "\n",
    "t=Test()\n",
    "t.m1(10)        \n",
    "t.m1(\"Durga\")        \n",
    "t.m1(True)        \n",
    "t.m1(None)        \n",
    "t.m1(7.54)        \n",
    "t.m1([1,2,3,4])        \n",
    "t.m1(())        \n",
    "t.m1({1:3})        \n",
    "t.m1({2,3,4})        "
   ]
  },
  {
   "cell_type": "markdown",
   "metadata": {},
   "source": [
    "- If we are trying to "
   ]
  },
  {
   "cell_type": "code",
   "execution_count": 15,
   "metadata": {},
   "outputs": [
    {
     "name": "stdout",
     "output_type": "stream",
     "text": [
      "three arg method\n"
     ]
    }
   ],
   "source": [
    "class Test:\n",
    "    def m1(self, x):\n",
    "        print(\"one arg method\")\n",
    "    def m1(self, x,y):\n",
    "        print(\"two arg method\")\n",
    "    def m1(self, x,y,z):\n",
    "        print(\"three arg method\")\n",
    "t=Test()\n",
    "# t.m1(10) #TypeError: Test.m1() missing 2 required positional arguments: 'y' and 'z'  \n",
    "t.m1(32,\"durga\", [1,2,3,4])"
   ]
  },
  {
   "cell_type": "code",
   "execution_count": 20,
   "metadata": {},
   "outputs": [
    {
     "name": "stdout",
     "output_type": "stream",
     "text": [
      "1-args method\n",
      "2-args method\n",
      "3-args method\n"
     ]
    }
   ],
   "source": [
    "# How to handle the method with variable number of arguments\n",
    "\n",
    "class Test:\n",
    "    def m1(self, a=None, b=None, c=None):\n",
    "        if a is not None and b is not None and c is not None:\n",
    "             print(\"3-args method\")\n",
    "\n",
    "        elif a is not None and b is not None:\n",
    "             print(\"2-args method\")\n",
    "\n",
    "        elif a is not None:\n",
    "             print(\"1-args method\")\n",
    "\n",
    "t = Test()\n",
    "t.m1(10)\n",
    "t.m1(10, 20)\n",
    "t.m1(10, 20, 30)"
   ]
  },
  {
   "cell_type": "code",
   "execution_count": 25,
   "metadata": {},
   "outputs": [
    {
     "name": "stdout",
     "output_type": "stream",
     "text": [
      "Sum is: 0\n",
      "Sum is: 30\n",
      "Sum is: 60\n",
      "Sum is: 100\n"
     ]
    }
   ],
   "source": [
    "class Test:\n",
    "    def sum(self, *a):\n",
    "        res = 0\n",
    "        for x in a:\n",
    "            res += x  \n",
    "        print(\"Sum is:\", res)\n",
    "\n",
    "t = Test()\n",
    "t.sum()\n",
    "t.sum(10, 20)\n",
    "t.sum(10, 20, 30)\n",
    "t.sum(10, 20, 30, 40)"
   ]
  },
  {
   "cell_type": "code",
   "execution_count": null,
   "metadata": {},
   "outputs": [],
   "source": []
  }
 ],
 "metadata": {
  "kernelspec": {
   "display_name": "Python 3",
   "language": "python",
   "name": "python3"
  },
  "language_info": {
   "codemirror_mode": {
    "name": "ipython",
    "version": 3
   },
   "file_extension": ".py",
   "mimetype": "text/x-python",
   "name": "python",
   "nbconvert_exporter": "python",
   "pygments_lexer": "ipython3",
   "version": "3.11.5"
  }
 },
 "nbformat": 4,
 "nbformat_minor": 2
}
