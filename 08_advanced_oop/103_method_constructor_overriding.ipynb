{
 "cells": [
  {
   "cell_type": "markdown",
   "metadata": {},
   "source": [
    "### Overriding Concept:\n",
    "Whatever members avilable in parent class are bydefault avilable to the child class through inheritance."
   ]
  },
  {
   "cell_type": "code",
   "execution_count": 3,
   "metadata": {},
   "outputs": [
    {
     "name": "stdout",
     "output_type": "stream",
     "text": [
      "Land+Cash+Gold+Power\n",
      "Subhlaxmi\n",
      "abc\n"
     ]
    }
   ],
   "source": [
    "class P:\n",
    "    def property(self):\n",
    "        print(\"Land+Cash+Gold+Power\")\n",
    "    def marry(self):\n",
    "        print(\"Subhlaxmi\")\n",
    "\n",
    "class C(P):\n",
    "    def marry(self):\n",
    "        super().marry()\n",
    "        print(\"abc\")\n",
    "\n",
    "c=C()\n",
    "c.property()\n",
    "c.marry()"
   ]
  },
  {
   "cell_type": "code",
   "execution_count": 6,
   "metadata": {},
   "outputs": [
    {
     "name": "stdout",
     "output_type": "stream",
     "text": [
      "Parent constructor\n",
      "Child constructor\n"
     ]
    }
   ],
   "source": [
    "class P:\n",
    "    def __init__(self) -> None:\n",
    "        print(\"Parent constructor\")\n",
    "\n",
    "class C(P):\n",
    "    def __init__(self) -> None:\n",
    "        super().__init__()\n",
    "        print(\"Child constructor\")\n",
    "\n",
    "c=C()\n"
   ]
  },
  {
   "cell_type": "code",
   "execution_count": 7,
   "metadata": {},
   "outputs": [
    {
     "name": "stdout",
     "output_type": "stream",
     "text": [
      "Name Durga and age 43\n",
      "Employee salary 450000\n"
     ]
    }
   ],
   "source": [
    "class Person:\n",
    "    def __init__(self, name, age) -> None:\n",
    "        self.name=name \n",
    "        self.age=age\n",
    "\n",
    "    def display(self):\n",
    "        print(f\"Name {self.name} and age {self.age}\")\n",
    "\n",
    "\n",
    "class Employee(Person):\n",
    "    def __init__(self, name, age, eno, esal) -> None:\n",
    "        super().__init__(name, age)\n",
    "        self.eno=eno\n",
    "        self.esal=esal\n",
    "\n",
    "    def display(self):\n",
    "        super().display()\n",
    "        print(f\"Employee salary {self.esal}\")\n",
    "\n",
    "\n",
    "\n",
    "e = Employee(\"Durga\", 43, 211, 450000)\n",
    "e.display()"
   ]
  },
  {
   "cell_type": "markdown",
   "metadata": {},
   "source": [
    "| Feature | Java | Python |\n",
    "|---|---|---|\n",
    "| Operator Overloading | Not Possible | Possible |\n",
    "| Method Overloading | Possible | Not Possible |\n",
    "| Constructor Overloading | Possible | Not Possible |\n",
    "| Method Overriding | Possible | Possible |\n",
    "| Constructor Overriding | Not Possible | Possible |"
   ]
  },
  {
   "cell_type": "markdown",
   "metadata": {},
   "source": [
    "![Polymorphism](./Images/poly.png)"
   ]
  },
  {
   "cell_type": "markdown",
   "metadata": {},
   "source": [
    "### Polymorphism Examples\n",
    "- A Boy starts Love with the word **Friendship**, A girl ends Love with the same word Friendship. The word is the same, but the purpose is different. This beautiful concept of OOPs is called polymorphism.\n",
    "\n",
    "### Real-Life Analogy\n",
    "\n",
    "A mother called her son and asked: \"Please bring Red Label?\"\n",
    "    - How many kgs?\n",
    "A mother called her son and asked: \"Please bring Red Label?\"\n",
    "    - How many bottles?"
   ]
  }
 ],
 "metadata": {
  "kernelspec": {
   "display_name": "Python 3",
   "language": "python",
   "name": "python3"
  },
  "language_info": {
   "codemirror_mode": {
    "name": "ipython",
    "version": 3
   },
   "file_extension": ".py",
   "mimetype": "text/x-python",
   "name": "python",
   "nbconvert_exporter": "python",
   "pygments_lexer": "ipython3",
   "version": "3.11.5"
  }
 },
 "nbformat": 4,
 "nbformat_minor": 2
}
