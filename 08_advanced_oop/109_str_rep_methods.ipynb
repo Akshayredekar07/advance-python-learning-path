{
 "cells": [
  {
   "cell_type": "markdown",
   "metadata": {},
   "source": [
    "1. Differnece between the str() and rep() methods?\n",
    "2. Differnece between the `__str__()` and `__rep__()` methods?"
   ]
  },
  {
   "cell_type": "markdown",
   "metadata": {},
   "source": []
  },
  {
   "cell_type": "code",
   "execution_count": 4,
   "metadata": {},
   "outputs": [
    {
     "name": "stdout",
     "output_type": "stream",
     "text": [
      "Student with name Durga having marks: 90\n",
      "Student with name Ravi having marks: 100\n",
      "Student with name Durga having marks: 90\n",
      "Student with name Ravi having marks: 100\n"
     ]
    }
   ],
   "source": [
    "class Student:\n",
    "    def __init__(self, name, marks) -> None:\n",
    "        self.name = name\n",
    "        self.marks = marks \n",
    "\n",
    "    def __str__(self):\n",
    "        return f\"Student with name {self.name} having marks: {self.marks}\"        \n",
    "\n",
    "s1 = Student(\"Durga\", 90)        \n",
    "s2 = Student(\"Ravi\", 100)      \n",
    "\n",
    "print(s1)\n",
    "print(s2)\n",
    "\n",
    "print(str(s1))\n",
    "print(str(s2))"
   ]
  },
  {
   "cell_type": "markdown",
   "metadata": {},
   "source": [
    "Whenever we try to print an object, it must be converted to its string representation to be printed.\"\n",
    "\n",
    "for this `__str__()` method will be called\n",
    "\n",
    "If you want to convert any object to string, we have to call  str() function"
   ]
  },
  {
   "cell_type": "code",
   "execution_count": 12,
   "metadata": {},
   "outputs": [
    {
     "name": "stdout",
     "output_type": "stream",
     "text": [
      "2024-10-08 21:34:42.616405\n",
      "datetime.datetime(2024, 10, 8, 21, 34, 42, 616405)\n",
      "2024-10-08 21:34:42.616405\n",
      "<class 'datetime.datetime'>\n"
     ]
    }
   ],
   "source": [
    "import datetime\n",
    "today=datetime.datetime.now()\n",
    "s = str(today)\n",
    "print(s)\n",
    "# today1=eval(s) #gvie error\n",
    "# print(today1)\n",
    "\n",
    "s = repr(today)\n",
    "print(s)\n",
    "\n",
    "today2=eval(s)\n",
    "print(today2)\n",
    "\n",
    "print(type(today2))"
   ]
  },
  {
   "cell_type": "markdown",
   "metadata": {},
   "source": [
    "By using str(), we can convert the given object into a string. However, the reverse is not possible, meaning we cannot reconstruct the original object from the string.\n",
    "\n",
    "By using repr(), we can convert the given object into a string that is often more detailed and can be used to recreate the original object. In many cases, this string representation is sufficient to get back the original object when evaluated.\n",
    "\n"
   ]
  },
  {
   "cell_type": "code",
   "execution_count": null,
   "metadata": {},
   "outputs": [],
   "source": []
  }
 ],
 "metadata": {
  "kernelspec": {
   "display_name": "Python 3",
   "language": "python",
   "name": "python3"
  },
  "language_info": {
   "codemirror_mode": {
    "name": "ipython",
    "version": 3
   },
   "file_extension": ".py",
   "mimetype": "text/x-python",
   "name": "python",
   "nbconvert_exporter": "python",
   "pygments_lexer": "ipython3",
   "version": "3.12.7"
  }
 },
 "nbformat": 4,
 "nbformat_minor": 2
}
