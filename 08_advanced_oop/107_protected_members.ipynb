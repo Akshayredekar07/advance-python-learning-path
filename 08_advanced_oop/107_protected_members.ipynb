{
 "cells": [
  {
   "cell_type": "code",
   "execution_count": 3,
   "metadata": {},
   "outputs": [
    {
     "name": "stdout",
     "output_type": "stream",
     "text": [
      "{'_Test__y': 20}\n",
      "20\n",
      "Private method\n"
     ]
    }
   ],
   "source": [
    "class Test:\n",
    "    def __init__(self) -> None:\n",
    "        self.__y = 20\n",
    "\n",
    "    def __m1(self):\n",
    "        print('Private method')\n",
    "\n",
    "    def __m2(self):\n",
    "        print(self.__y)                \n",
    "        self.m1()\n",
    "\n",
    "t = Test()\n",
    "# t.__m1()     \n",
    "# print(t.__dict__)\n",
    "# for Every private member ---> name mangling happens\n",
    "# __y ==> _classname__y\n",
    "# __y ==> _Test__y\n",
    "# __m1 ==> _Test__m1\n",
    "\n",
    "print(t._Test__y)\n",
    "t._Test__m1()"
   ]
  },
  {
   "cell_type": "markdown",
   "metadata": {},
   "source": [
    "### Protected members:\n",
    "- If a member is protected, we can access that member within the class and also within the child class.\n",
    "- We can declare protected members using a single underscore symbol.\n",
    "- _`x = 10` # protected member\n",
    "\n",
    "```python\n",
    "class Test:\n",
    "    def __init__(self) -> None:\n",
    "        self._x = 10\n",
    "```"
   ]
  },
  {
   "cell_type": "code",
   "execution_count": 4,
   "metadata": {},
   "outputs": [
    {
     "name": "stdout",
     "output_type": "stream",
     "text": [
      "10\n"
     ]
    }
   ],
   "source": [
    "class P:\n",
    "    def __init__(self) -> None:\n",
    "        self._x=10 #Protected member\n",
    "\n",
    "    def m1(self):\n",
    "        print(self._x)\n",
    "\n",
    "class C(P):\n",
    "    def m2(self):\n",
    "        print(self._x)\n",
    "\n",
    "c = C()\n",
    "print(c._x)                        "
   ]
  },
  {
   "cell_type": "markdown",
   "metadata": {},
   "source": [
    "- It is just a theoretical convention, not implemented in Python"
   ]
  }
 ],
 "metadata": {
  "kernelspec": {
   "display_name": "Python 3",
   "language": "python",
   "name": "python3"
  },
  "language_info": {
   "codemirror_mode": {
    "name": "ipython",
    "version": 3
   },
   "file_extension": ".py",
   "mimetype": "text/x-python",
   "name": "python",
   "nbconvert_exporter": "python",
   "pygments_lexer": "ipython3",
   "version": "3.11.5"
  }
 },
 "nbformat": 4,
 "nbformat_minor": 2
}
