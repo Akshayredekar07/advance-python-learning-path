{
 "cells": [
  {
   "cell_type": "code",
   "execution_count": null,
   "metadata": {},
   "outputs": [],
   "source": [
    "print(\"Serilization\")"
   ]
  },
  {
   "cell_type": "markdown",
   "metadata": {},
   "source": [
    "## **Object Serialization Using JSON**\n",
    "\n",
    "### **Importance of JSON**\n",
    "\n",
    "**JSON (JavaScript Object Notation)** is a lightweight data format that is widely used for data exchange between applications, regardless of programming language or platform.  \n",
    "\n",
    "### **Why JSON?**\n",
    "- Any programming language can understand JSON, making it highly **interoperable**.\n",
    "- It is a **human-readable** format.\n",
    "- It is **lightweight** and requires less memory to store data.\n",
    "\n",
    "### **Example Use Case**\n",
    "A Java application sends a request to a Python application.  \n",
    "The Python application provides the required response in JSON format.  \n",
    "Since JSON is universally readable, the Java application can process the data as needed.\n",
    "\n",
    "### **What is JSON?**\n",
    "\n",
    "In **JavaScript**, an object is a collection of key-value pairs, which is equivalent to **JSON**.  \n",
    "Similarly, **Python dictionaries (`dict`)** are structurally similar to JSON.\n",
    "\n",
    "### **Python Data Types vs. JavaScript Data Types**\n",
    "| **Python Type** | **JavaScript (JSON) Equivalent** |\n",
    "|---------------|----------------------|\n",
    "| `int`        | `number`              |\n",
    "| `float`      | `number`              |\n",
    "| `list`       | `array`               |\n",
    "| `dict`       | `object (JSON)`       |\n",
    "| `str`        | `string`              |\n",
    "| `True`       | `true`                |\n",
    "| `False`      | `false`               |\n",
    "| `None`       | `null`                |\n",
    "\n",
    "### **Why JSON Over XML?**\n",
    "1. **Lightweight** – Uses less storage and bandwidth.\n",
    "2. **Human Readable** – Easier to read and write than XML.\n",
    "\n",
    "### **Python's `json` Module**\n",
    "Python provides an **inbuilt `json` module** to handle serialization (converting Python objects to JSON) and deserialization (converting JSON to Python objects).\n",
    "\n",
    "### **Functions for Serialization (Python → JSON)**\n",
    "| **Function** | **Description** |\n",
    "|----------|------------|\n",
    "| `json.dumps(obj)` | **Converts a Python dictionary (`dict`) into a JSON string.** |\n",
    "| `json.dump(obj, file)` | **Converts a Python dictionary (`dict`) to JSON and writes it to a file.** |\n",
    "\n",
    "### **Functions for Deserialization (JSON → Python)**\n",
    "| **Function** | **Description** |\n",
    "|----------|------------|\n",
    "| `json.loads(json_string)` | **Converts a JSON string into a Python dictionary (`dict`).** |\n",
    "| `json.load(file)` | **Reads JSON from a file and converts it into a Python dictionary (`dict`).** |\n"
   ]
  },
  {
   "cell_type": "code",
   "execution_count": null,
   "metadata": {},
   "outputs": [],
   "source": [
    "# <employee>\n",
    "# <employee-name><employee-name>\n",
    "# <employee>"
   ]
  },
  {
   "cell_type": "code",
   "execution_count": 3,
   "metadata": {},
   "outputs": [
    {
     "name": "stdout",
     "output_type": "stream",
     "text": [
      "{\n",
      "    \"age\": 35,\n",
      "    \"ishavinggirlfriend\": null,\n",
      "    \"ismarried\": true,\n",
      "    \"name\": \"durga\",\n",
      "    \"salary\": 1000.0\n",
      "}\n"
     ]
    }
   ],
   "source": [
    "import json\n",
    "employee = {\n",
    "    'name': 'durga',\n",
    "    'age': 35,\n",
    "    'salary': 1000.0,\n",
    "    'ismarried': True,\n",
    "    'ishavinggirlfriend': None\n",
    "}\n",
    "\n",
    "# Serializing Python dict to JSON string\n",
    "json_string = json.dumps(employee, indent=4, sort_keys=True)\n",
    "print(json_string)\n",
    "\n",
    "# Serializing Python dict to JSON file\n",
    "with open('emp.json', 'w') as f:\n",
    "    json.dump(employee, f, indent=4)"
   ]
  },
  {
   "cell_type": "code",
   "execution_count": 5,
   "metadata": {},
   "outputs": [
    {
     "name": "stdout",
     "output_type": "stream",
     "text": [
      "<class 'dict'>\n",
      "Animal Name: Tiger\n",
      "Species: Panthera tigris\n",
      "Age: 5\n",
      "Weight (kg): 200.5\n",
      "Is Carnivore: True\n",
      "name : Tiger\n",
      "species : Panthera tigris\n",
      "age : 5\n",
      "weight : 200.5\n",
      "is_carnivore : True\n",
      "habitat : jungle\n",
      "endangered : True\n",
      "diet : None\n"
     ]
    }
   ],
   "source": [
    "# JSON string with animal data\n",
    "json_string = '''{\n",
    "    \"name\": \"Tiger\",\n",
    "    \"species\": \"Panthera tigris\",\n",
    "    \"age\": 5,\n",
    "    \"weight\": 200.5,\n",
    "    \"is_carnivore\": true,\n",
    "    \"habitat\": \"jungle\",\n",
    "    \"endangered\": true,\n",
    "    \"diet\": null\n",
    "}'''\n",
    "\n",
    "# Converting JSON string to Python dictionary\n",
    "animal_dict = json.loads(json_string)\n",
    "\n",
    "print(type(animal_dict))\n",
    "\n",
    "# Accessing dictionary values\n",
    "print('Animal Name:', animal_dict['name'])\n",
    "print('Species:', animal_dict['species'])\n",
    "print('Age:', animal_dict['age'])\n",
    "print('Weight (kg):', animal_dict['weight'])\n",
    "print('Is Carnivore:', animal_dict['is_carnivore'])\n",
    "\n",
    "# Iterating over dictionary items\n",
    "for k, v in animal_dict.items():\n",
    "    print(f'{k} : {v}')\n"
   ]
  },
  {
   "cell_type": "code",
   "execution_count": 6,
   "metadata": {},
   "outputs": [
    {
     "name": "stdout",
     "output_type": "stream",
     "text": [
      "User data saved successfully.\n"
     ]
    }
   ],
   "source": [
    "# User data to be stored\n",
    "users = [\n",
    "    {\"id\": 1, \"name\": \"Alice\", \"email\": \"alice@example.com\", \"is_admin\": True},\n",
    "    {\"id\": 2, \"name\": \"Bob\", \"email\": \"bob@example.com\", \"is_admin\": False},\n",
    "    {\"id\": 3, \"name\": \"Charlie\", \"email\": \"charlie@example.com\", \"is_admin\": False}\n",
    "]\n",
    "\n",
    "# Serialize and save to a JSON file\n",
    "with open(\"users.json\", \"w\") as f:\n",
    "    json.dump(users, f, indent=4)\n",
    "\n",
    "print(\"User data saved successfully.\")\n",
    "\n",
    "# Read data from JSON file\n",
    "with open(\"users.json\", \"r\") as f:\n",
    "    users = json.load(f)\n",
    "\n",
    "# Functions for user management\n",
    "def find_user_by_email(email):\n",
    "    return next((user for user in users if user[\"email\"] == email), None)\n",
    "\n",
    "def update_admin_status(user_id, new_status):\n",
    "    for user in users:\n",
    "        if user[\"id\"] == user_id:\n",
    "            user[\"is_admin\"] = new_status\n",
    "            with open(\"users.json\", \"w\") as f:\n",
    "                json.dump(users, f, indent=4)\n",
    "            return True\n",
    "    return False\n",
    "\n",
    "def delete_user(user_id):\n",
    "    global users\n",
    "    original_length = len(users)\n",
    "    users = [user for user in users if user[\"id\"] != user_id]\n",
    "    if len(users) < original_length:\n",
    "        with open(\"users.json\", \"w\") as f:\n",
    "            json.dump(users, f, indent=4)\n",
    "        return True\n",
    "    return False\n"
   ]
  },
  {
   "cell_type": "code",
   "execution_count": null,
   "metadata": {},
   "outputs": [],
   "source": []
  }
 ],
 "metadata": {
  "kernelspec": {
   "display_name": "Python 3",
   "language": "python",
   "name": "python3"
  },
  "language_info": {
   "codemirror_mode": {
    "name": "ipython",
    "version": 3
   },
   "file_extension": ".py",
   "mimetype": "text/x-python",
   "name": "python",
   "nbconvert_exporter": "python",
   "pygments_lexer": "ipython3",
   "version": "3.10.9"
  }
 },
 "nbformat": 4,
 "nbformat_minor": 2
}
