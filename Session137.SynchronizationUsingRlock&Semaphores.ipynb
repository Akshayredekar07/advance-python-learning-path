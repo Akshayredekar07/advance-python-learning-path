{
 "cells": [
  {
   "cell_type": "code",
   "execution_count": 3,
   "metadata": {},
   "outputs": [],
   "source": [
    "from threading import *\n",
    "import time"
   ]
  },
  {
   "cell_type": "code",
   "execution_count": 3,
   "metadata": {},
   "outputs": [
    {
     "name": "stdout",
     "output_type": "stream",
     "text": [
      "Good Morning: "
     ]
    },
    {
     "name": "stdout",
     "output_type": "stream",
     "text": [
      "thread-1\n",
      "Good Morning: thread-1\n",
      "Good Morning: thread-1\n",
      "Good Morning: thread-1\n",
      "Good Morning: thread-1\n",
      "Good Morning: thread-1\n",
      "Good Morning: thread-1\n",
      "Good Morning: thread-1\n",
      "Good Morning: thread-1\n",
      "Good Morning: thread-1\n",
      "Good Morning: thread-2\n",
      "Good Morning: thread-2\n",
      "Good Morning: thread-2\n",
      "Good Morning: thread-2\n",
      "Good Morning: thread-2\n",
      "Good Morning: thread-2\n",
      "Good Morning: thread-2\n",
      "Good Morning: thread-2\n",
      "Good Morning: thread-2\n",
      "Good Morning: thread-2\n",
      "Good Morning: thread-3\n",
      "Good Morning: thread-3\n",
      "Good Morning: thread-3\n",
      "Good Morning: thread-3\n",
      "Good Morning: thread-3\n",
      "Good Morning: thread-3\n",
      "Good Morning: thread-3\n",
      "Good Morning: thread-3\n",
      "Good Morning: thread-3\n",
      "Good Morning: thread-3\n",
      "Good Morning: thread-4\n",
      "Good Morning: thread-4\n",
      "Good Morning: thread-4\n",
      "Good Morning: thread-4\n",
      "Good Morning: thread-4\n",
      "Good Morning: thread-4\n",
      "Good Morning: thread-4\n",
      "Good Morning: thread-4\n",
      "Good Morning: thread-4\n",
      "Good Morning: thread-4\n"
     ]
    },
    {
     "name": "stderr",
     "output_type": "stream",
     "text": [
      "Exception in thread Thread-67 (wish):\n",
      "Traceback (most recent call last):\n",
      "  File \"c:\\Users\\Admin\\AppData\\Local\\Programs\\Python\\Python312\\Lib\\threading.py\", line 1075, in _bootstrap_inner\n",
      "    self.run()\n",
      "  File \"C:\\Users\\Admin\\AppData\\Roaming\\Python\\Python312\\site-packages\\ipykernel\\ipkernel.py\", line 766, in run_closure\n",
      "    _threading_Thread_run(self)\n",
      "  File \"c:\\Users\\Admin\\AppData\\Local\\Programs\\Python\\Python312\\Lib\\threading.py\", line 1012, in run\n",
      "    self._target(*self._args, **self._kwargs)\n",
      "  File \"C:\\Users\\Admin\\AppData\\Local\\Temp\\ipykernel_1680\\115467217.py\", line 8, in wish\n",
      "RuntimeError: release unlocked lock\n"
     ]
    }
   ],
   "source": [
    "l=Lock()\n",
    "def wish(name):\n",
    "    l.acquire()\n",
    "    for i in range(10):\n",
    "        print(\"Good Morning: \", end='')\n",
    "        time.sleep(0.2)\n",
    "        print(name)\n",
    "    l.release()\n",
    "\n",
    "t1=Thread(target=wish, args=(\"thread-1\", ))            \n",
    "t2=Thread(target=wish, args=(\"thread-2\", ))            \n",
    "t3=Thread(target=wish, args=(\"thread-3\", ))            \n",
    "t4=Thread(target=wish, args=(\"thread-4\", ))            \n",
    "\n",
    "t1.start()\n",
    "t2.start()\n",
    "t3.start()\n",
    "t4.start()"
   ]
  },
  {
   "cell_type": "code",
   "execution_count": 5,
   "metadata": {},
   "outputs": [
    {
     "name": "stdout",
     "output_type": "stream",
     "text": [
      "Main thread trying to acquire lock\n",
      "Main thread trying to acquire lock again\n",
      "Doing synchronization work\n"
     ]
    }
   ],
   "source": [
    "\n",
    "l = RLock()\n",
    "l.acquire()\n",
    "print(\"Main thread trying to acquire lock\")\n",
    "l.acquire()\n",
    "print(\"Main thread trying to acquire lock again\")\n",
    "l.acquire()\n",
    "print(\"Doing synchronization work\")\n",
    "l.release()\n",
    "l.release()\n",
    "l.release()\n"
   ]
  },
  {
   "cell_type": "markdown",
   "metadata": {},
   "source": [
    "\n",
    "1. **Reentrant Lock**: `RLock` (Reentrant Lock) allows a thread to acquire the lock multiple times without causing a deadlock.  \n",
    "2. **Release Matching Acquire**: Each call to `acquire()` must be matched by a corresponding call to `release()`.  \n",
    "3. **Thread Safety**: Useful when a thread needs to acquire the same lock in multiple methods or recursive calls.  \n",
    "4. **Part of threading module**: Import it from Python’s `threading` module.  \n",
    "\n"
   ]
  },
  {
   "cell_type": "code",
   "execution_count": 6,
   "metadata": {},
   "outputs": [
    {
     "name": "stdout",
     "output_type": "stream",
     "text": [
      "Lock acquired, n = 3\n",
      "Lock acquired, n = 2\n",
      "Lock acquired, n = 1\n",
      "Lock acquired, n = 0\n",
      "Lock released, n = 0\n",
      "Lock released, n = 1\n",
      "Lock released, n = 2\n",
      "Lock released, n = 3\n"
     ]
    }
   ],
   "source": [
    "import threading\n",
    "\n",
    "# Create an RLock\n",
    "lock = threading.RLock()\n",
    "\n",
    "def recursive_function(n):\n",
    "    lock.acquire()\n",
    "    try:\n",
    "        print(f\"Lock acquired, n = {n}\")\n",
    "        if n > 0:\n",
    "            recursive_function(n - 1)\n",
    "    finally:\n",
    "        print(f\"Lock released, n = {n}\")\n",
    "        lock.release()\n",
    "\n",
    "# Start the function\n",
    "recursive_function(3)\n"
   ]
  },
  {
   "cell_type": "code",
   "execution_count": 8,
   "metadata": {},
   "outputs": [],
   "source": [
    "l=Lock()\n",
    "def factorial(n):\n",
    "    l.acquire()\n",
    "    if n==0:\n",
    "        result=1\n",
    "    else:\n",
    "        result=n*factorial(n-1)\n",
    "    l.release()        \n",
    "    return result\n",
    "\n",
    "def results(n):\n",
    "    print(f\"The factorial of {n} is {factorial(n)}\")     \n",
    "\n",
    "\n",
    "t1=Thread(target=results, args=(5,))\n",
    "t2=Thread(target=results, args=(9,))\n",
    "t1.start()\n",
    "t2.start()"
   ]
  },
  {
   "cell_type": "code",
   "execution_count": null,
   "metadata": {},
   "outputs": [],
   "source": []
  },
  {
   "cell_type": "markdown",
   "metadata": {},
   "source": [
    "\n",
    "### **Difference between Lock and RLock**\n",
    "\n",
    "| Feature                          | Lock                                                                                     | RLock                                                                                     |\n",
    "|----------------------------------|------------------------------------------------------------------------------------------|------------------------------------------------------------------------------------------|\n",
    "| **Acquisition by Owner**         | Lock object can be acquired by only one thread at a time. Even the owner thread cannot re-acquire it. | RLock object can be acquired by only one thread at a time, but the owner thread can acquire it multiple times. |\n",
    "| **Suitability for Recursive Calls** | Not suitable for recursive functions or nested access calls.                             | Best suited for recursive functions and nested access calls.                             |\n",
    "| **Thread and Recursion Handling** | Manages only locked or unlocked states, without tracking the owner thread or recursion level. | Tracks locked or unlocked states, owner thread information, and recursion level.          |\n",
    "\n",
    "\n",
    "#### Synchronization Using Semaphore\n",
    "\n",
    "- In `Lock` and `RLock`, only one thread can access at a time.\n",
    "- `Semaphore` allows a specific number of threads to access a shared resource simultaneously (e.g., 10 users accessing a database or 4 using a network connection).\n",
    "\n",
    "#### Characteristics of Semaphore:\n",
    "- Limits access to shared resources with finite capacity.\n",
    "- Advanced synchronization mechanism.\n",
    "\n",
    "#### Creation:\n",
    "```python\n",
    "from threading import Semaphore\n",
    "\n",
    "# Create Semaphore with a specific counter value\n",
    "s = Semaphore(counter)\n",
    "```\n",
    "- **`counter`**: Maximum threads allowed simultaneously. Default is `1`.\n",
    "\n",
    "#### Behavior:\n",
    "- **`acquire()`**: Decreases the counter by 1.\n",
    "- **`release()`**: Increases the counter by 1.\n",
    "\n",
    "#### Example Scenarios:\n",
    "1. **`Semaphore()`**:\n",
    "   - Counter = 1.\n",
    "   - Equivalent to the `Lock` concept, allowing only one thread at a time.\n",
    "   \n",
    "2. **`Semaphore(3)`**:\n",
    "   - Counter = 3.\n",
    "   - Allows up to 3 threads to access simultaneously. Others must wait until the semaphore is released.\n",
    "\n"
   ]
  },
  {
   "cell_type": "code",
   "execution_count": 10,
   "metadata": {},
   "outputs": [
    {
     "name": "stdout",
     "output_type": "stream",
     "text": [
      "Good Morning: "
     ]
    },
    {
     "name": "stdout",
     "output_type": "stream",
     "text": [
      "Rohit\n",
      "Good Morning: Rohit\n",
      "Good Morning: Rohit\n",
      "Good Morning: Rohit\n",
      "Good Morning: Rohit\n",
      "Good Morning: Rohit\n",
      "Good Morning: Rohit\n",
      "Good Morning: Rohit\n",
      "Good Morning: Rohit\n",
      "Good Morning: Rohit\n",
      "Good Morning: Virat\n",
      "Good Morning: Virat\n",
      "Good Morning: Virat\n",
      "Good Morning: Virat\n",
      "Good Morning: Virat\n",
      "Good Morning: Virat\n",
      "Good Morning: Virat\n",
      "Good Morning: Virat\n",
      "Good Morning: Virat\n",
      "Good Morning: Virat\n",
      "Good Morning: Pandya\n",
      "Good Morning: Pandya\n",
      "Good Morning: Pandya\n",
      "Good Morning: Pandya\n",
      "Good Morning: Pandya\n",
      "Good Morning: Pandya\n",
      "Good Morning: Pandya\n",
      "Good Morning: Pandya\n",
      "Good Morning: Pandya\n",
      "Good Morning: Pandya\n",
      "Good Morning: Rahul\n",
      "Good Morning: Rahul\n",
      "Good Morning: Rahul\n",
      "Good Morning: Rahul\n",
      "Good Morning: Rahul\n",
      "Good Morning: Rahul\n",
      "Good Morning: Rahul\n",
      "Good Morning: Rahul\n",
      "Good Morning: Rahul\n",
      "Good Morning: Rahul\n",
      "Good Morning: Surya\n",
      "Good Morning: Surya\n",
      "Good Morning: Surya\n",
      "Good Morning: Surya\n",
      "Good Morning: Surya\n",
      "Good Morning: Surya\n",
      "Good Morning: Surya\n",
      "Good Morning: Surya\n",
      "Good Morning: Surya\n",
      "Good Morning: Surya\n",
      "Good Morning: Jaspreet\n",
      "Good Morning: Jaspreet\n",
      "Good Morning: Jaspreet\n",
      "Good Morning: Jaspreet\n",
      "Good Morning: Jaspreet\n",
      "Good Morning: Jaspreet\n",
      "Good Morning: Jaspreet\n",
      "Good Morning: Jaspreet\n",
      "Good Morning: Jaspreet\n",
      "Good Morning: Jaspreet\n"
     ]
    }
   ],
   "source": [
    "l=Lock()\n",
    "def wish(name):\n",
    "    l.acquire()\n",
    "    for i in range(10):\n",
    "        print(\"Good Morning: \", end='')\n",
    "        time.sleep(0.1)\n",
    "        print(name)\n",
    "    l.release()\n",
    "\n",
    "t1=Thread(target=wish, args=(\"Rohit\", ))            \n",
    "t2=Thread(target=wish, args=(\"Virat\", ))            \n",
    "t3=Thread(target=wish, args=(\"Pandya\", ))            \n",
    "t4=Thread(target=wish, args=(\"Rahul\", ))            \n",
    "t5=Thread(target=wish, args=(\"Surya\", ))            \n",
    "t6=Thread(target=wish, args=(\"Jaspreet\", ))            \n",
    "\n",
    "t1.start()\n",
    "t2.start()\n",
    "t3.start()\n",
    "t4.start()\n",
    "t5.start()\n",
    "t6.start()"
   ]
  },
  {
   "cell_type": "code",
   "execution_count": 11,
   "metadata": {},
   "outputs": [
    {
     "name": "stdout",
     "output_type": "stream",
     "text": [
      "Good Morning: "
     ]
    },
    {
     "name": "stdout",
     "output_type": "stream",
     "text": [
      "Rohit\n",
      "Good Morning: Rohit\n",
      "Good Morning: Rohit\n",
      "Good Morning: Rohit\n",
      "Good Morning: Rohit\n",
      "Good Morning: Rohit\n",
      "Good Morning: Rohit\n",
      "Good Morning: Rohit\n",
      "Good Morning: Rohit\n",
      "Good Morning: Rohit\n",
      "Good Morning: Virat\n",
      "Good Morning: Virat\n",
      "Good Morning: Virat\n",
      "Good Morning: Virat\n",
      "Good Morning: Virat\n",
      "Good Morning: Virat\n",
      "Good Morning: Virat\n",
      "Good Morning: Virat\n",
      "Good Morning: Virat\n",
      "Good Morning: Virat\n",
      "Good Morning: Pandya\n",
      "Good Morning: Pandya\n",
      "Good Morning: Pandya\n",
      "Good Morning: Pandya\n",
      "Good Morning: Pandya\n",
      "Good Morning: Pandya\n",
      "Good Morning: Pandya\n",
      "Good Morning: Pandya\n",
      "Good Morning: Pandya\n",
      "Good Morning: Pandya\n",
      "Good Morning: Rahul\n",
      "Good Morning: Rahul\n",
      "Good Morning: Rahul\n",
      "Good Morning: Rahul\n",
      "Good Morning: Rahul\n",
      "Good Morning: Rahul\n",
      "Good Morning: Rahul\n",
      "Good Morning: Rahul\n",
      "Good Morning: Rahul\n",
      "Good Morning: Rahul\n",
      "Good Morning: Surya\n",
      "Good Morning: Surya\n",
      "Good Morning: Surya\n",
      "Good Morning: Surya\n",
      "Good Morning: Surya\n",
      "Good Morning: Surya\n",
      "Good Morning: Surya\n",
      "Good Morning: Surya\n",
      "Good Morning: Surya\n",
      "Good Morning: Surya\n",
      "Good Morning: Jaspreet\n",
      "Good Morning: Jaspreet\n",
      "Good Morning: Jaspreet\n",
      "Good Morning: Jaspreet\n",
      "Good Morning: Jaspreet\n",
      "Good Morning: Jaspreet\n",
      "Good Morning: Jaspreet\n",
      "Good Morning: Jaspreet\n",
      "Good Morning: Jaspreet\n",
      "Good Morning: Jaspreet\n"
     ]
    }
   ],
   "source": [
    "l=RLock()\n",
    "def wish(name):\n",
    "    l.acquire()\n",
    "    for i in range(10):\n",
    "        print(\"Good Morning: \", end='')\n",
    "        time.sleep(0.1)\n",
    "        print(name)\n",
    "    l.release()\n",
    "\n",
    "t1=Thread(target=wish, args=(\"Rohit\", ))            \n",
    "t2=Thread(target=wish, args=(\"Virat\", ))            \n",
    "t3=Thread(target=wish, args=(\"Pandya\", ))            \n",
    "t4=Thread(target=wish, args=(\"Rahul\", ))            \n",
    "t5=Thread(target=wish, args=(\"Surya\", ))            \n",
    "t6=Thread(target=wish, args=(\"Jaspreet\", ))            \n",
    "\n",
    "t1.start()\n",
    "t2.start()\n",
    "t3.start()\n",
    "t4.start()\n",
    "t5.start()\n",
    "t6.start()"
   ]
  },
  {
   "cell_type": "code",
   "execution_count": 13,
   "metadata": {},
   "outputs": [
    {
     "name": "stdout",
     "output_type": "stream",
     "text": [
      "Good Morning: Good Morning: Good Morning: "
     ]
    },
    {
     "name": "stdout",
     "output_type": "stream",
     "text": [
      "Rohit\n",
      "Good Morning: Virat\n",
      "Good Morning: Pandya\n",
      "Good Morning: Rohit\n",
      "Good Morning: Pandya\n",
      "Good Morning: Virat\n",
      "Good Morning: Rohit\n",
      "Good Morning: Virat\n",
      "Good Morning: Pandya\n",
      "Good Morning: Rohit\n",
      "Good Morning: Pandya\n",
      "Good Morning: Virat\n",
      "Good Morning: Rohit\n",
      "Good Morning: Pandya\n",
      "Good Morning: Virat\n",
      "Good Morning: Rohit\n",
      "Good Morning: Pandya\n",
      "Good Morning: Virat\n",
      "Good Morning: Rohit\n",
      "Good Morning: Pandya\n",
      "Good Morning: Virat\n",
      "Good Morning: Rohit\n",
      "Good Morning: Pandya\n",
      "Good Morning: Virat\n",
      "Good Morning: Rohit\n",
      "Good Morning: Pandya\n",
      "Good Morning: Virat\n",
      "Good Morning: Rohit\n",
      "Good Morning: Pandya\n",
      "Good Morning: Virat\n",
      "Good Morning: Rahul\n",
      "Good Morning: Surya\n",
      "Good Morning: Jaspreet\n",
      "Good Morning: Rahul\n",
      "Good Morning: Surya\n",
      "Good Morning: Jaspreet\n",
      "Good Morning: Rahul\n",
      "Good Morning: Surya\n",
      "Good Morning: Jaspreet\n",
      "Good Morning: Rahul\n",
      "Good Morning: Surya\n",
      "Good Morning: Jaspreet\n",
      "Good Morning: Rahul\n",
      "Good Morning: Surya\n",
      "Good Morning: Jaspreet\n",
      "Good Morning: Rahul\n",
      "Good Morning: Surya\n",
      "Good Morning: Jaspreet\n",
      "Good Morning: Rahul\n",
      "Good Morning: Surya\n",
      "Good Morning: Jaspreet\n",
      "Good Morning: Rahul\n",
      "Good Morning: Surya\n",
      "Good Morning: Jaspreet\n",
      "Good Morning: Rahul\n",
      "Good Morning: Surya\n",
      "Good Morning: Jaspreet\n",
      "Good Morning: Rahul\n",
      "Surya\n",
      "Jaspreet\n"
     ]
    }
   ],
   "source": [
    "l=Semaphore(3)\n",
    "def wish(name):\n",
    "    l.acquire() # for every acquire call counter decremented\n",
    "    for i in range(10):\n",
    "        print(\"Good Morning: \", end='')\n",
    "        time.sleep(0.1)\n",
    "        print(name)\n",
    "    l.release() # for every releases call, counter will inceremented\n",
    "\n",
    "t1=Thread(target=wish, args=(\"Rohit\", ))            \n",
    "t2=Thread(target=wish, args=(\"Virat\", ))            \n",
    "t3=Thread(target=wish, args=(\"Pandya\", ))            \n",
    "t4=Thread(target=wish, args=(\"Rahul\", ))            \n",
    "t5=Thread(target=wish, args=(\"Surya\", ))            \n",
    "t6=Thread(target=wish, args=(\"Jaspreet\", ))            \n",
    "\n",
    "t1.start()\n",
    "t2.start()\n",
    "t3.start()\n",
    "t4.start()\n",
    "t5.start()\n",
    "t6.start()"
   ]
  },
  {
   "cell_type": "code",
   "execution_count": null,
   "metadata": {},
   "outputs": [],
   "source": []
  },
  {
   "cell_type": "markdown",
   "metadata": {},
   "source": [
    "### **BoundedSemaphore:**\n",
    "Normal Semaphore is an unlimited semaphore which allows us to call release() method any\n",
    "number of times to increment counter.The number of release() calls can exceed the number of\n",
    "acquire() calls also."
   ]
  },
  {
   "cell_type": "code",
   "execution_count": 14,
   "metadata": {},
   "outputs": [
    {
     "name": "stdout",
     "output_type": "stream",
     "text": [
      "End\n"
     ]
    }
   ],
   "source": [
    "from threading import Semaphore\n",
    "\n",
    "s = Semaphore(2)  # Create a semaphore with counter = 2\n",
    "s.acquire()       # Decrement counter to 1\n",
    "s.acquire()       # Decrement counter to 0\n",
    "s.release()       # Increment counter to 1\n",
    "s.release()       # Increment counter to 2\n",
    "s.release()       # Increment counter to 3 (allowed in normal Semaphore)\n",
    "s.release()       # Increment counter to 4 (allowed in normal Semaphore)\n",
    "print(\"End\")      # Output: End"
   ]
  },
  {
   "cell_type": "markdown",
   "metadata": {},
   "source": [
    "- **Normal Semaphore**: `release()` can be called any number of times, regardless of the `acquire()` calls.\n",
    "- Valid, no error occurs in this case.\n",
    "\n",
    "\n",
    "\n",
    "**Code Example: BoundedSemaphore**"
   ]
  },
  {
   "cell_type": "code",
   "execution_count": 15,
   "metadata": {},
   "outputs": [
    {
     "ename": "ValueError",
     "evalue": "Semaphore released too many times",
     "output_type": "error",
     "traceback": [
      "\u001b[1;31m---------------------------------------------------------------------------\u001b[0m",
      "\u001b[1;31mValueError\u001b[0m                                Traceback (most recent call last)",
      "Cell \u001b[1;32mIn[15], line 8\u001b[0m\n\u001b[0;32m      6\u001b[0m s\u001b[38;5;241m.\u001b[39mrelease()              \u001b[38;5;66;03m# Increment counter to 1\u001b[39;00m\n\u001b[0;32m      7\u001b[0m s\u001b[38;5;241m.\u001b[39mrelease()              \u001b[38;5;66;03m# Increment counter to 2\u001b[39;00m\n\u001b[1;32m----> 8\u001b[0m \u001b[43ms\u001b[49m\u001b[38;5;241;43m.\u001b[39;49m\u001b[43mrelease\u001b[49m\u001b[43m(\u001b[49m\u001b[43m)\u001b[49m              \u001b[38;5;66;03m# Error: Exceeds the number of `acquire()` calls\u001b[39;00m\n\u001b[0;32m      9\u001b[0m s\u001b[38;5;241m.\u001b[39mrelease()              \u001b[38;5;66;03m# Error: Exceeds the number of `acquire()` calls\u001b[39;00m\n\u001b[0;32m     10\u001b[0m \u001b[38;5;28mprint\u001b[39m(\u001b[38;5;124m\"\u001b[39m\u001b[38;5;124mEnd\u001b[39m\u001b[38;5;124m\"\u001b[39m)             \u001b[38;5;66;03m# Will not execute due to the error\u001b[39;00m\n",
      "File \u001b[1;32mc:\\Users\\Admin\\AppData\\Local\\Programs\\Python\\Python312\\Lib\\threading.py:572\u001b[0m, in \u001b[0;36mBoundedSemaphore.release\u001b[1;34m(self, n)\u001b[0m\n\u001b[0;32m    570\u001b[0m \u001b[38;5;28;01mwith\u001b[39;00m \u001b[38;5;28mself\u001b[39m\u001b[38;5;241m.\u001b[39m_cond:\n\u001b[0;32m    571\u001b[0m     \u001b[38;5;28;01mif\u001b[39;00m \u001b[38;5;28mself\u001b[39m\u001b[38;5;241m.\u001b[39m_value \u001b[38;5;241m+\u001b[39m n \u001b[38;5;241m>\u001b[39m \u001b[38;5;28mself\u001b[39m\u001b[38;5;241m.\u001b[39m_initial_value:\n\u001b[1;32m--> 572\u001b[0m         \u001b[38;5;28;01mraise\u001b[39;00m \u001b[38;5;167;01mValueError\u001b[39;00m(\u001b[38;5;124m\"\u001b[39m\u001b[38;5;124mSemaphore released too many times\u001b[39m\u001b[38;5;124m\"\u001b[39m)\n\u001b[0;32m    573\u001b[0m     \u001b[38;5;28mself\u001b[39m\u001b[38;5;241m.\u001b[39m_value \u001b[38;5;241m+\u001b[39m\u001b[38;5;241m=\u001b[39m n\n\u001b[0;32m    574\u001b[0m     \u001b[38;5;28mself\u001b[39m\u001b[38;5;241m.\u001b[39m_cond\u001b[38;5;241m.\u001b[39mnotify(n)\n",
      "\u001b[1;31mValueError\u001b[0m: Semaphore released too many times"
     ]
    }
   ],
   "source": [
    "from threading import BoundedSemaphore\n",
    "\n",
    "s = BoundedSemaphore(2)  # Create a bounded semaphore with counter = 2\n",
    "s.acquire()              # Decrement counter to 1\n",
    "s.acquire()              # Decrement counter to 0\n",
    "s.release()              # Increment counter to 1\n",
    "s.release()              # Increment counter to 2\n",
    "s.release()              # Error: Exceeds the number of `acquire()` calls\n",
    "s.release()              # Error: Exceeds the number of `acquire()` calls\n",
    "print(\"End\")             # Will not execute due to the error"
   ]
  },
  {
   "cell_type": "markdown",
   "metadata": {},
   "source": [
    "- **BoundedSemaphore**: Ensures that the number of `release()` calls does not exceed the number of `acquire()` calls.\n",
    "- Error: `ValueError: Semaphore released too many times`.\n",
    "\n",
    "**Note:**\n",
    "- It is recommended to use **`BoundedSemaphore`** over normal `Semaphore` to prevent simple programming mistakes.\n",
    "\n",
    "**Difference Between Lock and Semaphore**\n",
    "\n",
    "| Feature                  | Lock                                             | Semaphore                                       |\n",
    "|--------------------------|--------------------------------------------------|------------------------------------------------|\n",
    "| **Access Restriction**   | Allows only one thread to acquire the lock at a time. | Allows a fixed number of threads (specified by the counter) to acquire it simultaneously. |\n",
    "| **Counter Behavior**     | Does not use a counter.                          | Uses a counter to track the number of permits. |\n",
    "| **Usage**                | Suitable for exclusive access to a shared resource. | Suitable for limiting access to shared resources with a specific capacity. |\n",
    "\n",
    "**Conclusion:**\n",
    "- **Advantage of Synchronization**: Prevents data inconsistency.\n",
    "- **Disadvantage of Synchronization**: Increases waiting time and reduces performance.  \n",
    "- **Recommendation**: Avoid synchronization unless required to optimize performance.\n"
   ]
  },
  {
   "cell_type": "markdown",
   "metadata": {},
   "source": []
  }
 ],
 "metadata": {
  "kernelspec": {
   "display_name": "Python 3",
   "language": "python",
   "name": "python3"
  },
  "language_info": {
   "codemirror_mode": {
    "name": "ipython",
    "version": 3
   },
   "file_extension": ".py",
   "mimetype": "text/x-python",
   "name": "python",
   "nbconvert_exporter": "python",
   "pygments_lexer": "ipython3",
   "version": "3.12.7"
  }
 },
 "nbformat": 4,
 "nbformat_minor": 2
}
