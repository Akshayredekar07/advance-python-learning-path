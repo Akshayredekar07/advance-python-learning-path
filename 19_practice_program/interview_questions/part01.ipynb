{
 "cells": [
  {
   "cell_type": "markdown",
   "id": "896ebb10",
   "metadata": {},
   "source": [
    "| Feature             | List                                                                                                                               | Tuple                                                                                                                                   |\n",
    "|----------------------|------------------------------------------------------------------------------------------------------------------------------------|-----------------------------------------------------------------------------------------------------------------------------------------|\n",
    "| **Syntax** | A group of comma-separated values within square brackets (mandatory). Example: `l = [10, 20, 30, 40]`                               | A group of comma-separated values within parentheses (optional). Examples: `t = (10, 20, 30, 40)` or `t = 10, 20, 30, 40`                |\n",
    "| **Mutability** | Mutable - content can be changed after creation                                                                                    | Immutable - content cannot be changed after creation                                                                                      |\n",
    "| **Memory Usage** | Requires more memory                                                                                                               | Requires less memory                                                                                                                      |\n",
    "| **Reusability** | Not reusable (different list objects with same values have different IDs)                                                           | Reusable (tuple objects with same values may share the same ID)                                                                           |\n",
    "| **Performance** | Lower performance - operations require more time                                                                                   | Higher performance - operations require less time                                                                                          |\n",
    "| **Comprehension** | List comprehension is supported                                                                                                    | Tuple comprehension is not supported                                                                                                      |\n",
    "| **Hashability** | Unhashable - cannot be used as keys in dictionaries or as elements in sets                                                        | Hashable - can be used as keys in dictionaries and as elements in sets                                                                      |\n",
    "| **Use Case** | Recommended when content is not fixed and may change                                                                               | Recommended when content is fixed and never changes                                                                                         |\n",
    "| **Packing/Unpacking**| Unpacking is possible but packing is not possible. Example: `a, b, c, d = l` (valid), but `l = a, b, c, d` (not a list)           | Both packing and unpacking are possible. Example: `t = a, b, c, d` (valid tuple packing), `a, b, c, d = t` (valid tuple unpacking)        |"
   ]
  },
  {
   "cell_type": "code",
   "execution_count": null,
   "id": "cbaf464d",
   "metadata": {},
   "outputs": [],
   "source": []
  },
  {
   "cell_type": "markdown",
   "id": "e9c36e15",
   "metadata": {},
   "source": [
    "\n",
    "### **'Set is mutable whereas frozenset is immutable'**\n",
    "\n",
    "\n",
    "* You can add, remove, and update elements within a `set` after it's created.\n",
    "* Once a `frozenset` is created, you cannot change its elements. It's fixed.\n",
    "\n",
    "Because `frozenset` is immutable, it can be used as an element in another set or as a key in a dictionary, which is not possible with a regular `set`."
   ]
  },
  {
   "cell_type": "code",
   "execution_count": 1,
   "id": "2682455d",
   "metadata": {},
   "outputs": [
    {
     "name": "stdout",
     "output_type": "stream",
     "text": [
      "Initial set: {1, 2, 3}\n",
      "Set after adding an element: {1, 2, 3, 4}\n",
      "Set after removing an element: {1, 3, 4}\n"
     ]
    }
   ],
   "source": [
    "my_set = {1, 2, 3}\n",
    "print(f\"Initial set: {my_set}\")\n",
    "\n",
    "my_set.add(4)\n",
    "print(f\"Set after adding an element: {my_set}\")\n",
    "\n",
    "my_set.remove(2)\n",
    "print(f\"Set after removing an element: {my_set}\")"
   ]
  },
  {
   "cell_type": "code",
   "execution_count": 2,
   "id": "d234de67",
   "metadata": {},
   "outputs": [
    {
     "name": "stdout",
     "output_type": "stream",
     "text": [
      "Initial frozenset: frozenset({1, 2, 3})\n",
      "Error trying to add to frozenset: 'frozenset' object has no attribute 'add'\n",
      "Error trying to remove from frozenset: 'frozenset' object has no attribute 'remove'\n",
      "Set containing a frozenset: {frozenset({1, 2, 3}), (5, 6)}\n",
      "Dictionary with frozenset keys: {frozenset({1, 2, 3}): 'value1', frozenset({8, 7}): 'value2'}\n"
     ]
    }
   ],
   "source": [
    "my_frozenset = frozenset({1, 2, 3})\n",
    "print(f\"Initial frozenset: {my_frozenset}\")\n",
    "\n",
    "try:\n",
    "    my_frozenset.add(4)\n",
    "except AttributeError as e:\n",
    "    print(f\"Error trying to add to frozenset: {e}\")\n",
    "\n",
    "try:\n",
    "    my_frozenset.remove(2)\n",
    "except AttributeError as e:\n",
    "    print(f\"Error trying to remove from frozenset: {e}\")\n",
    "\n",
    "another_set = {my_frozenset, (5, 6)}\n",
    "print(f\"Set containing a frozenset: {another_set}\")\n",
    "\n",
    "my_dict = {my_frozenset: \"value1\", frozenset({7, 8}): \"value2\"}\n",
    "print(f\"Dictionary with frozenset keys: {my_dict}\")"
   ]
  },
  {
   "cell_type": "code",
   "execution_count": 4,
   "id": "a43e3eed",
   "metadata": {},
   "outputs": [
    {
     "name": "stdout",
     "output_type": "stream",
     "text": [
      "AttributeError Explanation:\n",
      "- An AttributeError occurs when you try to access or modify an attribute\n",
      "  or method that doesn't exist for that object type\n",
      "- In this case: 'str' object has no attribute 'append'\n",
      "\n",
      "Similarly, in our frozenset example above:\n",
      "- frozenset doesn't have 'add' or 'remove' methods because it's immutable\n",
      "- Trying to use these methods raises AttributeError\n"
     ]
    }
   ],
   "source": [
    "# Demonstrate AttributeError with a simple example\n",
    "regular_string = \"hello\"\n",
    "\n",
    "try:\n",
    "    # Strings are immutable, so this will raise an AttributeError\n",
    "    regular_string.append(\"world\")\n",
    "except AttributeError as e:\n",
    "    print(\"AttributeError Explanation:\")\n",
    "    print(\"- An AttributeError occurs when you try to access or modify an attribute\")\n",
    "    print(\"  or method that doesn't exist for that object type\")\n",
    "    print(f\"- In this case: {e}\")\n",
    "    print(\"\\nSimilarly, in our frozenset example above:\")\n",
    "    print(\"- frozenset doesn't have 'add' or 'remove' methods because it's immutable\")\n",
    "    print(\"- Trying to use these methods raises AttributeError\")"
   ]
  },
  {
   "cell_type": "markdown",
   "id": "abfb29b2",
   "metadata": {},
   "source": [
    "| Feature             | List                                                                   | Dict                                                                                                                            |\n",
    "|----------------------|-------------------------------------------------------------------------|---------------------------------------------------------------------------------------------------------------------------------|\n",
    "| **Structure** | Group of comma-separated individual objects within square brackets.      | Group of comma-separated key-value pairs within curly braces.                                                                    |\n",
    "| **Insertion Order** | Preserved.                                                              | Not preserved (before Python 3.7). From Python 3.7 onwards, insertion order is guaranteed.                                      |\n",
    "| **Duplicates** | Duplicate objects are allowed.                                          | Duplicate keys are not allowed (old value is replaced). Values can be duplicated.                                             |\n",
    "| **Accessing Elements**| Accessed by using index (zero-based).                                  | Accessed by using keys.                                                                                                         |\n",
    "| **Hashability** | Objects need not be hashable.                                           | Keys must be hashable.                                                                                                          |"
   ]
  },
  {
   "cell_type": "markdown",
   "id": "ecf410f6",
   "metadata": {},
   "source": [
    "#### Q9. In Dict, duplicate keys are not allowed. If we are trying to add an entry(key-value pair) with duplicate key what will be happend?\n",
    "\n",
    "Duplicate keys are not allowed, but values can be duplicated. If we are trying to add an entry(key-value pair) with duplicate key then old value will be replaced with new value."
   ]
  },
  {
   "cell_type": "code",
   "execution_count": null,
   "id": "30d12b12",
   "metadata": {},
   "outputs": [],
   "source": []
  },
  {
   "cell_type": "markdown",
   "id": "380a5522",
   "metadata": {},
   "source": [
    "| Feature             | List                                          | Set                                                                            |\n",
    "|----------------------|-----------------------------------------------|---------------------------------------------------------------------------------|\n",
    "| **Duplicates** | Duplicate objects are allowed.                  | Duplicate objects are not allowed.                                              |\n",
    "| **Insertion Order** | Insertion order is preserved.                 | Objects will be inserted based on hashcode and hence insertion order is not preserved. |\n",
    "| **Hashability** | Objects need not be hashable.                   | Objects should be hashable.                                                     |\n",
    "| **Indexing/Slicing**| Indexing and Slicing concepts are applicable. | Indexing and Slicing concepts are not applicable.                               |"
   ]
  },
  {
   "cell_type": "markdown",
   "id": "d7a91e1f",
   "metadata": {},
   "source": []
  },
  {
   "cell_type": "markdown",
   "id": "7bd791a1",
   "metadata": {},
   "source": [
    "\n",
    "\n",
    "### ❓ Explain the Slice Operator and Its Syntax\n",
    "\n",
    "If we want to access a part (a *slice*) of a given sequence, such as a **string**, **list**, or **tuple**, we use the **slice operator**.\n",
    "\n",
    "\n",
    "### Syntax\n",
    "\n",
    "```python\n",
    "s[begin : end : step]\n",
    "```\n",
    "\n",
    "- `begin` → Starting index (inclusive)\n",
    "- `end` → Ending index (exclusive)\n",
    "- `step` → The interval between elements (cannot be zero)\n",
    "\n",
    "\n",
    "### Behavior Based on Step Value\n",
    "\n",
    "- If `step` is **positive** (`+ve`):\n",
    "  - Traverses **forward** from `begin` to `end - 1`\n",
    "  \n",
    "- If `step` is **negative** (`-ve`):\n",
    "  - Traverses **backward** from `begin` to `end + 1`\n",
    "\n",
    "> ⚠️ Note: The `step` value **cannot be zero**.\n",
    "\n",
    "\n",
    "### Important Notes\n",
    "\n",
    "1. **Forward Direction**:\n",
    "   - If `end` is `0`, the result is always an **empty sequence**.\n",
    "\n",
    "2. **Backward Direction**:\n",
    "   - If `end` is `-1`, the result is always an **empty sequence**.\n",
    "\n",
    "\n",
    "```python\n",
    "s = [0, 1, 2, 3, 4, 5]\n",
    "\n",
    "print(s[1:5:1])   # [1, 2, 3, 4] – forward slice\n",
    "print(s[5:1:-1])  # [5, 4, 3, 2] – backward slice\n",
    "print(s[::2])     # [0, 2, 4] – full sequence with step 2\n",
    "print(s[::-1])    # [5, 4, 3, 2, 1, 0] – reverse the sequence\n",
    "```\n"
   ]
  },
  {
   "cell_type": "code",
   "execution_count": null,
   "id": "0e888d0c",
   "metadata": {},
   "outputs": [],
   "source": []
  },
  {
   "cell_type": "markdown",
   "id": "ccb59c13",
   "metadata": {},
   "source": [
    "### Q13. What is the difference between `*args` and `**kwargs`?\n",
    "\n",
    "#### `*args`: Variable-length positional arguments\n",
    "- `*args` allows a function to accept any number of positional arguments, including zero.\n",
    "- The arguments passed to `*args` are collected into a **tuple**.\n",
    "- It is used when you want to pass a variable number of non-keyword arguments to a function.\n",
    "\n",
    "**Example:**\n",
    "```python\n",
    "def sum(*args):\n",
    "    total = 0\n",
    "    for x in args:\n",
    "        total += x\n",
    "    print('The Sum:', total)\n",
    "\n",
    "sum()          # Output: The Sum: 0\n",
    "sum(10)        # Output: The Sum: 10\n",
    "sum(10, 20)    # Output: The Sum: 30\n",
    "sum(10, 20, 30)  # Output: The Sum: 60\n",
    "```\n",
    "\n",
    "#### `**kwargs`: Variable-length keyword arguments\n",
    "- `**kwargs` allows a function to accept any number of keyword arguments, including zero.\n",
    "- The arguments passed to `**kwargs` are collected into a **dictionary**.\n",
    "- It is used when you want to pass a variable number of keyword arguments to a function.\n",
    "\n",
    "**Example:**\n",
    "```python\n",
    "def f1(**kwargs):\n",
    "    print(kwargs)\n",
    "\n",
    "f1(name='Durga', rollno=100, marks=90)\n",
    "# Output: {'name': 'Durga', 'rollno': 100, 'marks': 90}\n",
    "```\n",
    "\n",
    "#### Key Differences:\n",
    "| Feature                | `*args`                              | `**kwargs`                          |\n",
    "|------------------------|--------------------------------------|-------------------------------------|\n",
    "| **Type of Arguments**  | Positional (non-keyword) arguments   | Keyword arguments                  |\n",
    "| **Data Structure**     | Tuple                               | Dictionary                         |\n",
    "| **Syntax**             | `*args` in function definition      | `**kwargs` in function definition  |\n",
    "| **Usage**              | For variable number of arguments    | For variable number of named arguments |\n",
    "| **Example Call**       | `sum(10, 20, 30)`                   | `f1(name='Durga', marks=90)`       |\n",
    "\n"
   ]
  }
 ],
 "metadata": {
  "kernelspec": {
   "display_name": "Python 3",
   "language": "python",
   "name": "python3"
  },
  "language_info": {
   "codemirror_mode": {
    "name": "ipython",
    "version": 3
   },
   "file_extension": ".py",
   "mimetype": "text/x-python",
   "name": "python",
   "nbconvert_exporter": "python",
   "pygments_lexer": "ipython3",
   "version": "3.10.9"
  }
 },
 "nbformat": 4,
 "nbformat_minor": 5
}
