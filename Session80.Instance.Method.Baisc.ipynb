{
 "cells": [
  {
   "cell_type": "code",
   "execution_count": 1,
   "id": "df3b9efb-34e9-4b99-86ea-0cf5f6eec2e8",
   "metadata": {},
   "outputs": [],
   "source": [
    "\n",
    "class Student:\n",
    "    college_name = \"Durgasoft\"\n",
    "    def __init__(self, x, y):\n",
    "        self.name = x\n",
    "        self.branch = y\n",
    "\n",
    "    def student_info(self):\n",
    "        print(\"Student name: \", self.name)\n",
    "        print(\"Student branch: \", self.branch)\n",
    "\n",
    "        "
   ]
  },
  {
   "cell_type": "markdown",
   "id": "197ce158-6da5-4225-9c7e-2a304e7cd82b",
   "metadata": {},
   "source": [
    "If we are using atleast one instance variable (wheather using static variables or not) then it is instance method"
   ]
  },
  {
   "cell_type": "markdown",
   "id": "1c6624cb-d989-4dc7-bc52-34b8fa46c088",
   "metadata": {},
   "source": [
    "If we are not using atleast one instance variable then it may be class method or static method"
   ]
  },
  {
   "cell_type": "markdown",
   "id": "f2f7d426-0214-463a-a4ec-5f507d29251a",
   "metadata": {},
   "source": [
    "If we are not using any instance variable any any static variable, then this method no way releted to object and class and it is general utility method, we have to declare such type of method as static method."
   ]
  },
  {
   "cell_type": "markdown",
   "id": "e58edcce-8cf9-4f9f-a972-79670908d27b",
   "metadata": {},
   "source": [
    "Inside a method, if we are trying to access atleast one instance variable, then this method is always talks about a particular object, hence it should be instance method\n",
    "\n",
    "The first argument to the instance method always slef, which is reference variable to the current object.\n",
    "\n"
   ]
  },
  {
   "cell_type": "code",
   "execution_count": 8,
   "id": "d77ddcd5-c669-4aa4-8667-e3cd39975fc7",
   "metadata": {},
   "outputs": [],
   "source": [
    "\n",
    "class Student:\n",
    "    college_name = \"Durgasoft\"\n",
    "    director = \"Nagoor Babu\"\n",
    "    def __init__(self, x, y):\n",
    "        self.name = x\n",
    "        self.branch = y\n",
    "\n",
    "    # Instance method\n",
    "    def student_info(self):\n",
    "        print(\"Student name: \", self.name)\n",
    "        print(\"Student branch: \", self.branch)\n",
    "\n",
    "    # Classs method\n",
    "    @classmethod\n",
    "    def collage_info(cls):\n",
    "        print(\"Collage Name: \", cls.college_name)\n",
    "        print(\"Director Name: \", cls.director)\n",
    "    \n",
    "        "
   ]
  },
  {
   "cell_type": "code",
   "execution_count": 9,
   "id": "654786ab-c57e-44dd-a51a-f596499402e4",
   "metadata": {},
   "outputs": [],
   "source": [
    "\n",
    "class Test:\n",
    "    @classmethod\n",
    "    def m1(cls):\n",
    "        print(id(cls))\n",
    "\n",
    "    @classmethod\n",
    "    def m2(cls):\n",
    "        print(id(cls))\n"
   ]
  },
  {
   "cell_type": "code",
   "execution_count": 10,
   "id": "55fe6f95-550d-4113-869f-604269750e11",
   "metadata": {},
   "outputs": [
    {
     "name": "stdout",
     "output_type": "stream",
     "text": [
      "2897417868688\n",
      "2897417868688\n",
      "2897417868688\n"
     ]
    }
   ],
   "source": [
    "print(id(Test))\n",
    "Test.m1()\n",
    "Test.m2()"
   ]
  },
  {
   "cell_type": "markdown",
   "id": "3222a3b7-2b52-4f97-9fb9-82ca0d828917",
   "metadata": {},
   "source": [
    "self : Refer to the current object of class\n",
    "\n",
    "cls : Refer to the class level object created by the PVM, we can use any name instead of cls similar to the self but we have to add decorator @classmethod"
   ]
  },
  {
   "cell_type": "markdown",
   "id": "0600215c-119a-4244-bda1-f853b536c54b",
   "metadata": {},
   "source": [
    "1. Instance variable + static variable + local variable --->Instance method\n",
    "\n",
    "2. Static variable + local variable --->class method\n",
    "\n",
    "3. Local variable --->static method"
   ]
  },
  {
   "cell_type": "code",
   "execution_count": 11,
   "id": "cf9ea701-4973-4123-a1b8-bf752581b1a2",
   "metadata": {},
   "outputs": [
    {
     "name": "stdout",
     "output_type": "stream",
     "text": [
      "Collage Name:  Durgasoft\n",
      "Director Name:  Nagoor Babu\n"
     ]
    }
   ],
   "source": [
    "s = Student(\"Durga\", \"CS\")\n",
    "s.collage_info()"
   ]
  },
  {
   "cell_type": "code",
   "execution_count": 13,
   "id": "01eabc75-9f8b-46c8-a887-4d6a01ceda23",
   "metadata": {},
   "outputs": [],
   "source": [
    "\n",
    "class Student:\n",
    "    college_name = \"Durgasoft\"\n",
    "    director = \"Nagoor Babu\"\n",
    "    def __init__(self, x, y):\n",
    "        self.name = x\n",
    "        self.branch = y\n",
    "\n",
    "    # Instance method\n",
    "    def student_info(self):\n",
    "        print(\"Student name: \", self.name)\n",
    "        print(\"Student branch: \", self.branch)\n",
    "\n",
    "    # Classs method\n",
    "    @classmethod\n",
    "    def collage_info(cls):\n",
    "        print(\"Collage Name: \", cls.college_name)\n",
    "        print(\"Director Name: \", cls.director)\n",
    "    \n",
    "    # Static method\n",
    "    @staticmethod\n",
    "    def get_avg(x,y,z):\n",
    "         return (x+y+z)/3\n",
    "         "
   ]
  },
  {
   "cell_type": "code",
   "execution_count": 15,
   "id": "751a89f9-8542-44b9-b2d1-58a95b0b2f9b",
   "metadata": {},
   "outputs": [
    {
     "name": "stdout",
     "output_type": "stream",
     "text": [
      "45.0\n"
     ]
    }
   ],
   "source": [
    "s = Student(\"Durga\", \"CS\")\n",
    "avg = s.get_avg(45, 67,23)\n",
    "print(avg)"
   ]
  },
  {
   "cell_type": "markdown",
   "id": "1f6b07c3-e4fb-44b2-a7d9-ca4e12e1b26f",
   "metadata": {},
   "source": [
    "- First argument to the instance method: self, pointing to the current object\n",
    "- First argument to the class method: cls, pointing to the corresponding class object\n",
    "- Instance method : no decorator\n",
    "- Class method : @classmethod\n",
    "- Static method: @staticmethod"
   ]
  },
  {
   "cell_type": "markdown",
   "id": "27cc1702-00a6-4492-957d-84b87aa98465",
   "metadata": {},
   "source": [
    "The complete story of the instance variable:\n",
    "- Value varied form object to objct\n",
    "- For every oject a seperate copy of instance variable will be created.<br><br>\n",
    "Various place to declare instance variable:\n",
    "- Inside constructor\n",
    "- Inside instance method by using self\n",
    "- Outside of the class by using object reference"
   ]
  },
  {
   "cell_type": "code",
   "execution_count": 18,
   "id": "0e618af2-f9fd-4ce9-bc19-caf4976c5a31",
   "metadata": {},
   "outputs": [
    {
     "name": "stdout",
     "output_type": "stream",
     "text": [
      "{'a': 10, 'b': 20}\n"
     ]
    }
   ],
   "source": [
    "\n",
    "class Test:\n",
    "    def __init__(self):\n",
    "        self.a = 10\n",
    "        self.b = 20\n",
    "\n",
    "    def m1(self):\n",
    "        self.c = 30\n",
    "\n",
    "t = Test()\n",
    "print(t.__dict__)\n"
   ]
  },
  {
   "cell_type": "code",
   "execution_count": 19,
   "id": "561832cb-fa02-41fa-b91a-6321f2efccad",
   "metadata": {},
   "outputs": [
    {
     "name": "stdout",
     "output_type": "stream",
     "text": [
      "{'a': 10, 'b': 20, 'c': 30}\n"
     ]
    }
   ],
   "source": [
    "t.m1()\n",
    "print(t.__dict__)"
   ]
  },
  {
   "cell_type": "code",
   "execution_count": 20,
   "id": "4a831c0d-316c-474c-ab80-df9443d2f6a4",
   "metadata": {},
   "outputs": [
    {
     "name": "stdout",
     "output_type": "stream",
     "text": [
      "{'a': 10, 'b': 20, 'c': 30, 'd': 40, 'f': 50}\n"
     ]
    }
   ],
   "source": [
    "t.d = 40\n",
    "t.f = 50\n",
    "print(t.__dict__)"
   ]
  },
  {
   "cell_type": "code",
   "execution_count": 21,
   "id": "b2156289-0e48-4b01-b98c-3792706fedf8",
   "metadata": {},
   "outputs": [
    {
     "name": "stdout",
     "output_type": "stream",
     "text": [
      "{'a': 10, 'b': 20, 'c': 30, 'd': 40, 'f': 50}\n"
     ]
    }
   ],
   "source": [
    "t1 = Test()\n",
    "t1.m1()\n",
    "print(t.__dict__)"
   ]
  },
  {
   "cell_type": "code",
   "execution_count": 22,
   "id": "208e27cf-6d0c-4a67-9f5c-ec56a846857f",
   "metadata": {},
   "outputs": [
    {
     "name": "stdout",
     "output_type": "stream",
     "text": [
      "{'a': 10, 'b': 20, 'c': 30, 'd': 40, 'f': 50}\n"
     ]
    }
   ],
   "source": [
    "t2 = Test()\n",
    "t2.d = 40\n",
    "print(t.__dict__)"
   ]
  },
  {
   "cell_type": "markdown",
   "id": "ad719dc0-4cc2-4d68-83fd-68e2153c7b42",
   "metadata": {},
   "source": [
    "Hence no of instance variables variables varied form object ot object "
   ]
  },
  {
   "cell_type": "markdown",
   "id": "b85b5961-e193-4cd0-9be7-58f4d5307b7a",
   "metadata": {},
   "source": [
    "`How you can access instance variables `\n",
    "- Within the class by using self\n",
    "- Outside of the class by using Object reference."
   ]
  },
  {
   "cell_type": "code",
   "execution_count": null,
   "id": "179f0cbd-4a3d-49c8-bc07-a0fae0a21c8b",
   "metadata": {},
   "outputs": [],
   "source": [
    "\n",
    "class Test:\n",
    "    def __init__(self):\n",
    "        self.a = 10\n",
    "        self.b = 20\n",
    "\n",
    "    def m1(self):\n",
    "        # Accessing the instance variables inside class using self\n",
    "        print(self.a)\n",
    "        print(self.b)\n",
    "\n",
    "t = Test()\n",
    "# Accessing the instance variables outside the class by using object reference\n",
    "print(t.a)\n",
    "print(t.b)\n"
   ]
  },
  {
   "cell_type": "markdown",
   "id": "80151e2d-6ee3-44cc-8c97-d24bbd1a0dda",
   "metadata": {},
   "source": [
    "`How to delete instance variables`\n",
    "- Within the class:\n",
    "    `del self.variable_name`\n",
    "- Ouside thce class:\n",
    "    `del objectreference.variablename`\n",
    "    "
   ]
  },
  {
   "cell_type": "code",
   "execution_count": 31,
   "id": "b9d97112-0acf-4687-928d-7dc0153462e7",
   "metadata": {},
   "outputs": [
    {
     "name": "stdout",
     "output_type": "stream",
     "text": [
      "{'a': 10, 'b': 20, 'c': 30, 'd': 40}\n"
     ]
    }
   ],
   "source": [
    "\n",
    "class Test:\n",
    "    def __init__(self):\n",
    "        self.a = 10\n",
    "        self.b = 20\n",
    "        self.c = 30\n",
    "        self.d = 40\n",
    "\n",
    "    def m1(self):\n",
    "        del self.d \n",
    "\n",
    "t = Test()\n",
    "print(t.__dict__)\n"
   ]
  },
  {
   "cell_type": "code",
   "execution_count": 32,
   "id": "70e9098f-3f68-45d9-b628-8a0e4421f93e",
   "metadata": {},
   "outputs": [
    {
     "name": "stdout",
     "output_type": "stream",
     "text": [
      "{'a': 10, 'b': 20, 'c': 30}\n"
     ]
    }
   ],
   "source": [
    "t.m1()\n",
    "print(t.__dict__)"
   ]
  },
  {
   "cell_type": "code",
   "execution_count": 33,
   "id": "4781bdfb-4e87-4182-8654-d56f8724229a",
   "metadata": {},
   "outputs": [
    {
     "name": "stdout",
     "output_type": "stream",
     "text": [
      "{'a': 10, 'c': 30}\n"
     ]
    }
   ],
   "source": [
    "del t.b\n",
    "print(t.__dict__)"
   ]
  },
  {
   "cell_type": "code",
   "execution_count": 34,
   "id": "9c0b4621-5a3e-49e6-8980-76cb800e1e52",
   "metadata": {},
   "outputs": [
    {
     "name": "stdout",
     "output_type": "stream",
     "text": [
      "{}\n"
     ]
    }
   ],
   "source": [
    "del t.c, t.a\n",
    "print(t.__dict__)"
   ]
  },
  {
   "cell_type": "code",
   "execution_count": 40,
   "id": "cf10d795-edd9-472c-8ed0-46e0a4676fc0",
   "metadata": {},
   "outputs": [],
   "source": [
    "class Test:\n",
    "    def __init__(self):\n",
    "        self.a = 10\n",
    "        self.b = 20\n",
    "        self.c = 30\n",
    "        self.d = 40\n",
    "\n",
    "    def m1(self):\n",
    "        del self.d "
   ]
  },
  {
   "cell_type": "code",
   "execution_count": 42,
   "id": "6c7e4eed-6538-414d-81e2-a28738c7829f",
   "metadata": {},
   "outputs": [
    {
     "name": "stdout",
     "output_type": "stream",
     "text": [
      "{'a': 10, 'b': 20, 'c': 30}\n",
      "{'a': 10, 'b': 20, 'c': 30, 'd': 40}\n"
     ]
    }
   ],
   "source": [
    "t1 = Test()\n",
    "t1.m1()\n",
    "t2 = Test()\n",
    "print(t1.__dict__)\n",
    "print(t2.__dict__)"
   ]
  },
  {
   "cell_type": "code",
   "execution_count": 43,
   "id": "215d1593-a9fa-4a25-a596-50ab3e13ab59",
   "metadata": {},
   "outputs": [
    {
     "name": "stdout",
     "output_type": "stream",
     "text": [
      "{'a': 888, 'b': 20, 'c': 30}\n",
      "{'a': 10, 'b': 999, 'c': 30, 'd': 40}\n"
     ]
    }
   ],
   "source": [
    "t1.a = 888\n",
    "t2.b = 999\n",
    "print(t1.__dict__)\n",
    "print(t2.__dict__)"
   ]
  },
  {
   "cell_type": "code",
   "execution_count": 1,
   "id": "34b00ec3-12b3-470f-9d71-8665c4c6ad7b",
   "metadata": {},
   "outputs": [],
   "source": [
    "# Topic Completed\n",
    "# How to declare instance variable"
   ]
  },
  {
   "cell_type": "code",
   "execution_count": null,
   "id": "80f88781",
   "metadata": {},
   "outputs": [],
   "source": []
  }
 ],
 "metadata": {
  "kernelspec": {
   "display_name": "Python 3 (ipykernel)",
   "language": "python",
   "name": "python3"
  },
  "language_info": {
   "codemirror_mode": {
    "name": "ipython",
    "version": 3
   },
   "file_extension": ".py",
   "mimetype": "text/x-python",
   "name": "python",
   "nbconvert_exporter": "python",
   "pygments_lexer": "ipython3",
   "version": "3.11.5"
  }
 },
 "nbformat": 4,
 "nbformat_minor": 5
}
