{
 "cells": [
  {
   "cell_type": "code",
   "execution_count": 1,
   "metadata": {},
   "outputs": [
    {
     "name": "stdout",
     "output_type": "stream",
     "text": [
      "Message is successfully sent\n",
      "Message is successfully sent\n",
      "Message is successfully sent\n",
      "Message is NOT successfully sent\n"
     ]
    }
   ],
   "source": [
    "def send_sms(phone_num):\n",
    "    # use some 3rd party APIs\n",
    "    if phone_num % 10 == 4:\n",
    "        print('Message is NOT successfully sent')\n",
    "        return  # Stop execution here if the condition is met\n",
    "    print('Message is successfully sent')\n",
    "\n",
    "contact_nums = [9102341411, 9102341412, 9102341413, 9102341414]\n",
    "\n",
    "for i in contact_nums:\n",
    "    send_sms(i)"
   ]
  },
  {
   "cell_type": "code",
   "execution_count": 2,
   "metadata": {},
   "outputs": [
    {
     "name": "stdout",
     "output_type": "stream",
     "text": [
      "Message is successfully sent\n",
      "Message is successfully sent\n",
      "Message is successfully sent\n",
      "Message is NOT successfully sent\n"
     ]
    }
   ],
   "source": [
    "try:\n",
    "    for i in contact_nums:\n",
    "        send_sms(i)\n",
    "except:\n",
    "    pass        "
   ]
  },
  {
   "cell_type": "code",
   "execution_count": 3,
   "metadata": {},
   "outputs": [
    {
     "name": "stdout",
     "output_type": "stream",
     "text": [
      "Message is successfully sent\n",
      "Message is successfully sent\n",
      "Message is successfully sent\n"
     ]
    },
    {
     "ename": "Exception",
     "evalue": "This is a bug",
     "output_type": "error",
     "traceback": [
      "\u001b[1;31m---------------------------------------------------------------------------\u001b[0m",
      "\u001b[1;31mException\u001b[0m                                 Traceback (most recent call last)",
      "Cell \u001b[1;32mIn[3], line 12\u001b[0m\n\u001b[0;32m      9\u001b[0m contact_nums \u001b[38;5;241m=\u001b[39m [\u001b[38;5;241m9102341411\u001b[39m, \u001b[38;5;241m9102341412\u001b[39m, \u001b[38;5;241m9102341413\u001b[39m, \u001b[38;5;241m9102341414\u001b[39m]\n\u001b[0;32m     11\u001b[0m \u001b[38;5;28;01mfor\u001b[39;00m i \u001b[38;5;129;01min\u001b[39;00m contact_nums:\n\u001b[1;32m---> 12\u001b[0m     \u001b[43msend_sms\u001b[49m\u001b[43m(\u001b[49m\u001b[43mi\u001b[49m\u001b[43m)\u001b[49m\n",
      "Cell \u001b[1;32mIn[3], line 5\u001b[0m, in \u001b[0;36msend_sms\u001b[1;34m(phone_num)\u001b[0m\n\u001b[0;32m      1\u001b[0m \u001b[38;5;28;01mdef\u001b[39;00m\u001b[38;5;250m \u001b[39m\u001b[38;5;21msend_sms\u001b[39m(phone_num):\n\u001b[0;32m      2\u001b[0m     \u001b[38;5;66;03m# use some 3rd party APIs\u001b[39;00m\n\u001b[0;32m      3\u001b[0m     \u001b[38;5;28;01mif\u001b[39;00m phone_num \u001b[38;5;241m%\u001b[39m \u001b[38;5;241m10\u001b[39m \u001b[38;5;241m==\u001b[39m \u001b[38;5;241m4\u001b[39m:\n\u001b[0;32m      4\u001b[0m         \u001b[38;5;66;03m# print('Message is NOT successfully sent')\u001b[39;00m\n\u001b[1;32m----> 5\u001b[0m         \u001b[38;5;28;01mraise\u001b[39;00m \u001b[38;5;167;01mException\u001b[39;00m(\u001b[38;5;124m\"\u001b[39m\u001b[38;5;124mThis is a bug\u001b[39m\u001b[38;5;124m\"\u001b[39m)\n\u001b[0;32m      6\u001b[0m         \u001b[38;5;28;01mreturn\u001b[39;00m\n\u001b[0;32m      7\u001b[0m     \u001b[38;5;28mprint\u001b[39m(\u001b[38;5;124m'\u001b[39m\u001b[38;5;124mMessage is successfully sent\u001b[39m\u001b[38;5;124m'\u001b[39m)\n",
      "\u001b[1;31mException\u001b[0m: This is a bug"
     ]
    }
   ],
   "source": [
    "def send_sms(phone_num):\n",
    "    # use some 3rd party APIs\n",
    "    if phone_num % 10 == 4:\n",
    "        # print('Message is NOT successfully sent')\n",
    "        raise Exception(\"This is a bug\")\n",
    "        return\n",
    "    print('Message is successfully sent')\n",
    "\n",
    "contact_nums = [9102341411, 9102341412, 9102341413, 9102341414]\n",
    "\n",
    "for i in contact_nums:\n",
    "    send_sms(i)"
   ]
  },
  {
   "cell_type": "code",
   "execution_count": 4,
   "metadata": {},
   "outputs": [],
   "source": [
    "def something(x):\n",
    "    print(1//x)\n",
    "    print(\"A\")"
   ]
  },
  {
   "cell_type": "code",
   "execution_count": 5,
   "metadata": {},
   "outputs": [
    {
     "name": "stdout",
     "output_type": "stream",
     "text": [
      "0\n",
      "A\n",
      "1\n",
      "A\n",
      "Some error has occured\n"
     ]
    }
   ],
   "source": [
    "try:\n",
    "    something(3)\n",
    "    something(1)\n",
    "    something(0)\n",
    "    something(4)\n",
    "except:\n",
    "    print(\"Some error has occured\")    "
   ]
  },
  {
   "cell_type": "code",
   "execution_count": 7,
   "metadata": {},
   "outputs": [
    {
     "name": "stdout",
     "output_type": "stream",
     "text": [
      "9\n",
      "12\n",
      "e\n"
     ]
    }
   ],
   "source": [
    "try:\n",
    "    number1=int(input())\n",
    "    print(number1*3)\n",
    "\n",
    "    number2=int(input())\n",
    "    print(number2*3)\n",
    "except:\n",
    "    print('x')\n",
    "print('e')"
   ]
  },
  {
   "cell_type": "code",
   "execution_count": 8,
   "metadata": {},
   "outputs": [
    {
     "name": "stdout",
     "output_type": "stream",
     "text": [
      "Current element - 1\n",
      "1\n",
      "Result - 1\n",
      "1\n",
      "Current element - 0\n",
      "Error: Division by zero in something()\n",
      "Error: Division by zero in something()\n",
      "-------------------------\n"
     ]
    }
   ],
   "source": [
    "def something(x):\n",
    "    try:  \n",
    "        print(1 // x)\n",
    "    except ZeroDivisionError:\n",
    "        print(\"Error: Division by zero in something()\")\n",
    "        return None \n",
    "    return 1\n",
    "\n",
    "for e in [1, 0]: \n",
    "    try:\n",
    "        print(f'Current element - {e}')\n",
    "        res = something(e)\n",
    "        if res is not None:  \n",
    "            print(f'Result - {res}')\n",
    "        something(e)  \n",
    "    except Exception as ex: \n",
    "        print(f'Error occurred! - {ex}')\n",
    "\n",
    "print('-'*25)"
   ]
  },
  {
   "cell_type": "code",
   "execution_count": 9,
   "metadata": {},
   "outputs": [
    {
     "name": "stdout",
     "output_type": "stream",
     "text": [
      "Current element - 1\n",
      "1\n",
      "Result - 1\n",
      "1\n",
      "-------------------------\n"
     ]
    }
   ],
   "source": [
    "def something(x):\n",
    "    print(1 // x)\n",
    "    return 1\n",
    "\n",
    "for e in [1]:  # Changed to a list for iteration\n",
    "    try:\n",
    "        # doing some operation on e\n",
    "        print(f'Current element - {e}')\n",
    "        res = something(e)\n",
    "        print(f'Result - {res}')\n",
    "        something(e)  # Call the function again\n",
    "    except Exception as ex:  # More specific exception handling\n",
    "        print(f'Error occurred! - {ex}')  # Print the error details\n",
    "\n",
    "print('-'*25)"
   ]
  },
  {
   "cell_type": "code",
   "execution_count": null,
   "metadata": {},
   "outputs": [],
   "source": []
  }
 ],
 "metadata": {
  "kernelspec": {
   "display_name": "Python 3",
   "language": "python",
   "name": "python3"
  },
  "language_info": {
   "codemirror_mode": {
    "name": "ipython",
    "version": 3
   },
   "file_extension": ".py",
   "mimetype": "text/x-python",
   "name": "python",
   "nbconvert_exporter": "python",
   "pygments_lexer": "ipython3",
   "version": "3.10.9"
  }
 },
 "nbformat": 4,
 "nbformat_minor": 2
}
