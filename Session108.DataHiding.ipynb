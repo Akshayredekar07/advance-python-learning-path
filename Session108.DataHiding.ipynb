{
 "cells": [
  {
   "cell_type": "markdown",
   "metadata": {},
   "source": [
    "## Data Hiding:\n",
    "- The concept of hiding our data.\n",
    "- It is essential that our internal data does not directly leave our system.\n",
    "- No external person should be allowed to directly access our data.\n",
    "- For example, to check your email, you need a username and password.\n",
    "- Similarly, an ICICI bank customer requires a customer ID and password.\n",
    "- This is a crucial aspect of data security."
   ]
  },
  {
   "cell_type": "code",
   "execution_count": 4,
   "metadata": {},
   "outputs": [
    {
     "name": "stdout",
     "output_type": "stream",
     "text": [
      "You have not access to this account.\n"
     ]
    }
   ],
   "source": [
    "class Account:\n",
    "    def __init__(self, initialBalance) -> None:\n",
    "        self.__balance = initialBalance\n",
    "\n",
    "    def getBalance(self):\n",
    "        #validation\n",
    "        name = input(\"Enter your name:\")\n",
    "        pasw = input(\"Enter your pass:\")\n",
    "        if name==\"durga\" and pasw == \"python\":\n",
    "            return self.__balance\n",
    "        else:\n",
    "            return \"You have not access to this account.\"\n",
    "    \n",
    "a = Account(1000)    \n",
    "print(a.getBalance())"
   ]
  },
  {
   "cell_type": "code",
   "execution_count": null,
   "metadata": {},
   "outputs": [],
   "source": []
  }
 ],
 "metadata": {
  "kernelspec": {
   "display_name": "Python 3",
   "language": "python",
   "name": "python3"
  },
  "language_info": {
   "codemirror_mode": {
    "name": "ipython",
    "version": 3
   },
   "file_extension": ".py",
   "mimetype": "text/x-python",
   "name": "python",
   "nbconvert_exporter": "python",
   "pygments_lexer": "ipython3",
   "version": "3.11.5"
  }
 },
 "nbformat": 4,
 "nbformat_minor": 2
}
