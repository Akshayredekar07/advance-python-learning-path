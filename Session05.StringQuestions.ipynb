{
 "cells": [
  {
   "cell_type": "markdown",
   "metadata": {},
   "source": [
    "Q1 Write a Program to REVERSE the content of the given String using the slice operator"
   ]
  },
  {
   "cell_type": "code",
   "execution_count": 3,
   "metadata": {},
   "outputs": [
    {
     "name": "stdout",
     "output_type": "stream",
     "text": [
      "inaR\n"
     ]
    }
   ],
   "source": [
    "# s=input(\"Enter string: \")\n",
    "s=\"Rani\"\n",
    "print(s[::-1])"
   ]
  },
  {
   "cell_type": "markdown",
   "metadata": {},
   "source": [
    "Q2) Write a Program to REVERSE the content of the given String using the `reversed()` function\n"
   ]
  },
  {
   "cell_type": "code",
   "execution_count": 4,
   "metadata": {},
   "outputs": [
    {
     "name": "stdout",
     "output_type": "stream",
     "text": [
      "agrud\n"
     ]
    }
   ],
   "source": [
    "s = input('Enter Some String to Reverse: ')\n",
    "r = reversed(s)\n",
    "output = ''.join(r)\n",
    "print(output)"
   ]
  },
  {
   "cell_type": "markdown",
   "metadata": {},
   "source": [
    "Q3) Write a Program to REVERSE the content of the given String using a `while` loop"
   ]
  },
  {
   "cell_type": "code",
   "execution_count": 6,
   "metadata": {},
   "outputs": [
    {
     "name": "stdout",
     "output_type": "stream",
     "text": [
      "agrud\n"
     ]
    }
   ],
   "source": [
    "# s = input('Enter Some String to Reverse: ')\n",
    "s=\"durga\"\n",
    "output = ''\n",
    "i = len(s) - 1\n",
    "while i >= 0:\n",
    "    output = output + s[i]\n",
    "    i = i - 1\n",
    "print(output)"
   ]
  },
  {
   "cell_type": "code",
   "execution_count": 7,
   "metadata": {},
   "outputs": [
    {
     "name": "stdout",
     "output_type": "stream",
     "text": [
      "agrud\n"
     ]
    }
   ],
   "source": [
    "# s = input('Enter Some String to Reverse: ')\n",
    "s=\"durga\"\n",
    "output = ''\n",
    "for char in s:\n",
    "    output = char + output\n",
    "print(output)"
   ]
  },
  {
   "cell_type": "code",
   "execution_count": 8,
   "metadata": {},
   "outputs": [
    {
     "name": "stdout",
     "output_type": "stream",
     "text": [
      "agrud\n"
     ]
    }
   ],
   "source": [
    "def reverse_string(s):\n",
    "    if len(s) == 0:\n",
    "        return s\n",
    "    else:\n",
    "        return reverse_string(s[1:]) + s[0]\n",
    "\n",
    "# s = input('Enter Some String to Reverse: ')\n",
    "s=\"durga\"\n",
    "output = reverse_string(s)\n",
    "print(output)\n"
   ]
  },
  {
   "cell_type": "code",
   "execution_count": 9,
   "metadata": {},
   "outputs": [
    {
     "name": "stdout",
     "output_type": "stream",
     "text": [
      "agrud\n"
     ]
    }
   ],
   "source": [
    "# s = input('Enter Some String to Reverse: ')\n",
    "s=\"durga\"\n",
    "stack = list(s)\n",
    "output = ''\n",
    "\n",
    "while stack:\n",
    "    output += stack.pop()\n",
    "print(output)\n"
   ]
  },
  {
   "cell_type": "code",
   "execution_count": 10,
   "metadata": {},
   "outputs": [
    {
     "name": "stdout",
     "output_type": "stream",
     "text": [
      "agrud\n"
     ]
    }
   ],
   "source": [
    "# s = input('Enter Some String to Reverse: ')\n",
    "s=\"durga\"\n",
    "output = ''.join([s[i] for i in range(len(s) - 1, -1, -1)])\n",
    "print(output)\n"
   ]
  },
  {
   "cell_type": "code",
   "execution_count": 11,
   "metadata": {},
   "outputs": [
    {
     "name": "stdout",
     "output_type": "stream",
     "text": [
      "agrud\n"
     ]
    }
   ],
   "source": [
    "from functools import reduce\n",
    "\n",
    "# s = input('Enter Some String to Reverse: ')\n",
    "s=\"durga\"\n",
    "output = reduce(lambda acc, char: char + acc, s)\n",
    "print(output)\n"
   ]
  },
  {
   "cell_type": "markdown",
   "metadata": {},
   "source": [
    "Q4) Write a Program To REVERSE order of words present in the given\n",
    "string?"
   ]
  },
  {
   "cell_type": "code",
   "execution_count": 1,
   "metadata": {},
   "outputs": [
    {
     "name": "stdout",
     "output_type": "stream",
     "text": [
      "Easy Very Is Python Learning\n"
     ]
    }
   ],
   "source": [
    "# Input: Learning Python Is Very Easy\n",
    "# Output: Easy Very Is Python Learning\n",
    "\n",
    "s = input('Enter Some String: ')\n",
    "# Split the string into words\n",
    "l = s.split()\n",
    "# Reverse the list of words\n",
    "l1 = l[::-1]\n",
    "# Join the reversed list into a string\n",
    "output = ' '.join(l1)\n",
    "# Print the reversed string\n",
    "print(output)\n"
   ]
  },
  {
   "cell_type": "code",
   "execution_count": 2,
   "metadata": {},
   "outputs": [
    {
     "name": "stdout",
     "output_type": "stream",
     "text": [
      "Easy Very Is Python Learning\n"
     ]
    }
   ],
   "source": [
    "# Input: Learning Python Is Very Easy\n",
    "# Output: Easy Very Is Python Learning\n",
    "\n",
    "# Input the string from the user\n",
    "# s = input('Enter Some String: ')\n",
    "s = \"Learning Python Is Very Easy\"\n",
    "\n",
    "# Split the string into words\n",
    "words = s.split()\n",
    "\n",
    "# Initialize an empty string to store the reversed words\n",
    "reversed_output = ''\n",
    "\n",
    "# Loop through the words in reverse order\n",
    "for word in reversed(words):\n",
    "    reversed_output += word + ' '\n",
    "\n",
    "# Remove the trailing space and print the result\n",
    "print(reversed_output.strip())\n"
   ]
  },
  {
   "cell_type": "markdown",
   "metadata": {},
   "source": [
    "Q5) Write a Program to REVERSE the internal content of each word."
   ]
  },
  {
   "cell_type": "code",
   "execution_count": null,
   "metadata": {},
   "outputs": [],
   "source": [
    "# Input: Durga Software Solutions\n",
    "# Output: agruD erawtfoS snoituloS\n",
    "\n",
    "# Input the string from the user\n",
    "s = \"Durga Software Solutions\"\n",
    "\n",
    "# Split the string into words\n",
    "l = s.split()\n",
    "\n",
    "# Create an empty list to store reversed words\n",
    "l1 = []\n",
    "\n",
    "# Reverse each word and append it to the new list\n",
    "for word in l:\n",
    "    l1.append(word[::-1])\n",
    "\n",
    "# Join the reversed words into a string\n",
    "output = ' '.join(l1)\n",
    "\n",
    "# Print the result\n",
    "print(output)\n"
   ]
  },
  {
   "cell_type": "markdown",
   "metadata": {},
   "source": [
    "Q6) Program to Reverse Internal Content of Every Second Word"
   ]
  },
  {
   "cell_type": "code",
   "execution_count": 3,
   "metadata": {},
   "outputs": [
    {
     "name": "stdout",
     "output_type": "stream",
     "text": [
      "one owt three ruof five xis\n"
     ]
    }
   ],
   "source": [
    "# Input: one two three four five six\n",
    "# Output: one owt three ruof five xis\n",
    "\n",
    "# Input the string\n",
    "s = 'one two three four five six'\n",
    "\n",
    "# Split the string into words\n",
    "l = s.split()\n",
    "\n",
    "# Create an empty list to store modified words\n",
    "l1 = []\n",
    "\n",
    "# Loop through the words with index\n",
    "i = 0\n",
    "while i < len(l):\n",
    "    # Reverse the word if it's at an odd index (every second word)\n",
    "    if i % 2 == 0:\n",
    "        l1.append(l[i])  # Keep the word as is\n",
    "    else:\n",
    "        l1.append(l[i][::-1])  # Reverse the word\n",
    "    i += 1\n",
    "\n",
    "# Join the words into a string\n",
    "output = ' '.join(l1)\n",
    "\n",
    "# Print the result\n",
    "print(output)\n"
   ]
  },
  {
   "cell_type": "markdown",
   "metadata": {},
   "source": [
    "Q7) Program to Print Characters Present at Even and Odd Index Separately"
   ]
  },
  {
   "cell_type": "code",
   "execution_count": 4,
   "metadata": {},
   "outputs": [
    {
     "name": "stdout",
     "output_type": "stream",
     "text": [
      "Characters present at Even Index:\n",
      "d\n",
      "r\n",
      "a\n",
      "o\n",
      "t\n",
      "a\n",
      "e\n",
      "Characters present at Odd Index:\n",
      "u\n",
      "g\n",
      "s\n",
      "f\n",
      "w\n",
      "r\n"
     ]
    }
   ],
   "source": [
    "# Input: durgasoftware\n",
    "\n",
    "s = \"durgasoftware\"\n",
    "\n",
    "# Characters present at Even Index\n",
    "print('Characters present at Even Index:')\n",
    "i = 0\n",
    "while i < len(s):\n",
    "    print(s[i])\n",
    "    i = i + 2\n",
    "\n",
    "# Characters present at Odd Index\n",
    "print('Characters present at Odd Index:')\n",
    "i = 1\n",
    "while i < len(s):\n",
    "    print(s[i])\n",
    "    i = i + 2\n"
   ]
  },
  {
   "cell_type": "code",
   "execution_count": 5,
   "metadata": {},
   "outputs": [
    {
     "name": "stdout",
     "output_type": "stream",
     "text": [
      "Characters present at Even Index: dra\n",
      "Characters present at Odd Index: ug\n"
     ]
    }
   ],
   "source": [
    "s = \"durgasoftware\"\n",
    "\n",
    "# Characters present at Even Index\n",
    "print('Characters present at Even Index:', s[0::2])\n",
    "\n",
    "# Characters present at Odd Index\n",
    "print('Characters present at Odd Index:', s[1::2])\n"
   ]
  },
  {
   "cell_type": "markdown",
   "metadata": {},
   "source": [
    "Q8) Program to Merge Characters of Two Strings Alternately\n",
    "\n",
    "Case 1: Strings Have the Same Length"
   ]
  },
  {
   "cell_type": "code",
   "execution_count": 6,
   "metadata": {},
   "outputs": [
    {
     "name": "stdout",
     "output_type": "stream",
     "text": [
      "RTAEVJIA\n"
     ]
    }
   ],
   "source": [
    "# Input:\n",
    "# s1 = 'RAVI'\n",
    "# s2 = 'TEJA'\n",
    "# Output: RTAEVJIA\n",
    "\n",
    "s1 = 'RAVI'\n",
    "s2 = 'TEJA'\n",
    "output = ''\n",
    "i, j = 0, 0\n",
    "while i < len(s1) and j < len(s2):\n",
    "    output = output + s1[i] + s2[j]\n",
    "    i += 1\n",
    "    j += 1\n",
    "\n",
    "print(output)\n"
   ]
  },
  {
   "cell_type": "markdown",
   "metadata": {},
   "source": [
    "Case 2: Strings Have the Same Length Using map()"
   ]
  },
  {
   "cell_type": "code",
   "execution_count": 7,
   "metadata": {},
   "outputs": [
    {
     "name": "stdout",
     "output_type": "stream",
     "text": [
      "RTAEVJIA\n"
     ]
    }
   ],
   "source": [
    "# Input:\n",
    "# s1 = 'RAVI'\n",
    "# s2 = 'TEJA'\n",
    "# Output: RTAEVJIA\n",
    "\n",
    "# Input strings\n",
    "s1 = 'RAVI'\n",
    "s2 = 'TEJA'\n",
    "\n",
    "# Use `map` to merge characters alternately\n",
    "merged_list = list(map(lambda x, y: x + y, s1, s2))\n",
    "\n",
    "# Join the list into a single string\n",
    "output = ''.join(merged_list)\n",
    "\n",
    "# Print the merged string\n",
    "print(output)\n"
   ]
  },
  {
   "cell_type": "markdown",
   "metadata": {},
   "source": [
    "Case 3: Strings Have Different Lengths"
   ]
  },
  {
   "cell_type": "code",
   "execution_count": 8,
   "metadata": {},
   "outputs": [
    {
     "name": "stdout",
     "output_type": "stream",
     "text": [
      "RTAEVJIAKIRAN\n"
     ]
    }
   ],
   "source": [
    "# Question:\n",
    "# Write a program to merge characters of two strings into a single string by taking characters alternately.\n",
    "# If one string is longer, append the remaining characters of the longer string.\n",
    "# Example:\n",
    "# Input:\n",
    "# s1 = 'RAVIKIRAN'\n",
    "# s2 = 'TEJA'\n",
    "# Output: RTAEVJIAKIRAN\n",
    "\n",
    "# Input strings\n",
    "s1 = 'RAVIKIRAN'\n",
    "s2 = 'TEJA'\n",
    "\n",
    "# Initialize an empty string for output\n",
    "output = ''\n",
    "\n",
    "# Use a loop to merge characters alternately, considering different lengths\n",
    "i, j = 0, 0\n",
    "while i < len(s1) or j < len(s2):\n",
    "    if i < len(s1):  # Add character from s1 if available\n",
    "        output = output + s1[i]\n",
    "        i += 1\n",
    "    if j < len(s2):  # Add character from s2 if available\n",
    "        output = output + s2[j]\n",
    "        j += 1\n",
    "\n",
    "# Print the merged string\n",
    "print(output)\n"
   ]
  },
  {
   "cell_type": "code",
   "execution_count": 9,
   "metadata": {},
   "outputs": [
    {
     "name": "stdout",
     "output_type": "stream",
     "text": [
      "rtaevjiakiran\n"
     ]
    }
   ],
   "source": [
    "# Question:\n",
    "# Write a program to merge characters of two strings into a single string by taking characters alternately.\n",
    "# Handle cases where strings may have different lengths.\n",
    "# Example:\n",
    "# Input:\n",
    "# s1 = 'RAVIKIRAN'\n",
    "# s2 = 'TEJA'\n",
    "# Output: RTAEVJIAKIRAN\n",
    "\n",
    "from itertools import zip_longest\n",
    "\n",
    "# Input strings\n",
    "s1 = input('Enter First String: ')\n",
    "s2 = input('Enter Second String: ')\n",
    "\n",
    "# Merge characters alternately using zip_longest\n",
    "merged = ''.join(x + y for x, y in zip_longest(s1, s2, fillvalue=''))\n",
    "\n",
    "# Print the merged string\n",
    "print(merged)\n"
   ]
  },
  {
   "cell_type": "markdown",
   "metadata": {},
   "source": [
    "Q9) Program to Sort Characters of a String: Alphabets Followed by Digits\n",
    "\n",
    "Approach 1: Using Lists"
   ]
  },
  {
   "cell_type": "code",
   "execution_count": 11,
   "metadata": {},
   "outputs": [
    {
     "name": "stdout",
     "output_type": "stream",
     "text": [
      "ABD134\n"
     ]
    }
   ],
   "source": [
    "# Question:\n",
    "# Assume the input string contains only alphabet symbols and digits.\n",
    "# Write a program to sort the characters of the string, \n",
    "# with alphabet symbols appearing first, followed by digits.\n",
    "# Example:\n",
    "# Input: B4A1D3\n",
    "# Output: ABD134\n",
    "\n",
    "# Input string\n",
    "s = 'B4A1D3'\n",
    "\n",
    "# Initialize separate lists for alphabets and digits\n",
    "alphabets = []\n",
    "digits = []\n",
    "\n",
    "# Separate alphabets and digits\n",
    "for ch in s:\n",
    "    if ch.isalpha():\n",
    "        alphabets.append(ch)\n",
    "    else:\n",
    "        digits.append(ch)\n",
    "\n",
    "# Sort alphabets and digits, and merge them\n",
    "output = ''.join(sorted(alphabets) + sorted(digits))\n",
    "\n",
    "# Print the result\n",
    "print(output)\n"
   ]
  },
  {
   "cell_type": "markdown",
   "metadata": {},
   "source": [
    "Approach 2: Using String Concatenation"
   ]
  },
  {
   "cell_type": "code",
   "execution_count": 12,
   "metadata": {},
   "outputs": [
    {
     "name": "stdout",
     "output_type": "stream",
     "text": [
      "ABD134\n"
     ]
    }
   ],
   "source": [
    "# Input string\n",
    "s = 'B4A1D3'\n",
    "\n",
    "# Initialize separate strings for alphabets and digits\n",
    "alphabets = ''\n",
    "digits = ''\n",
    "\n",
    "# Separate alphabets and digits\n",
    "for ch in s:\n",
    "    if ch.isalpha():\n",
    "        alphabets += ch\n",
    "    else:\n",
    "        digits += ch\n",
    "\n",
    "# Sort and merge them\n",
    "output = ''.join(sorted(alphabets)) + ''.join(sorted(digits))\n",
    "\n",
    "# Print the result\n",
    "print(output)\n"
   ]
  },
  {
   "cell_type": "markdown",
   "metadata": {},
   "source": [
    "Alternative Approach: Using itertools.groupby()"
   ]
  },
  {
   "cell_type": "code",
   "execution_count": 13,
   "metadata": {},
   "outputs": [
    {
     "name": "stdout",
     "output_type": "stream",
     "text": [
      "ABD134\n"
     ]
    }
   ],
   "source": [
    "from itertools import groupby\n",
    "\n",
    "# Question:\n",
    "# Assume the input string contains only alphabet symbols and digits.\n",
    "# Write a program to sort the characters of the string, \n",
    "# with alphabet symbols appearing first, followed by digits.\n",
    "# Example:\n",
    "# Input: B4A1D3\n",
    "# Output: ABD134\n",
    "\n",
    "# Input string\n",
    "s = 'B4A1D3'\n",
    "\n",
    "# Separate characters into alphabetic and numeric using groupby\n",
    "alphabets = ''.join(sorted([ch for ch in s if ch.isalpha()]))\n",
    "digits = ''.join(sorted([ch for ch in s if ch.isdigit()]))\n",
    "\n",
    "# Concatenate alphabetic and numeric characters\n",
    "output = alphabets + digits\n",
    "\n",
    "# Print the result\n",
    "print(output)\n"
   ]
  },
  {
   "cell_type": "code",
   "execution_count": 14,
   "metadata": {},
   "outputs": [
    {
     "name": "stdout",
     "output_type": "stream",
     "text": [
      "ABD134\n"
     ]
    }
   ],
   "source": [
    "# Question:\n",
    "# Assume the input string contains only alphabet symbols and digits.\n",
    "# Write a program to sort the characters of the string, \n",
    "# with alphabet symbols appearing first, followed by digits.\n",
    "# Example:\n",
    "# Input: B4A1D3\n",
    "# Output: ABD134\n",
    "\n",
    "# Input string\n",
    "s = 'B4A1D3'\n",
    "\n",
    "# Use `filter()` to separate alphabets and digits\n",
    "alphabets = ''.join(sorted(filter(lambda x: x.isalpha(), s)))\n",
    "digits = ''.join(sorted(filter(lambda x: x.isdigit(), s)))\n",
    "\n",
    "# Concatenate alphabetic and numeric characters\n",
    "output = alphabets + digits\n",
    "\n",
    "# Print the result\n",
    "print(output)\n"
   ]
  },
  {
   "cell_type": "markdown",
   "metadata": {},
   "source": [
    "Q10) Program to Repeat Characters Based on Digits"
   ]
  },
  {
   "cell_type": "code",
   "execution_count": 15,
   "metadata": {},
   "outputs": [
    {
     "name": "stdout",
     "output_type": "stream",
     "text": [
      "aaaabbbcc\n"
     ]
    }
   ],
   "source": [
    "# Question:\n",
    "# Write a program where the input string contains alphabet symbols followed by digits,\n",
    "# and the output string should repeat the characters based on the digit.\n",
    "# Example:\n",
    "# Input: a4b3c2\n",
    "# Output: aaaabbbcc\n",
    "\n",
    "# Input string\n",
    "s = input('Enter Some String where alphabet symbol should be followed by digit: ')\n",
    "\n",
    "# Initialize the output string\n",
    "output = ''\n",
    "\n",
    "# Iterate over each character in the input string\n",
    "for ch in s:\n",
    "    # If the character is an alphabet\n",
    "    if ch.isalpha():\n",
    "        x = ch  # Store the alphabet\n",
    "    else:\n",
    "        d = int(ch)  # Convert the digit to integer\n",
    "        output += x * d  # Repeat the alphabet x d times\n",
    "\n",
    "# Print the final output\n",
    "print(output)\n"
   ]
  },
  {
   "cell_type": "markdown",
   "metadata": {},
   "source": [
    "Alternative Approach: Using re (Regular Expressions)"
   ]
  },
  {
   "cell_type": "code",
   "execution_count": 16,
   "metadata": {},
   "outputs": [
    {
     "name": "stdout",
     "output_type": "stream",
     "text": [
      "aaaabbbcc\n"
     ]
    }
   ],
   "source": [
    "import re\n",
    "\n",
    "# Question:\n",
    "# Write a program where the input string contains alphabet symbols followed by digits,\n",
    "# and the output string should repeat the characters based on the digit.\n",
    "# Example:\n",
    "# Input: a4b3c2\n",
    "# Output: aaaabbbcc\n",
    "\n",
    "# Input string\n",
    "s = input('Enter Some String where alphabet symbol should be followed by digit: ')\n",
    "\n",
    "# Use regex to find all alphabet-digit pairs\n",
    "pattern = re.findall(r'([a-zA-Z])(\\d)', s)\n",
    "\n",
    "# Initialize the output string\n",
    "output = ''\n",
    "\n",
    "# Repeat characters based on the digit and append to the output string\n",
    "for char, num in pattern:\n",
    "    output += char * int(num)\n",
    "\n",
    "# Print the final output\n",
    "print(output)\n"
   ]
  },
  {
   "cell_type": "markdown",
   "metadata": {},
   "source": [
    "Q11) Program to Repeat Characters and Sort the Resulting String"
   ]
  },
  {
   "cell_type": "code",
   "execution_count": 18,
   "metadata": {},
   "outputs": [
    {
     "name": "stdout",
     "output_type": "stream",
     "text": [
      "aaabbbbzz\n"
     ]
    }
   ],
   "source": [
    "# Question:\n",
    "# Write a program where the input string contains alphabet symbols followed by digits,\n",
    "# and the output string should repeat the characters based on the digit, then sort the resulting string.\n",
    "# Example:\n",
    "# Input: a3z2b4\n",
    "# Output: aaabbbbzz\n",
    "\n",
    "# Input string\n",
    "# s = input('Enter Some String where alphabet symbol should be followed by digit: ')\n",
    "s = \"a3z2b4\"\n",
    "# Initialize the target string to store repeated characters\n",
    "target = ''\n",
    "\n",
    "# Iterate through the input string\n",
    "for ch in s:\n",
    "    if ch.isalpha():\n",
    "        x = ch  # Store the alphabet character\n",
    "    else:\n",
    "        d = int(ch)  # Convert the digit to an integer\n",
    "        target = target + x * d  # Repeat the alphabet character d times and append to target\n",
    "\n",
    "# Sort the final string and join it\n",
    "output = ''.join(sorted(target))\n",
    "\n",
    "# Print the sorted output\n",
    "print(output)\n"
   ]
  },
  {
   "cell_type": "markdown",
   "metadata": {},
   "source": [
    "Q12) Program to Count Consecutive Characters in the String"
   ]
  },
  {
   "cell_type": "code",
   "execution_count": 20,
   "metadata": {},
   "outputs": [
    {
     "name": "stdout",
     "output_type": "stream",
     "text": [
      "4a3b2c1z\n"
     ]
    }
   ],
   "source": [
    "# Input string\n",
    "s = 'aaaabbbccz'\n",
    "\n",
    "# Initialize the output string\n",
    "output = ''\n",
    "\n",
    "# Initialize the first character as the previous character\n",
    "previous = s[0]\n",
    "\n",
    "# Initialize the count of the first character\n",
    "c = 1\n",
    "\n",
    "# Iterate through the string starting from the second character\n",
    "i = 1\n",
    "while i < len(s):\n",
    "    if s[i] == previous:\n",
    "        c += 1\n",
    "    else:\n",
    "        output = output + str(c) + previous\n",
    "        previous = s[i]\n",
    "        c = 1\n",
    "    if i == len(s) - 1:\n",
    "        output = output + str(c) + previous\n",
    "    i += 1\n",
    "\n",
    "# Print the final output\n",
    "print(output)\n"
   ]
  },
  {
   "cell_type": "markdown",
   "metadata": {},
   "source": [
    "Q13) Program to Shift Characters Based on Following Input and Output"
   ]
  },
  {
   "cell_type": "code",
   "execution_count": 27,
   "metadata": {},
   "outputs": [
    {
     "name": "stdout",
     "output_type": "stream",
     "text": [
      "aeknbd\n"
     ]
    }
   ],
   "source": [
    "# Question:\n",
    "# Write a program that takes an input string consisting of characters followed by numbers,\n",
    "# and shifts the characters by the number that follows them.\n",
    "# For example:\n",
    "# Input: a4k3b2\n",
    "# Output: aeknbd\n",
    "\n",
    "# Input string\n",
    "s = 'a4k3b2'\n",
    "\n",
    "# Initialize the output string\n",
    "output = ''\n",
    "\n",
    "# Iterate through each character in the string\n",
    "for ch in s:\n",
    "    if ch.isalpha():  # Check if the character is an alphabet\n",
    "        x = ch  # Store the character\n",
    "        output = output + ch  # Add the character to the output string\n",
    "    else:  # If it's a digit\n",
    "        d = int(ch)  # Convert the digit to an integer\n",
    "        newc = chr(ord(x) + d)  # Shift the character by the digit using ord() and chr()\n",
    "        output = output + newc  # Add the shifted character to the output string\n",
    "\n",
    "# Print the final output\n",
    "print(output)  # Output: aeknbd\n"
   ]
  },
  {
   "cell_type": "code",
   "execution_count": 28,
   "metadata": {},
   "outputs": [
    {
     "name": "stdout",
     "output_type": "stream",
     "text": [
      "aeknbd\n"
     ]
    }
   ],
   "source": [
    "# Question:\n",
    "# Write a program that takes an input string consisting of characters followed by numbers,\n",
    "# and shifts the characters by the number that follows them.\n",
    "# For example:\n",
    "# Input: a4k3b2\n",
    "# Output: aeknbd\n",
    "\n",
    "# Input string\n",
    "s = 'a4k3b2'\n",
    "\n",
    "# Initialize the output string\n",
    "output = ''\n",
    "\n",
    "# Initialize an index to iterate through the string\n",
    "i = 0\n",
    "\n",
    "# Iterate through the string using the index\n",
    "while i < len(s):\n",
    "    if s[i].isalpha():  # Check if the character is an alphabet\n",
    "        char = s[i]  # Store the character\n",
    "        num = int(s[i+1])  # Get the number after the character and convert it to an integer\n",
    "        shifted_char = chr(ord(char) + num)  # Shift the character by the number\n",
    "        output += char + shifted_char  # Append the original and shifted characters to the output\n",
    "        i += 2  # Move past the character and the digit\n",
    "    else:\n",
    "        i += 1  # Just move to the next character if it's not an alphabet (shouldn't happen in this example)\n",
    "\n",
    "# Print the final output\n",
    "print(output)  # Output: aeknbd\n"
   ]
  },
  {
   "cell_type": "markdown",
   "metadata": {},
   "source": [
    "Q14) Program to Remove Duplicate Characters from the Given Input String\n",
    "\n",
    "1st Way:"
   ]
  },
  {
   "cell_type": "code",
   "execution_count": 21,
   "metadata": {},
   "outputs": [
    {
     "name": "stdout",
     "output_type": "stream",
     "text": [
      "AZBCDEF\n"
     ]
    }
   ],
   "source": [
    "# Question:\n",
    "# Write a program to remove duplicate characters from the given input string.\n",
    "# Example:\n",
    "# Input: AZZZBCDABBCDABBBBCCCCDDDDEEEEEF\n",
    "# Output: AZBCDEF\n",
    "\n",
    "# Input string\n",
    "s = 'AZZZBCDABBCDABBBBCCCCDDDDEEEEEF'\n",
    "\n",
    "# Initialize an empty string for output\n",
    "output = ''\n",
    "\n",
    "# Iterate through the string\n",
    "for ch in s:\n",
    "    # Add the character to output if it's not already present\n",
    "    if ch not in output:\n",
    "        output += ch\n",
    "\n",
    "# Print the final output\n",
    "print(output)  # Output: AZBCDEF\n"
   ]
  },
  {
   "cell_type": "markdown",
   "metadata": {},
   "source": [
    "2nd Way:"
   ]
  },
  {
   "cell_type": "code",
   "execution_count": 22,
   "metadata": {},
   "outputs": [
    {
     "name": "stdout",
     "output_type": "stream",
     "text": [
      "AZBCDEF\n"
     ]
    }
   ],
   "source": [
    "# Input string\n",
    "s = 'AZZZBCDABBCDABBBBCCCCDDDDEEEEEF'\n",
    "\n",
    "# Initialize an empty list to store unique characters\n",
    "l = []\n",
    "\n",
    "# Iterate through the string\n",
    "for ch in s:\n",
    "    # Add the character to the list if it's not already present\n",
    "    if ch not in l:\n",
    "        l.append(ch)\n",
    "\n",
    "# Join the list to form the output string\n",
    "output = ''.join(l)\n",
    "\n",
    "# Print the final output\n",
    "print(output)  # Output: AZBCDEF\n"
   ]
  },
  {
   "cell_type": "markdown",
   "metadata": {},
   "source": [
    "3rd Way (Using Set - No Guarantee for Order):"
   ]
  },
  {
   "cell_type": "code",
   "execution_count": 23,
   "metadata": {},
   "outputs": [
    {
     "name": "stdout",
     "output_type": "stream",
     "text": [
      "CAXFZBED\n"
     ]
    }
   ],
   "source": [
    "# Input string\n",
    "s = 'ABCDABXXXBCDABBBBCCCZZZZCDDDDEEEEEF'\n",
    "\n",
    "# Convert the string to a set (which removes duplicates but doesn't preserve order)\n",
    "s1 = set(s)\n",
    "\n",
    "# Join the set to form the output string\n",
    "output = ''.join(s1)\n",
    "\n",
    "# Print the final output\n",
    "print(output)  # Output: CAEZBFD (Order may vary)\n"
   ]
  },
  {
   "cell_type": "markdown",
   "metadata": {},
   "source": [
    "Q15) Program to Find the Number of Occurrences of Each Character in the String\n",
    "\n",
    "Using count() Method and List:"
   ]
  },
  {
   "cell_type": "code",
   "execution_count": 24,
   "metadata": {},
   "outputs": [
    {
     "name": "stdout",
     "output_type": "stream",
     "text": [
      "A occurs 3 times\n",
      "B occurs 7 times\n",
      "C occurs 6 times\n",
      "D occurs 6 times\n",
      "E occurs 5 times\n",
      "F occurs 1 times\n",
      "X occurs 3 times\n",
      "Z occurs 4 times\n"
     ]
    }
   ],
   "source": [
    "# Question:\n",
    "# Write a program to find the number of occurrences of each character in the given string.\n",
    "\n",
    "# Input string\n",
    "s = 'ABCDABXXXBCDABBBBCCCZZZZCDDDDEEEEEF'\n",
    "\n",
    "# Initialize an empty list for unique characters\n",
    "l = []\n",
    "\n",
    "# Find unique characters in the string\n",
    "for ch in s:\n",
    "    if ch not in l:\n",
    "        l.append(ch)\n",
    "\n",
    "# Iterate through the sorted list and print the count of each character\n",
    "for ch in sorted(l):\n",
    "    print('{} occurs {} times'.format(ch, s.count(ch)))\n"
   ]
  },
  {
   "cell_type": "markdown",
   "metadata": {},
   "source": [
    "Without Using count() Method (Using a Dictionary):"
   ]
  },
  {
   "cell_type": "code",
   "execution_count": 25,
   "metadata": {},
   "outputs": [
    {
     "name": "stdout",
     "output_type": "stream",
     "text": [
      "A occurs 3 times\n",
      "B occurs 7 times\n",
      "C occurs 6 times\n",
      "D occurs 6 times\n",
      "E occurs 5 times\n",
      "F occurs 1 times\n",
      "X occurs 3 times\n",
      "Z occurs 4 times\n"
     ]
    }
   ],
   "source": [
    "# Input string\n",
    "s = 'ABCDABXXXBCDABBBBCCCZZZZCDDDDEEEEEF'\n",
    "\n",
    "# Initialize an empty dictionary to store character frequencies\n",
    "d = {}\n",
    "\n",
    "# Iterate through the string and count occurrences using dictionary\n",
    "for ch in s:\n",
    "    d[ch] = d.get(ch, 0) + 1\n",
    "\n",
    "# Print the occurrences for each character\n",
    "for k, v in sorted(d.items()):\n",
    "    print('{} occurs {} times'.format(k, v))\n"
   ]
  },
  {
   "cell_type": "markdown",
   "metadata": {},
   "source": [
    "Q16) Program to Count Characters in a String and Output in Specific Format\n",
    "\n",
    "Input: ABAABBCA Output: 4A3B1C\n",
    "\n",
    "Approach 1: Using Dictionary"
   ]
  },
  {
   "cell_type": "code",
   "execution_count": 29,
   "metadata": {},
   "outputs": [
    {
     "name": "stdout",
     "output_type": "stream",
     "text": [
      "4A3B1C\n"
     ]
    }
   ],
   "source": [
    "s = 'ABAABBCA'\n",
    "output = ''\n",
    "d = {}\n",
    "\n",
    "# Count frequency of each character\n",
    "for ch in s:\n",
    "    d[ch] = d.get(ch, 0) + 1\n",
    "\n",
    "# Sort the dictionary and create output string\n",
    "for k, v in sorted(d.items()):\n",
    "    output = output + str(v) + k\n",
    "\n",
    "print(output)  # Output: 4A3B1C\n"
   ]
  },
  {
   "cell_type": "markdown",
   "metadata": {},
   "source": [
    "Q17) Program to Count Characters in a String in Alphabetical Order\n",
    "\n",
    "Input: ABAABBCA Output: A4B3C1\n",
    "\n",
    "Approach 1: Using Dictionary"
   ]
  },
  {
   "cell_type": "code",
   "execution_count": 30,
   "metadata": {},
   "outputs": [
    {
     "name": "stdout",
     "output_type": "stream",
     "text": [
      "A4B3C1\n"
     ]
    }
   ],
   "source": [
    "s = 'ABAABBCA'\n",
    "output = ''\n",
    "d = {}\n",
    "\n",
    "# Count frequency of each character\n",
    "for ch in s:\n",
    "    d[ch] = d.get(ch, 0) + 1\n",
    "\n",
    "# Sort the dictionary and create output string\n",
    "for k, v in sorted(d.items()):\n",
    "    output = output + k + str(v)\n",
    "\n",
    "print(output)  # Output: A4B3C1\n"
   ]
  },
  {
   "cell_type": "code",
   "execution_count": 31,
   "metadata": {},
   "outputs": [
    {
     "name": "stdout",
     "output_type": "stream",
     "text": [
      "A4B3C1\n"
     ]
    }
   ],
   "source": [
    "s = 'ABAABBCA'\n",
    "output = ''\n",
    "d = {}\n",
    "\n",
    "# Count frequency of each character\n",
    "for ch in s:\n",
    "    d[ch] = d.get(ch, 0) + 1\n",
    "\n",
    "# Sort the dictionary and create output string\n",
    "for k, v in sorted(d.items()):\n",
    "    output = output + k + str(v)\n",
    "\n",
    "print(output)  # Output: A4B3C1\n"
   ]
  },
  {
   "cell_type": "markdown",
   "metadata": {},
   "source": [
    "Q18) Program to Count Occurrences of Each Vowel\n",
    "\n",
    "Input: DURGASOFTWARESOLUTIONS \n",
    "\n",
    "Output:\n",
    "```\n",
    "A occurs 2 times\n",
    "E occurs 1 time\n",
    "I occurs 1 time\n",
    "O occurs 3 times\n",
    "U occurs 2 times\n",
    "```"
   ]
  },
  {
   "cell_type": "code",
   "execution_count": 32,
   "metadata": {},
   "outputs": [
    {
     "name": "stdout",
     "output_type": "stream",
     "text": [
      "A occurs 2 times\n",
      "E occurs 1 times\n",
      "I occurs 1 times\n",
      "O occurs 3 times\n",
      "U occurs 2 times\n"
     ]
    }
   ],
   "source": [
    "s = input('Enter some string to search for vowels:')\n",
    "v = ['a', 'e', 'i', 'o', 'u', 'A', 'E', 'I', 'O', 'U']\n",
    "d = {}\n",
    "\n",
    "# Count occurrences of vowels\n",
    "for ch in s:\n",
    "    if ch in v:\n",
    "        d[ch] = d.get(ch, 0) + 1\n",
    "\n",
    "# Print results\n",
    "for k, v in sorted(d.items()):\n",
    "    print('{} occurs {} times'.format(k, v))\n"
   ]
  },
  {
   "cell_type": "markdown",
   "metadata": {},
   "source": [
    "Q19) Program to Check if Two Strings are Anagrams\n",
    "\n",
    "Input: lazy, zaly Output: The strings are anagrams.\n",
    "\n",
    "Approach 1: Using Sorted Strings"
   ]
  },
  {
   "cell_type": "code",
   "execution_count": null,
   "metadata": {},
   "outputs": [],
   "source": [
    "s = input(\"Enter Some string:\")\n",
    "\n",
    "# Check if string is equal to its reverse\n",
    "if s == s[::-1]:\n",
    "    print('The given string is palindrome')\n",
    "else:\n",
    "    print('The given string is not palindrome')\n"
   ]
  },
  {
   "cell_type": "markdown",
   "metadata": {},
   "source": [
    "Q21) Program to Merge Characters from Three Strings in a Specific Format\n",
    "\n",
    "Inputs:\n",
    "```\n",
    "s1 = 'abcdefg'\n",
    "s2 = 'xyz'\n",
    "s3 = '12345' Output:\n",
    "```"
   ]
  },
  {
   "cell_type": "code",
   "execution_count": 33,
   "metadata": {},
   "outputs": [
    {
     "name": "stdout",
     "output_type": "stream",
     "text": [
      "ax1\n",
      "ax1by2\n",
      "ax1by2cz3\n",
      "ax1by2cz3d4\n",
      "ax1by2cz3d4e5\n",
      "ax1by2cz3d4e5f\n",
      "ax1by2cz3d4e5fg\n"
     ]
    }
   ],
   "source": [
    "s1 = 'abcdefg'\n",
    "s2 = 'xyz'\n",
    "s3 = '12345'\n",
    "\n",
    "i = j = k = 0\n",
    "output = ''\n",
    "\n",
    "while i < len(s1) or j < len(s2) or k < len(s3):\n",
    "    if i < len(s1):\n",
    "        output = output + s1[i]\n",
    "        i += 1\n",
    "    if j < len(s2):\n",
    "        output = output + s2[j]\n",
    "        j += 1\n",
    "    if k < len(s3):\n",
    "        output = output + s3[k]\n",
    "        k += 1\n",
    "    \n",
    "    # Print output after each iteration\n",
    "    print(output)\n"
   ]
  },
  {
   "cell_type": "code",
   "execution_count": null,
   "metadata": {},
   "outputs": [],
   "source": []
  }
 ],
 "metadata": {
  "kernelspec": {
   "display_name": "Python 3 (ipykernel)",
   "language": "python",
   "name": "python3"
  },
  "language_info": {
   "codemirror_mode": {
    "name": "ipython",
    "version": 3
   },
   "file_extension": ".py",
   "mimetype": "text/x-python",
   "name": "python",
   "nbconvert_exporter": "python",
   "pygments_lexer": "ipython3",
   "version": "3.10.9"
  }
 },
 "nbformat": 4,
 "nbformat_minor": 4
}
