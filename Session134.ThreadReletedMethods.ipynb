{
 "cells": [
  {
   "cell_type": "code",
   "execution_count": 4,
   "metadata": {},
   "outputs": [
    {
     "name": "stdout",
     "output_type": "stream",
     "text": [
      "Child thread\n",
      "\n",
      "Main thread identification number: 8080\n",
      "Child thread identification number: 14480\n"
     ]
    }
   ],
   "source": [
    "from threading import *\n",
    "\n",
    "def test():\n",
    "    print('Child thread')\n",
    "\n",
    "t=Thread(target=test)\n",
    "t.start()\n",
    "print()\n",
    "print('Main thread identification number:', current_thread().ident)\n",
    "print('Child thread identification number:', t.ident)\n"
   ]
  },
  {
   "cell_type": "markdown",
   "metadata": {},
   "source": [
    "`active_count()`\n",
    "\n",
    "It returns the number of active threads currently runnning"
   ]
  },
  {
   "cell_type": "code",
   "execution_count": 1,
   "metadata": {},
   "outputs": [
    {
     "name": "stdout",
     "output_type": "stream",
     "text": [
      "Number of active threads:  6\n",
      "ChildThread1 started\n",
      "ChildThread2 started\n",
      "ChildThread3 started\n",
      "Number of active threads:  9\n",
      "Number of active threads:  6\n"
     ]
    }
   ],
   "source": [
    "import time\n",
    "from threading import *\n",
    "\n",
    "def display():\n",
    "    print(f\"{current_thread().name} started\")\n",
    "    time.sleep(3)\n",
    "    \n",
    "print(\"Number of active threads: \", active_count())\n",
    "\n",
    "t1=Thread(target=display, name=\"ChildThread1\")\n",
    "t2=Thread(target=display, name=\"ChildThread2\")\n",
    "t3=Thread(target=display, name=\"ChildThread3\")\n",
    "t1.start()\n",
    "t2.start()\n",
    "t3.start()\n",
    "\n",
    "print(\"Number of active threads: \", active_count())\n",
    "time.sleep(5)\n",
    "print(\"Number of active threads: \", active_count())"
   ]
  },
  {
   "cell_type": "markdown",
   "metadata": {},
   "source": [
    "#### ___`enumerate()` function:___\n",
    "This function returns a list of all active threads currently running.\n"
   ]
  },
  {
   "cell_type": "code",
   "execution_count": 3,
   "metadata": {},
   "outputs": [
    {
     "name": "stdout",
     "output_type": "stream",
     "text": [
      "Number of active threads:  6\n",
      "ChildThread1 started\n",
      "ChildThread2 started\n",
      "ChildThread3 started\n",
      "Name: MainThread, IdentificationNumber: 10264\n",
      "Name: IOPub, IdentificationNumber: 18296\n",
      "Name: Heartbeat, IdentificationNumber: 12328\n",
      "Name: Control, IdentificationNumber: 17748\n",
      "Name: IPythonHistorySavingThread, IdentificationNumber: 12980\n",
      "Name: Thread-1, IdentificationNumber: 7660\n",
      "Name: ChildThread1, IdentificationNumber: 18396\n",
      "Name: ChildThread2, IdentificationNumber: 15356\n",
      "Name: ChildThread3, IdentificationNumber: 14936\n"
     ]
    }
   ],
   "source": [
    "import time\n",
    "from threading import *\n",
    "\n",
    "def display():\n",
    "    print(f\"{current_thread().name} started\")\n",
    "    time.sleep(3)\n",
    "    \n",
    "print(\"Number of active threads: \", active_count())\n",
    "\n",
    "t1=Thread(target=display, name=\"ChildThread1\")\n",
    "t2=Thread(target=display, name=\"ChildThread2\")\n",
    "t3=Thread(target=display, name=\"ChildThread3\")\n",
    "t1.start()\n",
    "t2.start()\n",
    "t3.start()\n",
    "\n",
    "time.sleep(1)  # Ensure that child threads have started before enumerating\n",
    "\n",
    "l=enumerate()\n",
    "for t in l:\n",
    "    print(f\"Name: {t.name}, IdentificationNumber: {t.ident}\")"
   ]
  },
  {
   "cell_type": "code",
   "execution_count": 5,
   "metadata": {},
   "outputs": [
    {
     "name": "stdout",
     "output_type": "stream",
     "text": [
      "Number of active threads:  6 \n",
      "\n",
      "ChildThread1 started\n",
      "\n",
      "ChildThread2 started\n",
      "\n",
      "ChildThread3 started\n",
      "\n",
      "Name: MainThread, Identification Number: 10264\n",
      "\n",
      "Name: IOPub, Identification Number: 18296\n",
      "\n",
      "Name: Heartbeat, Identification Number: 12328\n",
      "\n",
      "Name: Control, Identification Number: 17748\n",
      "\n",
      "Name: IPythonHistorySavingThread, Identification Number: 12980\n",
      "\n",
      "Name: Thread-1, Identification Number: 7660\n",
      "\n",
      "Name: ChildThread1, Identification Number: 10412\n",
      "\n",
      "Name: ChildThread2, Identification Number: 15644\n",
      "\n",
      "Name: ChildThread3, Identification Number: 13988\n",
      "\n",
      "ChildThread1 ended\n",
      "\n",
      "ChildThread3 ended\n",
      "\n",
      "ChildThread2 ended\n",
      "\n",
      "Name: MainThread, Identification Number: 10264\n",
      "\n",
      "Name: IOPub, Identification Number: 18296\n",
      "\n",
      "Name: Heartbeat, Identification Number: 12328\n",
      "\n",
      "Name: Control, Identification Number: 17748\n",
      "\n",
      "Name: IPythonHistorySavingThread, Identification Number: 12980\n",
      "\n",
      "Name: Thread-1, Identification Number: 7660\n",
      "\n"
     ]
    }
   ],
   "source": [
    "import time\n",
    "from threading import *\n",
    "\n",
    "def display():\n",
    "    print(f\"{current_thread().name} started\\n\")\n",
    "    time.sleep(3)\n",
    "    print(f\"{current_thread().name} ended\\n\")\n",
    "    \n",
    "print(\"Number of active threads: \", active_count(), \"\\n\")\n",
    "\n",
    "t1=Thread(target=display, name=\"ChildThread1\")\n",
    "t2=Thread(target=display, name=\"ChildThread2\")\n",
    "t3=Thread(target=display, name=\"ChildThread3\")\n",
    "t1.start()\n",
    "t2.start()\n",
    "t3.start()\n",
    "\n",
    "l=enumerate()\n",
    "for t in l:\n",
    "    print(f\"Name: {t.name}, Identification Number: {t.ident}\\n\")\n",
    "\n",
    "time.sleep(10)\n",
    "\n",
    "l=enumerate()\n",
    "for t in l:\n",
    "    print(f\"Name: {t.name}, Identification Number: {t.ident}\\n\")"
   ]
  },
  {
   "cell_type": "code",
   "execution_count": null,
   "metadata": {},
   "outputs": [],
   "source": [
    "import time\n",
    "from threading import *\n",
    "\n",
    "def display():\n",
    "    print(f\"{current_thread().name} started\\n\")\n",
    "    time.sleep(3)\n",
    "    print(f\"{current_thread().name} ended\\n\")\n",
    "    \n",
    "print(\"Number of active threads: \", active_count(), \"\\n\")\n",
    "\n",
    "t1=Thread(target=display, name=\"ChildThread1\")\n",
    "t2=Thread(target=display, name=\"ChildThread2\")\n",
    "t3=Thread(target=display, name=\"ChildThread3\")\n",
    "t1.start()\n",
    "t2.start()\n",
    "t3.start()\n",
    "\n",
    "l=enumerate()\n",
    "for t in l:\n",
    "    print(f\"Name: {t.name}, Identification Number: {t.ident}\\n\")\n",
    "\n",
    "time.sleep(10)\n",
    "\n",
    "l=enumerate()\n",
    "for t in l:\n",
    "    print(f\"Name: {t.name}, Identification Number: {t.ident}\\n\")"
   ]
  },
  {
   "cell_type": "markdown",
   "metadata": {},
   "source": [
    "#### __`is_alive()`:__\n",
    "isAlive() method checks whether a thread is still executing or not.\n"
   ]
  },
  {
   "cell_type": "code",
   "execution_count": 7,
   "metadata": {},
   "outputs": [
    {
     "name": "stdout",
     "output_type": "stream",
     "text": [
      "ChildThread1 ...started\n",
      "ChildThread2 ...started\n",
      "ChildThread1 is Alive: True\n",
      "ChildThread2 is Alive: True\n",
      "ChildThread1 ...ended\n",
      "ChildThread2 ...ended\n",
      "ChildThread1 is Alive: False\n",
      "ChildThread2 is Alive: False\n"
     ]
    }
   ],
   "source": [
    "from threading import *\n",
    "import time\n",
    "\n",
    "def display():\n",
    "    print(current_thread().name, \"...started\")\n",
    "    time.sleep(3)\n",
    "    print(current_thread().name, \"...ended\")\n",
    "\n",
    "# Creating threads\n",
    "t1 = Thread(target=display, name=\"ChildThread1\")\n",
    "t2 = Thread(target=display, name=\"ChildThread2\")\n",
    "\n",
    "# Starting threads\n",
    "t1.start()\n",
    "t2.start()\n",
    "\n",
    "# Checking if threads are alive immediately after starting\n",
    "print(t1.name, \"is Alive:\", t1.is_alive())\n",
    "print(t2.name, \"is Alive:\", t2.is_alive())\n",
    "\n",
    "# Wait for some time to let threads complete execution\n",
    "time.sleep(5)\n",
    "\n",
    "# Checking if threads are alive after they should have completed\n",
    "print(t1.name, \"is Alive:\", t1.is_alive())\n",
    "print(t2.name, \"is Alive:\", t2.is_alive())\n"
   ]
  },
  {
   "cell_type": "code",
   "execution_count": 8,
   "metadata": {},
   "outputs": [
    {
     "name": "stdout",
     "output_type": "stream",
     "text": [
      "NumberPrinterThread started printing numbers\n",
      "NumberPrinterThread -> 1\n",
      "LetterPrinterThread started printing letters\n",
      "LetterPrinterThread -> A\n",
      "NumberPrinterThread -> 2\n",
      "LetterPrinterThread -> B\n",
      "NumberPrinterThread -> 3NumberPrinterThread is Alive: True\n",
      "LetterPrinterThread is Alive: True\n",
      "\n",
      "NumberPrinterThread -> 4\n",
      "LetterPrinterThread -> C\n",
      "NumberPrinterThread -> 5\n",
      "LetterPrinterThread -> D\n",
      "NumberPrinterThread finished printing numbers\n",
      "LetterPrinterThread -> E\n",
      "LetterPrinterThread finished printing letters\n",
      "NumberPrinterThread is Alive: False\n",
      "LetterPrinterThread is Alive: False\n",
      "Main thread finished execution\n"
     ]
    }
   ],
   "source": [
    "from threading import Thread\n",
    "import time\n",
    "\n",
    "# Define task functions\n",
    "def print_numbers():\n",
    "    print(f\"{current_thread().name} started printing numbers\")\n",
    "    for i in range(1, 6):\n",
    "        print(f\"{current_thread().name} -> {i}\")\n",
    "        time.sleep(1)\n",
    "    print(f\"{current_thread().name} finished printing numbers\")\n",
    "\n",
    "def print_letters():\n",
    "    print(f\"{current_thread().name} started printing letters\")\n",
    "    for letter in \"ABCDE\":\n",
    "        print(f\"{current_thread().name} -> {letter}\")\n",
    "        time.sleep(1.5)\n",
    "    print(f\"{current_thread().name} finished printing letters\")\n",
    "\n",
    "# Create threads\n",
    "t1 = Thread(target=print_numbers, name=\"NumberPrinterThread\")\n",
    "t2 = Thread(target=print_letters, name=\"LetterPrinterThread\")\n",
    "\n",
    "# Start threads\n",
    "t1.start()\n",
    "t2.start()\n",
    "\n",
    "# Check if threads are alive during execution\n",
    "time.sleep(2)  # Let threads run for a while\n",
    "print(f\"{t1.name} is Alive: {t1.is_alive()}\")\n",
    "print(f\"{t2.name} is Alive: {t2.is_alive()}\")\n",
    "\n",
    "# Wait for both threads to complete\n",
    "t1.join()\n",
    "t2.join()\n",
    "\n",
    "# Check if threads are alive after completion\n",
    "print(f\"{t1.name} is Alive: {t1.is_alive()}\")\n",
    "print(f\"{t2.name} is Alive: {t2.is_alive()}\")\n",
    "print(\"Main thread finished execution\")\n"
   ]
  },
  {
   "cell_type": "code",
   "execution_count": 13,
   "metadata": {},
   "outputs": [
    {
     "name": "stdout",
     "output_type": "stream",
     "text": [
      "Thread-1 startedThread-1 is Alive: True\n",
      "\n",
      "Thread-2 started\n",
      "Thread-2 is Alive: True\n",
      "Thread-3 started\n",
      "Thread-3 is Alive: True\n",
      "Thread-4 started\n",
      "Thread-4 is Alive: True\n",
      "Thread-5 started\n",
      "Thread-5 is Alive: True\n"
     ]
    },
    {
     "ename": "TypeError",
     "evalue": "enumerate() takes 0 positional arguments but 1 was given",
     "output_type": "error",
     "traceback": [
      "\u001b[1;31m---------------------------------------------------------------------------\u001b[0m",
      "\u001b[1;31mTypeError\u001b[0m                                 Traceback (most recent call last)",
      "Cell \u001b[1;32mIn[13], line 20\u001b[0m\n\u001b[0;32m     18\u001b[0m \u001b[38;5;66;03m# Wait for all threads to complete\u001b[39;00m\n\u001b[0;32m     19\u001b[0m time\u001b[38;5;241m.\u001b[39msleep(\u001b[38;5;241m1\u001b[39m)  \u001b[38;5;66;03m# Check threads while they are running\u001b[39;00m\n\u001b[1;32m---> 20\u001b[0m \u001b[38;5;28;01mfor\u001b[39;00m idx, thread \u001b[38;5;129;01min\u001b[39;00m \u001b[38;5;28;43menumerate\u001b[39;49m\u001b[43m(\u001b[49m\u001b[43mthreads\u001b[49m\u001b[43m)\u001b[49m:  \u001b[38;5;66;03m# Use start=1 for 1-based index\u001b[39;00m\n\u001b[0;32m     21\u001b[0m     \u001b[38;5;28mprint\u001b[39m(\u001b[38;5;124mf\u001b[39m\u001b[38;5;124m\"\u001b[39m\u001b[38;5;124mThread-\u001b[39m\u001b[38;5;132;01m{\u001b[39;00midx\u001b[38;5;132;01m}\u001b[39;00m\u001b[38;5;124m is Alive after 1s: \u001b[39m\u001b[38;5;132;01m{\u001b[39;00mthread\u001b[38;5;241m.\u001b[39mis_alive()\u001b[38;5;132;01m}\u001b[39;00m\u001b[38;5;124m\"\u001b[39m)\n\u001b[0;32m     23\u001b[0m \u001b[38;5;66;03m# Final check after threads should be done\u001b[39;00m\n",
      "\u001b[1;31mTypeError\u001b[0m: enumerate() takes 0 positional arguments but 1 was given"
     ]
    },
    {
     "name": "stdout",
     "output_type": "stream",
     "text": [
      "Thread-1 finishedThread-2 finished\n",
      "\n",
      "Thread-4 finished\n",
      "Thread-3 finished\n",
      "Thread-5 finished\n"
     ]
    }
   ],
   "source": [
    "from threading import Thread\n",
    "import time\n",
    "\n",
    "# Function to simulate work\n",
    "def worker(number):\n",
    "    print(f\"Thread-{number} started\")\n",
    "    time.sleep(2)  # Simulate some work\n",
    "    print(f\"Thread-{number} finished\")\n",
    "\n",
    "# Create and start multiple threads\n",
    "threads = []\n",
    "for i in range(5):  # Creating 5 threads\n",
    "    thread = Thread(target=worker, args=(i+1,))\n",
    "    threads.append(thread)\n",
    "    thread.start()\n",
    "    print(f\"Thread-{i+1} is Alive: {thread.is_alive()}\")\n",
    "\n",
    "# Wait for all threads to complete\n",
    "time.sleep(1)  # Check threads while they are running\n",
    "for idx, thread in enumerate(threads, start=1):  # Use start=1 for 1-based index\n",
    "    print(f\"Thread-{idx} is Alive after 1s: {thread.is_alive()}\")\n",
    "\n",
    "# Final check after threads should be done\n",
    "time.sleep(3)  # Ensure all threads have completed\n",
    "for idx, thread in enumerate(threads, start=1):\n",
    "    print(f\"Thread-{idx} is Alive after 3s: {thread.is_alive()}\")\n"
   ]
  },
  {
   "cell_type": "code",
   "execution_count": null,
   "metadata": {},
   "outputs": [],
   "source": []
  },
  {
   "cell_type": "markdown",
   "metadata": {},
   "source": [
    "#### `join() method:`\n",
    "If a thread wants to wait until completing some other thread then we should go for join() method."
   ]
  },
  {
   "cell_type": "code",
   "execution_count": 14,
   "metadata": {},
   "outputs": [
    {
     "name": "stdout",
     "output_type": "stream",
     "text": [
      "Seetha Thread\n",
      "Seetha Thread\n",
      "Seetha Thread\n",
      "Seetha Thread\n",
      "Seetha Thread\n",
      "Seetha Thread\n",
      "Seetha Thread\n",
      "Seetha Thread\n",
      "Seetha Thread\n",
      "Seetha Thread\n",
      "Rama Thread\n",
      "Rama Thread\n",
      "Rama Thread\n",
      "Rama Thread\n",
      "Rama Thread\n",
      "Rama Thread\n",
      "Rama Thread\n",
      "Rama Thread\n",
      "Rama Thread\n",
      "Rama Thread\n"
     ]
    }
   ],
   "source": [
    "from threading import *\n",
    "import time\n",
    "def display():\n",
    "    for i in range(10):\n",
    "        print(\"Seetha Thread\")\n",
    "        time.sleep(2)\n",
    "\n",
    "t=Thread(target=display)\n",
    "t.start()\n",
    "t.join()#This Line executed by Main Thread\n",
    "for i in range(10):\n",
    "    print(\"Rama Thread\") "
   ]
  },
  {
   "cell_type": "code",
   "execution_count": 15,
   "metadata": {},
   "outputs": [
    {
     "name": "stdout",
     "output_type": "stream",
     "text": [
      "Seetha Thread\n",
      "Seetha Thread\n",
      "Seetha Thread\n",
      "Seetha Thread\n",
      "Seetha Thread\n",
      "Seetha Thread\n",
      "Rama Thread\n",
      "Rama Thread\n",
      "Rama Thread\n",
      "Rama Thread\n",
      "Rama Thread\n",
      "Rama Thread\n",
      "Rama Thread\n",
      "Rama Thread\n",
      "Rama Thread\n",
      "Rama Thread\n"
     ]
    },
    {
     "name": "stdout",
     "output_type": "stream",
     "text": [
      "Seetha Thread\n",
      "Seetha Thread\n",
      "Seetha Thread\n",
      "Seetha Thread\n"
     ]
    }
   ],
   "source": [
    "from threading import *\n",
    "import time\n",
    "def display():\n",
    "    for i in range(10):\n",
    "        print(\"Seetha Thread\")\n",
    "        time.sleep(2)\n",
    "\n",
    "t=Thread(target=display)\n",
    "t.start()\n",
    "t.join(10)#This Line executed by Main Thread main thread wiat until 10 second only\n",
    "for i in range(10):\n",
    "    print(\"Rama Thread\") "
   ]
  },
  {
   "cell_type": "code",
   "execution_count": null,
   "metadata": {},
   "outputs": [],
   "source": []
  }
 ],
 "metadata": {
  "kernelspec": {
   "display_name": "Python 3",
   "language": "python",
   "name": "python3"
  },
  "language_info": {
   "codemirror_mode": {
    "name": "ipython",
    "version": 3
   },
   "file_extension": ".py",
   "mimetype": "text/x-python",
   "name": "python",
   "nbconvert_exporter": "python",
   "pygments_lexer": "ipython3",
   "version": "3.12.7"
  }
 },
 "nbformat": 4,
 "nbformat_minor": 2
}
