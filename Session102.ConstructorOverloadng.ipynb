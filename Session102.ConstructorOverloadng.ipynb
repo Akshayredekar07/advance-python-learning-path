{
 "cells": [
  {
   "cell_type": "markdown",
   "metadata": {},
   "source": [
    "#### **Constructor Overloading**\n",
    "\n",
    "In Python, **constructor overloading is not possible**. Unlike other languages, Python does not support multiple constructors within a class. \n",
    "\n",
    "If multiple constructors are defined, **Python will only consider the last one** defined, and any earlier ones will be overridden.\n",
    "\n"
   ]
  },
  {
   "cell_type": "code",
   "execution_count": null,
   "metadata": {},
   "outputs": [],
   "source": [
    "class Test:\n",
    "    def __init__(self) -> None:\n",
    "        print(\"One args constructor\")"
   ]
  },
  {
   "cell_type": "code",
   "execution_count": null,
   "metadata": {},
   "outputs": [],
   "source": []
  }
 ],
 "metadata": {
  "kernelspec": {
   "display_name": "Python 3",
   "language": "python",
   "name": "python3"
  },
  "language_info": {
   "name": "python",
   "version": "3.11.5"
  }
 },
 "nbformat": 4,
 "nbformat_minor": 2
}
