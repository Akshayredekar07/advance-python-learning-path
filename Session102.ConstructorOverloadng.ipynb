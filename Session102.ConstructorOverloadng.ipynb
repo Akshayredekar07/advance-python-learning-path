{
 "cells": [
  {
   "cell_type": "markdown",
   "metadata": {},
   "source": [
    "#### **Constructor Overloading**\n",
    "\n",
    "In Python, **constructor overloading is not possible**. Unlike other languages, Python does not support multiple constructors within a class. \n",
    "\n",
    "If multiple constructors are defined, **Python will only consider the last one** defined, and any earlier ones will be overridden.\n",
    "\n"
   ]
  },
  {
   "cell_type": "code",
   "execution_count": null,
   "metadata": {},
   "outputs": [],
   "source": [
    "class Test:\n",
    "    def __init__(self) -> None:\n",
    "        print(\"One args constructor\")"
   ]
  },
  {
   "cell_type": "code",
   "execution_count": 1,
   "metadata": {},
   "outputs": [],
   "source": [
    "class Test:\n",
    "    def __init__(self, x=None, y=None, z=None) -> None:\n",
    "        print(\"No args | One args | Two args | Three args constructor\")"
   ]
  },
  {
   "cell_type": "code",
   "execution_count": 2,
   "metadata": {},
   "outputs": [
    {
     "name": "stdout",
     "output_type": "stream",
     "text": [
      "No args | One args | Two args | Three args constructor\n",
      "No args | One args | Two args | Three args constructor\n",
      "No args | One args | Two args | Three args constructor\n",
      "No args | One args | Two args | Three args constructor\n"
     ]
    }
   ],
   "source": [
    "t=Test()\n",
    "t=Test(10)\n",
    "t=Test(10, 20)\n",
    "t=Test(10, 20, 30)"
   ]
  },
  {
   "cell_type": "code",
   "execution_count": 8,
   "metadata": {},
   "outputs": [],
   "source": [
    "class Test:\n",
    "    def __init__(self, *args) -> None:\n",
    "        print(\"Constructor with variable number of arguments\", len(args))\n",
    "        for i in range(len(args)):\n",
    "            print(f\"argument {i+1}: {args[i]}\")"
   ]
  },
  {
   "cell_type": "code",
   "execution_count": 10,
   "metadata": {},
   "outputs": [
    {
     "name": "stdout",
     "output_type": "stream",
     "text": [
      "Constructor with variable number of arguments 4\n",
      "argument 1: 1\n",
      "argument 2: 2\n",
      "argument 3: 3\n",
      "argument 4: 4\n",
      "Constructor with variable number of arguments 5\n",
      "argument 1: 14\n",
      "argument 2: 23\n",
      "argument 3: 31\n",
      "argument 4: 41\n",
      "argument 5: 71\n"
     ]
    }
   ],
   "source": [
    "t=Test(1,2,3,4)\n",
    "t=Test(14,23,31,41,71,)"
   ]
  },
  {
   "cell_type": "code",
   "execution_count": null,
   "metadata": {},
   "outputs": [],
   "source": []
  }
 ],
 "metadata": {
  "kernelspec": {
   "display_name": "Python 3",
   "language": "python",
   "name": "python3"
  },
  "language_info": {
   "codemirror_mode": {
    "name": "ipython",
    "version": 3
   },
   "file_extension": ".py",
   "mimetype": "text/x-python",
   "name": "python",
   "nbconvert_exporter": "python",
   "pygments_lexer": "ipython3",
   "version": "3.11.5"
  }
 },
 "nbformat": 4,
 "nbformat_minor": 2
}
