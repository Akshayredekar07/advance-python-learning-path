{
 "cells": [
  {
   "cell_type": "markdown",
   "id": "37fe38be-be2f-48eb-b670-4c962430e54c",
   "metadata": {},
   "source": [
    "\n",
    "\n",
    "- In Python, the constructor is the `__init__` method. You should use a constructor when:\n",
    "  - You need to initialize object attributes when an instance is created.\n",
    "  - You want to perform any setup operations when the object is created.\n",
    "\n",
    "**When to Use Getters:**\n",
    "- When you need to compute a value on-the-fly.\n",
    "- When you want to provide read-only access to an attribute.\n",
    "- When you need to add validation or logging when accessing an attribute.\n",
    "\n",
    "**When to Use Setters:**\n",
    "- When you need to validate or modify the value before setting it.\n",
    "- When setting a value should trigger some other action or update.\n",
    "- When you want to control how an attribute is modified.\n",
    "\n",
    "- In Python, you can use the `@property` decorator for getters and the corresponding `.setter` decorator for setters."
   ]
  },
  {
   "cell_type": "code",
   "execution_count": 1,
   "id": "dac4a980-80ed-43b3-8d49-b7717b972083",
   "metadata": {},
   "outputs": [
    {
     "name": "stdout",
     "output_type": "stream",
     "text": [
      "5\n",
      "314.0\n"
     ]
    }
   ],
   "source": [
    "class Circle:\n",
    "    def __init__(self, radius):\n",
    "        self._radius = radius\n",
    "\n",
    "    @property\n",
    "    def radius(self):\n",
    "        return self._radius\n",
    "\n",
    "    @radius.setter\n",
    "    def radius(self, value):\n",
    "        if value < 0:\n",
    "            raise ValueError(\"Radius cannot be negative\")\n",
    "        self._radius = value\n",
    "\n",
    "    @property\n",
    "    def area(self):\n",
    "        return 3.14 * self._radius ** 2\n",
    "\n",
    "# Usage\n",
    "circle = Circle(5)\n",
    "print(circle.radius)  # 5\n",
    "circle.radius = 10    # This uses the setter\n",
    "print(circle.area)    # This uses the getter"
   ]
  },
  {
   "cell_type": "markdown",
   "id": "4150c401",
   "metadata": {},
   "source": [
    "### **Access modifiers** \n",
    "**1. Public:**\n",
    "\n",
    "*   **Convention:** No special prefix.\n",
    "*   **Meaning:** Accessible from anywhere (inside the class, outside the class, from subclasses).\n",
    "*   **Example:**\n",
    "\n",
    "    ```python\n",
    "    class MyClass:\n",
    "        def __init__(self):\n",
    "            self.public_var = \"I am public\"\n",
    "\n",
    "    obj = MyClass()\n",
    "    print(obj.public_var)  # Accessible\n",
    "    ```\n",
    "\n",
    "**2. Protected:**\n",
    "\n",
    "*   **Convention:** Single underscore prefix (`_`).\n",
    "*   **Meaning:** Intended for internal use within the class and its subclasses. It's still technically accessible from outside, but it's a signal that you *shouldn't* access it directly.\n",
    "*   **Example:**\n",
    "\n",
    "    ```python\n",
    "    class MyClass:\n",
    "        def __init__(self):\n",
    "            self._protected_var = \"I am protected\"\n",
    "\n",
    "    obj = MyClass()\n",
    "    print(obj._protected_var)  # Technically accessible, but not recommended\n",
    "    ```\n",
    "\n",
    "**3. Private:**\n",
    "\n",
    "*   **Convention:** Double underscore prefix (`__`). This is also known as \"name mangling.\"\n",
    "*   **Meaning:** The interpreter renames the variable to make it harder (but not impossible) to access directly from outside the class. The name becomes `_ClassName__variable_name`. This is to prevent accidental name clashes in subclasses.\n",
    "*   **Example:**\n",
    "\n",
    "    ```python\n",
    "    class MyClass:\n",
    "        def __init__(self):\n",
    "            self.__private_var = \"I am private\"\n",
    "\n",
    "    obj = MyClass()\n",
    "    # print(obj.__private_var)  # This will raise an AttributeError\n",
    "    print(obj._MyClass__private_var)  # Accessible using name mangling, but strongly discouraged\n",
    "    ```\n",
    "\n",
    "\n",
    "*   Python's access control is based on convention, not strict enforcement.\n",
    "*   `_` (protected) signals \"internal use.\"\n",
    "*   `__` (private) uses name mangling to make direct external access more difficult, primarily for preventing naming conflicts in subclasses, *not* for true information hiding.\n",
    "*   There's no way to truly prevent determined users from accessing \"private\" or \"protected\" members. The conventions are about good coding practices and preventing accidental misuse.\n",
    "\n",
    "**Example demonstrating name mangling:**\n",
    "\n",
    "```python\n",
    "class Parent:\n",
    "    def __init__(self):\n",
    "        self.__my_var = \"Parent's var\"\n",
    "\n",
    "class Child(Parent):\n",
    "    def __init__(self):\n",
    "        super().__init__()\n",
    "        self.__my_var = \"Child's var\"\n",
    "\n",
    "p = Parent()\n",
    "c = Child()\n",
    "\n",
    "print(p._Parent__my_var)  # Output: Parent's var\n",
    "print(c._Child__my_var)  # Output: Child's var\n",
    "# Notice how the names are mangled differently.\n",
    "```\n"
   ]
  },
  {
   "cell_type": "markdown",
   "id": "35352525",
   "metadata": {},
   "source": [
    "- **Instance Method**: Requires at least one instance variable and does not use a decorator.\n",
    "- **Class Method**: Uses class variables (static variables) and is defined with the `@classmethod` decorator.\n",
    "- **Static Method**: Static methods in Python belong to a class rather than an instance of the class. They don't have access to the instance (`self`) or the class (`cls`) and work like regular functions, but are defined inside a class.\n",
    "  - You can define a static method using the `@staticmethod` decorator.\n",
    "- **How to Access Static Methods**:\n",
    "  - Static methods can be accessed either by using an object reference or the class name.\n",
    "  - The class name is the recommended approach.\n"
   ]
  },
  {
   "cell_type": "markdown",
   "id": "29ff4968-5146-443d-80b4-ebfeaa22914d",
   "metadata": {},
   "source": [
    "**When to Use Static Methods:**\n",
    "\n",
    "- **Utility Functions**: When you have a function that doesn't need access to instance or class attributes but logically belongs to the class.\n",
    "- **Factory Methods**: To create instance objects in a specific way.\n",
    "- **Namespace Grouping**: To group related functions within a class's namespace.\n",
    "- **Performance**: Static methods can be slightly faster when you don't need access to instance or class data.\n"
   ]
  },
  {
   "cell_type": "code",
   "execution_count": 1,
   "id": "1e99b2e6-488d-4b3d-89cf-6a8860292813",
   "metadata": {},
   "outputs": [
    {
     "name": "stdout",
     "output_type": "stream",
     "text": [
      "8\n"
     ]
    }
   ],
   "source": [
    "class MathOperations:\n",
    "    @staticmethod\n",
    "    def add(x, y):\n",
    "        return x + y\n",
    "\n",
    "    @staticmethod\n",
    "    def multiply(x, y):\n",
    "        return x * y\n",
    "\n",
    "# Usage\n",
    "result = MathOperations.add(5, 3)  \n",
    "print(result)"
   ]
  },
  {
   "cell_type": "code",
   "execution_count": 2,
   "id": "56819cfd-de7d-4338-affd-6c76e3f992fe",
   "metadata": {},
   "outputs": [
    {
     "name": "stdout",
     "output_type": "stream",
     "text": [
      "<__main__.Pizza object at 0x00000163838DE7D0>\n",
      "<__main__.Pizza object at 0x00000163838DF100>\n"
     ]
    }
   ],
   "source": [
    "class Pizza:\n",
    "    def __init__(self, ingredients):\n",
    "        self.ingredients = ingredients\n",
    "\n",
    "    @staticmethod\n",
    "    def margherita():\n",
    "        return Pizza([\"mozzarella\", \"tomatoes\"])\n",
    "\n",
    "    @staticmethod\n",
    "    def prosciutto():\n",
    "        return Pizza([\"mozzarella\", \"tomatoes\", \"ham\"])\n",
    "\n",
    "# Usage\n",
    "margherita = Pizza.margherita()\n",
    "prosciutto = Pizza.prosciutto()\n",
    "print(margherita)\n",
    "print(prosciutto)"
   ]
  },
  {
   "cell_type": "code",
   "execution_count": 4,
   "id": "7dbfc0eb-b81c-414d-86aa-a6f2996a447e",
   "metadata": {},
   "outputs": [
    {
     "name": "stdout",
     "output_type": "stream",
     "text": [
      "True\n",
      "World Hello\n"
     ]
    }
   ],
   "source": [
    "class StringUtils:\n",
    "    @staticmethod\n",
    "    def is_palindrome(s):\n",
    "        return s == s[::-1]\n",
    "\n",
    "    @staticmethod\n",
    "    def reverse_words(s):\n",
    "        return ' '.join(s.split()[::-1])\n",
    "\n",
    "\n",
    "print(StringUtils.is_palindrome(\"radar\"))  # True\n",
    "print(StringUtils.reverse_words(\"Hello World\"))  # \"World Hello\""
   ]
  },
  {
   "cell_type": "markdown",
   "id": "1771580d-cfe2-44b0-927a-7748267ecc3f",
   "metadata": {},
   "source": [
    "#### Comparison with Instance and Class Methods\n",
    "\n",
    "- Instance Methods: Have access to instance attributes via self.\n",
    "- Class Methods: Have access to class attributes via cls.\n",
    "- Static Methods: Have no access to instance or class attributes."
   ]
  },
  {
   "cell_type": "code",
   "execution_count": 7,
   "id": "bf285fe9-48ca-4f82-82b5-5255b7544e0d",
   "metadata": {},
   "outputs": [],
   "source": [
    "class MyClass:\n",
    "    class_var = \"I'm a class variable\"\n",
    "\n",
    "    def __init__(self):\n",
    "        self.instance_var = \"I'm an instance variable\"\n",
    "\n",
    "    def instance_method(self):\n",
    "        return f\"Instance method: {self.instance_var}\"\n",
    "\n",
    "    @classmethod\n",
    "    def class_method(cls):\n",
    "        return f\"Class method: {cls.class_var}\"\n",
    "\n",
    "    @staticmethod\n",
    "    def static_method():\n",
    "        return \"Static method: I don't have access to instance or class variables\"\n",
    "        \n",
    "        \n",
    "# Static methods don't have access to self or cls, so they can't modify object state or class state directly."
   ]
  },
  {
   "cell_type": "code",
   "execution_count": 8,
   "id": "97fb4539",
   "metadata": {},
   "outputs": [
    {
     "name": "stdout",
     "output_type": "stream",
     "text": [
      "Hello, world!\n"
     ]
    }
   ],
   "source": [
    "class FileUtils:\n",
    "    @staticmethod\n",
    "    def read_file(file_path):\n",
    "        with open(file_path, 'r') as file:\n",
    "            return file.read()\n",
    "\n",
    "    @staticmethod\n",
    "    def write_file(file_path, content):\n",
    "        with open(file_path, 'w') as file:\n",
    "            file.write(content)\n",
    "\n",
    "# Using static methods for file operations\n",
    "FileUtils.write_file(\"example.txt\", \"Hello, world!\")\n",
    "content = FileUtils.read_file(\"example.txt\")\n",
    "print(content)\n"
   ]
  },
  {
   "cell_type": "code",
   "execution_count": 12,
   "id": "7cf7f641-409a-4c8b-b5a7-47f16f322a84",
   "metadata": {},
   "outputs": [
    {
     "name": "stdout",
     "output_type": "stream",
     "text": [
      "The sum: 94\n",
      "Productof nums: 3420\n"
     ]
    }
   ],
   "source": [
    "class Calculations:\n",
    "    a=4 # we cannot declare the only static variable it should be initilized\n",
    "    @staticmethod\n",
    "    def add(x,y):\n",
    "        print('The sum:', x+y)\n",
    "\n",
    "    @staticmethod\n",
    "    def product(x,y):\n",
    "        print(\"Productof nums:\",x*y)\n",
    "\n",
    "    @staticmethod\n",
    "    def avg(x,y):\n",
    "        print(\"The avg of numbers\",(x+y)/2)\n",
    "\n",
    "\n",
    "Calculations.add(43,51)\n",
    "Calculations.product(45,76)\n"
   ]
  },
  {
   "cell_type": "markdown",
   "id": "0c61799c-ecc1-4ba7-85a6-2a0923cb4f67",
   "metadata": {},
   "source": [
    "\n",
    "Instance Methods:\n",
    "\n",
    "- Use at least one instance variable\n",
    "- Can access both instance and static variables\n",
    "- No decorator required\n",
    "- Use 'self' as reference to current object, accessing instance variables\n",
    "- Called using object reference\n",
    "\n",
    "Class Methods:\n",
    "\n",
    "- Use static variables, not instance variables\n",
    "- Can access only static variables, not instance variables\n",
    "- @classmethod decorator is required\n",
    "- Use 'cls' as reference to current class object, accessing static variables\n",
    "- Can be called using either class name or object reference (class name recommended)\n"
   ]
  },
  {
   "cell_type": "markdown",
   "id": "fca32fdb-358c-44ba-933f-9923837525ef",
   "metadata": {},
   "source": [
    "### Instance Method vs Class Method vs Static Method\n",
    "\n",
    "1. Instance Method\n",
    "   - Uses any instance variable, accessed via `self`\n",
    "   - Can be accessed by using an object\n",
    "\n",
    "2. Class Method\n",
    "   - Uses static variables\n",
    "   - Uses `cls`\n",
    "   - Decorated with `@classmethod`\n",
    "   - Can be called either by object reference or by class name\n",
    "\n",
    "3. Static Method\n",
    "   - Not using any instance variable or any static variable\n",
    "   - Decorated with `@staticmethod`\n",
    "   - Can be called either by object reference or by class name"
   ]
  },
  {
   "cell_type": "markdown",
   "id": "af51024c-09ed-4126-bea0-d2613e8d774d",
   "metadata": {},
   "source": [
    "#### Method Selection Based on Variable Usage\n",
    "\n",
    "| Variable Usage                                        | Method Type        |\n",
    "|-------------------------------------------------------|:------------------:|\n",
    "| **Only instance variables**                           | **Instance method**|\n",
    "| **Only static variables**                             | **Class method**   |\n",
    "| **Instance variables AND static variables**           | **Instance method**|\n",
    "| **Instance variables AND local variables**            | **Instance method**|\n",
    "| **Static variables AND local variables**              | **Class method**   |\n",
    "| **Only local variables**                              | **Static method**  |"
   ]
  },
  {
   "cell_type": "markdown",
   "id": "182ba8b9-de40-4215-92ae-a9264a8eea09",
   "metadata": {},
   "source": [
    "### Python Method Decorators and Access\n",
    "\n",
    "#### Decorator Usage\n",
    "\n",
    "- **Instance method:** No decorator\n",
    "- **Class method:** `@classmethod` (mandatory)\n",
    "- **Static method:** `@staticmethod` (optional)\n",
    "\n",
    "### Method Classification Without Decorators\n",
    "\n",
    "If no decorator is used, the method can be either an instance method or a static method.\n",
    "The classification is determined by how the method is accessed:\n",
    "\n",
    "- If accessed using the class name: static method\n",
    "- If accessed using an object reference: instance method\n",
    "\n",
    "#### Instance Method (No Decorator)\n",
    "```python\n",
    "class MyClass:\n",
    "    def instance_method(self):\n",
    "        print(\"This is an instance method\")\n",
    "\n",
    "obj = MyClass()\n",
    "obj.instance_method()  # Accessed via object reference"
   ]
  },
  {
   "cell_type": "code",
   "execution_count": 13,
   "id": "4453cf45-7183-4769-a731-5797f8a778be",
   "metadata": {},
   "outputs": [
    {
     "name": "stdout",
     "output_type": "stream",
     "text": [
      "This is a class method\n"
     ]
    }
   ],
   "source": [
    "class MyClass:\n",
    "    @classmethod\n",
    "    def class_method(cls):\n",
    "        print(\"This is a class method\")\n",
    "\n",
    "MyClass.class_method()  # Can be accessed via class name"
   ]
  },
  {
   "cell_type": "code",
   "execution_count": 14,
   "id": "aecfbf52-97e7-493c-9a54-468af49742e8",
   "metadata": {},
   "outputs": [
    {
     "name": "stdout",
     "output_type": "stream",
     "text": [
      "This is a static method\n",
      "This is a static method\n"
     ]
    }
   ],
   "source": [
    "class MyClass:\n",
    "    @staticmethod\n",
    "    def static_method():\n",
    "        print(\"This is a static method\")\n",
    "\n",
    "MyClass.static_method()  # Can be accessed via class name\n",
    "obj = MyClass()\n",
    "obj.static_method()  # Can also be accessed via object reference"
   ]
  },
  {
   "cell_type": "code",
   "execution_count": 12,
   "id": "b29982d2-d879-447a-b981-356fbbe125a0",
   "metadata": {},
   "outputs": [
    {
     "name": "stdout",
     "output_type": "stream",
     "text": [
      "This method could be static or instance\n"
     ]
    }
   ],
   "source": [
    "class MyClass:\n",
    "    def ambiguous_method():\n",
    "        print(\"This method could be static or instance\")\n",
    "\n",
    "# Accessing as static method\n",
    "MyClass.ambiguous_method()\n",
    "\n",
    "# Accessing as instance method\n",
    "obj = MyClass()\n",
    "#obj.ambiguous_method()  # This will raise a TypeError if it's truly meant to be static"
   ]
  },
  {
   "cell_type": "code",
   "execution_count": null,
   "id": "beac2302-1588-49cc-a175-eff214572858",
   "metadata": {},
   "outputs": [],
   "source": []
  },
  {
   "cell_type": "code",
   "execution_count": null,
   "id": "71af1680",
   "metadata": {},
   "outputs": [],
   "source": []
  }
 ],
 "metadata": {
  "kernelspec": {
   "display_name": "Python 3",
   "language": "python",
   "name": "python3"
  },
  "language_info": {
   "codemirror_mode": {
    "name": "ipython",
    "version": 3
   },
   "file_extension": ".py",
   "mimetype": "text/x-python",
   "name": "python",
   "nbconvert_exporter": "python",
   "pygments_lexer": "ipython3",
   "version": "3.10.9"
  }
 },
 "nbformat": 4,
 "nbformat_minor": 5
}
