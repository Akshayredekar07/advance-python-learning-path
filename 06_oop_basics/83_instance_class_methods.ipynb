{
 "cells": [
  {
   "cell_type": "code",
   "execution_count": 2,
   "id": "6a4dfa30-77dc-4636-9a91-c6d870915123",
   "metadata": {},
   "outputs": [],
   "source": [
    "\n",
    "class Student:\n",
    "    def __init__(self, name, marks):\n",
    "        self.name = name\n",
    "        self.marks = marks\n",
    "\n",
    "    def display(self):\n",
    "        print(\"Hiee, \",self.name)\n",
    "        print(\"Your total marks are \", self.marks)\n",
    "        if self.marks >= 60:\n",
    "            print('You have Grade A.')\n",
    "        elif self.marks >= 50:\n",
    "            print('You have Grade B.')\n",
    "        elif self.marks >= 40:\n",
    "            print('You have Grade C.')\n",
    "        else:\n",
    "            print('You Get Failed.')\n"
   ]
  },
  {
   "cell_type": "code",
   "execution_count": null,
   "id": "296aa7bc-8c0e-48cc-ad7e-103d17390830",
   "metadata": {},
   "outputs": [],
   "source": []
  },
  {
   "cell_type": "code",
   "execution_count": 3,
   "id": "ef6bf27a-5e0e-427c-8bc4-f59ed311b087",
   "metadata": {},
   "outputs": [],
   "source": [
    "# name = input(\"Enter the name: \")\n",
    "# marks = float(input(\"Enter you marks: \"))\n",
    "# s = Student(name, marks)\n",
    "# s.display()"
   ]
  },
  {
   "cell_type": "code",
   "execution_count": 4,
   "id": "ea84a7cb-80d1-41d0-98e0-d1c7487dcbdd",
   "metadata": {},
   "outputs": [
    {
     "name": "stdout",
     "output_type": "stream",
     "text": [
      "Enter the number of students:  2\n",
      "Enter Student name:  Akshay\n",
      "Enter you marks:  67.0\n"
     ]
    },
    {
     "name": "stdout",
     "output_type": "stream",
     "text": [
      "Hiee,  Akshay\n",
      "Your total marks are  67.0\n",
      "You have Grade A.\n",
      "\n"
     ]
    },
    {
     "name": "stdout",
     "output_type": "stream",
     "text": [
      "Enter Student name:  Rahul\n",
      "Enter you marks:  67.9\n"
     ]
    },
    {
     "name": "stdout",
     "output_type": "stream",
     "text": [
      "Hiee,  Rahul\n",
      "Your total marks are  67.9\n",
      "You have Grade A.\n",
      "\n"
     ]
    }
   ],
   "source": [
    "n = int(input(\"Enter the number of students: \"))\n",
    "for i in range(n):\n",
    "    name = input(\"Enter Student name: \")\n",
    "    marks = float(input(\"Enter you marks: \"))\n",
    "    s = Student(name, marks)\n",
    "    s.display()\n",
    "    print()"
   ]
  },
  {
   "cell_type": "markdown",
   "id": "21989698-3f6b-48ea-9176-91ada850790e",
   "metadata": {},
   "source": [
    "#### **Getter and Setter Methods**\n",
    "\n",
    "* **If we know the data at the time of creating an object:** Use a **constructor**.\n",
    "* **If we don't know the data at the time of creating an object:** Create the object and later use **setter methods** to perform initialization.\n",
    "\n",
    "**Setter** methods can be used to set the data:\n",
    "\n",
    "```python\n",
    "def setVariableName(self, value):\n",
    "    self.variablename = value\n",
    "```\n",
    "\n",
    "Example:\n",
    "\n",
    "```python\n",
    "def setName(self, name):\n",
    "    self.name = name\n",
    "```\n",
    "\n",
    "**Getter** methods can be used to get the data:\n",
    "\n",
    "```python\n",
    "def getName(self):\n",
    "    return self.name\n",
    "```"
   ]
  },
  {
   "cell_type": "code",
   "execution_count": 6,
   "id": "74c5b8af-8c08-48d0-b593-8a0808f83c83",
   "metadata": {},
   "outputs": [
    {
     "name": "stdout",
     "output_type": "stream",
     "text": [
      "Enter the number of students:  1\n",
      "Enter Student name:  virat\n",
      "Enter you marks:  18.8\n"
     ]
    },
    {
     "name": "stdout",
     "output_type": "stream",
     "text": [
      "Hiee  virat your marks are  18.8\n"
     ]
    }
   ],
   "source": [
    "\n",
    "class Student:\n",
    "    def set_name(self, name):\n",
    "        self.name=name\n",
    "\n",
    "    def get_name(self):\n",
    "        return self.name\n",
    "\n",
    "    def set_marks(self, marks):\n",
    "        \"\"\"Do the validations in the getters and setters\"\"\"\n",
    "        self.marks=marks\n",
    "\n",
    "    def get_marks(self):\n",
    "        return self.marks\n",
    "\n",
    "\n",
    "n = int(input(\"Enter the number of students: \"))\n",
    "for i in range(n):\n",
    "    s = Student()\n",
    "    name = input(\"Enter Student name: \")\n",
    "    s.set_name(name)\n",
    "    marks = float(input(\"Enter you marks: \"))\n",
    "    s.set_marks(marks)\n",
    "\n",
    "print(\"Hiee \", s.get_name(), \"your marks are \", s.get_marks())\n"
   ]
  },
  {
   "cell_type": "code",
   "execution_count": 1,
   "id": "bf2c8d4d",
   "metadata": {},
   "outputs": [
    {
     "name": "stdout",
     "output_type": "stream",
     "text": [
      "Hi  karan , your marks are  56.0\n",
      "Hi  Varun , your marks are  78.0\n"
     ]
    }
   ],
   "source": [
    "class Student:\n",
    "    def set_name(self, name):\n",
    "        self.name = name\n",
    "\n",
    "    def get_name(self):\n",
    "        return self.name\n",
    "\n",
    "    def set_marks(self, marks):\n",
    "        \"\"\"Do the validations in the getters and setters\"\"\"\n",
    "        self.marks = marks\n",
    "\n",
    "    def get_marks(self):\n",
    "        return self.marks\n",
    "\n",
    "n = int(input(\"Enter the number of students: \"))\n",
    "students = []\n",
    "\n",
    "for i in range(n):\n",
    "    s = Student()\n",
    "    name = input(\"Enter Student name: \")\n",
    "    s.set_name(name)\n",
    "    marks = float(input(\"Enter your marks: \"))\n",
    "    s.set_marks(marks)\n",
    "    students.append(s)\n",
    "\n",
    "for s in students:\n",
    "    print(\"Hi \", s.get_name(), \", your marks are \", s.get_marks())\n"
   ]
  },
  {
   "cell_type": "markdown",
   "id": "4087b1de-ad5a-43de-bb0c-a16d16a1327c",
   "metadata": {},
   "source": [
    "### **Class Method**\n",
    "\n",
    "* A **class method** is used when the method only interacts with **static variables** and does not use any instance variables.\n",
    "* To define a class method, use the `@classmethod` decorator.\n",
    "\n",
    "**Syntax:**\n",
    "\n",
    "```python\n",
    "@classmethod\n",
    "def m1(cls):\n",
    "    pass\n",
    "```\n",
    "\n",
    "**How to Call a Class Method:**\n",
    "\n",
    "* You can call a class method either:\n",
    "  - By using a **class object reference** or\n",
    "  - By using the **class name** directly.\n"
   ]
  },
  {
   "cell_type": "code",
   "execution_count": 3,
   "id": "edde5213-0940-4314-b5cc-917fcd663f14",
   "metadata": {},
   "outputs": [
    {
     "name": "stdout",
     "output_type": "stream",
     "text": [
      "Cow walks with 4 legs\n"
     ]
    }
   ],
   "source": [
    "class Animal:\n",
    "    legs = 4\n",
    "    @classmethod\n",
    "    def walk(cls, name):\n",
    "        print(f'{name} walks with {cls.legs} legs')\n",
    "\n",
    "Animal.walk('Cow')"
   ]
  },
  {
   "cell_type": "code",
   "execution_count": 4,
   "id": "d40a3663-3235-4c8d-8b72-837505723385",
   "metadata": {},
   "outputs": [
    {
     "name": "stdout",
     "output_type": "stream",
     "text": [
      "collage name:  DurgaSoft\n"
     ]
    }
   ],
   "source": [
    "class Student:\n",
    "    collageName = 'DurgaSoft'\n",
    "\n",
    "    @classmethod\n",
    "    def getCollageInfo(cls):\n",
    "        print(\"collage name: \", cls.collageName)\n",
    "\n",
    "Student.getCollageInfo()"
   ]
  },
  {
   "cell_type": "code",
   "execution_count": 5,
   "id": "944c2690-3723-47c2-acd9-9aeda9b72d63",
   "metadata": {},
   "outputs": [
    {
     "name": "stdout",
     "output_type": "stream",
     "text": [
      "Total no of objects created:  3\n",
      "This is also a class method\n",
      "        because the name of the variable does not matter.\n",
      "        However, this is not good programming practice.\n",
      "Total no of objects created:  3\n"
     ]
    }
   ],
   "source": [
    "class Test:\n",
    "    count = 0  # Class variable to track the count of objects\n",
    "\n",
    "    def __init__(self):\n",
    "        Test.count = Test.count + 1  # Increment count whenever an object is created\n",
    "\n",
    "    @classmethod\n",
    "    def getNoOfObjects(cls):\n",
    "        print(\"Total no of objects created: \", cls.count)\n",
    "\n",
    "    @classmethod\n",
    "    def getNoOfObjects1(self):\n",
    "        print(\"\"\"This is also a class method\n",
    "        because the name of the variable does not matter.\n",
    "        However, this is not good programming practice.\"\"\")\n",
    "        print(\"Total no of objects created: \", self.count)\n",
    "\n",
    "\n",
    "# Creating objects\n",
    "t1 = Test()\n",
    "t2 = Test()\n",
    "t3 = Test()\n",
    "\n",
    "# Calling class methods\n",
    "Test.getNoOfObjects()\n",
    "Test.getNoOfObjects1()\n"
   ]
  },
  {
   "cell_type": "code",
   "execution_count": null,
   "id": "786a100a-dd29-4557-b792-9cb833214f19",
   "metadata": {},
   "outputs": [],
   "source": [
    "# Write the program to track the number of objects created for a clsss?"
   ]
  },
  {
   "cell_type": "code",
   "execution_count": null,
   "id": "e9d91311",
   "metadata": {},
   "outputs": [],
   "source": [
    "class ObjectTracker:\n",
    "    # Class variable to track the number of objects\n",
    "    object_count = 0\n",
    "\n",
    "    def __init__(self):\n",
    "        # Increment the count each time an object is created\n",
    "        ObjectTracker.object_count += 1\n",
    "\n",
    "    @classmethod\n",
    "    def get_object_count(cls):\n",
    "        # Return the current object count\n",
    "        return cls.object_count\n",
    "\n",
    "# Creating objects\n",
    "obj1 = ObjectTracker()\n",
    "obj2 = ObjectTracker()\n",
    "obj3 = ObjectTracker()\n",
    "\n",
    "# Accessing the object count\n",
    "print(\"Number of objects created:\", ObjectTracker.get_object_count())  # Output: 3\n"
   ]
  }
 ],
 "metadata": {
  "kernelspec": {
   "display_name": "Python 3",
   "language": "python",
   "name": "python3"
  },
  "language_info": {
   "codemirror_mode": {
    "name": "ipython",
    "version": 3
   },
   "file_extension": ".py",
   "mimetype": "text/x-python",
   "name": "python",
   "nbconvert_exporter": "python",
   "pygments_lexer": "ipython3",
   "version": "3.10.9"
  }
 },
 "nbformat": 4,
 "nbformat_minor": 5
}
