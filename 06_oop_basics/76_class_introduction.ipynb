{
 "cells": [
  {
   "cell_type": "markdown",
   "id": "74c81a06",
   "metadata": {},
   "source": [
    "### **Object Oriented Programming**\n",
    "**_Understanding Real-Time Entities_**\n",
    "\n",
    "**OOPS involves real-time entities such as classes, objects, and reference variables.**"
   ]
  },
  {
   "cell_type": "markdown",
   "id": "821e99f7",
   "metadata": {},
   "source": [
    "```py\n",
    "          +------------------+\n",
    "          |      Plan        |\n",
    "          |  (Blueprint)     |\n",
    "          +------------------+\n",
    "                  |\n",
    "                  |\n",
    "                  v\n",
    "          +------------------+\n",
    "          |     Building     |\n",
    "          |                  |\n",
    "          |     object       |\n",
    "          +------------------+\n",
    "```"
   ]
  },
  {
   "cell_type": "markdown",
   "id": "db1503c4",
   "metadata": {},
   "source": [
    "```mermaid\n",
    "classDiagram\n",
    "    Building1 --> Plan/Blueprint/Class/Template/Model\n",
    "    Building2 --> Plan/Blueprint/Class/Template/Model\n",
    "    Building3 --> Plan/Blueprint/Class/Template/Model\n",
    "    Building4 --> Plan/Blueprint/Class/Template/Model\n",
    "    Building5 --> Plan/Blueprint/Class/Template/Model\n",
    "    Building1 : +object\n",
    "    Building2 : +object\n",
    "    Building3 : +object\n",
    "    Building4 : +object\n",
    "    Building5 : +object\n",
    "```"
   ]
  },
  {
   "cell_type": "markdown",
   "id": "8f3acf2a",
   "metadata": {},
   "source": [
    "\n",
    "Class can also be referred to as:\n",
    "- Blueprint / Template / Prototype / Scheme / Design / Model / Pattern / Framework / Structure / Specification.\n",
    "\n",
    "Object can also be referred to as:\n",
    "- Instance / Entity / Realization / Occurrence / Component / Element / Product / Unit / Artifact."
   ]
  },
  {
   "cell_type": "markdown",
   "id": "39c4c195",
   "metadata": {},
   "source": [
    "#### **Building Plan for the Construction of Buildings** \n",
    "We can construct multiple buildings within one city using one plan.\n",
    "\n",
    "**Entities in Object-Oriented Programming (OOPS)**\n",
    "\n",
    "1. **Architect** → Plan  \n",
    "   The architect creates the design or plan for the construction.\n",
    "\n",
    "2. **Class**  \n",
    "   - It acts as the blueprint, plan, model, or design for objects.\n",
    "   - Example: The building's architectural design serves as a class.\n",
    "\n",
    "3. **Object**  \n",
    "   - It is a physical existence of the class.\n",
    "   - Example: The actual constructed building represents the object.\n",
    "\n",
    "\n",
    "\n",
    "**Example No. 2: OLED LG 65 Inches C Model**\n",
    "\n",
    "- **TV Model Design**: Class  \n",
    "  The design of the LG OLED TV model serves as the class.\n",
    "  \n",
    "- **Each TV**: Object  \n",
    "  Each individual TV unit in different shops is an object of the class.\n",
    "\n",
    "**Price List for OLED LG 65 Inches C Model:**\n",
    "- Shop 1: 3.2 Lakhs  \n",
    "- Shop 2: 2.4 Lakhs  \n",
    "- Shop 3: 1.95 Lakhs  \n",
    "- Shop 4: 2.75 Lakhs  \n",
    "\n",
    "\n",
    "**Example No. 3: Shree Ganesh Murti**\n",
    "\n",
    "- **Mould** → **Clay** → **Idle**  \n",
    "  The process of creating the Ganesh idol involves a mould, clay, and idle time during the crafting stage."
   ]
  },
  {
   "cell_type": "markdown",
   "id": "257d9cf6-464b-4d86-8004-85e2d5e28ef6",
   "metadata": {},
   "source": [
    "![Class Blueprint](./Images/class.png)"
   ]
  },
  {
   "cell_type": "code",
   "execution_count": null,
   "id": "186ddd5a",
   "metadata": {},
   "outputs": [],
   "source": []
  },
  {
   "cell_type": "markdown",
   "id": "a0cdbbbe-2730-4e7c-a4fc-879fc8c48220",
   "metadata": {},
   "source": [
    "**The relationship between a Class and Objects is *One-to-Many*, meaning one class can have multiple objects.**"
   ]
  },
  {
   "cell_type": "code",
   "execution_count": 1,
   "id": "2dca59b7-4795-482f-a67d-72aa44349abc",
   "metadata": {},
   "outputs": [],
   "source": [
    "# class name__of__class:\n",
    "#     '''doc string'''\n",
    "#     properties(varibales)\n",
    "#     methods(actions/tasks/behaviours)\n",
    "\n",
    "    \n",
    "class Student:\n",
    "    '''Student class properties and behaviours declaration'''"
   ]
  },
  {
   "cell_type": "code",
   "execution_count": 2,
   "id": "df445a4f-dc63-4643-83d8-1a7cb07a0846",
   "metadata": {},
   "outputs": [
    {
     "name": "stdout",
     "output_type": "stream",
     "text": [
      "Student class properties and behaviours declaration\n"
     ]
    }
   ],
   "source": [
    "print(Student.__doc__)"
   ]
  },
  {
   "cell_type": "code",
   "execution_count": 3,
   "id": "eef47db8-3f8e-4077-a651-27c01ba0db4e",
   "metadata": {},
   "outputs": [
    {
     "name": "stdout",
     "output_type": "stream",
     "text": [
      "Help on class Student in module __main__:\n",
      "\n",
      "class Student(builtins.object)\n",
      " |  Student class properties and behaviours declaration\n",
      " |  \n",
      " |  Data descriptors defined here:\n",
      " |  \n",
      " |  __dict__\n",
      " |      dictionary for instance variables (if defined)\n",
      " |  \n",
      " |  __weakref__\n",
      " |      list of weak references to the object (if defined)\n",
      "\n"
     ]
    }
   ],
   "source": [
    "help(Student)"
   ]
  },
  {
   "cell_type": "markdown",
   "id": "a0ad9c6a-e164-4777-8112-8af2c22309f8",
   "metadata": {},
   "source": [
    "#### **Every object has properties and behaviours**\n",
    "\n",
    "**Types of variables**\n",
    "1.  Instance variables (Object level variables)\n",
    "2.  Static variables (Class level variables)\n",
    "3.  Local variables (Method level variables)"
   ]
  },
  {
   "cell_type": "markdown",
   "id": "ea19c555-95ad-46ab-be32-6806054058b7",
   "metadata": {},
   "source": [
    "#### **3 types of methods allowed in python:**\n",
    "1. Instance methods\n",
    "2. Class methods\n",
    "3. Static methods"
   ]
  },
  {
   "cell_type": "markdown",
   "id": "a894fc33-ba53-4a33-a8a0-f8a69452d4c9",
   "metadata": {},
   "source": [
    "#### **Reference Variables:**\n",
    "Reference variables are used to refer to objects and invoke their required functionality"
   ]
  },
  {
   "cell_type": "markdown",
   "id": "99d2d45c-ffae-4137-aa84-2083da2eb844",
   "metadata": {},
   "source": [
    "#### **Class, Object, Reference Variables**\n",
    "\n",
    "- Class contains variables and methods:\n",
    "- Variables: Instance, Static, Local \n",
    "- Methods: Instance, Static, Class\n",
    "\n"
   ]
  },
  {
   "cell_type": "code",
   "execution_count": 16,
   "id": "0066cc3d-03bf-4351-921d-425d20b6a374",
   "metadata": {},
   "outputs": [
    {
     "name": "stdout",
     "output_type": "stream",
     "text": [
      "Constructor execution start\n",
      "Constructor execution end\n"
     ]
    }
   ],
   "source": [
    "\n",
    "class Student:\n",
    "    \"\"\"\n",
    "    Class name: Student\n",
    "    \"\"\"\n",
    "    def __init__(self):\n",
    "        print(\"Constructor execution start\")\n",
    "        self.name = \"Durga\"\n",
    "        self.roll = 74\n",
    "        self.marks = 99\n",
    "        print(\"Constructor execution end\")\n",
    "\n",
    "    def talk(self):\n",
    "        print('Hello , I am: ', self.name)\n",
    "        print('My roll number: ', self.roll)\n",
    "        print('My marks are: ', self.marks)\n",
    "\n",
    "\n",
    "#Object creation in python\n",
    "# reference_variable = Classname()\n",
    "s = Student()\n"
   ]
  },
  {
   "cell_type": "code",
   "execution_count": 17,
   "id": "b9c9a485-9b78-438a-9625-1852554e09d5",
   "metadata": {},
   "outputs": [
    {
     "name": "stdout",
     "output_type": "stream",
     "text": [
      "Durga\n",
      "74\n",
      "99\n"
     ]
    }
   ],
   "source": [
    "print(s.name)\n",
    "print(s.roll)\n",
    "print(s.marks)"
   ]
  },
  {
   "cell_type": "code",
   "execution_count": 18,
   "id": "8626b33c-3b55-4933-8a7a-c4c0d820389d",
   "metadata": {},
   "outputs": [
    {
     "name": "stdout",
     "output_type": "stream",
     "text": [
      "Hello , I am:  Durga\n",
      "My roll number:  74\n",
      "My marks are:  99\n"
     ]
    }
   ],
   "source": [
    "s.talk()"
   ]
  },
  {
   "cell_type": "code",
   "execution_count": 19,
   "id": "c15ec482-7d38-486a-9a6b-be48654378b0",
   "metadata": {},
   "outputs": [
    {
     "name": "stdout",
     "output_type": "stream",
     "text": [
      "Constructor execution start\n",
      "Constructor execution end\n"
     ]
    }
   ],
   "source": [
    "s2 = Student()"
   ]
  },
  {
   "cell_type": "code",
   "execution_count": 21,
   "id": "394295a8-07a8-4930-ac32-a9b1183ec40c",
   "metadata": {},
   "outputs": [
    {
     "name": "stdout",
     "output_type": "stream",
     "text": [
      "2556335180304\n"
     ]
    }
   ],
   "source": [
    "print(id(s))"
   ]
  },
  {
   "cell_type": "code",
   "execution_count": 22,
   "id": "a1653a0e-013a-4867-86cd-d012f25a8422",
   "metadata": {},
   "outputs": [
    {
     "name": "stdout",
     "output_type": "stream",
     "text": [
      "2556333619152\n"
     ]
    }
   ],
   "source": [
    "print(id(s2))"
   ]
  },
  {
   "cell_type": "code",
   "execution_count": 23,
   "id": "6b3e8f0b-81be-4a28-84da-f261e98218b9",
   "metadata": {},
   "outputs": [],
   "source": [
    "\n",
    "# Differnce between the object\n",
    "#   ''' The behaviour of object we can represent using the object'''\n"
   ]
  },
  {
   "cell_type": "code",
   "execution_count": null,
   "id": "1ef6291a-b7ee-4d69-b7a0-48622a4fdbbc",
   "metadata": {},
   "outputs": [],
   "source": []
  }
 ],
 "metadata": {
  "kernelspec": {
   "display_name": "Python 3 (ipykernel)",
   "language": "python",
   "name": "python3"
  },
  "language_info": {
   "codemirror_mode": {
    "name": "ipython",
    "version": 3
   },
   "file_extension": ".py",
   "mimetype": "text/x-python",
   "name": "python",
   "nbconvert_exporter": "python",
   "pygments_lexer": "ipython3",
   "version": "3.11.5"
  }
 },
 "nbformat": 4,
 "nbformat_minor": 5
}
