{
 "cells": [
  {
   "cell_type": "code",
   "execution_count": 30,
   "id": "df0b6a84-d104-49fb-9119-e0e246e24141",
   "metadata": {},
   "outputs": [],
   "source": [
    "\n",
    "class Student:\n",
    "    def __init__(self):\n",
    "        self.name = \"Durga\"\n",
    "        self.roll_num = 99\n",
    "        self.marks = 91 \n",
    "\n",
    "    def student_info(self):\n",
    "        print(f\"Student name: {self.name}, \\nStudent roll number: {self.roll_num}, \\nYour marks: {self.marks}\")        \n"
   ]
  },
  {
   "cell_type": "code",
   "execution_count": 31,
   "id": "20ea1969-bf1a-4312-a775-666ca2aaa25c",
   "metadata": {},
   "outputs": [
    {
     "data": {
      "text/plain": [
       "'\\ns=Student()\\n\\n-For newly created and already initilized object, we are assigning \"s\"     reference variable. \\n-By using this s, we can access variables and methods on that object.\\n'"
      ]
     },
     "execution_count": 31,
     "metadata": {},
     "output_type": "execute_result"
    }
   ],
   "source": [
    "'''\n",
    "Student()\n",
    "\n",
    "1. We are creating an object, PVM will create object and allocate the memory\n",
    "2. PVM will execute __init__()\n",
    "   To declare and initilize variables of that object(instance variable)\n",
    "'''\n",
    "\n",
    "'''\n",
    "s=Student()\n",
    "\n",
    "-For newly created and already initilized object, we are assigning \"s\" reference variable. \n",
    "-By using this s, we can access variables and methods on that object.\n",
    "'''"
   ]
  },
  {
   "cell_type": "code",
   "execution_count": 32,
   "id": "8198e300-66bd-4af8-a480-2b24b91044ff",
   "metadata": {},
   "outputs": [],
   "source": [
    "s = Student()"
   ]
  },
  {
   "cell_type": "code",
   "execution_count": 33,
   "id": "32d86672-d4cb-4920-9199-02caa21dc765",
   "metadata": {},
   "outputs": [
    {
     "name": "stdout",
     "output_type": "stream",
     "text": [
      "Durga\n",
      "99\n",
      "91\n"
     ]
    }
   ],
   "source": [
    "print(s.name)\n",
    "print(s.roll_num)\n",
    "print(s.marks)"
   ]
  },
  {
   "cell_type": "code",
   "execution_count": 34,
   "id": "bcf1754a-045a-4e0b-8ca2-8b2ffc591a40",
   "metadata": {},
   "outputs": [
    {
     "name": "stdout",
     "output_type": "stream",
     "text": [
      "Student name: Durga, \n",
      "Student roll number: 99, \n",
      "Your marks: 91\n"
     ]
    }
   ],
   "source": [
    "s.student_info()"
   ]
  },
  {
   "cell_type": "code",
   "execution_count": 35,
   "id": "f9111b9d-67c1-4b7a-b294-2b8677d7931e",
   "metadata": {},
   "outputs": [],
   "source": [
    "# Differecnce Object and Constructor\n",
    "# Baby born ---> naming ceremony\n",
    "# Baby born : Object creation\n",
    "# Naming ceremony: constructor "
   ]
  },
  {
   "cell_type": "code",
   "execution_count": 36,
   "id": "176556b3-cacd-4015-ba6e-a00fc103ef27",
   "metadata": {},
   "outputs": [],
   "source": [
    "s1 = Student()\n",
    "s2 = Student()"
   ]
  },
  {
   "cell_type": "code",
   "execution_count": 38,
   "id": "328b1dd6-ac4c-4f4c-941b-1027e50fbd45",
   "metadata": {},
   "outputs": [
    {
     "name": "stdout",
     "output_type": "stream",
     "text": [
      "<__main__.Student object at 0x00000248D2F74990>\n",
      "2511800322448\n"
     ]
    }
   ],
   "source": [
    "print(s1)\n",
    "print(id(s1))"
   ]
  },
  {
   "cell_type": "code",
   "execution_count": 40,
   "id": "a8a123f9-dc0f-4bd4-91fa-36541fcb13e2",
   "metadata": {},
   "outputs": [
    {
     "name": "stdout",
     "output_type": "stream",
     "text": [
      "<__main__.Student object at 0x00000248D32A3F50>\n",
      "2511803662160\n"
     ]
    }
   ],
   "source": [
    "print(s2)\n",
    "print(id(s2))"
   ]
  },
  {
   "cell_type": "code",
   "execution_count": 41,
   "id": "49004b7a-bbfb-4484-baf6-46b7d7d5fa9b",
   "metadata": {},
   "outputs": [
    {
     "data": {
      "text/plain": [
       "'Data changes student to students'"
      ]
     },
     "execution_count": 41,
     "metadata": {},
     "output_type": "execute_result"
    }
   ],
   "source": [
    "'''Data changes student to students'''"
   ]
  },
  {
   "cell_type": "code",
   "execution_count": 43,
   "id": "db530518-65d1-4f9d-b958-f644baf026ea",
   "metadata": {},
   "outputs": [],
   "source": [
    "\n",
    "# s3 = Student(\"Akshay\", 35, 99)\n",
    "# TypeError: Student.__init__() takes 1 positional argument but 4 were given\n"
   ]
  },
  {
   "cell_type": "code",
   "execution_count": 46,
   "id": "81167194-d6e9-4c65-b299-3dda3f572292",
   "metadata": {},
   "outputs": [],
   "source": [
    "\n",
    "class Student:\n",
    "    def __init__(self, x, y, z):\n",
    "        self.name = x\n",
    "        self.roll_num = y\n",
    "        self.marks = z\n",
    "\n",
    "    def student_info(self):\n",
    "        print(f\"Student name: {self.name}, \\nStudent roll number: {self.roll_num}, \\nYour marks: {self.marks}\")        \n"
   ]
  },
  {
   "cell_type": "code",
   "execution_count": 49,
   "id": "94e3d12f-8d13-4212-8a37-783791ad06fe",
   "metadata": {},
   "outputs": [
    {
     "name": "stdout",
     "output_type": "stream",
     "text": [
      "Student name: Rohit, \n",
      "Student roll number: 45, \n",
      "Your marks: 100\n"
     ]
    }
   ],
   "source": [
    "s4 = Student(\"Rohit\", 45, 100)\n",
    "s4.student_info()"
   ]
  },
  {
   "cell_type": "markdown",
   "id": "461dab9f-454e-4ad8-903f-4941941d0ea4",
   "metadata": {},
   "source": [
    "#### What is self \n",
    "<i>Self is reference variable which is always pointing to the current object <br></i>"
   ]
  },
  {
   "cell_type": "code",
   "execution_count": 52,
   "id": "6f70d4f5-d1b3-4c35-b197-11fbc2af852f",
   "metadata": {},
   "outputs": [
    {
     "name": "stdout",
     "output_type": "stream",
     "text": [
      "Address of object refered by self:  2511808945104\n",
      "Address of object refered by t:  2511808945104 \n",
      "\n",
      "\n"
     ]
    }
   ],
   "source": [
    "\n",
    "class Test:\n",
    "    def __init__(self):\n",
    "        print(\"Address of object refered by self: \", id(self))\n",
    "\n",
    "t = Test()\n",
    "print(\"Address of object refered by t: \", id(t),\"\\n\\n\")\n"
   ]
  },
  {
   "cell_type": "markdown",
   "id": "8eb4a26d-7d6e-4c01-97e5-be1ee7a14e66",
   "metadata": {},
   "source": [
    "\n",
    "<i> Within the python class, to access current object, we can use self </i> "
   ]
  },
  {
   "cell_type": "code",
   "execution_count": 53,
   "id": "7ad9ca53-d9a6-4c51-848a-13ea658249c9",
   "metadata": {},
   "outputs": [
    {
     "name": "stdout",
     "output_type": "stream",
     "text": [
      "Address of object refered by self:  2511803699984\n"
     ]
    }
   ],
   "source": [
    "t2 = Test()"
   ]
  },
  {
   "cell_type": "code",
   "execution_count": 57,
   "id": "9a5dd390-fb89-4ad2-9aa1-008db1a93cc5",
   "metadata": {},
   "outputs": [
    {
     "name": "stdout",
     "output_type": "stream",
     "text": [
      "Constructor initilized automatically when object is created\n",
      "\n"
     ]
    }
   ],
   "source": [
    "\n",
    "class Test:\n",
    "    def __init__(self):\n",
    "        print(\"Constructor initilized automatically when object is created\\n\")\n",
    "\n",
    "    def method(self, x):\n",
    "        print('\\n')\n",
    "\n",
    "t1 = Test()"
   ]
  },
  {
   "cell_type": "markdown",
   "id": "5cd64e01-bf78-4b37-9081-9bf9df9a189e",
   "metadata": {},
   "source": [
    "<i> First argument of the constructor is always self.<br>\n",
    "    The first argument to the instance method is always self.<br>\n",
    "    We are not require to provide the value to self variable, PVM itself provide value to the self variable </i> "
   ]
  },
  {
   "cell_type": "markdown",
   "id": "a90734eb-e7db-4fdb-bf02-9a6e164125f3",
   "metadata": {},
   "source": [
    "<i> We can use self variable within class only. <br>\n",
    "Inside constructor, we can use self variable to declare object releted variables(instance variables).<br>\n",
    "Inside instance method, we can use self to access the values of instance variables.</i> "
   ]
  },
  {
   "cell_type": "markdown",
   "id": "a30bd3fb-28a7-4fee-a72b-f3b2ae8c76b3",
   "metadata": {},
   "source": [
    "<i> Self is not a keyword use can use any name instead of self.</i> "
   ]
  },
  {
   "cell_type": "code",
   "execution_count": 62,
   "id": "37f4daaa-ece6-4e52-939a-0a96de12be90",
   "metadata": {},
   "outputs": [
    {
     "name": "stdout",
     "output_type": "stream",
     "text": [
      "abc\n"
     ]
    }
   ],
   "source": [
    "\n",
    "class Test:\n",
    "    def __init__(x):\n",
    "        x.name = \"abc\"\n",
    "        print(x.name)\n",
    "\n",
    "r = Test()\n",
    "        "
   ]
  },
  {
   "cell_type": "code",
   "execution_count": null,
   "id": "96d9b8a3-ca94-4f4a-a1c6-e6d4a11383f8",
   "metadata": {},
   "outputs": [],
   "source": []
  }
 ],
 "metadata": {
  "kernelspec": {
   "display_name": "Python 3 (ipykernel)",
   "language": "python",
   "name": "python3"
  },
  "language_info": {
   "codemirror_mode": {
    "name": "ipython",
    "version": 3
   },
   "file_extension": ".py",
   "mimetype": "text/x-python",
   "name": "python",
   "nbconvert_exporter": "python",
   "pygments_lexer": "ipython3",
   "version": "3.11.5"
  }
 },
 "nbformat": 4,
 "nbformat_minor": 5
}
