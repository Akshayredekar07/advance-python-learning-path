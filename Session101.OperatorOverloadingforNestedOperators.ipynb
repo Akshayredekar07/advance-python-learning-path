{
 "cells": [
  {
   "cell_type": "code",
   "execution_count": 1,
   "metadata": {},
   "outputs": [
    {
     "name": "stdout",
     "output_type": "stream",
     "text": [
      "300\n"
     ]
    }
   ],
   "source": [
    "class Book:\n",
    "    def __init__(self, page) -> None:\n",
    "        self.page=page\n",
    "\n",
    "    def __add__(self, other):\n",
    "            total_pages=self.page+other.page\n",
    "            return total_pages\n",
    "    \n",
    "b1 = Book(100)    \n",
    "b2 = Book(200)    \n",
    "b3 = Book(600)    \n",
    "b4 = Book(100)    \n",
    "\n",
    "print(b1+b2)\n",
    "# print(b1+b2+b3) #TypeError: unsupported operand type(s) for +: 'int' and 'Book'\n"
   ]
  },
  {
   "cell_type": "code",
   "execution_count": 3,
   "metadata": {},
   "outputs": [
    {
     "name": "stdout",
     "output_type": "stream",
     "text": [
      "900\n"
     ]
    }
   ],
   "source": [
    "class Book:\n",
    "    def __init__(self, page) -> None:\n",
    "        self.page=page\n",
    "\n",
    "    def __add__(self, other):\n",
    "            total_pages=self.page+other.page\n",
    "            newBook=Book(total_pages)\n",
    "            return newBook\n",
    "    def __str__(self) -> str:\n",
    "         return str(self.page)\n",
    "    \n",
    "b1 = Book(100)    \n",
    "b2 = Book(200)    \n",
    "b3 = Book(600)    \n",
    "b4 = Book(100)    \n",
    "\n",
    "print(b1+b2+b3)\n",
    "# print(b1+b2+b3) #TypeError: unsupported operand type(s) for +: 'int' and 'Book'\n"
   ]
  },
  {
   "cell_type": "code",
   "execution_count": null,
   "metadata": {},
   "outputs": [],
   "source": []
  },
  {
   "cell_type": "code",
   "execution_count": null,
   "metadata": {},
   "outputs": [],
   "source": []
  }
 ],
 "metadata": {
  "kernelspec": {
   "display_name": "Python 3",
   "language": "python",
   "name": "python3"
  },
  "language_info": {
   "codemirror_mode": {
    "name": "ipython",
    "version": 3
   },
   "file_extension": ".py",
   "mimetype": "text/x-python",
   "name": "python",
   "nbconvert_exporter": "python",
   "pygments_lexer": "ipython3",
   "version": "3.11.5"
  }
 },
 "nbformat": 4,
 "nbformat_minor": 2
}
