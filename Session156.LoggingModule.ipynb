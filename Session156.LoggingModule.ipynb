{
 "cells": [
  {
   "cell_type": "markdown",
   "metadata": {},
   "source": [
    "## **Python Logging Module**\n",
    "\n",
    "- Normal day to day life logging examples: Library, Lab, Office \n",
    "\n",
    "- It is highly recommded to store complete applcation flow and exception information to the file. This process s called logging\n",
    "\n",
    "***Advantages:***\n",
    "1. We can use the log file while performming debugging\n",
    "2. We can provides statistic likes no ofrequest per day\n",
    "\n",
    "`**Module: logging**`\n",
    "\n",
    "**`Logging Levels`**\n",
    "Depending on type of information, logging data is divided into the follwing levels in python\n",
    "\n",
    "**1. CRITCAL--->50**\n",
    "- Represent the vary serious problem that need high attension\n",
    "\n",
    "**2. ERROR--->40**\n",
    "- Represent the serious error \n",
    "\n",
    "**3. WARNING--->30**\n",
    "- Represent a warning message, some caution needed. It is laert to the programmer.\n",
    "  \n",
    "**4. INFO--->20**\n",
    "- Represent a warning message, with some important information\n",
    "  \n",
    "**5. DEBUG--->10**\n",
    "- Represent a warning message which can be used for debugging\n",
    "\n",
    "  \n",
    "**6. NOTSET--->0**\n",
    "- Represent logging level not set\n",
    "\n",
    "\n",
    "**Order**\n",
    "\n",
    "`DEBUG(10)` ---> `INFO(20)` ---> `WARNING(30)` ---> `ERROR(40)` ---> `CRITICAL(50)`\n",
    "\n",
    "### **How to implement logging:**\n",
    "1. Create log file to store our log message, we have to specift level\n",
    "\n",
    "use `basiconfig()` function of logging module.\n",
    "\n",
    "```python\n",
    "import logging\n",
    "\n",
    "logging.basicConfig(filename='log.txt',level=logging.WARNING)\n",
    "logging.basicConfig(filename='log.txt',level=logging.30)\n",
    "\n",
    "logging.debug(message)\n",
    "logging.info(message)\n",
    "logging.warning(message)\n",
    "logging.error(message)\n",
    "logging.critical(message)\n",
    "```"
   ]
  },
  {
   "cell_type": "code",
   "execution_count": null,
   "metadata": {},
   "outputs": [],
   "source": [
    "## Write a python program to create log file and write WARNING and higher level messge."
   ]
  },
  {
   "cell_type": "code",
   "execution_count": 1,
   "metadata": {},
   "outputs": [],
   "source": [
    "import logging"
   ]
  },
  {
   "cell_type": "code",
   "execution_count": 2,
   "metadata": {},
   "outputs": [],
   "source": [
    "logging.basicConfig(filename='log.txt', level=logging.WARNING)\n",
    "logging.debug('debug msg')\n",
    "logging.info('info msg')\n",
    "logging.warning('warning msg')\n",
    "logging.error('error msg')\n",
    "logging.critical('critical msg')"
   ]
  },
  {
   "cell_type": "code",
   "execution_count": 3,
   "metadata": {},
   "outputs": [],
   "source": [
    "import logging\n",
    "logging.basicConfig(filename='log.txt', level=logging.CRITICAL)\n",
    "logging.debug('debug msg')\n",
    "logging.info('info msg')\n",
    "logging.warning('warning msg')\n",
    "logging.error('error msg')\n",
    "logging.critical('critical msg')"
   ]
  },
  {
   "cell_type": "code",
   "execution_count": 4,
   "metadata": {},
   "outputs": [],
   "source": [
    "import logging\n",
    "logging.basicConfig(filename='log.txt', level=logging.INFO)\n",
    "logging.debug('debug msg')\n",
    "logging.info('info msg')\n",
    "logging.warning('warning msg')\n",
    "logging.error('error msg')\n",
    "logging.critical('critical msg')"
   ]
  },
  {
   "cell_type": "code",
   "execution_count": 7,
   "metadata": {},
   "outputs": [],
   "source": [
    "import logging\n",
    "logging.basicConfig(filename='log.txt', level=10)\n",
    "logging.debug('debug msg')\n",
    "logging.info('info msg')\n",
    "logging.warning('warning msg')\n",
    "logging.error('error msg')\n",
    "logging.critical('critical msg')"
   ]
  },
  {
   "cell_type": "markdown",
   "metadata": {},
   "source": [
    "- Bydefault in the log file data will be appeded, instead of appending if we want to overrride \n",
    "`filemode='a'`\n",
    "`filemode='w'`"
   ]
  },
  {
   "cell_type": "code",
   "execution_count": 14,
   "metadata": {},
   "outputs": [],
   "source": [
    "import logging\n",
    "logging.basicConfig(filename='log.txt', level=10, filemode='w')\n",
    "logging.debug('debug msg')\n",
    "logging.info('info msg')\n",
    "logging.warning('warning msg')\n",
    "logging.error('error msg')\n",
    "logging.critical('critical msg')"
   ]
  },
  {
   "cell_type": "code",
   "execution_count": null,
   "metadata": {},
   "outputs": [],
   "source": []
  },
  {
   "cell_type": "code",
   "execution_count": null,
   "metadata": {},
   "outputs": [],
   "source": []
  }
 ],
 "metadata": {
  "kernelspec": {
   "display_name": "Python 3",
   "language": "python",
   "name": "python3"
  },
  "language_info": {
   "codemirror_mode": {
    "name": "ipython",
    "version": 3
   },
   "file_extension": ".py",
   "mimetype": "text/x-python",
   "name": "python",
   "nbconvert_exporter": "python",
   "pygments_lexer": "ipython3",
   "version": "3.10.9"
  }
 },
 "nbformat": 4,
 "nbformat_minor": 2
}
