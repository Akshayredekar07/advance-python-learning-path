{
 "cells": [
  {
   "cell_type": "code",
   "execution_count": 6,
   "metadata": {},
   "outputs": [],
   "source": [
    "class Test:\n",
    "    def __init__(self) -> None:\n",
    "        print(\"Object is initilized!\")\n",
    "\n",
    "    def __del__(self):\n",
    "        print(\"Destructor executed and Perform cleanup activites\")        "
   ]
  },
  {
   "cell_type": "code",
   "execution_count": 7,
   "metadata": {},
   "outputs": [
    {
     "name": "stdout",
     "output_type": "stream",
     "text": [
      "Object is initilized!\n",
      "Destructor executed and Perform cleanup activites\n",
      "Close the connections\n"
     ]
    }
   ],
   "source": [
    "import time\n",
    "t = Test()\n",
    "# We can use this object based on our requirement.\n",
    "# ....\n",
    "# From this onwards, t is no longer required\n",
    "t=None #Only object is eligible for GC\n",
    "time.sleep(10)\n",
    "print(\"Close the connections\")"
   ]
  },
  {
   "cell_type": "code",
   "execution_count": 8,
   "metadata": {},
   "outputs": [
    {
     "name": "stdout",
     "output_type": "stream",
     "text": [
      "Object is initilized!\n",
      "Destructor executed and Perform cleanup activites\n"
     ]
    }
   ],
   "source": [
    "t = Test()\n",
    "del t \n",
    "# Object and corresponding reference variables is eligible for GC"
   ]
  },
  {
   "cell_type": "markdown",
   "metadata": {},
   "source": [
    "- Onces the program completes, all objects will become useless, Hence before shutdown PVM , all objects wil be destroyed"
   ]
  },
  {
   "cell_type": "code",
   "execution_count": 9,
   "metadata": {},
   "outputs": [
    {
     "name": "stdout",
     "output_type": "stream",
     "text": [
      "Object is initilized!\n",
      "Object not yet destroyed after deleting t1\n"
     ]
    }
   ],
   "source": [
    "t1 = Test()\n",
    "t2 = t1\n",
    "t3 = t2\n",
    "\n",
    "del t1 \n",
    "time.sleep(5)\n",
    "print(\"Object not yet destroyed after deleting t1\")\n",
    "\n",
    "# here object is not destroyed because you only delete t1 reference of the object but still t2 and t3 pointing to the Test() object"
   ]
  },
  {
   "cell_type": "code",
   "execution_count": 10,
   "metadata": {},
   "outputs": [
    {
     "name": "stdout",
     "output_type": "stream",
     "text": [
      "Object not yet destroyed after deleting t2\n"
     ]
    }
   ],
   "source": [
    "del t2 \n",
    "time.sleep(7)\n",
    "print(\"Object not yet destroyed after deleting t2\")\n"
   ]
  },
  {
   "cell_type": "code",
   "execution_count": 11,
   "metadata": {},
   "outputs": [
    {
     "name": "stdout",
     "output_type": "stream",
     "text": [
      "Destructor executed and Perform cleanup activites\n",
      "Last reference will be removed, now object is eligible for GC\n"
     ]
    }
   ],
   "source": [
    "del t3\n",
    "time.sleep(7)\n",
    "print(\"Last reference will be removed, now object is eligible for GC\")"
   ]
  },
  {
   "cell_type": "markdown",
   "metadata": {},
   "source": [
    "- *If the reference variable does not pointing to the Object, then only object eligible for GC*\n",
    "- *If atlest one reference variable pointing to the Object, then only object not eligible for GC*"
   ]
  },
  {
   "cell_type": "code",
   "execution_count": 12,
   "metadata": {},
   "outputs": [
    {
     "name": "stdout",
     "output_type": "stream",
     "text": [
      "Object is initilized!\n",
      "Object is initilized!\n",
      "Object is initilized!\n",
      "now this list no longer required...making it eligible for GC\n",
      "Destructor executed and Perform cleanup activites\n",
      "Destructor executed and Perform cleanup activites\n",
      "Destructor executed and Perform cleanup activites\n",
      "End of application\n"
     ]
    }
   ],
   "source": [
    "l = [Test(), Test(), Test()]\n",
    "time.sleep(4)\n",
    "print(\"now this list no longer required...making it eligible for GC\")\n",
    "del l \n",
    "time.sleep(5)\n",
    "print(\"End of application\")"
   ]
  },
  {
   "cell_type": "markdown",
   "metadata": {},
   "source": [
    "- *Programmer is not responsible to destroy objects explicilty. GC is responsible for this destruction*\n",
    "- *But Programmer is responsible to make an object eligible for GC if it is no longer required*"
   ]
  },
  {
   "cell_type": "markdown",
   "metadata": {},
   "source": [
    "#### Q1. What is the difference between `t = None` and `del t`?\n",
    "\n",
    "- **`t = None`**: This statement assigns the value `None` to the variable `t`. The variable `t` still exists but is now pointing to the `None` object.\n",
    "  \n",
    "- **`del t`**: This statement deletes the variable `t`. After this statement, `t` will no longer exist, and attempting to use it will result in an error.\n",
    "\n",
    "#### Q2. What is the difference between the constructor and destructor?\n",
    "\n",
    "| **Constructor**                                    | **Destructor**                                        |\n",
    "|---------------------------------------------------|------------------------------------------------------|\n",
    "| 1. The name should be always `__init__(self)`      | `__del__(self)`                                       |\n",
    "| Just after creating an object,                    | Just before destroying an object                     |\n",
    "| To perform initialization activities              | To perform cleanup activities/Resource deallocation activities |\n",
    "\n",
    "**Q2. What are the differences between constructor and destructor?**\n",
    "\n",
    "- **A.** The job of constructor is to create an object.\n",
    "- **B.** The job of constructor is to initialize an object.\n",
    "- **C.** The job of destructor is to destroy an object.\n",
    "- **D.** The job of destructor is to perform cleanup activities before destroying an object.\n",
    "\n",
    "- **Ans** B,D\n"
   ]
  },
  {
   "cell_type": "code",
   "execution_count": 14,
   "metadata": {},
   "outputs": [
    {
     "name": "stdout",
     "output_type": "stream",
     "text": [
      "4\n"
     ]
    }
   ],
   "source": [
    "# How to find the number of reference of object? \n",
    "import sys\n",
    "class Test:\n",
    "    pass\n",
    "\n",
    "t1 = Test()\n",
    "t2 = t1\n",
    "t3 = t2 \n",
    "print(sys.getrefcount(t3))\n",
    "\n",
    "# Internally PVM mantain one reference variable self \n"
   ]
  },
  {
   "cell_type": "code",
   "execution_count": 15,
   "metadata": {},
   "outputs": [
    {
     "name": "stdout",
     "output_type": "stream",
     "text": [
      "3\n"
     ]
    }
   ],
   "source": [
    "del t1 \n",
    "print(sys.getrefcount(t3))"
   ]
  },
  {
   "cell_type": "code",
   "execution_count": null,
   "metadata": {},
   "outputs": [],
   "source": []
  },
  {
   "cell_type": "code",
   "execution_count": null,
   "metadata": {},
   "outputs": [],
   "source": []
  }
 ],
 "metadata": {
  "kernelspec": {
   "display_name": "Python 3",
   "language": "python",
   "name": "python3"
  },
  "language_info": {
   "codemirror_mode": {
    "name": "ipython",
    "version": 3
   },
   "file_extension": ".py",
   "mimetype": "text/x-python",
   "name": "python",
   "nbconvert_exporter": "python",
   "pygments_lexer": "ipython3",
   "version": "3.11.5"
  }
 },
 "nbformat": 4,
 "nbformat_minor": 2
}
