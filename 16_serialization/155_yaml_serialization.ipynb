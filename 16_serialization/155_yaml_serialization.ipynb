{
 "cells": [
  {
   "cell_type": "markdown",
   "metadata": {},
   "source": [
    "## **For Serialization purpose:**\n",
    "- **json.dumps() ---> To convert Python dict object to JSON string**\n",
    "- **json.dump() ---> To convert Python dict object to JSON string and save to file**\n",
    "\n",
    "\n",
    "## **For Deserialization:**\n",
    "- **json.loads() ==> JSON string to Python dict**\n",
    "- **json.load() ==> JSON file to Python dict**"
   ]
  },
  {
   "cell_type": "code",
   "execution_count": 6,
   "metadata": {},
   "outputs": [
    {
     "name": "stdout",
     "output_type": "stream",
     "text": [
      "<class 'dict'>\n",
      "{'eno': 100, 'ename': 'Durga', 'esal': 10000, 'eaddr': 'Hyderabad'}\n",
      "ENO: 100 ENAME: Durga ESAL: 10000 EDDR: Hyderabad\n"
     ]
    }
   ],
   "source": [
    "class Employee:\n",
    "    def __init__(self, eno, ename, esal, eaddr) -> None:\n",
    "        self.eno = eno  \n",
    "        self.ename = ename  \n",
    "        self.esal = esal  \n",
    "        self.eaddr = eaddr  \n",
    "\n",
    "    def display(self):\n",
    "        print(f\"ENO: {self.eno} ENAME: {self.ename} ESAL: {self.esal} EDDR: {self.eaddr}\")\n",
    "\n",
    "e = Employee(100, 'Durga', 10000, 'Hyderabad')\n",
    "emp_dict = {'eno': e.eno, 'ename': e.ename, 'esal':e.esal, 'eaddr':e.eaddr} \n",
    "emp_dict = e.__dict__\n",
    "print(type(emp_dict))\n",
    "print(emp_dict)\n",
    "\n",
    "import json\n",
    "with open('emp_data.json', 'w') as f:\n",
    "    json.dump(emp_dict, f, indent=4)\n",
    "\n",
    "# Deserialization \n",
    "with open('emp_data.json', 'r') as f:\n",
    "    d = json.load(f)\n",
    "\n",
    "newE = Employee(d['eno'], d['ename'], d['esal'], d['eaddr'])    \n",
    "newE.display()"
   ]
  },
  {
   "cell_type": "code",
   "execution_count": null,
   "metadata": {},
   "outputs": [],
   "source": []
  }
 ],
 "metadata": {
  "kernelspec": {
   "display_name": "Python 3",
   "language": "python",
   "name": "python3"
  },
  "language_info": {
   "codemirror_mode": {
    "name": "ipython",
    "version": 3
   },
   "file_extension": ".py",
   "mimetype": "text/x-python",
   "name": "python",
   "nbconvert_exporter": "python",
   "pygments_lexer": "ipython3",
   "version": "3.10.9"
  }
 },
 "nbformat": 4,
 "nbformat_minor": 2
}
