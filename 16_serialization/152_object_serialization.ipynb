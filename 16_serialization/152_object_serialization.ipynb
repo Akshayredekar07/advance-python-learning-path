{
 "cells": [
  {
   "cell_type": "markdown",
   "metadata": {},
   "source": [
    "### **Object Serialization**\n",
    "\n",
    "The process of converting an object from Python-supported form to either file-supported  \n",
    "form or network-supported form is called **serialization** (Marshalling or Pickling).  \n",
    "\n",
    "The process of converting an object from either file-supported form or network-supported  \n",
    "form to Python-supported form is called **deserialization** (Unmarshalling or Unpickling).  \n",
    "\n",
    "### **Object Serialization Methods**\n",
    "\n",
    "1. **Object Serialization using Pickle**\n",
    "2. **Object Serialization using JSON**  \n",
    "3. **Object Serialization using YAML**\n",
    "\n",
    "\n",
    "### **Object Serialization using Pickle**\n",
    "\n",
    "We can perform serialization and deserialization of an object with respect to a file using  \n",
    "the `pickle` module, which is Python's inbuilt module.\n",
    "\n",
    "- The `pickle` module contains the `dump()` function to perform **Serialization (Pickling)**:  \n",
    "  ```python\n",
    "  pickle.dump(object, file)\n",
    "  ```\n",
    "- The `pickle` module contains the `load()` function to perform **Deserialization (Unpickling)**:  \n",
    "  ```python\n",
    "  object = pickle.load(file)\n",
    "  ```\n"
   ]
  },
  {
   "cell_type": "markdown",
   "metadata": {},
   "source": [
    "#### Program to Perform Pickling and Unpickling of Employee Object"
   ]
  },
  {
   "cell_type": "code",
   "execution_count": null,
   "metadata": {},
   "outputs": [],
   "source": [
    "import pickle\n",
    "\n",
    "class Employee:\n",
    "    def __init__(self, eno, ename, esal, eaddr):\n",
    "        self.eno = eno\n",
    "        self.ename = ename\n",
    "        self.esal = esal\n",
    "        self.eaddr = eaddr\n",
    "\n",
    "    def display(self):\n",
    "        print(f'ENO: {self.eno}, ENAME: {self.ename}, ESAL: {self.esal}, EADDR: {self.eaddr}')\n",
    "\n",
    "# Creating an Employee object\n",
    "e = Employee(100, 'Durga', 1000, 'Hyderabad')\n",
    "\n",
    "# Pickling (Serializing) the Employee object\n",
    "with open('emp.dat', 'wb') as f:\n",
    "    pickle.dump(e, f)\n",
    "print('Pickling of Employee object completed')\n",
    "\n",
    "# Unpickling (Deserializing) the Employee object\n",
    "with open('emp.dat', 'rb') as f:\n",
    "    obj = pickle.load(f)\n",
    "\n",
    "print('Unpickling of Employee object completed')\n",
    "print('Printing Employee Information:')\n",
    "obj.display()"
   ]
  },
  {
   "cell_type": "markdown",
   "metadata": {},
   "source": [
    "#### Program for Serializing Multiple Employee Objects to a File\n",
    "Based on our requirement, we can serialize any number of objects to a file.\n",
    "\n",
    "`emp.py`"
   ]
  },
  {
   "cell_type": "code",
   "execution_count": 3,
   "metadata": {},
   "outputs": [],
   "source": [
    "class Employee:\n",
    "    def __init__(self, eno, ename, esal, eaddr):\n",
    "        self.eno = eno\n",
    "        self.ename = ename\n",
    "        self.esal = esal\n",
    "        self.eaddr = eaddr\n",
    "\n",
    "    def display(self):\n",
    "        print(f'ENO: {self.eno}, ENAME: {self.ename}, ESAL: {self.esal}, EADDR: {self.eaddr}')"
   ]
  },
  {
   "cell_type": "markdown",
   "metadata": {},
   "source": [
    "\n",
    "#### `sender.py` (Sender saves Employee objects to the file)"
   ]
  },
  {
   "cell_type": "code",
   "execution_count": 6,
   "metadata": {},
   "outputs": [
    {
     "name": "stdout",
     "output_type": "stream",
     "text": [
      "All Employee objects serialized\n"
     ]
    }
   ],
   "source": [
    "# from emp import Employee\n",
    "import pickle\n",
    "\n",
    "with open('emp.dat', 'wb') as f:\n",
    "    while True:\n",
    "        eno = int(input('Enter Employee Number: '))\n",
    "        ename = input('Enter Employee Name: ')\n",
    "        esal = float(input('Enter Employee Salary: '))\n",
    "        eaddr = input('Enter Employee Address: ')\n",
    "\n",
    "        e = Employee(eno, ename, esal, eaddr)\n",
    "        pickle.dump(e, f)\n",
    "\n",
    "        option = input('Do you want to serialize one more Employee object [Yes|No]: ')\n",
    "        if option.lower() == 'no':\n",
    "            break\n",
    "\n",
    "print('All Employee objects serialized')"
   ]
  },
  {
   "cell_type": "markdown",
   "metadata": {},
   "source": [
    "### `receiver.py` (Receiver reads and deserializes Employee objects)"
   ]
  },
  {
   "cell_type": "code",
   "execution_count": 7,
   "metadata": {},
   "outputs": [
    {
     "name": "stdout",
     "output_type": "stream",
     "text": [
      "Deserializing Employee objects and printing data...\n",
      "ENO: 2, ENAME: rokit, ESAL: 30000000000.0, EADDR: beed\n",
      "ENO: 3, ENAME: karan, ESAL: 40000000.0, EADDR: chakan\n",
      "All Employees Completed\n"
     ]
    }
   ],
   "source": [
    "import pickle\n",
    "\n",
    "with open('emp.dat', 'rb') as f:\n",
    "    print('Deserializing Employee objects and printing data...')\n",
    "    while True:\n",
    "        try:\n",
    "            obj = pickle.load(f)\n",
    "            obj.display()\n",
    "        except EOFError:\n",
    "            print('All Employees Completed')\n",
    "            break"
   ]
  },
  {
   "cell_type": "markdown",
   "metadata": {},
   "source": []
  },
  {
   "cell_type": "code",
   "execution_count": null,
   "metadata": {},
   "outputs": [],
   "source": []
  }
 ],
 "metadata": {
  "kernelspec": {
   "display_name": "Python 3",
   "language": "python",
   "name": "python3"
  },
  "language_info": {
   "codemirror_mode": {
    "name": "ipython",
    "version": 3
   },
   "file_extension": ".py",
   "mimetype": "text/x-python",
   "name": "python",
   "nbconvert_exporter": "python",
   "pygments_lexer": "ipython3",
   "version": "3.10.9"
  }
 },
 "nbformat": 4,
 "nbformat_minor": 2
}
