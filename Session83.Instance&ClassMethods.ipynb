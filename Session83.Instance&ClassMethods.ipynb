{
 "cells": [
  {
   "cell_type": "code",
   "execution_count": 2,
   "id": "6a4dfa30-77dc-4636-9a91-c6d870915123",
   "metadata": {},
   "outputs": [],
   "source": [
    "\n",
    "class Student:\n",
    "    def __init__(self, name, marks):\n",
    "        self.name = name\n",
    "        self.marks = marks\n",
    "\n",
    "    def display(self):\n",
    "        print(\"Hiee, \",self.name)\n",
    "        print(\"Your total marks are \", self.marks)\n",
    "        if self.marks >= 60:\n",
    "            print('You have Grade A.')\n",
    "        elif self.marks >= 50:\n",
    "            print('You have Grade B.')\n",
    "        elif self.marks >= 40:\n",
    "            print('You have Grade C.')\n",
    "        else:\n",
    "            print('You Get Failed.')\n"
   ]
  },
  {
   "cell_type": "code",
   "execution_count": null,
   "id": "296aa7bc-8c0e-48cc-ad7e-103d17390830",
   "metadata": {},
   "outputs": [],
   "source": []
  },
  {
   "cell_type": "code",
   "execution_count": 3,
   "id": "ef6bf27a-5e0e-427c-8bc4-f59ed311b087",
   "metadata": {},
   "outputs": [],
   "source": [
    "# name = input(\"Enter the name: \")\n",
    "# marks = float(input(\"Enter you marks: \"))\n",
    "# s = Student(name, marks)\n",
    "# s.display()"
   ]
  },
  {
   "cell_type": "code",
   "execution_count": 4,
   "id": "ea84a7cb-80d1-41d0-98e0-d1c7487dcbdd",
   "metadata": {},
   "outputs": [
    {
     "name": "stdin",
     "output_type": "stream",
     "text": [
      "Enter the number of students:  2\n",
      "Enter Student name:  Akshay\n",
      "Enter you marks:  67.0\n"
     ]
    },
    {
     "name": "stdout",
     "output_type": "stream",
     "text": [
      "Hiee,  Akshay\n",
      "Your total marks are  67.0\n",
      "You have Grade A.\n",
      "\n"
     ]
    },
    {
     "name": "stdin",
     "output_type": "stream",
     "text": [
      "Enter Student name:  Rahul\n",
      "Enter you marks:  67.9\n"
     ]
    },
    {
     "name": "stdout",
     "output_type": "stream",
     "text": [
      "Hiee,  Rahul\n",
      "Your total marks are  67.9\n",
      "You have Grade A.\n",
      "\n"
     ]
    }
   ],
   "source": [
    "n = int(input(\"Enter the number of students: \"))\n",
    "for i in range(n):\n",
    "    name = input(\"Enter Student name: \")\n",
    "    marks = float(input(\"Enter you marks: \"))\n",
    "    s = Student(name, marks)\n",
    "    s.display()\n",
    "    print()"
   ]
  },
  {
   "cell_type": "markdown",
   "id": "21989698-3f6b-48ea-9176-91ada850790e",
   "metadata": {},
   "source": [
    "## Getter and setter method\n",
    "If we know data at the time of creating object: Constructor\n",
    "\n",
    "If we don't know data at the time of creating an object: create object and later by using setter methods we can perform initilization.\n",
    "\n",
    "Setter can be used to set the data\n",
    "\n",
    "```\n",
    "def setVariableName(self, value):\n",
    "    self.variablename = value\n",
    "```\n",
    "\n",
    "```\n",
    "def setName(self, name):\n",
    "    self.name = name\n",
    "```\n",
    "    \n",
    "Getter method can be used to get data:\n",
    "```\n",
    "def getName(self):\n",
    "    return self.name\n"
   ]
  },
  {
   "cell_type": "code",
   "execution_count": 6,
   "id": "74c5b8af-8c08-48d0-b593-8a0808f83c83",
   "metadata": {},
   "outputs": [
    {
     "name": "stdin",
     "output_type": "stream",
     "text": [
      "Enter the number of students:  1\n",
      "Enter Student name:  virat\n",
      "Enter you marks:  18.8\n"
     ]
    },
    {
     "name": "stdout",
     "output_type": "stream",
     "text": [
      "Hiee  virat your marks are  18.8\n"
     ]
    }
   ],
   "source": [
    "\n",
    "class Student:\n",
    "    def set_name(self, name):\n",
    "        self.name=name\n",
    "\n",
    "    def get_name(self):\n",
    "        return self.name\n",
    "\n",
    "    def set_marks(self, marks):\n",
    "        \"\"\"Do the validations in the getters and setters\"\"\"\n",
    "        self.marks=marks\n",
    "\n",
    "    def get_marks(self):\n",
    "        return self.marks\n",
    "\n",
    "\n",
    "n = int(input(\"Enter the number of students: \"))\n",
    "for i in range(n):\n",
    "    s = Student()\n",
    "    name = input(\"Enter Student name: \")\n",
    "    s.set_name(name)\n",
    "    marks = float(input(\"Enter you marks: \"))\n",
    "    s.set_marks(marks)\n",
    "\n",
    "print(\"Hiee \", s.get_name(), \"your marks are \", s.get_marks())\n"
   ]
  },
  {
   "cell_type": "markdown",
   "id": "4087b1de-ad5a-43de-bb0c-a16d16a1327c",
   "metadata": {},
   "source": [
    "class method:\n",
    "    \n",
    "Inside we are using only static variable and we are not using atleast one instaance variables\n",
    "\n",
    "use the decorator @classmethod\n",
    "def m1(cls):\n",
    "    pass\n",
    "\n",
    "How to call the class method:\n",
    "- Either by using class object reference pr by using class name\n",
    "- class name"
   ]
  },
  {
   "cell_type": "code",
   "execution_count": 8,
   "id": "edde5213-0940-4314-b5cc-917fcd663f14",
   "metadata": {},
   "outputs": [
    {
     "name": "stdout",
     "output_type": "stream",
     "text": [
      "Cow walks with 4 legs\n"
     ]
    }
   ],
   "source": [
    "class Animal:\n",
    "    legs = 4\n",
    "    @classmethod\n",
    "    def walk(cls, name):\n",
    "        print('{} walks with {} legs'.format(name, cls.legs))\n",
    "\n",
    "Animal.walk('Cow')"
   ]
  },
  {
   "cell_type": "code",
   "execution_count": 9,
   "id": "d40a3663-3235-4c8d-8b72-837505723385",
   "metadata": {},
   "outputs": [
    {
     "name": "stdout",
     "output_type": "stream",
     "text": [
      "collage name:  DurgaSoft\n"
     ]
    }
   ],
   "source": [
    "class Student:\n",
    "    collageName = 'DurgaSoft'\n",
    "\n",
    "    @classmethod\n",
    "    def getCollageInfo(cls):\n",
    "        print(\"collage name: \", cls.collageName)\n",
    "\n",
    "Student.getCollageInfo()"
   ]
  },
  {
   "cell_type": "code",
   "execution_count": 13,
   "id": "944c2690-3723-47c2-acd9-9aeda9b72d63",
   "metadata": {},
   "outputs": [
    {
     "name": "stdout",
     "output_type": "stream",
     "text": [
      "Total no of objects created:  3\n",
      "\"This is also class method \n",
      "        Because the name of variable does not matter\n",
      "        But this is not good programming practice\n",
      "Total no of objects created:  3\n"
     ]
    }
   ],
   "source": [
    "\n",
    "class Test:\n",
    "    count = 0;\n",
    "    def __init__(self):\n",
    "        Test.count=Test.count+1\n",
    "\n",
    "    @classmethod\n",
    "    def getNoOfObjects(cls):\n",
    "        print(\"Total no of objects created: \", cls.count)\n",
    "\n",
    "    @classmethod\n",
    "    def getNoOfObjects1(self):\n",
    "        print(\"\"\"\"This is also class method \n",
    "        Because the name of variable does not matter\n",
    "        But this is not good programming practice\"\"\")\n",
    "        print(\"Total no of objects created: \", self.count)\n",
    "    \n",
    "t1 = Test()\n",
    "t2 = Test()\n",
    "t3 = Test()\n",
    "Test.getNoOfObjects()\n",
    "Test.getNoOfObjects1()\n"
   ]
  },
  {
   "cell_type": "code",
   "execution_count": null,
   "id": "786a100a-dd29-4557-b792-9cb833214f19",
   "metadata": {},
   "outputs": [],
   "source": [
    "# Write the program to track the number of objects created for a clsss?"
   ]
  }
 ],
 "metadata": {
  "kernelspec": {
   "display_name": "Python 3 (ipykernel)",
   "language": "python",
   "name": "python3"
  },
  "language_info": {
   "codemirror_mode": {
    "name": "ipython",
    "version": 3
   },
   "file_extension": ".py",
   "mimetype": "text/x-python",
   "name": "python",
   "nbconvert_exporter": "python",
   "pygments_lexer": "ipython3",
   "version": "3.11.5"
  }
 },
 "nbformat": 4,
 "nbformat_minor": 5
}
