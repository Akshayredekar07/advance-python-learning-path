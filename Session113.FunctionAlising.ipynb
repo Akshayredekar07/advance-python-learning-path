{
 "cells": [
  {
   "cell_type": "markdown",
   "metadata": {},
   "source": [
    "### Decorators and Generators\n"
   ]
  },
  {
   "cell_type": "code",
   "execution_count": null,
   "metadata": {},
   "outputs": [],
   "source": [
    "# decorators"
   ]
  },
  {
   "cell_type": "code",
   "execution_count": null,
   "metadata": {},
   "outputs": [
    {
     "name": "stdout",
     "output_type": "stream",
     "text": [
      "<function f1 at 0x000002365EB240E0>\n"
     ]
    }
   ],
   "source": [
    "def f1():\n",
    "    print(\"Durga\")\n",
    "\n",
    "\n",
    "print(f1)"
   ]
  },
  {
   "cell_type": "code",
   "execution_count": 3,
   "metadata": {},
   "outputs": [
    {
     "name": "stdout",
     "output_type": "stream",
     "text": [
      "2432540229856\n"
     ]
    }
   ],
   "source": [
    "print(id(f1))"
   ]
  },
  {
   "cell_type": "code",
   "execution_count": null,
   "metadata": {},
   "outputs": [
    {
     "name": "stdout",
     "output_type": "stream",
     "text": [
      "good morning  durga\n",
      "good morning  durga\n",
      "good morning  sunny\n"
     ]
    }
   ],
   "source": [
    "def wish(name):\n",
    "    p=print\n",
    "    p(\"good morning \", name)\n",
    " \n",
    "\n",
    "greeting=wish\n",
    "wish(\"durga\")\n",
    "greeting(\"durga\")\n",
    "del wish\n",
    "greeting(\"sunny\")"
   ]
  },
  {
   "cell_type": "code",
   "execution_count": 2,
   "metadata": {},
   "outputs": [
    {
     "name": "stdout",
     "output_type": "stream",
     "text": [
      "Outer function started\n",
      "Outer function completed\n"
     ]
    }
   ],
   "source": [
    "def outer():\n",
    "    print(\"Outer function started\")\n",
    "    def inner():\n",
    "        print(\"Inner function executed\")\n",
    "    print(\"Outer function return innner function\")\n",
    "    return inner\n",
    "\n",
    "newf=outer() #newf = inner\n",
    "            "
   ]
  },
  {
   "cell_type": "code",
   "execution_count": 3,
   "metadata": {},
   "outputs": [
    {
     "data": {
      "text/plain": [
       "<function __main__.outer.<locals>.inner()>"
      ]
     },
     "execution_count": 3,
     "metadata": {},
     "output_type": "execute_result"
    }
   ],
   "source": [
    "newf "
   ]
  },
  {
   "cell_type": "code",
   "execution_count": 5,
   "metadata": {},
   "outputs": [
    {
     "name": "stdout",
     "output_type": "stream",
     "text": [
      "Inner function executed\n",
      "Inner function executed\n",
      "Inner function executed\n",
      "Inner function executed\n"
     ]
    }
   ],
   "source": [
    "newf()\n",
    "newf()\n",
    "newf()\n",
    "newf()"
   ]
  },
  {
   "cell_type": "code",
   "execution_count": 6,
   "metadata": {},
   "outputs": [
    {
     "data": {
      "text/plain": [
       "(10, 20, 30)"
      ]
     },
     "execution_count": 6,
     "metadata": {},
     "output_type": "execute_result"
    }
   ],
   "source": [
    "def return_more():\n",
    "    return 10, 20, 30\n",
    "\n",
    "return_more()"
   ]
  },
  {
   "cell_type": "code",
   "execution_count": null,
   "metadata": {},
   "outputs": [],
   "source": [
    "# Difference between the two lines\n",
    "# f1 = outer\n",
    "# f1 and outer are pointing to the same function object. Function aliasing.\n",
    "# f1 = outer() \n",
    "# The return value of the outer function is being assigned to f1 "
   ]
  },
  {
   "cell_type": "code",
   "execution_count": 7,
   "metadata": {},
   "outputs": [
    {
     "name": "stdout",
     "output_type": "stream",
     "text": [
      "f1 function got <function fx at 0x00000265ED1ED440> function as argument\n",
      "fx function\n"
     ]
    }
   ],
   "source": [
    "def f1(func):\n",
    "    print(f\"f1 function got {func} function as argument\")\n",
    "    func()\n",
    "\n",
    "\n",
    "def fx():\n",
    "    print('fx function')\n",
    "\n",
    "def fy():\n",
    "    print('fy function')\n",
    "\n",
    "\n",
    "f1(fx)"
   ]
  },
  {
   "cell_type": "code",
   "execution_count": 8,
   "metadata": {},
   "outputs": [
    {
     "name": "stdout",
     "output_type": "stream",
     "text": [
      "f1 function got <function fy at 0x00000265ED1EC860> function as argument\n",
      "fy function\n"
     ]
    }
   ],
   "source": [
    "f1(fy)"
   ]
  },
  {
   "cell_type": "markdown",
   "metadata": {},
   "source": [
    " - In Python, everything is treated as an object, including functions.\n",
    " - Every function can be considered an object.\n",
    " - We can assign a different name to an existing function, a concept known as function aliasing.\n",
    " - It is possible to define a function within another function, referred to as a nested function.\n",
    " - A function can return another function.\n",
    " - We can pass functions as arguments to other functions."
   ]
  }
 ],
 "metadata": {
  "kernelspec": {
   "display_name": "Python 3",
   "language": "python",
   "name": "python3"
  },
  "language_info": {
   "codemirror_mode": {
    "name": "ipython",
    "version": 3
   },
   "file_extension": ".py",
   "mimetype": "text/x-python",
   "name": "python",
   "nbconvert_exporter": "python",
   "pygments_lexer": "ipython3",
   "version": "3.12.7"
  }
 },
 "nbformat": 4,
 "nbformat_minor": 2
}
