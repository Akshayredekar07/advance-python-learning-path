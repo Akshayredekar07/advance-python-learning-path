{
 "cells": [
  {
   "cell_type": "markdown",
   "metadata": {},
   "source": [
    "### **Handling Binary Data**\n",
    "\n",
    "Binary data refers to data that consists of sequences of 0s and 1s, like:\n",
    "- Images (jpg, png, etc.)\n",
    "- Videos (mp4, avi, etc.) \n",
    "- Audio files (mp3, wav, etc.)\n",
    "\n",
    "Python provides two main datatypes for handling binary data:\n",
    "- **bytes**: Immutable sequence of bytes\n",
    "- **bytearray**: Mutable sequence of bytes"
   ]
  },
  {
   "cell_type": "code",
   "execution_count": 6,
   "metadata": {},
   "outputs": [
    {
     "name": "stdout",
     "output_type": "stream",
     "text": [
      "bytes example: b'ABC'\n",
      "decoded to string: ABC\n",
      "\n",
      "bytearray example: bytearray(b'DEF')\n",
      "decoded to string: DEF\n",
      "\n",
      "Modifying bytearray:\n",
      "after modification: bytearray(b'XEF')\n",
      "decoded to string: XEF\n",
      "\n",
      "String converted to bytes: b'Hello World'\n",
      "Bytes converted back to string: Hello World\n"
     ]
    }
   ],
   "source": [
    "# Example of bytes - immutable sequence\n",
    "b1 = bytes([65, 66, 67])  # Creates bytes containing ASCII values for 'ABC'\n",
    "print(\"bytes example:\", b1)\n",
    "print(\"decoded to string:\", b1.decode())\n",
    "\n",
    "# Example of bytearray - mutable sequence\n",
    "b2 = bytearray([68, 69, 70])  # Creates bytearray containing ASCII values for 'DEF'\n",
    "print(\"\\nbytearray example:\", b2)\n",
    "print(\"decoded to string:\", b2.decode())\n",
    "\n",
    "# Demonstrating mutability\n",
    "print(\"\\nModifying bytearray:\")\n",
    "b2[0] = 88  # Change 'D' to 'X'\n",
    "print(\"after modification:\", b2)\n",
    "print(\"decoded to string:\", b2.decode())\n",
    "\n",
    "# Converting string to bytes\n",
    "text = \"Hello World\"\n",
    "b3 = text.encode('utf-8')\n",
    "print(\"\\nString converted to bytes:\", b3)\n",
    "\n",
    "# Converting bytes back to string\n",
    "text_back = b3.decode('utf-8') \n",
    "print(\"Bytes converted back to string:\", text_back)\n"
   ]
  },
  {
   "cell_type": "code",
   "execution_count": 3,
   "metadata": {},
   "outputs": [],
   "source": [
    "f1 = open('img1.jpg', 'rb')\n",
    "f2 = open('newimg.jpg', 'wb')"
   ]
  },
  {
   "cell_type": "code",
   "execution_count": 4,
   "metadata": {},
   "outputs": [
    {
     "name": "stdout",
     "output_type": "stream",
     "text": [
      "New image image file create with name: newimg.jpg\n"
     ]
    }
   ],
   "source": [
    "data=f1.read()\n",
    "f2.write(data)\n",
    "print(\"New image image file create with name: newimg.jpg\")"
   ]
  },
  {
   "cell_type": "code",
   "execution_count": 5,
   "metadata": {},
   "outputs": [
    {
     "data": {
      "text/plain": [
       "bytes"
      ]
     },
     "execution_count": 5,
     "metadata": {},
     "output_type": "execute_result"
    }
   ],
   "source": [
    "type(data)"
   ]
  },
  {
   "cell_type": "markdown",
   "metadata": {},
   "source": [
    "### **Handling CSV Files**\n",
    "\n",
    "**CSV** \n",
    "\n",
    "* Stands for Comma Separated Values\n",
    "\n",
    "**As part of programming, it is very common to write and read data with respect to CSV files.**\n",
    "\n",
    "Python provides the `csv` module to handle CSV files.\n",
    "\n",
    "\n",
    "**Note:**\n",
    "\n",
    "* Observe the difference with the `newline` attribute:\n",
    "\n",
    "   * `with open(\"emp.csv\", \"w\", newline='') as f:` \n",
    "   * `with open(\"emp.csv\", \"w\") as f:`\n",
    "\n",
    "* If we are not using the `newline` attribute, then blank lines will be included between data in the CSV file. \n",
    "* To prevent these blank lines, the `newline` attribute is required in Python-3. \n",
    "* In Python-2, you can specify the mode as `'wb'` and the `newline` attribute is not required."
   ]
  },
  {
   "cell_type": "code",
   "execution_count": 3,
   "metadata": {},
   "outputs": [
    {
     "name": "stdout",
     "output_type": "stream",
     "text": [
      "Total Employees data written to csv file successfully\n"
     ]
    }
   ],
   "source": [
    "## Writing Data to CSV File:\n",
    "import csv\n",
    "\n",
    "with open(\"emp.csv\", \"w\", newline='') as f:\n",
    "    writer = csv.writer(f)\n",
    "    writer.writerow([\"ENO\", \"ENAME\", \"ESAL\", \"EADDR\"])  # Write header row\n",
    "    \n",
    "    # Add some hardcoded sample data\n",
    "    writer.writerow([\"101\", \"John Smith\", \"50000\", \"New York\"])\n",
    "    writer.writerow([\"102\", \"Mary Johnson\", \"65000\", \"Los Angeles\"]) \n",
    "    writer.writerow([\"103\", \"Bob Wilson\", \"45000\", \"Chicago\"])\n",
    "\n",
    "    num_employees = int(input(\"Enter Number of Employees: \"))\n",
    "\n",
    "    for _ in range(num_employees):\n",
    "        eno = input(\"Enter Employee No: \")\n",
    "        ename = input(\"Enter Employee Name: \")\n",
    "        esal = input(\"Enter Employee Salary: \")\n",
    "        eaddr = input(\"Enter Employee Address: \")\n",
    "        writer.writerow([eno, ename, esal, eaddr])\n",
    "\n",
    "print(\"Total Employees data written to csv file successfully\")"
   ]
  },
  {
   "cell_type": "code",
   "execution_count": 2,
   "metadata": {},
   "outputs": [],
   "source": [
    "import csv\n",
    "with open('student.csv', 'w', newline='') as f:\n",
    "    writer=csv.writer(f)\n",
    "    writer.writerow([\"SNO\", \"SNAME\", \"MARKS\"])\n",
    "    writer.writerow([\"1\", \"John\", \"85\"])\n",
    "    writer.writerow([\"2\", \"Appa\", \"92\"])\n",
    "    writer.writerow([\"3\", \"Nana\", \"78\"])\n",
    "    nums_stds = int(input(\"Enter number of students: \"))\n",
    "\n",
    "    for _ in range(nums_stds):\n",
    "        sno = input(\"Enter Student No: \")\n",
    "        sname = input(\"Enter Student Name: \")\n",
    "        marks = input(\"Enter Employee Marks: \")\n",
    "        writer.writerow([sno, sname, marks])"
   ]
  },
  {
   "cell_type": "markdown",
   "metadata": {},
   "source": [
    "### **Reading Data from CSV File:** "
   ]
  },
  {
   "cell_type": "code",
   "execution_count": 4,
   "metadata": {},
   "outputs": [
    {
     "name": "stdout",
     "output_type": "stream",
     "text": [
      "ENO \tENAME \tESAL \tEADDR \t\n",
      "101 \tJohn Smith \t50000 \tNew York \t\n",
      "102 \tMary Johnson \t65000 \tLos Angeles \t\n",
      "103 \tBob Wilson \t45000 \tChicago \t\n"
     ]
    }
   ],
   "source": [
    "import csv\n",
    "f = open(\"emp.csv\", 'r')\n",
    "r = csv.reader(f)  # returns csv reader object\n",
    "data = list(r)\n",
    "# print(data)\n",
    "for line in data:\n",
    "    for word in line:\n",
    "        print(word, \"\\t\", end='')\n",
    "    print()"
   ]
  },
  {
   "cell_type": "markdown",
   "metadata": {},
   "source": [
    "### **Zipping and Unzipping Files**\n",
    "\n",
    "It is very common requirement to zip and unzip files. The main advantages are:\n",
    "1) To improve memory utilization \n",
    "2) We can reduce transport time\n",
    "3) We can improve performance\n",
    "\n",
    "To perform zip and unzip operations, Python contains one built-in module called zipfile.\n",
    "This module contains a class called ZipFile.\n",
    "\n",
    "To Create a Zip File:\n",
    "We create a ZipFile class object with:\n",
    "- Name of the zip file\n",
    "- Mode ('w' for write)\n",
    "- Constant ZIP_DEFLATED (represents we are creating a zip file)\n",
    "\n",
    "Example:\n",
    "`f = ZipFile(\"files.zip\", \"w\", ZIP_DEFLATED)`\n",
    "\n",
    "Once we create a ZipFile object, we can add files using the write() method:\n",
    "f.write(filename)\n"
   ]
  },
  {
   "cell_type": "code",
   "execution_count": 5,
   "metadata": {},
   "outputs": [
    {
     "name": "stdout",
     "output_type": "stream",
     "text": [
      "Zipping successful!\n"
     ]
    }
   ],
   "source": [
    "from zipfile import *\n",
    "f=ZipFile('files.zip', 'w', ZIP_DEFLATED)\n",
    "f.write('file1.txt')\n",
    "f.write('file2.txt')\n",
    "f.write('file3.txt')\n",
    "f.close()\n",
    "print(\"Zipping successful!\")"
   ]
  },
  {
   "cell_type": "markdown",
   "metadata": {},
   "source": [
    "### To perform unzip operation:\n",
    "We have to create a ZipFile object as follows:\n",
    "\n",
    "`f = ZipFile(\"files.zip\", \"r\")  # ZIP_STORED is the default mode for reading`\n",
    "\n",
    "Once we create a ZipFile object for unzip operation, we can:\n",
    "1. Get all file names present in the zip file using namelist() method:\n",
    "   `names = f.namelist()`\n",
    "2. Extract all files using extractall() method\n",
    "3. Extract specific files using extract() method"
   ]
  },
  {
   "cell_type": "code",
   "execution_count": 6,
   "metadata": {},
   "outputs": [
    {
     "name": "stdout",
     "output_type": "stream",
     "text": [
      "File Name: file1.txt\n",
      "The Content of this file is:\n",
      "Ornage\n",
      "Apple\n",
      "Banana\n",
      "Kiwi\n",
      "\n",
      "File Name: file2.txt\n",
      "The Content of this file is:\n",
      "cow\n",
      "birds\n",
      "parrot\n",
      "\n",
      "File Name: file3.txt\n",
      "The Content of this file is:\n",
      "money\n",
      "data\n",
      "piasa\n",
      "\n"
     ]
    }
   ],
   "source": [
    "from zipfile import ZipFile\n",
    "\n",
    "# Open the ZIP file in read mode\n",
    "with ZipFile(\"files.zip\", 'r') as zip_obj:\n",
    "\n",
    "    # Get all filenames\n",
    "    names = zip_obj.namelist()\n",
    "\n",
    "    # Print details for each file\n",
    "    for name in names:\n",
    "        print(\"File Name:\", name)\n",
    "        print(\"The Content of this file is:\")\n",
    "\n",
    "        # Open the file within the ZIP for reading\n",
    "        with zip_obj.open(name, 'r') as file_obj:\n",
    "            print(file_obj.read().decode())  # Decode bytes to text for printing\n",
    "        print()"
   ]
  },
  {
   "cell_type": "code",
   "execution_count": null,
   "metadata": {},
   "outputs": [],
   "source": []
  }
 ],
 "metadata": {
  "kernelspec": {
   "display_name": "Python 3",
   "language": "python",
   "name": "python3"
  },
  "language_info": {
   "codemirror_mode": {
    "name": "ipython",
    "version": 3
   },
   "file_extension": ".py",
   "mimetype": "text/x-python",
   "name": "python",
   "nbconvert_exporter": "python",
   "pygments_lexer": "ipython3",
   "version": "3.12.7"
  }
 },
 "nbformat": 4,
 "nbformat_minor": 2
}
