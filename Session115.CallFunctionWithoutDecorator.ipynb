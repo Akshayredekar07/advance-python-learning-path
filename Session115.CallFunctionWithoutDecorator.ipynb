{
 "cells": [
  {
   "cell_type": "code",
   "execution_count": 1,
   "metadata": {},
   "outputs": [
    {
     "name": "stdout",
     "output_type": "stream",
     "text": [
      "Hello! Welcome to the Python world!\n"
     ]
    }
   ],
   "source": [
    "def greet():\n",
    "    return \"Hello!\"\n",
    "\n",
    "def welcome():\n",
    "    message = greet()  # Calling the greet function directly\n",
    "    return f\"{message} Welcome to the Python world!\"\n",
    "\n",
    "# Calling the welcome function\n",
    "print(welcome())"
   ]
  },
  {
   "cell_type": "code",
   "execution_count": 1,
   "metadata": {},
   "outputs": [
    {
     "name": "stdout",
     "output_type": "stream",
     "text": [
      "0.5\n"
     ]
    },
    {
     "ename": "ZeroDivisionError",
     "evalue": "division by zero",
     "output_type": "error",
     "traceback": [
      "\u001b[1;31m---------------------------------------------------------------------------\u001b[0m",
      "\u001b[1;31mZeroDivisionError\u001b[0m                         Traceback (most recent call last)",
      "Cell \u001b[1;32mIn[1], line 5\u001b[0m\n\u001b[0;32m      2\u001b[0m     \u001b[38;5;28mprint\u001b[39m(a\u001b[38;5;241m/\u001b[39mb)\n\u001b[0;32m      4\u001b[0m division(\u001b[38;5;241m10\u001b[39m, \u001b[38;5;241m20\u001b[39m)\n\u001b[1;32m----> 5\u001b[0m \u001b[43mdivision\u001b[49m\u001b[43m(\u001b[49m\u001b[38;5;241;43m10\u001b[39;49m\u001b[43m,\u001b[49m\u001b[43m \u001b[49m\u001b[38;5;241;43m0\u001b[39;49m\u001b[43m)\u001b[49m\n",
      "Cell \u001b[1;32mIn[1], line 2\u001b[0m, in \u001b[0;36mdivision\u001b[1;34m(a, b)\u001b[0m\n\u001b[0;32m      1\u001b[0m \u001b[38;5;28;01mdef\u001b[39;00m \u001b[38;5;21mdivision\u001b[39m(a, b):\n\u001b[1;32m----> 2\u001b[0m     \u001b[38;5;28mprint\u001b[39m(\u001b[43ma\u001b[49m\u001b[38;5;241;43m/\u001b[39;49m\u001b[43mb\u001b[49m)\n",
      "\u001b[1;31mZeroDivisionError\u001b[0m: division by zero"
     ]
    }
   ],
   "source": [
    "def division(a, b):\n",
    "    print(a/b)\n",
    "\n",
    "division(10, 20)\n",
    "division(10, 0)"
   ]
  },
  {
   "cell_type": "code",
   "execution_count": null,
   "metadata": {},
   "outputs": [],
   "source": [
    "def samrt_div(func):\n",
    "    def div(a,b):\n",
    "        if b==0:\n",
    "            print(\"Hello stupid, How we can divide by zero\")\n",
    "        else:\n",
    "            func(a,b)\n",
    "    return div\n",
    "\n",
    "\n",
    "\n"
   ]
  },
  {
   "cell_type": "code",
   "execution_count": 1,
   "metadata": {},
   "outputs": [
    {
     "name": "stdout",
     "output_type": "stream",
     "text": [
      "We are dividing 20 with 2\n",
      "10.0\n",
      "We are dividing 20 with 0\n",
      "OOPS...cannot divide\n",
      "None\n"
     ]
    }
   ],
   "source": [
    "def smart_division(func):\n",
    "    def inner(a, b):\n",
    "        print(\"We are dividing\", a, \"with\", b)\n",
    "        if b == 0:\n",
    "            print(\"OOPS...cannot divide\")\n",
    "            return\n",
    "        else:\n",
    "            return func(a, b)\n",
    "    return inner\n",
    "\n",
    "@smart_division\n",
    "def division(a, b):\n",
    "    return a / b\n",
    "\n",
    "print(division(20, 2))  # Expected output: 10.0\n",
    "print(division(20, 0))  # Expected output: OOPS...cannot divide\n"
   ]
  },
  {
   "cell_type": "code",
   "execution_count": 2,
   "metadata": {},
   "outputs": [
    {
     "name": "stdout",
     "output_type": "stream",
     "text": [
      "Processing order 101 for customer jaybabu...\n",
      "[LOG] Calling 'process_order' with arguments: (102, 'sandhya'), {}\n",
      "Processing order 102 for customer sandhya...\n",
      "[LOG] 'process_order' execution time: 0.0000 seconds\n"
     ]
    }
   ],
   "source": [
    "import time\n",
    "\n",
    "# Decorator to log function calls\n",
    "def logger(func):\n",
    "    def wrapper(*args, **kwargs):\n",
    "        print(f\"[LOG] Calling '{func.__name__}' with arguments: {args}, {kwargs}\")\n",
    "        start_time = time.time()\n",
    "        result = func(*args, **kwargs)\n",
    "        end_time = time.time()\n",
    "        print(f\"[LOG] '{func.__name__}' execution time: {end_time - start_time:.4f} seconds\")\n",
    "        return result\n",
    "    return wrapper\n",
    "\n",
    "# A production function to process orders\n",
    "def process_order(order_id, customer_name):\n",
    "    print(f\"Processing order {order_id} for customer {customer_name}...\")\n",
    "\n",
    "# Manual assignment for decorated and undecorated function\n",
    "logged_process_order = logger(process_order)\n",
    "\n",
    "# Using the original function (no logging)\n",
    "process_order(101, \"jaybabu\")  # Output: Processing order 101 for customer jaybabu...\n",
    "\n",
    "# Using the decorated function (with logging)\n",
    "logged_process_order(102, \"sandhya\")  \n",
    "# Output:\n",
    "# [LOG] Calling 'process_order' with arguments: (102, 'sandhya'), {}\n",
    "# Processing order 102 for customer sandhya...\n",
    "# [LOG] 'process_order' execution time: 0.0001 seconds\n"
   ]
  },
  {
   "cell_type": "code",
   "execution_count": null,
   "metadata": {},
   "outputs": [],
   "source": [
    "# Decorator to check authentication\n",
    "def authenticate(func):\n",
    "    def wrapper(user, *args, **kwargs):\n",
    "        if not user.get(\"is_authenticated\", False):\n",
    "            print(\"[ERROR] User is not authenticated. Access denied.\")\n",
    "            return None\n",
    "        print(f\"[INFO] User '{user['name']}' is authenticated. Proceeding...\")\n",
    "        return func(user, *args, **kwargs)\n",
    "    return wrapper\n",
    "\n",
    "# A function to fetch user data (e.g., from a database or API)\n",
    "def fetch_user_data(user, data_type):\n",
    "    print(f\"Fetching {data_type} for user {user['name']}...\")\n",
    "\n",
    "# Manually assign decorated and undecorated functions\n",
    "secure_fetch_user_data = authenticate(fetch_user_data)\n",
    "\n",
    "# Sample user data\n",
    "authenticated_user = {\"name\": \"Rohit\", \"is_authenticated\": True}\n",
    "unauthenticated_user = {\"name\": \"Priya\", \"is_authenticated\": False}\n",
    "\n",
    "# Using the original function (no authentication check)\n",
    "fetch_user_data(authenticated_user, \"order history\")  \n",
    "# Output: Fetching order history for user Rohit...\n",
    "\n",
    "fetch_user_data(unauthenticated_user, \"order history\")  \n",
    "# Output: Fetching order history for user Priya...\n",
    "\n",
    "# Using the decorated function (with authentication check)\n",
    "secure_fetch_user_data(authenticated_user, \"order history\")  \n",
    "# Output:\n",
    "# [INFO] User 'Rohit' is authenticated. Proceeding...\n",
    "# Fetching order history for user Rohit...\n",
    "\n",
    "secure_fetch_user_data(unauthenticated_user, \"order history\")  \n",
    "# Output:\n",
    "# [ERROR] User is not authenticated. Access denied.\n"
   ]
  },
  {
   "cell_type": "code",
   "execution_count": 3,
   "metadata": {},
   "outputs": [
    {
     "name": "stdout",
     "output_type": "stream",
     "text": [
      "Processing loan of ₹600000 for customer Rahul...\n",
      "Processing loan of ₹250000 for customer Ananya...\n",
      "[ERROR] Loan amount of ₹600000 exceeds the limit for Rahul.\n",
      "[INFO] Loan of ₹250000 for Ananya is within the permissible limit.\n",
      "Processing loan of ₹250000 for customer Ananya...\n"
     ]
    }
   ],
   "source": [
    "def validate_loan(func):\n",
    "    def wrapper(customer, loan_amount, *args, **kwargs):\n",
    "        if loan_amount > customer.get(\"max_loan_limit\", 0):\n",
    "            print(f\"[ERROR] Loan amount of ₹{loan_amount} exceeds the limit for {customer['name']}.\")\n",
    "            return None\n",
    "        print(f\"[INFO] Loan of ₹{loan_amount} for {customer['name']} is within the permissible limit.\")\n",
    "        return func(customer, loan_amount, *args, **kwargs)\n",
    "    return wrapper\n",
    "\n",
    "def process_loan(customer, loan_amount):\n",
    "    print(f\"Processing loan of ₹{loan_amount} for customer {customer['name']}...\")\n",
    "\n",
    "validated_process_loan = validate_loan(process_loan)\n",
    "\n",
    "customer_rahul = {\"name\": \"Rahul\", \"max_loan_limit\": 500000}\n",
    "customer_ananya = {\"name\": \"Ananya\", \"max_loan_limit\": 300000}\n",
    "\n",
    "process_loan(customer_rahul, 600000)\n",
    "process_loan(customer_ananya, 250000)\n",
    "\n",
    "validated_process_loan(customer_rahul, 600000)\n",
    "validated_process_loan(customer_ananya, 250000)"
   ]
  },
  {
   "cell_type": "code",
   "execution_count": 4,
   "metadata": {},
   "outputs": [
    {
     "name": "stdout",
     "output_type": "stream",
     "text": [
      "a: 1, b: 2\n",
      "args: (3, 4)\n",
      "kwargs: {'name': 'Rahul', 'city': 'Mumbai'}\n"
     ]
    }
   ],
   "source": [
    "def example_function(a, b, *args, **kwargs):\n",
    "    print(f\"a: {a}, b: {b}\")\n",
    "    print(f\"args: {args}\")\n",
    "    print(f\"kwargs: {kwargs}\")\n",
    "\n",
    "example_function(1, 2, 3, 4, name=\"Rahul\", city=\"Mumbai\")"
   ]
  },
  {
   "cell_type": "code",
   "execution_count": 7,
   "metadata": {},
   "outputs": [
    {
     "name": "stdout",
     "output_type": "stream",
     "text": [
      "Decorator2 execution\n"
     ]
    }
   ],
   "source": [
    "def decorator1(fun):\n",
    "    def wrapper():\n",
    "        print(\"Decorator1 execution\")\n",
    "    return wrapper\n",
    "\n",
    "def decorator2(fun):\n",
    "    def wrapper():\n",
    "        print(\"Decorator2 execution\")\n",
    "    return wrapper        \n",
    "\n",
    "\n",
    "@decorator2\n",
    "@decorator1\n",
    "def f1():\n",
    "    print(\"Original function execution\")\n",
    "\n",
    "f1()    "
   ]
  },
  {
   "cell_type": "code",
   "execution_count": 8,
   "metadata": {},
   "outputs": [
    {
     "name": "stdout",
     "output_type": "stream",
     "text": [
      "Logging: Calling wrapper with arguments (5, 3) and {}\n",
      "Timing: slow_function executed in 2.0012 seconds\n",
      "Result: 8\n"
     ]
    }
   ],
   "source": [
    "import time\n",
    "\n",
    "def log_decorator(func):\n",
    "    def wrapper(*args, **kwargs):\n",
    "        print(f\"Logging: Calling {func.__name__} with arguments {args} and {kwargs}\")\n",
    "        return func(*args, **kwargs)\n",
    "    return wrapper\n",
    "\n",
    "def time_decorator(func):\n",
    "    def wrapper(*args, **kwargs):\n",
    "        start_time = time.time()\n",
    "        result = func(*args, **kwargs)\n",
    "        end_time = time.time()\n",
    "        print(f\"Timing: {func.__name__} executed in {end_time - start_time:.4f} seconds\")\n",
    "        return result\n",
    "    return wrapper\n",
    "\n",
    "@log_decorator\n",
    "@time_decorator\n",
    "def slow_function(x, y):\n",
    "    time.sleep(2)\n",
    "    return x + y\n",
    "\n",
    "result = slow_function(5, 3)\n",
    "print(f\"Result: {result}\")\n"
   ]
  },
  {
   "cell_type": "code",
   "execution_count": 9,
   "metadata": {},
   "outputs": [
    {
     "name": "stdout",
     "output_type": "stream",
     "text": [
      "Decorator1: Before calling the function\n",
      "Decorator2: Before calling the function\n",
      "Hello!\n",
      "Decorator2: After calling the function\n",
      "Decorator1: After calling the function\n"
     ]
    }
   ],
   "source": [
    "def decorator1(func):\n",
    "    def wrapper():\n",
    "        print(\"Decorator1: Before calling the function\")\n",
    "        func()\n",
    "        print(\"Decorator1: After calling the function\")\n",
    "    return wrapper\n",
    "\n",
    "def decorator2(func):\n",
    "    def wrapper():\n",
    "        print(\"Decorator2: Before calling the function\")\n",
    "        func()\n",
    "        print(\"Decorator2: After calling the function\")\n",
    "    return wrapper\n",
    "\n",
    "@decorator1\n",
    "@decorator2\n",
    "def greet():\n",
    "    print(\"Hello!\")\n",
    "\n",
    "greet()\n"
   ]
  },
  {
   "cell_type": "code",
   "execution_count": 11,
   "metadata": {},
   "outputs": [
    {
     "name": "stdout",
     "output_type": "stream",
     "text": [
      "Decorator1: Before calling the function\n",
      "Decorator1: After calling the function\n"
     ]
    }
   ],
   "source": [
    "def decorator1(func):\n",
    "    def wrapper():\n",
    "        print(\"Decorator1: Before calling the function\")\n",
    "        # func()\n",
    "        print(\"Decorator1: After calling the function\")\n",
    "    return wrapper\n",
    "\n",
    "def decorator2(func):\n",
    "    def wrapper():\n",
    "        print(\"Decorator2: Before calling the function\")\n",
    "        # func()\n",
    "        print(\"Decorator2: After calling the function\")\n",
    "    return wrapper\n",
    "\n",
    "@decorator1\n",
    "@decorator2\n",
    "def greet():\n",
    "    print(\"Hello!\")\n",
    "\n",
    "greet()\n"
   ]
  },
  {
   "cell_type": "code",
   "execution_count": 16,
   "metadata": {},
   "outputs": [
    {
     "name": "stdout",
     "output_type": "stream",
     "text": [
      "400\n"
     ]
    }
   ],
   "source": [
    "def decor2(fun):\n",
    "    def wrapper2():\n",
    "        x = fun()\n",
    "        return x*x\n",
    "    return wrapper2\n",
    "\n",
    "def decor1(fun):\n",
    "    def wrapper():\n",
    "        x = fun()\n",
    "        return 2*x\n",
    "    return wrapper\n",
    "\n",
    "@decor2\n",
    "@decor1\n",
    "def num():\n",
    "    return 10\n",
    "\n",
    "print(num())"
   ]
  },
  {
   "cell_type": "markdown",
   "metadata": {},
   "source": [
    "```plaintext\n",
    "Start\n",
    "  ↓\n",
    "Apply @decorator2\n",
    "  ↓\n",
    "Apply @decorator1\n",
    "  ↓\n",
    "Call greet()\n",
    "  ↓\n",
    "decorator1.wrapper:\n",
    "  Print \"Decorator1: Before calling the function\"\n",
    "  ↓\n",
    "  Call decorator2.wrapper\n",
    "    ↓\n",
    "    decorator2.wrapper:\n",
    "      Print \"Decorator2: Before calling the function\"\n",
    "      ↓\n",
    "      Call greet()\n",
    "        ↓\n",
    "        Print \"Hello!\"\n",
    "      ↑\n",
    "    Print \"Decorator2: After calling the function\"\n",
    "  ↑\n",
    "Print \"Decorator1: After calling the function\"\n",
    "  ↓\n",
    "End\n",
    "```"
   ]
  },
  {
   "cell_type": "markdown",
   "metadata": {},
   "source": []
  }
 ],
 "metadata": {
  "kernelspec": {
   "display_name": "Python 3",
   "language": "python",
   "name": "python3"
  },
  "language_info": {
   "codemirror_mode": {
    "name": "ipython",
    "version": 3
   },
   "file_extension": ".py",
   "mimetype": "text/x-python",
   "name": "python",
   "nbconvert_exporter": "python",
   "pygments_lexer": "ipython3",
   "version": "3.12.7"
  }
 },
 "nbformat": 4,
 "nbformat_minor": 2
}
