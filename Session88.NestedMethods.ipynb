{
 "cells": [
  {
   "cell_type": "markdown",
   "metadata": {},
   "source": [
    "Nested Methods\n",
    "\n",
    "- Method inside method - allowed in python"
   ]
  },
  {
   "cell_type": "code",
   "execution_count": 3,
   "metadata": {},
   "outputs": [
    {
     "name": "stdout",
     "output_type": "stream",
     "text": [
      "Sum  30\n",
      "Diff  -10\n",
      "Prod  200\n",
      "Div  0.5\n",
      "\n",
      "Sum  300\n",
      "Diff  -100\n",
      "Prod  20000\n",
      "Div  0.5\n",
      "\n",
      "Sum  3000\n",
      "Diff  -1000\n",
      "Prod  2000000\n",
      "Div  0.5\n",
      "\n"
     ]
    }
   ],
   "source": [
    "class Test:\n",
    "    def m1():\n",
    "        a = 10\n",
    "        b = 20\n",
    "        print(\"Sum \", a+b)\n",
    "        print(\"Diff \", a-b)\n",
    "        print(\"Prod \", a*b)\n",
    "        print(\"Div \", a/b)\n",
    "        print()\n",
    "\n",
    "        a = 100\n",
    "        b = 200\n",
    "        print(\"Sum \", a+b)\n",
    "        print(\"Diff \", a-b)\n",
    "        print(\"Prod \", a*b)\n",
    "        print(\"Div \", a/b)\n",
    "        print()\n",
    "\n",
    "        a = 1000\n",
    "        b = 2000\n",
    "        print(\"Sum \", a+b)\n",
    "        print(\"Diff \", a-b)\n",
    "        print(\"Prod \", a*b)\n",
    "        print(\"Div \", a/b)\n",
    "        print()\n",
    "\n",
    "\n",
    "Test.m1()"
   ]
  },
  {
   "cell_type": "code",
   "execution_count": 4,
   "metadata": {},
   "outputs": [
    {
     "name": "stdout",
     "output_type": "stream",
     "text": [
      "Sum  30\n",
      "Diff  -10\n",
      "Prod  200\n",
      "Div  0.5\n",
      "\n",
      "Sum  90\n",
      "Diff  -62\n",
      "Prod  1064\n",
      "Div  0.18421052631578946\n",
      "\n",
      "Sum  159\n",
      "Diff  27\n",
      "Prod  6138\n",
      "Div  1.4090909090909092\n",
      "\n"
     ]
    }
   ],
   "source": [
    "class Test:\n",
    "    def m1(self):\n",
    "        def cal(a, b):\n",
    "            print(\"Sum \", a+b)\n",
    "            print(\"Diff \", a-b)\n",
    "            print(\"Prod \", a*b)\n",
    "            print(\"Div \", a/b)\n",
    "            print()\n",
    "        cal(10, 20)            \n",
    "        cal(14, 76)            \n",
    "        cal(93, 66)   \n",
    "\n",
    "t = Test()\n",
    "t.m1()                 "
   ]
  },
  {
   "cell_type": "code",
   "execution_count": null,
   "metadata": {},
   "outputs": [],
   "source": [
    "# Within the method if any functionality is repeatdly required > go for nested method\n",
    "# Within the class if any functionality is repeatdly required >> go for the normal method"
   ]
  }
 ],
 "metadata": {
  "kernelspec": {
   "display_name": "Python 3",
   "language": "python",
   "name": "python3"
  },
  "language_info": {
   "codemirror_mode": {
    "name": "ipython",
    "version": 3
   },
   "file_extension": ".py",
   "mimetype": "text/x-python",
   "name": "python",
   "nbconvert_exporter": "python",
   "pygments_lexer": "ipython3",
   "version": "3.11.5"
  }
 },
 "nbformat": 4,
 "nbformat_minor": 2
}
