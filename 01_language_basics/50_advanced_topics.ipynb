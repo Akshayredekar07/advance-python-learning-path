{
 "cells": [
  {
   "cell_type": "markdown",
   "metadata": {},
   "source": [
    "### **Functional Programming**  \n",
    "\n",
    "#### **1. Principles of Functional Programming**  \n",
    "\n",
    "#### **2. Core Concepts of Functional Programming**  \n",
    "- **Map:** Applying a function to each item in an iterable.  \n",
    "- **Reduce:** Aggregating items in an iterable to a single value.  \n",
    "- **Filter:** Selecting items from an iterable based on a condition.  \n",
    "- **Other Concepts:** Additional functional programming principles and techniques.  \n",
    "\n",
    "\n",
    "\n",
    "### **Math Function Concepts**  \n",
    "\n",
    "#### **1. Function Definition**  \n",
    "- A function, often denoted as *f(x) = y*, represents a relationship between an input *x* and an output *y*.  \n",
    "- For each input *x*, a function produces exactly one output *y*—this is a key characteristic of a mathematical function.  \n",
    "\n",
    "#### **2. Visual Representation**  \n",
    "```\n",
    "x --> f --> y \n",
    "```\n",
    "- This illustrates how an input *x* is transformed by the function *f* to produce the output *y*.  \n",
    "\n",
    "#### **3. Example: Square Root Function**  \n",
    "- **`Sqr(4) = 16`**: This likely refers to a squaring function, *Sqr(x) = x²*.  \n",
    "- **`√a = b => a = b²`**: The correct mathematical expression for the square root.  \n",
    "- **`x >= 0`**: Specifies that *x* must be non-negative for the square root function in the real number system.  \n",
    "\n",
    "#### **4. One-to-One vs. Many-to-One Functions**  \n",
    "- **`Sqr(x₁) = Sqr(x₂) = 16`**: Shows that different inputs (*x₁*, *x₂*) can produce the same output (e.g., 4 and -4).  \n",
    "- **Incorrect Statement: `x₁ = x₂`**: This is false in the case of many-to-one functions.  \n",
    "- **Incorrect Statement: `f(x) = a, f(x) = b => √a = b`**: Misuses function notation.  \n",
    "\n",
    "#### **5. Important Property of Functions**  \n",
    "- **\"Same input => Same output\"**: A fundamental property of functions.  \n",
    "\n",
    "#### **6. Summary of Errors in the Image**  \n",
    "- **Notation Confusion:** `Sqr()` is ambiguous; standard notation should be used.  \n",
    "- **Incorrect Implication:** `Sqr(x₁) = Sqr(x₂) = 16 => x₁ = x₂` is incorrect.  \n",
    "- **Confusing Statement:** `f(x) = a, f(x) = b => √a = b` is mathematically incorrect.  \n",
    "\n",
    "\n",
    "\n",
    "### **Lambda Calculus and Python Lambda Functions**  \n",
    "\n",
    "#### **1. Lambda Functions in Python**  \n",
    "- **Definition:** Anonymous, inline functions created using the `lambda` keyword.  \n",
    "- **Syntax:**  \n",
    "  ```python\n",
    "  lambda argument(s): expression\n",
    "  ```\n",
    "- **Example:**  \n",
    "  ```python\n",
    "  Square = lambda x: x**2\n",
    "  print(Square(3))  # Output: 9\n",
    "  ```  \n",
    "\n",
    "#### **2. Comparison with Traditional Function Definition**  \n",
    "```python\n",
    "def Sqr(x):\n",
    "    return x**2 \n",
    "```\n",
    "**vs.**  \n",
    "```python\n",
    "Square = lambda x: x**2\n",
    "```\n",
    "\n",
    "#### **3. Key Characteristics**  \n",
    "- **Anonymity:** No function name unless assigned to a variable.  \n",
    "- **Conciseness:** One-liner definition.  \n",
    "- **Limitations:** Cannot contain complex logic.  \n",
    "\n",
    "#### **4. Connection to Lambda Calculus**  \n",
    "- Lambda calculus is a formal system in mathematical logic.  \n",
    "- Python’s `lambda` functions are inspired by it but have practical constraints.  \n",
    "\n",
    "\n",
    "\n",
    "### **Higher-Order Functions and Closures**  \n",
    "\n",
    "#### **1. Definition**  \n",
    "- A higher-order function can:  \n",
    "  - Take another function as an argument.  \n",
    "  - Return a function as a result.  \n",
    "\n",
    "#### **2. Example: `gen_exp(n)`**  \n",
    "```python\n",
    "def gen_exp(n):\n",
    "    def exp(x):\n",
    "        return x**n\n",
    "    return exp\n",
    "```\n",
    "\n",
    "#### **3. How It Works**  \n",
    "- Calling `gen_exp(5)`:  \n",
    "  - Stores `n = 5`.  \n",
    "  - Returns the function `exp(x)`, which calculates `x**5`.  \n",
    "\n",
    "#### **4. Using the Returned Function**  \n",
    "```python\n",
    "exp5 = gen_exp(5)  # exp5 is now a function where n=5\n",
    "print(exp5(2))  # Output: 32\n",
    "```\n",
    "\n"
   ]
  },
  {
   "cell_type": "markdown",
   "metadata": {},
   "source": []
  },
  {
   "cell_type": "code",
   "execution_count": null,
   "metadata": {},
   "outputs": [],
   "source": [
    "# The type of y (assuming y is a function in this context)\n",
    "print(type(lambda: None))  # Output: <class 'function'>\n",
    "\n",
    "# Immediately Invoked Lambda Expression (IILE) - cubing 2\n",
    "print((lambda x: x**3)(2))  # Output: 8\n",
    "\n",
    "# Another IILE - cubing 5\n",
    "print((lambda x: x**3)(5))  # Output: 125\n",
    "\n",
    "# Defining a lambda function and assigning it to a variable\n",
    "get_first_element = lambda lst: lst[0]\n",
    "print(get_first_element)  # Output: <function <lambda> at 0x...> (memory address will vary)\n",
    "\n",
    "# Calling the lambda function with a list\n",
    "my_list = [9, 5, 6]\n",
    "print(get_first_element(my_list))  # Output: 9\n",
    "\n",
    "# Demonstrating f(x) notation (applying the lambda function)\n",
    "print((lambda lst: lst[0])([9, 5, 6]))  # Output: 9\n",
    "\n",
    "# Showing the function object again (same as before)\n",
    "print(get_first_element)  # Output: <function <lambda> at 0x...> (memory address will vary)"
   ]
  },
  {
   "cell_type": "code",
   "execution_count": 1,
   "metadata": {},
   "outputs": [
    {
     "name": "stdout",
     "output_type": "stream",
     "text": [
      "[(-1, 2), (1, 1), (2, 1), (3, 5), (5, 3), (7, 7)]\n"
     ]
    }
   ],
   "source": [
    "coordinates = [(1, 1), (-1, 2), (3, 5), (5, 3), (7, 7), (2, 1)]\n",
    "\n",
    "# We want to sort them on the basis of the x coordinate\n",
    "\n",
    "res = sorted(coordinates)  # Sorts based on the first element (x-coordinate) by default\n",
    "\n",
    "print(res)"
   ]
  },
  {
   "cell_type": "code",
   "execution_count": 2,
   "metadata": {},
   "outputs": [
    {
     "name": "stdout",
     "output_type": "stream",
     "text": [
      "[(-1, 2), (1, 1), (2, 1), (3, 5), (5, 3), (7, 7)]\n",
      "[1, 2, 3, 4, 5]\n",
      "[1, 4, 3, 2, 5]\n",
      "[1, 2, 3, 4, 5]\n"
     ]
    }
   ],
   "source": [
    "coordinates = [(1, 1), (-1, 2), (3, 5), (5, 3), (7, 7), (2, 1)]\n",
    "\n",
    "# We want to sort them on the basis of x coordinate\n",
    "\n",
    "res = sorted(coordinates)  # Sorts based on the first element (x-coordinate) by default\n",
    "\n",
    "print(res)\n",
    "\n",
    "# We want to sort them on the basis of y coordinate\n",
    "\n",
    "l = [1, 4, 3, 2, 5]\n",
    "\n",
    "x = sorted(l)  # Creates a copy of the list which is sorted\n",
    "print(x)\n",
    "print(l)\n",
    "\n",
    "l.sort()  # Sorts the list in place\n",
    "print(l)"
   ]
  },
  {
   "cell_type": "code",
   "execution_count": 3,
   "metadata": {},
   "outputs": [],
   "source": [
    "coordinates = [(1, 1), (-1, 2), (3, 5), (5, 3), (7, 7), (2, 1)]"
   ]
  },
  {
   "cell_type": "code",
   "execution_count": 4,
   "metadata": {},
   "outputs": [],
   "source": [
    "def get_y(lst):\n",
    "    return lst[1]"
   ]
  },
  {
   "cell_type": "code",
   "execution_count": 6,
   "metadata": {},
   "outputs": [
    {
     "data": {
      "text/plain": [
       "[(1, 1), (2, 1), (-1, 2), (5, 3), (3, 5), (7, 7)]"
      ]
     },
     "execution_count": 6,
     "metadata": {},
     "output_type": "execute_result"
    }
   ],
   "source": [
    "sorted(coordinates, key=get_y)"
   ]
  },
  {
   "cell_type": "code",
   "execution_count": 8,
   "metadata": {},
   "outputs": [
    {
     "data": {
      "text/plain": [
       "[1, 2, 3, 4, 5]"
      ]
     },
     "execution_count": 8,
     "metadata": {},
     "output_type": "execute_result"
    }
   ],
   "source": [
    "def bubble_sort(arr):\n",
    "    n=len(arr)\n",
    "    for i in range(n-1):\n",
    "        for j in range(n-i-1):\n",
    "            if arr[j]>arr[j+1]:\n",
    "                arr[j], arr[j+1]=arr[j+1], arr[j]\n",
    "    return arr\n",
    "\n",
    "l=[5,1,2,3,4]\n",
    "bubble_sort(l)\n",
    "\n",
    "\n",
    "# Initial array: [5,1,2,3,4]\n",
    "\n",
    "# Pass 1 (i=0):\n",
    "# ├── j=0: 5>1 ✓ → [1,5,2,3,4]\n",
    "# ├── j=1: 5>2 ✓ → [1,2,5,3,4]\n",
    "# ├── j=2: 5>3 ✓ → [1,2,3,5,4]\n",
    "# └── j=3: 5>4 ✓ → [1,2,3,4,5]\n",
    "\n",
    "# Pass 2 (i=1):\n",
    "# ├── j=0: 1>2 ✗ → [1,2,3,4,5]\n",
    "# ├── j=1: 2>3 ✗ → [1,2,3,4,5]\n",
    "# └── j=2: 3>4 ✗ → [1,2,3,4,5]\n",
    "\n",
    "# Pass 3 (i=2):\n",
    "# ├── j=0: 1>2 ✗ → [1,2,3,4,5]\n",
    "# └── j=1: 2>3 ✗ → [1,2,3,4,5]\n",
    "\n",
    "# Pass 4 (i=3):\n",
    "# └── j=0: 1>2 ✗ → [1,2,3,4,5]"
   ]
  },
  {
   "cell_type": "code",
   "execution_count": 9,
   "metadata": {},
   "outputs": [
    {
     "name": "stdout",
     "output_type": "stream",
     "text": [
      "Sorted array: [1, 2, 3, 4, 5]\n"
     ]
    }
   ],
   "source": [
    "def bubble_sort(arr):\n",
    "    n = len(arr)\n",
    "    for i in range(n):\n",
    "        swapped = False\n",
    "        for j in range(0, n-i-1):\n",
    "            if arr[j] > arr[j+1]:\n",
    "                arr[j], arr[j+1] = arr[j+1], arr[j]\n",
    "                swapped = True\n",
    "        # If no two elements were swapped by inner loop, then break\n",
    "        if not swapped:\n",
    "            break\n",
    "    return arr\n",
    "\n",
    "# Example usage\n",
    "arr = [5, 1, 2, 3, 4]\n",
    "sorted_arr = bubble_sort(arr)\n",
    "print(\"Sorted array:\", sorted_arr)"
   ]
  },
  {
   "cell_type": "code",
   "execution_count": 10,
   "metadata": {},
   "outputs": [],
   "source": [
    "# Initial array: [5, 1, 2, 3, 4]\n",
    "\n",
    "# Pass 1 (i=0):\n",
    "# ├── j=0: 5 > 1 ✓ → [1, 5, 2, 3, 4]\n",
    "# ├── j=1: 5 > 2 ✓ → [1, 2, 5, 3, 4]\n",
    "# ├── j=2: 5 > 3 ✓ → [1, 2, 3, 5, 4]\n",
    "# └── j=3: 5 > 4 ✓ → [1, 2, 3, 4, 5]\n",
    "#     └── swapped = True\n",
    "\n",
    "# Pass 2 (i=1):\n",
    "# ├── j=0: 1 > 2 ✗ → [1, 2, 3, 4, 5]\n",
    "# ├── j=1: 2 > 3 ✗ → [1, 2, 3, 4, 5]\n",
    "# └── j=2: 3 > 4 ✗ → [1, 2, 3, 4, 5]\n",
    "#     └── swapped = False (break)\n",
    "\n",
    "# Final sorted array: [1, 2, 3, 4, 5]"
   ]
  },
  {
   "cell_type": "code",
   "execution_count": 11,
   "metadata": {},
   "outputs": [
    {
     "data": {
      "text/plain": [
       "True"
      ]
     },
     "execution_count": 11,
     "metadata": {},
     "output_type": "execute_result"
    }
   ],
   "source": [
    "(1, -1)>(-1, 2)"
   ]
  },
  {
   "cell_type": "code",
   "execution_count": 12,
   "metadata": {},
   "outputs": [
    {
     "data": {
      "text/plain": [
       "[(-1, 2), (1, 1), (2, 1), (3, 5), (5, 3), (7, 7)]"
      ]
     },
     "execution_count": 12,
     "metadata": {},
     "output_type": "execute_result"
    }
   ],
   "source": [
    "bubble_sort(coordinates)"
   ]
  },
  {
   "cell_type": "code",
   "execution_count": 13,
   "metadata": {},
   "outputs": [
    {
     "name": "stdout",
     "output_type": "stream",
     "text": [
      "[(1, 1), (2, 1), (-1, 2), (5, 3), (3, 5), (7, 7)]\n"
     ]
    }
   ],
   "source": [
    "def get_y(lst):\n",
    "  return lst[1]\n",
    "\n",
    "def bubble_sort(arr):\n",
    "  n = len(arr)\n",
    "  for i in range(n - 1):\n",
    "    for j in range(n - i - 1):\n",
    "      if get_y(arr[j]) > get_y(arr[j + 1]):\n",
    "        arr[j], arr[j + 1] = arr[j + 1], arr[j]\n",
    "  return arr\n",
    "\n",
    "coordinates = [(1, 1), (-1, 2), (3, 5), (5, 3), (7, 7), (2, 1)]\n",
    "\n",
    "sorted_coordinates = bubble_sort(coordinates)\n",
    "print(sorted_coordinates)"
   ]
  },
  {
   "cell_type": "code",
   "execution_count": 14,
   "metadata": {},
   "outputs": [
    {
     "name": "stdout",
     "output_type": "stream",
     "text": [
      "\n",
      "Sorted coordinates and their y-values:\n",
      "Coordinate: (1, 1), Y-value: 1\n",
      "Coordinate: (2, 1), Y-value: 1\n",
      "Coordinate: (-1, 2), Y-value: 2\n",
      "Coordinate: (5, 3), Y-value: 3\n",
      "Coordinate: (3, 5), Y-value: 5\n",
      "Coordinate: (7, 7), Y-value: 7\n",
      "\n",
      "Sorted Coordinates List:\n",
      "[(1, 1), (2, 1), (-1, 2), (5, 3), (3, 5), (7, 7)]\n"
     ]
    }
   ],
   "source": [
    "sorted_coordinates = bubble_sort(coordinates)\n",
    "\n",
    "# Print the y-coordinates of the sorted list\n",
    "print(\"\\nSorted coordinates and their y-values:\")\n",
    "for coord in sorted_coordinates:\n",
    "    print(f\"Coordinate: {coord}, Y-value: {get_y(coord)}\")\n",
    "\n",
    "\n",
    "print(\"\\nSorted Coordinates List:\")\n",
    "print(sorted_coordinates)"
   ]
  },
  {
   "cell_type": "code",
   "execution_count": 15,
   "metadata": {},
   "outputs": [
    {
     "name": "stdout",
     "output_type": "stream",
     "text": [
      "[{'name': 'A', 'marks': 50}, {'name': 'B', 'marks': 100}, {'name': 'C', 'marks': 40}, {'name': 'D', 'marks': 70}, {'name': 'E', 'marks': 60}]\n"
     ]
    }
   ],
   "source": [
    "students = [\n",
    "    {\"name\": \"A\", \"marks\": 50},\n",
    "    {\"name\": \"B\", \"marks\": 100},\n",
    "    {\"name\": \"C\", \"marks\": 40},\n",
    "    {\"name\": \"D\", \"marks\": 70},\n",
    "    {\"name\": \"E\", \"marks\": 60},\n",
    "]\n",
    "\n",
    "# Print the list of dictionaries\n",
    "print(students)"
   ]
  },
  {
   "cell_type": "code",
   "execution_count": 20,
   "metadata": {},
   "outputs": [
    {
     "name": "stdout",
     "output_type": "stream",
     "text": [
      "A\n",
      "50\n"
     ]
    }
   ],
   "source": [
    "print(students[0][\"name\"])\n",
    "# print(students[0][\"name\"])\n",
    "print(students[0][\"marks\"])"
   ]
  },
  {
   "cell_type": "code",
   "execution_count": 21,
   "metadata": {},
   "outputs": [
    {
     "name": "stdout",
     "output_type": "stream",
     "text": [
      "40\n"
     ]
    }
   ],
   "source": [
    "# Print the marks of the third student\n",
    "print(students[2][\"marks\"])  "
   ]
  },
  {
   "cell_type": "code",
   "execution_count": 22,
   "metadata": {},
   "outputs": [
    {
     "name": "stdout",
     "output_type": "stream",
     "text": [
      "Name: A, Marks: 50\n",
      "Name: B, Marks: 100\n",
      "Name: C, Marks: 40\n",
      "Name: D, Marks: 70\n",
      "Name: E, Marks: 60\n"
     ]
    }
   ],
   "source": [
    "\n",
    "# Loop through the list and print each student's name and marks\n",
    "for student in students:\n",
    "    print(f\"Name: {student['name']}, Marks: {student['marks']}\")"
   ]
  },
  {
   "cell_type": "code",
   "execution_count": 23,
   "metadata": {},
   "outputs": [
    {
     "name": "stdout",
     "output_type": "stream",
     "text": [
      "Average Marks: 64.0\n"
     ]
    }
   ],
   "source": [
    "\n",
    "# Calculate the average marks of all students\n",
    "total_marks = 0\n",
    "for student in students:\n",
    "    total_marks += student['marks']\n",
    "average_marks = total_marks / len(students)\n",
    "print(f\"Average Marks: {average_marks}\")"
   ]
  },
  {
   "cell_type": "code",
   "execution_count": 26,
   "metadata": {},
   "outputs": [
    {
     "name": "stdout",
     "output_type": "stream",
     "text": [
      "Students sorted by marks (descending):\n",
      "Name: B, Marks: 100\n",
      "Name: D, Marks: 70\n",
      "Name: E, Marks: 60\n",
      "Name: A, Marks: 50\n",
      "Name: C, Marks: 40\n"
     ]
    }
   ],
   "source": [
    "sorted_students = sorted(students, key=lambda student: student['marks'], reverse=True)\n",
    "print(\"Students sorted by marks (descending):\")\n",
    "for student in sorted_students:\n",
    "    print(f\"Name: {student['name']}, Marks: {student['marks']}\")\n",
    "\n",
    "# Step 1: sorted() function starts with this list\n",
    "# students = [\n",
    "#     {\"name\": \"A\", \"marks\": 50},  # index 0\n",
    "#     {\"name\": \"B\", \"marks\": 100}, # index 1\n",
    "#     {\"name\": \"C\", \"marks\": 40},  # index 2\n",
    "#     {\"name\": \"D\", \"marks\": 70},  # index 3\n",
    "#     {\"name\": \"E\", \"marks\": 60}   # index 4\n",
    "# ]\n",
    "\n",
    "# Step 2: Lambda function (student: student['marks']) is applied to each element\n",
    "# marks extracted: [50, 100, 40, 70, 60]\n",
    "\n",
    "# Step 3: Sort in descending order (reverse=True)\n",
    "# marks sorted: [100, 70, 60, 50, 40]\n",
    "\n",
    "# Step 4: Final sorted list will be:\n",
    "# [\n",
    "#     {\"name\": \"B\", \"marks\": 100},  # highest marks\n",
    "#     {\"name\": \"D\", \"marks\": 70},\n",
    "#     {\"name\": \"E\", \"marks\": 60},\n",
    "#     {\"name\": \"A\", \"marks\": 50},\n",
    "#     {\"name\": \"C\", \"marks\": 40}    # lowest marks\n",
    "# ]\n",
    "\n",
    "# Step 5: The loop will print:\n",
    "# Name: B, Marks: 100\n",
    "# Name: D, Marks: 70\n",
    "# Name: E, Marks: 60\n",
    "# Name: A, Marks: 50\n",
    "# Name: C, Marks: 40"
   ]
  },
  {
   "cell_type": "code",
   "execution_count": 25,
   "metadata": {},
   "outputs": [
    {
     "name": "stdout",
     "output_type": "stream",
     "text": [
      "Students sorted by name:\n",
      "Name: A, Marks: 50\n",
      "Name: B, Marks: 100\n",
      "Name: C, Marks: 40\n",
      "Name: D, Marks: 70\n",
      "Name: E, Marks: 60\n"
     ]
    }
   ],
   "source": [
    "# Sorting the students based on name (alphabetical order):\n",
    "sorted_students_name = sorted(students, key=lambda student: student['name'])\n",
    "print(\"Students sorted by name:\")\n",
    "for student in sorted_students_name:\n",
    "    print(f\"Name: {student['name']}, Marks: {student['marks']}\")"
   ]
  },
  {
   "cell_type": "code",
   "execution_count": 28,
   "metadata": {},
   "outputs": [
    {
     "name": "stdout",
     "output_type": "stream",
     "text": [
      "\u001b[1;31mSignature:\u001b[0m \u001b[0msorted\u001b[0m\u001b[1;33m(\u001b[0m\u001b[0miterable\u001b[0m\u001b[1;33m,\u001b[0m \u001b[1;33m/\u001b[0m\u001b[1;33m,\u001b[0m \u001b[1;33m*\u001b[0m\u001b[1;33m,\u001b[0m \u001b[0mkey\u001b[0m\u001b[1;33m=\u001b[0m\u001b[1;32mNone\u001b[0m\u001b[1;33m,\u001b[0m \u001b[0mreverse\u001b[0m\u001b[1;33m=\u001b[0m\u001b[1;32mFalse\u001b[0m\u001b[1;33m)\u001b[0m\u001b[1;33m\u001b[0m\u001b[1;33m\u001b[0m\u001b[0m\n",
      "\u001b[1;31mDocstring:\u001b[0m\n",
      "Return a new list containing all items from the iterable in ascending order.\n",
      "\n",
      "A custom key function can be supplied to customize the sort order, and the\n",
      "reverse flag can be set to request the result in descending order.\n",
      "\u001b[1;31mType:\u001b[0m      builtin_function_or_method"
     ]
    }
   ],
   "source": [
    "sorted?"
   ]
  },
  {
   "cell_type": "code",
   "execution_count": 29,
   "metadata": {},
   "outputs": [
    {
     "name": "stdout",
     "output_type": "stream",
     "text": [
      "32\n",
      "243\n",
      "16\n",
      "25\n",
      "<class 'function'>\n",
      "<class 'function'>\n",
      "5\n"
     ]
    }
   ],
   "source": [
    "def gen_exp(n):\n",
    "    def exp(x):\n",
    "        return x**n\n",
    "    return exp\n",
    "\n",
    "exp_5 = gen_exp(5)  # Creates a function that raises to the power of 5\n",
    "print(exp_5(2))    # Output: 32 (2^5)\n",
    "print(exp_5(3))    # Output: 243 (3^5)\n",
    "\n",
    "exp_2 = gen_exp(2)  # Creates a function that raises to the power of 2\n",
    "print(exp_2(4))    # Output: 16 (4^2)\n",
    "print(exp_2(5))    # Output: 25 (5^2)\n",
    "\n",
    "print(type(exp_5))   # Output: <class 'function'>\n",
    "print(type(gen_exp))  # Output: <class 'function'>\n",
    "\n",
    "# Demonstrating closure: The inner function 'exp' \"remembers\" the value of 'n'\n",
    "# from its enclosing function 'gen_exp', even after 'gen_exp' has finished executing.\n",
    "print(exp_5.__closure__[0].cell_contents)  # Output: 5 (Accessing 'n' from exp_5's closure)"
   ]
  },
  {
   "cell_type": "code",
   "execution_count": 30,
   "metadata": {},
   "outputs": [
    {
     "name": "stdout",
     "output_type": "stream",
     "text": [
      "(1, 4)\n"
     ]
    }
   ],
   "source": [
    "def func2(c, d):\n",
    "    return c, d\n",
    "\n",
    "def func1(a, b):\n",
    "    c = a**1  # c = 1**1 = 1\n",
    "    d = b**2  # d = 2**2 = 4\n",
    "    return lambda: func2(c, d)  # Returns a lambda function that captures c and d\n",
    "\n",
    "result = func1(1, 2)  # result is now the lambda function returned by func1\n",
    "\n",
    "print(result())  # Call the lambda function. Output: (1, 4)"
   ]
  },
  {
   "cell_type": "code",
   "execution_count": 31,
   "metadata": {},
   "outputs": [
    {
     "name": "stdout",
     "output_type": "stream",
     "text": [
      "50\n",
      "60\n",
      "5\n",
      "6\n"
     ]
    }
   ],
   "source": [
    "def multiply_n(n):\n",
    "    def multiply(x):\n",
    "        return x * n\n",
    "    return multiply\n",
    "\n",
    "mul_5 = multiply_n(5)  # Creates a function that multiplies by 5\n",
    "print(mul_5(10))      # Output: 50\n",
    "\n",
    "mul_6 = multiply_n(6)  # Creates a function that multiplies by 6\n",
    "print(mul_6(10))      # Output: 60\n",
    "\n",
    "# Demonstrating closure:\n",
    "print(mul_5.__closure__[0].cell_contents)  # Output: 5 (Accessing 'n' from mul_5's closure)\n",
    "print(mul_6.__closure__[0].cell_contents)  # Output: 6 (Accessing 'n' from mul_6's closure)"
   ]
  },
  {
   "cell_type": "code",
   "execution_count": 32,
   "metadata": {},
   "outputs": [
    {
     "name": "stdout",
     "output_type": "stream",
     "text": [
      "--------------------------------------------------\n",
      "Hello Everyone! How are you doing?\n",
      "--------------------------------------------------\n",
      "--------------------------------------------------\n",
      "Random cliche print statement!\n",
      "--------------------------------------------------\n"
     ]
    }
   ],
   "source": [
    "def print_border(func):\n",
    "    def wrapper():\n",
    "        print('-'*50)\n",
    "        func()\n",
    "        print('-'*50)\n",
    "    return wrapper\n",
    "\n",
    "@print_border\n",
    "def foo():\n",
    "    print('Hello Everyone! How are you doing?')\n",
    "\n",
    "@print_border\n",
    "def bar():\n",
    "    print('Random cliche print statement!')\n",
    "\n",
    "foo()\n",
    "bar()"
   ]
  },
  {
   "cell_type": "code",
   "execution_count": 33,
   "metadata": {},
   "outputs": [
    {
     "name": "stdout",
     "output_type": "stream",
     "text": [
      "--------------------------------------------------\n",
      "Hello Everyone! How are you?\n",
      "--------------------------------------------------\n"
     ]
    }
   ],
   "source": [
    "def pretty(func):\n",
    "    def inner():\n",
    "        print('-'*50)\n",
    "        func()\n",
    "        print('-'*50)\n",
    "    return inner\n",
    "\n",
    "def foo():\n",
    "    print(\"Hello Everyone! How are you?\")\n",
    "\n",
    "new_foo = pretty(foo)  # prettified version of foo\n",
    "\n",
    "new_foo()"
   ]
  },
  {
   "cell_type": "code",
   "execution_count": null,
   "metadata": {},
   "outputs": [],
   "source": []
  }
 ],
 "metadata": {
  "kernelspec": {
   "display_name": "Python 3",
   "language": "python",
   "name": "python3"
  },
  "language_info": {
   "codemirror_mode": {
    "name": "ipython",
    "version": 3
   },
   "file_extension": ".py",
   "mimetype": "text/x-python",
   "name": "python",
   "nbconvert_exporter": "python",
   "pygments_lexer": "ipython3",
   "version": "3.10.9"
  }
 },
 "nbformat": 4,
 "nbformat_minor": 2
}
