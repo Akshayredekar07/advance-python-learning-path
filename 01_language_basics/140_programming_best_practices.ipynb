{
 "cells": [
  {
   "cell_type": "markdown",
   "metadata": {},
   "source": [
    "### **Good Programming Practices with Usage of Locks**\n",
    "\n",
    "#### **Case-1:**\n",
    "It is highly recommended to write the code for releasing locks inside the `finally` block. The advantage is that the lock will always be released, whether an exception is raised or not, and whether it is handled or not.\n",
    "\n",
    "```python\n",
    "l = threading.Lock()\n",
    "l.acquire()\n",
    "try:\n",
    "    # Perform required safe operations\n",
    "finally:\n",
    "    l.release()\n"
   ]
  },
  {
   "cell_type": "code",
   "execution_count": 1,
   "metadata": {},
   "outputs": [
    {
     "name": "stdout",
     "output_type": "stream",
     "text": [
      "Good Evening:"
     ]
    },
    {
     "name": "stdout",
     "output_type": "stream",
     "text": [
      "Dhoni\n",
      "Good Evening:Dhoni\n",
      "Good Evening:Dhoni\n",
      "Good Evening:Dhoni\n",
      "Good Evening:Dhoni\n",
      "Good Evening:Dhoni\n",
      "Good Evening:Dhoni\n",
      "Good Evening:Dhoni\n",
      "Good Evening:Dhoni\n",
      "Good Evening:Dhoni\n",
      "Good Evening:Yuvraj\n",
      "Good Evening:Yuvraj\n",
      "Good Evening:Yuvraj\n",
      "Good Evening:Yuvraj\n",
      "Good Evening:Yuvraj\n",
      "Good Evening:Yuvraj\n",
      "Good Evening:Yuvraj\n",
      "Good Evening:Yuvraj\n",
      "Good Evening:Yuvraj\n",
      "Good Evening:Yuvraj\n",
      "Good Evening:Kohli\n",
      "Good Evening:Kohli\n",
      "Good Evening:Kohli\n",
      "Good Evening:Kohli\n",
      "Good Evening:Kohli\n",
      "Good Evening:Kohli\n",
      "Good Evening:Kohli\n",
      "Good Evening:Kohli\n",
      "Good Evening:Kohli\n",
      "Good Evening:Kohli\n"
     ]
    }
   ],
   "source": [
    "from threading import *\n",
    "import time\n",
    "\n",
    "l = Lock()\n",
    "\n",
    "def wish(name):\n",
    "    l.acquire()\n",
    "    try:\n",
    "        for i in range(10):\n",
    "            print(\"Good Evening:\", end='')\n",
    "            time.sleep(0.2)\n",
    "            print(name)\n",
    "    finally:\n",
    "        l.release()\n",
    "\n",
    "t1 = Thread(target=wish, args=(\"Dhoni\",))\n",
    "t2 = Thread(target=wish, args=(\"Yuvraj\",))\n",
    "t3 = Thread(target=wish, args=(\"Kohli\",))\n",
    "\n",
    "t1.start()\n",
    "t2.start()\n",
    "t3.start()\n"
   ]
  },
  {
   "cell_type": "markdown",
   "metadata": {},
   "source": [
    "\n",
    "#### **Case-2:**\n",
    "It is highly recommended to acquire a lock by using the `with` statement. The main advantage of the `with` statement is that the lock will be released automatically once control reaches the end of the `with` block, so we are not required to release it explicitly.\n",
    "\n",
    "This is similar to using the `with` statement for file handling."
   ]
  },
  {
   "cell_type": "markdown",
   "metadata": {},
   "source": [
    "**Example for File:**\n",
    "```python\n",
    "with open('demo.txt', 'w') as f:\n",
    "    f.write(\"Hello...\")\n",
    "```\n",
    "\n",
    "**Example for Lock:**\n",
    "```python\n",
    "lock = threading.Lock()\n",
    "with lock:\n",
    "    # Perform required safe operations\n",
    "    # Lock will be released automatically\n",
    "```\n"
   ]
  },
  {
   "cell_type": "code",
   "execution_count": 3,
   "metadata": {},
   "outputs": [
    {
     "name": "stdout",
     "output_type": "stream",
     "text": [
      "Good Evening:"
     ]
    },
    {
     "name": "stdout",
     "output_type": "stream",
     "text": [
      "Dhoni\n",
      "Good Evening:Dhoni\n",
      "Good Evening:Dhoni\n",
      "Good Evening:Dhoni\n",
      "Good Evening:Dhoni\n",
      "Good Evening:Dhoni\n",
      "Good Evening:Dhoni\n",
      "Good Evening:Dhoni\n",
      "Good Evening:Dhoni\n",
      "Good Evening:Dhoni\n",
      "Good Evening:Yuvraj\n",
      "Good Evening:Yuvraj\n",
      "Good Evening:Yuvraj\n",
      "Good Evening:Yuvraj\n",
      "Good Evening:Yuvraj\n",
      "Good Evening:Yuvraj\n",
      "Good Evening:Yuvraj\n",
      "Good Evening:Yuvraj\n",
      "Good Evening:Yuvraj\n",
      "Good Evening:Yuvraj\n",
      "Good Evening:Kohli\n",
      "Good Evening:Kohli\n",
      "Good Evening:Kohli\n",
      "Good Evening:Kohli\n",
      "Good Evening:Kohli\n",
      "Good Evening:Kohli\n",
      "Good Evening:Kohli\n",
      "Good Evening:Kohli\n",
      "Good Evening:Kohli\n",
      "Good Evening:Kohli\n"
     ]
    }
   ],
   "source": [
    "from threading import *\n",
    "import time\n",
    "\n",
    "lock = Lock()\n",
    "\n",
    "def wish(name):\n",
    "    with lock:\n",
    "        for i in range(10):\n",
    "            print(\"Good Evening:\", end='')\n",
    "            time.sleep(2)\n",
    "            print(name)\n",
    "\n",
    "t1 = Thread(target=wish, args=(\"Dhoni\",))\n",
    "t2 = Thread(target=wish, args=(\"Yuvraj\",))\n",
    "t3 = Thread(target=wish, args=(\"Kohli\",))\n",
    "\n",
    "t1.start()\n",
    "t2.start()\n",
    "t3.start()"
   ]
  },
  {
   "cell_type": "markdown",
   "metadata": {},
   "source": [
    "\n",
    "### **Q. What is the advantage of using the `with` statement to acquire a lock in threading?**\n",
    "The lock will be released automatically once control reaches the end of the `with` block, and we are not required to release it explicitly.\n",
    "\n",
    "\n",
    "**Note:**  \n",
    "We can use the `with` statement in multithreading for the following cases:  \n",
    "1. Lock  \n",
    "2. RLock  \n",
    "3. Semaphore  \n",
    "4. Condition  \n"
   ]
  },
  {
   "cell_type": "markdown",
   "metadata": {},
   "source": [
    "### **Case-1: Releasing Locks in `finally` Block**\n",
    "\n",
    "**Scenario: Banking System - Account Transfer**\n",
    "\n",
    "When transferring money between two bank accounts, you need to lock the accounts to prevent race conditions. Using a `finally` block ensures that the locks are always released, even if an exception occurs during the transfer."
   ]
  },
  {
   "cell_type": "code",
   "execution_count": null,
   "metadata": {},
   "outputs": [],
   "source": [
    "from threading import Lock\n",
    "\n",
    "class BankAccount:\n",
    "    def __init__(self, balance):\n",
    "        self.balance = balance\n",
    "        self.lock = Lock()\n",
    "\n",
    "    def transfer(self, amount, target_account):\n",
    "        self.lock.acquire()\n",
    "        try:\n",
    "            if self.balance >= amount:\n",
    "                self.balance -= amount\n",
    "                target_account.deposit(amount)\n",
    "                print(f\"Transferred {amount}. New balance: {self.balance}\")\n",
    "            else:\n",
    "                print(\"Insufficient funds.\")\n",
    "        finally:\n",
    "            self.lock.release()\n",
    "\n",
    "    def deposit(self, amount):\n",
    "        self.lock.acquire()\n",
    "        try:\n",
    "            self.balance += amount\n",
    "            print(f\"Deposited {amount}. New balance: {self.balance}\")\n",
    "        finally:\n",
    "            self.lock.release()\n",
    "\n",
    "# Example usage\n",
    "account_a = BankAccount(1000)\n",
    "account_b = BankAccount(500)\n",
    "\n",
    "account_a.transfer(300, account_b)"
   ]
  },
  {
   "cell_type": "markdown",
   "metadata": {},
   "source": [
    "### **Case-2: Using the `with` Statement for Locks**\n",
    "\n",
    "**Scenario: Logging System**\n",
    "\n",
    "When writing logs to a file from multiple threads, you need to ensure that only one thread writes at a time to avoid garbled logs. Using the `with` statement makes the lock management cleaner and ensures automatic release."
   ]
  },
  {
   "cell_type": "code",
   "execution_count": 4,
   "metadata": {},
   "outputs": [
    {
     "name": "stdout",
     "output_type": "stream",
     "text": [
      "Logged: Thread-1: Log-0\n",
      "Logged: Thread-2: Log-0\n",
      "Logged: Thread-3: Log-0\n",
      "Logged: Thread-3: Log-1\n",
      "Logged: Thread-2: Log-1\n",
      "Logged: Thread-1: Log-1\n",
      "Logged: Thread-1: Log-2\n",
      "Logged: Thread-2: Log-2\n",
      "Logged: Thread-3: Log-2\n",
      "Logged: Thread-1: Log-3\n",
      "Logged: Thread-3: Log-3\n",
      "Logged: Thread-2: Log-3\n",
      "Logged: Thread-2: Log-4\n",
      "Logged: Thread-3: Log-4\n",
      "Logged: Thread-1: Log-4\n"
     ]
    }
   ],
   "source": [
    "from threading import Lock, Thread\n",
    "import time\n",
    "\n",
    "class Logger:\n",
    "    def __init__(self, log_file):\n",
    "        self.log_file = log_file\n",
    "        self.lock = Lock()\n",
    "\n",
    "    def log(self, message):\n",
    "        with self.lock:\n",
    "            with open(self.log_file, 'a') as f:\n",
    "                f.write(message + '\\n')\n",
    "            print(f\"Logged: {message}\")\n",
    "\n",
    "# Example usage\n",
    "logger = Logger(\"application.log\")\n",
    "\n",
    "def write_logs(thread_id):\n",
    "    for i in range(5):\n",
    "        logger.log(f\"Thread-{thread_id}: Log-{i}\")\n",
    "        time.sleep(1)\n",
    "\n",
    "t1 = Thread(target=write_logs, args=(1,))\n",
    "t2 = Thread(target=write_logs, args=(2,))\n",
    "t3 = Thread(target=write_logs, args=(3,))\n",
    "\n",
    "t1.start()\n",
    "t2.start()\n",
    "t3.start()\n",
    "\n",
    "t1.join()\n",
    "t2.join()\n",
    "t3.join()"
   ]
  },
  {
   "cell_type": "markdown",
   "metadata": {},
   "source": [
    "1. **Case-1 (finally block)**:\n",
    "   - Suitable for scenarios where lock handling is complex, or multiple operations are grouped together.\n",
    "   - Explicit control over when the lock is released, ensuring it's always released even in error situations.\n",
    "\n",
    "2. **Case-2 (with statement)**:\n",
    "   - Simplifies lock management and is cleaner for simpler use cases.\n",
    "   - Automatically releases the lock at the end of the block without requiring explicit `finally`."
   ]
  },
  {
   "cell_type": "markdown",
   "metadata": {},
   "source": []
  },
  {
   "cell_type": "code",
   "execution_count": null,
   "metadata": {},
   "outputs": [],
   "source": []
  }
 ],
 "metadata": {
  "kernelspec": {
   "display_name": "Python 3",
   "language": "python",
   "name": "python3"
  },
  "language_info": {
   "codemirror_mode": {
    "name": "ipython",
    "version": 3
   },
   "file_extension": ".py",
   "mimetype": "text/x-python",
   "name": "python",
   "nbconvert_exporter": "python",
   "pygments_lexer": "ipython3",
   "version": "3.10.9"
  }
 },
 "nbformat": 4,
 "nbformat_minor": 2
}
