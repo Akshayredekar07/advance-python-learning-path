{
 "cells": [
  {
   "cell_type": "markdown",
   "metadata": {},
   "source": [
    "\n",
    "### **Interthread Communication Using Condition Object**\n",
    "\n",
    "The `Condition` object in Python provides a more advanced mechanism for interthread communication compared to the `Event` object. It represents a state change in the application (e.g., producing or consuming an item). Threads can wait for a specific condition and get notified once that condition occurs.\n",
    "\n",
    "- A `Condition` object allows one or more threads to wait until notified by another thread.\n",
    "- The `Condition` object is always associated with a lock (usually a `ReentrantLock`).\n",
    "\n",
    "### **Features**\n",
    "1. The `Condition` object has methods like `acquire()` and `release()` that internally call the corresponding methods of the associated lock.\n",
    "2. It provides additional methods like `wait()`, `notify()`, and `notifyAll()` for interthread communication.\n",
    "\n",
    "#### **Creating a Condition Object**\n"
   ]
  },
  {
   "cell_type": "code",
   "execution_count": null,
   "metadata": {},
   "outputs": [],
   "source": [
    "import threading\n",
    "\n",
    "condition = threading.Condition()"
   ]
  },
  {
   "cell_type": "markdown",
   "metadata": {},
   "source": [
    "\n",
    "### **Methods of `Condition`**\n",
    "\n",
    "| Method            | Description                                                                 |\n",
    "|--------------------|-----------------------------------------------------------------------------|\n",
    "| `acquire()`        | Acquires the `Condition` object before performing actions (like producing/consuming). It acquires the internal lock. |\n",
    "| `release()`        | Releases the `Condition` object after completing actions. It releases the internal lock. |\n",
    "| `wait()`/`wait(time)` | Waits until receiving a notification or until the specified time expires. |\n",
    "| `notify()`         | Notifies one waiting thread.                                               |\n",
    "| `notifyAll()`      | Notifies all waiting threads.                                              |\n",
    "\n",
    "\n",
    "\n",
    "### **Case Study: Producer-Consumer Problem**\n",
    "\n",
    "### **Producer Thread**\n",
    "The producer thread:\n",
    "1. Acquires the `Condition`.\n",
    "2. Produces an item.\n",
    "3. Adds the item to the resource.\n",
    "4. Notifies the consumer thread(s) that a new item is available.\n",
    "5. Releases the `Condition`.\n",
    "\n",
    "```python\n",
    "# Producer Thread\n",
    "condition.acquire()\n",
    "# Produce item\n",
    "...  # Generate the item\n",
    "# Add item to the resource\n",
    "condition.notify()  # Signal that a new item is available (use notifyAll() if multiple consumers)\n",
    "condition.release()\n",
    "```\n",
    "\n",
    "### **Consumer Thread**\n",
    "The consumer thread:\n",
    "1. Acquires the `Condition`.\n",
    "2. Waits for a notification.\n",
    "3. Consumes the item once notified.\n",
    "4. Releases the `Condition`.\n",
    "\n",
    "```python\n",
    "# Consumer Thread\n",
    "condition.acquire()\n",
    "condition.wait()  # Wait until the producer notifies\n",
    "# Consume item\n",
    "...  # Process the consumed item\n",
    "condition.release()\n",
    "```\n",
    "\n",
    "\n",
    "### **Producer-Consumer Flow**\n",
    "1. A producer thread generates an item and adds it to a shared resource (e.g., a queue or buffer).\n",
    "2. It uses `notify()` to inform the consumer thread(s) that an item is ready.\n",
    "3. The consumer thread(s), waiting on the `Condition`, are notified and proceed to consume the item.\n",
    "\n",
    "By using the `Condition` object, producers and consumers can synchronize their actions efficiently.\n",
    "\n"
   ]
  },
  {
   "cell_type": "code",
   "execution_count": 1,
   "metadata": {},
   "outputs": [
    {
     "name": "stdout",
     "output_type": "stream",
     "text": [
      "Consumer waiting for updation\n",
      "Producer Producing Items\n",
      "Producer giving Notification\n",
      "Consumer got notification & consuming the item\n"
     ]
    }
   ],
   "source": [
    "from threading import Condition, Thread\n",
    "\n",
    "def consume(c):\n",
    "    c.acquire()  # Acquires the condition lock.\n",
    "    print(\"Consumer waiting for updation\")\n",
    "    c.wait()  # Waits for a notification from the producer.\n",
    "    print(\"Consumer got notification & consuming the item\")\n",
    "    c.release()  # Releases the condition lock.\n",
    "\n",
    "def produce(c):\n",
    "    c.acquire()  # Acquires the condition lock.\n",
    "    print(\"Producer Producing Items\")\n",
    "    print(\"Producer giving Notification\")\n",
    "    c.notify()  # Sends a notification to the waiting consumer thread.\n",
    "    c.release()  # Releases the condition lock.\n",
    "\n",
    "c = Condition()  # Creates a Condition object for synchronization.\n",
    "\n",
    "# Creates two threads: one for consuming and one for producing.\n",
    "t1 = Thread(target=consume, args=(c,))\n",
    "t2 = Thread(target=produce, args=(c,))\n",
    "\n",
    "t1.start()  # Starts the consumer thread.\n",
    "t2.start()  # Starts the producer thread.\n"
   ]
  },
  {
   "cell_type": "code",
   "execution_count": null,
   "metadata": {},
   "outputs": [],
   "source": [
    "from threading import Condition, Thread\n",
    "import time\n",
    "import random\n",
    "\n",
    "# Shared resource\n",
    "items = []\n",
    "\n",
    "# Producer function\n",
    "def produce(c):\n",
    "    while True:\n",
    "        c.acquire()  # Acquire the condition lock\n",
    "        item = random.randint(1, 100)  # Generate a random item\n",
    "        print(f\"Producer Producing Item: {item}\")\n",
    "        items.append(item)  # Add the item to the shared list\n",
    "        print(\"Producer giving Notification\")\n",
    "        c.notify()  # Notify the consumer that an item is available\n",
    "        c.release()  # Release the condition lock\n",
    "        time.sleep(5)  # Sleep for 5 seconds before producing the next item\n",
    "\n",
    "# Consumer function\n",
    "def consume(c):\n",
    "    while True:\n",
    "        c.acquire()  # Acquire the condition lock\n",
    "        print(\"Consumer waiting for updation\")\n",
    "        c.wait()  # Wait for the producer's notification\n",
    "        item = items.pop()  # Consume (remove) the last item from the list\n",
    "        print(f\"Consumer consumed the item: {item}\")\n",
    "        c.release()  # Release the condition lock\n",
    "        time.sleep(5)  # Sleep for 5 seconds before consuming the next item\n",
    "\n",
    "# Main execution\n",
    "if __name__ == \"__main__\":\n",
    "    c = Condition()  # Create a Condition object\n",
    "\n",
    "    # Create threads for producer and consumer\n",
    "    producer_thread = Thread(target=produce, args=(c,))\n",
    "    consumer_thread = Thread(target=consume, args=(c,))\n",
    "\n",
    "    # Start the threads\n",
    "    producer_thread.start()\n",
    "    consumer_thread.start()\n",
    "\n",
    "    # Wait for threads to complete (optional for infinite loops)\n",
    "    producer_thread.join()\n",
    "    consumer_thread.join()\n"
   ]
  },
  {
   "cell_type": "markdown",
   "metadata": {},
   "source": [
    "- The **consumer thread** is responsible for **calling `wait()`** on the `Condition` object because it needs to pause until the producer provides an update.\n",
    "- The **producer thread** is responsible for **calling `notify()` or `notifyAll()`** on the `Condition` object because it updates the shared resource and signals the consumer to proceed.\n",
    "\n",
    "This separation of responsibilities ensures smooth coordination between the producer and consumer threads."
   ]
  },
  {
   "cell_type": "markdown",
   "metadata": {},
   "source": [
    "### **Interthread Communication by Using Queue**\n",
    "\n",
    "Queues are one of the most advanced mechanisms for interthread communication and for sharing data between threads. Here's an overview:\n",
    "\n",
    "\n",
    "### **Advantages of Queues**\n",
    "- **Built-in Synchronization**:  \n",
    "  Queue internally uses a `Condition` object, which in turn uses a `Lock`. This eliminates the need for explicit synchronization when using queues.\n",
    "  \n",
    "- **Ease of Use**:  \n",
    "  By using the queue module, synchronization complexities are automatically handled.\n",
    "\n",
    "\n",
    "\n",
    "### **Importing the Queue Module**\n",
    "To use queues, you must first import the `queue` module:  \n",
    "```python\n",
    "import queue\n",
    "```\n",
    "\n",
    "\n",
    "### **Creating a Queue Object**\n",
    "To create a queue object:  \n",
    "```python\n",
    "q = queue.Queue()\n",
    "```\n",
    "\n",
    "\n",
    "### **Important Methods of Queue**\n",
    "1. **`put()`**:  \n",
    "   Used by the **Producer Thread** to insert data into the queue.  \n",
    "   - Automatically acquires the lock before inserting data.  \n",
    "   - Releases the lock after insertion.  \n",
    "   - If the queue is full, the producer thread will wait internally using `wait()`.\n",
    "\n",
    "2. **`get()`**:  \n",
    "   Used by the **Consumer Thread** to remove and retrieve data from the queue.  \n",
    "   - Automatically acquires the lock before removing data.  \n",
    "   - Releases the lock after removal.  \n",
    "   - If the queue is empty, the consumer thread will wait internally using `wait()`.  \n",
    "   - Once the queue is updated, the consumer thread is notified automatically.\n",
    "\n",
    "\n",
    "### **Producer Thread Logic**\n",
    "The producer thread uses the `put()` method:  \n",
    "1. Acquires the lock automatically.  \n",
    "2. Checks if the queue is full.  \n",
    "3. If not full, adds data to the queue.  \n",
    "4. Releases the lock automatically.\n",
    "\n",
    "\n",
    "### **Consumer Thread Logic**\n",
    "The consumer thread uses the `get()` method:  \n",
    "1. Acquires the lock automatically.  \n",
    "2. Checks if the queue is empty.  \n",
    "3. If not empty, retrieves and removes data from the queue.  \n",
    "4. Releases the lock automatically.  \n",
    "5. If the queue is empty, the thread waits until notified.\n",
    "\n",
    "\n",
    "The `queue` module takes care of **locking** for us, which is a significant advantage, as it simplifies interthread communication and synchronization."
   ]
  },
  {
   "cell_type": "markdown",
   "metadata": {},
   "source": [
    "### **Python Supports**\n",
    "1. FIFO Queue\n",
    "2. LIFO Queue\n",
    "3. Priority Queue"
   ]
  },
  {
   "cell_type": "markdown",
   "metadata": {},
   "source": [
    "1. FIFO Queue:\n",
    "In which order we put items into the queue, in the same order the items will come\n",
    "out (FIFO)"
   ]
  },
  {
   "cell_type": "code",
   "execution_count": 2,
   "metadata": {},
   "outputs": [
    {
     "name": "stdout",
     "output_type": "stream",
     "text": [
      "10 5 15 20 "
     ]
    }
   ],
   "source": [
    "import queue\n",
    "q=queue.Queue()\n",
    "q.put(10)\n",
    "q.put(5)\n",
    "q.put(15)\n",
    "q.put(20)\n",
    "\n",
    "while not q.empty():\n",
    "    print(q.get(), end=' ')"
   ]
  },
  {
   "cell_type": "markdown",
   "metadata": {},
   "source": [
    "#### **LIFO Queue**"
   ]
  },
  {
   "cell_type": "code",
   "execution_count": 3,
   "metadata": {},
   "outputs": [
    {
     "name": "stdout",
     "output_type": "stream",
     "text": [
      "20 15 5 10 "
     ]
    }
   ],
   "source": [
    "import queue\n",
    "q=queue.LifoQueue()\n",
    "q.put(10)\n",
    "q.put(5)\n",
    "q.put(15)\n",
    "q.put(20)\n",
    "\n",
    "while not q.empty():\n",
    "    print(q.get(), end=' ')"
   ]
  },
  {
   "cell_type": "markdown",
   "metadata": {},
   "source": [
    "#### **Priority Queue**"
   ]
  },
  {
   "cell_type": "code",
   "execution_count": 5,
   "metadata": {},
   "outputs": [
    {
     "name": "stdout",
     "output_type": "stream",
     "text": [
      "(1, 5) (2, 10) (3, 15) (4, 20) "
     ]
    }
   ],
   "source": [
    "import queue\n",
    "q = queue.PriorityQueue()\n",
    "# Add items to the queue as (priority, value)\n",
    "q.put((2, 10))\n",
    "q.put((1, 5))\n",
    "q.put((3, 15))\n",
    "q.put((4, 20))\n",
    "\n",
    "while not q.empty():\n",
    "    print(q.get(), end=' ')\n"
   ]
  },
  {
   "cell_type": "code",
   "execution_count": 9,
   "metadata": {},
   "outputs": [
    {
     "name": "stdout",
     "output_type": "stream",
     "text": [
      "Task A\n",
      "Task B\n",
      "Task C\n",
      "Task D\n"
     ]
    }
   ],
   "source": [
    "import queue\n",
    "\n",
    "# Create a PriorityQueue\n",
    "q = queue.PriorityQueue()\n",
    "\n",
    "# Add items to the queue with priorities\n",
    "q.put((3, \"Task C\"))\n",
    "q.put((1, \"Task A\"))\n",
    "q.put((4, \"Task D\"))\n",
    "q.put((2, \"Task B\"))\n",
    "\n",
    "# Retrieve and print items in priority order\n",
    "while not q.empty():\n",
    "    _, task = q.get()\n",
    "    print(f\"{task}\")\n"
   ]
  },
  {
   "cell_type": "code",
   "execution_count": null,
   "metadata": {},
   "outputs": [],
   "source": []
  }
 ],
 "metadata": {
  "kernelspec": {
   "display_name": "Python 3",
   "language": "python",
   "name": "python3"
  },
  "language_info": {
   "codemirror_mode": {
    "name": "ipython",
    "version": 3
   },
   "file_extension": ".py",
   "mimetype": "text/x-python",
   "name": "python",
   "nbconvert_exporter": "python",
   "pygments_lexer": "ipython3",
   "version": "3.10.9"
  }
 },
 "nbformat": 4,
 "nbformat_minor": 2
}
