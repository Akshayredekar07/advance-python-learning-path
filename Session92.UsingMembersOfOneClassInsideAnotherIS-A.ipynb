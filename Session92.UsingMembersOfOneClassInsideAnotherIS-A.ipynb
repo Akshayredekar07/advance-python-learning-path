{
 "cells": [
  {
   "cell_type": "markdown",
   "metadata": {},
   "source": [
    "Using Members of one class inside another class:\n",
    "\n",
    "2 ways\n",
    "\n",
    "- HAS-A relation\n",
    "- IS-A relation"
   ]
  },
  {
   "cell_type": "markdown",
   "metadata": {},
   "source": [
    "IS-A relation also called as Inheritance"
   ]
  },
  {
   "cell_type": "code",
   "execution_count": 1,
   "metadata": {},
   "outputs": [
    {
     "name": "stdout",
     "output_type": "stream",
     "text": [
      "m2 method\n",
      "m1 method\n"
     ]
    }
   ],
   "source": [
    "class P:\n",
    "    def m1(self):\n",
    "        print(\"m1 method\")\n",
    "\n",
    "class C(P):\n",
    "    def m2(self):\n",
    "        print(\"m2 method\")\n",
    "\n",
    "\n",
    "c = C()\n",
    "c.m2()\n",
    "c.m1()"
   ]
  },
  {
   "cell_type": "markdown",
   "metadata": {},
   "source": [
    "- Parent class functionality use in child class \n",
    "- Code reusability\n",
    "- extendability"
   ]
  },
  {
   "cell_type": "code",
   "execution_count": null,
   "metadata": {},
   "outputs": [],
   "source": [
    "class P:\n",
    "    pass\n",
    "    # 10 methods\n",
    "\n",
    "class C(P):\n",
    "    pass\n",
    "    # 5 methods    \n",
    "\n",
    "\n",
    "p=P()\n",
    "# p.10 methods    \n",
    "c=C()\n",
    "# c.15 methods    "
   ]
  },
  {
   "cell_type": "markdown",
   "metadata": {},
   "source": [
    "10 Methods of parent extended in child "
   ]
  },
  {
   "cell_type": "code",
   "execution_count": null,
   "metadata": {},
   "outputs": [],
   "source": []
  },
  {
   "cell_type": "markdown",
   "metadata": {},
   "source": [
    "- Software versions\n",
    "\n",
    "- Base model(10 facilities)\n",
    "- Medium model(5 extra facilities with 10 existing)\n",
    "- Advanced model(Another 5 extra with exisitng 15 facilites)\n",
    "\n",
    "- Basic model ---> Medium model ---> Top Model"
   ]
  },
  {
   "cell_type": "markdown",
   "metadata": {},
   "source": [
    "<i>Normal TV</i><br>\n",
    "<i>QLED TV</i><br>\n",
    "<i>OLED TV</i>\n"
   ]
  },
  {
   "cell_type": "markdown",
   "metadata": {},
   "source": []
  },
  {
   "cell_type": "code",
   "execution_count": 5,
   "metadata": {},
   "outputs": [
    {
     "name": "stdout",
     "output_type": "stream",
     "text": [
      "Parent Constructor Executed!\n",
      "10\n",
      "20\n",
      "Parent Instance method\n",
      "Parent Class method\n",
      "Parent Static method\n"
     ]
    }
   ],
   "source": [
    "class Parent:\n",
    "    a=10\n",
    "    def __init__(self):\n",
    "        print(\"Parent Constructor Executed!\")\n",
    "        self.b=20\n",
    "\n",
    "    def m1(self):\n",
    "        print('Parent Instance method')\n",
    "\n",
    "    @classmethod\n",
    "    def m2(cls):\n",
    "        print(\"Parent Class method\")\n",
    "\n",
    "    @staticmethod\n",
    "    def m3():\n",
    "        print(\"Parent Static method\")           \n",
    "\n",
    "\n",
    "class Child(Parent):\n",
    "    pass\n",
    "\n",
    "\n",
    "child = Child()\n",
    "print(child.a)\n",
    "print(child.b)\n",
    "child.m1()\n",
    "child.m2()\n",
    "child.m3()\n",
    "#Whenever you are creating object if the child class not having constructor theb by default parent class constructor will get executed\n",
    "\n",
    "#  Hence even the child class does not contains the single functionality then also it has parent functionality "
   ]
  },
  {
   "cell_type": "code",
   "execution_count": 2,
   "metadata": {},
   "outputs": [
    {
     "name": "stdout",
     "output_type": "stream",
     "text": [
      "Eat misal and drink mountain duo!\n",
      "Coding python\n",
      "Employee Name:  Durga\n",
      "Employee Age:  41\n",
      "Employee Eno:  3565\n",
      "Employee Esal:  70000\n"
     ]
    }
   ],
   "source": [
    "class Person:\n",
    "    def __init__(self, name, age) -> None:\n",
    "        self.name=name\n",
    "        self.age=age\n",
    "\n",
    "    def eatdrink(self):\n",
    "        print(\"Eat misal and drink mountain duo!\")\n",
    "\n",
    "\n",
    "class Employee(Person):\n",
    "    def __init__(self, name, age, eno, esal) -> None:\n",
    "        self.name = name\n",
    "        self.age = age\n",
    "        self.eno = eno\n",
    "        self.esal = esal\n",
    "\n",
    "    def work(self):\n",
    "        print(\"Coding python\")        \n",
    "\n",
    "    def emp_info(self):\n",
    "        print(\"Employee Name: \", self.name)            \n",
    "        print(\"Employee Age: \", self.age)            \n",
    "        print(\"Employee Eno: \", self.eno)            \n",
    "        print(\"Employee Esal: \", self.esal)   \n",
    "\n",
    "\n",
    "e= Employee(\"Durga\", 41, 3565, 70000)\n",
    "e.eatdrink()\n",
    "e.work()\n",
    "e.emp_info()                 "
   ]
  },
  {
   "cell_type": "code",
   "execution_count": 4,
   "metadata": {},
   "outputs": [
    {
     "name": "stdout",
     "output_type": "stream",
     "text": [
      "Child Constructor!\n"
     ]
    }
   ],
   "source": [
    "class P:\n",
    "    def __init__(self) -> None:\n",
    "        print(\"Parent Constructor!\")\n",
    "\n",
    "class C(P):\n",
    "    def __init__(self) -> None:\n",
    "        print(\"Child Constructor!\")\n",
    "\n",
    "c = C()    "
   ]
  },
  {
   "cell_type": "markdown",
   "metadata": {},
   "source": [
    "    - If we define the child then child constructor will get executed else parent constructor get executed, but in java both parent and child constuctor will get executed         "
   ]
  },
  {
   "cell_type": "code",
   "execution_count": 9,
   "metadata": {},
   "outputs": [
    {
     "name": "stdout",
     "output_type": "stream",
     "text": [
      "Child Constructor!\n",
      "{'b': 777}\n"
     ]
    }
   ],
   "source": [
    "\n",
    "class P:\n",
    "    def __init__(self) -> None:\n",
    "        print(\"Parent Constructor!\")\n",
    "        self.a = 999\n",
    "\n",
    "class C(P):\n",
    "    def __init__(self) -> None:\n",
    "        print(\"Child Constructor!\")\n",
    "        self.b = 777\n",
    "\n",
    "c = C()\n",
    "#print(c.a) #AttributeError: 'C' object has no attribute 'a'\n",
    "print(c.__dict__)"
   ]
  },
  {
   "cell_type": "markdown",
   "metadata": {},
   "source": [
    " If i want to execute parent constuctor also\n",
    "\n",
    "then use super() method"
   ]
  },
  {
   "cell_type": "code",
   "execution_count": 11,
   "metadata": {},
   "outputs": [
    {
     "name": "stdout",
     "output_type": "stream",
     "text": [
      "Parent Constructor!\n",
      "Address of self in P:  2478979531792\n",
      "Child Constructor!\n",
      "Address of self in C:  2478979531792\n",
      "{'a': 999, 'b': 777}\n",
      "Address of self in c(obj):  2478985861392\n"
     ]
    }
   ],
   "source": [
    "class P:\n",
    "    def __init__(self) -> None:\n",
    "        print(\"Parent Constructor!\")\n",
    "        self.a = 999\n",
    "        print(\"Address of self in P: \", id(c))\n",
    "\n",
    "class C(P):\n",
    "    def __init__(self) -> None:\n",
    "        super().__init__()\n",
    "        print(\"Child Constructor!\")\n",
    "        self.b = 777\n",
    "        print(\"Address of self in C: \", id(c))\n",
    "\n",
    "c = C()  \n",
    "print(c.__dict__)\n",
    "print(\"Address of self in c(obj): \", id(c))"
   ]
  },
  {
   "cell_type": "code",
   "execution_count": 7,
   "metadata": {},
   "outputs": [
    {
     "name": "stdout",
     "output_type": "stream",
     "text": [
      "Eat misal and drink mountain duo!\n",
      "Coding python\n",
      "Employee Name:  Durga\n",
      "Employee Age:  41\n",
      "Employee Eno:  3565\n",
      "Employee Esal:  70000\n"
     ]
    }
   ],
   "source": [
    "class Person:\n",
    "    def __init__(self, name, age) -> None:\n",
    "        self.name=name\n",
    "        self.age=age\n",
    "\n",
    "    def eatdrink(self):\n",
    "        print(\"Eat misal and drink mountain duo!\")\n",
    "\n",
    "\n",
    "class Employee(Person):\n",
    "    def __init__(self, name, age, eno, esal) -> None:\n",
    "        # self.name = name\n",
    "        # self.age = age\n",
    "        super().__init__(name, age)\n",
    "        self.eno = eno\n",
    "        self.esal = esal\n",
    "\n",
    "    def work(self):\n",
    "        print(\"Coding python\")        \n",
    "\n",
    "    def emp_info(self):\n",
    "        print(\"Employee Name: \", self.name)            \n",
    "        print(\"Employee Age: \", self.age)            \n",
    "        print(\"Employee Eno: \", self.eno)            \n",
    "        print(\"Employee Esal: \", self.esal)   \n",
    "\n",
    "\n",
    "e= Employee(\"Durga\", 41, 3565, 70000)\n",
    "e.eatdrink()\n",
    "e.work()\n",
    "e.emp_info()                 "
   ]
  },
  {
   "cell_type": "code",
   "execution_count": null,
   "metadata": {},
   "outputs": [],
   "source": [
    "# revisred HAS-A relationship"
   ]
  }
 ],
 "metadata": {
  "kernelspec": {
   "display_name": "Python 3",
   "language": "python",
   "name": "python3"
  },
  "language_info": {
   "codemirror_mode": {
    "name": "ipython",
    "version": 3
   },
   "file_extension": ".py",
   "mimetype": "text/x-python",
   "name": "python",
   "nbconvert_exporter": "python",
   "pygments_lexer": "ipython3",
   "version": "3.11.5"
  }
 },
 "nbformat": 4,
 "nbformat_minor": 2
}
