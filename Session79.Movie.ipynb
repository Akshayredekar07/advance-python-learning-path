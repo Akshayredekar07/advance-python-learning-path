{
 "cells": [
  {
   "cell_type": "code",
   "execution_count": 3,
   "id": "c4063b75-f836-42ce-8f34-3df553648f76",
   "metadata": {},
   "outputs": [],
   "source": [
    "\n",
    "class Movie:\n",
    "    def __init__(self, title, actor, actress):\n",
    "        self.title = title\n",
    "        self.actor = actor\n",
    "        self.actress = actress\n",
    "\n",
    "    def movie_info(self):\n",
    "        print(\"\\n\")\n",
    "        print(\"Movie name: \", self.title)\n",
    "        print(\"Actor name: \", self.actor)\n",
    "        print(\"Actress name: \", self.actress)\n",
    "        "
   ]
  },
  {
   "cell_type": "code",
   "execution_count": 5,
   "id": "209eb839-018b-4684-a867-76bf237264ab",
   "metadata": {},
   "outputs": [],
   "source": [
    "\n",
    "# list_of_movies = []\n",
    "\n",
    "# while True:\n",
    "#     title = input(\"Enter movie name: \")\n",
    "#     actor = input(\"Enter actor name: \")\n",
    "#     actress = input(\"Enter actress name: \")\n",
    "#     m = Movie(title, actor, actress)\n",
    "#     list_of_movies.append(m)\n",
    "#     print(\"Movie added successfully!\")\n",
    "#     option = input(\"Do you want to add more movie [Yes/No]: \")\n",
    "#     if option.lower() == 'no':\n",
    "#         break\n",
    "        \n",
    "# print(\"\\nAll movies information\")\n",
    "# for movie in list_of_movies:\n",
    "#     movie.movie_info()\n",
    "    "
   ]
  },
  {
   "cell_type": "markdown",
   "id": "7a8f5e2a-21ff-4d0c-9851-ced8207e9b7f",
   "metadata": {},
   "source": [
    "<i>\n",
    "Types of variables: <br>\n",
    "1. Instance variables/Object level variables<br>\n",
    "2. Static variables/Class level variables<br>\n",
    "3. Local variables/Method level variables<br>\n",
    "</i>"
   ]
  },
  {
   "cell_type": "markdown",
   "id": "931f3ea2-da20-4715-8928-0033e49fa431",
   "metadata": {},
   "source": [
    "<i>\n",
    "    - If the value of variable is varied from object to object, such type of variables are called Instance variables<br>\n",
    "    - For every object a seperate copy will be created<br>\n",
    "    - In general we can define instance variable inside constructor by using self.<br>\n",
    "</i>"
   ]
  },
  {
   "cell_type": "markdown",
   "id": "9d1761b4-678b-4b2b-9a25-25cca73dd715",
   "metadata": {},
   "source": [
    "<i>\n",
    "    - If the value of variable is not varied from object to object then it is not recommended to declare that variable as instance variable, declare as static/class variable <br>\n",
    "    - A single copy will be created and shared to every object<br>\n",
    "    -Most of the times static variables should be declared inside class directly\n",
    "</i>"
   ]
  },
  {
   "cell_type": "markdown",
   "id": "c1ee328c-72c6-47e1-a75c-3a65d7bde845",
   "metadata": {},
   "source": [
    "<i>\n",
    "    - To meet the temporary requirement we can declare variable directly inside a method is called local variable\n",
    "</i>"
   ]
  },
  {
   "cell_type": "code",
   "execution_count": 6,
   "id": "913da7d4-c3cd-4691-a1fa-bd17b7217bd6",
   "metadata": {},
   "outputs": [],
   "source": [
    "\n",
    "class Student:\n",
    "    \n",
    "    college_name = \"Durgasoft\" #static variable\n",
    "    \n",
    "    def __init__(self, x, y):\n",
    "        self.name = x\n",
    "        self.branch = y\n",
    "\n",
    "    def info(self):\n",
    "        x = 10 # local variable\n",
    "\n",
    "        "
   ]
  },
  {
   "cell_type": "markdown",
   "id": "5aec67b8-479d-4186-89b7-41e44dde9ed2",
   "metadata": {},
   "source": [
    "<i>\n",
    "Types of Methods: <br>\n",
    "1. Instance method<br>\n",
    "2. class method<br>\n",
    "3. Static method<br>\n",
    "</i>"
   ]
  },
  {
   "cell_type": "code",
   "execution_count": null,
   "id": "7eb809ec-6a23-4652-96c8-4f9dfeec4cec",
   "metadata": {},
   "outputs": [],
   "source": [
    "\n",
    "class Student:\n",
    "    college_name = \"Durgasoft\"\n",
    "    def __init__(self, x, y):\n",
    "        self.name = x\n",
    "        self.branch = y\n",
    "\n",
    "    def student_info(self):\n",
    "        print(\"Student name: \", self.name)\n",
    "        print(\"Student branch: \", self.branch)\n",
    "\n",
    "        "
   ]
  },
  {
   "cell_type": "code",
   "execution_count": null,
   "id": "a2a1917e-85a4-410a-bf47-abaada18efd1",
   "metadata": {},
   "outputs": [],
   "source": [
    "s1 = Student(\"Durga\", 23)\n",
    "s1.student _info()"
   ]
  },
  {
   "cell_type": "markdown",
   "id": "b35408e8-4b06-419e-98a0-0b26d19d1319",
   "metadata": {},
   "source": [
    "1. When accessing instance variables, the first argument to the instance method should be self, regardless of whether we are using static or local variables.\n",
    "2. If we are not using any instance variable then it is class method or static method\n",
    "3. https://app.eraser.io/workspace/DJcAnDIQn1iNAroQKRSR?origin=share"
   ]
  },
  {
   "cell_type": "code",
   "execution_count": null,
   "id": "30ffd825-3497-4d73-8f54-e72d16372deb",
   "metadata": {},
   "outputs": [],
   "source": []
  }
 ],
 "metadata": {
  "kernelspec": {
   "display_name": "Python 3 (ipykernel)",
   "language": "python",
   "name": "python3"
  },
  "language_info": {
   "codemirror_mode": {
    "name": "ipython",
    "version": 3
   },
   "file_extension": ".py",
   "mimetype": "text/x-python",
   "name": "python",
   "nbconvert_exporter": "python",
   "pygments_lexer": "ipython3",
   "version": "3.11.5"
  }
 },
 "nbformat": 4,
 "nbformat_minor": 5
}
