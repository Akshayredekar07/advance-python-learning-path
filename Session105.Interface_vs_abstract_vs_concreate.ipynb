{
 "cells": [
  {
   "cell_type": "markdown",
   "metadata": {},
   "source": [
    "**Interfaces In Python:** \n",
    "- In general if an abstract class contains only abstract methods such type of abstract class is considered as interface. "
   ]
  },
  {
   "cell_type": "markdown",
   "metadata": {},
   "source": [
    "Any requirement specification is considered as Interface"
   ]
  },
  {
   "cell_type": "markdown",
   "metadata": {},
   "source": [
    "100% pure abstract class is considered as Interface\n"
   ]
  },
  {
   "cell_type": "code",
   "execution_count": null,
   "metadata": {},
   "outputs": [],
   "source": [
    "from abc import *\n",
    "class CollegeAutomationSystem(ABC):\n",
    "    @abstractmethod\n",
    "    def getStudentsMarks(self):\n",
    "        pass\n",
    "    @abstractmethod\n",
    "    def updateStudentMarks(self):\n",
    "        pass\n",
    "    "
   ]
  }
 ],
 "metadata": {
  "kernelspec": {
   "display_name": "Python 3",
   "language": "python",
   "name": "python3"
  },
  "language_info": {
   "name": "python",
   "version": "3.11.5"
  }
 },
 "nbformat": 4,
 "nbformat_minor": 2
}
