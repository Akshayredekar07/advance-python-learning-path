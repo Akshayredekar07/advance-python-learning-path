{
 "cells": [
  {
   "cell_type": "markdown",
   "metadata": {},
   "source": [
    "<i> Loan Functionality</i>"
   ]
  },
  {
   "cell_type": "markdown",
   "metadata": {},
   "source": [
    "Without Inheritance:\n",
    "\n",
    "\n",
    "```python\n",
    "class HomeLoan:\n",
    "    250 methods\n",
    "\n",
    "class CarLoan:\n",
    "    250 methods\n",
    "\n",
    "class PersonalLoan:\n",
    "    250 methods        \n",
    "\n",
    "\n",
    "750 methods \n",
    "75 hours development time required\n",
    "\n",
    "\n",
    "\n",
    "With Inheritance\n",
    "\n",
    "```python\n",
    "class Loan:\n",
    "    200 common methods\n",
    "\n",
    "class HomeLaon:\n",
    "    50 Home loan specific methods    \n",
    "\n",
    "class PersonalLaon:\n",
    "    50 Personal loan specific methods  \n",
    "\n",
    "\n",
    "\n",
    "350 methods only \n",
    "35 hours development time required\n"
   ]
  },
  {
   "cell_type": "markdown",
   "metadata": {},
   "source": [
    "Hence Importance of Inheritance are for:\n",
    "- code resuability and maintainability "
   ]
  },
  {
   "cell_type": "markdown",
   "metadata": {},
   "source": [
    "Difference between the HAS-A vs IS-A relationship\n",
    "\n",
    "If you want to extends existing functionality with some more extra functionality, then we should go for IS-A relationship\n",
    "\n",
    "e.g. Employee IS-A person\n"
   ]
  },
  {
   "cell_type": "markdown",
   "metadata": {},
   "source": [
    "If we want to extend and just we have to use existing functionality then we should go for HAS-A Relationship\n",
    "\n",
    "e.g. Employee HAS-A car"
   ]
  },
  {
   "cell_type": "markdown",
   "metadata": {},
   "source": [
    "![Has-a vs is-a](images/has-a-vs-is-a.png)"
   ]
  },
  {
   "cell_type": "code",
   "execution_count": 8,
   "metadata": {},
   "outputs": [
    {
     "name": "stdout",
     "output_type": "stream",
     "text": [
      "Eating vadapav and drinking lassi!\n",
      "Python programming based on the requirements\n",
      "Employee name: Durga\n",
      " age: 41\n",
      " Employee company name: DurgaSoft\n",
      " Employee id: 2344\n",
      " salary: 700000.\n",
      "Employee car information\n",
      "Car name: Range Rover model: 4.7V, color: Gray\n"
     ]
    }
   ],
   "source": [
    "class Car:\n",
    "    def __init__(self, name, model, color) -> None:\n",
    "        self.name = name\n",
    "        self.model = model\n",
    "        self.color= color\n",
    "\n",
    "    def getInfo(self):\n",
    "        print(f\"Car name: {self.name} model: {self.model}, color: {self.color}\")        \n",
    "\n",
    "\n",
    "class Person:\n",
    "    def __init__(self, name, age) -> None:\n",
    "        self.name = name\n",
    "        self.age = age\n",
    "\n",
    "    def eat_drink(self):\n",
    "        print(\"Eating vadapav and drinking lassi!\")\n",
    "\n",
    "\n",
    "class Employee(Person):\n",
    "    company = \"DurgaSoft\"\n",
    "    def __init__(self, name, age, eid, esal, car) -> None:\n",
    "        super().__init__(name, age)\n",
    "        self.eid = eid\n",
    "        self.esal = esal\n",
    "        self.car = car\n",
    "\n",
    "    def empWork(self):\n",
    "        print(\"Python programming based on the requirements\")\n",
    "\n",
    "    def empInfo(self):\n",
    "        print(f\"Employee name: {self.name}\\n age: {self.age}\\n Employee company name: {self.company}\\n Employee id: {self.eid}\\n salary: {self.esal}.\")\n",
    "        print(\"Employee car information\")\n",
    "        self.car.getInfo()  \n",
    "\n",
    "\n",
    "car = Car(\"Range Rover\", \"4.7V\", \"Gray\")\n",
    "emp = Employee(\"Durga\", 41, 2344, 700000, car)\n",
    "emp.eat_drink()\n",
    "emp.empWork()\n",
    "emp.empInfo()"
   ]
  },
  {
   "cell_type": "markdown",
   "metadata": {},
   "source": [
    "<h3>Composition and Aggregation</h3>"
   ]
  },
  {
   "cell_type": "markdown",
   "metadata": {},
   "source": [
    "#### Composition\n",
    "\n",
    "-  Without existing container object, if there is no chance of existing contained object, then container and contained objects are strongly associated and this strong association is nothing but composition"
   ]
  },
  {
   "cell_type": "code",
   "execution_count": null,
   "metadata": {},
   "outputs": [],
   "source": [
    "class University:\n",
    "    def __init__(self):\n",
    "        self.dept=self.Department()\n",
    "\n",
    "    class Department:\n",
    "        pass\n",
    "\n",
    "\n",
    "u = University()\n"
   ]
  },
  {
   "cell_type": "markdown",
   "metadata": {},
   "source": [
    "Aggregation:\n",
    "\n",
    "- Without existing container object, still there may be chance of existing contained object, then container and contained objects are weakly associated and this weak association is nothing but aggregation\n"
   ]
  },
  {
   "cell_type": "code",
   "execution_count": null,
   "metadata": {},
   "outputs": [],
   "source": [
    "class Professor:\n",
    "    pass\n",
    "\n",
    "class Department:\n",
    "    def __init__(self, prof) -> None:\n",
    "        self.prof = prof\n",
    "\n",
    "\n",
    "prof=Professor()\n",
    "csdept = Department(prof)\n",
    "itdept = Department(prof)"
   ]
  },
  {
   "cell_type": "code",
   "execution_count": 11,
   "metadata": {},
   "outputs": [
    {
     "name": "stdout",
     "output_type": "stream",
     "text": [
      "durgaSoft\n"
     ]
    }
   ],
   "source": [
    "class Student:\n",
    "    collageName=\"durgaSoft\"\n",
    "    def __init__(self, name) -> None:\n",
    "        self.name=name\n",
    "\n",
    "print(Student.collageName) # weak association - ther relation between the object and static variable is always considered as aggregation\n",
    "s=Student(\"Durga\") # composition -without existing student object there is no chnace of existing the student name , the relation between object and instance variable is always considered as composition(Strong association)  "
   ]
  },
  {
   "cell_type": "markdown",
   "metadata": {},
   "source": [
    "The relation between the object and instance variable is always composition\n",
    "\n",
    "The relation between the object and static variable is always aggregation"
   ]
  },
  {
   "cell_type": "markdown",
   "metadata": {},
   "source": [
    "Both having the HAS-A relation"
   ]
  },
  {
   "cell_type": "code",
   "execution_count": null,
   "metadata": {},
   "outputs": [],
   "source": [
    "# Types of inheritance\n",
    "# MRO Algoritham\n",
    "# Super()"
   ]
  }
 ],
 "metadata": {
  "kernelspec": {
   "display_name": "Python 3",
   "language": "python",
   "name": "python3"
  },
  "language_info": {
   "codemirror_mode": {
    "name": "ipython",
    "version": 3
   },
   "file_extension": ".py",
   "mimetype": "text/x-python",
   "name": "python",
   "nbconvert_exporter": "python",
   "pygments_lexer": "ipython3",
   "version": "3.11.5"
  }
 },
 "nbformat": 4,
 "nbformat_minor": 2
}
