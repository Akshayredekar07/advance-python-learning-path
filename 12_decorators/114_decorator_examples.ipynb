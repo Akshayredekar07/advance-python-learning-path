{
 "cells": [
  {
   "cell_type": "markdown",
   "metadata": {},
   "source": [
    "## Decorator\n",
    "- It is a function\n",
    "- It always take a function as argument(input function)\n",
    "- It will create a new function with extended functionality\n",
    "-  In this new function we may use the original function(input function)\n",
    "-  It will return that extended function as output.\n",
    "  \n",
    "- Without affecting original function, we can extend its functionality by using decorator"
   ]
  },
  {
   "cell_type": "code",
   "execution_count": 5,
   "metadata": {},
   "outputs": [],
   "source": [
    "def decor(func):\n",
    "    def inner():\n",
    "        print('Send person to beauty parlour')\n",
    "        print(\"Showing a person with full decoration\")\n",
    "\n",
    "    return inner"
   ]
  },
  {
   "cell_type": "code",
   "execution_count": 6,
   "metadata": {},
   "outputs": [
    {
     "name": "stdout",
     "output_type": "stream",
     "text": [
      "Send person to beauty parlour\n",
      "Showing a person with full decoration\n"
     ]
    }
   ],
   "source": [
    "@decor\n",
    "def display():\n",
    "    print('Showing a person as it')\n",
    "\n",
    "display()    "
   ]
  },
  {
   "cell_type": "code",
   "execution_count": 10,
   "metadata": {},
   "outputs": [],
   "source": [
    "def decorator_fun(func_param):\n",
    "    def inside(x,y):\n",
    "    # def inside():\n",
    "        # No of arguments shoud be same \n",
    "        # TypeError: decorator_fun.<locals>.inside() takes 0 positional arguments but 2 were given \n",
    "        print(f\"Sum of {} and {} is: {}\")\n",
    "        add(x,y)\n",
    "    return inside"
   ]
  },
  {
   "cell_type": "code",
   "execution_count": 31,
   "metadata": {},
   "outputs": [],
   "source": [
    "def decorator_fun(func_param):\n",
    "    def inside(x,y):\n",
    "        print(40*'*')\n",
    "        print(f\"Sum of {x} and {y} is:\")\n",
    "        func_param(x,y)\n",
    "        print(40*'*')\n",
    "    return inside"
   ]
  },
  {
   "cell_type": "code",
   "execution_count": 32,
   "metadata": {},
   "outputs": [
    {
     "name": "stdout",
     "output_type": "stream",
     "text": [
      "****************************************\n",
      "Sum of 10 and 20 is:\n",
      "30\n",
      "****************************************\n"
     ]
    }
   ],
   "source": [
    "@decorator_fun\n",
    "def add(a,b):\n",
    "     print(a+b)\n",
    "\n",
    "add(10, 20)"
   ]
  },
  {
   "cell_type": "code",
   "execution_count": 49,
   "metadata": {},
   "outputs": [],
   "source": [
    "def beautified(fun):\n",
    "    def inner(name):\n",
    "        names = ['CM', 'PM', 'prajakta']\n",
    "        if name in names:\n",
    "            print(f\"Very very good morning! {name}\")\n",
    "        else:\n",
    "            fun(name)\n",
    "\n",
    "    return inner            "
   ]
  },
  {
   "cell_type": "code",
   "execution_count": 50,
   "metadata": {},
   "outputs": [
    {
     "name": "stdout",
     "output_type": "stream",
     "text": [
      "Good morning: Durga\n",
      "Very very good morning! prajakta\n"
     ]
    }
   ],
   "source": [
    "@beautified\n",
    "def wish(name):\n",
    "    print('Good morning:', name)\n",
    "\n",
    "\n",
    "wish('Durga')    \n",
    "wish('prajakta')    "
   ]
  },
  {
   "cell_type": "code",
   "execution_count": null,
   "metadata": {},
   "outputs": [],
   "source": []
  },
  {
   "cell_type": "code",
   "execution_count": null,
   "metadata": {},
   "outputs": [],
   "source": []
  }
 ],
 "metadata": {
  "kernelspec": {
   "display_name": "Python 3",
   "language": "python",
   "name": "python3"
  },
  "language_info": {
   "codemirror_mode": {
    "name": "ipython",
    "version": 3
   },
   "file_extension": ".py",
   "mimetype": "text/x-python",
   "name": "python",
   "nbconvert_exporter": "python",
   "pygments_lexer": "ipython3",
   "version": "3.12.7"
  }
 },
 "nbformat": 4,
 "nbformat_minor": 2
}
