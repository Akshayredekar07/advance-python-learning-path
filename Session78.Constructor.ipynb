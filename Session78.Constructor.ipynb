{
 "cells": [
  {
   "cell_type": "code",
   "execution_count": 2,
   "id": "455bb9d5-13b9-4624-90e9-8b6a1eead80b",
   "metadata": {},
   "outputs": [],
   "source": [
    "\n",
    "class Test:\n",
    "    def __init__(self):\n",
    "        print(\"constructor executed!\")\n",
    "        "
   ]
  },
  {
   "cell_type": "code",
   "execution_count": 3,
   "id": "59146b97-3c96-4e47-b676-25678b0a6ab7",
   "metadata": {},
   "outputs": [
    {
     "name": "stdout",
     "output_type": "stream",
     "text": [
      "constructor executed!\n",
      "constructor executed!\n"
     ]
    }
   ],
   "source": [
    "t1 = Test()\n",
    "t2 = Test()"
   ]
  },
  {
   "cell_type": "code",
   "execution_count": 4,
   "id": "9765b5f0-33d6-4b45-8efa-5d378e5b7c70",
   "metadata": {},
   "outputs": [],
   "source": [
    "\n",
    "class Student():\n",
    "    def __init__(self, name, rollnum, marks):\n",
    "        self.name = name\n",
    "        self.rollnum = rollnum\n",
    "        self.marks = marks\n",
    "        "
   ]
  },
  {
   "cell_type": "code",
   "execution_count": 5,
   "id": "35d5c650-0acd-42ae-b78b-92419adc6c1e",
   "metadata": {},
   "outputs": [],
   "source": [
    "s1 = Student(\"virat\", 18, 100)"
   ]
  },
  {
   "cell_type": "markdown",
   "id": "b66ba443-c212-49bd-8ba8-b2ada1af9474",
   "metadata": {},
   "source": [
    "<i><br>1. Constructor is a special method.<br>\n",
    "2. The name of the constructor is always init()<br>\n",
    "3. We are not required to call constructor explicitly. It will be executed automatically when we are creating an object.<br>\n",
    "4. Per object, constructor will be executed only once.<br>\n",
    "5. The main purpose of constructor is to declare and initialize instance variables <br>init means initialization<br>\n",
    "6. Constructor atleast contains one argument \n",
    "</i>\n"
   ]
  },
  {
   "cell_type": "code",
   "execution_count": 6,
   "id": "da0cec86-9131-46f4-9a23-8c934ff27b3b",
   "metadata": {},
   "outputs": [],
   "source": [
    "\n",
    "class Test:\n",
    "    def m1(self):\n",
    "        print(\"This is valid\")\n",
    "\n",
    "t = Test()\n",
    "# Detault constructor will be executed which is provided by PVM\n"
   ]
  },
  {
   "cell_type": "markdown",
   "id": "58c61c4f-9a86-4733-b87f-a66c474d7486",
   "metadata": {},
   "source": [
    "<i style=\"color:deeppink;\">7. Within the python class constructor is optional. If we are not providing constructor will be provided by PVM </i> "
   ]
  },
  {
   "cell_type": "code",
   "execution_count": 7,
   "id": "84fc111e-ea76-4d59-8766-4ad3af824dcc",
   "metadata": {},
   "outputs": [],
   "source": [
    "class Test:\n",
    "    def __init__(self):\n",
    "        print(f\"Constructor execution! with id {id(self)}\")"
   ]
  },
  {
   "cell_type": "code",
   "execution_count": 8,
   "id": "c99bbca5-dde9-4239-844e-532283d87ba6",
   "metadata": {},
   "outputs": [
    {
     "name": "stdout",
     "output_type": "stream",
     "text": [
      "Constructor execution! with id 3028624611920\n",
      "Constructor execution! with id 3028624611920\n",
      "Constructor execution! with id 3028624611920\n"
     ]
    }
   ],
   "source": [
    "t = Test()\n",
    "t.__init__()\n",
    "t.__init__()"
   ]
  },
  {
   "cell_type": "markdown",
   "id": "39573ed3-2d25-4da9-8c80-fe61b2762d89",
   "metadata": {},
   "source": [
    "<i style=\"color:deeppink;\">8. We can call the constructor explictly, then it will be executed just like a normal method, new object won't be created</i> "
   ]
  },
  {
   "cell_type": "code",
   "execution_count": 9,
   "id": "2624ba3e-a304-4033-bf50-63401c573016",
   "metadata": {},
   "outputs": [],
   "source": [
    "\n",
    "class Test:\n",
    "    \n",
    "    def __init__(self):\n",
    "        print(\"No-arg constructor!\")\n",
    "\n",
    "    def __init__(self, x):\n",
    "        print(\"One-arg constructor!\")\n",
    "        \n"
   ]
  },
  {
   "cell_type": "code",
   "execution_count": 10,
   "id": "d79b7461-7fa4-4a20-87fa-a1ef82368803",
   "metadata": {},
   "outputs": [
    {
     "name": "stdout",
     "output_type": "stream",
     "text": [
      "One-arg constructor!\n"
     ]
    }
   ],
   "source": [
    "# t = Test() \n",
    "# TypeError: Test.__init__() missing 1 required positional argument: 'x'\n",
    "t = Test(10)"
   ]
  },
  {
   "cell_type": "markdown",
   "id": "b4179e3e-af2d-47b1-b75d-edded2194acc",
   "metadata": {},
   "source": [
    "<i style=\"color:#fff;\">9. Python does not support construtor and method overloading like java<br>10. If we are trying to declare multiple constructor, PVM will always consider only last constructor.</i> "
   ]
  },
  {
   "cell_type": "code",
   "execution_count": 11,
   "id": "eb55ef68-13f9-40cc-9218-1b1dac466b29",
   "metadata": {},
   "outputs": [],
   "source": [
    "\n",
    "class Test:\n",
    "    def __init__(self, name):\n",
    "        self.name = name\n",
    "          "
   ]
  },
  {
   "cell_type": "code",
   "execution_count": 12,
   "id": "1d9f35d5-c0bc-4607-91cd-74259b3d29b5",
   "metadata": {},
   "outputs": [
    {
     "name": "stdout",
     "output_type": "stream",
     "text": [
      "Durga\n"
     ]
    }
   ],
   "source": [
    "t = Test(\"Durga\")\n",
    "print(t.name)"
   ]
  },
  {
   "cell_type": "code",
   "execution_count": 13,
   "id": "72dd18e5-5e48-4ef3-ba00-d4003aa6252a",
   "metadata": {},
   "outputs": [
    {
     "name": "stdout",
     "output_type": "stream",
     "text": [
      "Saraswati\n"
     ]
    }
   ],
   "source": [
    "t.__init__(\"Saraswati\")\n",
    "print(t.name)"
   ]
  },
  {
   "cell_type": "code",
   "execution_count": 14,
   "id": "14faf24b-abea-40a8-96d5-b5faae901e5f",
   "metadata": {},
   "outputs": [],
   "source": [
    "\n",
    "class Test:\n",
    "    def Test(self):\n",
    "        print(\"Special method!\")\n",
    "        "
   ]
  },
  {
   "cell_type": "code",
   "execution_count": 15,
   "id": "eba5df54-2929-4eaf-a5b0-ca3de724afe6",
   "metadata": {},
   "outputs": [],
   "source": [
    "t = Test()"
   ]
  },
  {
   "cell_type": "code",
   "execution_count": 16,
   "id": "62749946-0493-4adc-9fbc-f581e47fdbcd",
   "metadata": {},
   "outputs": [],
   "source": [
    "# default __init__() will be executed not a special method "
   ]
  },
  {
   "cell_type": "code",
   "execution_count": 17,
   "id": "a6dc2861-4a5b-444b-a546-b6bb14b7b07f",
   "metadata": {},
   "outputs": [
    {
     "name": "stdout",
     "output_type": "stream",
     "text": [
      "Special method!\n"
     ]
    }
   ],
   "source": [
    "#Calling the method\n",
    "t.Test()"
   ]
  },
  {
   "cell_type": "code",
   "execution_count": 18,
   "id": "3ad51db3-8efd-486f-9d26-2b28d960c9d7",
   "metadata": {},
   "outputs": [
    {
     "name": "stdout",
     "output_type": "stream",
     "text": [
      "\n",
      "\n",
      "\n"
     ]
    }
   ],
   "source": [
    "print(\"\\n\\n\")"
   ]
  },
  {
   "cell_type": "markdown",
   "id": "33195a13-98b7-4a42-a4dc-6d1120418e58",
   "metadata": {},
   "source": [
    "<i>\n",
    "<table style=\"\">\n",
    "<thead>\n",
    "<th>Method</th>\n",
    "<th>Constructor</th>\n",
    "</thead>\n",
    "<tbody>\n",
    "    <tr>\n",
    "        <th>Method name can be anything</th>\n",
    "        <th>Constructor name shoud be __init__()</th>\n",
    "    </tr>\n",
    "        <tr>\n",
    "        <th>Method won't be execute automatically, we have to call explicitly</th>\n",
    "        <th>Constructors will be executed automatically. whenever we are creating an object</th>\n",
    "    </tr>\n",
    "    <tr>\n",
    "        <th>For each object we can call method any number of times</th>\n",
    "        <th>For each object constructor will be executed only onces</th>\n",
    "    </tr>\n",
    "    <tr>\n",
    "        <th>Inside method, we can write business logic based on requirement.</th>\n",
    "        <th>Inside constructor we have to write code to declare and initilize instance variables</th>\n",
    "    </tr>\n",
    "</tbody>\n",
    "</table>\n",
    "</i>"
   ]
  },
  {
   "cell_type": "markdown",
   "id": "1931868a",
   "metadata": {},
   "source": []
  }
 ],
 "metadata": {
  "kernelspec": {
   "display_name": "Python 3 (ipykernel)",
   "language": "python",
   "name": "python3"
  },
  "language_info": {
   "codemirror_mode": {
    "name": "ipython",
    "version": 3
   },
   "file_extension": ".py",
   "mimetype": "text/x-python",
   "name": "python",
   "nbconvert_exporter": "python",
   "pygments_lexer": "ipython3",
   "version": "3.11.5"
  }
 },
 "nbformat": 4,
 "nbformat_minor": 5
}
