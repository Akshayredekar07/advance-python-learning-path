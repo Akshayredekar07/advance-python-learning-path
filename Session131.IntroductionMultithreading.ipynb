{
 "cells": [
  {
   "cell_type": "markdown",
   "metadata": {},
   "source": [
    "## **Multi Threading**\n",
    "\n",
    "### **Multi Tasking**\n",
    "\n",
    "Executing several tasks simultaneously is the concept of multitasking.\n",
    "\n",
    "### **Types of Multi Tasking**\n",
    "\n",
    "1. **Process-based Multi Tasking**  \n",
    "2. **Thread-based Multi Tasking**"
   ]
  },
  {
   "cell_type": "markdown",
   "metadata": {},
   "source": [
    "### **1. Process-based Multi Tasking**\n",
    "\n",
    "Executing several tasks simultaneously where each task is a separate independent process is called process-based multitasking.\n",
    "\n",
    "#### **Example:**\n",
    "- While typing a Python program in the editor, we can listen to MP3 audio songs from the same system.  \n",
    "- At the same time, we can download a file from the internet.  \n",
    "- All these tasks are executing simultaneously and are independent of each other.  \n",
    "\n",
    "Hence, this is process-based multitasking.\n",
    "\n",
    "#### **Key Points:**\n",
    "- Best suited at the **operating system level**."
   ]
  },
  {
   "cell_type": "markdown",
   "metadata": {},
   "source": [
    "### **2. Thread-based Multi Tasking**\n",
    "\n",
    "Executing several tasks simultaneously where each task is a separate independent part of the same program is called thread-based multitasking.  \n",
    "Each independent part is called a **Thread**.\n",
    "\n",
    "#### **Key Points:**\n",
    "- Best suited at the **programmatic level**.\n",
    "\n",
    "### **Note:**\n",
    "\n",
    "- Whether it is process-based or thread-based, the main advantage of multitasking is **improving system performance by reducing response time**.\n",
    "\n",
    "#### **Application Areas of Multi-Threading:**\n",
    "1. Implementing multimedia graphics  \n",
    "2. Developing animations  \n",
    "3. Developing video games  \n",
    "4. Developing web and application servers  \n",
    "    ...and more\n",
    "\n",
    "Wherever a group of independent jobs are available, it is highly recommended to execute them simultaneously instead of one by one.  \n",
    "For such cases, **multi-threading** is the preferred approach.\n"
   ]
  },
  {
   "cell_type": "markdown",
   "metadata": {},
   "source": [
    "### **Python and Multi-Threading**\n",
    "\n",
    "Python provides an inbuilt module, **`threading`**, to support thread development.  \n",
    "Developing multi-threaded programs in Python is very easy.\n",
    "\n",
    "### **Default Thread in Python**\n",
    "\n",
    "Every Python program by default contains **one thread**, which is called **MainThread**.\n",
    "\n",
    "#### **Example:**\n",
    "```python\n",
    "import threading\n",
    "print(\"Current Executing Thread:\", threading.current_thread().getName())\n",
    "```\n",
    "\n",
    "**Output:**\n",
    "```\n",
    "Current Executing Thread: MainThread\n",
    "```\n",
    "- The `threading` module contains the function `current_thread()`, which returns the current executing thread object.\n",
    "- Calling the `getName()` method on this object returns the name of the current thread.\n",
    "\n",
    "\n",
    "### **Creating Threads in Python**\n",
    "\n",
    "We can create a thread in Python in three ways:\n",
    "\n",
    "1. **Creating a Thread without using any class**  \n",
    "2. **Creating a Thread by extending the `Thread` class**  \n",
    "3. **Creating a Thread without extending the `Thread` class**\n",
    "\n"
   ]
  }
 ],
 "metadata": {
  "language_info": {
   "name": "python"
  }
 },
 "nbformat": 4,
 "nbformat_minor": 2
}
