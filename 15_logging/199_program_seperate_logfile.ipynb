{
 "cells": [
  {
   "cell_type": "code",
   "execution_count": 1,
   "metadata": {},
   "outputs": [],
   "source": [
    "# inspect module "
   ]
  },
  {
   "cell_type": "code",
   "execution_count": 3,
   "metadata": {},
   "outputs": [],
   "source": [
    "import inspect\n",
    "def get_info():\n",
    "    print(inspect.stack())"
   ]
  },
  {
   "cell_type": "code",
   "execution_count": 4,
   "metadata": {},
   "outputs": [],
   "source": [
    "\n",
    "def f1():\n",
    "    get_info()\n",
    "\n"
   ]
  },
  {
   "cell_type": "code",
   "execution_count": 5,
   "metadata": {},
   "outputs": [
    {
     "name": "stdout",
     "output_type": "stream",
     "text": [
      "[FrameInfo(frame=<frame at 0x000002337259C420, file 'C:\\\\Users\\\\Admin\\\\AppData\\\\Local\\\\Temp\\\\ipykernel_12704\\\\3407579136.py', line 3, code get_info>, filename='C:\\\\Users\\\\Admin\\\\AppData\\\\Local\\\\Temp\\\\ipykernel_12704\\\\3407579136.py', lineno=3, function='get_info', code_context=['    print(inspect.stack())\\n'], index=0), FrameInfo(frame=<frame at 0x0000023370AA7370, file 'C:\\\\Users\\\\Admin\\\\AppData\\\\Local\\\\Temp\\\\ipykernel_12704\\\\3840544363.py', line 2, code f1>, filename='C:\\\\Users\\\\Admin\\\\AppData\\\\Local\\\\Temp\\\\ipykernel_12704\\\\3840544363.py', lineno=2, function='f1', code_context=['    get_info()\\n'], index=0), FrameInfo(frame=<frame at 0x000002337150B880, file 'C:\\\\Users\\\\Admin\\\\AppData\\\\Local\\\\Temp\\\\ipykernel_12704\\\\2719331641.py', line 1, code <module>>, filename='C:\\\\Users\\\\Admin\\\\AppData\\\\Local\\\\Temp\\\\ipykernel_12704\\\\2719331641.py', lineno=1, function='<module>', code_context=['f1()\\n'], index=0), FrameInfo(frame=<frame at 0x00000233706EB920, file 'C:\\\\Users\\\\Admin\\\\AppData\\\\Roaming\\\\Python\\\\Python310\\\\site-packages\\\\IPython\\\\core\\\\interactiveshell.py', line 3577, code run_code>, filename='C:\\\\Users\\\\Admin\\\\AppData\\\\Roaming\\\\Python\\\\Python310\\\\site-packages\\\\IPython\\\\core\\\\interactiveshell.py', lineno=3577, function='run_code', code_context=['                    exec(code_obj, self.user_global_ns, self.user_ns)\\n'], index=0), FrameInfo(frame=<frame at 0x000002336F182E00, file 'C:\\\\Users\\\\Admin\\\\AppData\\\\Roaming\\\\Python\\\\Python310\\\\site-packages\\\\IPython\\\\core\\\\interactiveshell.py', line 3517, code run_ast_nodes>, filename='C:\\\\Users\\\\Admin\\\\AppData\\\\Roaming\\\\Python\\\\Python310\\\\site-packages\\\\IPython\\\\core\\\\interactiveshell.py', lineno=3517, function='run_ast_nodes', code_context=['                if await self.run_code(code, result, async_=asy):\\n'], index=0), FrameInfo(frame=<frame at 0x0000023370C65A20, file 'C:\\\\Users\\\\Admin\\\\AppData\\\\Roaming\\\\Python\\\\Python310\\\\site-packages\\\\IPython\\\\core\\\\interactiveshell.py', line 3334, code run_cell_async>, filename='C:\\\\Users\\\\Admin\\\\AppData\\\\Roaming\\\\Python\\\\Python310\\\\site-packages\\\\IPython\\\\core\\\\interactiveshell.py', lineno=3334, function='run_cell_async', code_context=['                has_raised = await self.run_ast_nodes(code_ast.body, cell_name,\\n'], index=0), FrameInfo(frame=<frame at 0x0000023371508F40, file 'C:\\\\Users\\\\Admin\\\\AppData\\\\Roaming\\\\Python\\\\Python310\\\\site-packages\\\\IPython\\\\core\\\\async_helpers.py', line 128, code _pseudo_sync_runner>, filename='C:\\\\Users\\\\Admin\\\\AppData\\\\Roaming\\\\Python\\\\Python310\\\\site-packages\\\\IPython\\\\core\\\\async_helpers.py', lineno=128, function='_pseudo_sync_runner', code_context=['        coro.send(None)\\n'], index=0), FrameInfo(frame=<frame at 0x0000023370C65380, file 'C:\\\\Users\\\\Admin\\\\AppData\\\\Roaming\\\\Python\\\\Python310\\\\site-packages\\\\IPython\\\\core\\\\interactiveshell.py', line 3130, code _run_cell>, filename='C:\\\\Users\\\\Admin\\\\AppData\\\\Roaming\\\\Python\\\\Python310\\\\site-packages\\\\IPython\\\\core\\\\interactiveshell.py', lineno=3130, function='_run_cell', code_context=['            result = runner(coro)\\n'], index=0), FrameInfo(frame=<frame at 0x000002337157F720, file 'C:\\\\Users\\\\Admin\\\\AppData\\\\Roaming\\\\Python\\\\Python310\\\\site-packages\\\\IPython\\\\core\\\\interactiveshell.py', line 3075, code run_cell>, filename='C:\\\\Users\\\\Admin\\\\AppData\\\\Roaming\\\\Python\\\\Python310\\\\site-packages\\\\IPython\\\\core\\\\interactiveshell.py', lineno=3075, function='run_cell', code_context=['            result = self._run_cell(\\n'], index=0), FrameInfo(frame=<frame at 0x0000023370C65030, file 'C:\\\\Users\\\\Admin\\\\AppData\\\\Roaming\\\\Python\\\\Python310\\\\site-packages\\\\ipykernel\\\\zmqshell.py', line 549, code run_cell>, filename='C:\\\\Users\\\\Admin\\\\AppData\\\\Roaming\\\\Python\\\\Python310\\\\site-packages\\\\ipykernel\\\\zmqshell.py', lineno=549, function='run_cell', code_context=['        return super().run_cell(*args, **kwargs)\\n'], index=0), FrameInfo(frame=<frame at 0x0000023370AA6970, file 'C:\\\\Users\\\\Admin\\\\AppData\\\\Roaming\\\\Python\\\\Python310\\\\site-packages\\\\ipykernel\\\\ipkernel.py', line 449, code do_execute>, filename='C:\\\\Users\\\\Admin\\\\AppData\\\\Roaming\\\\Python\\\\Python310\\\\site-packages\\\\ipykernel\\\\ipkernel.py', lineno=449, function='do_execute', code_context=['                    res = shell.run_cell(\\n'], index=0), FrameInfo(frame=<frame at 0x0000023370BA06F0, file 'C:\\\\Users\\\\Admin\\\\AppData\\\\Roaming\\\\Python\\\\Python310\\\\site-packages\\\\ipykernel\\\\kernelbase.py', line 778, code execute_request>, filename='C:\\\\Users\\\\Admin\\\\AppData\\\\Roaming\\\\Python\\\\Python310\\\\site-packages\\\\ipykernel\\\\kernelbase.py', lineno=778, function='execute_request', code_context=['            reply_content = await reply_content\\n'], index=0), FrameInfo(frame=<frame at 0x0000023371514CF0, file 'C:\\\\Users\\\\Admin\\\\AppData\\\\Roaming\\\\Python\\\\Python310\\\\site-packages\\\\ipykernel\\\\ipkernel.py', line 362, code execute_request>, filename='C:\\\\Users\\\\Admin\\\\AppData\\\\Roaming\\\\Python\\\\Python310\\\\site-packages\\\\ipykernel\\\\ipkernel.py', lineno=362, function='execute_request', code_context=['        await super().execute_request(stream, ident, parent)\\n'], index=0), FrameInfo(frame=<frame at 0x0000023370911540, file 'C:\\\\Users\\\\Admin\\\\AppData\\\\Roaming\\\\Python\\\\Python310\\\\site-packages\\\\ipykernel\\\\kernelbase.py', line 437, code dispatch_shell>, filename='C:\\\\Users\\\\Admin\\\\AppData\\\\Roaming\\\\Python\\\\Python310\\\\site-packages\\\\ipykernel\\\\kernelbase.py', lineno=437, function='dispatch_shell', code_context=['                    await result\\n'], index=0), FrameInfo(frame=<frame at 0x00000233714BF680, file 'C:\\\\Users\\\\Admin\\\\AppData\\\\Roaming\\\\Python\\\\Python310\\\\site-packages\\\\ipykernel\\\\kernelbase.py', line 534, code process_one>, filename='C:\\\\Users\\\\Admin\\\\AppData\\\\Roaming\\\\Python\\\\Python310\\\\site-packages\\\\ipykernel\\\\kernelbase.py', lineno=534, function='process_one', code_context=['        await dispatch(*args)\\n'], index=0), FrameInfo(frame=<frame at 0x00000233715058C0, file 'C:\\\\Users\\\\Admin\\\\AppData\\\\Roaming\\\\Python\\\\Python310\\\\site-packages\\\\ipykernel\\\\kernelbase.py', line 545, code dispatch_queue>, filename='C:\\\\Users\\\\Admin\\\\AppData\\\\Roaming\\\\Python\\\\Python310\\\\site-packages\\\\ipykernel\\\\kernelbase.py', lineno=545, function='dispatch_queue', code_context=['                await self.process_one()\\n'], index=0), FrameInfo(frame=<frame at 0x0000023370ACDF80, file 'c:\\\\Users\\\\Admin\\\\AppData\\\\Local\\\\Programs\\\\Python\\\\Python310\\\\lib\\\\asyncio\\\\events.py', line 80, code _run>, filename='c:\\\\Users\\\\Admin\\\\AppData\\\\Local\\\\Programs\\\\Python\\\\Python310\\\\lib\\\\asyncio\\\\events.py', lineno=80, function='_run', code_context=['            self._context.run(self._callback, *self._args)\\n'], index=0), FrameInfo(frame=<frame at 0x00000233706EA110, file 'c:\\\\Users\\\\Admin\\\\AppData\\\\Local\\\\Programs\\\\Python\\\\Python310\\\\lib\\\\asyncio\\\\base_events.py', line 1906, code _run_once>, filename='c:\\\\Users\\\\Admin\\\\AppData\\\\Local\\\\Programs\\\\Python\\\\Python310\\\\lib\\\\asyncio\\\\base_events.py', lineno=1906, function='_run_once', code_context=['                handle._run()\\n'], index=0), FrameInfo(frame=<frame at 0x0000023370AE1400, file 'c:\\\\Users\\\\Admin\\\\AppData\\\\Local\\\\Programs\\\\Python\\\\Python310\\\\lib\\\\asyncio\\\\base_events.py', line 603, code run_forever>, filename='c:\\\\Users\\\\Admin\\\\AppData\\\\Local\\\\Programs\\\\Python\\\\Python310\\\\lib\\\\asyncio\\\\base_events.py', lineno=603, function='run_forever', code_context=['                self._run_once()\\n'], index=0), FrameInfo(frame=<frame at 0x00000233714BE8F0, file 'C:\\\\Users\\\\Admin\\\\AppData\\\\Roaming\\\\Python\\\\Python310\\\\site-packages\\\\tornado\\\\platform\\\\asyncio.py', line 205, code start>, filename='C:\\\\Users\\\\Admin\\\\AppData\\\\Roaming\\\\Python\\\\Python310\\\\site-packages\\\\tornado\\\\platform\\\\asyncio.py', lineno=205, function='start', code_context=['        self.asyncio_loop.run_forever()\\n'], index=0), FrameInfo(frame=<frame at 0x00000233703E0BE0, file 'C:\\\\Users\\\\Admin\\\\AppData\\\\Roaming\\\\Python\\\\Python310\\\\site-packages\\\\ipykernel\\\\kernelapp.py', line 739, code start>, filename='C:\\\\Users\\\\Admin\\\\AppData\\\\Roaming\\\\Python\\\\Python310\\\\site-packages\\\\ipykernel\\\\kernelapp.py', lineno=739, function='start', code_context=['                self.io_loop.start()\\n'], index=0), FrameInfo(frame=<frame at 0x000002336F1FE000, file 'C:\\\\Users\\\\Admin\\\\AppData\\\\Roaming\\\\Python\\\\Python310\\\\site-packages\\\\traitlets\\\\config\\\\application.py', line 1075, code launch_instance>, filename='C:\\\\Users\\\\Admin\\\\AppData\\\\Roaming\\\\Python\\\\Python310\\\\site-packages\\\\traitlets\\\\config\\\\application.py', lineno=1075, function='launch_instance', code_context=['        app.start()\\n'], index=0), FrameInfo(frame=<frame at 0x000002336CBD5EA0, file 'C:\\\\Users\\\\Admin\\\\AppData\\\\Roaming\\\\Python\\\\Python310\\\\site-packages\\\\ipykernel_launcher.py', line 18, code <module>>, filename='C:\\\\Users\\\\Admin\\\\AppData\\\\Roaming\\\\Python\\\\Python310\\\\site-packages\\\\ipykernel_launcher.py', lineno=18, function='<module>', code_context=['    app.launch_new_instance()\\n'], index=0), FrameInfo(frame=<frame at 0x000002336C588C30, file 'c:\\\\Users\\\\Admin\\\\AppData\\\\Local\\\\Programs\\\\Python\\\\Python310\\\\lib\\\\runpy.py', line 86, code _run_code>, filename='c:\\\\Users\\\\Admin\\\\AppData\\\\Local\\\\Programs\\\\Python\\\\Python310\\\\lib\\\\runpy.py', lineno=86, function='_run_code', code_context=['    exec(code, run_globals)\\n'], index=0), FrameInfo(frame=<frame at 0x000002336CBB9C40, file 'c:\\\\Users\\\\Admin\\\\AppData\\\\Local\\\\Programs\\\\Python\\\\Python310\\\\lib\\\\runpy.py', line 196, code _run_module_as_main>, filename='c:\\\\Users\\\\Admin\\\\AppData\\\\Local\\\\Programs\\\\Python\\\\Python310\\\\lib\\\\runpy.py', lineno=196, function='_run_module_as_main', code_context=['    return _run_code(code, main_globals, None,\\n'], index=0)]\n"
     ]
    }
   ],
   "source": [
    "f1()"
   ]
  },
  {
   "cell_type": "code",
   "execution_count": null,
   "metadata": {},
   "outputs": [],
   "source": []
  }
 ],
 "metadata": {
  "kernelspec": {
   "display_name": "Python 3",
   "language": "python",
   "name": "python3"
  },
  "language_info": {
   "codemirror_mode": {
    "name": "ipython",
    "version": 3
   },
   "file_extension": ".py",
   "mimetype": "text/x-python",
   "name": "python",
   "nbconvert_exporter": "python",
   "pygments_lexer": "ipython3",
   "version": "3.10.9"
  }
 },
 "nbformat": 4,
 "nbformat_minor": 2
}
