{
 "cells": [
  {
   "cell_type": "markdown",
   "id": "5be53cda-fc95-461a-85bb-bb0cbef84e49",
   "metadata": {},
   "source": [
    "TYPES OF VARIABLES\n",
    "- Instance method :  no decorator\n",
    "- class method    :  @classmethod (mandatory)\n",
    "- static method   :  @staticmethod (optional)"
   ]
  },
  {
   "cell_type": "code",
   "execution_count": null,
   "id": "75df5a70-ce0c-424d-be25-c950dcae6feb",
   "metadata": {},
   "outputs": [],
   "source": []
  }
 ],
 "metadata": {
  "kernelspec": {
   "display_name": "Python 3 (ipykernel)",
   "language": "python",
   "name": "python3"
  },
  "language_info": {
   "codemirror_mode": {
    "name": "ipython",
    "version": 3
   },
   "file_extension": ".py",
   "mimetype": "text/x-python",
   "name": "python",
   "nbconvert_exporter": "python",
   "pygments_lexer": "ipython3",
   "version": "3.11.5"
  }
 },
 "nbformat": 4,
 "nbformat_minor": 5
}
